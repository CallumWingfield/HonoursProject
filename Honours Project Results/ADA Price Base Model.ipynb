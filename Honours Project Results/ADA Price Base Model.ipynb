{
 "cells": [
  {
   "cell_type": "markdown",
   "id": "bf02524a",
   "metadata": {
    "id": "125a9138"
   },
   "source": [
    "# Importing Python libraries"
   ]
  },
  {
   "cell_type": "code",
   "execution_count": 1,
   "id": "79e2d460",
   "metadata": {
    "colab": {
     "base_uri": "https://localhost:8080/",
     "height": 443
    },
    "id": "f9aadf58",
    "outputId": "e0e41f09-e8ee-4ca4-9509-8bdf8f2f71ff",
    "scrolled": true
   },
   "outputs": [
    {
     "name": "stderr",
     "output_type": "stream",
     "text": [
      "C:\\Users\\callu\\anaconda3\\lib\\site-packages\\xgboost\\compat.py:36: FutureWarning: pandas.Int64Index is deprecated and will be removed from pandas in a future version. Use pandas.Index with the appropriate dtype instead.\n",
      "  from pandas import MultiIndex, Int64Index\n",
      "C:\\Users\\callu\\anaconda3\\lib\\site-packages\\statsmodels\\compat\\pandas.py:61: FutureWarning: pandas.Int64Index is deprecated and will be removed from pandas in a future version. Use pandas.Index with the appropriate dtype instead.\n",
      "  from pandas import Int64Index as NumericIndex\n"
     ]
    }
   ],
   "source": [
    "import numpy as np  # library for numeric calculations   \n",
    "import pandas as pd # library for reading data \n",
    "import seaborn as sns # library for plots \n",
    "from matplotlib import cm # library fo plots \n",
    "import matplotlib.pyplot as plt # library for plots \n",
    "from datetime import datetime # library to get the current time \n",
    "import datetime # library for time \n",
    "from sklearn.metrics import mean_squared_error # library for evaluation  mse \n",
    "from sklearn.metrics import mean_absolute_percentage_error\n",
    "from math import sqrt  # library for evaluation  rmse\n",
    "from sklearn.metrics import mean_absolute_error # library for evaluation mae \n",
    "from prettytable import PrettyTable # library for for comparison in tables \n",
    "from plotly.subplots import make_subplots # library for plots \n",
    "import plotly.graph_objs as go # library for plots \n",
    "from sklearn.linear_model import LinearRegression # library for linear regression model training \n",
    "import xgboost # library for xgboost model training \n",
    "from sklearn.ensemble import RandomForestRegressor # library for random forest model training \n",
    "from sklearn import linear_model # library for ridge model training \n",
    "from sklearn.neural_network import MLPRegressor # library for Mlp model training \n",
    "from matplotlib import pyplot\n",
    "from statsmodels.tsa.arima.model import ARIMA\n",
    "import statsmodels.api as smapi\n",
    "\n",
    "from sklearn.metrics import mean_squared_error\n",
    "from math import sqrt\n",
    "from sklearn.svm import SVR # library for SVR model training \n",
    "from sklearn.neighbors import KNeighborsRegressor # library for KNN model training \n",
    "from statsmodels.tsa.statespace.sarimax import SARIMAX # library for Sarima model training \n",
    "from keras.models import Model # library for for LSTM model \n",
    "from keras.layers import LSTM, Activation, Input, Embedding # library for LSTM\n",
    "from keras.layers import Activation # library for RNN \n",
    "from keras.models import Sequential # library for RNN \n",
    "from keras.layers import Dense, Conv1D, Flatten, Dropout # library for LSTM\n",
    "import datetime as dt #library for dates \n",
    "from binance import Client #library for getting python binance data\n",
    "from binance import *\n",
    "from sklearn.model_selection import RandomizedSearchCV #library for seraching best parametr\n",
    "from keras.wrappers.scikit_learn import KerasClassifier #library for neural network model\n",
    "from sklearn.model_selection import GridSearchCV #library for searching best parameter\n",
    "from nltk.corpus import stopwords \n",
    "from nltk.stem import PorterStemmer  \n",
    "from nltk.tokenize import word_tokenize \n",
    "from nltk.tokenize import RegexpTokenizer \n",
    "import re \n",
    "import string\n",
    "from collections import Counter \n",
    "from sklearn import preprocessing\n",
    "from matplotlib import rcParams\n",
    "from sklearn.feature_extraction.text import TfidfVectorizer\n",
    "import tweepy as tw \n",
    "\n",
    "from wordcloud import WordCloud\n",
    "import nltk\n",
    "from nltk import word_tokenize\n",
    "from collections import Counter\n",
    "from nltk.tokenize import RegexpTokenizer\n",
    "from nltk.corpus import stopwords\n",
    "import re\n",
    "import spacy\n",
    "from keras.preprocessing.text import Tokenizer\n",
    "import matplotlib.cm as cm\n",
    "from matplotlib import rcParams\n",
    "from vaderSentiment.vaderSentiment import SentimentIntensityAnalyzer\n",
    "\n",
    "\n",
    "import warnings # library to avoid system erros \n",
    "warnings.filterwarnings(\"ignore\")  # library to avoid system erros "
   ]
  },
  {
   "cell_type": "markdown",
   "id": "62dfa765",
   "metadata": {
    "id": "19a6d59e"
   },
   "source": [
    "# ------------------------------------------------------------------------------------------------------"
   ]
  },
  {
   "cell_type": "markdown",
   "id": "bb6244c4",
   "metadata": {},
   "source": [
    "## Settings"
   ]
  },
  {
   "cell_type": "code",
   "execution_count": 2,
   "id": "feaba79d",
   "metadata": {},
   "outputs": [],
   "source": [
    "cryptoTicker = \"ETH\"\n",
    "cryptoPair = \"USDT\"\n",
    "\n",
    "trainTestSplit = 0.8"
   ]
  },
  {
   "cell_type": "markdown",
   "id": "2610a21e",
   "metadata": {
    "id": "19a6d59e"
   },
   "source": [
    "# ------------------------------------------------------------------------------------------------------"
   ]
  },
  {
   "cell_type": "markdown",
   "id": "fe89045f",
   "metadata": {
    "id": "d8d7a44a"
   },
   "source": [
    "### Loading dataset price data"
   ]
  },
  {
   "cell_type": "code",
   "execution_count": 3,
   "id": "ebf7ca5e",
   "metadata": {
    "id": "2ce5bf42"
   },
   "outputs": [],
   "source": [
    "api_key = '//' \n",
    "api_secret = '//'\n",
    "client = Client(api_key, api_secret)\n",
    "klines = client.get_historical_klines(\"ADAUSDT\", Client.KLINE_INTERVAL_4HOUR, \"2021-01-01\", \"2022-01-01\")\n",
    "data = pd.DataFrame(klines)\n",
    "data.columns = ['open_time','open', 'high', 'low', 'close', 'volume','close_time', 'qav','num_trades','taker_base_vol','taker_quote_vol', 'ignore']\n",
    "data.index = [dt.datetime.fromtimestamp(x/1000.0) for x in data.close_time]\n",
    "data=data[['close']]\n",
    "data.head()\n",
    "data = data.iloc[:-1 , :]"
   ]
  },
  {
   "cell_type": "markdown",
   "id": "28e8343a",
   "metadata": {
    "id": "47f7d9eb"
   },
   "source": [
    "# Exploratory Data analysis"
   ]
  },
  {
   "cell_type": "markdown",
   "id": "679419ed",
   "metadata": {
    "id": "ea84d26f"
   },
   "source": [
    "# ------------------------------------------------------------------------------------------------------"
   ]
  },
  {
   "cell_type": "markdown",
   "id": "c7d8cf40",
   "metadata": {
    "id": "760697cb"
   },
   "source": [
    "### Five top records of data"
   ]
  },
  {
   "cell_type": "code",
   "execution_count": 4,
   "id": "e353bd87",
   "metadata": {
    "colab": {
     "base_uri": "https://localhost:8080/",
     "height": 238
    },
    "id": "3299c27a",
    "outputId": "48bc1b27-5eb0-4e89-fa76-cc158091d61e"
   },
   "outputs": [
    {
     "data": {
      "text/html": [
       "<div>\n",
       "<style scoped>\n",
       "    .dataframe tbody tr th:only-of-type {\n",
       "        vertical-align: middle;\n",
       "    }\n",
       "\n",
       "    .dataframe tbody tr th {\n",
       "        vertical-align: top;\n",
       "    }\n",
       "\n",
       "    .dataframe thead th {\n",
       "        text-align: right;\n",
       "    }\n",
       "</style>\n",
       "<table border=\"1\" class=\"dataframe\">\n",
       "  <thead>\n",
       "    <tr style=\"text-align: right;\">\n",
       "      <th></th>\n",
       "      <th>close</th>\n",
       "    </tr>\n",
       "  </thead>\n",
       "  <tbody>\n",
       "    <tr>\n",
       "      <th>2021-01-01 03:59:59.999</th>\n",
       "      <td>0.18292000</td>\n",
       "    </tr>\n",
       "    <tr>\n",
       "      <th>2021-01-01 07:59:59.999</th>\n",
       "      <td>0.17955000</td>\n",
       "    </tr>\n",
       "    <tr>\n",
       "      <th>2021-01-01 11:59:59.999</th>\n",
       "      <td>0.17950000</td>\n",
       "    </tr>\n",
       "    <tr>\n",
       "      <th>2021-01-01 15:59:59.999</th>\n",
       "      <td>0.18055000</td>\n",
       "    </tr>\n",
       "    <tr>\n",
       "      <th>2021-01-01 19:59:59.999</th>\n",
       "      <td>0.17432000</td>\n",
       "    </tr>\n",
       "  </tbody>\n",
       "</table>\n",
       "</div>"
      ],
      "text/plain": [
       "                              close\n",
       "2021-01-01 03:59:59.999  0.18292000\n",
       "2021-01-01 07:59:59.999  0.17955000\n",
       "2021-01-01 11:59:59.999  0.17950000\n",
       "2021-01-01 15:59:59.999  0.18055000\n",
       "2021-01-01 19:59:59.999  0.17432000"
      ]
     },
     "execution_count": 4,
     "metadata": {},
     "output_type": "execute_result"
    }
   ],
   "source": [
    "data.head() # showing the first 5 rows of data"
   ]
  },
  {
   "cell_type": "markdown",
   "id": "7fb9d1bc",
   "metadata": {
    "id": "cb60314a"
   },
   "source": [
    "### Five last records of data"
   ]
  },
  {
   "cell_type": "code",
   "execution_count": 5,
   "id": "ad8bc779",
   "metadata": {
    "colab": {
     "base_uri": "https://localhost:8080/",
     "height": 238
    },
    "id": "db188544",
    "outputId": "0e7c865f-4d3f-42c1-9382-782725fb5123"
   },
   "outputs": [
    {
     "data": {
      "text/html": [
       "<div>\n",
       "<style scoped>\n",
       "    .dataframe tbody tr th:only-of-type {\n",
       "        vertical-align: middle;\n",
       "    }\n",
       "\n",
       "    .dataframe tbody tr th {\n",
       "        vertical-align: top;\n",
       "    }\n",
       "\n",
       "    .dataframe thead th {\n",
       "        text-align: right;\n",
       "    }\n",
       "</style>\n",
       "<table border=\"1\" class=\"dataframe\">\n",
       "  <thead>\n",
       "    <tr style=\"text-align: right;\">\n",
       "      <th></th>\n",
       "      <th>close</th>\n",
       "    </tr>\n",
       "  </thead>\n",
       "  <tbody>\n",
       "    <tr>\n",
       "      <th>2021-12-31 07:59:59.999</th>\n",
       "      <td>1.32900000</td>\n",
       "    </tr>\n",
       "    <tr>\n",
       "      <th>2021-12-31 11:59:59.999</th>\n",
       "      <td>1.36100000</td>\n",
       "    </tr>\n",
       "    <tr>\n",
       "      <th>2021-12-31 15:59:59.999</th>\n",
       "      <td>1.35500000</td>\n",
       "    </tr>\n",
       "    <tr>\n",
       "      <th>2021-12-31 19:59:59.999</th>\n",
       "      <td>1.28600000</td>\n",
       "    </tr>\n",
       "    <tr>\n",
       "      <th>2021-12-31 23:59:59.999</th>\n",
       "      <td>1.30800000</td>\n",
       "    </tr>\n",
       "  </tbody>\n",
       "</table>\n",
       "</div>"
      ],
      "text/plain": [
       "                              close\n",
       "2021-12-31 07:59:59.999  1.32900000\n",
       "2021-12-31 11:59:59.999  1.36100000\n",
       "2021-12-31 15:59:59.999  1.35500000\n",
       "2021-12-31 19:59:59.999  1.28600000\n",
       "2021-12-31 23:59:59.999  1.30800000"
      ]
     },
     "execution_count": 5,
     "metadata": {},
     "output_type": "execute_result"
    }
   ],
   "source": [
    "data.tail() # showing the last 5 rows of data"
   ]
  },
  {
   "cell_type": "markdown",
   "id": "84fcd5f0",
   "metadata": {
    "id": "af65dd1a"
   },
   "source": [
    "### Coloumns/features in data"
   ]
  },
  {
   "cell_type": "code",
   "execution_count": 6,
   "id": "228065dd",
   "metadata": {
    "colab": {
     "base_uri": "https://localhost:8080/"
    },
    "id": "d413ea4f",
    "outputId": "ad260aca-74c8-47b1-f2e7-94f36e754ce1"
   },
   "outputs": [
    {
     "data": {
      "text/plain": [
       "Index(['close'], dtype='object')"
      ]
     },
     "execution_count": 6,
     "metadata": {},
     "output_type": "execute_result"
    }
   ],
   "source": [
    "data.columns #columns in data"
   ]
  },
  {
   "cell_type": "markdown",
   "id": "cca2ff5f",
   "metadata": {
    "id": "551b0675"
   },
   "source": [
    "### Length of data"
   ]
  },
  {
   "cell_type": "code",
   "execution_count": 7,
   "id": "a7051679",
   "metadata": {
    "colab": {
     "base_uri": "https://localhost:8080/"
    },
    "id": "6b2f088a",
    "outputId": "a995e1e7-db21-4440-a93d-c4be3a88ca68"
   },
   "outputs": [
    {
     "name": "stdout",
     "output_type": "stream",
     "text": [
      "lenght of data is 2190\n"
     ]
    }
   ],
   "source": [
    "print('lenght of data is', len(data)) #lenght of data"
   ]
  },
  {
   "cell_type": "markdown",
   "id": "0c166861",
   "metadata": {
    "id": "f83f7e20"
   },
   "source": [
    "### Counts of missing values in each column"
   ]
  },
  {
   "cell_type": "code",
   "execution_count": 8,
   "id": "9d0dd8bb",
   "metadata": {
    "colab": {
     "base_uri": "https://localhost:8080/"
    },
    "id": "9b4aeb06",
    "outputId": "82bbb771-b717-460e-d9e8-f52eb130e92b",
    "scrolled": true
   },
   "outputs": [
    {
     "data": {
      "text/plain": [
       "close    0\n",
       "dtype: int64"
      ]
     },
     "execution_count": 8,
     "metadata": {},
     "output_type": "execute_result"
    }
   ],
   "source": [
    "data.isnull().sum() #checking the null values columns wise "
   ]
  },
  {
   "cell_type": "code",
   "execution_count": 9,
   "id": "8de2757e",
   "metadata": {
    "id": "e77903df"
   },
   "outputs": [],
   "source": [
    "#priceData['open']=priceData['open'].astype(float)\n",
    "#priceData['high']=priceData['high'].astype(float)\n",
    "#priceData['low']=priceData['low'].astype(float)\n",
    "data['close']=data['close'].astype(float)"
   ]
  },
  {
   "cell_type": "markdown",
   "id": "839fb8a3",
   "metadata": {
    "id": "33c07bfe"
   },
   "source": [
    "### Spliting date into day, month and year"
   ]
  },
  {
   "cell_type": "code",
   "execution_count": 10,
   "id": "c6438a07",
   "metadata": {
    "id": "2fb1622f"
   },
   "outputs": [],
   "source": [
    "data['date'] = data.index # taking dates in date column \n",
    "data.sort_index(ascending=True, inplace=True)\n",
    "data['Month'] = data['date'].dt.month # extracting months from data\n",
    "data['Day'] = data['date'].dt.day # extracting day from data\n",
    "data['Year'] = data['date'].dt.year # extracting year from data\n",
    "data['Hour'] = data['date'].dt.hour # extracting year from data\n",
    "data['Minutes'] = data['date'].dt.minute # extracting year from data"
   ]
  },
  {
   "cell_type": "code",
   "execution_count": 11,
   "id": "1a3701ba",
   "metadata": {},
   "outputs": [
    {
     "data": {
      "text/html": [
       "<div>\n",
       "<style scoped>\n",
       "    .dataframe tbody tr th:only-of-type {\n",
       "        vertical-align: middle;\n",
       "    }\n",
       "\n",
       "    .dataframe tbody tr th {\n",
       "        vertical-align: top;\n",
       "    }\n",
       "\n",
       "    .dataframe thead th {\n",
       "        text-align: right;\n",
       "    }\n",
       "</style>\n",
       "<table border=\"1\" class=\"dataframe\">\n",
       "  <thead>\n",
       "    <tr style=\"text-align: right;\">\n",
       "      <th></th>\n",
       "      <th>close</th>\n",
       "      <th>date</th>\n",
       "      <th>Month</th>\n",
       "      <th>Day</th>\n",
       "      <th>Year</th>\n",
       "      <th>Hour</th>\n",
       "      <th>Minutes</th>\n",
       "    </tr>\n",
       "  </thead>\n",
       "  <tbody>\n",
       "    <tr>\n",
       "      <th>2021-01-01 03:59:59.999</th>\n",
       "      <td>0.18292</td>\n",
       "      <td>2021-01-01 03:59:59.999</td>\n",
       "      <td>1</td>\n",
       "      <td>1</td>\n",
       "      <td>2021</td>\n",
       "      <td>3</td>\n",
       "      <td>59</td>\n",
       "    </tr>\n",
       "    <tr>\n",
       "      <th>2021-01-01 07:59:59.999</th>\n",
       "      <td>0.17955</td>\n",
       "      <td>2021-01-01 07:59:59.999</td>\n",
       "      <td>1</td>\n",
       "      <td>1</td>\n",
       "      <td>2021</td>\n",
       "      <td>7</td>\n",
       "      <td>59</td>\n",
       "    </tr>\n",
       "    <tr>\n",
       "      <th>2021-01-01 11:59:59.999</th>\n",
       "      <td>0.17950</td>\n",
       "      <td>2021-01-01 11:59:59.999</td>\n",
       "      <td>1</td>\n",
       "      <td>1</td>\n",
       "      <td>2021</td>\n",
       "      <td>11</td>\n",
       "      <td>59</td>\n",
       "    </tr>\n",
       "    <tr>\n",
       "      <th>2021-01-01 15:59:59.999</th>\n",
       "      <td>0.18055</td>\n",
       "      <td>2021-01-01 15:59:59.999</td>\n",
       "      <td>1</td>\n",
       "      <td>1</td>\n",
       "      <td>2021</td>\n",
       "      <td>15</td>\n",
       "      <td>59</td>\n",
       "    </tr>\n",
       "    <tr>\n",
       "      <th>2021-01-01 19:59:59.999</th>\n",
       "      <td>0.17432</td>\n",
       "      <td>2021-01-01 19:59:59.999</td>\n",
       "      <td>1</td>\n",
       "      <td>1</td>\n",
       "      <td>2021</td>\n",
       "      <td>19</td>\n",
       "      <td>59</td>\n",
       "    </tr>\n",
       "  </tbody>\n",
       "</table>\n",
       "</div>"
      ],
      "text/plain": [
       "                           close                    date  Month  Day  Year  \\\n",
       "2021-01-01 03:59:59.999  0.18292 2021-01-01 03:59:59.999      1    1  2021   \n",
       "2021-01-01 07:59:59.999  0.17955 2021-01-01 07:59:59.999      1    1  2021   \n",
       "2021-01-01 11:59:59.999  0.17950 2021-01-01 11:59:59.999      1    1  2021   \n",
       "2021-01-01 15:59:59.999  0.18055 2021-01-01 15:59:59.999      1    1  2021   \n",
       "2021-01-01 19:59:59.999  0.17432 2021-01-01 19:59:59.999      1    1  2021   \n",
       "\n",
       "                         Hour  Minutes  \n",
       "2021-01-01 03:59:59.999     3       59  \n",
       "2021-01-01 07:59:59.999     7       59  \n",
       "2021-01-01 11:59:59.999    11       59  \n",
       "2021-01-01 15:59:59.999    15       59  \n",
       "2021-01-01 19:59:59.999    19       59  "
      ]
     },
     "execution_count": 11,
     "metadata": {},
     "output_type": "execute_result"
    }
   ],
   "source": [
    "data.head()"
   ]
  },
  {
   "cell_type": "markdown",
   "id": "b2a25f92",
   "metadata": {
    "id": "0b6205cc"
   },
   "source": [
    "### Close price with respect to year "
   ]
  },
  {
   "cell_type": "code",
   "execution_count": 12,
   "id": "a6868a91",
   "metadata": {
    "colab": {
     "base_uri": "https://localhost:8080/",
     "height": 295
    },
    "id": "c0660123",
    "outputId": "ae3e7a71-0761-4072-b9c1-011ce7a3bb8e"
   },
   "outputs": [
    {
     "data": {
      "image/png": "[encoded data removed]",
      "text/plain": [
       "<Figure size 432x288 with 1 Axes>"
      ]
     },
     "metadata": {
      "needs_background": "light"
     },
     "output_type": "display_data"
    }
   ],
   "source": [
    "sns.barplot(x='Year', y='close', data=data).set(title='Year vs Close') # plotting the comparison of year and close price\n",
    "plt.show() #showing the plot "
   ]
  },
  {
   "cell_type": "markdown",
   "id": "4a7fe376",
   "metadata": {
    "id": "52333f25"
   },
   "source": [
    "### Close price with respect to Month "
   ]
  },
  {
   "cell_type": "code",
   "execution_count": 13,
   "id": "13617697",
   "metadata": {
    "colab": {
     "base_uri": "https://localhost:8080/",
     "height": 295
    },
    "id": "680be666",
    "outputId": "fe86c1d7-a4bc-425b-b146-ab5eef0309f8"
   },
   "outputs": [
    {
     "data": {
      "image/png": "[encoded data removed]",
      "text/plain": [
       "<Figure size 432x288 with 1 Axes>"
      ]
     },
     "metadata": {
      "needs_background": "light"
     },
     "output_type": "display_data"
    }
   ],
   "source": [
    "sns.barplot(x='Month', y='close', data=data).set(title='Year vs Close')  # plotting the comparison of month and close price\n",
    "plt.show() #showing the plot "
   ]
  },
  {
   "cell_type": "markdown",
   "id": "4bfdcc27",
   "metadata": {
    "id": "0dbc04db"
   },
   "source": [
    "# ------------------------------------------------------------------------------------------------------"
   ]
  },
  {
   "cell_type": "markdown",
   "id": "c862535d",
   "metadata": {
    "id": "564d00c7"
   },
   "source": [
    "# Data Visualization"
   ]
  },
  {
   "cell_type": "markdown",
   "id": "eea76947",
   "metadata": {
    "id": "4902bc8d"
   },
   "source": [
    "# ------------------------------------------------------------------------------------------------------"
   ]
  },
  {
   "cell_type": "markdown",
   "id": "928ec819",
   "metadata": {
    "id": "149b8f12"
   },
   "source": [
    "### CLOSE price values plot"
   ]
  },
  {
   "cell_type": "code",
   "execution_count": 14,
   "id": "af3c4d74",
   "metadata": {
    "colab": {
     "base_uri": "https://localhost:8080/",
     "height": 606
    },
    "id": "8083d346",
    "outputId": "dfc78df2-36fb-4984-9fe0-f69c72a0c954"
   },
   "outputs": [
    {
     "data": {
      "image/png": "[encoded data removed]",
      "text/plain": [
       "<Figure size 1440x720 with 1 Axes>"
      ]
     },
     "metadata": {
      "needs_background": "light"
     },
     "output_type": "display_data"
    }
   ],
   "source": [
    "plt.figure(figsize=(20, 10)) #setting the width and height of the plot \n",
    "plt.subplot(1,1,1) #plot setting \n",
    "plt.plot(data.index, data['close'].values,color='orange',label='CLOSE') # plotting Close price \n",
    "plt.xlabel('Count of all') # x axis \n",
    "plt.ylabel('count of each record') # y axis \n",
    "plt.legend(loc='best') #legend name as Close \n",
    "plt.show() # showing the plot "
   ]
  },
  {
   "cell_type": "markdown",
   "id": "6dda14da",
   "metadata": {
    "id": "d65c4cb0"
   },
   "source": [
    "# ------------------------------------------------------------------------------------------------------"
   ]
  },
  {
   "cell_type": "markdown",
   "id": "11063ead",
   "metadata": {
    "id": "d572bbab"
   },
   "source": [
    "<h1><center> Modelling </center></h1>"
   ]
  },
  {
   "cell_type": "markdown",
   "id": "790d2b8a",
   "metadata": {
    "id": "e5cb8cb1"
   },
   "source": [
    "# -----------------------------------------------------------------------------------------------------------"
   ]
  },
  {
   "cell_type": "markdown",
   "id": "3c51b863",
   "metadata": {
    "id": "30ee8f14"
   },
   "source": [
    "### Taking input features "
   ]
  },
  {
   "cell_type": "code",
   "execution_count": 15,
   "id": "fbf2b166",
   "metadata": {
    "colab": {
     "base_uri": "https://localhost:8080/",
     "height": 455
    },
    "id": "dee4a1db",
    "outputId": "0257b9db-1c42-4a62-e1ec-bef1d88456f7"
   },
   "outputs": [
    {
     "data": {
      "text/html": [
       "<div>\n",
       "<style scoped>\n",
       "    .dataframe tbody tr th:only-of-type {\n",
       "        vertical-align: middle;\n",
       "    }\n",
       "\n",
       "    .dataframe tbody tr th {\n",
       "        vertical-align: top;\n",
       "    }\n",
       "\n",
       "    .dataframe thead th {\n",
       "        text-align: right;\n",
       "    }\n",
       "</style>\n",
       "<table border=\"1\" class=\"dataframe\">\n",
       "  <thead>\n",
       "    <tr style=\"text-align: right;\">\n",
       "      <th></th>\n",
       "      <th>Month</th>\n",
       "      <th>Day</th>\n",
       "      <th>Year</th>\n",
       "      <th>Hour</th>\n",
       "      <th>Minutes</th>\n",
       "    </tr>\n",
       "  </thead>\n",
       "  <tbody>\n",
       "    <tr>\n",
       "      <th>2021-01-01 03:59:59.999</th>\n",
       "      <td>1</td>\n",
       "      <td>1</td>\n",
       "      <td>2021</td>\n",
       "      <td>3</td>\n",
       "      <td>59</td>\n",
       "    </tr>\n",
       "    <tr>\n",
       "      <th>2021-01-01 07:59:59.999</th>\n",
       "      <td>1</td>\n",
       "      <td>1</td>\n",
       "      <td>2021</td>\n",
       "      <td>7</td>\n",
       "      <td>59</td>\n",
       "    </tr>\n",
       "    <tr>\n",
       "      <th>2021-01-01 11:59:59.999</th>\n",
       "      <td>1</td>\n",
       "      <td>1</td>\n",
       "      <td>2021</td>\n",
       "      <td>11</td>\n",
       "      <td>59</td>\n",
       "    </tr>\n",
       "    <tr>\n",
       "      <th>2021-01-01 15:59:59.999</th>\n",
       "      <td>1</td>\n",
       "      <td>1</td>\n",
       "      <td>2021</td>\n",
       "      <td>15</td>\n",
       "      <td>59</td>\n",
       "    </tr>\n",
       "    <tr>\n",
       "      <th>2021-01-01 19:59:59.999</th>\n",
       "      <td>1</td>\n",
       "      <td>1</td>\n",
       "      <td>2021</td>\n",
       "      <td>19</td>\n",
       "      <td>59</td>\n",
       "    </tr>\n",
       "    <tr>\n",
       "      <th>...</th>\n",
       "      <td>...</td>\n",
       "      <td>...</td>\n",
       "      <td>...</td>\n",
       "      <td>...</td>\n",
       "      <td>...</td>\n",
       "    </tr>\n",
       "    <tr>\n",
       "      <th>2021-12-31 07:59:59.999</th>\n",
       "      <td>12</td>\n",
       "      <td>31</td>\n",
       "      <td>2021</td>\n",
       "      <td>7</td>\n",
       "      <td>59</td>\n",
       "    </tr>\n",
       "    <tr>\n",
       "      <th>2021-12-31 11:59:59.999</th>\n",
       "      <td>12</td>\n",
       "      <td>31</td>\n",
       "      <td>2021</td>\n",
       "      <td>11</td>\n",
       "      <td>59</td>\n",
       "    </tr>\n",
       "    <tr>\n",
       "      <th>2021-12-31 15:59:59.999</th>\n",
       "      <td>12</td>\n",
       "      <td>31</td>\n",
       "      <td>2021</td>\n",
       "      <td>15</td>\n",
       "      <td>59</td>\n",
       "    </tr>\n",
       "    <tr>\n",
       "      <th>2021-12-31 19:59:59.999</th>\n",
       "      <td>12</td>\n",
       "      <td>31</td>\n",
       "      <td>2021</td>\n",
       "      <td>19</td>\n",
       "      <td>59</td>\n",
       "    </tr>\n",
       "    <tr>\n",
       "      <th>2021-12-31 23:59:59.999</th>\n",
       "      <td>12</td>\n",
       "      <td>31</td>\n",
       "      <td>2021</td>\n",
       "      <td>23</td>\n",
       "      <td>59</td>\n",
       "    </tr>\n",
       "  </tbody>\n",
       "</table>\n",
       "<p>2190 rows × 5 columns</p>\n",
       "</div>"
      ],
      "text/plain": [
       "                         Month  Day  Year  Hour  Minutes\n",
       "2021-01-01 03:59:59.999      1    1  2021     3       59\n",
       "2021-01-01 07:59:59.999      1    1  2021     7       59\n",
       "2021-01-01 11:59:59.999      1    1  2021    11       59\n",
       "2021-01-01 15:59:59.999      1    1  2021    15       59\n",
       "2021-01-01 19:59:59.999      1    1  2021    19       59\n",
       "...                        ...  ...   ...   ...      ...\n",
       "2021-12-31 07:59:59.999     12   31  2021     7       59\n",
       "2021-12-31 11:59:59.999     12   31  2021    11       59\n",
       "2021-12-31 15:59:59.999     12   31  2021    15       59\n",
       "2021-12-31 19:59:59.999     12   31  2021    19       59\n",
       "2021-12-31 23:59:59.999     12   31  2021    23       59\n",
       "\n",
       "[2190 rows x 5 columns]"
      ]
     },
     "execution_count": 15,
     "metadata": {},
     "output_type": "execute_result"
    }
   ],
   "source": [
    "X=data.drop(columns=['close','date']) #dropping the 'Close','date'\n",
    "X #input features "
   ]
  },
  {
   "cell_type": "markdown",
   "id": "ed0468df",
   "metadata": {
    "id": "24e5d5ba"
   },
   "source": [
    "### Taking target as output"
   ]
  },
  {
   "cell_type": "code",
   "execution_count": 16,
   "id": "ef79e0e2",
   "metadata": {
    "colab": {
     "base_uri": "https://localhost:8080/"
    },
    "id": "7667aa46",
    "outputId": "af69f82b-08a3-4fbe-c791-ff55b4b5d703"
   },
   "outputs": [
    {
     "data": {
      "text/plain": [
       "2021-01-01 03:59:59.999    0.18292\n",
       "2021-01-01 07:59:59.999    0.17955\n",
       "2021-01-01 11:59:59.999    0.17950\n",
       "2021-01-01 15:59:59.999    0.18055\n",
       "2021-01-01 19:59:59.999    0.17432\n",
       "                            ...   \n",
       "2021-12-31 07:59:59.999    1.32900\n",
       "2021-12-31 11:59:59.999    1.36100\n",
       "2021-12-31 15:59:59.999    1.35500\n",
       "2021-12-31 19:59:59.999    1.28600\n",
       "2021-12-31 23:59:59.999    1.30800\n",
       "Name: close, Length: 2190, dtype: float64"
      ]
     },
     "execution_count": 16,
     "metadata": {},
     "output_type": "execute_result"
    }
   ],
   "source": [
    "y=data['close'] # output close \n",
    "y #output "
   ]
  },
  {
   "cell_type": "markdown",
   "id": "4a54f53a",
   "metadata": {
    "id": "4321abf1"
   },
   "source": [
    "### Spliting the data into training and Testing"
   ]
  },
  {
   "cell_type": "code",
   "execution_count": 17,
   "id": "4823bddf",
   "metadata": {
    "id": "dbea7403"
   },
   "outputs": [],
   "source": [
    "X_train = X[:int(trainTestSplit*(len(X)))] # training input features split \n",
    "X_test = X[int(trainTestSplit*(len(X))):]  # testing input features split \n",
    "\n",
    "\n",
    "\n",
    "y_train = y[:int(trainTestSplit*(len(y)))]  # training output split \n",
    "y_test = y[int(trainTestSplit*(len(y))):] # testing output split "
   ]
  },
  {
   "cell_type": "code",
   "execution_count": 18,
   "id": "6c2858b6",
   "metadata": {},
   "outputs": [
    {
     "data": {
      "text/html": [
       "<div>\n",
       "<style scoped>\n",
       "    .dataframe tbody tr th:only-of-type {\n",
       "        vertical-align: middle;\n",
       "    }\n",
       "\n",
       "    .dataframe tbody tr th {\n",
       "        vertical-align: top;\n",
       "    }\n",
       "\n",
       "    .dataframe thead th {\n",
       "        text-align: right;\n",
       "    }\n",
       "</style>\n",
       "<table border=\"1\" class=\"dataframe\">\n",
       "  <thead>\n",
       "    <tr style=\"text-align: right;\">\n",
       "      <th></th>\n",
       "      <th>Month</th>\n",
       "      <th>Day</th>\n",
       "      <th>Year</th>\n",
       "      <th>Hour</th>\n",
       "      <th>Minutes</th>\n",
       "    </tr>\n",
       "  </thead>\n",
       "  <tbody>\n",
       "    <tr>\n",
       "      <th>2021-01-01 03:59:59.999</th>\n",
       "      <td>1</td>\n",
       "      <td>1</td>\n",
       "      <td>2021</td>\n",
       "      <td>3</td>\n",
       "      <td>59</td>\n",
       "    </tr>\n",
       "    <tr>\n",
       "      <th>2021-01-01 07:59:59.999</th>\n",
       "      <td>1</td>\n",
       "      <td>1</td>\n",
       "      <td>2021</td>\n",
       "      <td>7</td>\n",
       "      <td>59</td>\n",
       "    </tr>\n",
       "    <tr>\n",
       "      <th>2021-01-01 11:59:59.999</th>\n",
       "      <td>1</td>\n",
       "      <td>1</td>\n",
       "      <td>2021</td>\n",
       "      <td>11</td>\n",
       "      <td>59</td>\n",
       "    </tr>\n",
       "    <tr>\n",
       "      <th>2021-01-01 15:59:59.999</th>\n",
       "      <td>1</td>\n",
       "      <td>1</td>\n",
       "      <td>2021</td>\n",
       "      <td>15</td>\n",
       "      <td>59</td>\n",
       "    </tr>\n",
       "    <tr>\n",
       "      <th>2021-01-01 19:59:59.999</th>\n",
       "      <td>1</td>\n",
       "      <td>1</td>\n",
       "      <td>2021</td>\n",
       "      <td>19</td>\n",
       "      <td>59</td>\n",
       "    </tr>\n",
       "  </tbody>\n",
       "</table>\n",
       "</div>"
      ],
      "text/plain": [
       "                         Month  Day  Year  Hour  Minutes\n",
       "2021-01-01 03:59:59.999      1    1  2021     3       59\n",
       "2021-01-01 07:59:59.999      1    1  2021     7       59\n",
       "2021-01-01 11:59:59.999      1    1  2021    11       59\n",
       "2021-01-01 15:59:59.999      1    1  2021    15       59\n",
       "2021-01-01 19:59:59.999      1    1  2021    19       59"
      ]
     },
     "execution_count": 18,
     "metadata": {},
     "output_type": "execute_result"
    }
   ],
   "source": [
    "X_train.head()"
   ]
  },
  {
   "cell_type": "code",
   "execution_count": 19,
   "id": "5a32fc38",
   "metadata": {
    "scrolled": true
   },
   "outputs": [
    {
     "data": {
      "text/html": [
       "<div>\n",
       "<style scoped>\n",
       "    .dataframe tbody tr th:only-of-type {\n",
       "        vertical-align: middle;\n",
       "    }\n",
       "\n",
       "    .dataframe tbody tr th {\n",
       "        vertical-align: top;\n",
       "    }\n",
       "\n",
       "    .dataframe thead th {\n",
       "        text-align: right;\n",
       "    }\n",
       "</style>\n",
       "<table border=\"1\" class=\"dataframe\">\n",
       "  <thead>\n",
       "    <tr style=\"text-align: right;\">\n",
       "      <th></th>\n",
       "      <th>Month</th>\n",
       "      <th>Day</th>\n",
       "      <th>Year</th>\n",
       "      <th>Hour</th>\n",
       "      <th>Minutes</th>\n",
       "    </tr>\n",
       "  </thead>\n",
       "  <tbody>\n",
       "    <tr>\n",
       "      <th>2021-10-20 04:59:59.999</th>\n",
       "      <td>10</td>\n",
       "      <td>20</td>\n",
       "      <td>2021</td>\n",
       "      <td>4</td>\n",
       "      <td>59</td>\n",
       "    </tr>\n",
       "    <tr>\n",
       "      <th>2021-10-20 08:59:59.999</th>\n",
       "      <td>10</td>\n",
       "      <td>20</td>\n",
       "      <td>2021</td>\n",
       "      <td>8</td>\n",
       "      <td>59</td>\n",
       "    </tr>\n",
       "    <tr>\n",
       "      <th>2021-10-20 12:59:59.999</th>\n",
       "      <td>10</td>\n",
       "      <td>20</td>\n",
       "      <td>2021</td>\n",
       "      <td>12</td>\n",
       "      <td>59</td>\n",
       "    </tr>\n",
       "    <tr>\n",
       "      <th>2021-10-20 16:59:59.999</th>\n",
       "      <td>10</td>\n",
       "      <td>20</td>\n",
       "      <td>2021</td>\n",
       "      <td>16</td>\n",
       "      <td>59</td>\n",
       "    </tr>\n",
       "    <tr>\n",
       "      <th>2021-10-20 20:59:59.999</th>\n",
       "      <td>10</td>\n",
       "      <td>20</td>\n",
       "      <td>2021</td>\n",
       "      <td>20</td>\n",
       "      <td>59</td>\n",
       "    </tr>\n",
       "  </tbody>\n",
       "</table>\n",
       "</div>"
      ],
      "text/plain": [
       "                         Month  Day  Year  Hour  Minutes\n",
       "2021-10-20 04:59:59.999     10   20  2021     4       59\n",
       "2021-10-20 08:59:59.999     10   20  2021     8       59\n",
       "2021-10-20 12:59:59.999     10   20  2021    12       59\n",
       "2021-10-20 16:59:59.999     10   20  2021    16       59\n",
       "2021-10-20 20:59:59.999     10   20  2021    20       59"
      ]
     },
     "execution_count": 19,
     "metadata": {},
     "output_type": "execute_result"
    }
   ],
   "source": [
    "X_test.head()"
   ]
  },
  {
   "cell_type": "code",
   "execution_count": 20,
   "id": "fbd7dc7c",
   "metadata": {},
   "outputs": [
    {
     "data": {
      "text/plain": [
       "2021-01-01 03:59:59.999    0.18292\n",
       "2021-01-01 07:59:59.999    0.17955\n",
       "2021-01-01 11:59:59.999    0.17950\n",
       "2021-01-01 15:59:59.999    0.18055\n",
       "2021-01-01 19:59:59.999    0.17432\n",
       "Name: close, dtype: float64"
      ]
     },
     "execution_count": 20,
     "metadata": {},
     "output_type": "execute_result"
    }
   ],
   "source": [
    "y_train.head()"
   ]
  },
  {
   "cell_type": "markdown",
   "id": "2adab9b0",
   "metadata": {
    "id": "c6adc85e"
   },
   "source": [
    "# --------------------------------------------------------------------------------------------------"
   ]
  },
  {
   "cell_type": "markdown",
   "id": "566dc5ce",
   "metadata": {
    "id": "264cc82e"
   },
   "source": [
    "# ARIMA Model"
   ]
  },
  {
   "cell_type": "markdown",
   "id": "e6469287",
   "metadata": {
    "id": "284a479c"
   },
   "source": [
    "### Parametrs"
   ]
  },
  {
   "cell_type": "code",
   "execution_count": 21,
   "id": "1ceed8ae",
   "metadata": {},
   "outputs": [
    {
     "name": "stdout",
     "output_type": "stream",
     "text": [
      "0.41523840057661754\n",
      "ARIMA(0, 0, 0) RMSE=0.415\n",
      "0.4144570633564445\n",
      "ARIMA(0, 0, 1) RMSE=0.414\n",
      "0.4137862353836488\n",
      "ARIMA(0, 0, 2) RMSE=0.414\n",
      "0.5269699245401609\n",
      "ARIMA(0, 1, 0) RMSE=0.527\n",
      "0.526563830048097\n",
      "ARIMA(0, 1, 1) RMSE=0.527\n",
      "0.5265511440855207\n",
      "ARIMA(0, 1, 2) RMSE=0.527\n",
      "3.042812791329636\n",
      "ARIMA(0, 2, 0) RMSE=3.043\n",
      "0.7951975911975875\n",
      "ARIMA(0, 2, 1) RMSE=0.795\n",
      "0.7985677706700877\n",
      "ARIMA(0, 2, 2) RMSE=0.799\n",
      "0.24639274088130492\n",
      "ARIMA(1, 0, 0) RMSE=0.246\n",
      "0.22453756421460522\n",
      "ARIMA(1, 0, 1) RMSE=0.225\n",
      "0.25384374359338285\n",
      "ARIMA(1, 0, 2) RMSE=0.254\n",
      "0.5265573776440463\n",
      "ARIMA(1, 1, 0) RMSE=0.527\n",
      "0.526556821870524\n",
      "ARIMA(1, 1, 1) RMSE=0.527\n",
      "0.5265222914335796\n",
      "ARIMA(1, 1, 2) RMSE=0.527\n",
      "1.2063531133350733\n",
      "ARIMA(1, 2, 0) RMSE=1.206\n",
      "0.7987313038010945\n",
      "ARIMA(1, 2, 1) RMSE=0.799\n",
      "0.7981895335432256\n",
      "ARIMA(1, 2, 2) RMSE=0.798\n",
      "0.256230376865078\n",
      "ARIMA(2, 0, 0) RMSE=0.256\n",
      "0.2801671091456272\n",
      "ARIMA(2, 0, 1) RMSE=0.280\n",
      "0.35524845911106734\n",
      "ARIMA(2, 0, 2) RMSE=0.355\n",
      "0.526556332998313\n",
      "ARIMA(2, 1, 0) RMSE=0.527\n",
      "0.5265569015559257\n",
      "ARIMA(2, 1, 1) RMSE=0.527\n",
      "0.5286489043324316\n",
      "ARIMA(2, 1, 2) RMSE=0.529\n",
      "0.1664271268861282\n",
      "ARIMA(2, 2, 0) RMSE=0.166\n",
      "0.7962376405920008\n",
      "ARIMA(2, 2, 1) RMSE=0.796\n",
      "0.7976654080540145\n",
      "ARIMA(2, 2, 2) RMSE=0.798\n",
      "0.2533272415109622\n",
      "ARIMA(4, 0, 0) RMSE=0.253\n",
      "0.31982019527680994\n",
      "ARIMA(4, 0, 1) RMSE=0.320\n",
      "0.3263771002006915\n",
      "ARIMA(4, 0, 2) RMSE=0.326\n",
      "0.5269584704961656\n",
      "ARIMA(4, 1, 0) RMSE=0.527\n",
      "0.5269783451332846\n",
      "ARIMA(4, 1, 1) RMSE=0.527\n",
      "0.5285970378169044\n",
      "ARIMA(4, 1, 2) RMSE=0.529\n",
      "0.8387918700791896\n",
      "ARIMA(4, 2, 0) RMSE=0.839\n",
      "0.7993202359355259\n",
      "ARIMA(4, 2, 1) RMSE=0.799\n",
      "0.7977807296752681\n",
      "ARIMA(4, 2, 2) RMSE=0.798\n",
      "0.26180654135136106\n",
      "ARIMA(6, 0, 0) RMSE=0.262\n",
      "0.30949827607350094\n",
      "ARIMA(6, 0, 1) RMSE=0.309\n",
      "0.3455115545608995\n",
      "ARIMA(6, 0, 2) RMSE=0.346\n",
      "0.5282833558438633\n",
      "ARIMA(6, 1, 0) RMSE=0.528\n",
      "0.5283250155559782\n",
      "ARIMA(6, 1, 1) RMSE=0.528\n",
      "0.5283059595925778\n",
      "ARIMA(6, 1, 2) RMSE=0.528\n",
      "0.5285396725038017\n",
      "ARIMA(6, 2, 0) RMSE=0.529\n",
      "0.3134188189008345\n",
      "ARIMA(6, 2, 1) RMSE=0.313\n",
      "0.723764820441206\n",
      "ARIMA(6, 2, 2) RMSE=0.724\n",
      "0.27225992245354846\n",
      "ARIMA(8, 0, 0) RMSE=0.272\n",
      "0.33998148110379517\n",
      "ARIMA(8, 0, 1) RMSE=0.340\n",
      "0.4097619084875127\n",
      "ARIMA(8, 0, 2) RMSE=0.410\n",
      "0.5280988192876225\n",
      "ARIMA(8, 1, 0) RMSE=0.528\n",
      "0.5281368018179965\n",
      "ARIMA(8, 1, 1) RMSE=0.528\n",
      "0.5281174529714694\n",
      "ARIMA(8, 1, 2) RMSE=0.528\n",
      "0.3736054718408605\n",
      "ARIMA(8, 2, 0) RMSE=0.374\n",
      "0.19175196525397895\n",
      "ARIMA(8, 2, 1) RMSE=0.192\n",
      "0.7555520401542433\n",
      "ARIMA(8, 2, 2) RMSE=0.756\n",
      "0.2725559234448834\n",
      "ARIMA(10, 0, 0) RMSE=0.273\n",
      "0.31465929559207795\n",
      "ARIMA(10, 0, 1) RMSE=0.315\n",
      "0.4159618600192464\n",
      "ARIMA(10, 0, 2) RMSE=0.416\n",
      "0.5285361735103036\n",
      "ARIMA(10, 1, 0) RMSE=0.529\n",
      "0.5285928526053659\n",
      "ARIMA(10, 1, 1) RMSE=0.529\n",
      "0.5285073062766312\n",
      "ARIMA(10, 1, 2) RMSE=0.529\n",
      "0.3702847579297053\n",
      "ARIMA(10, 2, 0) RMSE=0.370\n",
      "0.40690684968412444\n",
      "ARIMA(10, 2, 1) RMSE=0.407\n",
      "0.7937774682039971\n",
      "ARIMA(10, 2, 2) RMSE=0.794\n",
      "Best ARIMA(2, 2, 0) RMSE=0.166\n",
      "Wall time: 53.1 s\n"
     ]
    }
   ],
   "source": [
    "%%time\n",
    "# evaluate an ARIMA model for a given order (p,d,q)\n",
    "def evaluate_arima_model(train_data, test_data, arima_order):\n",
    "    # make predictions\n",
    "    model = smapi.tsa.arima.ARIMA(train_data, order=arima_order)\n",
    "    fitted = model.fit()\n",
    "    preds = fitted.forecast(len(test_data), alpha=0.05)  # 95% conf\n",
    "    #predSeries = pd.Series(preds.tolist(), index = test_data.index)\n",
    "    # calculate out of sample error\n",
    "    rmse = sqrt(mean_squared_error(test_data, preds.tolist()))\n",
    "    print(rmse)\n",
    "    return rmse\n",
    " \n",
    "# evaluate combinations of p, d and q values for an ARIMA model\n",
    "def evaluate_models(train_data, test_data, p_values, d_values, q_values):\n",
    "    best_score, best_cfg = float(\"inf\"), None\n",
    "    for p in p_values:\n",
    "        for d in d_values:\n",
    "            for q in q_values:\n",
    "                order = (p,d,q)\n",
    "                try:\n",
    "                    rmse = evaluate_arima_model(train_data,test_data, order)\n",
    "                    if rmse < best_score:\n",
    "                        best_score, best_cfg = rmse, order\n",
    "                    print('ARIMA%s RMSE=%.3f' % (order,rmse))\n",
    "                except Exception as e:\n",
    "                    print(e)\n",
    "                    continue\n",
    "    print('Best ARIMA%s RMSE=%.3f' % (best_cfg, best_score))\n",
    "    return best_cfg\n",
    "# evaluate parameters\n",
    "train_data, test_data = data['close'].iloc[3:int(len(data['close'])*trainTestSplit)], data['close'].iloc[int(len(data['close'])*trainTestSplit):]\n",
    "p_values = [0, 1, 2, 4, 6, 8, 10]\n",
    "d_values = range(0, 3)\n",
    "q_values = range(0, 3)\n",
    "warnings.filterwarnings(\"ignore\")\n",
    "best_cfg = evaluate_models(train_data, test_data, p_values, d_values, q_values)"
   ]
  },
  {
   "cell_type": "code",
   "execution_count": 22,
   "id": "31b8fdca",
   "metadata": {},
   "outputs": [
    {
     "name": "stdout",
     "output_type": "stream",
     "text": [
      "                               SARIMAX Results                                \n",
      "==============================================================================\n",
      "Dep. Variable:                  close   No. Observations:                 1749\n",
      "Model:                 ARIMA(2, 2, 0)   Log Likelihood                2746.137\n",
      "Date:                Tue, 10 May 2022   AIC                          -5486.274\n",
      "Time:                        14:03:53   BIC                          -5469.877\n",
      "Sample:                             0   HQIC                         -5480.213\n",
      "                               - 1749                                         \n",
      "Covariance Type:                  opg                                         \n",
      "==============================================================================\n",
      "                 coef    std err          z      P>|z|      [0.025      0.975]\n",
      "------------------------------------------------------------------------------\n",
      "ar.L1         -0.7141      0.014    -52.052      0.000      -0.741      -0.687\n",
      "ar.L2         -0.3507      0.014    -24.320      0.000      -0.379      -0.322\n",
      "sigma2         0.0025   4.75e-05     53.067      0.000       0.002       0.003\n",
      "===================================================================================\n",
      "Ljung-Box (L1) (Q):                  11.70   Jarque-Bera (JB):              1491.16\n",
      "Prob(Q):                              0.00   Prob(JB):                         0.00\n",
      "Heteroskedasticity (H):               2.98   Skew:                             0.31\n",
      "Prob(H) (two-sided):                  0.00   Kurtosis:                         7.48\n",
      "===================================================================================\n",
      "\n",
      "Warnings:\n",
      "[1] Covariance matrix calculated using the outer product of gradients (complex-step).\n"
     ]
    }
   ],
   "source": [
    "train_data, test_data = data['close'].iloc[3:int(len(data['close'])*trainTestSplit)], data['close'].iloc[int(len(data['close'])*trainTestSplit):]\n",
    "#Modeling\n",
    "# Build Model\n",
    "model = smapi.tsa.arima.ARIMA(train_data, order=(best_cfg))  \n",
    "fitted = model.fit()  \n",
    "print(fitted.summary())"
   ]
  },
  {
   "cell_type": "code",
   "execution_count": 23,
   "id": "a8313dbc",
   "metadata": {},
   "outputs": [],
   "source": [
    "preds = fitted.forecast(len(test_data), alpha=0.05)  # 95% conf\n",
    "predSeries = pd.Series(preds.tolist(), index = test_data.index)"
   ]
  },
  {
   "cell_type": "code",
   "execution_count": 24,
   "id": "83596828",
   "metadata": {},
   "outputs": [
    {
     "data": {
      "text/plain": [
       "2021-10-20 04:59:59.999    2.103250\n",
       "2021-10-20 08:59:59.999    2.101097\n",
       "2021-10-20 12:59:59.999    2.101535\n",
       "2021-10-20 16:59:59.999    2.098510\n",
       "2021-10-20 20:59:59.999    2.097050\n",
       "                             ...   \n",
       "2021-12-31 07:59:59.999    1.376907\n",
       "2021-12-31 11:59:59.999    1.375228\n",
       "2021-12-31 15:59:59.999    1.373549\n",
       "2021-12-31 19:59:59.999    1.371870\n",
       "2021-12-31 23:59:59.999    1.370191\n",
       "Length: 438, dtype: float64"
      ]
     },
     "execution_count": 24,
     "metadata": {},
     "output_type": "execute_result"
    }
   ],
   "source": [
    "predSeries"
   ]
  },
  {
   "cell_type": "markdown",
   "id": "3e41ab42",
   "metadata": {
    "id": "dad9a2a5"
   },
   "source": [
    "# Evaluation Measures on Test data"
   ]
  },
  {
   "cell_type": "markdown",
   "id": "5e210eed",
   "metadata": {
    "id": "e30c698e"
   },
   "source": [
    "# MSE"
   ]
  },
  {
   "cell_type": "code",
   "execution_count": 25,
   "id": "5e316a79",
   "metadata": {
    "colab": {
     "base_uri": "https://localhost:8080/"
    },
    "id": "98f4a656",
    "outputId": "cb485e4c-d2d3-483c-e9c9-2a56aaada9b4"
   },
   "outputs": [
    {
     "name": "stdout",
     "output_type": "stream",
     "text": [
      "Mean Squared Error:  0.0277\n"
     ]
    }
   ],
   "source": [
    "y_pred_test=preds.tolist() # tetsing trained model on test data\n",
    "test_mse1=mean_squared_error(test_data.tolist(),y_pred_test) # calculating the mse score\n",
    "print('Mean Squared Error: ', round(test_mse1,5)) #pritng the results "
   ]
  },
  {
   "cell_type": "markdown",
   "id": "e087b407",
   "metadata": {
    "id": "59fe3989"
   },
   "source": [
    "# MAE"
   ]
  },
  {
   "cell_type": "code",
   "execution_count": 26,
   "id": "6caa6bb3",
   "metadata": {
    "colab": {
     "base_uri": "https://localhost:8080/"
    },
    "id": "67861d97",
    "outputId": "502598a3-ab27-4602-c89d-8782a7b3dbf1"
   },
   "outputs": [
    {
     "name": "stdout",
     "output_type": "stream",
     "text": [
      "Mean Absolute Error:  0.13289\n"
     ]
    }
   ],
   "source": [
    "test_MAE1=mean_absolute_error(test_data.tolist(),y_pred_test) # calculating the mae score\n",
    "print('Mean Absolute Error: ', round(test_MAE1,5)) #pritng the results "
   ]
  },
  {
   "cell_type": "markdown",
   "id": "ecdcf7f2",
   "metadata": {
    "id": "a6d95fb7"
   },
   "source": [
    "# RMSE"
   ]
  },
  {
   "cell_type": "code",
   "execution_count": 27,
   "id": "d0c00646",
   "metadata": {
    "colab": {
     "base_uri": "https://localhost:8080/"
    },
    "id": "e290d306",
    "outputId": "4455823c-da99-4149-e3ba-dd4fe51ce5be"
   },
   "outputs": [
    {
     "name": "stdout",
     "output_type": "stream",
     "text": [
      "Mean Squared Error:  0.16643\n"
     ]
    }
   ],
   "source": [
    "test_rmse1=np.sqrt(test_mse1) # calculating the rmse score\n",
    "print('Mean Squared Error: ', round(test_rmse1,5)) #pritng the results "
   ]
  },
  {
   "cell_type": "markdown",
   "id": "896f15c2",
   "metadata": {
    "id": "2321c33b"
   },
   "source": [
    "# MAPE"
   ]
  },
  {
   "cell_type": "code",
   "execution_count": 28,
   "id": "41717215",
   "metadata": {
    "colab": {
     "base_uri": "https://localhost:8080/"
    },
    "id": "98bc0237",
    "outputId": "93fcaefe-504a-427e-ada8-5aadb77df706"
   },
   "outputs": [
    {
     "name": "stdout",
     "output_type": "stream",
     "text": [
      "Mean Absolute Error:  0.08653\n"
     ]
    }
   ],
   "source": [
    "test_mape1=mean_absolute_percentage_error(test_data.tolist(),y_pred_test) # calculating the mape score\n",
    "print('Mean Absolute Error: ', round(test_mape1,5)) #pritng the results "
   ]
  },
  {
   "cell_type": "code",
   "execution_count": 29,
   "id": "75f6b9bd",
   "metadata": {
    "scrolled": true
   },
   "outputs": [
    {
     "data": {
      "image/png": "[encoded data removed]",
      "text/plain": [
       "<Figure size 432x288 with 1 Axes>"
      ]
     },
     "metadata": {
      "needs_background": "light"
     },
     "output_type": "display_data"
    },
    {
     "data": {
      "image/png": "[encoded data removed]",
      "text/plain": [
       "<Figure size 1296x576 with 1 Axes>"
      ]
     },
     "metadata": {
      "needs_background": "light"
     },
     "output_type": "display_data"
    }
   ],
   "source": [
    "df = pd.DataFrame({'Actual': test_data, 'Predicted': predSeries})\n",
    "df2 = pd.DataFrame({'train': train_data})\n",
    "ax = df.plot()\n",
    "df2.plot(ax=ax)\n",
    "df.plot(kind='line',figsize=(18,8))\n",
    "plt.grid(which='major', linestyle='-', linewidth='0.5', color='green')\n",
    "plt.grid(which='minor', linestyle=':', linewidth='0.5', color='black')\n",
    "plt.show()"
   ]
  },
  {
   "cell_type": "markdown",
   "id": "415999f0",
   "metadata": {
    "id": "f40c5adf"
   },
   "source": [
    "# --------------------------------------------------------------------------------------------------"
   ]
  },
  {
   "cell_type": "markdown",
   "id": "e2faa8de",
   "metadata": {
    "id": "c610f1c7"
   },
   "source": [
    "# SARIMAX Model"
   ]
  },
  {
   "cell_type": "markdown",
   "id": "8c88b4ab",
   "metadata": {
    "id": "7f3b40c2"
   },
   "source": [
    "### Parametrs"
   ]
  },
  {
   "cell_type": "code",
   "execution_count": 30,
   "id": "449e79dd",
   "metadata": {},
   "outputs": [
    {
     "name": "stdout",
     "output_type": "stream",
     "text": [
      "ARIMA(0, 0, 0) RMSE=0.545\n",
      "ARIMA(0, 0, 1) RMSE=0.549\n",
      "ARIMA(0, 0, 2) RMSE=0.552\n",
      "ARIMA(0, 1, 0) RMSE=0.797\n",
      "ARIMA(0, 1, 1) RMSE=0.796\n",
      "ARIMA(0, 1, 2) RMSE=0.796\n",
      "ARIMA(0, 2, 0) RMSE=3.375\n",
      "ARIMA(0, 2, 1) RMSE=0.448\n",
      "ARIMA(0, 2, 2) RMSE=0.396\n",
      "ARIMA(1, 0, 0) RMSE=0.371\n",
      "ARIMA(1, 0, 1) RMSE=0.475\n",
      "ARIMA(1, 0, 2) RMSE=0.330\n",
      "ARIMA(1, 1, 0) RMSE=0.796\n",
      "ARIMA(1, 1, 1) RMSE=0.791\n",
      "ARIMA(1, 1, 2) RMSE=0.795\n",
      "ARIMA(1, 2, 0) RMSE=1.635\n",
      "ARIMA(1, 2, 1) RMSE=0.443\n",
      "ARIMA(1, 2, 2) RMSE=0.495\n",
      "ARIMA(2, 0, 0) RMSE=0.439\n",
      "ARIMA(2, 0, 1) RMSE=0.651\n",
      "ARIMA(2, 0, 2) RMSE=0.509\n",
      "ARIMA(2, 1, 0) RMSE=0.793\n",
      "ARIMA(2, 1, 1) RMSE=0.791\n",
      "ARIMA(2, 1, 2) RMSE=0.788\n",
      "ARIMA(2, 2, 0) RMSE=0.562\n",
      "ARIMA(2, 2, 1) RMSE=0.477\n",
      "ARIMA(2, 2, 2) RMSE=0.491\n",
      "ARIMA(4, 0, 0) RMSE=0.443\n",
      "ARIMA(4, 0, 1) RMSE=0.544\n",
      "ARIMA(4, 0, 2) RMSE=0.767\n",
      "ARIMA(4, 1, 0) RMSE=0.796\n",
      "ARIMA(4, 1, 1) RMSE=0.789\n",
      "ARIMA(4, 1, 2) RMSE=0.791\n",
      "ARIMA(4, 2, 0) RMSE=0.796\n",
      "ARIMA(4, 2, 1) RMSE=0.354\n",
      "ARIMA(4, 2, 2) RMSE=0.493\n",
      "ARIMA(6, 0, 0) RMSE=0.293\n",
      "ARIMA(6, 0, 1) RMSE=0.559\n",
      "ARIMA(6, 0, 2) RMSE=0.741\n",
      "ARIMA(6, 1, 0) RMSE=0.797\n",
      "ARIMA(6, 1, 1) RMSE=0.795\n",
      "ARIMA(6, 1, 2) RMSE=0.798\n",
      "ARIMA(6, 2, 0) RMSE=0.607\n",
      "ARIMA(6, 2, 1) RMSE=0.254\n",
      "ARIMA(6, 2, 2) RMSE=0.328\n",
      "ARIMA(8, 0, 0) RMSE=0.353\n",
      "ARIMA(8, 0, 1) RMSE=0.522\n",
      "ARIMA(8, 0, 2) RMSE=0.611\n",
      "ARIMA(8, 1, 0) RMSE=0.797\n",
      "ARIMA(8, 1, 1) RMSE=0.786\n",
      "ARIMA(8, 1, 2) RMSE=0.784\n",
      "ARIMA(8, 2, 0) RMSE=0.438\n",
      "ARIMA(8, 2, 1) RMSE=0.332\n",
      "ARIMA(8, 2, 2) RMSE=0.172\n",
      "ARIMA(10, 0, 0) RMSE=0.295\n",
      "ARIMA(10, 0, 1) RMSE=0.501\n",
      "ARIMA(10, 0, 2) RMSE=0.661\n",
      "ARIMA(10, 1, 0) RMSE=0.784\n",
      "ARIMA(10, 1, 1) RMSE=0.797\n",
      "ARIMA(10, 1, 2) RMSE=0.780\n",
      "ARIMA(10, 2, 0) RMSE=0.474\n",
      "ARIMA(10, 2, 1) RMSE=0.508\n",
      "ARIMA(10, 2, 2) RMSE=0.413\n",
      "Best ARIMA(8, 2, 2) RMSE=0.172\n",
      "Wall time: 8min 41s\n"
     ]
    }
   ],
   "source": [
    "%%time\n",
    "# evaluate an ARIMA model for a given order (p,d,q)\n",
    "def evaluate_arima_model(priceData, arima_order):\n",
    "    Xtest = priceData\n",
    "    train_data, test_data = Xtest.iloc[:int(len(Xtest['close'])*trainTestSplit)], Xtest.iloc[int(len(Xtest['close'])*trainTestSplit):]\n",
    "\n",
    "    df5 = test_data.copy()\n",
    "    df5['close'].loc[:] = np.nan\n",
    "\n",
    "    df6 = pd.concat([train_data,df5])\n",
    "\n",
    "    model=smapi.tsa.statespace.SARIMAX(df6['close'],order=arima_order,seasonal_order=(1,1,1,12))\n",
    "    results=model.fit()\n",
    "\n",
    "    preds =results.predict(start=len(train_data), end=len(train_data)+len(test_data)-1, dynamic = True)\n",
    "    # calculate out of sample error\n",
    "    rmse = sqrt(mean_squared_error(test_data['close'], preds.tolist()))\n",
    "\n",
    "    return rmse\n",
    " \n",
    "# evaluate combinations of p, d and q values for an ARIMA model\n",
    "def evaluate_models(priceData, p_values, d_values, q_values):\n",
    "    best_score, best_cfg = float(\"inf\"), None\n",
    "    for p in p_values:\n",
    "        for d in d_values:\n",
    "            for q in q_values:\n",
    "                order = (p,d,q)\n",
    "                try:\n",
    "                    rmse = evaluate_arima_model(priceData, order)\n",
    "                    if rmse < best_score:\n",
    "                        best_score, best_cfg = rmse, order\n",
    "                    print('ARIMA%s RMSE=%.3f' % (order,rmse))\n",
    "                except Exception as e:\n",
    "                    print(e)\n",
    "                    continue\n",
    "    print('Best ARIMA%s RMSE=%.3f' % (best_cfg, best_score))\n",
    "    return best_cfg\n",
    "\n",
    "# evaluate parameters\n",
    "p_values = [0, 1, 2, 4, 6, 8, 10]\n",
    "d_values = range(0, 3)\n",
    "q_values = range(0, 3)\n",
    "warnings.filterwarnings(\"ignore\")\n",
    "best_cfg = evaluate_models(data, p_values, d_values, q_values)"
   ]
  },
  {
   "cell_type": "code",
   "execution_count": 31,
   "id": "5efdaf04",
   "metadata": {},
   "outputs": [],
   "source": [
    "Xtest = data\n",
    "train_data, test_data = Xtest.iloc[:int(len(Xtest['close'])*trainTestSplit)], Xtest.iloc[int(len(Xtest['close'])*trainTestSplit):]\n",
    "\n",
    "df5 = test_data.copy()\n",
    "df5['close'].loc[:] = np.nan\n",
    "\n",
    "df6 = pd.concat([train_data,df5])\n",
    "\n",
    "model=smapi.tsa.statespace.SARIMAX(df6['close'],order=(best_cfg),seasonal_order=(1,1,1,12))\n",
    "results=model.fit()"
   ]
  },
  {
   "cell_type": "code",
   "execution_count": 32,
   "id": "726bc0f1",
   "metadata": {},
   "outputs": [],
   "source": [
    "preds =results.predict(start=len(train_data), end=len(train_data)+len(test_data)-1, dynamic = True)\n",
    "predSeries = pd.Series(preds.tolist(), index = test_data.index)"
   ]
  },
  {
   "cell_type": "markdown",
   "id": "774e57f9",
   "metadata": {
    "id": "7c7cde0b"
   },
   "source": [
    "### Best Parameter selected"
   ]
  },
  {
   "cell_type": "markdown",
   "id": "5c65c00a",
   "metadata": {
    "id": "2cb40234"
   },
   "source": [
    "# Evaluation Measures on Test data"
   ]
  },
  {
   "cell_type": "markdown",
   "id": "019a9f56",
   "metadata": {
    "id": "6cd46073"
   },
   "source": [
    "# MSE"
   ]
  },
  {
   "cell_type": "code",
   "execution_count": 33,
   "id": "cccf2e0d",
   "metadata": {
    "colab": {
     "base_uri": "https://localhost:8080/"
    },
    "id": "210cbc28",
    "outputId": "ac3e5890-bded-4995-f213-86a55026c8aa"
   },
   "outputs": [
    {
     "name": "stdout",
     "output_type": "stream",
     "text": [
      "Mean Squared Error:  0.02946\n"
     ]
    }
   ],
   "source": [
    "#y_pred_test=Model_R.predict(X_test) # tetsing trained model on test data\n",
    "test_mse2=mean_squared_error(y_test,predSeries) # calculating the mse score\n",
    "print('Mean Squared Error: ', round(test_mse2,5)) #pritng the results "
   ]
  },
  {
   "cell_type": "markdown",
   "id": "9a5d38c0",
   "metadata": {
    "id": "036e1457"
   },
   "source": [
    "# MAE"
   ]
  },
  {
   "cell_type": "code",
   "execution_count": 34,
   "id": "b49fe812",
   "metadata": {
    "colab": {
     "base_uri": "https://localhost:8080/"
    },
    "id": "ab28e7ec",
    "outputId": "8d4c4290-658b-426a-c2fc-f0cc21f05168"
   },
   "outputs": [
    {
     "name": "stdout",
     "output_type": "stream",
     "text": [
      "Mean Absolute Error:  0.13491\n"
     ]
    }
   ],
   "source": [
    "test_MAE2=mean_absolute_error(y_test,predSeries) # calculating the mae score\n",
    "print('Mean Absolute Error: ', round(test_MAE2,5)) #pritng the results "
   ]
  },
  {
   "cell_type": "markdown",
   "id": "f4304a4a",
   "metadata": {
    "id": "ca934a25"
   },
   "source": [
    "# RMSE"
   ]
  },
  {
   "cell_type": "code",
   "execution_count": 35,
   "id": "49fcace2",
   "metadata": {
    "colab": {
     "base_uri": "https://localhost:8080/"
    },
    "id": "de31523b",
    "outputId": "44a48d44-8917-40c0-acb9-8cad59116847"
   },
   "outputs": [
    {
     "name": "stdout",
     "output_type": "stream",
     "text": [
      "Mean Squared Error:  0.17164\n"
     ]
    }
   ],
   "source": [
    "test_rmse2=np.sqrt(test_mse2) # calculating the rmse score\n",
    "print('Mean Squared Error: ', round(test_rmse2,5)) #pritng the results "
   ]
  },
  {
   "cell_type": "markdown",
   "id": "1448a96e",
   "metadata": {
    "id": "77738e90"
   },
   "source": [
    "# MAPE"
   ]
  },
  {
   "cell_type": "code",
   "execution_count": 36,
   "id": "68419a5e",
   "metadata": {
    "colab": {
     "base_uri": "https://localhost:8080/"
    },
    "id": "6337e21f",
    "outputId": "c43ab959-5e16-492f-fcd8-44c4d884ac63"
   },
   "outputs": [
    {
     "name": "stdout",
     "output_type": "stream",
     "text": [
      "Mean Absolute Error:  0.08954\n"
     ]
    }
   ],
   "source": [
    "test_mape2=mean_absolute_percentage_error(y_test,predSeries) # calculating the mape score\n",
    "print('Mean Absolute Error: ', round(test_mape2,5)) #pritng the results "
   ]
  },
  {
   "cell_type": "markdown",
   "id": "0449b26f",
   "metadata": {
    "id": "a9b2b0e2"
   },
   "source": [
    "# --------------------------------------------------------------------------------------------------"
   ]
  },
  {
   "cell_type": "code",
   "execution_count": 37,
   "id": "ea10dba3",
   "metadata": {
    "scrolled": true
   },
   "outputs": [
    {
     "data": {
      "image/png": "[encoded data removed]",
      "text/plain": [
       "<Figure size 432x288 with 1 Axes>"
      ]
     },
     "metadata": {
      "needs_background": "light"
     },
     "output_type": "display_data"
    },
    {
     "data": {
      "image/png": "[encoded data removed]",
      "text/plain": [
       "<Figure size 1296x576 with 1 Axes>"
      ]
     },
     "metadata": {
      "needs_background": "light"
     },
     "output_type": "display_data"
    }
   ],
   "source": [
    "df = pd.DataFrame({'Actual': test_data['close'], 'Predicted': predSeries})\n",
    "df2 = pd.DataFrame({'train': train_data['close']})\n",
    "ax = df.plot()\n",
    "df2.plot(ax=ax)\n",
    "df.plot(kind='line',figsize=(18,8))\n",
    "plt.grid(which='major', linestyle='-', linewidth='0.5', color='green')\n",
    "plt.grid(which='minor', linestyle=':', linewidth='0.5', color='black')\n",
    "plt.show()"
   ]
  },
  {
   "cell_type": "markdown",
   "id": "074026f0",
   "metadata": {
    "id": "f12a31db"
   },
   "source": [
    "# --------------------------------------------------------------------------------------------------"
   ]
  },
  {
   "cell_type": "markdown",
   "id": "459b9c64",
   "metadata": {
    "id": "7d0cf697"
   },
   "source": [
    "# MLP Regression Model"
   ]
  },
  {
   "cell_type": "markdown",
   "id": "b7304e33",
   "metadata": {
    "id": "8c9a9a35"
   },
   "source": [
    "### Parametrs"
   ]
  },
  {
   "cell_type": "code",
   "execution_count": 38,
   "id": "2d553883",
   "metadata": {
    "id": "43645691"
   },
   "outputs": [],
   "source": [
    "params = { \n",
    "    'max_iter': [100,200,300,400,500,600],\n",
    "    'momentum':[0.7,0.8,0.9],\n",
    "    'learning_rate_init':[0.001,0.002,0.004],\n",
    "    'hidden_layer_sizes':[(100,),(300,),(200,)]\n",
    "}"
   ]
  },
  {
   "cell_type": "code",
   "execution_count": 39,
   "id": "c83bfd28",
   "metadata": {
    "id": "7091bd7d",
    "outputId": "58ba9810-e05a-4d40-e0fa-76f5af548f7d"
   },
   "outputs": [
    {
     "name": "stdout",
     "output_type": "stream",
     "text": [
      "Iteration 1, loss = 133.90424275\n",
      "Iteration 2, loss = 60.80102830\n",
      "Iteration 3, loss = 29.92335468\n",
      "Iteration 4, loss = 17.46516470\n",
      "Iteration 5, loss = 10.90122596\n",
      "Iteration 6, loss = 6.88089804\n",
      "Iteration 7, loss = 4.27204366\n",
      "Iteration 8, loss = 2.99284041\n",
      "Iteration 9, loss = 2.15392093\n",
      "Iteration 10, loss = 1.42459684\n",
      "Iteration 11, loss = 0.79184073\n",
      "Iteration 12, loss = 0.52832320\n",
      "Iteration 13, loss = 0.36485078\n",
      "Iteration 14, loss = 0.28320363\n",
      "Iteration 15, loss = 0.25591331\n",
      "Iteration 16, loss = 0.21971099\n",
      "Iteration 17, loss = 0.20057092\n",
      "Iteration 18, loss = 0.18839197\n",
      "Iteration 19, loss = 0.19813963\n",
      "Iteration 20, loss = 0.17652272\n",
      "Iteration 21, loss = 0.16992803\n",
      "Iteration 22, loss = 0.16851712\n",
      "Iteration 23, loss = 0.16741715\n",
      "Iteration 24, loss = 0.17010192\n",
      "Iteration 25, loss = 0.16031994\n",
      "Iteration 26, loss = 0.15280110\n",
      "Iteration 27, loss = 0.17441420\n",
      "Iteration 28, loss = 0.16665378\n",
      "Iteration 29, loss = 0.15886943\n",
      "Iteration 30, loss = 0.14725589\n",
      "Iteration 31, loss = 0.14074026\n",
      "Iteration 32, loss = 0.14182396\n",
      "Iteration 33, loss = 0.14557580\n",
      "Iteration 34, loss = 0.14378488\n",
      "Iteration 35, loss = 0.13885302\n",
      "Iteration 36, loss = 0.13744094\n",
      "Iteration 37, loss = 0.14131800\n",
      "Iteration 38, loss = 0.15713499\n",
      "Iteration 39, loss = 0.13960312\n",
      "Iteration 40, loss = 0.13270854\n",
      "Iteration 41, loss = 0.13170621\n",
      "Iteration 42, loss = 0.12999559\n",
      "Iteration 43, loss = 0.12957291\n",
      "Iteration 44, loss = 0.12888233\n",
      "Iteration 45, loss = 0.12908436\n",
      "Iteration 46, loss = 0.13875585\n",
      "Iteration 47, loss = 0.15925264\n",
      "Iteration 48, loss = 0.15213967\n",
      "Iteration 49, loss = 0.16236527\n",
      "Iteration 50, loss = 0.14219113\n",
      "Iteration 51, loss = 0.13068244\n",
      "Iteration 52, loss = 0.12713885\n",
      "Iteration 53, loss = 0.12460424\n",
      "Iteration 54, loss = 0.12470110\n",
      "Iteration 55, loss = 0.12563347\n",
      "Iteration 56, loss = 0.12348116\n",
      "Iteration 57, loss = 0.12628699\n",
      "Iteration 58, loss = 0.14244708\n",
      "Iteration 59, loss = 0.12923688\n",
      "Iteration 60, loss = 0.12695624\n",
      "Iteration 61, loss = 0.13187006\n",
      "Iteration 62, loss = 0.14841185\n",
      "Iteration 63, loss = 0.12523347\n",
      "Iteration 64, loss = 0.12420176\n",
      "Iteration 65, loss = 0.12189677\n",
      "Iteration 66, loss = 0.11919526\n",
      "Iteration 67, loss = 0.11952425\n",
      "Iteration 68, loss = 0.11818731\n",
      "Iteration 69, loss = 0.12024651\n",
      "Iteration 70, loss = 0.12223184\n",
      "Iteration 71, loss = 0.12789273\n",
      "Iteration 72, loss = 0.11977858\n",
      "Iteration 73, loss = 0.12846133\n",
      "Iteration 74, loss = 0.13463245\n",
      "Iteration 75, loss = 0.14846060\n",
      "Iteration 76, loss = 0.15097657\n",
      "Iteration 77, loss = 0.14788616\n",
      "Iteration 78, loss = 0.15043779\n",
      "Iteration 79, loss = 0.13864548\n",
      "Training loss did not improve more than tol=0.000100 for 10 consecutive epochs. Stopping.\n",
      "Iteration 1, loss = 211.53984822\n",
      "Iteration 2, loss = 77.04590531\n",
      "Iteration 3, loss = 44.85858251\n",
      "Iteration 4, loss = 23.77637552\n",
      "Iteration 5, loss = 14.11029123\n",
      "Iteration 6, loss = 9.32837226\n",
      "Iteration 7, loss = 7.13837360\n",
      "Iteration 8, loss = 5.16087503\n",
      "Iteration 9, loss = 4.17282992\n",
      "Iteration 10, loss = 3.36957346\n",
      "Iteration 11, loss = 2.81003096\n",
      "Iteration 12, loss = 2.33114655\n",
      "Iteration 13, loss = 2.11973954\n",
      "Iteration 14, loss = 1.94045525\n",
      "Iteration 15, loss = 1.79235921\n",
      "Iteration 16, loss = 1.70743804\n",
      "Iteration 17, loss = 1.60714710\n",
      "Iteration 18, loss = 1.53062838\n",
      "Iteration 19, loss = 1.45232367\n",
      "Iteration 20, loss = 1.39476966\n",
      "Iteration 21, loss = 1.27466325\n",
      "Iteration 22, loss = 1.17970673\n",
      "Iteration 23, loss = 1.12005632\n",
      "Iteration 24, loss = 1.02571323\n",
      "Iteration 25, loss = 0.95769334\n",
      "Iteration 26, loss = 0.88383785\n",
      "Iteration 27, loss = 0.82829212\n",
      "Iteration 28, loss = 0.76727815\n",
      "Iteration 29, loss = 0.72670592\n",
      "Iteration 30, loss = 0.66513420\n",
      "Iteration 31, loss = 0.63046053\n",
      "Iteration 32, loss = 0.55387096\n",
      "Iteration 33, loss = 0.51926193\n",
      "Iteration 34, loss = 0.51958380\n",
      "Iteration 35, loss = 0.42903042\n",
      "Iteration 36, loss = 0.40300327\n",
      "Iteration 37, loss = 0.38456329\n",
      "Iteration 38, loss = 0.37055276\n",
      "Iteration 39, loss = 0.32943823\n",
      "Iteration 40, loss = 0.26611490\n",
      "Iteration 41, loss = 0.24617050\n",
      "Iteration 42, loss = 0.23428331\n",
      "Iteration 43, loss = 0.21629066\n",
      "Iteration 44, loss = 0.20740511\n",
      "Iteration 45, loss = 0.17807620\n",
      "Iteration 46, loss = 0.18339718\n",
      "Iteration 47, loss = 0.16473823\n",
      "Iteration 48, loss = 0.14141916\n",
      "Iteration 49, loss = 0.12799117\n",
      "Iteration 50, loss = 0.11303401\n",
      "Iteration 51, loss = 0.10943045\n",
      "Iteration 52, loss = 0.09739804\n",
      "Iteration 53, loss = 0.09068241\n",
      "Iteration 54, loss = 0.08984244\n",
      "Iteration 55, loss = 0.08542594\n",
      "Iteration 56, loss = 0.07959691\n",
      "Iteration 57, loss = 0.07820598\n",
      "Iteration 58, loss = 0.07092557\n",
      "Iteration 59, loss = 0.07026628\n",
      "Iteration 60, loss = 0.07094026\n",
      "Iteration 61, loss = 0.07016862\n",
      "Iteration 62, loss = 0.07363265\n",
      "Iteration 63, loss = 0.07238546\n",
      "Iteration 64, loss = 0.05820509\n",
      "Iteration 65, loss = 0.05480066\n",
      "Iteration 66, loss = 0.05507534\n",
      "Iteration 67, loss = 0.05489275\n",
      "Iteration 68, loss = 0.05825766\n",
      "Iteration 69, loss = 0.05805535\n",
      "Iteration 70, loss = 0.05975622\n",
      "Iteration 71, loss = 0.05357050\n",
      "Iteration 72, loss = 0.05361505\n",
      "Iteration 73, loss = 0.05908053\n",
      "Iteration 74, loss = 0.05143742\n",
      "Iteration 75, loss = 0.04979851\n",
      "Iteration 76, loss = 0.05040455\n",
      "Iteration 77, loss = 0.05286269\n",
      "Iteration 78, loss = 0.05052606\n",
      "Iteration 79, loss = 0.05200692\n",
      "Iteration 80, loss = 0.04725064\n",
      "Iteration 81, loss = 0.04511563\n",
      "Iteration 82, loss = 0.04508827\n",
      "Iteration 83, loss = 0.04678629\n",
      "Iteration 84, loss = 0.04484962\n",
      "Iteration 85, loss = 0.04652245\n",
      "Iteration 86, loss = 0.04669809\n",
      "Iteration 87, loss = 0.04648442\n",
      "Iteration 88, loss = 0.04699595\n",
      "Iteration 89, loss = 0.04296495\n",
      "Iteration 90, loss = 0.04875524\n",
      "Iteration 91, loss = 0.04208100\n",
      "Iteration 92, loss = 0.04135252\n",
      "Iteration 93, loss = 0.03929163\n",
      "Iteration 94, loss = 0.04000391\n",
      "Iteration 95, loss = 0.04209358\n",
      "Iteration 96, loss = 0.04373747\n",
      "Iteration 97, loss = 0.04167289\n",
      "Iteration 98, loss = 0.03956372\n",
      "Iteration 99, loss = 0.03754118\n",
      "Iteration 100, loss = 0.03842374\n",
      "Iteration 1, loss = 136.39871662\n",
      "Iteration 2, loss = 66.28690081\n",
      "Iteration 3, loss = 34.23971171\n",
      "Iteration 4, loss = 20.51443825\n",
      "Iteration 5, loss = 14.02851810\n",
      "Iteration 6, loss = 9.53492800\n",
      "Iteration 7, loss = 6.36114455\n",
      "Iteration 8, loss = 4.26317575\n",
      "Iteration 9, loss = 3.02823839\n",
      "Iteration 10, loss = 2.04516847\n",
      "Iteration 11, loss = 1.47854860\n",
      "Iteration 12, loss = 1.12063657\n",
      "Iteration 13, loss = 0.83850405\n",
      "Iteration 14, loss = 0.71769464\n",
      "Iteration 15, loss = 0.68540740\n",
      "Iteration 16, loss = 0.61784444\n",
      "Iteration 17, loss = 0.52775728\n",
      "Iteration 18, loss = 0.48213718\n",
      "Iteration 19, loss = 0.44017621\n",
      "Iteration 20, loss = 0.42078156\n",
      "Iteration 21, loss = 0.38451256\n",
      "Iteration 22, loss = 0.35960837\n",
      "Iteration 23, loss = 0.35227159\n",
      "Iteration 24, loss = 0.32961676\n",
      "Iteration 25, loss = 0.32404923\n",
      "Iteration 26, loss = 0.29283113\n",
      "Iteration 27, loss = 0.27199867\n",
      "Iteration 28, loss = 0.28397316\n",
      "Iteration 29, loss = 0.24802671\n",
      "Iteration 30, loss = 0.23357637\n",
      "Iteration 31, loss = 0.22406348\n",
      "Iteration 32, loss = 0.20396449\n",
      "Iteration 33, loss = 0.19008562\n",
      "Iteration 34, loss = 0.18591739\n",
      "Iteration 35, loss = 0.16923692\n",
      "Iteration 36, loss = 0.16623710\n",
      "Iteration 37, loss = 0.16061880\n",
      "Iteration 38, loss = 0.16225470\n",
      "Iteration 39, loss = 0.15318935\n",
      "Iteration 40, loss = 0.14983465\n",
      "Iteration 41, loss = 0.14727938\n",
      "Iteration 42, loss = 0.15554751\n",
      "Iteration 43, loss = 0.14800327\n",
      "Iteration 44, loss = 0.13745648\n",
      "Iteration 45, loss = 0.13238204\n",
      "Iteration 46, loss = 0.13214643\n",
      "Iteration 47, loss = 0.13031245\n",
      "Iteration 48, loss = 0.12937044\n",
      "Iteration 49, loss = 0.13204729\n",
      "Iteration 50, loss = 0.12867518\n",
      "Iteration 51, loss = 0.13509762\n",
      "Iteration 52, loss = 0.14317435\n",
      "Iteration 53, loss = 0.12839596\n",
      "Iteration 54, loss = 0.13117348\n",
      "Iteration 55, loss = 0.12831134\n",
      "Iteration 56, loss = 0.13448719\n",
      "Iteration 57, loss = 0.12813852\n",
      "Iteration 58, loss = 0.13481377\n",
      "Iteration 59, loss = 0.12956923\n",
      "Iteration 60, loss = 0.12607975\n",
      "Iteration 61, loss = 0.13533851\n",
      "Iteration 62, loss = 0.16237401\n",
      "Iteration 63, loss = 0.18561963\n",
      "Iteration 64, loss = 0.16890415\n",
      "Iteration 65, loss = 0.16940666\n",
      "Iteration 66, loss = 0.14766519\n",
      "Iteration 67, loss = 0.14238088\n",
      "Iteration 68, loss = 0.13970176\n",
      "Iteration 69, loss = 0.14650052\n",
      "Iteration 70, loss = 0.12956215\n",
      "Iteration 71, loss = 0.11804928\n",
      "Iteration 72, loss = 0.11965084\n",
      "Iteration 73, loss = 0.11683416\n",
      "Iteration 74, loss = 0.12854191\n",
      "Iteration 75, loss = 0.11793059\n",
      "Iteration 76, loss = 0.11867152\n",
      "Iteration 77, loss = 0.11575410\n",
      "Iteration 78, loss = 0.11916419\n",
      "Iteration 79, loss = 0.13041115\n",
      "Iteration 80, loss = 0.13176592\n",
      "Iteration 81, loss = 0.13632035\n",
      "Iteration 82, loss = 0.12291986\n",
      "Iteration 83, loss = 0.11681104\n",
      "Iteration 84, loss = 0.12501883\n",
      "Iteration 85, loss = 0.12812790\n",
      "Iteration 86, loss = 0.12441915\n",
      "Iteration 87, loss = 0.13554532\n",
      "Iteration 88, loss = 0.13457100\n",
      "Training loss did not improve more than tol=0.000100 for 10 consecutive epochs. Stopping.\n",
      "Iteration 1, loss = 20401.98753402\n",
      "Iteration 2, loss = 886.98970405\n",
      "Iteration 3, loss = 3484.38583803\n",
      "Iteration 4, loss = 2820.36265539\n",
      "Iteration 5, loss = 218.51643553\n",
      "Iteration 6, loss = 609.63305561\n",
      "Iteration 7, loss = 646.77189126\n",
      "Iteration 8, loss = 55.59517353\n"
     ]
    },
    {
     "name": "stdout",
     "output_type": "stream",
     "text": [
      "Iteration 9, loss = 152.40403636\n",
      "Iteration 10, loss = 129.42342023\n",
      "Iteration 11, loss = 8.73573608\n",
      "Iteration 12, loss = 48.65732526\n",
      "Iteration 13, loss = 17.37862833\n",
      "Iteration 14, loss = 7.11840869\n",
      "Iteration 15, loss = 12.28402185\n",
      "Iteration 16, loss = 1.68380730\n",
      "Iteration 17, loss = 4.64746971\n",
      "Iteration 18, loss = 1.76654411\n",
      "Iteration 19, loss = 1.68143451\n",
      "Iteration 20, loss = 1.48905596\n",
      "Iteration 21, loss = 0.93845238\n",
      "Iteration 22, loss = 1.11022725\n",
      "Iteration 23, loss = 0.79862240\n",
      "Iteration 24, loss = 0.89980846\n",
      "Iteration 25, loss = 0.77601450\n",
      "Iteration 26, loss = 0.79540538\n",
      "Iteration 27, loss = 0.73893748\n",
      "Iteration 28, loss = 0.72027520\n",
      "Iteration 29, loss = 0.69227658\n",
      "Iteration 30, loss = 0.67065714\n",
      "Iteration 31, loss = 0.64956827\n",
      "Iteration 32, loss = 0.63234619\n",
      "Iteration 33, loss = 0.62574727\n",
      "Iteration 34, loss = 0.59368663\n",
      "Iteration 35, loss = 0.55483864\n",
      "Iteration 36, loss = 0.53652338\n",
      "Iteration 37, loss = 0.53955533\n",
      "Iteration 38, loss = 0.51605063\n",
      "Iteration 39, loss = 0.50803107\n",
      "Iteration 40, loss = 0.47245253\n",
      "Iteration 41, loss = 0.42768112\n",
      "Iteration 42, loss = 0.41519319\n",
      "Iteration 43, loss = 0.39998820\n",
      "Iteration 44, loss = 0.37615920\n",
      "Iteration 45, loss = 0.34960635\n",
      "Iteration 46, loss = 0.33524242\n",
      "Iteration 47, loss = 0.31737555\n",
      "Iteration 48, loss = 0.29535565\n",
      "Iteration 49, loss = 0.28429417\n",
      "Iteration 50, loss = 0.26143682\n",
      "Iteration 51, loss = 0.25832349\n",
      "Iteration 52, loss = 0.24474415\n",
      "Iteration 53, loss = 0.22740185\n",
      "Iteration 54, loss = 0.21209292\n",
      "Iteration 55, loss = 0.19853298\n",
      "Iteration 56, loss = 0.19327345\n",
      "Iteration 57, loss = 0.18858611\n",
      "Iteration 58, loss = 0.17492236\n",
      "Iteration 59, loss = 0.16734579\n",
      "Iteration 60, loss = 0.16389314\n",
      "Iteration 61, loss = 0.16862336\n",
      "Iteration 62, loss = 0.16384961\n",
      "Iteration 63, loss = 0.15495693\n",
      "Iteration 64, loss = 0.14531566\n",
      "Iteration 65, loss = 0.14363322\n",
      "Iteration 66, loss = 0.13924188\n",
      "Iteration 67, loss = 0.13809343\n",
      "Iteration 68, loss = 0.13842428\n",
      "Iteration 69, loss = 0.13221024\n",
      "Iteration 70, loss = 0.13275964\n",
      "Iteration 71, loss = 0.14000302\n",
      "Iteration 72, loss = 0.13082605\n",
      "Iteration 73, loss = 0.12469425\n",
      "Iteration 74, loss = 0.12278984\n",
      "Iteration 75, loss = 0.12293052\n",
      "Iteration 76, loss = 0.14810905\n",
      "Iteration 77, loss = 0.13807204\n",
      "Iteration 78, loss = 0.12534665\n",
      "Iteration 79, loss = 0.13369578\n",
      "Iteration 80, loss = 0.12544024\n",
      "Iteration 81, loss = 0.12205990\n",
      "Iteration 82, loss = 0.11150109\n",
      "Iteration 83, loss = 0.10742047\n",
      "Iteration 84, loss = 0.10164158\n",
      "Iteration 85, loss = 0.10047905\n",
      "Iteration 86, loss = 0.09799666\n",
      "Iteration 87, loss = 0.09750981\n",
      "Iteration 88, loss = 0.10396318\n",
      "Iteration 89, loss = 0.10366786\n",
      "Iteration 90, loss = 0.09358139\n",
      "Iteration 91, loss = 0.08851084\n",
      "Iteration 92, loss = 0.08618637\n",
      "Iteration 93, loss = 0.08590996\n",
      "Iteration 94, loss = 0.09495795\n",
      "Iteration 95, loss = 0.08570012\n",
      "Iteration 96, loss = 0.09426748\n",
      "Iteration 97, loss = 0.08677279\n",
      "Iteration 98, loss = 0.09473472\n",
      "Iteration 99, loss = 0.08454763\n",
      "Iteration 100, loss = 0.08667797\n",
      "Iteration 101, loss = 0.08235977\n",
      "Iteration 102, loss = 0.07379441\n",
      "Iteration 103, loss = 0.07462936\n",
      "Iteration 104, loss = 0.07309038\n",
      "Iteration 105, loss = 0.06504524\n",
      "Iteration 106, loss = 0.06461088\n",
      "Iteration 107, loss = 0.06296806\n",
      "Iteration 108, loss = 0.07252376\n",
      "Iteration 109, loss = 0.07064159\n",
      "Iteration 110, loss = 0.06194138\n",
      "Iteration 111, loss = 0.06181303\n",
      "Iteration 112, loss = 0.05997482\n",
      "Iteration 113, loss = 0.05549725\n",
      "Iteration 114, loss = 0.05193928\n",
      "Iteration 115, loss = 0.05047690\n",
      "Iteration 116, loss = 0.04987696\n",
      "Iteration 117, loss = 0.04871281\n",
      "Iteration 118, loss = 0.05172514\n",
      "Iteration 119, loss = 0.05034563\n",
      "Iteration 120, loss = 0.04665900\n",
      "Iteration 121, loss = 0.04381865\n",
      "Iteration 122, loss = 0.04328666\n",
      "Iteration 123, loss = 0.05217073\n",
      "Iteration 124, loss = 0.04721500\n",
      "Iteration 125, loss = 0.04807926\n",
      "Iteration 126, loss = 0.04076156\n",
      "Iteration 127, loss = 0.04117885\n",
      "Iteration 128, loss = 0.04067523\n",
      "Iteration 129, loss = 0.03684923\n",
      "Iteration 130, loss = 0.03583045\n",
      "Iteration 131, loss = 0.03492968\n",
      "Iteration 132, loss = 0.03378602\n",
      "Iteration 133, loss = 0.03313133\n",
      "Iteration 134, loss = 0.03278590\n",
      "Iteration 135, loss = 0.03148250\n",
      "Iteration 136, loss = 0.03067128\n",
      "Iteration 137, loss = 0.03081635\n",
      "Iteration 138, loss = 0.03006324\n",
      "Iteration 139, loss = 0.03035118\n",
      "Iteration 140, loss = 0.03569415\n",
      "Iteration 141, loss = 0.03058382\n",
      "Iteration 142, loss = 0.03190841\n",
      "Iteration 143, loss = 0.02757764\n",
      "Iteration 144, loss = 0.03034643\n",
      "Iteration 145, loss = 0.03055956\n",
      "Iteration 146, loss = 0.02744761\n",
      "Iteration 147, loss = 0.02713372\n",
      "Iteration 148, loss = 0.02603470\n",
      "Iteration 149, loss = 0.02583889\n",
      "Iteration 150, loss = 0.02794587\n",
      "Iteration 151, loss = 0.02630936\n",
      "Iteration 152, loss = 0.02855809\n",
      "Iteration 153, loss = 0.02574343\n",
      "Iteration 154, loss = 0.02300263\n",
      "Iteration 155, loss = 0.02220221\n",
      "Iteration 156, loss = 0.02609227\n",
      "Iteration 157, loss = 0.02278392\n",
      "Iteration 158, loss = 0.02143563\n",
      "Iteration 159, loss = 0.02260404\n",
      "Iteration 160, loss = 0.02268579\n",
      "Iteration 161, loss = 0.02198894\n",
      "Iteration 162, loss = 0.02241322\n",
      "Iteration 163, loss = 0.02112029\n",
      "Iteration 164, loss = 0.02048967\n",
      "Iteration 165, loss = 0.02012053\n",
      "Iteration 166, loss = 0.02057156\n",
      "Iteration 167, loss = 0.02050503\n",
      "Iteration 168, loss = 0.02024355\n",
      "Iteration 169, loss = 0.02066731\n",
      "Iteration 170, loss = 0.02272860\n",
      "Iteration 171, loss = 0.02230480\n",
      "Iteration 172, loss = 0.02081129\n",
      "Iteration 173, loss = 0.02079060\n",
      "Iteration 174, loss = 0.01983019\n",
      "Iteration 175, loss = 0.01925279\n",
      "Iteration 176, loss = 0.02240817\n",
      "Iteration 177, loss = 0.01852857\n",
      "Iteration 178, loss = 0.01979053\n",
      "Iteration 179, loss = 0.02059839\n",
      "Iteration 180, loss = 0.02223601\n",
      "Iteration 181, loss = 0.02327488\n",
      "Iteration 182, loss = 0.02504295\n",
      "Iteration 183, loss = 0.02262291\n",
      "Iteration 184, loss = 0.02251980\n",
      "Iteration 185, loss = 0.02056126\n",
      "Iteration 186, loss = 0.02009552\n",
      "Iteration 187, loss = 0.01956799\n",
      "Iteration 188, loss = 0.01838287\n",
      "Iteration 189, loss = 0.01799203\n",
      "Iteration 190, loss = 0.01896708\n",
      "Iteration 191, loss = 0.01852777\n",
      "Iteration 192, loss = 0.01977545\n",
      "Iteration 193, loss = 0.01784502\n",
      "Iteration 194, loss = 0.01774782\n",
      "Iteration 195, loss = 0.01774869\n",
      "Iteration 196, loss = 0.01773969\n",
      "Iteration 197, loss = 0.01746311\n",
      "Iteration 198, loss = 0.01928177\n",
      "Iteration 199, loss = 0.01789254\n",
      "Iteration 200, loss = 0.02111272\n",
      "Iteration 201, loss = 0.02195488\n",
      "Iteration 202, loss = 0.02186086\n",
      "Iteration 203, loss = 0.02173382\n",
      "Iteration 204, loss = 0.02251102\n",
      "Iteration 205, loss = 0.02640195\n",
      "Iteration 206, loss = 0.02014945\n",
      "Iteration 207, loss = 0.02204452\n",
      "Iteration 208, loss = 0.02305515\n",
      "Training loss did not improve more than tol=0.000100 for 10 consecutive epochs. Stopping.\n",
      "Iteration 1, loss = 908.35386145\n",
      "Iteration 2, loss = 370.94432265\n",
      "Iteration 3, loss = 216.61519327\n",
      "Iteration 4, loss = 127.38531941\n",
      "Iteration 5, loss = 78.48565169\n",
      "Iteration 6, loss = 47.27530173\n",
      "Iteration 7, loss = 28.73207756\n",
      "Iteration 8, loss = 17.51944213\n",
      "Iteration 9, loss = 10.45819098\n",
      "Iteration 10, loss = 6.85446872\n",
      "Iteration 11, loss = 5.03718865\n",
      "Iteration 12, loss = 3.90059215\n",
      "Iteration 13, loss = 2.88818064\n",
      "Iteration 14, loss = 2.21072740\n",
      "Iteration 15, loss = 1.98251922\n",
      "Iteration 16, loss = 1.70953451\n",
      "Iteration 17, loss = 1.47809034\n",
      "Iteration 18, loss = 1.45196104\n",
      "Iteration 19, loss = 1.52256406\n",
      "Iteration 20, loss = 1.18019016\n",
      "Iteration 21, loss = 1.03040173\n",
      "Iteration 22, loss = 0.90828788\n",
      "Iteration 23, loss = 0.80839884\n",
      "Iteration 24, loss = 0.69569244\n",
      "Iteration 25, loss = 0.58558993\n",
      "Iteration 26, loss = 0.47356034\n",
      "Iteration 27, loss = 0.39965788\n",
      "Iteration 28, loss = 0.29747768\n",
      "Iteration 29, loss = 0.22407885\n",
      "Iteration 30, loss = 0.17341259\n",
      "Iteration 31, loss = 0.31276621\n",
      "Iteration 32, loss = 0.20469509\n",
      "Iteration 33, loss = 0.17859490\n",
      "Iteration 34, loss = 0.15556826\n",
      "Iteration 35, loss = 0.16927999\n",
      "Iteration 36, loss = 0.13406339\n",
      "Iteration 37, loss = 0.14853512\n",
      "Iteration 38, loss = 0.13532934\n",
      "Iteration 39, loss = 0.13732932\n",
      "Iteration 40, loss = 0.13430214\n",
      "Iteration 41, loss = 0.15234634\n",
      "Iteration 42, loss = 0.14470562\n",
      "Iteration 43, loss = 0.13739822\n",
      "Iteration 44, loss = 0.16315847\n",
      "Iteration 45, loss = 0.15302706\n",
      "Iteration 46, loss = 0.12533714\n",
      "Iteration 47, loss = 0.12192812\n",
      "Iteration 48, loss = 0.13786832\n",
      "Iteration 49, loss = 0.14045341\n",
      "Iteration 50, loss = 0.12686672\n",
      "Iteration 51, loss = 0.15868037\n",
      "Iteration 52, loss = 0.15452819\n",
      "Iteration 53, loss = 0.15825144\n",
      "Iteration 54, loss = 0.13711560\n",
      "Iteration 55, loss = 0.18131756\n",
      "Iteration 56, loss = 0.14713347\n",
      "Iteration 57, loss = 0.15030949\n",
      "Iteration 58, loss = 0.14792576\n",
      "Training loss did not improve more than tol=0.000100 for 10 consecutive epochs. Stopping.\n",
      "Iteration 1, loss = 1634.59742233\n",
      "Iteration 2, loss = 579.89232437\n",
      "Iteration 3, loss = 305.78304409\n",
      "Iteration 4, loss = 151.23827549\n",
      "Iteration 5, loss = 82.57928033\n",
      "Iteration 6, loss = 53.88036015\n",
      "Iteration 7, loss = 40.25334662\n",
      "Iteration 8, loss = 27.21509919\n",
      "Iteration 9, loss = 17.28397435\n",
      "Iteration 10, loss = 11.32528089\n",
      "Iteration 11, loss = 6.90959528\n",
      "Iteration 12, loss = 2.64324100\n",
      "Iteration 13, loss = 1.57980136\n",
      "Iteration 14, loss = 1.22006648\n",
      "Iteration 15, loss = 1.09068168\n",
      "Iteration 16, loss = 1.00325842\n",
      "Iteration 17, loss = 0.84119466\n",
      "Iteration 18, loss = 0.65227811\n",
      "Iteration 19, loss = 0.69833802\n",
      "Iteration 20, loss = 0.57828304\n",
      "Iteration 21, loss = 0.50907804\n",
      "Iteration 22, loss = 0.35023615\n",
      "Iteration 23, loss = 0.27673081\n",
      "Iteration 24, loss = 0.23105939\n",
      "Iteration 25, loss = 0.19134263\n",
      "Iteration 26, loss = 0.16371624\n",
      "Iteration 27, loss = 0.20494810\n",
      "Iteration 28, loss = 0.09941538\n",
      "Iteration 29, loss = 0.09001775\n",
      "Iteration 30, loss = 0.10292345\n",
      "Iteration 31, loss = 0.09538485\n",
      "Iteration 32, loss = 0.10861812\n",
      "Iteration 33, loss = 0.11846885\n",
      "Iteration 34, loss = 0.09563576\n",
      "Iteration 35, loss = 0.09229478\n",
      "Iteration 36, loss = 0.07016883\n",
      "Iteration 37, loss = 0.06410681\n",
      "Iteration 38, loss = 0.06527263\n",
      "Iteration 39, loss = 0.06962445\n",
      "Iteration 40, loss = 0.06290178\n",
      "Iteration 41, loss = 0.05274929\n",
      "Iteration 42, loss = 0.08625857\n",
      "Iteration 43, loss = 0.08185374\n",
      "Iteration 44, loss = 0.08737469\n",
      "Iteration 45, loss = 0.08580549\n",
      "Iteration 46, loss = 0.07532836\n",
      "Iteration 47, loss = 0.06133227\n",
      "Iteration 48, loss = 0.05639941\n",
      "Iteration 49, loss = 0.05787226\n",
      "Iteration 50, loss = 0.04066442\n",
      "Iteration 51, loss = 0.05463666\n",
      "Iteration 52, loss = 0.05462110\n",
      "Iteration 53, loss = 0.05663736\n",
      "Iteration 54, loss = 0.05572066\n",
      "Iteration 55, loss = 0.04524709\n"
     ]
    },
    {
     "name": "stdout",
     "output_type": "stream",
     "text": [
      "Iteration 56, loss = 0.06285913\n",
      "Iteration 57, loss = 0.06308676\n",
      "Iteration 58, loss = 0.05366680\n",
      "Iteration 59, loss = 0.03456354\n",
      "Iteration 60, loss = 0.03242713\n",
      "Iteration 61, loss = 0.02788283\n",
      "Iteration 62, loss = 0.03680644\n",
      "Iteration 63, loss = 0.04237397\n",
      "Iteration 64, loss = 0.04632399\n",
      "Iteration 65, loss = 0.03204606\n",
      "Iteration 66, loss = 0.02578763\n",
      "Iteration 67, loss = 0.02421569\n",
      "Iteration 68, loss = 0.03008713\n",
      "Iteration 69, loss = 0.03585418\n",
      "Iteration 70, loss = 0.04253073\n",
      "Iteration 71, loss = 0.03294393\n",
      "Iteration 72, loss = 0.02182249\n",
      "Iteration 73, loss = 0.02530342\n",
      "Iteration 74, loss = 0.03948860\n",
      "Iteration 75, loss = 0.10499365\n",
      "Iteration 76, loss = 0.07089911\n",
      "Iteration 77, loss = 0.05192494\n",
      "Iteration 78, loss = 0.03632951\n",
      "Iteration 79, loss = 0.04732884\n",
      "Iteration 80, loss = 0.03102623\n",
      "Iteration 81, loss = 0.02263549\n",
      "Iteration 82, loss = 0.02765837\n",
      "Iteration 83, loss = 0.02525822\n",
      "Training loss did not improve more than tol=0.000100 for 10 consecutive epochs. Stopping.\n",
      "Iteration 1, loss = 887.24884320\n",
      "Iteration 2, loss = 414.64965881\n",
      "Iteration 3, loss = 199.26421994\n",
      "Iteration 4, loss = 114.51774242\n",
      "Iteration 5, loss = 70.90686710\n",
      "Iteration 6, loss = 43.53358088\n",
      "Iteration 7, loss = 27.11813812\n",
      "Iteration 8, loss = 15.04566047\n",
      "Iteration 9, loss = 8.79190407\n",
      "Iteration 10, loss = 4.83108443\n",
      "Iteration 11, loss = 3.63953212\n",
      "Iteration 12, loss = 2.37241273\n",
      "Iteration 13, loss = 1.03519932\n",
      "Iteration 14, loss = 0.86099211\n",
      "Iteration 15, loss = 0.73090336\n",
      "Iteration 16, loss = 0.64944080\n",
      "Iteration 17, loss = 0.56888996\n",
      "Iteration 18, loss = 0.47489541\n",
      "Iteration 19, loss = 0.43852298\n",
      "Iteration 20, loss = 0.36967664\n",
      "Iteration 21, loss = 0.32606084\n",
      "Iteration 22, loss = 0.26731213\n",
      "Iteration 23, loss = 0.21190791\n",
      "Iteration 24, loss = 0.20268763\n",
      "Iteration 25, loss = 0.15922715\n",
      "Iteration 26, loss = 0.13199435\n",
      "Iteration 27, loss = 0.11316385\n",
      "Iteration 28, loss = 0.10922425\n",
      "Iteration 29, loss = 0.09559322\n",
      "Iteration 30, loss = 0.13961132\n",
      "Iteration 31, loss = 0.12361646\n",
      "Iteration 32, loss = 0.09528322\n",
      "Iteration 33, loss = 0.10033759\n",
      "Iteration 34, loss = 0.10559796\n",
      "Iteration 35, loss = 0.09321529\n",
      "Iteration 36, loss = 0.09773338\n",
      "Iteration 37, loss = 0.10712668\n",
      "Iteration 38, loss = 0.09562669\n",
      "Iteration 39, loss = 0.12537262\n",
      "Iteration 40, loss = 0.10929915\n",
      "Iteration 41, loss = 0.13053883\n",
      "Iteration 42, loss = 0.10283653\n",
      "Iteration 43, loss = 0.11351967\n",
      "Iteration 44, loss = 0.10060197\n",
      "Iteration 45, loss = 0.09115784\n",
      "Iteration 46, loss = 0.10828403\n",
      "Iteration 47, loss = 0.10801223\n",
      "Iteration 48, loss = 0.14908468\n",
      "Iteration 49, loss = 0.14543170\n",
      "Iteration 50, loss = 0.12553845\n",
      "Iteration 51, loss = 0.11248513\n",
      "Iteration 52, loss = 0.09187204\n",
      "Iteration 53, loss = 0.09780520\n",
      "Iteration 54, loss = 0.09212972\n",
      "Iteration 55, loss = 0.09081681\n",
      "Iteration 56, loss = 0.08895672\n",
      "Iteration 57, loss = 0.08810568\n",
      "Iteration 58, loss = 0.08737124\n",
      "Iteration 59, loss = 0.10596158\n",
      "Iteration 60, loss = 0.16365570\n",
      "Iteration 61, loss = 0.14502834\n",
      "Iteration 62, loss = 0.12532016\n",
      "Iteration 63, loss = 0.09833621\n",
      "Iteration 64, loss = 0.10749707\n",
      "Iteration 65, loss = 0.10820184\n",
      "Iteration 66, loss = 0.08774954\n",
      "Iteration 67, loss = 0.09768170\n",
      "Iteration 68, loss = 0.09924098\n",
      "Iteration 69, loss = 0.11005410\n",
      "Training loss did not improve more than tol=0.000100 for 10 consecutive epochs. Stopping.\n",
      "Iteration 1, loss = 1229.99132291\n",
      "Iteration 2, loss = 638.79334760\n",
      "Iteration 3, loss = 382.63616775\n",
      "Iteration 4, loss = 296.67969115\n",
      "Iteration 5, loss = 191.62651640\n",
      "Iteration 6, loss = 98.25613614\n",
      "Iteration 7, loss = 47.78349533\n",
      "Iteration 8, loss = 24.38806457\n",
      "Iteration 9, loss = 14.55802391\n",
      "Iteration 10, loss = 8.84303915\n",
      "Iteration 11, loss = 5.49362630\n",
      "Iteration 12, loss = 2.35454860\n",
      "Iteration 13, loss = 0.75643023\n",
      "Iteration 14, loss = 0.41020396\n",
      "Iteration 15, loss = 0.31698809\n",
      "Iteration 16, loss = 0.24719830\n",
      "Iteration 17, loss = 0.21011582\n",
      "Iteration 18, loss = 0.21984855\n",
      "Iteration 19, loss = 0.18981185\n",
      "Iteration 20, loss = 0.17895850\n",
      "Iteration 21, loss = 0.16382811\n",
      "Iteration 22, loss = 0.16934331\n",
      "Iteration 23, loss = 0.15132267\n",
      "Iteration 24, loss = 0.16915332\n",
      "Iteration 25, loss = 0.14276093\n",
      "Iteration 26, loss = 0.22536168\n",
      "Iteration 27, loss = 0.13986449\n",
      "Iteration 28, loss = 0.12520300\n",
      "Iteration 29, loss = 0.11498232\n",
      "Iteration 30, loss = 0.10779743\n",
      "Iteration 31, loss = 0.10513037\n",
      "Iteration 32, loss = 0.09145161\n",
      "Iteration 33, loss = 0.08134483\n",
      "Iteration 34, loss = 0.08218162\n",
      "Iteration 35, loss = 0.08085057\n",
      "Iteration 36, loss = 0.06909284\n",
      "Iteration 37, loss = 0.07097839\n",
      "Iteration 38, loss = 0.07763460\n",
      "Iteration 39, loss = 0.07258586\n",
      "Iteration 40, loss = 0.06241335\n",
      "Iteration 41, loss = 0.06118104\n",
      "Iteration 42, loss = 0.05856197\n",
      "Iteration 43, loss = 0.06022399\n",
      "Iteration 44, loss = 0.06047951\n",
      "Iteration 45, loss = 0.06012547\n",
      "Iteration 46, loss = 0.05730737\n",
      "Iteration 47, loss = 0.05367537\n",
      "Iteration 48, loss = 0.05383372\n",
      "Iteration 49, loss = 0.04557091\n",
      "Iteration 50, loss = 0.04910403\n",
      "Iteration 51, loss = 0.04351248\n",
      "Iteration 52, loss = 0.04203010\n",
      "Iteration 53, loss = 0.04467033\n",
      "Iteration 54, loss = 0.06691127\n",
      "Iteration 55, loss = 0.06246052\n",
      "Iteration 56, loss = 0.05589078\n",
      "Iteration 57, loss = 0.04852683\n",
      "Iteration 58, loss = 0.04049836\n",
      "Iteration 59, loss = 0.03744546\n",
      "Iteration 60, loss = 0.03551942\n",
      "Iteration 61, loss = 0.03168866\n",
      "Iteration 62, loss = 0.02944946\n",
      "Iteration 63, loss = 0.03074154\n",
      "Iteration 64, loss = 0.03165439\n",
      "Iteration 65, loss = 0.03116389\n",
      "Iteration 66, loss = 0.03114335\n",
      "Iteration 67, loss = 0.02632807\n",
      "Iteration 68, loss = 0.02776663\n",
      "Iteration 69, loss = 0.02642951\n",
      "Iteration 70, loss = 0.04783684\n",
      "Iteration 71, loss = 0.03596198\n",
      "Iteration 72, loss = 0.03636802\n",
      "Iteration 73, loss = 0.02877714\n",
      "Iteration 74, loss = 0.02938179\n",
      "Iteration 75, loss = 0.02451246\n",
      "Iteration 76, loss = 0.02549348\n",
      "Iteration 77, loss = 0.05103177\n",
      "Iteration 78, loss = 0.02966518\n",
      "Iteration 79, loss = 0.04126293\n",
      "Iteration 80, loss = 0.07169745\n",
      "Iteration 81, loss = 0.03615069\n",
      "Iteration 82, loss = 0.02810251\n",
      "Iteration 83, loss = 0.02420593\n",
      "Iteration 84, loss = 0.02166456\n",
      "Iteration 85, loss = 0.02065061\n",
      "Iteration 86, loss = 0.02575296\n",
      "Iteration 87, loss = 0.01991823\n",
      "Iteration 88, loss = 0.02150030\n",
      "Iteration 89, loss = 0.02011911\n",
      "Iteration 90, loss = 0.02449877\n",
      "Iteration 91, loss = 0.02291621\n",
      "Iteration 92, loss = 0.02395397\n",
      "Iteration 93, loss = 0.03047013\n",
      "Iteration 94, loss = 0.02196602\n",
      "Iteration 95, loss = 0.02623705\n",
      "Iteration 96, loss = 0.02309338\n",
      "Iteration 97, loss = 0.02277723\n",
      "Iteration 98, loss = 0.02419593\n",
      "Training loss did not improve more than tol=0.000100 for 10 consecutive epochs. Stopping.\n",
      "Iteration 1, loss = 1528.82696115\n",
      "Iteration 2, loss = 413.24736913\n",
      "Iteration 3, loss = 189.61427004\n",
      "Iteration 4, loss = 158.78030193\n",
      "Iteration 5, loss = 136.17315327\n",
      "Iteration 6, loss = 82.17607662\n",
      "Iteration 7, loss = 38.46852149\n",
      "Iteration 8, loss = 18.36523821\n",
      "Iteration 9, loss = 11.00928801\n",
      "Iteration 10, loss = 7.56667742\n",
      "Iteration 11, loss = 5.51293549\n",
      "Iteration 12, loss = 3.64804720\n",
      "Iteration 13, loss = 2.12764508\n",
      "Iteration 14, loss = 1.40770882\n",
      "Iteration 15, loss = 0.94887457\n",
      "Iteration 16, loss = 0.81254718\n",
      "Iteration 17, loss = 0.60334042\n",
      "Iteration 18, loss = 0.54351418\n",
      "Iteration 19, loss = 0.46340014\n",
      "Iteration 20, loss = 0.46636497\n",
      "Iteration 21, loss = 0.44048157\n",
      "Iteration 22, loss = 0.39057751\n",
      "Iteration 23, loss = 0.38206455\n",
      "Iteration 24, loss = 0.35236990\n",
      "Iteration 25, loss = 0.31398138\n",
      "Iteration 26, loss = 0.28088361\n",
      "Iteration 27, loss = 0.25906308\n",
      "Iteration 28, loss = 0.23499363\n",
      "Iteration 29, loss = 0.21289260\n",
      "Iteration 30, loss = 0.19747494\n",
      "Iteration 31, loss = 0.15601361\n",
      "Iteration 32, loss = 0.13332788\n",
      "Iteration 33, loss = 0.11977373\n",
      "Iteration 34, loss = 0.10882181\n",
      "Iteration 35, loss = 0.10823037\n",
      "Iteration 36, loss = 0.11459420\n",
      "Iteration 37, loss = 0.10980134\n",
      "Iteration 38, loss = 0.09338374\n",
      "Iteration 39, loss = 0.09097130\n",
      "Iteration 40, loss = 0.08905099\n",
      "Iteration 41, loss = 0.08999667\n",
      "Iteration 42, loss = 0.10252065\n",
      "Iteration 43, loss = 0.09691150\n",
      "Iteration 44, loss = 0.11333952\n",
      "Iteration 45, loss = 0.10768930\n",
      "Iteration 46, loss = 0.09766406\n",
      "Iteration 47, loss = 0.08904868\n",
      "Iteration 48, loss = 0.09653058\n",
      "Iteration 49, loss = 0.11075104\n",
      "Iteration 50, loss = 0.09242625\n",
      "Iteration 51, loss = 0.09085138\n",
      "Training loss did not improve more than tol=0.000100 for 10 consecutive epochs. Stopping.\n",
      "Iteration 1, loss = 408.48001765\n",
      "Iteration 2, loss = 164.64184222\n",
      "Iteration 3, loss = 78.18062036\n",
      "Iteration 4, loss = 43.13537713\n",
      "Iteration 5, loss = 25.56411400\n",
      "Iteration 6, loss = 15.58605899\n",
      "Iteration 7, loss = 9.70534544\n",
      "Iteration 8, loss = 6.56121957\n",
      "Iteration 9, loss = 4.50550988\n",
      "Iteration 10, loss = 2.70312498\n",
      "Iteration 11, loss = 1.31633810\n",
      "Iteration 12, loss = 0.70782916\n",
      "Iteration 13, loss = 0.45673085\n",
      "Iteration 14, loss = 0.27390854\n",
      "Iteration 15, loss = 0.20134859\n",
      "Iteration 16, loss = 0.21739770\n",
      "Iteration 17, loss = 0.21788573\n",
      "Iteration 18, loss = 0.17168049\n",
      "Iteration 19, loss = 0.14306621\n",
      "Iteration 20, loss = 0.15160155\n",
      "Iteration 21, loss = 0.14222226\n",
      "Iteration 22, loss = 0.13741875\n",
      "Iteration 23, loss = 0.13203673\n",
      "Iteration 24, loss = 0.13203891\n",
      "Iteration 25, loss = 0.12938591\n",
      "Iteration 26, loss = 0.12394060\n",
      "Iteration 27, loss = 0.12603909\n",
      "Iteration 28, loss = 0.12009224\n",
      "Iteration 29, loss = 0.12860997\n",
      "Iteration 30, loss = 0.12286072\n",
      "Iteration 31, loss = 0.11837732\n",
      "Iteration 32, loss = 0.11500420\n",
      "Iteration 33, loss = 0.12210680\n",
      "Iteration 34, loss = 0.12393037\n",
      "Iteration 35, loss = 0.15537604\n",
      "Iteration 36, loss = 0.12240182\n",
      "Iteration 37, loss = 0.09906882\n"
     ]
    },
    {
     "name": "stdout",
     "output_type": "stream",
     "text": [
      "Iteration 38, loss = 0.09915441\n",
      "Iteration 39, loss = 0.09624429\n",
      "Iteration 40, loss = 0.10891568\n",
      "Iteration 41, loss = 0.11365002\n",
      "Iteration 42, loss = 0.09134989\n",
      "Iteration 43, loss = 0.08672300\n",
      "Iteration 44, loss = 0.08448757\n",
      "Iteration 45, loss = 0.08439226\n",
      "Iteration 46, loss = 0.08322010\n",
      "Iteration 47, loss = 0.08658980\n",
      "Iteration 48, loss = 0.08224541\n",
      "Iteration 49, loss = 0.09730062\n",
      "Iteration 50, loss = 0.07393198\n",
      "Iteration 51, loss = 0.07273766\n",
      "Iteration 52, loss = 0.07324454\n",
      "Iteration 53, loss = 0.06891322\n",
      "Iteration 54, loss = 0.06540016\n",
      "Iteration 55, loss = 0.07235662\n",
      "Iteration 56, loss = 0.06990775\n",
      "Iteration 57, loss = 0.06084993\n",
      "Iteration 58, loss = 0.06189448\n",
      "Iteration 59, loss = 0.05764462\n",
      "Iteration 60, loss = 0.06166652\n",
      "Iteration 61, loss = 0.05786525\n",
      "Iteration 62, loss = 0.05532441\n",
      "Iteration 63, loss = 0.05215592\n",
      "Iteration 64, loss = 0.05001147\n",
      "Iteration 65, loss = 0.05156938\n",
      "Iteration 66, loss = 0.04658809\n",
      "Iteration 67, loss = 0.04440618\n",
      "Iteration 68, loss = 0.05129293\n",
      "Iteration 69, loss = 0.04289868\n",
      "Iteration 70, loss = 0.05603718\n",
      "Iteration 71, loss = 0.04246531\n",
      "Iteration 72, loss = 0.04716130\n",
      "Iteration 73, loss = 0.05033766\n",
      "Iteration 74, loss = 0.04789230\n",
      "Iteration 75, loss = 0.07365544\n",
      "Iteration 76, loss = 0.05311222\n",
      "Iteration 77, loss = 0.03698752\n",
      "Iteration 78, loss = 0.03327079\n",
      "Iteration 79, loss = 0.03135686\n",
      "Iteration 80, loss = 0.04049184\n",
      "Iteration 81, loss = 0.03727386\n",
      "Iteration 82, loss = 0.04321224\n",
      "Iteration 83, loss = 0.04193024\n",
      "Iteration 84, loss = 0.04740900\n",
      "Iteration 85, loss = 0.05372540\n",
      "Iteration 86, loss = 0.04549272\n",
      "Iteration 87, loss = 0.04802942\n",
      "Iteration 88, loss = 0.03899471\n",
      "Iteration 89, loss = 0.02711438\n",
      "Iteration 90, loss = 0.03372226\n",
      "Iteration 91, loss = 0.04030261\n",
      "Iteration 92, loss = 0.03138334\n",
      "Iteration 93, loss = 0.05001925\n",
      "Iteration 94, loss = 0.04090844\n",
      "Iteration 95, loss = 0.04364823\n",
      "Iteration 96, loss = 0.03671985\n",
      "Iteration 97, loss = 0.03197223\n",
      "Iteration 98, loss = 0.12645693\n",
      "Iteration 99, loss = 0.06813407\n",
      "Iteration 100, loss = 0.06865758\n",
      "Training loss did not improve more than tol=0.000100 for 10 consecutive epochs. Stopping.\n",
      "Iteration 1, loss = 19967.48664130\n",
      "Iteration 2, loss = 799.74622747\n",
      "Iteration 3, loss = 3674.77640780\n",
      "Iteration 4, loss = 2591.15169568\n",
      "Iteration 5, loss = 164.83597069\n",
      "Iteration 6, loss = 668.73299464\n",
      "Iteration 7, loss = 593.07480923\n",
      "Iteration 8, loss = 40.79790825\n",
      "Iteration 9, loss = 166.72777378\n",
      "Iteration 10, loss = 116.33292847\n",
      "Iteration 11, loss = 10.59529136\n",
      "Iteration 12, loss = 50.54513575\n",
      "Iteration 13, loss = 15.45292783\n",
      "Iteration 14, loss = 9.38206225\n",
      "Iteration 15, loss = 12.45548295\n",
      "Iteration 16, loss = 2.82941292\n",
      "Iteration 17, loss = 5.92005887\n",
      "Iteration 18, loss = 2.80563062\n",
      "Iteration 19, loss = 2.99691480\n",
      "Iteration 20, loss = 2.54270084\n",
      "Iteration 21, loss = 2.18920857\n",
      "Iteration 22, loss = 2.12830309\n",
      "Iteration 23, loss = 2.08138948\n",
      "Iteration 24, loss = 1.93421382\n",
      "Iteration 25, loss = 1.92505075\n",
      "Iteration 26, loss = 1.87144037\n",
      "Iteration 27, loss = 1.86201275\n",
      "Iteration 28, loss = 1.83080103\n",
      "Iteration 29, loss = 1.81464093\n",
      "Iteration 30, loss = 1.77589605\n",
      "Iteration 31, loss = 1.76694056\n",
      "Iteration 32, loss = 1.73326539\n",
      "Iteration 33, loss = 1.70269003\n",
      "Iteration 34, loss = 1.67142205\n",
      "Iteration 35, loss = 1.63076759\n",
      "Iteration 36, loss = 1.58605697\n",
      "Iteration 37, loss = 1.54547134\n",
      "Iteration 38, loss = 1.51059174\n",
      "Iteration 39, loss = 1.46473577\n",
      "Iteration 40, loss = 1.37985504\n",
      "Iteration 41, loss = 1.30271958\n",
      "Iteration 42, loss = 1.21919837\n",
      "Iteration 43, loss = 1.16108686\n",
      "Iteration 44, loss = 1.10167613\n",
      "Iteration 45, loss = 1.01610262\n",
      "Iteration 46, loss = 0.89948898\n",
      "Iteration 47, loss = 0.82589805\n",
      "Iteration 48, loss = 0.72602406\n",
      "Iteration 49, loss = 0.64112928\n",
      "Iteration 50, loss = 0.55217957\n",
      "Iteration 51, loss = 0.48236035\n",
      "Iteration 52, loss = 0.41545683\n",
      "Iteration 53, loss = 0.34218124\n",
      "Iteration 54, loss = 0.29334820\n",
      "Iteration 55, loss = 0.24288748\n",
      "Iteration 56, loss = 0.22253851\n",
      "Iteration 57, loss = 0.22030121\n",
      "Iteration 58, loss = 0.16484133\n",
      "Iteration 59, loss = 0.14470080\n",
      "Iteration 60, loss = 0.14460059\n",
      "Iteration 61, loss = 0.12972575\n",
      "Iteration 62, loss = 0.12597740\n",
      "Iteration 63, loss = 0.12325520\n",
      "Iteration 64, loss = 0.11886457\n",
      "Iteration 65, loss = 0.11195508\n",
      "Iteration 66, loss = 0.11119849\n",
      "Iteration 67, loss = 0.11018421\n",
      "Iteration 68, loss = 0.10808843\n",
      "Iteration 69, loss = 0.10363032\n",
      "Iteration 70, loss = 0.10576192\n",
      "Iteration 71, loss = 0.13373203\n",
      "Iteration 72, loss = 0.11654705\n",
      "Iteration 73, loss = 0.13036449\n",
      "Iteration 74, loss = 0.10177981\n",
      "Iteration 75, loss = 0.09944512\n",
      "Iteration 76, loss = 0.09704012\n",
      "Iteration 77, loss = 0.09661342\n",
      "Iteration 78, loss = 0.09687912\n",
      "Iteration 79, loss = 0.10216144\n",
      "Iteration 80, loss = 0.09814169\n",
      "Iteration 81, loss = 0.09603998\n",
      "Iteration 82, loss = 0.09782923\n",
      "Iteration 83, loss = 0.09782449\n",
      "Iteration 84, loss = 0.10572405\n",
      "Iteration 85, loss = 0.10371905\n",
      "Iteration 86, loss = 0.09556184\n",
      "Iteration 87, loss = 0.09380749\n",
      "Iteration 88, loss = 0.10205918\n",
      "Iteration 89, loss = 0.09611275\n",
      "Iteration 90, loss = 0.09922941\n",
      "Iteration 91, loss = 0.10163164\n",
      "Iteration 92, loss = 0.09311128\n",
      "Iteration 93, loss = 0.09213988\n",
      "Iteration 94, loss = 0.09332232\n",
      "Iteration 95, loss = 0.10018414\n",
      "Iteration 96, loss = 0.09625979\n",
      "Iteration 97, loss = 0.09787971\n",
      "Iteration 98, loss = 0.09337191\n",
      "Iteration 99, loss = 0.09872606\n",
      "Iteration 100, loss = 0.09927380\n",
      "Iteration 1, loss = 7851.15467069\n",
      "Iteration 2, loss = 1914.04899470\n",
      "Iteration 3, loss = 2019.47329696\n",
      "Iteration 4, loss = 217.05213717\n",
      "Iteration 5, loss = 860.19956541\n",
      "Iteration 6, loss = 97.62590027\n",
      "Iteration 7, loss = 254.80592050\n",
      "Iteration 8, loss = 83.20570551\n",
      "Iteration 9, loss = 67.45931493\n",
      "Iteration 10, loss = 43.31923208\n",
      "Iteration 11, loss = 20.23876616\n",
      "Iteration 12, loss = 17.13470460\n",
      "Iteration 13, loss = 7.65904143\n",
      "Iteration 14, loss = 5.77393969\n",
      "Iteration 15, loss = 3.45754097\n",
      "Iteration 16, loss = 1.60151962\n",
      "Iteration 17, loss = 1.47271925\n",
      "Iteration 18, loss = 0.41954665\n",
      "Iteration 19, loss = 0.53016541\n",
      "Iteration 20, loss = 0.41645795\n",
      "Iteration 21, loss = 0.21447154\n",
      "Iteration 22, loss = 0.25727254\n",
      "Iteration 23, loss = 0.21934788\n",
      "Iteration 24, loss = 0.18243212\n",
      "Iteration 25, loss = 0.19065655\n",
      "Iteration 26, loss = 0.18234798\n",
      "Iteration 27, loss = 0.17525601\n",
      "Iteration 28, loss = 0.17215957\n",
      "Iteration 29, loss = 0.17653866\n",
      "Iteration 30, loss = 0.17187737\n",
      "Iteration 31, loss = 0.16801731\n",
      "Iteration 32, loss = 0.17165211\n",
      "Iteration 33, loss = 0.16644126\n",
      "Iteration 34, loss = 0.16632192\n",
      "Iteration 35, loss = 0.16559884\n",
      "Iteration 36, loss = 0.16544841\n",
      "Iteration 37, loss = 0.16435873\n",
      "Iteration 38, loss = 0.16387647\n",
      "Iteration 39, loss = 0.16360086\n",
      "Iteration 40, loss = 0.16257491\n",
      "Iteration 41, loss = 0.16172625\n",
      "Iteration 42, loss = 0.16115382\n",
      "Iteration 43, loss = 0.16244653\n",
      "Iteration 44, loss = 0.15977446\n",
      "Iteration 45, loss = 0.16041042\n",
      "Iteration 46, loss = 0.15929281\n",
      "Iteration 47, loss = 0.15820609\n",
      "Iteration 48, loss = 0.15796637\n",
      "Iteration 49, loss = 0.15708978\n",
      "Iteration 50, loss = 0.15687878\n",
      "Iteration 51, loss = 0.15566657\n",
      "Iteration 52, loss = 0.15902567\n",
      "Iteration 53, loss = 0.15514224\n",
      "Iteration 54, loss = 0.15566398\n",
      "Iteration 55, loss = 0.15525650\n",
      "Iteration 56, loss = 0.15324841\n",
      "Iteration 57, loss = 0.15254419\n",
      "Iteration 58, loss = 0.15176734\n",
      "Iteration 59, loss = 0.15039231\n",
      "Iteration 60, loss = 0.15033540\n",
      "Iteration 61, loss = 0.15098411\n",
      "Iteration 62, loss = 0.14895427\n",
      "Iteration 63, loss = 0.14782207\n",
      "Iteration 64, loss = 0.14785259\n",
      "Iteration 65, loss = 0.14827882\n",
      "Iteration 66, loss = 0.14562053\n",
      "Iteration 67, loss = 0.14520537\n",
      "Iteration 68, loss = 0.14458436\n",
      "Iteration 69, loss = 0.14473531\n",
      "Iteration 70, loss = 0.14403181\n",
      "Iteration 71, loss = 0.14347742\n",
      "Iteration 72, loss = 0.14211779\n",
      "Iteration 73, loss = 0.14118887\n",
      "Iteration 74, loss = 0.13995571\n",
      "Iteration 75, loss = 0.13992897\n",
      "Iteration 76, loss = 0.13981222\n",
      "Iteration 77, loss = 0.13826461\n",
      "Iteration 78, loss = 0.13756542\n",
      "Iteration 79, loss = 0.13716961\n",
      "Iteration 80, loss = 0.13634468\n",
      "Iteration 81, loss = 0.13507633\n",
      "Iteration 82, loss = 0.13492520\n",
      "Iteration 83, loss = 0.13420174\n",
      "Iteration 84, loss = 0.13450944\n",
      "Iteration 85, loss = 0.13689332\n",
      "Iteration 86, loss = 0.13568793\n",
      "Iteration 87, loss = 0.13309138\n",
      "Iteration 88, loss = 0.13089497\n",
      "Iteration 89, loss = 0.13063619\n",
      "Iteration 90, loss = 0.13152001\n",
      "Iteration 91, loss = 0.13370458\n",
      "Iteration 92, loss = 0.13312630\n",
      "Iteration 93, loss = 0.13067310\n",
      "Iteration 94, loss = 0.12700609\n",
      "Iteration 95, loss = 0.12558665\n",
      "Iteration 96, loss = 0.12634676\n",
      "Iteration 97, loss = 0.12471770\n",
      "Iteration 98, loss = 0.12334150\n",
      "Iteration 99, loss = 0.12215419\n",
      "Iteration 100, loss = 0.12178971\n",
      "Iteration 1, loss = 3876.45410136\n",
      "Iteration 2, loss = 2401.96677921\n",
      "Iteration 3, loss = 638.19020949\n",
      "Iteration 4, loss = 502.42802050\n",
      "Iteration 5, loss = 397.91110978\n"
     ]
    },
    {
     "name": "stdout",
     "output_type": "stream",
     "text": [
      "Iteration 6, loss = 89.07299604\n",
      "Iteration 7, loss = 181.03961946\n",
      "Iteration 8, loss = 36.77128766\n",
      "Iteration 9, loss = 44.50996462\n",
      "Iteration 10, loss = 35.63009382\n",
      "Iteration 11, loss = 8.13078110\n",
      "Iteration 12, loss = 11.44969484\n",
      "Iteration 13, loss = 8.17427907\n",
      "Iteration 14, loss = 3.32053649\n",
      "Iteration 15, loss = 1.37606535\n",
      "Iteration 16, loss = 1.21074080\n",
      "Iteration 17, loss = 1.16609577\n",
      "Iteration 18, loss = 0.81535441\n",
      "Iteration 19, loss = 0.67674051\n",
      "Iteration 20, loss = 0.63578947\n",
      "Iteration 21, loss = 0.57268583\n",
      "Iteration 22, loss = 0.55384286\n",
      "Iteration 23, loss = 0.50650397\n",
      "Iteration 24, loss = 0.45453127\n",
      "Iteration 25, loss = 0.43188481\n",
      "Iteration 26, loss = 0.38585969\n",
      "Iteration 27, loss = 0.34905014\n",
      "Iteration 28, loss = 0.31402142\n",
      "Iteration 29, loss = 0.29553404\n",
      "Iteration 30, loss = 0.24429908\n",
      "Iteration 31, loss = 0.23590045\n",
      "Iteration 32, loss = 0.20227887\n",
      "Iteration 33, loss = 0.21362520\n",
      "Iteration 34, loss = 0.18498204\n",
      "Iteration 35, loss = 0.16228651\n",
      "Iteration 36, loss = 0.16716558\n",
      "Iteration 37, loss = 0.16325985\n",
      "Iteration 38, loss = 0.16302514\n",
      "Iteration 39, loss = 0.15938377\n",
      "Iteration 40, loss = 0.14684883\n",
      "Iteration 41, loss = 0.14126808\n",
      "Iteration 42, loss = 0.15599204\n",
      "Iteration 43, loss = 0.17197444\n",
      "Iteration 44, loss = 0.14722524\n",
      "Iteration 45, loss = 0.14019846\n",
      "Iteration 46, loss = 0.15042769\n",
      "Iteration 47, loss = 0.13894636\n",
      "Iteration 48, loss = 0.14415071\n",
      "Iteration 49, loss = 0.14071885\n",
      "Iteration 50, loss = 0.13800658\n",
      "Iteration 51, loss = 0.13270419\n",
      "Iteration 52, loss = 0.13897468\n",
      "Iteration 53, loss = 0.13810747\n",
      "Iteration 54, loss = 0.13432191\n",
      "Iteration 55, loss = 0.13206509\n",
      "Iteration 56, loss = 0.13815503\n",
      "Iteration 57, loss = 0.12799659\n",
      "Iteration 58, loss = 0.12891266\n",
      "Iteration 59, loss = 0.12669864\n",
      "Iteration 60, loss = 0.12793264\n",
      "Iteration 61, loss = 0.13577049\n",
      "Iteration 62, loss = 0.14950666\n",
      "Iteration 63, loss = 0.14016512\n",
      "Iteration 64, loss = 0.12782433\n",
      "Iteration 65, loss = 0.12895167\n",
      "Iteration 66, loss = 0.12030156\n",
      "Iteration 67, loss = 0.12675639\n",
      "Iteration 68, loss = 0.14257482\n",
      "Iteration 69, loss = 0.14493064\n",
      "Iteration 70, loss = 0.17662226\n",
      "Iteration 71, loss = 0.18440724\n",
      "Iteration 72, loss = 0.16042196\n",
      "Iteration 73, loss = 0.14928622\n",
      "Iteration 74, loss = 0.13144877\n",
      "Iteration 75, loss = 0.12034182\n",
      "Iteration 76, loss = 0.11859713\n",
      "Iteration 77, loss = 0.12722192\n",
      "Iteration 78, loss = 0.12979913\n",
      "Iteration 79, loss = 0.12279427\n",
      "Iteration 80, loss = 0.11591533\n",
      "Iteration 81, loss = 0.12009366\n",
      "Iteration 82, loss = 0.11834440\n",
      "Iteration 83, loss = 0.12350374\n",
      "Iteration 84, loss = 0.12895374\n",
      "Iteration 85, loss = 0.12103220\n",
      "Iteration 86, loss = 0.12848614\n",
      "Iteration 87, loss = 0.12181654\n",
      "Iteration 88, loss = 0.11207678\n",
      "Iteration 89, loss = 0.10939986\n",
      "Iteration 90, loss = 0.10987364\n",
      "Iteration 91, loss = 0.10712945\n",
      "Iteration 92, loss = 0.11447795\n",
      "Iteration 93, loss = 0.12996111\n",
      "Iteration 94, loss = 0.11075814\n",
      "Iteration 95, loss = 0.11161258\n",
      "Iteration 96, loss = 0.10926205\n",
      "Iteration 97, loss = 0.10424870\n",
      "Iteration 98, loss = 0.11571126\n",
      "Iteration 99, loss = 0.10993747\n",
      "Iteration 100, loss = 0.12137980\n",
      "Iteration 101, loss = 0.11017283\n",
      "Iteration 102, loss = 0.11101892\n",
      "Iteration 103, loss = 0.11465643\n",
      "Iteration 104, loss = 0.11941083\n",
      "Iteration 105, loss = 0.12755319\n",
      "Iteration 106, loss = 0.23779816\n",
      "Iteration 107, loss = 0.15202825\n",
      "Iteration 108, loss = 0.11763103\n",
      "Training loss did not improve more than tol=0.000100 for 10 consecutive epochs. Stopping.\n",
      "Iteration 1, loss = 3911.49404201\n",
      "Iteration 2, loss = 2112.12824480\n",
      "Iteration 3, loss = 1034.76282031\n",
      "Iteration 4, loss = 265.56129029\n",
      "Iteration 5, loss = 503.10797162\n",
      "Iteration 6, loss = 112.57243836\n",
      "Iteration 7, loss = 114.02460540\n",
      "Iteration 8, loss = 101.59491438\n",
      "Iteration 9, loss = 22.17370967\n",
      "Iteration 10, loss = 26.20261331\n",
      "Iteration 11, loss = 22.73406043\n",
      "Iteration 12, loss = 7.00651917\n",
      "Iteration 13, loss = 3.86540310\n",
      "Iteration 14, loss = 3.10687795\n",
      "Iteration 15, loss = 1.97822051\n",
      "Iteration 16, loss = 1.18611028\n",
      "Iteration 17, loss = 0.66882101\n",
      "Iteration 18, loss = 0.36860623\n",
      "Iteration 19, loss = 0.25866905\n",
      "Iteration 20, loss = 0.22651393\n",
      "Iteration 21, loss = 0.17355398\n",
      "Iteration 22, loss = 0.16395977\n",
      "Iteration 23, loss = 0.15316045\n",
      "Iteration 24, loss = 0.14360878\n",
      "Iteration 25, loss = 0.13768365\n",
      "Iteration 26, loss = 0.13188959\n",
      "Iteration 27, loss = 0.12416340\n",
      "Iteration 28, loss = 0.12329473\n",
      "Iteration 29, loss = 0.12065844\n",
      "Iteration 30, loss = 0.12524786\n",
      "Iteration 31, loss = 0.11853171\n",
      "Iteration 32, loss = 0.11501391\n",
      "Iteration 33, loss = 0.11623142\n",
      "Iteration 34, loss = 0.11486371\n",
      "Iteration 35, loss = 0.10776360\n",
      "Iteration 36, loss = 0.10833918\n",
      "Iteration 37, loss = 0.10674095\n",
      "Iteration 38, loss = 0.11048312\n",
      "Iteration 39, loss = 0.10457100\n",
      "Iteration 40, loss = 0.10671144\n",
      "Iteration 41, loss = 0.10001902\n",
      "Iteration 42, loss = 0.09657924\n",
      "Iteration 43, loss = 0.09177247\n",
      "Iteration 44, loss = 0.08851439\n",
      "Iteration 45, loss = 0.08630972\n",
      "Iteration 46, loss = 0.08416778\n",
      "Iteration 47, loss = 0.08615711\n",
      "Iteration 48, loss = 0.08444125\n",
      "Iteration 49, loss = 0.08043763\n",
      "Iteration 50, loss = 0.08207878\n",
      "Iteration 51, loss = 0.08747036\n",
      "Iteration 52, loss = 0.07952126\n",
      "Iteration 53, loss = 0.08000722\n",
      "Iteration 54, loss = 0.08475586\n",
      "Iteration 55, loss = 0.09377493\n",
      "Iteration 56, loss = 0.08999243\n",
      "Iteration 57, loss = 0.07700894\n",
      "Iteration 58, loss = 0.06558743\n",
      "Iteration 59, loss = 0.06149904\n",
      "Iteration 60, loss = 0.07655369\n",
      "Iteration 61, loss = 0.06053418\n",
      "Iteration 62, loss = 0.05713327\n",
      "Iteration 63, loss = 0.05630456\n",
      "Iteration 64, loss = 0.05350569\n",
      "Iteration 65, loss = 0.05289205\n",
      "Iteration 66, loss = 0.05818004\n",
      "Iteration 67, loss = 0.05517594\n",
      "Iteration 68, loss = 0.05225276\n",
      "Iteration 69, loss = 0.05032284\n",
      "Iteration 70, loss = 0.04612030\n",
      "Iteration 71, loss = 0.04472355\n",
      "Iteration 72, loss = 0.04194815\n",
      "Iteration 73, loss = 0.04050902\n",
      "Iteration 74, loss = 0.04363457\n",
      "Iteration 75, loss = 0.04080374\n",
      "Iteration 76, loss = 0.04043861\n",
      "Iteration 77, loss = 0.03924811\n",
      "Iteration 78, loss = 0.04221014\n",
      "Iteration 79, loss = 0.03803752\n",
      "Iteration 80, loss = 0.03402878\n",
      "Iteration 81, loss = 0.03924622\n",
      "Iteration 82, loss = 0.03626703\n",
      "Iteration 83, loss = 0.03806359\n",
      "Iteration 84, loss = 0.04147842\n",
      "Iteration 85, loss = 0.04063449\n",
      "Iteration 86, loss = 0.03161310\n",
      "Iteration 87, loss = 0.03212247\n",
      "Iteration 88, loss = 0.02962761\n",
      "Iteration 89, loss = 0.02606181\n",
      "Iteration 90, loss = 0.02611444\n",
      "Iteration 91, loss = 0.02963880\n",
      "Iteration 92, loss = 0.03119590\n",
      "Iteration 93, loss = 0.04142537\n",
      "Iteration 94, loss = 0.04186008\n",
      "Iteration 95, loss = 0.02925473\n",
      "Iteration 96, loss = 0.02645565\n",
      "Iteration 97, loss = 0.02398023\n",
      "Iteration 98, loss = 0.02288289\n",
      "Iteration 99, loss = 0.02264149\n",
      "Iteration 100, loss = 0.02321842\n",
      "Iteration 101, loss = 0.02229059\n",
      "Iteration 102, loss = 0.02421916\n",
      "Iteration 103, loss = 0.02187215\n",
      "Iteration 104, loss = 0.02914862\n",
      "Iteration 105, loss = 0.03030690\n",
      "Iteration 106, loss = 0.03368623\n",
      "Iteration 107, loss = 0.03231479\n",
      "Iteration 108, loss = 0.02547915\n",
      "Iteration 109, loss = 0.02371234\n",
      "Iteration 110, loss = 0.02285583\n",
      "Iteration 111, loss = 0.02122474\n",
      "Iteration 112, loss = 0.02168531\n",
      "Iteration 113, loss = 0.02379723\n",
      "Iteration 114, loss = 0.02243773\n",
      "Iteration 115, loss = 0.02218964\n",
      "Iteration 116, loss = 0.02465878\n",
      "Iteration 117, loss = 0.02395831\n",
      "Iteration 118, loss = 0.02101493\n",
      "Iteration 119, loss = 0.02118894\n",
      "Iteration 120, loss = 0.02272545\n",
      "Iteration 121, loss = 0.03479228\n",
      "Iteration 122, loss = 0.03140183\n",
      "Iteration 123, loss = 0.02441090\n",
      "Iteration 124, loss = 0.03121107\n",
      "Iteration 125, loss = 0.02345377\n",
      "Iteration 126, loss = 0.02100927\n",
      "Iteration 127, loss = 0.02333010\n",
      "Iteration 128, loss = 0.02018998\n",
      "Iteration 129, loss = 0.02083084\n",
      "Iteration 130, loss = 0.02464279\n",
      "Iteration 131, loss = 0.02719475\n",
      "Iteration 132, loss = 0.02394389\n",
      "Iteration 133, loss = 0.02230836\n",
      "Iteration 134, loss = 0.02102378\n",
      "Iteration 135, loss = 0.02355692\n",
      "Iteration 136, loss = 0.02283085\n",
      "Iteration 137, loss = 0.02377309\n",
      "Iteration 138, loss = 0.02193915\n",
      "Iteration 139, loss = 0.02519922\n",
      "Training loss did not improve more than tol=0.000100 for 10 consecutive epochs. Stopping.\n",
      "Iteration 1, loss = 3653.14859683\n",
      "Iteration 2, loss = 1725.58643161\n",
      "Iteration 3, loss = 840.96310978\n",
      "Iteration 4, loss = 534.02469815\n",
      "Iteration 5, loss = 379.73519400\n",
      "Iteration 6, loss = 259.29299004\n",
      "Iteration 7, loss = 164.20310685\n",
      "Iteration 8, loss = 98.83499331\n",
      "Iteration 9, loss = 58.57997073\n",
      "Iteration 10, loss = 31.99885656\n",
      "Iteration 11, loss = 17.67556419\n",
      "Iteration 12, loss = 9.15775049\n",
      "Iteration 13, loss = 2.99060403\n",
      "Iteration 14, loss = 1.17486916\n",
      "Iteration 15, loss = 0.32717901\n",
      "Iteration 16, loss = 0.27322474\n",
      "Iteration 17, loss = 0.24183974\n",
      "Iteration 18, loss = 0.20780098\n",
      "Iteration 19, loss = 0.23736230\n",
      "Iteration 20, loss = 0.18797356\n",
      "Iteration 21, loss = 0.18392977\n",
      "Iteration 22, loss = 0.19268886\n",
      "Iteration 23, loss = 0.17306540\n",
      "Iteration 24, loss = 0.13561137\n",
      "Iteration 25, loss = 0.12878954\n",
      "Iteration 26, loss = 0.11745585\n",
      "Iteration 27, loss = 0.22743495\n",
      "Iteration 28, loss = 0.15192732\n",
      "Iteration 29, loss = 0.15072136\n",
      "Iteration 30, loss = 0.11144915\n",
      "Iteration 31, loss = 0.10763816\n",
      "Iteration 32, loss = 0.10463569\n",
      "Iteration 33, loss = 0.10857566\n"
     ]
    },
    {
     "name": "stdout",
     "output_type": "stream",
     "text": [
      "Iteration 34, loss = 0.10354221\n",
      "Iteration 35, loss = 0.10160039\n",
      "Iteration 36, loss = 0.09841250\n",
      "Iteration 37, loss = 0.09904271\n",
      "Iteration 38, loss = 0.12311069\n",
      "Iteration 39, loss = 0.12588911\n",
      "Iteration 40, loss = 0.10697304\n",
      "Iteration 41, loss = 0.10022113\n",
      "Iteration 42, loss = 0.09714927\n",
      "Iteration 43, loss = 0.10441200\n",
      "Iteration 44, loss = 0.09961294\n",
      "Iteration 45, loss = 0.09734443\n",
      "Iteration 46, loss = 0.09482380\n",
      "Iteration 47, loss = 0.10824632\n",
      "Iteration 48, loss = 0.09984413\n",
      "Iteration 49, loss = 0.10191992\n",
      "Iteration 50, loss = 0.10596312\n",
      "Iteration 51, loss = 0.10355500\n",
      "Iteration 52, loss = 0.10397563\n",
      "Iteration 53, loss = 0.09760964\n",
      "Iteration 54, loss = 0.09888245\n",
      "Iteration 55, loss = 0.12091395\n",
      "Iteration 56, loss = 0.10664953\n",
      "Iteration 57, loss = 0.11559729\n",
      "Training loss did not improve more than tol=0.000100 for 10 consecutive epochs. Stopping.\n",
      "Iteration 1, loss = 4845.65095934\n",
      "Iteration 2, loss = 1826.52205277\n",
      "Iteration 3, loss = 1065.31905924\n",
      "Iteration 4, loss = 570.00549571\n",
      "Iteration 5, loss = 294.92010747\n",
      "Iteration 6, loss = 160.69902639\n",
      "Iteration 7, loss = 92.10931069\n",
      "Iteration 8, loss = 56.18477623\n",
      "Iteration 9, loss = 35.30669526\n",
      "Iteration 10, loss = 19.80405557\n",
      "Iteration 11, loss = 12.45700813\n",
      "Iteration 12, loss = 7.30666965\n",
      "Iteration 13, loss = 3.25647980\n",
      "Iteration 14, loss = 1.44311161\n",
      "Iteration 15, loss = 0.73936535\n",
      "Iteration 16, loss = 0.56458925\n",
      "Iteration 17, loss = 0.40703144\n",
      "Iteration 18, loss = 0.34652934\n",
      "Iteration 19, loss = 0.38860328\n",
      "Iteration 20, loss = 0.34907788\n",
      "Iteration 21, loss = 0.27314543\n",
      "Iteration 22, loss = 0.23778938\n",
      "Iteration 23, loss = 0.20360864\n",
      "Iteration 24, loss = 0.16740543\n",
      "Iteration 25, loss = 0.18384980\n",
      "Iteration 26, loss = 0.11641418\n",
      "Iteration 27, loss = 0.16703319\n",
      "Iteration 28, loss = 0.13364088\n",
      "Iteration 29, loss = 0.10359501\n",
      "Iteration 30, loss = 0.05496674\n",
      "Iteration 31, loss = 0.07435193\n",
      "Iteration 32, loss = 0.06045138\n",
      "Iteration 33, loss = 0.05870237\n",
      "Iteration 34, loss = 0.03864472\n",
      "Iteration 35, loss = 0.03315042\n",
      "Iteration 36, loss = 0.03639447\n",
      "Iteration 37, loss = 0.03551480\n",
      "Iteration 38, loss = 0.04094677\n",
      "Iteration 39, loss = 0.04796344\n",
      "Iteration 40, loss = 0.03960071\n",
      "Iteration 41, loss = 0.03573325\n",
      "Iteration 42, loss = 0.04421536\n",
      "Iteration 43, loss = 0.03851454\n",
      "Iteration 44, loss = 0.03100101\n",
      "Iteration 45, loss = 0.02837024\n",
      "Iteration 46, loss = 0.03077553\n",
      "Iteration 47, loss = 0.03082889\n",
      "Iteration 48, loss = 0.03466278\n",
      "Iteration 49, loss = 0.03068606\n",
      "Iteration 50, loss = 0.02803999\n",
      "Iteration 51, loss = 0.02657215\n",
      "Iteration 52, loss = 0.02526401\n",
      "Iteration 53, loss = 0.02786475\n",
      "Iteration 54, loss = 0.02441162\n",
      "Iteration 55, loss = 0.02550060\n",
      "Iteration 56, loss = 0.02959345\n",
      "Iteration 57, loss = 0.02824543\n",
      "Iteration 58, loss = 0.02366228\n",
      "Iteration 59, loss = 0.02428877\n",
      "Iteration 60, loss = 0.03735641\n",
      "Iteration 61, loss = 0.04091809\n",
      "Iteration 62, loss = 0.02408706\n",
      "Iteration 63, loss = 0.02410702\n",
      "Iteration 64, loss = 0.02257754\n",
      "Iteration 65, loss = 0.02260916\n",
      "Iteration 66, loss = 0.03120445\n",
      "Iteration 67, loss = 0.02692874\n",
      "Iteration 68, loss = 0.02831995\n",
      "Iteration 69, loss = 0.02518807\n",
      "Iteration 70, loss = 0.02506481\n",
      "Iteration 71, loss = 0.02681751\n",
      "Iteration 72, loss = 0.02683053\n",
      "Iteration 73, loss = 0.03156331\n",
      "Iteration 74, loss = 0.03273787\n",
      "Iteration 75, loss = 0.02613761\n",
      "Training loss did not improve more than tol=0.000100 for 10 consecutive epochs. Stopping.\n",
      "Iteration 1, loss = 43424.88450896\n",
      "Iteration 2, loss = 1699.47614415\n",
      "Iteration 3, loss = 8890.34017061\n",
      "Iteration 4, loss = 4587.15635088\n",
      "Iteration 5, loss = 257.43788422\n",
      "Iteration 6, loss = 1735.17623144\n",
      "Iteration 7, loss = 1026.04360068\n",
      "Iteration 8, loss = 65.58867711\n",
      "Iteration 9, loss = 416.91487996\n",
      "Iteration 10, loss = 177.54810432\n",
      "Iteration 11, loss = 32.24560696\n",
      "Iteration 12, loss = 106.94881008\n",
      "Iteration 13, loss = 16.08931644\n",
      "Iteration 14, loss = 22.94286208\n",
      "Iteration 15, loss = 17.79563130\n",
      "Iteration 16, loss = 3.36947702\n",
      "Iteration 17, loss = 6.87991358\n",
      "Iteration 18, loss = 0.63030838\n",
      "Iteration 19, loss = 1.59188911\n",
      "Iteration 20, loss = 0.60425412\n",
      "Iteration 21, loss = 0.33849316\n",
      "Iteration 22, loss = 0.27368946\n",
      "Iteration 23, loss = 0.24410758\n",
      "Iteration 24, loss = 0.22846864\n",
      "Iteration 25, loss = 0.21087354\n",
      "Iteration 26, loss = 0.20484045\n",
      "Iteration 27, loss = 0.21106344\n",
      "Iteration 28, loss = 0.19865906\n",
      "Iteration 29, loss = 0.19351407\n",
      "Iteration 30, loss = 0.18943304\n",
      "Iteration 31, loss = 0.18640605\n",
      "Iteration 32, loss = 0.18103441\n",
      "Iteration 33, loss = 0.17785473\n",
      "Iteration 34, loss = 0.17347801\n",
      "Iteration 35, loss = 0.16830198\n",
      "Iteration 36, loss = 0.17109799\n",
      "Iteration 37, loss = 0.16324045\n",
      "Iteration 38, loss = 0.15645574\n",
      "Iteration 39, loss = 0.14757124\n",
      "Iteration 40, loss = 0.14648435\n",
      "Iteration 41, loss = 0.15132784\n",
      "Iteration 42, loss = 0.14686973\n",
      "Iteration 43, loss = 0.13847118\n",
      "Iteration 44, loss = 0.13868445\n",
      "Iteration 45, loss = 0.13792843\n",
      "Iteration 46, loss = 0.14035195\n",
      "Iteration 47, loss = 0.14263397\n",
      "Iteration 48, loss = 0.13793597\n",
      "Iteration 49, loss = 0.13305239\n",
      "Iteration 50, loss = 0.13186279\n",
      "Iteration 51, loss = 0.13040583\n",
      "Iteration 52, loss = 0.13227978\n",
      "Iteration 53, loss = 0.13828207\n",
      "Iteration 54, loss = 0.13947645\n",
      "Iteration 55, loss = 0.14265639\n",
      "Iteration 56, loss = 0.14333694\n",
      "Iteration 57, loss = 0.13182486\n",
      "Iteration 58, loss = 0.12969289\n",
      "Iteration 59, loss = 0.12672368\n",
      "Iteration 60, loss = 0.12716768\n",
      "Iteration 61, loss = 0.12627171\n",
      "Iteration 62, loss = 0.13038628\n",
      "Iteration 63, loss = 0.12241288\n",
      "Iteration 64, loss = 0.12190073\n",
      "Iteration 65, loss = 0.12309371\n",
      "Iteration 66, loss = 0.12287258\n",
      "Iteration 67, loss = 0.12936588\n",
      "Iteration 68, loss = 0.13640839\n",
      "Iteration 69, loss = 0.12258100\n",
      "Iteration 70, loss = 0.11866921\n",
      "Iteration 71, loss = 0.11564370\n",
      "Iteration 72, loss = 0.11945426\n",
      "Iteration 73, loss = 0.11794144\n",
      "Iteration 74, loss = 0.11429355\n",
      "Iteration 75, loss = 0.11891828\n",
      "Iteration 76, loss = 0.11401731\n",
      "Iteration 77, loss = 0.12003686\n",
      "Iteration 78, loss = 0.12672423\n",
      "Iteration 79, loss = 0.11904774\n",
      "Iteration 80, loss = 0.11246020\n",
      "Iteration 81, loss = 0.11342970\n",
      "Iteration 82, loss = 0.11035277\n",
      "Iteration 83, loss = 0.11445470\n",
      "Iteration 84, loss = 0.11027653\n",
      "Iteration 85, loss = 0.11887198\n",
      "Iteration 86, loss = 0.10739179\n",
      "Iteration 87, loss = 0.10236266\n",
      "Iteration 88, loss = 0.10171727\n",
      "Iteration 89, loss = 0.10074645\n",
      "Iteration 90, loss = 0.10245746\n",
      "Iteration 91, loss = 0.09936394\n",
      "Iteration 92, loss = 0.10133536\n",
      "Iteration 93, loss = 0.13935821\n",
      "Iteration 94, loss = 0.13037684\n",
      "Iteration 95, loss = 0.11606431\n",
      "Iteration 96, loss = 0.12719782\n",
      "Iteration 97, loss = 0.11755652\n",
      "Iteration 98, loss = 0.10847047\n",
      "Iteration 99, loss = 0.10178669\n",
      "Iteration 100, loss = 0.10072724\n",
      "Iteration 101, loss = 0.09827463\n",
      "Iteration 102, loss = 0.09676666\n",
      "Iteration 103, loss = 0.09992344\n",
      "Iteration 104, loss = 0.10025650\n",
      "Iteration 105, loss = 0.09995415\n",
      "Iteration 106, loss = 0.09456068\n",
      "Iteration 107, loss = 0.10401300\n",
      "Iteration 108, loss = 0.09860792\n",
      "Iteration 109, loss = 0.11373425\n",
      "Iteration 110, loss = 0.13042730\n",
      "Iteration 111, loss = 0.13437444\n",
      "Iteration 112, loss = 0.11286040\n",
      "Iteration 113, loss = 0.09420818\n",
      "Iteration 114, loss = 0.10661848\n",
      "Iteration 115, loss = 0.09684960\n",
      "Iteration 116, loss = 0.09326918\n",
      "Iteration 117, loss = 0.09880612\n",
      "Iteration 118, loss = 0.09749127\n",
      "Iteration 119, loss = 0.09443566\n",
      "Iteration 120, loss = 0.09026632\n",
      "Iteration 121, loss = 0.09076006\n",
      "Iteration 122, loss = 0.10027551\n",
      "Iteration 123, loss = 0.09485306\n",
      "Iteration 124, loss = 0.10582990\n",
      "Iteration 125, loss = 0.09644441\n",
      "Iteration 126, loss = 0.09561740\n",
      "Iteration 127, loss = 0.09562604\n",
      "Iteration 128, loss = 0.09178713\n",
      "Iteration 129, loss = 0.09890159\n",
      "Iteration 130, loss = 0.09297989\n",
      "Iteration 131, loss = 0.11183665\n",
      "Training loss did not improve more than tol=0.000100 for 10 consecutive epochs. Stopping.\n",
      "Iteration 1, loss = 436.03520566\n",
      "Iteration 2, loss = 179.13212923\n",
      "Iteration 3, loss = 85.30192933\n",
      "Iteration 4, loss = 49.01929021\n",
      "Iteration 5, loss = 29.44705373\n",
      "Iteration 6, loss = 19.73292618\n",
      "Iteration 7, loss = 12.92383338\n",
      "Iteration 8, loss = 8.60272745\n",
      "Iteration 9, loss = 6.21949419\n",
      "Iteration 10, loss = 3.90010338\n",
      "Iteration 11, loss = 2.23512208\n",
      "Iteration 12, loss = 1.70704086\n",
      "Iteration 13, loss = 1.40089424\n",
      "Iteration 14, loss = 1.06060039\n",
      "Iteration 15, loss = 0.83323121\n",
      "Iteration 16, loss = 0.70293944\n",
      "Iteration 17, loss = 0.54444026\n",
      "Iteration 18, loss = 0.45418838\n",
      "Iteration 19, loss = 0.40431248\n"
     ]
    },
    {
     "name": "stdout",
     "output_type": "stream",
     "text": [
      "Iteration 20, loss = 0.36618521\n",
      "Iteration 21, loss = 0.32789970\n",
      "Iteration 22, loss = 0.29701901\n",
      "Iteration 23, loss = 0.29550207\n",
      "Iteration 24, loss = 0.28621340\n",
      "Iteration 25, loss = 0.23735034\n",
      "Iteration 26, loss = 0.21800161\n",
      "Iteration 27, loss = 0.18967207\n",
      "Iteration 28, loss = 0.16844017\n",
      "Iteration 29, loss = 0.15521501\n",
      "Iteration 30, loss = 0.14295458\n",
      "Iteration 31, loss = 0.13975616\n",
      "Iteration 32, loss = 0.11176116\n",
      "Iteration 33, loss = 0.10583935\n",
      "Iteration 34, loss = 0.09845983\n",
      "Iteration 35, loss = 0.08582850\n",
      "Iteration 36, loss = 0.09030751\n",
      "Iteration 37, loss = 0.08056599\n",
      "Iteration 38, loss = 0.08001142\n",
      "Iteration 39, loss = 0.07729383\n",
      "Iteration 40, loss = 0.07987215\n",
      "Iteration 41, loss = 0.07586183\n",
      "Iteration 42, loss = 0.08313247\n",
      "Iteration 43, loss = 0.08734769\n",
      "Iteration 44, loss = 0.07202183\n",
      "Iteration 45, loss = 0.07036878\n",
      "Iteration 46, loss = 0.06716055\n",
      "Iteration 47, loss = 0.09295104\n",
      "Iteration 48, loss = 0.09059133\n",
      "Iteration 49, loss = 0.07380937\n",
      "Iteration 50, loss = 0.05805762\n",
      "Iteration 51, loss = 0.05994950\n",
      "Iteration 52, loss = 0.06082385\n",
      "Iteration 53, loss = 0.05488412\n",
      "Iteration 54, loss = 0.06121084\n",
      "Iteration 55, loss = 0.05612368\n",
      "Iteration 56, loss = 0.05380335\n",
      "Iteration 57, loss = 0.05307467\n",
      "Iteration 58, loss = 0.06606090\n",
      "Iteration 59, loss = 0.06728260\n",
      "Iteration 60, loss = 0.07557599\n",
      "Iteration 61, loss = 0.06079425\n",
      "Iteration 62, loss = 0.05090028\n",
      "Iteration 63, loss = 0.05142277\n",
      "Iteration 64, loss = 0.04990580\n",
      "Iteration 65, loss = 0.05870086\n",
      "Iteration 66, loss = 0.04740355\n",
      "Iteration 67, loss = 0.05021728\n",
      "Iteration 68, loss = 0.05144903\n",
      "Iteration 69, loss = 0.05388408\n",
      "Iteration 70, loss = 0.05705125\n",
      "Iteration 71, loss = 0.05056712\n",
      "Iteration 72, loss = 0.04388136\n",
      "Iteration 73, loss = 0.05194997\n",
      "Iteration 74, loss = 0.05178390\n",
      "Iteration 75, loss = 0.04628959\n",
      "Iteration 76, loss = 0.04348322\n",
      "Iteration 77, loss = 0.04518058\n",
      "Iteration 78, loss = 0.03949500\n",
      "Iteration 79, loss = 0.04491246\n",
      "Iteration 80, loss = 0.04865310\n",
      "Iteration 81, loss = 0.05783130\n",
      "Iteration 82, loss = 0.04695109\n",
      "Iteration 83, loss = 0.04651851\n",
      "Iteration 84, loss = 0.04616507\n",
      "Iteration 85, loss = 0.12874274\n",
      "Iteration 86, loss = 0.06269643\n",
      "Iteration 87, loss = 0.05600562\n",
      "Iteration 88, loss = 0.06665265\n",
      "Iteration 89, loss = 0.07432381\n",
      "Training loss did not improve more than tol=0.000100 for 10 consecutive epochs. Stopping.\n",
      "Iteration 1, loss = 2967.02436695\n",
      "Iteration 2, loss = 1174.01959824\n",
      "Iteration 3, loss = 691.36612481\n",
      "Iteration 4, loss = 412.54216810\n",
      "Iteration 5, loss = 244.05149911\n",
      "Iteration 6, loss = 143.88302615\n",
      "Iteration 7, loss = 87.34006200\n",
      "Iteration 8, loss = 50.01253763\n",
      "Iteration 9, loss = 30.58809581\n",
      "Iteration 10, loss = 16.53238692\n",
      "Iteration 11, loss = 8.50217401\n",
      "Iteration 12, loss = 3.91419907\n",
      "Iteration 13, loss = 1.99054633\n",
      "Iteration 14, loss = 1.19828099\n",
      "Iteration 15, loss = 0.86353986\n",
      "Iteration 16, loss = 0.69756138\n",
      "Iteration 17, loss = 0.59950174\n",
      "Iteration 18, loss = 0.50925413\n",
      "Iteration 19, loss = 0.47151500\n",
      "Iteration 20, loss = 0.46779426\n",
      "Iteration 21, loss = 0.39523697\n",
      "Iteration 22, loss = 0.33222996\n",
      "Iteration 23, loss = 0.31151997\n",
      "Iteration 24, loss = 0.23769571\n",
      "Iteration 25, loss = 0.23800121\n",
      "Iteration 26, loss = 0.22932110\n",
      "Iteration 27, loss = 0.21143552\n",
      "Iteration 28, loss = 0.15956823\n",
      "Iteration 29, loss = 0.15507846\n",
      "Iteration 30, loss = 0.13559568\n",
      "Iteration 31, loss = 0.16764934\n",
      "Iteration 32, loss = 0.18067336\n",
      "Iteration 33, loss = 0.16519824\n",
      "Iteration 34, loss = 0.14504830\n",
      "Iteration 35, loss = 0.14294353\n",
      "Iteration 36, loss = 0.23485726\n",
      "Iteration 37, loss = 0.20717165\n",
      "Iteration 38, loss = 0.18691391\n",
      "Iteration 39, loss = 0.19573462\n",
      "Iteration 40, loss = 0.15059801\n",
      "Iteration 41, loss = 0.12621516\n",
      "Iteration 42, loss = 0.13108408\n",
      "Iteration 43, loss = 0.11380405\n",
      "Iteration 44, loss = 0.11000707\n",
      "Iteration 45, loss = 0.11105343\n",
      "Iteration 46, loss = 0.11172898\n",
      "Iteration 47, loss = 0.13388790\n",
      "Iteration 48, loss = 0.12406615\n",
      "Iteration 49, loss = 0.13623448\n",
      "Iteration 50, loss = 0.14232405\n",
      "Iteration 51, loss = 0.11730145\n",
      "Iteration 52, loss = 0.11567414\n",
      "Iteration 53, loss = 0.12067907\n",
      "Iteration 54, loss = 0.11305892\n",
      "Iteration 55, loss = 0.12122201\n",
      "Training loss did not improve more than tol=0.000100 for 10 consecutive epochs. Stopping.\n",
      "Iteration 1, loss = 40933.42174954\n",
      "Iteration 2, loss = 20164.68467500\n",
      "Iteration 3, loss = 4221.84428200\n",
      "Iteration 4, loss = 5846.49406979\n",
      "Iteration 5, loss = 2295.89322780\n",
      "Iteration 6, loss = 1502.92215976\n",
      "Iteration 7, loss = 1105.44545818\n",
      "Iteration 8, loss = 422.74634749\n",
      "Iteration 9, loss = 442.28347855\n",
      "Iteration 10, loss = 152.73152155\n",
      "Iteration 11, loss = 145.18932477\n",
      "Iteration 12, loss = 67.08532094\n",
      "Iteration 13, loss = 17.02691727\n",
      "Iteration 14, loss = 12.86570773\n",
      "Iteration 15, loss = 10.86088124\n",
      "Iteration 16, loss = 5.02573341\n",
      "Iteration 17, loss = 1.76374282\n",
      "Iteration 18, loss = 0.70209552\n",
      "Iteration 19, loss = 0.49143204\n",
      "Iteration 20, loss = 0.40398645\n",
      "Iteration 21, loss = 0.39208040\n",
      "Iteration 22, loss = 0.42156874\n",
      "Iteration 23, loss = 0.39668205\n",
      "Iteration 24, loss = 0.36979740\n",
      "Iteration 25, loss = 0.35513427\n",
      "Iteration 26, loss = 0.34532948\n",
      "Iteration 27, loss = 0.33571417\n",
      "Iteration 28, loss = 0.31955151\n",
      "Iteration 29, loss = 0.30342727\n",
      "Iteration 30, loss = 0.28665537\n",
      "Iteration 31, loss = 0.25974128\n",
      "Iteration 32, loss = 0.24591142\n",
      "Iteration 33, loss = 0.24286090\n",
      "Iteration 34, loss = 0.21355522\n",
      "Iteration 35, loss = 0.18525750\n",
      "Iteration 36, loss = 0.17555773\n",
      "Iteration 37, loss = 0.16835253\n",
      "Iteration 38, loss = 0.17290083\n",
      "Iteration 39, loss = 0.18663778\n",
      "Iteration 40, loss = 0.19174656\n",
      "Iteration 41, loss = 0.15886508\n",
      "Iteration 42, loss = 0.15528373\n",
      "Iteration 43, loss = 0.15027237\n",
      "Iteration 44, loss = 0.14973954\n",
      "Iteration 45, loss = 0.14736915\n",
      "Iteration 46, loss = 0.14649988\n",
      "Iteration 47, loss = 0.15201930\n",
      "Iteration 48, loss = 0.16121394\n",
      "Iteration 49, loss = 0.15957517\n",
      "Iteration 50, loss = 0.14308217\n",
      "Iteration 51, loss = 0.13869930\n",
      "Iteration 52, loss = 0.13696799\n",
      "Iteration 53, loss = 0.14083257\n",
      "Iteration 54, loss = 0.13867223\n",
      "Iteration 55, loss = 0.13626903\n",
      "Iteration 56, loss = 0.13613404\n",
      "Iteration 57, loss = 0.13662024\n",
      "Iteration 58, loss = 0.13011490\n",
      "Iteration 59, loss = 0.12695500\n",
      "Iteration 60, loss = 0.13332899\n",
      "Iteration 61, loss = 0.13827060\n",
      "Iteration 62, loss = 0.13152134\n",
      "Iteration 63, loss = 0.13404717\n",
      "Iteration 64, loss = 0.13534074\n",
      "Iteration 65, loss = 0.13171827\n",
      "Iteration 66, loss = 0.12420297\n",
      "Iteration 67, loss = 0.12328221\n",
      "Iteration 68, loss = 0.13030331\n",
      "Iteration 69, loss = 0.12063333\n",
      "Iteration 70, loss = 0.11726068\n",
      "Iteration 71, loss = 0.13412579\n",
      "Iteration 72, loss = 0.13232838\n",
      "Iteration 73, loss = 0.11762424\n",
      "Iteration 74, loss = 0.11306846\n",
      "Iteration 75, loss = 0.11229820\n",
      "Iteration 76, loss = 0.12005675\n",
      "Iteration 77, loss = 0.11244107\n",
      "Iteration 78, loss = 0.10856435\n",
      "Iteration 79, loss = 0.11354628\n",
      "Iteration 80, loss = 0.10461966\n",
      "Iteration 81, loss = 0.10417373\n",
      "Iteration 82, loss = 0.10193489\n",
      "Iteration 83, loss = 0.10205862\n",
      "Iteration 84, loss = 0.10043949\n",
      "Iteration 85, loss = 0.10521178\n",
      "Iteration 86, loss = 0.12302268\n",
      "Iteration 87, loss = 0.10376122\n",
      "Iteration 88, loss = 0.09985418\n",
      "Iteration 89, loss = 0.10202311\n",
      "Iteration 90, loss = 0.09605891\n",
      "Iteration 91, loss = 0.09318313\n",
      "Iteration 92, loss = 0.09612368\n",
      "Iteration 93, loss = 0.10044689\n",
      "Iteration 94, loss = 0.10165883\n",
      "Iteration 95, loss = 0.09569597\n",
      "Iteration 96, loss = 0.09232289\n",
      "Iteration 97, loss = 0.09016639\n",
      "Iteration 98, loss = 0.09147790\n",
      "Iteration 99, loss = 0.11381877\n",
      "Iteration 100, loss = 0.10632133\n",
      "Iteration 101, loss = 0.12934281\n",
      "Iteration 102, loss = 0.12034261\n",
      "Iteration 103, loss = 0.10603099\n",
      "Iteration 104, loss = 0.09695883\n",
      "Iteration 105, loss = 0.10638216\n",
      "Iteration 106, loss = 0.09671724\n",
      "Iteration 107, loss = 0.09700433\n",
      "Iteration 108, loss = 0.08711685\n",
      "Iteration 109, loss = 0.10061945\n",
      "Iteration 110, loss = 0.09176307\n",
      "Iteration 111, loss = 0.08545122\n",
      "Iteration 112, loss = 0.08544122\n",
      "Iteration 113, loss = 0.07841605\n",
      "Iteration 114, loss = 0.08179279\n",
      "Iteration 115, loss = 0.08204273\n",
      "Iteration 116, loss = 0.08777275\n",
      "Iteration 117, loss = 0.08547195\n",
      "Iteration 118, loss = 0.08327449\n",
      "Iteration 119, loss = 0.08249583\n",
      "Iteration 120, loss = 0.08171452\n",
      "Iteration 121, loss = 0.07683503\n",
      "Iteration 122, loss = 0.08678937\n",
      "Iteration 123, loss = 0.09783405\n",
      "Iteration 124, loss = 0.10553814\n",
      "Iteration 125, loss = 0.08668154\n",
      "Iteration 126, loss = 0.08616012\n",
      "Iteration 127, loss = 0.07919073\n",
      "Iteration 128, loss = 0.07803458\n",
      "Iteration 129, loss = 0.07521602\n",
      "Iteration 130, loss = 0.07429355\n",
      "Iteration 131, loss = 0.08106134\n",
      "Iteration 132, loss = 0.07767159\n",
      "Iteration 133, loss = 0.08008039\n",
      "Iteration 134, loss = 0.07324297\n",
      "Iteration 135, loss = 0.08741921\n",
      "Iteration 136, loss = 0.07513504\n",
      "Iteration 137, loss = 0.06648642\n",
      "Iteration 138, loss = 0.06711231\n",
      "Iteration 139, loss = 0.06677007\n",
      "Iteration 140, loss = 0.07091835\n",
      "Iteration 141, loss = 0.07700547\n",
      "Iteration 142, loss = 0.06429371\n",
      "Iteration 143, loss = 0.06357879\n",
      "Iteration 144, loss = 0.07385371\n",
      "Iteration 145, loss = 0.06677254\n",
      "Iteration 146, loss = 0.07262028\n",
      "Iteration 147, loss = 0.06866907\n",
      "Iteration 148, loss = 0.06784787\n",
      "Iteration 149, loss = 0.06372056\n",
      "Iteration 150, loss = 0.08476978\n",
      "Iteration 151, loss = 0.07199133\n"
     ]
    },
    {
     "name": "stdout",
     "output_type": "stream",
     "text": [
      "Iteration 152, loss = 0.07162768\n",
      "Iteration 153, loss = 0.07316190\n",
      "Iteration 154, loss = 0.08132428\n",
      "Training loss did not improve more than tol=0.000100 for 10 consecutive epochs. Stopping.\n",
      "Iteration 1, loss = 3000.81847053\n",
      "Iteration 2, loss = 650.36093542\n",
      "Iteration 3, loss = 272.48377652\n",
      "Iteration 4, loss = 118.39836577\n",
      "Iteration 5, loss = 54.39823111\n",
      "Iteration 6, loss = 23.47885272\n",
      "Iteration 7, loss = 7.32518761\n",
      "Iteration 8, loss = 2.67519734\n",
      "Iteration 9, loss = 1.73149991\n",
      "Iteration 10, loss = 0.63839197\n",
      "Iteration 11, loss = 0.39560114\n",
      "Iteration 12, loss = 0.25309340\n",
      "Iteration 13, loss = 0.20680214\n",
      "Iteration 14, loss = 0.19580389\n",
      "Iteration 15, loss = 0.18665474\n",
      "Iteration 16, loss = 0.18053560\n",
      "Iteration 17, loss = 0.17389272\n",
      "Iteration 18, loss = 0.16769328\n",
      "Iteration 19, loss = 0.16270687\n",
      "Iteration 20, loss = 0.15735261\n",
      "Iteration 21, loss = 0.15511570\n",
      "Iteration 22, loss = 0.15542062\n",
      "Iteration 23, loss = 0.14132367\n",
      "Iteration 24, loss = 0.13296162\n",
      "Iteration 25, loss = 0.13606857\n",
      "Iteration 26, loss = 0.13204357\n",
      "Iteration 27, loss = 0.11684615\n",
      "Iteration 28, loss = 0.11282354\n",
      "Iteration 29, loss = 0.10954634\n",
      "Iteration 30, loss = 0.10542373\n",
      "Iteration 31, loss = 0.10004653\n",
      "Iteration 32, loss = 0.10106272\n",
      "Iteration 33, loss = 0.09685182\n",
      "Iteration 34, loss = 0.09822632\n",
      "Iteration 35, loss = 0.10853018\n",
      "Iteration 36, loss = 0.10435643\n",
      "Iteration 37, loss = 0.09282465\n",
      "Iteration 38, loss = 0.08896804\n",
      "Iteration 39, loss = 0.08951428\n",
      "Iteration 40, loss = 0.08819842\n",
      "Iteration 41, loss = 0.08583639\n",
      "Iteration 42, loss = 0.08563447\n",
      "Iteration 43, loss = 0.08559402\n",
      "Iteration 44, loss = 0.08488400\n",
      "Iteration 45, loss = 0.08636621\n",
      "Iteration 46, loss = 0.08779312\n",
      "Iteration 47, loss = 0.10403013\n",
      "Iteration 48, loss = 0.10730248\n",
      "Iteration 49, loss = 0.09978547\n",
      "Iteration 50, loss = 0.08688403\n",
      "Iteration 51, loss = 0.08528040\n",
      "Iteration 52, loss = 0.08808720\n",
      "Iteration 53, loss = 0.08818959\n",
      "Iteration 54, loss = 0.08675209\n",
      "Iteration 55, loss = 0.08164910\n",
      "Iteration 56, loss = 0.08131543\n",
      "Iteration 57, loss = 0.08293434\n",
      "Iteration 58, loss = 0.08797477\n",
      "Iteration 59, loss = 0.08268154\n",
      "Iteration 60, loss = 0.08252529\n",
      "Iteration 61, loss = 0.08603186\n",
      "Iteration 62, loss = 0.08100575\n",
      "Iteration 63, loss = 0.08156861\n",
      "Iteration 64, loss = 0.08073167\n",
      "Iteration 65, loss = 0.08452415\n",
      "Iteration 66, loss = 0.08030958\n",
      "Iteration 67, loss = 0.08012344\n",
      "Iteration 68, loss = 0.08633884\n",
      "Iteration 69, loss = 0.08090648\n",
      "Iteration 70, loss = 0.08095288\n",
      "Iteration 71, loss = 0.08428451\n",
      "Iteration 72, loss = 0.09094647\n",
      "Iteration 73, loss = 0.08617227\n",
      "Iteration 74, loss = 0.09290433\n",
      "Iteration 75, loss = 0.09898104\n",
      "Iteration 76, loss = 0.09488181\n",
      "Iteration 77, loss = 0.08519085\n",
      "Iteration 78, loss = 0.08718005\n",
      "Training loss did not improve more than tol=0.000100 for 10 consecutive epochs. Stopping.\n",
      "Wall time: 7.05 s\n"
     ]
    },
    {
     "data": {
      "text/plain": [
       "RandomizedSearchCV(cv=2, estimator=MLPRegressor(verbose=True),\n",
       "                   param_distributions={'hidden_layer_sizes': [(100,), (300,),\n",
       "                                                               (200,)],\n",
       "                                        'learning_rate_init': [0.001, 0.002,\n",
       "                                                               0.004],\n",
       "                                        'max_iter': [100, 200, 300, 400, 500,\n",
       "                                                     600],\n",
       "                                        'momentum': [0.7, 0.8, 0.9]})"
      ]
     },
     "execution_count": 39,
     "metadata": {},
     "output_type": "execute_result"
    }
   ],
   "source": [
    "%%time\n",
    "mlp=MLPRegressor(verbose=True) # calling MLP model for training \n",
    "Model_R = RandomizedSearchCV(estimator = mlp, param_distributions = params, cv = 2) #calling search and it will help to get the best parametrs\n",
    "Model_R.fit(X_train, y_train) # Training this model"
   ]
  },
  {
   "cell_type": "markdown",
   "id": "5a382550",
   "metadata": {
    "id": "9f092614"
   },
   "source": [
    "### Best Parameter selected"
   ]
  },
  {
   "cell_type": "code",
   "execution_count": 40,
   "id": "8141ee4f",
   "metadata": {
    "id": "fyl8OfE-QW1U",
    "outputId": "6f9a0fc6-6704-4b89-89af-c9f0327cd7e0"
   },
   "outputs": [
    {
     "data": {
      "text/plain": [
       "{'momentum': 0.7,\n",
       " 'max_iter': 400,\n",
       " 'learning_rate_init': 0.002,\n",
       " 'hidden_layer_sizes': (200,)}"
      ]
     },
     "execution_count": 40,
     "metadata": {},
     "output_type": "execute_result"
    }
   ],
   "source": [
    "Model_R.best_params_"
   ]
  },
  {
   "cell_type": "markdown",
   "id": "d1a2bac2",
   "metadata": {
    "id": "7ca98e87"
   },
   "source": [
    "# Evaluation Measures on Test data"
   ]
  },
  {
   "cell_type": "markdown",
   "id": "38825b43",
   "metadata": {
    "id": "957be225"
   },
   "source": [
    "# MSE"
   ]
  },
  {
   "cell_type": "code",
   "execution_count": 41,
   "id": "fb085f9a",
   "metadata": {
    "colab": {
     "base_uri": "https://localhost:8080/"
    },
    "id": "c8269343",
    "outputId": "c32a0b18-bd07-4a10-ed2e-b579c4d72081"
   },
   "outputs": [
    {
     "name": "stdout",
     "output_type": "stream",
     "text": [
      "Mean Squared Error:  1.15574\n"
     ]
    }
   ],
   "source": [
    "y_pred_test=Model_R.predict(X_test) # tetsing trained model on test data\n",
    "test_mse3=mean_squared_error(y_test,y_pred_test) # calculating the mse score\n",
    "print('Mean Squared Error: ', round(test_mse3,5)) #pritng the results "
   ]
  },
  {
   "cell_type": "markdown",
   "id": "4c7a886d",
   "metadata": {
    "id": "47015631"
   },
   "source": [
    "# MAE"
   ]
  },
  {
   "cell_type": "code",
   "execution_count": 42,
   "id": "9ec65849",
   "metadata": {
    "colab": {
     "base_uri": "https://localhost:8080/"
    },
    "id": "1bbadfe5",
    "outputId": "a09fa46f-d899-48fd-c4b4-4cd39a4087d1"
   },
   "outputs": [
    {
     "name": "stdout",
     "output_type": "stream",
     "text": [
      "Mean Absolute Error:  0.97241\n"
     ]
    }
   ],
   "source": [
    "test_MAE3=mean_absolute_error(y_test,y_pred_test) # calculating the mae score\n",
    "print('Mean Absolute Error: ', round(test_MAE3,5)) #pritng the results "
   ]
  },
  {
   "cell_type": "markdown",
   "id": "c035d126",
   "metadata": {
    "id": "aaa88b65"
   },
   "source": [
    "# RMSE"
   ]
  },
  {
   "cell_type": "code",
   "execution_count": 43,
   "id": "1ea764c9",
   "metadata": {
    "colab": {
     "base_uri": "https://localhost:8080/"
    },
    "id": "2bd68540",
    "outputId": "0ca5cd92-19f6-475b-df42-8a86f229a61f"
   },
   "outputs": [
    {
     "name": "stdout",
     "output_type": "stream",
     "text": [
      "Mean Squared Error:  1.07505\n"
     ]
    }
   ],
   "source": [
    "test_rmse3=np.sqrt(test_mse3) # calculating the rmse score\n",
    "print('Mean Squared Error: ', round(test_rmse3,5)) #pritng the results "
   ]
  },
  {
   "cell_type": "markdown",
   "id": "7a93282d",
   "metadata": {
    "id": "3aa6dbe6"
   },
   "source": [
    "# MAPE"
   ]
  },
  {
   "cell_type": "code",
   "execution_count": 44,
   "id": "3c2d46d1",
   "metadata": {
    "colab": {
     "base_uri": "https://localhost:8080/"
    },
    "id": "f167a920",
    "outputId": "b69aab3e-40c1-41b1-8b46-4bf09b6512f5"
   },
   "outputs": [
    {
     "name": "stdout",
     "output_type": "stream",
     "text": [
      "Mean Absolute Error:  0.64953\n"
     ]
    }
   ],
   "source": [
    "test_mape3=mean_absolute_percentage_error(y_test,y_pred_test) # calculating the mape score\n",
    "print('Mean Absolute Error: ', round(test_mape3,5)) #pritng the results "
   ]
  },
  {
   "cell_type": "code",
   "execution_count": 45,
   "id": "a33cef13",
   "metadata": {},
   "outputs": [
    {
     "data": {
      "image/png": "[encoded data removed]",
      "text/plain": [
       "<Figure size 432x288 with 1 Axes>"
      ]
     },
     "metadata": {
      "needs_background": "light"
     },
     "output_type": "display_data"
    },
    {
     "data": {
      "image/png": "[encoded data removed]",
      "text/plain": [
       "<Figure size 1296x576 with 1 Axes>"
      ]
     },
     "metadata": {
      "needs_background": "light"
     },
     "output_type": "display_data"
    }
   ],
   "source": [
    "df = pd.DataFrame({'Actual': y_test, 'Predicted': y_pred_test})\n",
    "df2 = pd.DataFrame({'train': y_train})\n",
    "ax = df.plot()\n",
    "df2.plot(ax=ax)\n",
    "df.plot(kind='line',figsize=(18,8))\n",
    "plt.grid(which='major', linestyle='-', linewidth='0.5', color='green')\n",
    "plt.grid(which='minor', linestyle=':', linewidth='0.5', color='black')\n",
    "plt.show()"
   ]
  },
  {
   "cell_type": "markdown",
   "id": "9b5f5304",
   "metadata": {
    "id": "a459ec52"
   },
   "source": [
    "# Ridge Regression Model"
   ]
  },
  {
   "cell_type": "markdown",
   "id": "8ebd13e3",
   "metadata": {
    "id": "d9bb42f3"
   },
   "source": [
    "### Parametrs"
   ]
  },
  {
   "cell_type": "code",
   "execution_count": 46,
   "id": "bb7c26f3",
   "metadata": {
    "id": "4874afd8"
   },
   "outputs": [],
   "source": [
    "params = { \n",
    "    'alpha': [1.0,2.0,3.0,4.0],\n",
    "    'max_iter':[100,200,300,400,500],\n",
    "    'tol':[0.001,0.002,0.003,0.004]\n",
    "}"
   ]
  },
  {
   "cell_type": "code",
   "execution_count": 47,
   "id": "80079373",
   "metadata": {
    "id": "0925241a",
    "outputId": "11aef2f5-3d88-4814-8a83-dde462eb9b6a"
   },
   "outputs": [
    {
     "name": "stdout",
     "output_type": "stream",
     "text": [
      "Wall time: 50.6 ms\n"
     ]
    },
    {
     "data": {
      "text/plain": [
       "RandomizedSearchCV(cv=2, estimator=Ridge(alpha=4.0),\n",
       "                   param_distributions={'alpha': [1.0, 2.0, 3.0, 4.0],\n",
       "                                        'max_iter': [100, 200, 300, 400, 500],\n",
       "                                        'tol': [0.001, 0.002, 0.003, 0.004]})"
      ]
     },
     "execution_count": 47,
     "metadata": {},
     "output_type": "execute_result"
    }
   ],
   "source": [
    "%%time\n",
    "Ridge=linear_model.Ridge(alpha=4.0) # calling Ridge model for training \n",
    "Model_R = RandomizedSearchCV(estimator = Ridge, param_distributions = params, cv = 2) #calling search and it will help to get the best parametrs\n",
    "Model_R.fit(X_train, y_train) # Training this model"
   ]
  },
  {
   "cell_type": "markdown",
   "id": "12b527f0",
   "metadata": {
    "id": "4dca83ab"
   },
   "source": [
    "### Best Parameter selected"
   ]
  },
  {
   "cell_type": "code",
   "execution_count": 48,
   "id": "356ac2ac",
   "metadata": {
    "id": "Vm8Cbb6bQW1h",
    "outputId": "8a623602-fb23-44c3-d5ec-be955538fbaa"
   },
   "outputs": [
    {
     "data": {
      "text/plain": [
       "{'tol': 0.003, 'max_iter': 300, 'alpha': 4.0}"
      ]
     },
     "execution_count": 48,
     "metadata": {},
     "output_type": "execute_result"
    }
   ],
   "source": [
    "Model_R.best_params_"
   ]
  },
  {
   "cell_type": "markdown",
   "id": "74a0ceab",
   "metadata": {
    "id": "727564cd"
   },
   "source": [
    "# Evaluation Measures on Test data"
   ]
  },
  {
   "cell_type": "markdown",
   "id": "0857e2a6",
   "metadata": {
    "id": "d1d13856"
   },
   "source": [
    "# MSE"
   ]
  },
  {
   "cell_type": "code",
   "execution_count": 49,
   "id": "a0537007",
   "metadata": {
    "colab": {
     "base_uri": "https://localhost:8080/"
    },
    "id": "d7d5bd06",
    "outputId": "47a57e92-28a6-4a36-cd0e-3fe62977d265"
   },
   "outputs": [
    {
     "name": "stdout",
     "output_type": "stream",
     "text": [
      "Mean Squared Error:  1.14344\n"
     ]
    }
   ],
   "source": [
    "y_pred_test=Model_R.predict(X_test) # tetsing trained model on test data\n",
    "test_mse7=mean_squared_error(y_test,y_pred_test) # calculating the mse score\n",
    "print('Mean Squared Error: ', round(test_mse7,5)) #pritng the results "
   ]
  },
  {
   "cell_type": "markdown",
   "id": "77fc276c",
   "metadata": {
    "id": "fe04678f"
   },
   "source": [
    "# MAE"
   ]
  },
  {
   "cell_type": "code",
   "execution_count": 50,
   "id": "8247f691",
   "metadata": {
    "colab": {
     "base_uri": "https://localhost:8080/"
    },
    "id": "fd169d94",
    "outputId": "9a4c4ded-10c7-410c-ea74-6b706bdf0c42"
   },
   "outputs": [
    {
     "name": "stdout",
     "output_type": "stream",
     "text": [
      "Mean Absolute Error:  0.9636\n"
     ]
    }
   ],
   "source": [
    "test_MAE7=mean_absolute_error(y_test,y_pred_test) # calculating the mae score\n",
    "print('Mean Absolute Error: ', round(test_MAE7,5)) #pritng the results "
   ]
  },
  {
   "cell_type": "markdown",
   "id": "02720fc9",
   "metadata": {
    "id": "4824aff6"
   },
   "source": [
    "# RMSE"
   ]
  },
  {
   "cell_type": "code",
   "execution_count": 51,
   "id": "8563f641",
   "metadata": {
    "colab": {
     "base_uri": "https://localhost:8080/"
    },
    "id": "23d47100",
    "outputId": "198834f0-d89e-4aa8-8ca8-efb0b5b06d56"
   },
   "outputs": [
    {
     "name": "stdout",
     "output_type": "stream",
     "text": [
      "Mean Squared Error:  1.06932\n"
     ]
    }
   ],
   "source": [
    "test_rmse7=np.sqrt(test_mse7) # calculating the rmse score\n",
    "print('Mean Squared Error: ', round(test_rmse7,5)) #pritng the results "
   ]
  },
  {
   "cell_type": "markdown",
   "id": "acd01d78",
   "metadata": {
    "id": "5c6d4fe2"
   },
   "source": [
    "# MAPE"
   ]
  },
  {
   "cell_type": "code",
   "execution_count": 52,
   "id": "bb884821",
   "metadata": {
    "colab": {
     "base_uri": "https://localhost:8080/"
    },
    "id": "e40f50d2",
    "outputId": "2bdc3d67-297c-439a-d08f-a35145efc391"
   },
   "outputs": [
    {
     "name": "stdout",
     "output_type": "stream",
     "text": [
      "Mean Absolute Error:  0.64477\n"
     ]
    }
   ],
   "source": [
    "test_mape7=mean_absolute_percentage_error(y_test,y_pred_test) # calculating the mape score\n",
    "print('Mean Absolute Error: ', round(test_mape7,5)) #pritng the results "
   ]
  },
  {
   "cell_type": "code",
   "execution_count": 53,
   "id": "c0c15833",
   "metadata": {},
   "outputs": [
    {
     "data": {
      "image/png": "[encoded data removed]",
      "text/plain": [
       "<Figure size 432x288 with 1 Axes>"
      ]
     },
     "metadata": {
      "needs_background": "light"
     },
     "output_type": "display_data"
    },
    {
     "data": {
      "image/png": "[encoded data removed]",
      "text/plain": [
       "<Figure size 1296x576 with 1 Axes>"
      ]
     },
     "metadata": {
      "needs_background": "light"
     },
     "output_type": "display_data"
    }
   ],
   "source": [
    "df = pd.DataFrame({'Actual': y_test, 'Predicted': y_pred_test})\n",
    "df2 = pd.DataFrame({'train': y_train})\n",
    "ax = df.plot()\n",
    "df2.plot(ax=ax)\n",
    "df.plot(kind='line',figsize=(18,8))\n",
    "plt.grid(which='major', linestyle='-', linewidth='0.5', color='green')\n",
    "plt.grid(which='minor', linestyle=':', linewidth='0.5', color='black')\n",
    "plt.show()"
   ]
  },
  {
   "cell_type": "markdown",
   "id": "5ecf1759",
   "metadata": {
    "id": "333f6c2d"
   },
   "source": [
    "# Random Forest Regression Model"
   ]
  },
  {
   "cell_type": "markdown",
   "id": "a9e63154",
   "metadata": {
    "id": "1523d015"
   },
   "source": [
    "### Parametrs"
   ]
  },
  {
   "cell_type": "code",
   "execution_count": 54,
   "id": "7e067236",
   "metadata": {
    "id": "3afa08f8"
   },
   "outputs": [],
   "source": [
    "params = { \n",
    "    'max_depth': [10,20,30,40,50],\n",
    "    'random_state':[10,20,30,40],\n",
    "    'min_samples_leaf':[10,20,30,40,50]\n",
    "}"
   ]
  },
  {
   "cell_type": "code",
   "execution_count": 55,
   "id": "275b120c",
   "metadata": {
    "id": "6765e9a6",
    "outputId": "4575fcb7-6f6b-458e-ed7c-2ff698622ab1"
   },
   "outputs": [
    {
     "name": "stdout",
     "output_type": "stream",
     "text": [
      "Wall time: 1.99 s\n"
     ]
    },
    {
     "data": {
      "text/plain": [
       "RandomizedSearchCV(cv=2, estimator=RandomForestRegressor(),\n",
       "                   param_distributions={'max_depth': [10, 20, 30, 40, 50],\n",
       "                                        'min_samples_leaf': [10, 20, 30, 40,\n",
       "                                                             50],\n",
       "                                        'random_state': [10, 20, 30, 40]})"
      ]
     },
     "execution_count": 55,
     "metadata": {},
     "output_type": "execute_result"
    }
   ],
   "source": [
    "%%time\n",
    "RF=RandomForestRegressor() # calling RF model for training \n",
    "Model_R = RandomizedSearchCV(estimator = RF, param_distributions = params, cv = 2) #calling search and it will help to get the best parametrs\n",
    "Model_R.fit(X_train, y_train) # Training this model"
   ]
  },
  {
   "cell_type": "markdown",
   "id": "181468c4",
   "metadata": {
    "id": "513cdbd9"
   },
   "source": [
    "### Best Parameter selected"
   ]
  },
  {
   "cell_type": "code",
   "execution_count": 56,
   "id": "6f592d86",
   "metadata": {
    "id": "-nqR2I5HQW1l",
    "outputId": "61ee68a3-a80f-4a75-f85d-b029316931d7"
   },
   "outputs": [
    {
     "data": {
      "text/plain": [
       "{'random_state': 10, 'min_samples_leaf': 50, 'max_depth': 50}"
      ]
     },
     "execution_count": 56,
     "metadata": {},
     "output_type": "execute_result"
    }
   ],
   "source": [
    "Model_R.best_params_"
   ]
  },
  {
   "cell_type": "markdown",
   "id": "2e36160b",
   "metadata": {
    "id": "9e0f001e"
   },
   "source": [
    "# Evaluation Measures on Test data"
   ]
  },
  {
   "cell_type": "markdown",
   "id": "82934931",
   "metadata": {
    "id": "d65f65e0"
   },
   "source": [
    "# MSE"
   ]
  },
  {
   "cell_type": "code",
   "execution_count": 57,
   "id": "67ebb272",
   "metadata": {
    "colab": {
     "base_uri": "https://localhost:8080/"
    },
    "id": "d270f9c8",
    "outputId": "ad753567-f48c-4af6-c5b3-96f8617f552d"
   },
   "outputs": [
    {
     "name": "stdout",
     "output_type": "stream",
     "text": [
      "Mean Squared Error:  0.4532\n"
     ]
    }
   ],
   "source": [
    "y_pred_test=Model_R.predict(X_test) # tetsing trained model on test data\n",
    "test_mse8=mean_squared_error(y_test,y_pred_test) # calculating the mse score\n",
    "print('Mean Squared Error: ', round(test_mse8,5)) #pritng the results "
   ]
  },
  {
   "cell_type": "markdown",
   "id": "7ca442a8",
   "metadata": {
    "id": "80f80d59"
   },
   "source": [
    "# MAE"
   ]
  },
  {
   "cell_type": "code",
   "execution_count": 58,
   "id": "9914fa02",
   "metadata": {
    "colab": {
     "base_uri": "https://localhost:8080/"
    },
    "id": "3125ac93",
    "outputId": "0102b3de-9428-4fa9-ff34-53da36c4192b"
   },
   "outputs": [
    {
     "name": "stdout",
     "output_type": "stream",
     "text": [
      "Mean Absolute Error:  0.58591\n"
     ]
    }
   ],
   "source": [
    "test_MAE8=mean_absolute_error(y_test,y_pred_test) # calculating the mae score\n",
    "print('Mean Absolute Error: ', round(test_MAE8,5)) #pritng the results "
   ]
  },
  {
   "cell_type": "markdown",
   "id": "a840bba9",
   "metadata": {
    "id": "316796c4"
   },
   "source": [
    "# RMSE"
   ]
  },
  {
   "cell_type": "code",
   "execution_count": 59,
   "id": "e46c0dc3",
   "metadata": {
    "colab": {
     "base_uri": "https://localhost:8080/"
    },
    "id": "8d172dc4",
    "outputId": "19d91c09-6447-4d60-de82-0dfc1470aa8f"
   },
   "outputs": [
    {
     "name": "stdout",
     "output_type": "stream",
     "text": [
      "Mean Squared Error:  0.6732\n"
     ]
    }
   ],
   "source": [
    "test_rmse8=np.sqrt(test_mse8) # calculating the rmse score\n",
    "print('Mean Squared Error: ', round(test_rmse8,5)) #pritng the results "
   ]
  },
  {
   "cell_type": "markdown",
   "id": "0513f4ee",
   "metadata": {
    "id": "67152a14"
   },
   "source": [
    "# MAPE"
   ]
  },
  {
   "cell_type": "code",
   "execution_count": 60,
   "id": "5bb3f024",
   "metadata": {
    "colab": {
     "base_uri": "https://localhost:8080/"
    },
    "id": "2a40945b",
    "outputId": "12ebe82e-4d48-43cc-b745-90e794e01ddd"
   },
   "outputs": [
    {
     "name": "stdout",
     "output_type": "stream",
     "text": [
      "Mean Absolute Error:  0.39739\n"
     ]
    }
   ],
   "source": [
    "test_mape8=mean_absolute_percentage_error(y_test,y_pred_test) # calculating the mape score\n",
    "print('Mean Absolute Error: ', round(test_mape8,5)) #pritng the results "
   ]
  },
  {
   "cell_type": "code",
   "execution_count": 61,
   "id": "2948c041",
   "metadata": {},
   "outputs": [
    {
     "data": {
      "image/png": "[encoded data removed]",
      "text/plain": [
       "<Figure size 432x288 with 1 Axes>"
      ]
     },
     "metadata": {
      "needs_background": "light"
     },
     "output_type": "display_data"
    },
    {
     "data": {
      "image/png": "[encoded data removed]",
      "text/plain": [
       "<Figure size 1296x576 with 1 Axes>"
      ]
     },
     "metadata": {
      "needs_background": "light"
     },
     "output_type": "display_data"
    }
   ],
   "source": [
    "df = pd.DataFrame({'Actual': y_test, 'Predicted': y_pred_test})\n",
    "df2 = pd.DataFrame({'train': y_train})\n",
    "ax = df.plot()\n",
    "df2.plot(ax=ax)\n",
    "df.plot(kind='line',figsize=(18,8))\n",
    "plt.grid(which='major', linestyle='-', linewidth='0.5', color='green')\n",
    "plt.grid(which='minor', linestyle=':', linewidth='0.5', color='black')\n",
    "plt.show()"
   ]
  },
  {
   "cell_type": "markdown",
   "id": "bbc88fc4",
   "metadata": {
    "id": "62204063"
   },
   "source": [
    "# XGBoost Model"
   ]
  },
  {
   "cell_type": "markdown",
   "id": "2c29bbd7",
   "metadata": {
    "id": "bfb72077"
   },
   "source": [
    "### Parametrs"
   ]
  },
  {
   "cell_type": "code",
   "execution_count": 62,
   "id": "903cf9f4",
   "metadata": {
    "id": "05036ff5"
   },
   "outputs": [],
   "source": [
    "params = { \n",
    "    'base_score': [0.1,0.2,0.3,0.4,0.5,0.6],\n",
    "    'learning_rate':[0.1,0.2,0.3],\n",
    "    'n_estimators':[100,200,300,400],\n",
    "    'max_depth':[10,20,30,40,50]\n",
    "    \n",
    "}"
   ]
  },
  {
   "cell_type": "code",
   "execution_count": 63,
   "id": "e8db97ce",
   "metadata": {
    "id": "56a5d60c",
    "outputId": "5e09e0dd-2b33-48e4-84f8-78f8db771825"
   },
   "outputs": [
    {
     "name": "stdout",
     "output_type": "stream",
     "text": [
      "Wall time: 5.47 s\n"
     ]
    },
    {
     "data": {
      "text/plain": [
       "RandomizedSearchCV(cv=2,\n",
       "                   estimator=XGBRegressor(base_score=None, booster=None,\n",
       "                                          colsample_bylevel=None,\n",
       "                                          colsample_bynode=None,\n",
       "                                          colsample_bytree=None,\n",
       "                                          enable_categorical=False, gamma=None,\n",
       "                                          gpu_id=None, importance_type=None,\n",
       "                                          interaction_constraints=None,\n",
       "                                          learning_rate=None,\n",
       "                                          max_delta_step=None, max_depth=None,\n",
       "                                          min_child_weight=None, missing=nan,\n",
       "                                          monotone_constraints=...\n",
       "                                          n_estimators=100, n_jobs=None,\n",
       "                                          num_parallel_tree=None,\n",
       "                                          predictor=None, random_state=None,\n",
       "                                          reg_alpha=None, reg_lambda=None,\n",
       "                                          scale_pos_weight=None, subsample=None,\n",
       "                                          tree_method=None,\n",
       "                                          validate_parameters=None,\n",
       "                                          verbosity=None),\n",
       "                   param_distributions={'base_score': [0.1, 0.2, 0.3, 0.4, 0.5,\n",
       "                                                       0.6],\n",
       "                                        'learning_rate': [0.1, 0.2, 0.3],\n",
       "                                        'max_depth': [10, 20, 30, 40, 50],\n",
       "                                        'n_estimators': [100, 200, 300, 400]})"
      ]
     },
     "execution_count": 63,
     "metadata": {},
     "output_type": "execute_result"
    }
   ],
   "source": [
    "%%time\n",
    "XG=xgboost.XGBRegressor() # calling Xgboost model for training \n",
    "Model_R = RandomizedSearchCV(estimator = XG, param_distributions = params, cv = 2) #calling search and it will help to get the best parametrs\n",
    "Model_R.fit(X_train, y_train) # Training this model"
   ]
  },
  {
   "cell_type": "markdown",
   "id": "61668ea5",
   "metadata": {
    "id": "6163b9fe"
   },
   "source": [
    "### Best Parameter selected"
   ]
  },
  {
   "cell_type": "code",
   "execution_count": 64,
   "id": "118b293d",
   "metadata": {
    "id": "gMLsvsJlQW1r",
    "outputId": "cb3c937a-f146-415a-9298-d0f1cbb08d40"
   },
   "outputs": [
    {
     "data": {
      "text/plain": [
       "{'n_estimators': 400, 'max_depth': 10, 'learning_rate': 0.1, 'base_score': 0.6}"
      ]
     },
     "execution_count": 64,
     "metadata": {},
     "output_type": "execute_result"
    }
   ],
   "source": [
    "Model_R.best_params_"
   ]
  },
  {
   "cell_type": "markdown",
   "id": "7bb6b810",
   "metadata": {
    "id": "e4bdcd85"
   },
   "source": [
    "# Evaluation Measures on Test data"
   ]
  },
  {
   "cell_type": "markdown",
   "id": "1c58e936",
   "metadata": {
    "id": "9de31d6f"
   },
   "source": [
    "# MSE"
   ]
  },
  {
   "cell_type": "code",
   "execution_count": 65,
   "id": "62e87e70",
   "metadata": {
    "colab": {
     "base_uri": "https://localhost:8080/"
    },
    "id": "41499fe7",
    "outputId": "4b5cb1f9-f525-4381-e9aa-a8eb550b47e5"
   },
   "outputs": [
    {
     "name": "stdout",
     "output_type": "stream",
     "text": [
      "Mean Squared Error:  0.34493\n"
     ]
    }
   ],
   "source": [
    "y_pred_test=Model_R.predict(X_test) # tetsing trained model on test data\n",
    "test_mse9=mean_squared_error(y_test,y_pred_test) # calculating the mse score\n",
    "print('Mean Squared Error: ', round(test_mse9,5)) #pritng the results "
   ]
  },
  {
   "cell_type": "markdown",
   "id": "679f46b1",
   "metadata": {
    "id": "3a3b72f1"
   },
   "source": [
    "# MAE"
   ]
  },
  {
   "cell_type": "code",
   "execution_count": 66,
   "id": "9fa24981",
   "metadata": {
    "colab": {
     "base_uri": "https://localhost:8080/"
    },
    "id": "cc4fea7d",
    "outputId": "2c916d5b-62e6-4db4-a73f-fb96f2e6fdc8"
   },
   "outputs": [
    {
     "name": "stdout",
     "output_type": "stream",
     "text": [
      "Mean Absolute Error:  0.48938\n"
     ]
    }
   ],
   "source": [
    "test_MAE9=mean_absolute_error(y_test,y_pred_test) # calculating the mae score\n",
    "print('Mean Absolute Error: ', round(test_MAE9,5)) #pritng the results "
   ]
  },
  {
   "cell_type": "markdown",
   "id": "42ce4529",
   "metadata": {
    "id": "39fa63be"
   },
   "source": [
    "# RMSE"
   ]
  },
  {
   "cell_type": "code",
   "execution_count": 67,
   "id": "00ce00a7",
   "metadata": {
    "colab": {
     "base_uri": "https://localhost:8080/"
    },
    "id": "6a9e39a4",
    "outputId": "aa84567a-faff-43a5-d8f3-12ccbc4f53bb"
   },
   "outputs": [
    {
     "name": "stdout",
     "output_type": "stream",
     "text": [
      "Mean Squared Error:  0.58731\n"
     ]
    }
   ],
   "source": [
    "test_rmse9=np.sqrt(test_mse9) # calculating the rmse score\n",
    "print('Mean Squared Error: ', round(test_rmse9,5)) #pritng the results "
   ]
  },
  {
   "cell_type": "markdown",
   "id": "92ced657",
   "metadata": {
    "id": "6a518a0a"
   },
   "source": [
    "# MAPE"
   ]
  },
  {
   "cell_type": "code",
   "execution_count": 68,
   "id": "f3801cb1",
   "metadata": {
    "colab": {
     "base_uri": "https://localhost:8080/"
    },
    "id": "0d2862e5",
    "outputId": "2cec732c-5c40-431c-ab76-1b9f133911bd"
   },
   "outputs": [
    {
     "name": "stdout",
     "output_type": "stream",
     "text": [
      "Mean Absolute Error:  0.33748\n"
     ]
    }
   ],
   "source": [
    "test_mape9=mean_absolute_percentage_error(y_test,y_pred_test) # calculating the mape score\n",
    "print('Mean Absolute Error: ', round(test_mape9,5)) #pritng the results "
   ]
  },
  {
   "cell_type": "code",
   "execution_count": 69,
   "id": "8da9a746",
   "metadata": {},
   "outputs": [
    {
     "data": {
      "image/png": "[encoded data removed]",
      "text/plain": [
       "<Figure size 432x288 with 1 Axes>"
      ]
     },
     "metadata": {
      "needs_background": "light"
     },
     "output_type": "display_data"
    },
    {
     "data": {
      "image/png": "[encoded data removed]",
      "text/plain": [
       "<Figure size 1296x576 with 1 Axes>"
      ]
     },
     "metadata": {
      "needs_background": "light"
     },
     "output_type": "display_data"
    }
   ],
   "source": [
    "df = pd.DataFrame({'Actual': y_test, 'Predicted': y_pred_test})\n",
    "df2 = pd.DataFrame({'train': y_train})\n",
    "ax = df.plot()\n",
    "df2.plot(ax=ax)\n",
    "df.plot(kind='line',figsize=(18,8))\n",
    "plt.grid(which='major', linestyle='-', linewidth='0.5', color='green')\n",
    "plt.grid(which='minor', linestyle=':', linewidth='0.5', color='black')\n",
    "plt.show()"
   ]
  },
  {
   "cell_type": "markdown",
   "id": "a7b59be6",
   "metadata": {
    "id": "661a8b18"
   },
   "source": [
    "# Comparison of all algorithms Results on MSE score"
   ]
  },
  {
   "cell_type": "code",
   "execution_count": 70,
   "id": "687d09e8",
   "metadata": {
    "colab": {
     "base_uri": "https://localhost:8080/"
    },
    "id": "04a3b908",
    "outputId": "74583119-420c-44c1-e6d2-92aa228e2f03",
    "scrolled": true
   },
   "outputs": [
    {
     "name": "stdout",
     "output_type": "stream",
     "text": [
      "\n",
      "\n",
      "Comparison of all algorithms\n",
      "+-------------------------+-----------+\n",
      "|          Model          | MSE score |\n",
      "+-------------------------+-----------+\n",
      "|     ARIMA Algorithm     |   0.028   |\n",
      "|    SARIMAX Algorithm    |   0.029   |\n",
      "|      MLP Algorithm      |   1.156   |\n",
      "|     Ridge Algorithm     |   1.143   |\n",
      "| Random Forest Algorithm |   0.453   |\n",
      "|      XGB Algorithm      |   0.345   |\n",
      "+-------------------------+-----------+\n",
      "\n",
      "\n"
     ]
    }
   ],
   "source": [
    "x = PrettyTable() #calling prettytable for the table \n",
    "print('\\n') # for new line \n",
    "print(\"Comparison of all algorithms\") # for  title \n",
    "x.field_names = [\"Model\", \"MSE score\"] # for  column names \n",
    "\n",
    "x.add_row([\"ARIMA Algorithm\", round(test_mse1,3)]) # for the results of mse \n",
    "x.add_row([\"SARIMAX Algorithm\", round(test_mse2,3)]) # for the results of mse \n",
    "x.add_row([\"MLP Algorithm\", round(test_mse3,3)]) # for the results of mse \n",
    "x.add_row([\"Ridge Algorithm\", round(test_mse7,3)]) # for the results of mse \n",
    "x.add_row([\"Random Forest Algorithm\", round(test_mse8,3)]) # for the results of mse \n",
    "x.add_row([\"XGB Algorithm\", round(test_mse9,3)]) # for the results of mse \n",
    "\n",
    "\n",
    "print(x) # printing the table \n",
    "print('\\n') #new line "
   ]
  },
  {
   "cell_type": "markdown",
   "id": "d3dd1dfe",
   "metadata": {
    "id": "00274d05"
   },
   "source": [
    "# Comparison of all algorithms Results on MAE score"
   ]
  },
  {
   "cell_type": "code",
   "execution_count": 71,
   "id": "732556dd",
   "metadata": {
    "colab": {
     "base_uri": "https://localhost:8080/"
    },
    "id": "c7ffca1a",
    "outputId": "a440b270-1b62-48d9-a5dc-980d0c5ea6a6",
    "scrolled": true
   },
   "outputs": [
    {
     "name": "stdout",
     "output_type": "stream",
     "text": [
      "\n",
      "\n",
      "Comparison of all algorithms\n",
      "+-------------------------+-----------+\n",
      "|          Model          | MAE score |\n",
      "+-------------------------+-----------+\n",
      "|     ARIMA Algorithm     |   0.133   |\n",
      "|    SARIMAX Algorithm    |   0.135   |\n",
      "|      MLP Algorithm      |   0.972   |\n",
      "|     Ridge Algorithm     |   0.964   |\n",
      "| Random Forest Algorithm |   0.586   |\n",
      "|      XGB Algorithm      |   0.489   |\n",
      "+-------------------------+-----------+\n",
      "\n",
      "\n"
     ]
    }
   ],
   "source": [
    "x = PrettyTable() #calling prettytable for the table \n",
    "print('\\n') # for new line \n",
    "print(\"Comparison of all algorithms\") # for  title \n",
    "x.field_names = [\"Model\", \"MAE score\"] # for  column names \n",
    "\n",
    "\n",
    "x.add_row([\"ARIMA Algorithm\", round(test_MAE1,3)]) # for the results of MAE \n",
    "x.add_row([\"SARIMAX Algorithm\", round(test_MAE2,3)]) # for the results of MAE \n",
    "x.add_row([\"MLP Algorithm\", round(test_MAE3,3)]) # for the results of MAE \n",
    "x.add_row([\"Ridge Algorithm\", round(test_MAE7,3)]) # for the results of MAE  \n",
    "x.add_row([\"Random Forest Algorithm\", round(test_MAE8,3)]) # for the results of MAE \n",
    "x.add_row([\"XGB Algorithm\", round(test_MAE9,3)]) # for the results of MAE \n",
    "print(x) # printing the table \n",
    "print('\\n') #new line "
   ]
  },
  {
   "cell_type": "markdown",
   "id": "b91c13bb",
   "metadata": {
    "id": "e565e5df"
   },
   "source": [
    "# Comparison of all algorithms Results on RMSE score"
   ]
  },
  {
   "cell_type": "code",
   "execution_count": 72,
   "id": "a8c44840",
   "metadata": {
    "colab": {
     "base_uri": "https://localhost:8080/"
    },
    "id": "f6d34ed7",
    "outputId": "8d0c8a32-99ef-418d-db12-c8acc6d0c37d",
    "scrolled": true
   },
   "outputs": [
    {
     "name": "stdout",
     "output_type": "stream",
     "text": [
      "\n",
      "\n",
      "Comparison of all algorithms\n",
      "+-------------------------+------------+\n",
      "|          Model          | RMSE score |\n",
      "+-------------------------+------------+\n",
      "|     ARIMA Algorithm     |   0.166    |\n",
      "|    SARIMAX Algorithm    |   0.172    |\n",
      "|      MLP Algorithm      |   1.075    |\n",
      "|     Ridge Algorithm     |   1.069    |\n",
      "| Random Forest Algorithm |   0.673    |\n",
      "|      XGB Algorithm      |   0.587    |\n",
      "+-------------------------+------------+\n",
      "\n",
      "\n"
     ]
    }
   ],
   "source": [
    "x = PrettyTable() #calling prettytable for the table \n",
    "print('\\n') # for new line \n",
    "print(\"Comparison of all algorithms\") # for  title \n",
    "x.field_names = [\"Model\", \"RMSE score\"] # for  column names \n",
    "\n",
    "x.add_row([\"ARIMA Algorithm\", round(test_rmse1,3)]) # for the results of rmse \n",
    "x.add_row([\"SARIMAX Algorithm\", round(test_rmse2,3)]) # for the results of rmse \n",
    "x.add_row([\"MLP Algorithm\", round(test_rmse3,3)]) # for the results of rmse \n",
    "x.add_row([\"Ridge Algorithm\", round(test_rmse7,3)]) # for the results of rmse \n",
    "x.add_row([\"Random Forest Algorithm\", round(test_rmse8,3)]) # for the results of rmse \n",
    "x.add_row([\"XGB Algorithm\", round(test_rmse9,3)]) # for the results of rmse \n",
    "\n",
    "\n",
    "\n",
    "print(x) # printing the table \n",
    "print('\\n') #new line "
   ]
  },
  {
   "cell_type": "markdown",
   "id": "c9349018",
   "metadata": {
    "id": "67e4b146"
   },
   "source": [
    "# Comparison of all algorithms Results on MAPE score"
   ]
  },
  {
   "cell_type": "code",
   "execution_count": 73,
   "id": "4de05d41",
   "metadata": {
    "colab": {
     "base_uri": "https://localhost:8080/"
    },
    "id": "c997a937",
    "outputId": "97ca14ae-88ef-4e06-aeb0-40ae55b3ce39",
    "scrolled": true
   },
   "outputs": [
    {
     "name": "stdout",
     "output_type": "stream",
     "text": [
      "\n",
      "\n",
      "Comparison of all algorithms\n",
      "+-------------------------+------------+\n",
      "|          Model          | MAPE score |\n",
      "+-------------------------+------------+\n",
      "|     ARIMA Algorithm     |   0.087    |\n",
      "|    SARIMAX Algorithm    |    0.09    |\n",
      "|      MLP Algorithm      |    0.65    |\n",
      "|     Ridge Algorithm     |   0.645    |\n",
      "| Random Forest Algorithm |   0.397    |\n",
      "|      XGB Algorithm      |   0.337    |\n",
      "+-------------------------+------------+\n",
      "\n",
      "\n"
     ]
    }
   ],
   "source": [
    "x = PrettyTable() #calling prettytable for the table \n",
    "print('\\n') # for new line \n",
    "print(\"Comparison of all algorithms\") # for  title \n",
    "x.field_names = [\"Model\", \"MAPE score\"] # for  column names \n",
    "\n",
    "x.add_row([\"ARIMA Algorithm\", round(test_mape1,3)]) # for the results of mape \n",
    "x.add_row([\"SARIMAX Algorithm\", round(test_mape2,3)]) # for the results of mape \n",
    "x.add_row([\"MLP Algorithm\", round(test_mape3,3)]) # for the results of mape \n",
    "x.add_row([\"Ridge Algorithm\", round(test_mape7,3)]) # for the results of mape \n",
    "x.add_row([\"Random Forest Algorithm\", round(test_mape8,3)]) # for the results of mape \n",
    "x.add_row([\"XGB Algorithm\", round(test_mape9,3)]) # for the results of mape \n",
    "\n",
    "\n",
    "print(x) # printing the table \n",
    "print('\\n') #new line "
   ]
  },
  {
   "cell_type": "code",
   "execution_count": null,
   "id": "5be1e8cd",
   "metadata": {},
   "outputs": [],
   "source": []
  }
 ],
 "metadata": {
  "colab": {
   "collapsed_sections": [
    "551b0675",
    "d998dc9c",
    "730e175f",
    "81e417ea",
    "84b32d8e",
    "9520a0d9",
    "43e6f9a4",
    "f83f7e20",
    "ad95b17f",
    "33c07bfe",
    "0b6205cc",
    "52333f25",
    "61c9d100",
    "h3QT9P9OMZ-7",
    "0dbc04db",
    "564d00c7",
    "4902bc8d",
    "149b8f12",
    "d65c4cb0",
    "27747d0a",
    "aa537618",
    "aadcaafa",
    "100e989e",
    "f8822ca5",
    "24c7a86b",
    "cd768cce",
    "e5cb8cb1",
    "30ee8f14",
    "24e5d5ba",
    "4321abf1",
    "c6adc85e",
    "264cc82e",
    "dad9a2a5",
    "e30c698e",
    "59fe3989",
    "a6d95fb7",
    "2321c33b",
    "f40c5adf",
    "9b387b65",
    "c610f1c7",
    "2cb40234",
    "6cd46073",
    "036e1457",
    "ca934a25",
    "77738e90",
    "a9b2b0e2",
    "f12a31db",
    "7d0cf697",
    "7ca98e87",
    "957be225",
    "47015631",
    "aaa88b65",
    "3aa6dbe6",
    "d419c43b",
    "fe5606cb",
    "08d19da3",
    "ae158bc8",
    "4254bd69",
    "59cb31c8",
    "49e20662",
    "82f1308f",
    "7176c2ff",
    "845e650b",
    "49cdda7e",
    "1520c012",
    "7db510fc",
    "f1b2e4b5",
    "02ed8d01",
    "d11c5b05",
    "f10d9897",
    "21e75249",
    "bdbec6b8",
    "a459ec52",
    "727564cd",
    "d1d13856",
    "fe04678f",
    "4824aff6",
    "5c6d4fe2",
    "333f6c2d",
    "9e0f001e",
    "d65f65e0",
    "80f80d59",
    "316796c4",
    "67152a14",
    "62204063",
    "e4bdcd85",
    "9de31d6f",
    "3a3b72f1",
    "39fa63be",
    "6a518a0a",
    "d371f31e",
    "776ed253",
    "b5cf2d9c",
    "d0ade074",
    "20050f8e",
    "c95a6a62",
    "47738353",
    "aebc24ae",
    "e4602a85",
    "6ee11c4c",
    "94b6b424",
    "2708f931",
    "661a8b18",
    "00274d05",
    "e565e5df",
    "67e4b146",
    "87f88cfc",
    "01f8f3e4",
    "b60c9078",
    "e5a9877d",
    "4ee06c8d",
    "773bb3ae",
    "98194cd4"
   ],
   "name": "ML Models With Indicators (ADA).ipynb",
   "provenance": []
  },
  "kernelspec": {
   "display_name": "Python 3 (ipykernel)",
   "language": "python",
   "name": "python3"
  },
  "language_info": {
   "codemirror_mode": {
    "name": "ipython",
    "version": 3
   },
   "file_extension": ".py",
   "mimetype": "text/x-python",
   "name": "python",
   "nbconvert_exporter": "python",
   "pygments_lexer": "ipython3",
   "version": "3.8.3"
  }
 },
 "nbformat": 4,
 "nbformat_minor": 5
}
