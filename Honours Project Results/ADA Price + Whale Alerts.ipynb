{
 "cells": [
  {
   "cell_type": "markdown",
   "id": "bf02524a",
   "metadata": {
    "id": "125a9138"
   },
   "source": [
    "# Importing Python libraries"
   ]
  },
  {
   "cell_type": "code",
   "execution_count": 1,
   "id": "79e2d460",
   "metadata": {
    "colab": {
     "base_uri": "https://localhost:8080/",
     "height": 443
    },
    "id": "f9aadf58",
    "outputId": "e0e41f09-e8ee-4ca4-9509-8bdf8f2f71ff",
    "scrolled": true
   },
   "outputs": [
    {
     "name": "stderr",
     "output_type": "stream",
     "text": [
      "C:\\Users\\callu\\anaconda3\\lib\\site-packages\\xgboost\\compat.py:36: FutureWarning: pandas.Int64Index is deprecated and will be removed from pandas in a future version. Use pandas.Index with the appropriate dtype instead.\n",
      "  from pandas import MultiIndex, Int64Index\n",
      "C:\\Users\\callu\\anaconda3\\lib\\site-packages\\statsmodels\\compat\\pandas.py:61: FutureWarning: pandas.Int64Index is deprecated and will be removed from pandas in a future version. Use pandas.Index with the appropriate dtype instead.\n",
      "  from pandas import Int64Index as NumericIndex\n"
     ]
    }
   ],
   "source": [
    "import numpy as np  # library for numeric calculations   \n",
    "import pandas as pd # library for reading data \n",
    "import seaborn as sns # library for plots \n",
    "from matplotlib import cm # library fo plots \n",
    "import matplotlib.pyplot as plt # library for plots \n",
    "from datetime import datetime # library to get the current time \n",
    "import datetime # library for time \n",
    "from sklearn.metrics import mean_squared_error # library for evaluation  mse \n",
    "from sklearn.metrics import mean_absolute_percentage_error\n",
    "from math import sqrt  # library for evaluation  rmse\n",
    "from sklearn.metrics import mean_absolute_error # library for evaluation mae \n",
    "from prettytable import PrettyTable # library for for comparison in tables \n",
    "from plotly.subplots import make_subplots # library for plots \n",
    "import plotly.graph_objs as go # library for plots \n",
    "from sklearn.linear_model import LinearRegression # library for linear regression model training \n",
    "import xgboost # library for xgboost model training \n",
    "from sklearn.ensemble import RandomForestRegressor # library for random forest model training \n",
    "from sklearn import linear_model # library for ridge model training \n",
    "from sklearn.neural_network import MLPRegressor # library for Mlp model training \n",
    "from sklearn.svm import SVR # library for SVR model training \n",
    "from sklearn.neighbors import KNeighborsRegressor # library for KNN model training \n",
    "from statsmodels.tsa.statespace.sarimax import SARIMAX # library for Sarima model training \n",
    "from keras.models import Model # library for for LSTM model \n",
    "from keras.layers import LSTM, Activation, Input, Embedding # library for LSTM\n",
    "from keras.layers import Activation # library for RNN \n",
    "from keras.models import Sequential # library for RNN \n",
    "from keras.layers import Dense, Conv1D, Flatten, Dropout # library for LSTM\n",
    "import datetime as dt #library for dates \n",
    "from binance import Client #library for getting python binance data\n",
    "from binance import *\n",
    "from sklearn.model_selection import RandomizedSearchCV #library for seraching best parametr\n",
    "from keras.wrappers.scikit_learn import KerasClassifier #library for neural network model\n",
    "from sklearn.model_selection import GridSearchCV #library for searching best parameter\n",
    "from nltk.corpus import stopwords \n",
    "from nltk.stem import PorterStemmer  \n",
    "from nltk.tokenize import word_tokenize \n",
    "from nltk.tokenize import RegexpTokenizer \n",
    "import re \n",
    "import string\n",
    "from collections import Counter \n",
    "from sklearn import preprocessing\n",
    "from matplotlib import rcParams\n",
    "from sklearn.feature_extraction.text import TfidfVectorizer\n",
    "import tweepy as tw \n",
    "from statsmodels.tsa.arima.model import ARIMA\n",
    "import statsmodels.api as smapi\n",
    "\n",
    "from wordcloud import WordCloud\n",
    "import nltk\n",
    "from nltk import word_tokenize\n",
    "from collections import Counter\n",
    "from nltk.tokenize import RegexpTokenizer\n",
    "from nltk.corpus import stopwords\n",
    "import re\n",
    "import spacy\n",
    "from keras.preprocessing.text import Tokenizer\n",
    "import matplotlib.cm as cm\n",
    "from matplotlib import rcParams\n",
    "from vaderSentiment.vaderSentiment import SentimentIntensityAnalyzer\n",
    "\n",
    "\n",
    "import warnings # library to avoid system erros \n",
    "warnings.filterwarnings(\"ignore\")  # library to avoid system erros "
   ]
  },
  {
   "cell_type": "markdown",
   "id": "62dfa765",
   "metadata": {
    "id": "19a6d59e"
   },
   "source": [
    "# ------------------------------------------------------------------------------------------------------"
   ]
  },
  {
   "cell_type": "markdown",
   "id": "b3a056a0",
   "metadata": {},
   "source": [
    "## Settings"
   ]
  },
  {
   "cell_type": "code",
   "execution_count": 2,
   "id": "76aded86",
   "metadata": {},
   "outputs": [],
   "source": [
    "cryptoTicker = \"ETH\"\n",
    "cryptoPair = \"USDT\"\n",
    "\n",
    "trainTestSplit = 0.8"
   ]
  },
  {
   "cell_type": "markdown",
   "id": "31ce32ee",
   "metadata": {},
   "source": [
    "### Loading the whale data"
   ]
  },
  {
   "cell_type": "code",
   "execution_count": 3,
   "id": "33b85745",
   "metadata": {},
   "outputs": [],
   "source": [
    "data=pd.read_csv('Datasets/dataFileWhaleADA.csv')"
   ]
  },
  {
   "cell_type": "code",
   "execution_count": 4,
   "id": "04d8e060",
   "metadata": {},
   "outputs": [],
   "source": [
    "li = data['tweet'].str.lower().str.cat(sep=' ')"
   ]
  },
  {
   "cell_type": "markdown",
   "id": "fb07cf85",
   "metadata": {},
   "source": [
    "# Getting Tokenization of the text"
   ]
  },
  {
   "cell_type": "code",
   "execution_count": 5,
   "id": "df58f076",
   "metadata": {},
   "outputs": [
    {
     "data": {
      "text/plain": [
       "0    🚨 🚨  20,000,000 #USDT (20,000,000 USD) transfe...\n",
       "1    🚨 🚨  29,999,975 #USDT (29,999,975 USD) transfe...\n",
       "2    🚨 🚨  29,999,975 #USDT (29,999,975 USD) transfe...\n",
       "3    🚨 🚨 🚨  29,999,998 #USDT (29,999,998 USD) trans...\n",
       "4    🚨 🚨 🚨 🚨 🚨 🚨  69,997,439 #USDT (69,997,439 USD)...\n",
       "Name: tweet, dtype: object"
      ]
     },
     "execution_count": 5,
     "metadata": {},
     "output_type": "execute_result"
    }
   ],
   "source": [
    "data = data[['date','time','tweet']]\n",
    "data['tweet'].head()"
   ]
  },
  {
   "cell_type": "code",
   "execution_count": 6,
   "id": "721cd629",
   "metadata": {},
   "outputs": [],
   "source": [
    "#nums = re.findall(r'\\b\\d{1,3}(?:,\\d{3})*(?:\\.\\d+)?(?!\\d)', data['tweet'][0]\n",
    "#data['amountTransfer'] = re.findall(r'\\b\\d{1,3}(?:,\\d{3})*(?:\\.\\d+)?(?!\\d)', data['tweet'])[0]\n",
    "data['amountTransfer'] = data['tweet'].str.findall(r'\\b\\d{1,3}(?:,\\d{3})*(?:\\.\\d+)?(?!\\d)')\n",
    "data['amountTransfer'] = data['amountTransfer'].str[1]"
   ]
  },
  {
   "cell_type": "code",
   "execution_count": 7,
   "id": "0e2b8743",
   "metadata": {},
   "outputs": [
    {
     "data": {
      "text/html": [
       "<div>\n",
       "<style scoped>\n",
       "    .dataframe tbody tr th:only-of-type {\n",
       "        vertical-align: middle;\n",
       "    }\n",
       "\n",
       "    .dataframe tbody tr th {\n",
       "        vertical-align: top;\n",
       "    }\n",
       "\n",
       "    .dataframe thead th {\n",
       "        text-align: right;\n",
       "    }\n",
       "</style>\n",
       "<table border=\"1\" class=\"dataframe\">\n",
       "  <thead>\n",
       "    <tr style=\"text-align: right;\">\n",
       "      <th></th>\n",
       "      <th>date</th>\n",
       "      <th>time</th>\n",
       "      <th>tweet</th>\n",
       "      <th>amountTransfer</th>\n",
       "    </tr>\n",
       "  </thead>\n",
       "  <tbody>\n",
       "    <tr>\n",
       "      <th>0</th>\n",
       "      <td>2021-12-30</td>\n",
       "      <td>23:24:22</td>\n",
       "      <td>🚨 🚨  20,000,000 #USDT (20,000,000 USD) transfe...</td>\n",
       "      <td>20,000,000</td>\n",
       "    </tr>\n",
       "    <tr>\n",
       "      <th>1</th>\n",
       "      <td>2021-12-30</td>\n",
       "      <td>23:21:26</td>\n",
       "      <td>🚨 🚨  29,999,975 #USDT (29,999,975 USD) transfe...</td>\n",
       "      <td>29,999,975</td>\n",
       "    </tr>\n",
       "    <tr>\n",
       "      <th>2</th>\n",
       "      <td>2021-12-30</td>\n",
       "      <td>23:17:39</td>\n",
       "      <td>🚨 🚨  29,999,975 #USDT (29,999,975 USD) transfe...</td>\n",
       "      <td>29,999,975</td>\n",
       "    </tr>\n",
       "    <tr>\n",
       "      <th>3</th>\n",
       "      <td>2021-12-30</td>\n",
       "      <td>23:16:11</td>\n",
       "      <td>🚨 🚨 🚨  29,999,998 #USDT (29,999,998 USD) trans...</td>\n",
       "      <td>29,999,998</td>\n",
       "    </tr>\n",
       "    <tr>\n",
       "      <th>4</th>\n",
       "      <td>2021-12-30</td>\n",
       "      <td>21:49:44</td>\n",
       "      <td>🚨 🚨 🚨 🚨 🚨 🚨  69,997,439 #USDT (69,997,439 USD)...</td>\n",
       "      <td>69,997,439</td>\n",
       "    </tr>\n",
       "    <tr>\n",
       "      <th>...</th>\n",
       "      <td>...</td>\n",
       "      <td>...</td>\n",
       "      <td>...</td>\n",
       "      <td>...</td>\n",
       "    </tr>\n",
       "    <tr>\n",
       "      <th>7402</th>\n",
       "      <td>2021-01-01</td>\n",
       "      <td>11:18:54</td>\n",
       "      <td>🚨  11,013,200 #USDT (11,002,558 USD) transferr...</td>\n",
       "      <td>11,002,558</td>\n",
       "    </tr>\n",
       "    <tr>\n",
       "      <th>7403</th>\n",
       "      <td>2021-01-01</td>\n",
       "      <td>10:38:33</td>\n",
       "      <td>🚨  10,033,000 #USDT (10,024,322 USD) transferr...</td>\n",
       "      <td>10,024,322</td>\n",
       "    </tr>\n",
       "    <tr>\n",
       "      <th>7404</th>\n",
       "      <td>2021-01-01</td>\n",
       "      <td>10:37:25</td>\n",
       "      <td>🚨  12,022,800 #USDT (12,013,635 USD) transferr...</td>\n",
       "      <td>12,013,635</td>\n",
       "    </tr>\n",
       "    <tr>\n",
       "      <th>7405</th>\n",
       "      <td>2021-01-01</td>\n",
       "      <td>10:34:18</td>\n",
       "      <td>🚨 🚨 🚨 🚨 🚨  50,000,000 #USDT (50,023,238 USD) t...</td>\n",
       "      <td>50,023,238</td>\n",
       "    </tr>\n",
       "    <tr>\n",
       "      <th>7406</th>\n",
       "      <td>2021-01-01</td>\n",
       "      <td>10:32:17</td>\n",
       "      <td>🚨 🚨 🚨 🚨  50,000,000 #USDT (49,700,566 USD) tra...</td>\n",
       "      <td>49,700,566</td>\n",
       "    </tr>\n",
       "  </tbody>\n",
       "</table>\n",
       "<p>7407 rows × 4 columns</p>\n",
       "</div>"
      ],
      "text/plain": [
       "            date      time                                              tweet  \\\n",
       "0     2021-12-30  23:24:22  🚨 🚨  20,000,000 #USDT (20,000,000 USD) transfe...   \n",
       "1     2021-12-30  23:21:26  🚨 🚨  29,999,975 #USDT (29,999,975 USD) transfe...   \n",
       "2     2021-12-30  23:17:39  🚨 🚨  29,999,975 #USDT (29,999,975 USD) transfe...   \n",
       "3     2021-12-30  23:16:11  🚨 🚨 🚨  29,999,998 #USDT (29,999,998 USD) trans...   \n",
       "4     2021-12-30  21:49:44  🚨 🚨 🚨 🚨 🚨 🚨  69,997,439 #USDT (69,997,439 USD)...   \n",
       "...          ...       ...                                                ...   \n",
       "7402  2021-01-01  11:18:54  🚨  11,013,200 #USDT (11,002,558 USD) transferr...   \n",
       "7403  2021-01-01  10:38:33  🚨  10,033,000 #USDT (10,024,322 USD) transferr...   \n",
       "7404  2021-01-01  10:37:25  🚨  12,022,800 #USDT (12,013,635 USD) transferr...   \n",
       "7405  2021-01-01  10:34:18  🚨 🚨 🚨 🚨 🚨  50,000,000 #USDT (50,023,238 USD) t...   \n",
       "7406  2021-01-01  10:32:17  🚨 🚨 🚨 🚨  50,000,000 #USDT (49,700,566 USD) tra...   \n",
       "\n",
       "     amountTransfer  \n",
       "0        20,000,000  \n",
       "1        29,999,975  \n",
       "2        29,999,975  \n",
       "3        29,999,998  \n",
       "4        69,997,439  \n",
       "...             ...  \n",
       "7402     11,002,558  \n",
       "7403     10,024,322  \n",
       "7404     12,013,635  \n",
       "7405     50,023,238  \n",
       "7406     49,700,566  \n",
       "\n",
       "[7407 rows x 4 columns]"
      ]
     },
     "execution_count": 7,
     "metadata": {},
     "output_type": "execute_result"
    }
   ],
   "source": [
    "data"
   ]
  },
  {
   "cell_type": "markdown",
   "id": "4ad5a816",
   "metadata": {},
   "source": [
    "# SentimentIntensityAnalyzer for getting sentiments"
   ]
  },
  {
   "cell_type": "markdown",
   "id": "991c94e5",
   "metadata": {
    "id": "d8d7a44a"
   },
   "source": [
    "### Loading dataset price data"
   ]
  },
  {
   "cell_type": "code",
   "execution_count": 8,
   "id": "ebf7ca5e",
   "metadata": {
    "id": "2ce5bf42"
   },
   "outputs": [],
   "source": [
    "api_key = '//' \n",
    "api_secret = '//'\n",
    "client = Client(api_key, api_secret)\n",
    "klines = client.get_historical_klines(\"ADAUSDT\", Client.KLINE_INTERVAL_4HOUR, \"2021-01-01\", \"2022-01-01\")\n",
    "priceData = pd.DataFrame(klines)\n",
    "priceData.columns = ['open_time','open', 'high', 'low', 'close', 'volume','close_time', 'qav','num_trades','taker_base_vol','taker_quote_vol', 'ignore']\n",
    "priceData.index = [dt.datetime.fromtimestamp(x/1000.0) for x in priceData.close_time]\n",
    "#priceData=priceData[['open', 'high', 'low', 'close']]\n",
    "priceData=priceData[['close']]\n",
    "priceData.head()\n",
    "priceData = priceData.iloc[:-1 , :]"
   ]
  },
  {
   "cell_type": "markdown",
   "id": "28e8343a",
   "metadata": {
    "id": "47f7d9eb"
   },
   "source": [
    "# Exploratory Data analysis"
   ]
  },
  {
   "cell_type": "markdown",
   "id": "679419ed",
   "metadata": {
    "id": "ea84d26f"
   },
   "source": [
    "# ------------------------------------------------------------------------------------------------------"
   ]
  },
  {
   "cell_type": "markdown",
   "id": "c7d8cf40",
   "metadata": {
    "id": "760697cb"
   },
   "source": [
    "### Five top records of data"
   ]
  },
  {
   "cell_type": "code",
   "execution_count": 9,
   "id": "e353bd87",
   "metadata": {
    "colab": {
     "base_uri": "https://localhost:8080/",
     "height": 238
    },
    "id": "3299c27a",
    "outputId": "48bc1b27-5eb0-4e89-fa76-cc158091d61e"
   },
   "outputs": [
    {
     "data": {
      "text/html": [
       "<div>\n",
       "<style scoped>\n",
       "    .dataframe tbody tr th:only-of-type {\n",
       "        vertical-align: middle;\n",
       "    }\n",
       "\n",
       "    .dataframe tbody tr th {\n",
       "        vertical-align: top;\n",
       "    }\n",
       "\n",
       "    .dataframe thead th {\n",
       "        text-align: right;\n",
       "    }\n",
       "</style>\n",
       "<table border=\"1\" class=\"dataframe\">\n",
       "  <thead>\n",
       "    <tr style=\"text-align: right;\">\n",
       "      <th></th>\n",
       "      <th>close</th>\n",
       "    </tr>\n",
       "  </thead>\n",
       "  <tbody>\n",
       "    <tr>\n",
       "      <th>2021-01-01 03:59:59.999</th>\n",
       "      <td>0.18292000</td>\n",
       "    </tr>\n",
       "    <tr>\n",
       "      <th>2021-01-01 07:59:59.999</th>\n",
       "      <td>0.17955000</td>\n",
       "    </tr>\n",
       "    <tr>\n",
       "      <th>2021-01-01 11:59:59.999</th>\n",
       "      <td>0.17950000</td>\n",
       "    </tr>\n",
       "    <tr>\n",
       "      <th>2021-01-01 15:59:59.999</th>\n",
       "      <td>0.18055000</td>\n",
       "    </tr>\n",
       "    <tr>\n",
       "      <th>2021-01-01 19:59:59.999</th>\n",
       "      <td>0.17432000</td>\n",
       "    </tr>\n",
       "  </tbody>\n",
       "</table>\n",
       "</div>"
      ],
      "text/plain": [
       "                              close\n",
       "2021-01-01 03:59:59.999  0.18292000\n",
       "2021-01-01 07:59:59.999  0.17955000\n",
       "2021-01-01 11:59:59.999  0.17950000\n",
       "2021-01-01 15:59:59.999  0.18055000\n",
       "2021-01-01 19:59:59.999  0.17432000"
      ]
     },
     "execution_count": 9,
     "metadata": {},
     "output_type": "execute_result"
    }
   ],
   "source": [
    "priceData.head() # showing the first 5 rows of data"
   ]
  },
  {
   "cell_type": "markdown",
   "id": "7fb9d1bc",
   "metadata": {
    "id": "cb60314a"
   },
   "source": [
    "### Five last records of data"
   ]
  },
  {
   "cell_type": "code",
   "execution_count": 10,
   "id": "ad8bc779",
   "metadata": {
    "colab": {
     "base_uri": "https://localhost:8080/",
     "height": 238
    },
    "id": "db188544",
    "outputId": "0e7c865f-4d3f-42c1-9382-782725fb5123"
   },
   "outputs": [
    {
     "data": {
      "text/html": [
       "<div>\n",
       "<style scoped>\n",
       "    .dataframe tbody tr th:only-of-type {\n",
       "        vertical-align: middle;\n",
       "    }\n",
       "\n",
       "    .dataframe tbody tr th {\n",
       "        vertical-align: top;\n",
       "    }\n",
       "\n",
       "    .dataframe thead th {\n",
       "        text-align: right;\n",
       "    }\n",
       "</style>\n",
       "<table border=\"1\" class=\"dataframe\">\n",
       "  <thead>\n",
       "    <tr style=\"text-align: right;\">\n",
       "      <th></th>\n",
       "      <th>close</th>\n",
       "    </tr>\n",
       "  </thead>\n",
       "  <tbody>\n",
       "    <tr>\n",
       "      <th>2021-12-31 07:59:59.999</th>\n",
       "      <td>1.32900000</td>\n",
       "    </tr>\n",
       "    <tr>\n",
       "      <th>2021-12-31 11:59:59.999</th>\n",
       "      <td>1.36100000</td>\n",
       "    </tr>\n",
       "    <tr>\n",
       "      <th>2021-12-31 15:59:59.999</th>\n",
       "      <td>1.35500000</td>\n",
       "    </tr>\n",
       "    <tr>\n",
       "      <th>2021-12-31 19:59:59.999</th>\n",
       "      <td>1.28600000</td>\n",
       "    </tr>\n",
       "    <tr>\n",
       "      <th>2021-12-31 23:59:59.999</th>\n",
       "      <td>1.30800000</td>\n",
       "    </tr>\n",
       "  </tbody>\n",
       "</table>\n",
       "</div>"
      ],
      "text/plain": [
       "                              close\n",
       "2021-12-31 07:59:59.999  1.32900000\n",
       "2021-12-31 11:59:59.999  1.36100000\n",
       "2021-12-31 15:59:59.999  1.35500000\n",
       "2021-12-31 19:59:59.999  1.28600000\n",
       "2021-12-31 23:59:59.999  1.30800000"
      ]
     },
     "execution_count": 10,
     "metadata": {},
     "output_type": "execute_result"
    }
   ],
   "source": [
    "priceData.tail() # showing the last 5 rows of data"
   ]
  },
  {
   "cell_type": "markdown",
   "id": "84fcd5f0",
   "metadata": {
    "id": "af65dd1a"
   },
   "source": [
    "### Coloumns/features in data"
   ]
  },
  {
   "cell_type": "code",
   "execution_count": 11,
   "id": "228065dd",
   "metadata": {
    "colab": {
     "base_uri": "https://localhost:8080/"
    },
    "id": "d413ea4f",
    "outputId": "ad260aca-74c8-47b1-f2e7-94f36e754ce1"
   },
   "outputs": [
    {
     "data": {
      "text/plain": [
       "Index(['close'], dtype='object')"
      ]
     },
     "execution_count": 11,
     "metadata": {},
     "output_type": "execute_result"
    }
   ],
   "source": [
    "priceData.columns #columns in data"
   ]
  },
  {
   "cell_type": "markdown",
   "id": "cca2ff5f",
   "metadata": {
    "id": "551b0675"
   },
   "source": [
    "### Length of data"
   ]
  },
  {
   "cell_type": "code",
   "execution_count": 12,
   "id": "a7051679",
   "metadata": {
    "colab": {
     "base_uri": "https://localhost:8080/"
    },
    "id": "6b2f088a",
    "outputId": "a995e1e7-db21-4440-a93d-c4be3a88ca68"
   },
   "outputs": [
    {
     "name": "stdout",
     "output_type": "stream",
     "text": [
      "lenght of data is 2190\n"
     ]
    }
   ],
   "source": [
    "print('lenght of data is', len(priceData)) #lenght of data"
   ]
  },
  {
   "cell_type": "markdown",
   "id": "38d929a2",
   "metadata": {
    "id": "d998dc9c"
   },
   "source": [
    "### Shape of data"
   ]
  },
  {
   "cell_type": "code",
   "execution_count": 13,
   "id": "7d60b401",
   "metadata": {
    "colab": {
     "base_uri": "https://localhost:8080/"
    },
    "id": "945c79cd",
    "outputId": "9e015bd4-37f7-48ea-a316-a8486c1d5f29"
   },
   "outputs": [
    {
     "data": {
      "text/plain": [
       "(7407, 4)"
      ]
     },
     "execution_count": 13,
     "metadata": {},
     "output_type": "execute_result"
    }
   ],
   "source": [
    "data.shape #shape of data"
   ]
  },
  {
   "cell_type": "markdown",
   "id": "57444a26",
   "metadata": {
    "id": "730e175f"
   },
   "source": [
    "### Data information"
   ]
  },
  {
   "cell_type": "code",
   "execution_count": 14,
   "id": "dc5a5dfa",
   "metadata": {
    "colab": {
     "base_uri": "https://localhost:8080/"
    },
    "id": "772fb030",
    "outputId": "edbced32-3d56-4ebb-b7e5-12c73071f6a6",
    "scrolled": false
   },
   "outputs": [
    {
     "name": "stdout",
     "output_type": "stream",
     "text": [
      "<class 'pandas.core.frame.DataFrame'>\n",
      "RangeIndex: 7407 entries, 0 to 7406\n",
      "Data columns (total 4 columns):\n",
      " #   Column          Non-Null Count  Dtype \n",
      "---  ------          --------------  ----- \n",
      " 0   date            7407 non-null   object\n",
      " 1   time            7407 non-null   object\n",
      " 2   tweet           7407 non-null   object\n",
      " 3   amountTransfer  7407 non-null   object\n",
      "dtypes: object(4)\n",
      "memory usage: 231.6+ KB\n"
     ]
    }
   ],
   "source": [
    "data.info() #information of data "
   ]
  },
  {
   "cell_type": "code",
   "execution_count": 15,
   "id": "9d1d58af",
   "metadata": {},
   "outputs": [
    {
     "data": {
      "text/html": [
       "<div>\n",
       "<style scoped>\n",
       "    .dataframe tbody tr th:only-of-type {\n",
       "        vertical-align: middle;\n",
       "    }\n",
       "\n",
       "    .dataframe tbody tr th {\n",
       "        vertical-align: top;\n",
       "    }\n",
       "\n",
       "    .dataframe thead th {\n",
       "        text-align: right;\n",
       "    }\n",
       "</style>\n",
       "<table border=\"1\" class=\"dataframe\">\n",
       "  <thead>\n",
       "    <tr style=\"text-align: right;\">\n",
       "      <th></th>\n",
       "      <th>date</th>\n",
       "      <th>time</th>\n",
       "      <th>tweet</th>\n",
       "      <th>amountTransfer</th>\n",
       "    </tr>\n",
       "  </thead>\n",
       "  <tbody>\n",
       "    <tr>\n",
       "      <th>0</th>\n",
       "      <td>2021-12-30</td>\n",
       "      <td>23:24:22</td>\n",
       "      <td>🚨 🚨  20,000,000 #USDT (20,000,000 USD) transfe...</td>\n",
       "      <td>20,000,000</td>\n",
       "    </tr>\n",
       "    <tr>\n",
       "      <th>1</th>\n",
       "      <td>2021-12-30</td>\n",
       "      <td>23:21:26</td>\n",
       "      <td>🚨 🚨  29,999,975 #USDT (29,999,975 USD) transfe...</td>\n",
       "      <td>29,999,975</td>\n",
       "    </tr>\n",
       "  </tbody>\n",
       "</table>\n",
       "</div>"
      ],
      "text/plain": [
       "         date      time                                              tweet  \\\n",
       "0  2021-12-30  23:24:22  🚨 🚨  20,000,000 #USDT (20,000,000 USD) transfe...   \n",
       "1  2021-12-30  23:21:26  🚨 🚨  29,999,975 #USDT (29,999,975 USD) transfe...   \n",
       "\n",
       "  amountTransfer  \n",
       "0     20,000,000  \n",
       "1     29,999,975  "
      ]
     },
     "execution_count": 15,
     "metadata": {},
     "output_type": "execute_result"
    }
   ],
   "source": [
    "data.head(10-8)"
   ]
  },
  {
   "cell_type": "code",
   "execution_count": 16,
   "id": "b7bb9866",
   "metadata": {},
   "outputs": [
    {
     "name": "stdout",
     "output_type": "stream",
     "text": [
      "<class 'pandas.core.frame.DataFrame'>\n",
      "RangeIndex: 7407 entries, 0 to 7406\n",
      "Data columns (total 4 columns):\n",
      " #   Column          Non-Null Count  Dtype \n",
      "---  ------          --------------  ----- \n",
      " 0   date            7407 non-null   object\n",
      " 1   time            7407 non-null   object\n",
      " 2   tweet           7407 non-null   object\n",
      " 3   amountTransfer  7407 non-null   object\n",
      "dtypes: object(4)\n",
      "memory usage: 231.6+ KB\n"
     ]
    }
   ],
   "source": [
    "data.info()"
   ]
  },
  {
   "cell_type": "code",
   "execution_count": 17,
   "id": "3727f011",
   "metadata": {},
   "outputs": [],
   "source": [
    "#data=data.head(1000)"
   ]
  },
  {
   "cell_type": "markdown",
   "id": "83282099",
   "metadata": {
    "id": "81e417ea"
   },
   "source": [
    "### Data types of all coloumns"
   ]
  },
  {
   "cell_type": "code",
   "execution_count": 18,
   "id": "b9255598",
   "metadata": {
    "colab": {
     "base_uri": "https://localhost:8080/"
    },
    "id": "848e9497",
    "outputId": "8bc13b78-9b69-4e6b-e643-69f247151c98"
   },
   "outputs": [
    {
     "data": {
      "text/plain": [
       "date              object\n",
       "time              object\n",
       "tweet             object\n",
       "amountTransfer    object\n",
       "dtype: object"
      ]
     },
     "execution_count": 18,
     "metadata": {},
     "output_type": "execute_result"
    }
   ],
   "source": [
    "data.dtypes #data types of data"
   ]
  },
  {
   "cell_type": "markdown",
   "id": "ab78b597",
   "metadata": {
    "id": "84b32d8e"
   },
   "source": [
    "### Checking missing Values"
   ]
  },
  {
   "cell_type": "code",
   "execution_count": 19,
   "id": "ff5afc42",
   "metadata": {
    "colab": {
     "base_uri": "https://localhost:8080/",
     "height": 81
    },
    "id": "78945cb8",
    "outputId": "1cf3a6f6-947f-4223-d34c-670f9179811c",
    "scrolled": true
   },
   "outputs": [
    {
     "data": {
      "text/html": [
       "<div>\n",
       "<style scoped>\n",
       "    .dataframe tbody tr th:only-of-type {\n",
       "        vertical-align: middle;\n",
       "    }\n",
       "\n",
       "    .dataframe tbody tr th {\n",
       "        vertical-align: top;\n",
       "    }\n",
       "\n",
       "    .dataframe thead th {\n",
       "        text-align: right;\n",
       "    }\n",
       "</style>\n",
       "<table border=\"1\" class=\"dataframe\">\n",
       "  <thead>\n",
       "    <tr style=\"text-align: right;\">\n",
       "      <th></th>\n",
       "      <th>date</th>\n",
       "      <th>time</th>\n",
       "      <th>tweet</th>\n",
       "      <th>amountTransfer</th>\n",
       "    </tr>\n",
       "  </thead>\n",
       "  <tbody>\n",
       "  </tbody>\n",
       "</table>\n",
       "</div>"
      ],
      "text/plain": [
       "Empty DataFrame\n",
       "Columns: [date, time, tweet, amountTransfer]\n",
       "Index: []"
      ]
     },
     "execution_count": 19,
     "metadata": {},
     "output_type": "execute_result"
    }
   ],
   "source": [
    "data[data.isnull().any(axis=1)].head() #checking the null values "
   ]
  },
  {
   "cell_type": "markdown",
   "id": "287e1c1b",
   "metadata": {
    "id": "9520a0d9"
   },
   "source": [
    "### Count of missing values"
   ]
  },
  {
   "cell_type": "code",
   "execution_count": 20,
   "id": "05eeab4a",
   "metadata": {
    "colab": {
     "base_uri": "https://localhost:8080/"
    },
    "id": "d66325ae",
    "outputId": "e8f6bcc8-2bdf-45ff-dcca-04ce8cd2b132",
    "scrolled": true
   },
   "outputs": [
    {
     "data": {
      "text/plain": [
       "0"
      ]
     },
     "execution_count": 20,
     "metadata": {},
     "output_type": "execute_result"
    }
   ],
   "source": [
    "np.sum(data.isnull().any(axis=1)) #checking the null values "
   ]
  },
  {
   "cell_type": "markdown",
   "id": "3d8645a3",
   "metadata": {
    "id": "43e6f9a4"
   },
   "source": [
    "### Is there any missing values?"
   ]
  },
  {
   "cell_type": "code",
   "execution_count": 21,
   "id": "d3d6702e",
   "metadata": {
    "colab": {
     "base_uri": "https://localhost:8080/"
    },
    "id": "9fdde10e",
    "outputId": "0159a14f-6452-4083-ec87-9fad323b8fdf"
   },
   "outputs": [
    {
     "data": {
      "text/plain": [
       "False"
      ]
     },
     "execution_count": 21,
     "metadata": {},
     "output_type": "execute_result"
    }
   ],
   "source": [
    "data.isnull().values.any() #checking the null values "
   ]
  },
  {
   "cell_type": "code",
   "execution_count": 22,
   "id": "ef1dcb1d",
   "metadata": {},
   "outputs": [
    {
     "data": {
      "text/html": [
       "<div>\n",
       "<style scoped>\n",
       "    .dataframe tbody tr th:only-of-type {\n",
       "        vertical-align: middle;\n",
       "    }\n",
       "\n",
       "    .dataframe tbody tr th {\n",
       "        vertical-align: top;\n",
       "    }\n",
       "\n",
       "    .dataframe thead th {\n",
       "        text-align: right;\n",
       "    }\n",
       "</style>\n",
       "<table border=\"1\" class=\"dataframe\">\n",
       "  <thead>\n",
       "    <tr style=\"text-align: right;\">\n",
       "      <th></th>\n",
       "      <th>date</th>\n",
       "      <th>time</th>\n",
       "      <th>tweet</th>\n",
       "      <th>amountTransfer</th>\n",
       "    </tr>\n",
       "  </thead>\n",
       "  <tbody>\n",
       "    <tr>\n",
       "      <th>9</th>\n",
       "      <td>2021-12-30</td>\n",
       "      <td>19:51:28</td>\n",
       "      <td>🚨 🚨 🚨 🚨 🚨 🚨  69,997,479 #USDT (69,997,479 USD)...</td>\n",
       "      <td>69,997,479</td>\n",
       "    </tr>\n",
       "    <tr>\n",
       "      <th>10</th>\n",
       "      <td>2021-12-30</td>\n",
       "      <td>19:27:23</td>\n",
       "      <td>🚨 🚨 🚨 🚨 🚨 🚨  69,997,479 #USDT (69,997,479 USD)...</td>\n",
       "      <td>69,997,479</td>\n",
       "    </tr>\n",
       "    <tr>\n",
       "      <th>11</th>\n",
       "      <td>2021-12-30</td>\n",
       "      <td>17:59:53</td>\n",
       "      <td>🚨  19,997,499 #USDT (19,997,499 USD) transferr...</td>\n",
       "      <td>19,997,499</td>\n",
       "    </tr>\n",
       "    <tr>\n",
       "      <th>12</th>\n",
       "      <td>2021-12-30</td>\n",
       "      <td>17:41:00</td>\n",
       "      <td>🚨  19,997,519 #USDT (19,997,519 USD) transferr...</td>\n",
       "      <td>19,997,519</td>\n",
       "    </tr>\n",
       "    <tr>\n",
       "      <th>13</th>\n",
       "      <td>2021-12-30</td>\n",
       "      <td>17:13:15</td>\n",
       "      <td>🚨 🚨  21,200,749 #USDT (21,200,749 USD) transfe...</td>\n",
       "      <td>21,200,749</td>\n",
       "    </tr>\n",
       "    <tr>\n",
       "      <th>14</th>\n",
       "      <td>2021-12-30</td>\n",
       "      <td>17:04:52</td>\n",
       "      <td>🚨  19,997,519 #USDT (19,997,519 USD) transferr...</td>\n",
       "      <td>19,997,519</td>\n",
       "    </tr>\n",
       "    <tr>\n",
       "      <th>15</th>\n",
       "      <td>2021-12-30</td>\n",
       "      <td>16:47:03</td>\n",
       "      <td>🚨  19,997,539 #USDT (19,997,539 USD) transferr...</td>\n",
       "      <td>19,997,539</td>\n",
       "    </tr>\n",
       "    <tr>\n",
       "      <th>16</th>\n",
       "      <td>2021-12-30</td>\n",
       "      <td>16:37:27</td>\n",
       "      <td>🚨 🚨 🚨 🚨 🚨 🚨 🚨 🚨  83,014,254 #USDT (83,014,254 ...</td>\n",
       "      <td>83,014,254</td>\n",
       "    </tr>\n",
       "    <tr>\n",
       "      <th>17</th>\n",
       "      <td>2021-12-30</td>\n",
       "      <td>16:24:35</td>\n",
       "      <td>🚨  19,997,539 #USDT (19,997,539 USD) transferr...</td>\n",
       "      <td>19,997,539</td>\n",
       "    </tr>\n",
       "    <tr>\n",
       "      <th>18</th>\n",
       "      <td>2021-12-30</td>\n",
       "      <td>16:24:35</td>\n",
       "      <td>🚨 🚨 🚨 🚨  49,999,976 #USDT (49,999,976 USD) tra...</td>\n",
       "      <td>49,999,976</td>\n",
       "    </tr>\n",
       "    <tr>\n",
       "      <th>19</th>\n",
       "      <td>2021-12-30</td>\n",
       "      <td>16:21:17</td>\n",
       "      <td>🚨 🚨 🚨 🚨  49,999,976 #USDT (49,999,976 USD) tra...</td>\n",
       "      <td>49,999,976</td>\n",
       "    </tr>\n",
       "    <tr>\n",
       "      <th>20</th>\n",
       "      <td>2021-12-30</td>\n",
       "      <td>16:00:30</td>\n",
       "      <td>🚨  19,997,559 #USDT (19,997,559 USD) transferr...</td>\n",
       "      <td>19,997,559</td>\n",
       "    </tr>\n",
       "    <tr>\n",
       "      <th>21</th>\n",
       "      <td>2021-12-30</td>\n",
       "      <td>15:34:14</td>\n",
       "      <td>🚨  19,997,559 #USDT (19,997,559 USD) transferr...</td>\n",
       "      <td>19,997,559</td>\n",
       "    </tr>\n",
       "    <tr>\n",
       "      <th>22</th>\n",
       "      <td>2021-12-30</td>\n",
       "      <td>15:21:41</td>\n",
       "      <td>🚨 🚨  20,000,000 #USDT (20,000,000 USD) transfe...</td>\n",
       "      <td>20,000,000</td>\n",
       "    </tr>\n",
       "    <tr>\n",
       "      <th>23</th>\n",
       "      <td>2021-12-30</td>\n",
       "      <td>15:19:58</td>\n",
       "      <td>🚨  19,997,579 #USDT (19,997,579 USD) transferr...</td>\n",
       "      <td>19,997,579</td>\n",
       "    </tr>\n",
       "    <tr>\n",
       "      <th>24</th>\n",
       "      <td>2021-12-30</td>\n",
       "      <td>15:10:10</td>\n",
       "      <td>🚨 🚨  28,051,011 #USDT (28,051,011 USD) transfe...</td>\n",
       "      <td>28,051,011</td>\n",
       "    </tr>\n",
       "  </tbody>\n",
       "</table>\n",
       "</div>"
      ],
      "text/plain": [
       "          date      time                                              tweet  \\\n",
       "9   2021-12-30  19:51:28  🚨 🚨 🚨 🚨 🚨 🚨  69,997,479 #USDT (69,997,479 USD)...   \n",
       "10  2021-12-30  19:27:23  🚨 🚨 🚨 🚨 🚨 🚨  69,997,479 #USDT (69,997,479 USD)...   \n",
       "11  2021-12-30  17:59:53  🚨  19,997,499 #USDT (19,997,499 USD) transferr...   \n",
       "12  2021-12-30  17:41:00  🚨  19,997,519 #USDT (19,997,519 USD) transferr...   \n",
       "13  2021-12-30  17:13:15  🚨 🚨  21,200,749 #USDT (21,200,749 USD) transfe...   \n",
       "14  2021-12-30  17:04:52  🚨  19,997,519 #USDT (19,997,519 USD) transferr...   \n",
       "15  2021-12-30  16:47:03  🚨  19,997,539 #USDT (19,997,539 USD) transferr...   \n",
       "16  2021-12-30  16:37:27  🚨 🚨 🚨 🚨 🚨 🚨 🚨 🚨  83,014,254 #USDT (83,014,254 ...   \n",
       "17  2021-12-30  16:24:35  🚨  19,997,539 #USDT (19,997,539 USD) transferr...   \n",
       "18  2021-12-30  16:24:35  🚨 🚨 🚨 🚨  49,999,976 #USDT (49,999,976 USD) tra...   \n",
       "19  2021-12-30  16:21:17  🚨 🚨 🚨 🚨  49,999,976 #USDT (49,999,976 USD) tra...   \n",
       "20  2021-12-30  16:00:30  🚨  19,997,559 #USDT (19,997,559 USD) transferr...   \n",
       "21  2021-12-30  15:34:14  🚨  19,997,559 #USDT (19,997,559 USD) transferr...   \n",
       "22  2021-12-30  15:21:41  🚨 🚨  20,000,000 #USDT (20,000,000 USD) transfe...   \n",
       "23  2021-12-30  15:19:58  🚨  19,997,579 #USDT (19,997,579 USD) transferr...   \n",
       "24  2021-12-30  15:10:10  🚨 🚨  28,051,011 #USDT (28,051,011 USD) transfe...   \n",
       "\n",
       "   amountTransfer  \n",
       "9      69,997,479  \n",
       "10     69,997,479  \n",
       "11     19,997,499  \n",
       "12     19,997,519  \n",
       "13     21,200,749  \n",
       "14     19,997,519  \n",
       "15     19,997,539  \n",
       "16     83,014,254  \n",
       "17     19,997,539  \n",
       "18     49,999,976  \n",
       "19     49,999,976  \n",
       "20     19,997,559  \n",
       "21     19,997,559  \n",
       "22     20,000,000  \n",
       "23     19,997,579  \n",
       "24     28,051,011  "
      ]
     },
     "execution_count": 22,
     "metadata": {},
     "output_type": "execute_result"
    }
   ],
   "source": [
    "data.iloc[9:25]"
   ]
  },
  {
   "cell_type": "markdown",
   "id": "0c166861",
   "metadata": {
    "id": "f83f7e20"
   },
   "source": [
    "### Counts of missing values in each column"
   ]
  },
  {
   "cell_type": "code",
   "execution_count": 23,
   "id": "9d0dd8bb",
   "metadata": {
    "colab": {
     "base_uri": "https://localhost:8080/"
    },
    "id": "9b4aeb06",
    "outputId": "82bbb771-b717-460e-d9e8-f52eb130e92b",
    "scrolled": true
   },
   "outputs": [
    {
     "data": {
      "text/plain": [
       "date              0\n",
       "time              0\n",
       "tweet             0\n",
       "amountTransfer    0\n",
       "dtype: int64"
      ]
     },
     "execution_count": 23,
     "metadata": {},
     "output_type": "execute_result"
    }
   ],
   "source": [
    "data.isnull().sum() #checking the null values columns wise "
   ]
  },
  {
   "cell_type": "code",
   "execution_count": 24,
   "id": "8de2757e",
   "metadata": {
    "id": "e77903df"
   },
   "outputs": [],
   "source": [
    "#priceData['open']=priceData['open'].astype(float)\n",
    "#priceData['high']=priceData['high'].astype(float)\n",
    "#priceData['low']=priceData['low'].astype(float)\n",
    "priceData['close']=priceData['close'].astype(float)"
   ]
  },
  {
   "cell_type": "markdown",
   "id": "839fb8a3",
   "metadata": {
    "id": "33c07bfe"
   },
   "source": [
    "### Spliting date into day, month and year"
   ]
  },
  {
   "cell_type": "code",
   "execution_count": 25,
   "id": "c6438a07",
   "metadata": {
    "id": "2fb1622f"
   },
   "outputs": [],
   "source": [
    "priceData['date'] = priceData.index # taking dates in date column \n",
    "priceData.sort_index(ascending=True, inplace=True)\n",
    "priceData['Month'] = priceData['date'].dt.month # extracting months from data\n",
    "priceData['Day'] = priceData['date'].dt.day # extracting day from data\n",
    "priceData['Year'] = priceData['date'].dt.year # extracting year from data\n",
    "priceData['Hour'] = priceData['date'].dt.hour # extracting year from data\n",
    "priceData['Minutes'] = priceData['date'].dt.minute # extracting year from data"
   ]
  },
  {
   "cell_type": "markdown",
   "id": "b2a25f92",
   "metadata": {
    "id": "0b6205cc"
   },
   "source": [
    "### Close price with respect to year "
   ]
  },
  {
   "cell_type": "code",
   "execution_count": 26,
   "id": "a6868a91",
   "metadata": {
    "colab": {
     "base_uri": "https://localhost:8080/",
     "height": 295
    },
    "id": "c0660123",
    "outputId": "ae3e7a71-0761-4072-b9c1-011ce7a3bb8e"
   },
   "outputs": [
    {
     "data": {
      "image/png": "[encoded data removed]",
      "text/plain": [
       "<Figure size 432x288 with 1 Axes>"
      ]
     },
     "metadata": {
      "needs_background": "light"
     },
     "output_type": "display_data"
    }
   ],
   "source": [
    "sns.barplot(x='Year', y='close', data=priceData).set(title='Year vs Close') # plotting the comparison of year and close price\n",
    "plt.show() #showing the plot "
   ]
  },
  {
   "cell_type": "markdown",
   "id": "4a7fe376",
   "metadata": {
    "id": "52333f25"
   },
   "source": [
    "### Close price with respect to Month "
   ]
  },
  {
   "cell_type": "code",
   "execution_count": 27,
   "id": "13617697",
   "metadata": {
    "colab": {
     "base_uri": "https://localhost:8080/",
     "height": 295
    },
    "id": "680be666",
    "outputId": "fe86c1d7-a4bc-425b-b146-ab5eef0309f8"
   },
   "outputs": [
    {
     "data": {
      "image/png": "[encoded data removed]",
      "text/plain": [
       "<Figure size 432x288 with 1 Axes>"
      ]
     },
     "metadata": {
      "needs_background": "light"
     },
     "output_type": "display_data"
    }
   ],
   "source": [
    "sns.barplot(x='Month', y='close', data=priceData).set(title='Year vs Close')  # plotting the comparison of month and close price\n",
    "plt.show() #showing the plot "
   ]
  },
  {
   "cell_type": "markdown",
   "id": "4bfdcc27",
   "metadata": {
    "id": "0dbc04db"
   },
   "source": [
    "# ------------------------------------------------------------------------------------------------------"
   ]
  },
  {
   "cell_type": "markdown",
   "id": "6a5a83cb",
   "metadata": {},
   "source": [
    "# Merging whale alerts with price data"
   ]
  },
  {
   "cell_type": "markdown",
   "id": "365a567e",
   "metadata": {
    "id": "0dbc04db"
   },
   "source": [
    "# ------------------------------------------------------------------------------------------------------"
   ]
  },
  {
   "cell_type": "code",
   "execution_count": 28,
   "id": "d578ed09",
   "metadata": {},
   "outputs": [
    {
     "data": {
      "text/html": [
       "<div>\n",
       "<style scoped>\n",
       "    .dataframe tbody tr th:only-of-type {\n",
       "        vertical-align: middle;\n",
       "    }\n",
       "\n",
       "    .dataframe tbody tr th {\n",
       "        vertical-align: top;\n",
       "    }\n",
       "\n",
       "    .dataframe thead th {\n",
       "        text-align: right;\n",
       "    }\n",
       "</style>\n",
       "<table border=\"1\" class=\"dataframe\">\n",
       "  <thead>\n",
       "    <tr style=\"text-align: right;\">\n",
       "      <th></th>\n",
       "      <th>date</th>\n",
       "      <th>time</th>\n",
       "      <th>tweet</th>\n",
       "      <th>amountTransfer</th>\n",
       "    </tr>\n",
       "  </thead>\n",
       "  <tbody>\n",
       "    <tr>\n",
       "      <th>0</th>\n",
       "      <td>2021-12-30</td>\n",
       "      <td>23:24:22</td>\n",
       "      <td>🚨 🚨  20,000,000 #USDT (20,000,000 USD) transfe...</td>\n",
       "      <td>20,000,000</td>\n",
       "    </tr>\n",
       "    <tr>\n",
       "      <th>1</th>\n",
       "      <td>2021-12-30</td>\n",
       "      <td>23:21:26</td>\n",
       "      <td>🚨 🚨  29,999,975 #USDT (29,999,975 USD) transfe...</td>\n",
       "      <td>29,999,975</td>\n",
       "    </tr>\n",
       "    <tr>\n",
       "      <th>2</th>\n",
       "      <td>2021-12-30</td>\n",
       "      <td>23:17:39</td>\n",
       "      <td>🚨 🚨  29,999,975 #USDT (29,999,975 USD) transfe...</td>\n",
       "      <td>29,999,975</td>\n",
       "    </tr>\n",
       "    <tr>\n",
       "      <th>3</th>\n",
       "      <td>2021-12-30</td>\n",
       "      <td>23:16:11</td>\n",
       "      <td>🚨 🚨 🚨  29,999,998 #USDT (29,999,998 USD) trans...</td>\n",
       "      <td>29,999,998</td>\n",
       "    </tr>\n",
       "    <tr>\n",
       "      <th>4</th>\n",
       "      <td>2021-12-30</td>\n",
       "      <td>21:49:44</td>\n",
       "      <td>🚨 🚨 🚨 🚨 🚨 🚨  69,997,439 #USDT (69,997,439 USD)...</td>\n",
       "      <td>69,997,439</td>\n",
       "    </tr>\n",
       "  </tbody>\n",
       "</table>\n",
       "</div>"
      ],
      "text/plain": [
       "         date      time                                              tweet  \\\n",
       "0  2021-12-30  23:24:22  🚨 🚨  20,000,000 #USDT (20,000,000 USD) transfe...   \n",
       "1  2021-12-30  23:21:26  🚨 🚨  29,999,975 #USDT (29,999,975 USD) transfe...   \n",
       "2  2021-12-30  23:17:39  🚨 🚨  29,999,975 #USDT (29,999,975 USD) transfe...   \n",
       "3  2021-12-30  23:16:11  🚨 🚨 🚨  29,999,998 #USDT (29,999,998 USD) trans...   \n",
       "4  2021-12-30  21:49:44  🚨 🚨 🚨 🚨 🚨 🚨  69,997,439 #USDT (69,997,439 USD)...   \n",
       "\n",
       "  amountTransfer  \n",
       "0     20,000,000  \n",
       "1     29,999,975  \n",
       "2     29,999,975  \n",
       "3     29,999,998  \n",
       "4     69,997,439  "
      ]
     },
     "execution_count": 28,
     "metadata": {},
     "output_type": "execute_result"
    }
   ],
   "source": [
    "data.head()"
   ]
  },
  {
   "cell_type": "code",
   "execution_count": 29,
   "id": "5666ce62",
   "metadata": {},
   "outputs": [
    {
     "data": {
      "text/html": [
       "<div>\n",
       "<style scoped>\n",
       "    .dataframe tbody tr th:only-of-type {\n",
       "        vertical-align: middle;\n",
       "    }\n",
       "\n",
       "    .dataframe tbody tr th {\n",
       "        vertical-align: top;\n",
       "    }\n",
       "\n",
       "    .dataframe thead th {\n",
       "        text-align: right;\n",
       "    }\n",
       "</style>\n",
       "<table border=\"1\" class=\"dataframe\">\n",
       "  <thead>\n",
       "    <tr style=\"text-align: right;\">\n",
       "      <th></th>\n",
       "      <th>close</th>\n",
       "      <th>date</th>\n",
       "      <th>Month</th>\n",
       "      <th>Day</th>\n",
       "      <th>Year</th>\n",
       "      <th>Hour</th>\n",
       "      <th>Minutes</th>\n",
       "    </tr>\n",
       "  </thead>\n",
       "  <tbody>\n",
       "    <tr>\n",
       "      <th>2021-01-01 03:59:59.999</th>\n",
       "      <td>0.18292</td>\n",
       "      <td>2021-01-01 03:59:59.999</td>\n",
       "      <td>1</td>\n",
       "      <td>1</td>\n",
       "      <td>2021</td>\n",
       "      <td>3</td>\n",
       "      <td>59</td>\n",
       "    </tr>\n",
       "    <tr>\n",
       "      <th>2021-01-01 07:59:59.999</th>\n",
       "      <td>0.17955</td>\n",
       "      <td>2021-01-01 07:59:59.999</td>\n",
       "      <td>1</td>\n",
       "      <td>1</td>\n",
       "      <td>2021</td>\n",
       "      <td>7</td>\n",
       "      <td>59</td>\n",
       "    </tr>\n",
       "    <tr>\n",
       "      <th>2021-01-01 11:59:59.999</th>\n",
       "      <td>0.17950</td>\n",
       "      <td>2021-01-01 11:59:59.999</td>\n",
       "      <td>1</td>\n",
       "      <td>1</td>\n",
       "      <td>2021</td>\n",
       "      <td>11</td>\n",
       "      <td>59</td>\n",
       "    </tr>\n",
       "    <tr>\n",
       "      <th>2021-01-01 15:59:59.999</th>\n",
       "      <td>0.18055</td>\n",
       "      <td>2021-01-01 15:59:59.999</td>\n",
       "      <td>1</td>\n",
       "      <td>1</td>\n",
       "      <td>2021</td>\n",
       "      <td>15</td>\n",
       "      <td>59</td>\n",
       "    </tr>\n",
       "    <tr>\n",
       "      <th>2021-01-01 19:59:59.999</th>\n",
       "      <td>0.17432</td>\n",
       "      <td>2021-01-01 19:59:59.999</td>\n",
       "      <td>1</td>\n",
       "      <td>1</td>\n",
       "      <td>2021</td>\n",
       "      <td>19</td>\n",
       "      <td>59</td>\n",
       "    </tr>\n",
       "    <tr>\n",
       "      <th>2021-01-01 23:59:59.999</th>\n",
       "      <td>0.17509</td>\n",
       "      <td>2021-01-01 23:59:59.999</td>\n",
       "      <td>1</td>\n",
       "      <td>1</td>\n",
       "      <td>2021</td>\n",
       "      <td>23</td>\n",
       "      <td>59</td>\n",
       "    </tr>\n",
       "    <tr>\n",
       "      <th>2021-01-02 03:59:59.999</th>\n",
       "      <td>0.17501</td>\n",
       "      <td>2021-01-02 03:59:59.999</td>\n",
       "      <td>1</td>\n",
       "      <td>2</td>\n",
       "      <td>2021</td>\n",
       "      <td>3</td>\n",
       "      <td>59</td>\n",
       "    </tr>\n",
       "    <tr>\n",
       "      <th>2021-01-02 07:59:59.999</th>\n",
       "      <td>0.17242</td>\n",
       "      <td>2021-01-02 07:59:59.999</td>\n",
       "      <td>1</td>\n",
       "      <td>2</td>\n",
       "      <td>2021</td>\n",
       "      <td>7</td>\n",
       "      <td>59</td>\n",
       "    </tr>\n",
       "    <tr>\n",
       "      <th>2021-01-02 11:59:59.999</th>\n",
       "      <td>0.17204</td>\n",
       "      <td>2021-01-02 11:59:59.999</td>\n",
       "      <td>1</td>\n",
       "      <td>2</td>\n",
       "      <td>2021</td>\n",
       "      <td>11</td>\n",
       "      <td>59</td>\n",
       "    </tr>\n",
       "    <tr>\n",
       "      <th>2021-01-02 15:59:59.999</th>\n",
       "      <td>0.17886</td>\n",
       "      <td>2021-01-02 15:59:59.999</td>\n",
       "      <td>1</td>\n",
       "      <td>2</td>\n",
       "      <td>2021</td>\n",
       "      <td>15</td>\n",
       "      <td>59</td>\n",
       "    </tr>\n",
       "  </tbody>\n",
       "</table>\n",
       "</div>"
      ],
      "text/plain": [
       "                           close                    date  Month  Day  Year  \\\n",
       "2021-01-01 03:59:59.999  0.18292 2021-01-01 03:59:59.999      1    1  2021   \n",
       "2021-01-01 07:59:59.999  0.17955 2021-01-01 07:59:59.999      1    1  2021   \n",
       "2021-01-01 11:59:59.999  0.17950 2021-01-01 11:59:59.999      1    1  2021   \n",
       "2021-01-01 15:59:59.999  0.18055 2021-01-01 15:59:59.999      1    1  2021   \n",
       "2021-01-01 19:59:59.999  0.17432 2021-01-01 19:59:59.999      1    1  2021   \n",
       "2021-01-01 23:59:59.999  0.17509 2021-01-01 23:59:59.999      1    1  2021   \n",
       "2021-01-02 03:59:59.999  0.17501 2021-01-02 03:59:59.999      1    2  2021   \n",
       "2021-01-02 07:59:59.999  0.17242 2021-01-02 07:59:59.999      1    2  2021   \n",
       "2021-01-02 11:59:59.999  0.17204 2021-01-02 11:59:59.999      1    2  2021   \n",
       "2021-01-02 15:59:59.999  0.17886 2021-01-02 15:59:59.999      1    2  2021   \n",
       "\n",
       "                         Hour  Minutes  \n",
       "2021-01-01 03:59:59.999     3       59  \n",
       "2021-01-01 07:59:59.999     7       59  \n",
       "2021-01-01 11:59:59.999    11       59  \n",
       "2021-01-01 15:59:59.999    15       59  \n",
       "2021-01-01 19:59:59.999    19       59  \n",
       "2021-01-01 23:59:59.999    23       59  \n",
       "2021-01-02 03:59:59.999     3       59  \n",
       "2021-01-02 07:59:59.999     7       59  \n",
       "2021-01-02 11:59:59.999    11       59  \n",
       "2021-01-02 15:59:59.999    15       59  "
      ]
     },
     "execution_count": 29,
     "metadata": {},
     "output_type": "execute_result"
    }
   ],
   "source": [
    "priceData.head(10)"
   ]
  },
  {
   "cell_type": "code",
   "execution_count": 30,
   "id": "75a65293",
   "metadata": {},
   "outputs": [],
   "source": [
    "priceData['whaleCount'] = 0"
   ]
  },
  {
   "cell_type": "code",
   "execution_count": 31,
   "id": "8a155cda",
   "metadata": {},
   "outputs": [],
   "source": [
    "for i, row in enumerate(data.itertuples(), 1):\n",
    "    if row.time >= \"00:00:00\" and row.time < \"04:00:00\":\n",
    "        if int(row.amountTransfer.replace(\",\",\"\")) > 50000000:\n",
    "            priceData.loc[priceData['date'] == (row.date + \" \" + \"03:59:59\" + \".999\"), 'whaleCount'] += 2\n",
    "        else:\n",
    "            priceData.loc[priceData['date'] == (row.date + \" \" + \"03:59:59\" + \".999\"), 'whaleCount'] += 1\n",
    "    elif row.time >= \"04:00:00\" and row.time < \"08:00:00\":\n",
    "        if int(row.amountTransfer.replace(\",\",\"\")) > 50000000:\n",
    "            priceData.loc[priceData['date'] == (row.date + \" \" + \"07:59:59\" + \".999\"), 'whaleCount'] += 2\n",
    "        else:\n",
    "            priceData.loc[priceData['date'] == (row.date + \" \" + \"07:59:59\" + \".999\"), 'whaleCount'] += 1\n",
    "    elif row.time >= \"08:00:00\" and row.time < \"12:00:00\":\n",
    "        if int(row.amountTransfer.replace(\",\",\"\")) > 50000000:\n",
    "            priceData.loc[priceData['date'] == (row.date + \" \" + \"11:59:59\" + \".999\"), 'whaleCount'] += 2\n",
    "        else:\n",
    "            priceData.loc[priceData['date'] == (row.date + \" \" + \"11:59:59\" + \".999\"), 'whaleCount'] += 1\n",
    "    elif row.time >= \"12:00:00\" and row.time < \"16:00:00\":\n",
    "        if int(row.amountTransfer.replace(\",\",\"\")) > 50000000:\n",
    "            priceData.loc[priceData['date'] == (row.date + \" \" + \"15:59:59\" + \".999\"), 'whaleCount'] += 2\n",
    "        else:\n",
    "            priceData.loc[priceData['date'] == (row.date + \" \" + \"15:59:59\" + \".999\"), 'whaleCount'] += 1\n",
    "    elif row.time >= \"16:00:00\" and row.time < \"20:00:00\":\n",
    "        if int(row.amountTransfer.replace(\",\",\"\")) > 50000000:\n",
    "            priceData.loc[priceData['date'] == (row.date + \" \" + \"19:59:59\" + \".999\"), 'whaleCount'] += 2\n",
    "        else:\n",
    "            priceData.loc[priceData['date'] == (row.date + \" \" + \"19:59:59\" + \".999\"), 'whaleCount'] += 1\n",
    "    else:\n",
    "        if int(row.amountTransfer.replace(\",\",\"\")) > 50000000:\n",
    "            priceData.loc[priceData['date'] == (row.date + \" \" + \"23:59:59\" + \".999\"), 'whaleCount'] += 2\n",
    "        else:\n",
    "            priceData.loc[priceData['date'] == (row.date + \" \" + \"23:59:59\" + \".999\"), 'whaleCount'] += 1"
   ]
  },
  {
   "cell_type": "code",
   "execution_count": 32,
   "id": "c2f74af6",
   "metadata": {},
   "outputs": [
    {
     "data": {
      "text/html": [
       "<div>\n",
       "<style scoped>\n",
       "    .dataframe tbody tr th:only-of-type {\n",
       "        vertical-align: middle;\n",
       "    }\n",
       "\n",
       "    .dataframe tbody tr th {\n",
       "        vertical-align: top;\n",
       "    }\n",
       "\n",
       "    .dataframe thead th {\n",
       "        text-align: right;\n",
       "    }\n",
       "</style>\n",
       "<table border=\"1\" class=\"dataframe\">\n",
       "  <thead>\n",
       "    <tr style=\"text-align: right;\">\n",
       "      <th></th>\n",
       "      <th>close</th>\n",
       "      <th>date</th>\n",
       "      <th>Month</th>\n",
       "      <th>Day</th>\n",
       "      <th>Year</th>\n",
       "      <th>Hour</th>\n",
       "      <th>Minutes</th>\n",
       "      <th>whaleCount</th>\n",
       "    </tr>\n",
       "  </thead>\n",
       "  <tbody>\n",
       "    <tr>\n",
       "      <th>2021-01-01 11:59:59.999</th>\n",
       "      <td>0.17950</td>\n",
       "      <td>2021-01-01 11:59:59.999</td>\n",
       "      <td>1</td>\n",
       "      <td>1</td>\n",
       "      <td>2021</td>\n",
       "      <td>11</td>\n",
       "      <td>59</td>\n",
       "      <td>12</td>\n",
       "    </tr>\n",
       "    <tr>\n",
       "      <th>2021-01-01 15:59:59.999</th>\n",
       "      <td>0.18055</td>\n",
       "      <td>2021-01-01 15:59:59.999</td>\n",
       "      <td>1</td>\n",
       "      <td>1</td>\n",
       "      <td>2021</td>\n",
       "      <td>15</td>\n",
       "      <td>59</td>\n",
       "      <td>8</td>\n",
       "    </tr>\n",
       "    <tr>\n",
       "      <th>2021-01-01 23:59:59.999</th>\n",
       "      <td>0.17509</td>\n",
       "      <td>2021-01-01 23:59:59.999</td>\n",
       "      <td>1</td>\n",
       "      <td>1</td>\n",
       "      <td>2021</td>\n",
       "      <td>23</td>\n",
       "      <td>59</td>\n",
       "      <td>2</td>\n",
       "    </tr>\n",
       "    <tr>\n",
       "      <th>2021-01-02 11:59:59.999</th>\n",
       "      <td>0.17204</td>\n",
       "      <td>2021-01-02 11:59:59.999</td>\n",
       "      <td>1</td>\n",
       "      <td>2</td>\n",
       "      <td>2021</td>\n",
       "      <td>11</td>\n",
       "      <td>59</td>\n",
       "      <td>2</td>\n",
       "    </tr>\n",
       "    <tr>\n",
       "      <th>2021-01-02 15:59:59.999</th>\n",
       "      <td>0.17886</td>\n",
       "      <td>2021-01-02 15:59:59.999</td>\n",
       "      <td>1</td>\n",
       "      <td>2</td>\n",
       "      <td>2021</td>\n",
       "      <td>15</td>\n",
       "      <td>59</td>\n",
       "      <td>1</td>\n",
       "    </tr>\n",
       "    <tr>\n",
       "      <th>...</th>\n",
       "      <td>...</td>\n",
       "      <td>...</td>\n",
       "      <td>...</td>\n",
       "      <td>...</td>\n",
       "      <td>...</td>\n",
       "      <td>...</td>\n",
       "      <td>...</td>\n",
       "      <td>...</td>\n",
       "    </tr>\n",
       "    <tr>\n",
       "      <th>2021-12-29 19:59:59.999</th>\n",
       "      <td>1.36200</td>\n",
       "      <td>2021-12-29 19:59:59.999</td>\n",
       "      <td>12</td>\n",
       "      <td>29</td>\n",
       "      <td>2021</td>\n",
       "      <td>19</td>\n",
       "      <td>59</td>\n",
       "      <td>7</td>\n",
       "    </tr>\n",
       "    <tr>\n",
       "      <th>2021-12-30 11:59:59.999</th>\n",
       "      <td>1.36100</td>\n",
       "      <td>2021-12-30 11:59:59.999</td>\n",
       "      <td>12</td>\n",
       "      <td>30</td>\n",
       "      <td>2021</td>\n",
       "      <td>11</td>\n",
       "      <td>59</td>\n",
       "      <td>7</td>\n",
       "    </tr>\n",
       "    <tr>\n",
       "      <th>2021-12-30 15:59:59.999</th>\n",
       "      <td>1.35100</td>\n",
       "      <td>2021-12-30 15:59:59.999</td>\n",
       "      <td>12</td>\n",
       "      <td>30</td>\n",
       "      <td>2021</td>\n",
       "      <td>15</td>\n",
       "      <td>59</td>\n",
       "      <td>19</td>\n",
       "    </tr>\n",
       "    <tr>\n",
       "      <th>2021-12-30 19:59:59.999</th>\n",
       "      <td>1.35800</td>\n",
       "      <td>2021-12-30 19:59:59.999</td>\n",
       "      <td>12</td>\n",
       "      <td>30</td>\n",
       "      <td>2021</td>\n",
       "      <td>19</td>\n",
       "      <td>59</td>\n",
       "      <td>15</td>\n",
       "    </tr>\n",
       "    <tr>\n",
       "      <th>2021-12-30 23:59:59.999</th>\n",
       "      <td>1.35900</td>\n",
       "      <td>2021-12-30 23:59:59.999</td>\n",
       "      <td>12</td>\n",
       "      <td>30</td>\n",
       "      <td>2021</td>\n",
       "      <td>23</td>\n",
       "      <td>59</td>\n",
       "      <td>14</td>\n",
       "    </tr>\n",
       "  </tbody>\n",
       "</table>\n",
       "<p>761 rows × 8 columns</p>\n",
       "</div>"
      ],
      "text/plain": [
       "                           close                    date  Month  Day  Year  \\\n",
       "2021-01-01 11:59:59.999  0.17950 2021-01-01 11:59:59.999      1    1  2021   \n",
       "2021-01-01 15:59:59.999  0.18055 2021-01-01 15:59:59.999      1    1  2021   \n",
       "2021-01-01 23:59:59.999  0.17509 2021-01-01 23:59:59.999      1    1  2021   \n",
       "2021-01-02 11:59:59.999  0.17204 2021-01-02 11:59:59.999      1    2  2021   \n",
       "2021-01-02 15:59:59.999  0.17886 2021-01-02 15:59:59.999      1    2  2021   \n",
       "...                          ...                     ...    ...  ...   ...   \n",
       "2021-12-29 19:59:59.999  1.36200 2021-12-29 19:59:59.999     12   29  2021   \n",
       "2021-12-30 11:59:59.999  1.36100 2021-12-30 11:59:59.999     12   30  2021   \n",
       "2021-12-30 15:59:59.999  1.35100 2021-12-30 15:59:59.999     12   30  2021   \n",
       "2021-12-30 19:59:59.999  1.35800 2021-12-30 19:59:59.999     12   30  2021   \n",
       "2021-12-30 23:59:59.999  1.35900 2021-12-30 23:59:59.999     12   30  2021   \n",
       "\n",
       "                         Hour  Minutes  whaleCount  \n",
       "2021-01-01 11:59:59.999    11       59          12  \n",
       "2021-01-01 15:59:59.999    15       59           8  \n",
       "2021-01-01 23:59:59.999    23       59           2  \n",
       "2021-01-02 11:59:59.999    11       59           2  \n",
       "2021-01-02 15:59:59.999    15       59           1  \n",
       "...                       ...      ...         ...  \n",
       "2021-12-29 19:59:59.999    19       59           7  \n",
       "2021-12-30 11:59:59.999    11       59           7  \n",
       "2021-12-30 15:59:59.999    15       59          19  \n",
       "2021-12-30 19:59:59.999    19       59          15  \n",
       "2021-12-30 23:59:59.999    23       59          14  \n",
       "\n",
       "[761 rows x 8 columns]"
      ]
     },
     "execution_count": 32,
     "metadata": {},
     "output_type": "execute_result"
    }
   ],
   "source": [
    "priceData.loc[priceData['whaleCount'] > 0]"
   ]
  },
  {
   "cell_type": "markdown",
   "id": "fcbd287d",
   "metadata": {
    "id": "0dbc04db"
   },
   "source": [
    "# ------------------------------------------------------------------------------------------------------"
   ]
  },
  {
   "cell_type": "markdown",
   "id": "c862535d",
   "metadata": {
    "id": "564d00c7"
   },
   "source": [
    "# Data Visualization"
   ]
  },
  {
   "cell_type": "markdown",
   "id": "eea76947",
   "metadata": {
    "id": "4902bc8d"
   },
   "source": [
    "# ------------------------------------------------------------------------------------------------------"
   ]
  },
  {
   "cell_type": "markdown",
   "id": "928ec819",
   "metadata": {
    "id": "149b8f12"
   },
   "source": [
    "### CLOSE price values plot"
   ]
  },
  {
   "cell_type": "code",
   "execution_count": 33,
   "id": "af3c4d74",
   "metadata": {
    "colab": {
     "base_uri": "https://localhost:8080/",
     "height": 606
    },
    "id": "8083d346",
    "outputId": "dfc78df2-36fb-4984-9fe0-f69c72a0c954"
   },
   "outputs": [
    {
     "data": {
      "image/png": "[encoded data removed]",
      "text/plain": [
       "<Figure size 1440x720 with 1 Axes>"
      ]
     },
     "metadata": {
      "needs_background": "light"
     },
     "output_type": "display_data"
    }
   ],
   "source": [
    "plt.figure(figsize=(20, 10)) #setting the width and height of the plot \n",
    "plt.subplot(1,1,1) #plot setting \n",
    "plt.plot(priceData.index, priceData['close'].values,color='orange',label='CLOSE') # plotting Close price \n",
    "plt.xlabel('Count of all') # x axis \n",
    "plt.ylabel('count of each record') # y axis \n",
    "plt.legend(loc='best') #legend name as Close \n",
    "plt.show() # showing the plot "
   ]
  },
  {
   "cell_type": "markdown",
   "id": "6dda14da",
   "metadata": {
    "id": "d65c4cb0"
   },
   "source": [
    "# ------------------------------------------------------------------------------------------------------"
   ]
  },
  {
   "cell_type": "markdown",
   "id": "11063ead",
   "metadata": {
    "id": "d572bbab"
   },
   "source": [
    "<h1><center> Modelling </center></h1>"
   ]
  },
  {
   "cell_type": "markdown",
   "id": "790d2b8a",
   "metadata": {
    "id": "e5cb8cb1"
   },
   "source": [
    "# -----------------------------------------------------------------------------------------------------------"
   ]
  },
  {
   "cell_type": "markdown",
   "id": "3c51b863",
   "metadata": {
    "id": "30ee8f14"
   },
   "source": [
    "### Taking input features "
   ]
  },
  {
   "cell_type": "code",
   "execution_count": 34,
   "id": "fbf2b166",
   "metadata": {
    "colab": {
     "base_uri": "https://localhost:8080/",
     "height": 455
    },
    "id": "dee4a1db",
    "outputId": "0257b9db-1c42-4a62-e1ec-bef1d88456f7"
   },
   "outputs": [
    {
     "data": {
      "text/html": [
       "<div>\n",
       "<style scoped>\n",
       "    .dataframe tbody tr th:only-of-type {\n",
       "        vertical-align: middle;\n",
       "    }\n",
       "\n",
       "    .dataframe tbody tr th {\n",
       "        vertical-align: top;\n",
       "    }\n",
       "\n",
       "    .dataframe thead th {\n",
       "        text-align: right;\n",
       "    }\n",
       "</style>\n",
       "<table border=\"1\" class=\"dataframe\">\n",
       "  <thead>\n",
       "    <tr style=\"text-align: right;\">\n",
       "      <th></th>\n",
       "      <th>Month</th>\n",
       "      <th>Day</th>\n",
       "      <th>Year</th>\n",
       "      <th>Hour</th>\n",
       "      <th>Minutes</th>\n",
       "      <th>whaleCount</th>\n",
       "    </tr>\n",
       "  </thead>\n",
       "  <tbody>\n",
       "    <tr>\n",
       "      <th>2021-01-01 03:59:59.999</th>\n",
       "      <td>1</td>\n",
       "      <td>1</td>\n",
       "      <td>2021</td>\n",
       "      <td>3</td>\n",
       "      <td>59</td>\n",
       "      <td>0</td>\n",
       "    </tr>\n",
       "    <tr>\n",
       "      <th>2021-01-01 07:59:59.999</th>\n",
       "      <td>1</td>\n",
       "      <td>1</td>\n",
       "      <td>2021</td>\n",
       "      <td>7</td>\n",
       "      <td>59</td>\n",
       "      <td>0</td>\n",
       "    </tr>\n",
       "    <tr>\n",
       "      <th>2021-01-01 11:59:59.999</th>\n",
       "      <td>1</td>\n",
       "      <td>1</td>\n",
       "      <td>2021</td>\n",
       "      <td>11</td>\n",
       "      <td>59</td>\n",
       "      <td>12</td>\n",
       "    </tr>\n",
       "    <tr>\n",
       "      <th>2021-01-01 15:59:59.999</th>\n",
       "      <td>1</td>\n",
       "      <td>1</td>\n",
       "      <td>2021</td>\n",
       "      <td>15</td>\n",
       "      <td>59</td>\n",
       "      <td>8</td>\n",
       "    </tr>\n",
       "    <tr>\n",
       "      <th>2021-01-01 19:59:59.999</th>\n",
       "      <td>1</td>\n",
       "      <td>1</td>\n",
       "      <td>2021</td>\n",
       "      <td>19</td>\n",
       "      <td>59</td>\n",
       "      <td>0</td>\n",
       "    </tr>\n",
       "    <tr>\n",
       "      <th>...</th>\n",
       "      <td>...</td>\n",
       "      <td>...</td>\n",
       "      <td>...</td>\n",
       "      <td>...</td>\n",
       "      <td>...</td>\n",
       "      <td>...</td>\n",
       "    </tr>\n",
       "    <tr>\n",
       "      <th>2021-12-31 07:59:59.999</th>\n",
       "      <td>12</td>\n",
       "      <td>31</td>\n",
       "      <td>2021</td>\n",
       "      <td>7</td>\n",
       "      <td>59</td>\n",
       "      <td>0</td>\n",
       "    </tr>\n",
       "    <tr>\n",
       "      <th>2021-12-31 11:59:59.999</th>\n",
       "      <td>12</td>\n",
       "      <td>31</td>\n",
       "      <td>2021</td>\n",
       "      <td>11</td>\n",
       "      <td>59</td>\n",
       "      <td>0</td>\n",
       "    </tr>\n",
       "    <tr>\n",
       "      <th>2021-12-31 15:59:59.999</th>\n",
       "      <td>12</td>\n",
       "      <td>31</td>\n",
       "      <td>2021</td>\n",
       "      <td>15</td>\n",
       "      <td>59</td>\n",
       "      <td>0</td>\n",
       "    </tr>\n",
       "    <tr>\n",
       "      <th>2021-12-31 19:59:59.999</th>\n",
       "      <td>12</td>\n",
       "      <td>31</td>\n",
       "      <td>2021</td>\n",
       "      <td>19</td>\n",
       "      <td>59</td>\n",
       "      <td>0</td>\n",
       "    </tr>\n",
       "    <tr>\n",
       "      <th>2021-12-31 23:59:59.999</th>\n",
       "      <td>12</td>\n",
       "      <td>31</td>\n",
       "      <td>2021</td>\n",
       "      <td>23</td>\n",
       "      <td>59</td>\n",
       "      <td>0</td>\n",
       "    </tr>\n",
       "  </tbody>\n",
       "</table>\n",
       "<p>2190 rows × 6 columns</p>\n",
       "</div>"
      ],
      "text/plain": [
       "                         Month  Day  Year  Hour  Minutes  whaleCount\n",
       "2021-01-01 03:59:59.999      1    1  2021     3       59           0\n",
       "2021-01-01 07:59:59.999      1    1  2021     7       59           0\n",
       "2021-01-01 11:59:59.999      1    1  2021    11       59          12\n",
       "2021-01-01 15:59:59.999      1    1  2021    15       59           8\n",
       "2021-01-01 19:59:59.999      1    1  2021    19       59           0\n",
       "...                        ...  ...   ...   ...      ...         ...\n",
       "2021-12-31 07:59:59.999     12   31  2021     7       59           0\n",
       "2021-12-31 11:59:59.999     12   31  2021    11       59           0\n",
       "2021-12-31 15:59:59.999     12   31  2021    15       59           0\n",
       "2021-12-31 19:59:59.999     12   31  2021    19       59           0\n",
       "2021-12-31 23:59:59.999     12   31  2021    23       59           0\n",
       "\n",
       "[2190 rows x 6 columns]"
      ]
     },
     "execution_count": 34,
     "metadata": {},
     "output_type": "execute_result"
    }
   ],
   "source": [
    "X=priceData.drop(columns=['close','date']) #dropping the 'Close','date'\n",
    "X[X< 0] = 0 #making all negative values as 0\n",
    "X #input features "
   ]
  },
  {
   "cell_type": "markdown",
   "id": "ed0468df",
   "metadata": {
    "id": "24e5d5ba"
   },
   "source": [
    "### Taking target as output"
   ]
  },
  {
   "cell_type": "code",
   "execution_count": 35,
   "id": "ef79e0e2",
   "metadata": {
    "colab": {
     "base_uri": "https://localhost:8080/"
    },
    "id": "7667aa46",
    "outputId": "af69f82b-08a3-4fbe-c791-ff55b4b5d703"
   },
   "outputs": [
    {
     "data": {
      "text/plain": [
       "2021-01-01 03:59:59.999    0.18292\n",
       "2021-01-01 07:59:59.999    0.17955\n",
       "2021-01-01 11:59:59.999    0.17950\n",
       "2021-01-01 15:59:59.999    0.18055\n",
       "2021-01-01 19:59:59.999    0.17432\n",
       "                            ...   \n",
       "2021-12-31 07:59:59.999    1.32900\n",
       "2021-12-31 11:59:59.999    1.36100\n",
       "2021-12-31 15:59:59.999    1.35500\n",
       "2021-12-31 19:59:59.999    1.28600\n",
       "2021-12-31 23:59:59.999    1.30800\n",
       "Name: close, Length: 2190, dtype: float64"
      ]
     },
     "execution_count": 35,
     "metadata": {},
     "output_type": "execute_result"
    }
   ],
   "source": [
    "y=priceData['close'] # output close \n",
    "y #output "
   ]
  },
  {
   "cell_type": "markdown",
   "id": "4a54f53a",
   "metadata": {
    "id": "4321abf1"
   },
   "source": [
    "### Spliting the data into training and Testing"
   ]
  },
  {
   "cell_type": "code",
   "execution_count": 36,
   "id": "4823bddf",
   "metadata": {
    "id": "dbea7403"
   },
   "outputs": [],
   "source": [
    "X_train = X[:int(trainTestSplit*(len(X)))] # training input features split \n",
    "X_test = X[int(trainTestSplit*(len(X))):]  # testing input features split \n",
    "\n",
    "y_train = y[:int(trainTestSplit*(len(y)))]  # training output split \n",
    "y_test = y[int(trainTestSplit*(len(y))):] # testing output split "
   ]
  },
  {
   "cell_type": "markdown",
   "id": "2adab9b0",
   "metadata": {
    "id": "c6adc85e"
   },
   "source": [
    "# --------------------------------------------------------------------------------------------------"
   ]
  },
  {
   "cell_type": "markdown",
   "id": "566dc5ce",
   "metadata": {
    "id": "264cc82e"
   },
   "source": [
    "# SARIMAX Model"
   ]
  },
  {
   "cell_type": "code",
   "execution_count": 37,
   "id": "523d87d5",
   "metadata": {
    "id": "a8fe8df7"
   },
   "outputs": [
    {
     "name": "stdout",
     "output_type": "stream",
     "text": [
      "ARIMA(0, 0, 0) RMSE=0.542\n",
      "ARIMA(0, 0, 1) RMSE=0.547\n",
      "ARIMA(0, 0, 2) RMSE=0.552\n",
      "ARIMA(0, 1, 0) RMSE=0.797\n",
      "ARIMA(0, 1, 1) RMSE=0.796\n",
      "ARIMA(0, 1, 2) RMSE=0.795\n",
      "ARIMA(0, 2, 0) RMSE=3.384\n",
      "ARIMA(0, 2, 1) RMSE=0.468\n",
      "ARIMA(0, 2, 2) RMSE=0.424\n",
      "ARIMA(1, 0, 0) RMSE=0.392\n",
      "ARIMA(1, 0, 1) RMSE=0.503\n",
      "ARIMA(1, 0, 2) RMSE=0.267\n",
      "ARIMA(1, 1, 0) RMSE=0.796\n",
      "ARIMA(1, 1, 1) RMSE=0.796\n",
      "ARIMA(1, 1, 2) RMSE=0.784\n",
      "ARIMA(1, 2, 0) RMSE=1.631\n",
      "ARIMA(1, 2, 1) RMSE=0.432\n",
      "ARIMA(1, 2, 2) RMSE=0.492\n",
      "ARIMA(2, 0, 0) RMSE=0.298\n",
      "ARIMA(2, 0, 1) RMSE=0.759\n",
      "ARIMA(2, 0, 2) RMSE=0.536\n",
      "ARIMA(2, 1, 0) RMSE=0.792\n",
      "ARIMA(2, 1, 1) RMSE=0.779\n",
      "ARIMA(2, 1, 2) RMSE=0.791\n",
      "ARIMA(2, 2, 0) RMSE=0.589\n",
      "ARIMA(2, 2, 1) RMSE=0.417\n",
      "ARIMA(2, 2, 2) RMSE=0.476\n",
      "ARIMA(4, 0, 0) RMSE=0.199\n",
      "ARIMA(4, 0, 1) RMSE=0.527\n",
      "ARIMA(4, 0, 2) RMSE=0.742\n",
      "ARIMA(4, 1, 0) RMSE=0.774\n",
      "ARIMA(4, 1, 1) RMSE=0.772\n",
      "ARIMA(4, 1, 2) RMSE=0.785\n",
      "ARIMA(4, 2, 0) RMSE=1.532\n",
      "ARIMA(4, 2, 1) RMSE=0.148\n",
      "ARIMA(4, 2, 2) RMSE=0.342\n",
      "ARIMA(6, 0, 0) RMSE=0.249\n",
      "ARIMA(6, 0, 1) RMSE=0.461\n",
      "ARIMA(6, 0, 2) RMSE=0.529\n",
      "ARIMA(6, 1, 0) RMSE=0.790\n",
      "ARIMA(6, 1, 1) RMSE=0.752\n",
      "ARIMA(6, 1, 2) RMSE=0.775\n",
      "ARIMA(6, 2, 0) RMSE=0.716\n",
      "ARIMA(6, 2, 1) RMSE=1.652\n",
      "ARIMA(6, 2, 2) RMSE=0.154\n",
      "ARIMA(8, 0, 0) RMSE=0.255\n",
      "ARIMA(8, 0, 1) RMSE=0.559\n",
      "ARIMA(8, 0, 2) RMSE=0.549\n",
      "ARIMA(8, 1, 0) RMSE=0.753\n",
      "ARIMA(8, 1, 1) RMSE=0.714\n",
      "ARIMA(8, 1, 2) RMSE=0.765\n",
      "ARIMA(8, 2, 0) RMSE=1.014\n",
      "ARIMA(8, 2, 1) RMSE=1.656\n",
      "ARIMA(8, 2, 2) RMSE=0.680\n",
      "ARIMA(10, 0, 0) RMSE=0.543\n",
      "ARIMA(10, 0, 1) RMSE=0.544\n",
      "ARIMA(10, 0, 2) RMSE=0.515\n",
      "ARIMA(10, 1, 0) RMSE=0.747\n",
      "ARIMA(10, 1, 1) RMSE=0.714\n",
      "ARIMA(10, 1, 2) RMSE=0.714\n",
      "ARIMA(10, 2, 0) RMSE=0.705\n",
      "ARIMA(10, 2, 1) RMSE=1.280\n",
      "ARIMA(10, 2, 2) RMSE=0.146\n",
      "Best ARIMA(10, 2, 2) RMSE=0.146\n",
      "Wall time: 11min 28s\n"
     ]
    }
   ],
   "source": [
    "%%time\n",
    "# evaluate an ARIMA model for a given order (p,d,q)\n",
    "def evaluate_arima_model(priceData, arima_order):\n",
    "    Xtest = priceData.drop(columns=['date','Month','Day','Year','Minutes','Hour'])\n",
    "    train_data, test_data = Xtest.iloc[:int(len(Xtest['close'])*trainTestSplit)], Xtest.iloc[int(len(Xtest['close'])*trainTestSplit):]\n",
    "\n",
    "    df5 = test_data.copy()\n",
    "    df5['close'].loc[:] = np.nan\n",
    "\n",
    "    df6 = pd.concat([train_data,df5])\n",
    "\n",
    "    model=smapi.tsa.statespace.SARIMAX(df6['close'],exog=df6['whaleCount'],order=arima_order,seasonal_order=(1,1,1,12))\n",
    "    results=model.fit()\n",
    "\n",
    "    preds =results.predict(start=len(train_data), end=len(train_data)+len(test_data)-1, dynamic = True)\n",
    "    # calculate out of sample error\n",
    "    rmse = sqrt(mean_squared_error(test_data['close'], preds.tolist()))\n",
    "\n",
    "    return rmse\n",
    " \n",
    "# evaluate combinations of p, d and q values for an ARIMA model\n",
    "def evaluate_models(priceData, p_values, d_values, q_values):\n",
    "    best_score, best_cfg = float(\"inf\"), None\n",
    "    for p in p_values:\n",
    "        for d in d_values:\n",
    "            for q in q_values:\n",
    "                order = (p,d,q)\n",
    "                try:\n",
    "                    rmse = evaluate_arima_model(priceData, order)\n",
    "                    if rmse < best_score:\n",
    "                        best_score, best_cfg = rmse, order\n",
    "                    print('ARIMA%s RMSE=%.3f' % (order,rmse))\n",
    "                except Exception as e:\n",
    "                    print(e)\n",
    "                    continue\n",
    "    print('Best ARIMA%s RMSE=%.3f' % (best_cfg, best_score))\n",
    "    return best_cfg\n",
    " \n",
    "# evaluate parameters\n",
    "p_values = [0, 1, 2, 4, 6, 8, 10]\n",
    "d_values = range(0, 3)\n",
    "q_values = range(0, 3)\n",
    "warnings.filterwarnings(\"ignore\")\n",
    "best_cfg = evaluate_models(priceData, p_values, d_values, q_values)"
   ]
  },
  {
   "cell_type": "code",
   "execution_count": 38,
   "id": "a3ac9025",
   "metadata": {
    "id": "2382f70e",
    "outputId": "f13dadcd-562a-43c8-baa6-bb3d9fca49ff"
   },
   "outputs": [],
   "source": [
    "Xtest = priceData.drop(columns=['date','Month','Day','Year','Minutes','Hour'])\n",
    "train_data, test_data = Xtest.iloc[:int(len(Xtest['close'])*trainTestSplit)], Xtest.iloc[int(len(Xtest['close'])*trainTestSplit):]\n",
    "\n",
    "df5 = test_data.copy()\n",
    "df5['close'].loc[:] = np.nan\n",
    "\n",
    "df6 = pd.concat([train_data,df5])\n",
    "\n",
    "model=smapi.tsa.statespace.SARIMAX(df6['close'],exog=df6['whaleCount'],order=(best_cfg),seasonal_order=(1,1,1,12))\n",
    "results=model.fit()"
   ]
  },
  {
   "cell_type": "code",
   "execution_count": 39,
   "id": "00ea7362",
   "metadata": {},
   "outputs": [],
   "source": [
    "preds =results.predict(start=len(train_data), end=len(train_data)+len(test_data)-1, dynamic = True)\n",
    "y_pred_test = pd.Series(preds.tolist(), index = test_data.index)"
   ]
  },
  {
   "cell_type": "markdown",
   "id": "3eb1be80",
   "metadata": {
    "id": "b5dd8b98"
   },
   "source": [
    "### Best Parameter selected"
   ]
  },
  {
   "cell_type": "code",
   "execution_count": 40,
   "id": "d66b535c",
   "metadata": {},
   "outputs": [
    {
     "data": {
      "text/plain": [
       "(10, 2, 2)"
      ]
     },
     "execution_count": 40,
     "metadata": {},
     "output_type": "execute_result"
    }
   ],
   "source": [
    "best_cfg"
   ]
  },
  {
   "cell_type": "markdown",
   "id": "3e41ab42",
   "metadata": {
    "id": "dad9a2a5"
   },
   "source": [
    "# Evaluation Measures on Test data"
   ]
  },
  {
   "cell_type": "markdown",
   "id": "5e210eed",
   "metadata": {
    "id": "e30c698e"
   },
   "source": [
    "# MSE"
   ]
  },
  {
   "cell_type": "code",
   "execution_count": 41,
   "id": "5e316a79",
   "metadata": {
    "colab": {
     "base_uri": "https://localhost:8080/"
    },
    "id": "98f4a656",
    "outputId": "cb485e4c-d2d3-483c-e9c9-2a56aaada9b4"
   },
   "outputs": [
    {
     "name": "stdout",
     "output_type": "stream",
     "text": [
      "Mean Squared Error:  0.02125\n"
     ]
    }
   ],
   "source": [
    "test_mse1=mean_squared_error(y_test,y_pred_test) # calculating the mse score\n",
    "print('Mean Squared Error: ', round(test_mse1,5)) #pritng the results "
   ]
  },
  {
   "cell_type": "markdown",
   "id": "e087b407",
   "metadata": {
    "id": "59fe3989"
   },
   "source": [
    "# MAE"
   ]
  },
  {
   "cell_type": "code",
   "execution_count": 42,
   "id": "6caa6bb3",
   "metadata": {
    "colab": {
     "base_uri": "https://localhost:8080/"
    },
    "id": "67861d97",
    "outputId": "502598a3-ab27-4602-c89d-8782a7b3dbf1"
   },
   "outputs": [
    {
     "name": "stdout",
     "output_type": "stream",
     "text": [
      "Mean Absolute Error:  0.1221\n"
     ]
    }
   ],
   "source": [
    "test_MAE1=mean_absolute_error(y_test,y_pred_test) # calculating the mae score\n",
    "print('Mean Absolute Error: ', round(test_MAE1,5)) #pritng the results "
   ]
  },
  {
   "cell_type": "markdown",
   "id": "ecdcf7f2",
   "metadata": {
    "id": "a6d95fb7"
   },
   "source": [
    "# RMSE"
   ]
  },
  {
   "cell_type": "code",
   "execution_count": 43,
   "id": "d0c00646",
   "metadata": {
    "colab": {
     "base_uri": "https://localhost:8080/"
    },
    "id": "e290d306",
    "outputId": "4455823c-da99-4149-e3ba-dd4fe51ce5be"
   },
   "outputs": [
    {
     "name": "stdout",
     "output_type": "stream",
     "text": [
      "Mean Squared Error:  0.14576\n"
     ]
    }
   ],
   "source": [
    "test_rmse1=np.sqrt(test_mse1) # calculating the rmse score\n",
    "print('Mean Squared Error: ', round(test_rmse1,5)) #pritng the results "
   ]
  },
  {
   "cell_type": "markdown",
   "id": "896f15c2",
   "metadata": {
    "id": "2321c33b"
   },
   "source": [
    "# MAPE"
   ]
  },
  {
   "cell_type": "code",
   "execution_count": 44,
   "id": "41717215",
   "metadata": {
    "colab": {
     "base_uri": "https://localhost:8080/"
    },
    "id": "98bc0237",
    "outputId": "93fcaefe-504a-427e-ada8-5aadb77df706"
   },
   "outputs": [
    {
     "name": "stdout",
     "output_type": "stream",
     "text": [
      "Mean Absolute Error:  0.07824\n"
     ]
    }
   ],
   "source": [
    "test_mape1=mean_absolute_percentage_error(y_test,y_pred_test) # calculating the mape score\n",
    "print('Mean Absolute Error: ', round(test_mape1,5)) #pritng the results "
   ]
  },
  {
   "cell_type": "code",
   "execution_count": 45,
   "id": "e3e1a8a8",
   "metadata": {},
   "outputs": [
    {
     "data": {
      "image/png": "[encoded data removed]",
      "text/plain": [
       "<Figure size 432x288 with 1 Axes>"
      ]
     },
     "metadata": {
      "needs_background": "light"
     },
     "output_type": "display_data"
    },
    {
     "data": {
      "image/png": "[encoded data removed]",
      "text/plain": [
       "<Figure size 1296x576 with 1 Axes>"
      ]
     },
     "metadata": {
      "needs_background": "light"
     },
     "output_type": "display_data"
    }
   ],
   "source": [
    "df = pd.DataFrame({'Actual': y_test, 'Predicted': y_pred_test})\n",
    "df2 = pd.DataFrame({'train': y_train})\n",
    "ax = df.plot()\n",
    "df2.plot(ax=ax)\n",
    "df.plot(kind='line',figsize=(18,8))\n",
    "plt.grid(which='major', linestyle='-', linewidth='0.5', color='green')\n",
    "plt.grid(which='minor', linestyle=':', linewidth='0.5', color='black')\n",
    "plt.show()"
   ]
  },
  {
   "cell_type": "markdown",
   "id": "415999f0",
   "metadata": {
    "id": "f40c5adf"
   },
   "source": [
    "# --------------------------------------------------------------------------------------------------"
   ]
  },
  {
   "cell_type": "markdown",
   "id": "646360db",
   "metadata": {
    "id": "9b387b65"
   },
   "source": [
    "# --------------------------------------------------------------------------------------------------"
   ]
  },
  {
   "cell_type": "markdown",
   "id": "e2faa8de",
   "metadata": {
    "id": "c610f1c7"
   },
   "source": [
    "# ARIMAX Model"
   ]
  },
  {
   "cell_type": "markdown",
   "id": "8c88b4ab",
   "metadata": {
    "id": "7f3b40c2"
   },
   "source": [
    "### Parametrs"
   ]
  },
  {
   "cell_type": "code",
   "execution_count": 46,
   "id": "6633f6c5",
   "metadata": {
    "id": "ad0eb913"
   },
   "outputs": [
    {
     "name": "stdout",
     "output_type": "stream",
     "text": [
      "ARIMA(0, 0, 0) RMSE=1.522\n",
      "ARIMA(0, 0, 1) RMSE=1.725\n",
      "ARIMA(0, 0, 2) RMSE=1.726\n",
      "ARIMA(0, 1, 0) RMSE=0.527\n",
      "ARIMA(0, 1, 1) RMSE=0.527\n",
      "ARIMA(0, 1, 2) RMSE=0.527\n",
      "ARIMA(0, 2, 0) RMSE=3.042\n",
      "ARIMA(0, 2, 1) RMSE=0.799\n",
      "ARIMA(0, 2, 2) RMSE=0.798\n",
      "ARIMA(1, 0, 0) RMSE=0.338\n",
      "ARIMA(1, 0, 1) RMSE=0.358\n",
      "ARIMA(1, 0, 2) RMSE=0.158\n",
      "ARIMA(1, 1, 0) RMSE=0.527\n",
      "ARIMA(1, 1, 1) RMSE=0.527\n",
      "ARIMA(1, 1, 2) RMSE=0.527\n",
      "ARIMA(1, 2, 0) RMSE=1.207\n",
      "ARIMA(1, 2, 1) RMSE=0.794\n",
      "ARIMA(1, 2, 2) RMSE=0.797\n",
      "ARIMA(2, 0, 0) RMSE=0.356\n",
      "ARIMA(2, 0, 1) RMSE=0.375\n",
      "ARIMA(2, 0, 2) RMSE=0.520\n",
      "ARIMA(2, 1, 0) RMSE=0.527\n",
      "ARIMA(2, 1, 1) RMSE=0.527\n",
      "ARIMA(2, 1, 2) RMSE=0.528\n",
      "ARIMA(2, 2, 0) RMSE=0.167\n",
      "ARIMA(2, 2, 1) RMSE=0.786\n",
      "ARIMA(2, 2, 2) RMSE=0.797\n",
      "ARIMA(4, 0, 0) RMSE=0.970\n",
      "ARIMA(4, 0, 1) RMSE=0.161\n",
      "ARIMA(4, 0, 2) RMSE=0.322\n",
      "ARIMA(4, 1, 0) RMSE=0.527\n",
      "ARIMA(4, 1, 1) RMSE=0.527\n",
      "ARIMA(4, 1, 2) RMSE=0.527\n",
      "ARIMA(4, 2, 0) RMSE=0.839\n",
      "ARIMA(4, 2, 1) RMSE=0.663\n",
      "ARIMA(4, 2, 2) RMSE=0.299\n",
      "ARIMA(6, 0, 0) RMSE=0.746\n",
      "ARIMA(6, 0, 1) RMSE=0.255\n",
      "ARIMA(6, 0, 2) RMSE=0.533\n",
      "ARIMA(6, 1, 0) RMSE=0.528\n",
      "ARIMA(6, 1, 1) RMSE=0.528\n",
      "ARIMA(6, 1, 2) RMSE=0.528\n",
      "ARIMA(6, 2, 0) RMSE=0.529\n",
      "ARIMA(6, 2, 1) RMSE=0.334\n",
      "ARIMA(6, 2, 2) RMSE=0.541\n",
      "ARIMA(8, 0, 0) RMSE=0.477\n",
      "ARIMA(8, 0, 1) RMSE=0.286\n",
      "ARIMA(8, 0, 2) RMSE=0.210\n",
      "ARIMA(8, 1, 0) RMSE=0.528\n",
      "ARIMA(8, 1, 1) RMSE=0.528\n",
      "ARIMA(8, 1, 2) RMSE=0.528\n",
      "ARIMA(8, 2, 0) RMSE=0.374\n",
      "ARIMA(8, 2, 1) RMSE=0.402\n",
      "ARIMA(8, 2, 2) RMSE=0.322\n",
      "ARIMA(10, 0, 0) RMSE=0.608\n",
      "ARIMA(10, 0, 1) RMSE=0.429\n",
      "ARIMA(10, 0, 2) RMSE=0.309\n",
      "ARIMA(10, 1, 0) RMSE=0.528\n",
      "ARIMA(10, 1, 1) RMSE=0.529\n",
      "ARIMA(10, 1, 2) RMSE=0.529\n",
      "ARIMA(10, 2, 0) RMSE=0.370\n",
      "ARIMA(10, 2, 1) RMSE=0.419\n",
      "ARIMA(10, 2, 2) RMSE=0.147\n",
      "Best ARIMA(10, 2, 2) RMSE=0.147\n",
      "Wall time: 1min 37s\n"
     ]
    }
   ],
   "source": [
    "%%time\n",
    "# evaluate an ARIMA model for a given order (p,d,q)\n",
    "def evaluate_arima_model(priceData, arima_order):\n",
    "    Xtest = priceData.drop(columns=['date','Month','Day','Year','Minutes','Hour'])\n",
    "    train_data, test_data = Xtest.iloc[:int(len(Xtest['close'])*trainTestSplit)], Xtest.iloc[int(len(Xtest['close'])*trainTestSplit):]\n",
    "\n",
    "    df5 = test_data.copy()\n",
    "    df5['close'].loc[:] = np.nan\n",
    "\n",
    "    df6 = pd.concat([train_data,df5])\n",
    "\n",
    "    model=smapi.tsa.statespace.SARIMAX(df6['close'],exog=df6['whaleCount'],order=arima_order)\n",
    "    results=model.fit()\n",
    "\n",
    "    preds =results.predict(start=len(train_data), end=len(train_data)+len(test_data)-1, dynamic = True)\n",
    "    # calculate out of sample error\n",
    "    rmse = sqrt(mean_squared_error(test_data['close'], preds.tolist()))\n",
    "\n",
    "    return rmse\n",
    " \n",
    "# evaluate combinations of p, d and q values for an ARIMA model\n",
    "def evaluate_models(priceData, p_values, d_values, q_values):\n",
    "    best_score, best_cfg = float(\"inf\"), None\n",
    "    for p in p_values:\n",
    "        for d in d_values:\n",
    "            for q in q_values:\n",
    "                order = (p,d,q)\n",
    "                try:\n",
    "                    rmse = evaluate_arima_model(priceData, order)\n",
    "                    if rmse < best_score:\n",
    "                        best_score, best_cfg = rmse, order\n",
    "                    print('ARIMA%s RMSE=%.3f' % (order,rmse))\n",
    "                except Exception as e:\n",
    "                    print(e)\n",
    "                    continue\n",
    "    print('Best ARIMA%s RMSE=%.3f' % (best_cfg, best_score))\n",
    "    return best_cfg\n",
    " \n",
    "# evaluate parameters\n",
    "p_values = [0, 1, 2, 4, 6, 8, 10]\n",
    "d_values = range(0, 3)\n",
    "q_values = range(0, 3)\n",
    "warnings.filterwarnings(\"ignore\")\n",
    "best_cfg = evaluate_models(priceData, p_values, d_values, q_values)"
   ]
  },
  {
   "cell_type": "code",
   "execution_count": 47,
   "id": "91fb8ab8",
   "metadata": {
    "id": "9e00756a",
    "outputId": "d4fffcdf-9730-478a-e0a5-6f996bfb65e5"
   },
   "outputs": [],
   "source": [
    "Xtest = priceData.drop(columns=['date','Month','Day','Year','Minutes','Hour'])\n",
    "train_data, test_data = Xtest.iloc[:int(len(Xtest['close'])*trainTestSplit)], Xtest.iloc[int(len(Xtest['close'])*trainTestSplit):]\n",
    "\n",
    "df5 = test_data.copy()\n",
    "df5['close'].loc[:] = np.nan\n",
    "\n",
    "df6 = pd.concat([train_data,df5])\n",
    "\n",
    "model=smapi.tsa.statespace.SARIMAX(df6['close'],exog=df6['whaleCount'],order=(best_cfg))\n",
    "results=model.fit()"
   ]
  },
  {
   "cell_type": "markdown",
   "id": "774e57f9",
   "metadata": {
    "id": "7c7cde0b"
   },
   "source": [
    "### Best Parameter selected"
   ]
  },
  {
   "cell_type": "code",
   "execution_count": 48,
   "id": "090530a3",
   "metadata": {
    "id": "4b7e7dfa",
    "outputId": "c504a61b-d6ef-415a-d3b0-c148d26eebf7"
   },
   "outputs": [
    {
     "data": {
      "text/plain": [
       "(10, 2, 2)"
      ]
     },
     "execution_count": 48,
     "metadata": {},
     "output_type": "execute_result"
    }
   ],
   "source": [
    "best_cfg"
   ]
  },
  {
   "cell_type": "code",
   "execution_count": 49,
   "id": "3410b2d9",
   "metadata": {},
   "outputs": [],
   "source": [
    "preds =results.predict(start=len(train_data), end=len(train_data)+len(test_data)-1, dynamic = True)\n",
    "y_pred_test = pd.Series(preds.tolist(), index = test_data.index)"
   ]
  },
  {
   "cell_type": "markdown",
   "id": "5c65c00a",
   "metadata": {
    "id": "2cb40234"
   },
   "source": [
    "# Evaluation Measures on Test data"
   ]
  },
  {
   "cell_type": "markdown",
   "id": "019a9f56",
   "metadata": {
    "id": "6cd46073"
   },
   "source": [
    "# MSE"
   ]
  },
  {
   "cell_type": "code",
   "execution_count": 50,
   "id": "cccf2e0d",
   "metadata": {
    "colab": {
     "base_uri": "https://localhost:8080/"
    },
    "id": "210cbc28",
    "outputId": "ac3e5890-bded-4995-f213-86a55026c8aa"
   },
   "outputs": [
    {
     "name": "stdout",
     "output_type": "stream",
     "text": [
      "Mean Squared Error:  0.02171\n"
     ]
    }
   ],
   "source": [
    "test_mse2=mean_squared_error(y_test,y_pred_test) # calculating the mse score\n",
    "print('Mean Squared Error: ', round(test_mse2,5)) #pritng the results "
   ]
  },
  {
   "cell_type": "markdown",
   "id": "9a5d38c0",
   "metadata": {
    "id": "036e1457"
   },
   "source": [
    "# MAE"
   ]
  },
  {
   "cell_type": "code",
   "execution_count": 51,
   "id": "b49fe812",
   "metadata": {
    "colab": {
     "base_uri": "https://localhost:8080/"
    },
    "id": "ab28e7ec",
    "outputId": "8d4c4290-658b-426a-c2fc-f0cc21f05168"
   },
   "outputs": [
    {
     "name": "stdout",
     "output_type": "stream",
     "text": [
      "Mean Absolute Error:  0.12291\n"
     ]
    }
   ],
   "source": [
    "test_MAE2=mean_absolute_error(y_test,y_pred_test) # calculating the mae score\n",
    "print('Mean Absolute Error: ', round(test_MAE2,5)) #pritng the results "
   ]
  },
  {
   "cell_type": "markdown",
   "id": "f4304a4a",
   "metadata": {
    "id": "ca934a25"
   },
   "source": [
    "# RMSE"
   ]
  },
  {
   "cell_type": "code",
   "execution_count": 52,
   "id": "49fcace2",
   "metadata": {
    "colab": {
     "base_uri": "https://localhost:8080/"
    },
    "id": "de31523b",
    "outputId": "44a48d44-8917-40c0-acb9-8cad59116847"
   },
   "outputs": [
    {
     "name": "stdout",
     "output_type": "stream",
     "text": [
      "Mean Squared Error:  0.14734\n"
     ]
    }
   ],
   "source": [
    "test_rmse2=np.sqrt(test_mse2) # calculating the rmse score\n",
    "print('Mean Squared Error: ', round(test_rmse2,5)) #pritng the results "
   ]
  },
  {
   "cell_type": "markdown",
   "id": "1448a96e",
   "metadata": {
    "id": "77738e90"
   },
   "source": [
    "# MAPE"
   ]
  },
  {
   "cell_type": "code",
   "execution_count": 53,
   "id": "68419a5e",
   "metadata": {
    "colab": {
     "base_uri": "https://localhost:8080/"
    },
    "id": "6337e21f",
    "outputId": "c43ab959-5e16-492f-fcd8-44c4d884ac63"
   },
   "outputs": [
    {
     "name": "stdout",
     "output_type": "stream",
     "text": [
      "Mean Absolute Error:  0.07673\n"
     ]
    }
   ],
   "source": [
    "test_mape2=mean_absolute_percentage_error(y_test,y_pred_test) # calculating the mape score\n",
    "print('Mean Absolute Error: ', round(test_mape2,5)) #pritng the results "
   ]
  },
  {
   "cell_type": "code",
   "execution_count": 54,
   "id": "3d29989e",
   "metadata": {},
   "outputs": [
    {
     "data": {
      "image/png": "[encoded data removed]",
      "text/plain": [
       "<Figure size 432x288 with 1 Axes>"
      ]
     },
     "metadata": {
      "needs_background": "light"
     },
     "output_type": "display_data"
    },
    {
     "data": {
      "image/png": "[encoded data removed]",
      "text/plain": [
       "<Figure size 1296x576 with 1 Axes>"
      ]
     },
     "metadata": {
      "needs_background": "light"
     },
     "output_type": "display_data"
    }
   ],
   "source": [
    "df = pd.DataFrame({'Actual': y_test, 'Predicted': y_pred_test})\n",
    "df2 = pd.DataFrame({'train': y_train})\n",
    "ax = df.plot()\n",
    "df2.plot(ax=ax)\n",
    "df.plot(kind='line',figsize=(18,8))\n",
    "plt.grid(which='major', linestyle='-', linewidth='0.5', color='green')\n",
    "plt.grid(which='minor', linestyle=':', linewidth='0.5', color='black')\n",
    "plt.show()"
   ]
  },
  {
   "cell_type": "markdown",
   "id": "074026f0",
   "metadata": {
    "id": "f12a31db"
   },
   "source": [
    "# --------------------------------------------------------------------------------------------------"
   ]
  },
  {
   "cell_type": "markdown",
   "id": "459b9c64",
   "metadata": {
    "id": "7d0cf697"
   },
   "source": [
    "# MLP Regression Model"
   ]
  },
  {
   "cell_type": "markdown",
   "id": "b7304e33",
   "metadata": {
    "id": "8c9a9a35"
   },
   "source": [
    "### Parametrs"
   ]
  },
  {
   "cell_type": "code",
   "execution_count": 55,
   "id": "2d553883",
   "metadata": {
    "id": "43645691"
   },
   "outputs": [],
   "source": [
    "params = { \n",
    "    'max_iter': [100,200,300,400,500,600],\n",
    "    'momentum':[0.7,0.8,0.9],\n",
    "    'learning_rate_init':[0.001,0.002,0.004],\n",
    "    'hidden_layer_sizes':[(100,),(300,),(200,)]\n",
    "}"
   ]
  },
  {
   "cell_type": "code",
   "execution_count": 56,
   "id": "c83bfd28",
   "metadata": {
    "id": "7091bd7d",
    "outputId": "58ba9810-e05a-4d40-e0fa-76f5af548f7d"
   },
   "outputs": [
    {
     "name": "stdout",
     "output_type": "stream",
     "text": [
      "Iteration 1, loss = 3616.88335092\n",
      "Iteration 2, loss = 1250.97639790\n",
      "Iteration 3, loss = 745.71086191\n",
      "Iteration 4, loss = 247.09390381\n",
      "Iteration 5, loss = 373.71210804\n",
      "Iteration 6, loss = 44.23517322\n",
      "Iteration 7, loss = 150.64789037\n",
      "Iteration 8, loss = 14.37182352\n",
      "Iteration 9, loss = 54.92423183\n",
      "Iteration 10, loss = 6.02264715\n",
      "Iteration 11, loss = 19.89983418\n",
      "Iteration 12, loss = 2.48059593\n",
      "Iteration 13, loss = 6.35687985\n",
      "Iteration 14, loss = 1.71975315\n",
      "Iteration 15, loss = 1.63390717\n",
      "Iteration 16, loss = 1.24467932\n",
      "Iteration 17, loss = 0.47148647\n",
      "Iteration 18, loss = 0.65924704\n",
      "Iteration 19, loss = 0.36182093\n",
      "Iteration 20, loss = 0.33489983\n",
      "Iteration 21, loss = 0.34470184\n",
      "Iteration 22, loss = 0.27642459\n",
      "Iteration 23, loss = 0.28119997\n",
      "Iteration 24, loss = 0.27247545\n",
      "Iteration 25, loss = 0.25712683\n",
      "Iteration 26, loss = 0.25547413\n",
      "Iteration 27, loss = 0.25483104\n",
      "Iteration 28, loss = 0.25713677\n",
      "Iteration 29, loss = 0.25364462\n",
      "Iteration 30, loss = 0.24753355\n",
      "Iteration 31, loss = 0.24587368\n",
      "Iteration 32, loss = 0.24381615\n",
      "Iteration 33, loss = 0.24146407\n",
      "Iteration 34, loss = 0.24409867\n",
      "Iteration 35, loss = 0.25194503\n",
      "Iteration 36, loss = 0.24347550\n",
      "Iteration 37, loss = 0.24198553\n",
      "Iteration 38, loss = 0.23777945\n",
      "Iteration 39, loss = 0.23299224\n",
      "Iteration 40, loss = 0.22767598\n",
      "Iteration 41, loss = 0.22560509\n",
      "Iteration 42, loss = 0.22244467\n",
      "Iteration 43, loss = 0.22720423\n",
      "Iteration 44, loss = 0.21707574\n",
      "Iteration 45, loss = 0.22446510\n",
      "Iteration 46, loss = 0.21559844\n",
      "Iteration 47, loss = 0.20935908\n",
      "Iteration 48, loss = 0.21006200\n",
      "Iteration 49, loss = 0.20555092\n",
      "Iteration 50, loss = 0.20861230\n",
      "Iteration 51, loss = 0.20474407\n",
      "Iteration 52, loss = 0.20008333\n",
      "Iteration 53, loss = 0.19621929\n",
      "Iteration 54, loss = 0.19893089\n",
      "Iteration 55, loss = 0.20555668\n",
      "Iteration 56, loss = 0.19859243\n",
      "Iteration 57, loss = 0.19733220\n",
      "Iteration 58, loss = 0.19166204\n",
      "Iteration 59, loss = 0.19570008\n",
      "Iteration 60, loss = 0.20679939\n",
      "Iteration 61, loss = 0.19507874\n",
      "Iteration 62, loss = 0.19369809\n",
      "Iteration 63, loss = 0.19013974\n",
      "Iteration 64, loss = 0.19283526\n",
      "Iteration 65, loss = 0.19124700\n",
      "Iteration 66, loss = 0.19502567\n",
      "Iteration 67, loss = 0.18583024\n",
      "Iteration 68, loss = 0.19031340\n",
      "Iteration 69, loss = 0.18106942\n",
      "Iteration 70, loss = 0.18361242\n",
      "Iteration 71, loss = 0.18406126\n",
      "Iteration 72, loss = 0.18895267\n",
      "Iteration 73, loss = 0.17715187\n",
      "Iteration 74, loss = 0.17920913\n",
      "Iteration 75, loss = 0.17562271\n",
      "Iteration 76, loss = 0.17256577\n",
      "Iteration 77, loss = 0.17198816\n",
      "Iteration 78, loss = 0.17107874\n",
      "Iteration 79, loss = 0.16807516\n",
      "Iteration 80, loss = 0.16923777\n",
      "Iteration 81, loss = 0.16825829\n",
      "Iteration 82, loss = 0.16584551\n",
      "Iteration 83, loss = 0.17171477\n",
      "Iteration 84, loss = 0.16578273\n",
      "Iteration 85, loss = 0.16294043\n",
      "Iteration 86, loss = 0.17282512\n",
      "Iteration 87, loss = 0.18243670\n",
      "Iteration 88, loss = 0.16483914\n",
      "Iteration 89, loss = 0.15790586\n",
      "Iteration 90, loss = 0.15551470\n",
      "Iteration 91, loss = 0.16456943\n",
      "Iteration 92, loss = 0.15910842\n",
      "Iteration 93, loss = 0.15849153\n",
      "Iteration 94, loss = 0.15735811\n",
      "Iteration 95, loss = 0.15205289\n",
      "Iteration 96, loss = 0.16383206\n",
      "Iteration 97, loss = 0.15695513\n",
      "Iteration 98, loss = 0.14571772\n",
      "Iteration 99, loss = 0.14979752\n",
      "Iteration 100, loss = 0.14533136\n",
      "Iteration 101, loss = 0.14775763\n",
      "Iteration 102, loss = 0.14057188\n",
      "Iteration 103, loss = 0.15565616\n",
      "Iteration 104, loss = 0.15583396\n",
      "Iteration 105, loss = 0.14508659\n",
      "Iteration 106, loss = 0.13703786\n",
      "Iteration 107, loss = 0.14026011\n",
      "Iteration 108, loss = 0.14957096\n",
      "Iteration 109, loss = 0.14406855\n",
      "Iteration 110, loss = 0.14227211\n",
      "Iteration 111, loss = 0.12806488\n",
      "Iteration 112, loss = 0.12878329\n",
      "Iteration 113, loss = 0.13234017\n",
      "Iteration 114, loss = 0.12618522\n",
      "Iteration 115, loss = 0.14030429\n",
      "Iteration 116, loss = 0.15439243\n",
      "Iteration 117, loss = 0.16500731\n",
      "Iteration 118, loss = 0.13806857\n",
      "Iteration 119, loss = 0.11996842\n",
      "Iteration 120, loss = 0.11973791\n",
      "Iteration 121, loss = 0.11654958\n",
      "Iteration 122, loss = 0.11885680\n",
      "Iteration 123, loss = 0.12104844\n",
      "Iteration 124, loss = 0.11419492\n",
      "Iteration 125, loss = 0.11164246\n",
      "Iteration 126, loss = 0.11205698\n",
      "Iteration 127, loss = 0.11302888\n",
      "Iteration 128, loss = 0.10766777\n",
      "Iteration 129, loss = 0.11181729\n",
      "Iteration 130, loss = 0.11371594\n",
      "Iteration 131, loss = 0.10879200\n",
      "Iteration 132, loss = 0.10426814\n",
      "Iteration 133, loss = 0.10376043\n",
      "Iteration 134, loss = 0.11029530\n",
      "Iteration 135, loss = 0.10227139\n",
      "Iteration 136, loss = 0.10271478\n",
      "Iteration 137, loss = 0.10009376\n",
      "Iteration 138, loss = 0.10122506\n",
      "Iteration 139, loss = 0.09855429\n",
      "Iteration 140, loss = 0.09698826\n",
      "Iteration 141, loss = 0.09849933\n",
      "Iteration 142, loss = 0.09751368\n",
      "Iteration 143, loss = 0.09547434\n",
      "Iteration 144, loss = 0.09439022\n",
      "Iteration 145, loss = 0.09760190\n",
      "Iteration 146, loss = 0.09418563\n",
      "Iteration 147, loss = 0.10055712\n",
      "Iteration 148, loss = 0.09978662\n",
      "Iteration 149, loss = 0.09653742\n",
      "Iteration 150, loss = 0.09893240\n",
      "Iteration 151, loss = 0.09060344\n",
      "Iteration 152, loss = 0.08785251\n",
      "Iteration 153, loss = 0.09318084\n",
      "Iteration 154, loss = 0.08853804\n",
      "Iteration 155, loss = 0.08736663\n",
      "Iteration 156, loss = 0.09068596\n",
      "Iteration 157, loss = 0.10445431\n",
      "Iteration 158, loss = 0.11048107\n",
      "Iteration 159, loss = 0.11650636\n",
      "Iteration 160, loss = 0.10628284\n",
      "Iteration 161, loss = 0.09467094\n",
      "Iteration 162, loss = 0.09871391\n",
      "Iteration 163, loss = 0.09195126\n",
      "Iteration 164, loss = 0.08650663\n",
      "Iteration 165, loss = 0.08675346\n",
      "Iteration 166, loss = 0.08439067\n",
      "Iteration 167, loss = 0.08618483\n",
      "Iteration 168, loss = 0.08304644\n",
      "Iteration 169, loss = 0.12463907\n",
      "Iteration 170, loss = 0.11220011\n",
      "Iteration 171, loss = 0.09205219\n",
      "Iteration 172, loss = 0.09395143\n",
      "Iteration 173, loss = 0.09018998\n",
      "Iteration 174, loss = 0.08733809\n",
      "Iteration 175, loss = 0.08869977\n",
      "Iteration 176, loss = 0.08164349\n",
      "Iteration 177, loss = 0.08403132\n",
      "Iteration 178, loss = 0.08166149\n",
      "Iteration 179, loss = 0.08210721\n",
      "Iteration 180, loss = 0.09216857\n",
      "Iteration 181, loss = 0.10758619\n",
      "Iteration 182, loss = 0.08715021\n",
      "Iteration 183, loss = 0.08582228\n",
      "Iteration 184, loss = 0.08481512\n",
      "Iteration 185, loss = 0.08506387\n",
      "Iteration 186, loss = 0.08282699\n",
      "Iteration 187, loss = 0.08580981\n",
      "Training loss did not improve more than tol=0.000100 for 10 consecutive epochs. Stopping.\n",
      "Iteration 1, loss = 3491.25061279\n",
      "Iteration 2, loss = 1145.44096358\n",
      "Iteration 3, loss = 742.88886792\n",
      "Iteration 4, loss = 201.61199512\n",
      "Iteration 5, loss = 367.65908284\n",
      "Iteration 6, loss = 33.07703622\n",
      "Iteration 7, loss = 141.70977572\n",
      "Iteration 8, loss = 14.33395925\n",
      "Iteration 9, loss = 49.93400361\n",
      "Iteration 10, loss = 6.74770728\n",
      "Iteration 11, loss = 18.14053853\n",
      "Iteration 12, loss = 2.54134583\n",
      "Iteration 13, loss = 6.85308487\n",
      "Iteration 14, loss = 1.04092793\n",
      "Iteration 15, loss = 2.59066772\n",
      "Iteration 16, loss = 0.70412189\n",
      "Iteration 17, loss = 0.86949520\n",
      "Iteration 18, loss = 0.59000798\n",
      "Iteration 19, loss = 0.36093267\n",
      "Iteration 20, loss = 0.42971793\n",
      "Iteration 21, loss = 0.28257100\n",
      "Iteration 22, loss = 0.29674977\n",
      "Iteration 23, loss = 0.28200297\n",
      "Iteration 24, loss = 0.25025488\n",
      "Iteration 25, loss = 0.26493740\n",
      "Iteration 26, loss = 0.24674466\n",
      "Iteration 27, loss = 0.24455799\n",
      "Iteration 28, loss = 0.23767718\n",
      "Iteration 29, loss = 0.23689443\n",
      "Iteration 30, loss = 0.23393850\n",
      "Iteration 31, loss = 0.23094181\n",
      "Iteration 32, loss = 0.22654281\n",
      "Iteration 33, loss = 0.22780201\n",
      "Iteration 34, loss = 0.21777185\n",
      "Iteration 35, loss = 0.21827927\n",
      "Iteration 36, loss = 0.20994373\n",
      "Iteration 37, loss = 0.20445236\n",
      "Iteration 38, loss = 0.19920642\n",
      "Iteration 39, loss = 0.20026460\n",
      "Iteration 40, loss = 0.20163152\n",
      "Iteration 41, loss = 0.18955971\n",
      "Iteration 42, loss = 0.18212029\n",
      "Iteration 43, loss = 0.18602204\n",
      "Iteration 44, loss = 0.17404805\n",
      "Iteration 45, loss = 0.16943699\n",
      "Iteration 46, loss = 0.16413416\n",
      "Iteration 47, loss = 0.15940062\n",
      "Iteration 48, loss = 0.15746258\n",
      "Iteration 49, loss = 0.15909127\n",
      "Iteration 50, loss = 0.15670082\n",
      "Iteration 51, loss = 0.15532684\n",
      "Iteration 52, loss = 0.14948852\n",
      "Iteration 53, loss = 0.14623087\n",
      "Iteration 54, loss = 0.14527207\n",
      "Iteration 55, loss = 0.14405922\n",
      "Iteration 56, loss = 0.14431086\n",
      "Iteration 57, loss = 0.13822013\n",
      "Iteration 58, loss = 0.13790005\n",
      "Iteration 59, loss = 0.13764971\n",
      "Iteration 60, loss = 0.13669446\n",
      "Iteration 61, loss = 0.14396022\n",
      "Iteration 62, loss = 0.14831121\n",
      "Iteration 63, loss = 0.14060502\n",
      "Iteration 64, loss = 0.14269930\n",
      "Iteration 65, loss = 0.13642441\n",
      "Iteration 66, loss = 0.14353066\n",
      "Iteration 67, loss = 0.13236006\n",
      "Iteration 68, loss = 0.12643815\n",
      "Iteration 69, loss = 0.13044049\n",
      "Iteration 70, loss = 0.13578343\n",
      "Iteration 71, loss = 0.12784016\n",
      "Iteration 72, loss = 0.12398093\n",
      "Iteration 73, loss = 0.11916278\n",
      "Iteration 74, loss = 0.11739347\n",
      "Iteration 75, loss = 0.11559034\n",
      "Iteration 76, loss = 0.11437905\n",
      "Iteration 77, loss = 0.11381420\n",
      "Iteration 78, loss = 0.11363103\n",
      "Iteration 79, loss = 0.11178186\n",
      "Iteration 80, loss = 0.11296232\n",
      "Iteration 81, loss = 0.10738878\n",
      "Iteration 82, loss = 0.10960595\n",
      "Iteration 83, loss = 0.10878779\n",
      "Iteration 84, loss = 0.10519076\n",
      "Iteration 85, loss = 0.10417386\n",
      "Iteration 86, loss = 0.10088855\n",
      "Iteration 87, loss = 0.09965966\n",
      "Iteration 88, loss = 0.09496317\n",
      "Iteration 89, loss = 0.09438459\n",
      "Iteration 90, loss = 0.09416258\n",
      "Iteration 91, loss = 0.09166139\n",
      "Iteration 92, loss = 0.08685590\n",
      "Iteration 93, loss = 0.08829748\n",
      "Iteration 94, loss = 0.08596219\n",
      "Iteration 95, loss = 0.08353435\n"
     ]
    },
    {
     "name": "stdout",
     "output_type": "stream",
     "text": [
      "Iteration 96, loss = 0.08014389\n",
      "Iteration 97, loss = 0.08025126\n",
      "Iteration 98, loss = 0.08029359\n",
      "Iteration 99, loss = 0.08409869\n",
      "Iteration 100, loss = 0.08597712\n",
      "Iteration 101, loss = 0.10731165\n",
      "Iteration 102, loss = 0.08518889\n",
      "Iteration 103, loss = 0.06968520\n",
      "Iteration 104, loss = 0.06855373\n",
      "Iteration 105, loss = 0.06670604\n",
      "Iteration 106, loss = 0.06549583\n",
      "Iteration 107, loss = 0.06586738\n",
      "Iteration 108, loss = 0.07139106\n",
      "Iteration 109, loss = 0.06573417\n",
      "Iteration 110, loss = 0.06040581\n",
      "Iteration 111, loss = 0.05864891\n",
      "Iteration 112, loss = 0.05588438\n",
      "Iteration 113, loss = 0.05410414\n",
      "Iteration 114, loss = 0.06458765\n",
      "Iteration 115, loss = 0.06449512\n",
      "Iteration 116, loss = 0.05903643\n",
      "Iteration 117, loss = 0.05098339\n",
      "Iteration 118, loss = 0.05507289\n",
      "Iteration 119, loss = 0.04770628\n",
      "Iteration 120, loss = 0.04586233\n",
      "Iteration 121, loss = 0.04860733\n",
      "Iteration 122, loss = 0.04382173\n",
      "Iteration 123, loss = 0.04285602\n",
      "Iteration 124, loss = 0.04910694\n",
      "Iteration 125, loss = 0.04801758\n",
      "Iteration 126, loss = 0.04058308\n",
      "Iteration 127, loss = 0.04116937\n",
      "Iteration 128, loss = 0.03968745\n",
      "Iteration 129, loss = 0.04122392\n",
      "Iteration 130, loss = 0.04623695\n",
      "Iteration 131, loss = 0.04320063\n",
      "Iteration 132, loss = 0.04064051\n",
      "Iteration 133, loss = 0.04167252\n",
      "Iteration 134, loss = 0.03777709\n",
      "Iteration 135, loss = 0.03803751\n",
      "Iteration 136, loss = 0.04053783\n",
      "Iteration 137, loss = 0.03922977\n",
      "Iteration 138, loss = 0.04221210\n",
      "Iteration 139, loss = 0.04392386\n",
      "Iteration 140, loss = 0.03326701\n",
      "Iteration 141, loss = 0.03407768\n",
      "Iteration 142, loss = 0.03662454\n",
      "Iteration 143, loss = 0.04146561\n",
      "Iteration 144, loss = 0.03465317\n",
      "Iteration 145, loss = 0.03328154\n",
      "Iteration 146, loss = 0.03147893\n",
      "Iteration 147, loss = 0.03140332\n",
      "Iteration 148, loss = 0.03564533\n",
      "Iteration 149, loss = 0.03469066\n",
      "Iteration 150, loss = 0.06704926\n",
      "Iteration 151, loss = 0.05067373\n",
      "Iteration 152, loss = 0.04151169\n",
      "Iteration 153, loss = 0.03497475\n",
      "Iteration 154, loss = 0.03521921\n",
      "Iteration 155, loss = 0.03620941\n",
      "Iteration 156, loss = 0.03514674\n",
      "Iteration 157, loss = 0.03031024\n",
      "Iteration 158, loss = 0.03166142\n",
      "Iteration 159, loss = 0.03008815\n",
      "Iteration 160, loss = 0.03754309\n",
      "Iteration 161, loss = 0.03558611\n",
      "Iteration 162, loss = 0.03270451\n",
      "Iteration 163, loss = 0.03908327\n",
      "Iteration 164, loss = 0.04040485\n",
      "Iteration 165, loss = 0.03474729\n",
      "Iteration 166, loss = 0.03905524\n",
      "Iteration 167, loss = 0.04116288\n",
      "Iteration 168, loss = 0.03229484\n",
      "Iteration 169, loss = 0.03173472\n",
      "Iteration 170, loss = 0.02808818\n",
      "Iteration 171, loss = 0.02890567\n",
      "Iteration 172, loss = 0.03022689\n",
      "Iteration 173, loss = 0.02824856\n",
      "Iteration 174, loss = 0.02781513\n",
      "Iteration 175, loss = 0.02964100\n",
      "Iteration 176, loss = 0.03026036\n",
      "Iteration 177, loss = 0.03047924\n",
      "Iteration 178, loss = 0.03302728\n",
      "Iteration 179, loss = 0.03437270\n",
      "Iteration 180, loss = 0.03171739\n",
      "Iteration 181, loss = 0.03117713\n",
      "Iteration 182, loss = 0.02844424\n",
      "Iteration 183, loss = 0.02998587\n",
      "Iteration 184, loss = 0.03369087\n",
      "Iteration 185, loss = 0.03534136\n",
      "Training loss did not improve more than tol=0.000100 for 10 consecutive epochs. Stopping.\n",
      "Iteration 1, loss = 2642.83053908\n",
      "Iteration 2, loss = 1055.33288492\n",
      "Iteration 3, loss = 584.32456542\n",
      "Iteration 4, loss = 337.55157182\n",
      "Iteration 5, loss = 200.44261478\n",
      "Iteration 6, loss = 119.90952715\n",
      "Iteration 7, loss = 70.35883358\n",
      "Iteration 8, loss = 40.81971322\n",
      "Iteration 9, loss = 24.01441398\n",
      "Iteration 10, loss = 13.82391072\n",
      "Iteration 11, loss = 7.26345803\n",
      "Iteration 12, loss = 3.80921132\n",
      "Iteration 13, loss = 2.18860174\n",
      "Iteration 14, loss = 0.93196124\n",
      "Iteration 15, loss = 0.61898105\n",
      "Iteration 16, loss = 0.27781908\n",
      "Iteration 17, loss = 0.20788195\n",
      "Iteration 18, loss = 0.20920805\n",
      "Iteration 19, loss = 0.18827242\n",
      "Iteration 20, loss = 0.18490830\n",
      "Iteration 21, loss = 0.19423769\n",
      "Iteration 22, loss = 0.17165332\n",
      "Iteration 23, loss = 0.15447136\n",
      "Iteration 24, loss = 0.15675261\n",
      "Iteration 25, loss = 0.14298433\n",
      "Iteration 26, loss = 0.15575504\n",
      "Iteration 27, loss = 0.14372448\n",
      "Iteration 28, loss = 0.14460774\n",
      "Iteration 29, loss = 0.16029122\n",
      "Iteration 30, loss = 0.13593520\n",
      "Iteration 31, loss = 0.13073776\n",
      "Iteration 32, loss = 0.14591390\n",
      "Iteration 33, loss = 0.16915510\n",
      "Iteration 34, loss = 0.13486045\n",
      "Iteration 35, loss = 0.14905095\n",
      "Iteration 36, loss = 0.13898568\n",
      "Iteration 37, loss = 0.13111433\n",
      "Iteration 38, loss = 0.13514830\n",
      "Iteration 39, loss = 0.13135590\n",
      "Iteration 40, loss = 0.12396950\n",
      "Iteration 41, loss = 0.12135891\n",
      "Iteration 42, loss = 0.12042580\n",
      "Iteration 43, loss = 0.11824706\n",
      "Iteration 44, loss = 0.15284446\n",
      "Iteration 45, loss = 0.14499947\n",
      "Iteration 46, loss = 0.12602442\n",
      "Iteration 47, loss = 0.12684285\n",
      "Iteration 48, loss = 0.11872768\n",
      "Iteration 49, loss = 0.11457706\n",
      "Iteration 50, loss = 0.11892393\n",
      "Iteration 51, loss = 0.12694814\n",
      "Iteration 52, loss = 0.12476674\n",
      "Iteration 53, loss = 0.13017813\n",
      "Iteration 54, loss = 0.11824015\n",
      "Iteration 55, loss = 0.13132193\n",
      "Iteration 56, loss = 0.12444472\n",
      "Iteration 57, loss = 0.12819989\n",
      "Iteration 58, loss = 0.12414779\n",
      "Iteration 59, loss = 0.11753697\n",
      "Iteration 60, loss = 0.11556490\n",
      "Training loss did not improve more than tol=0.000100 for 10 consecutive epochs. Stopping.\n",
      "Iteration 1, loss = 1606.91301516\n",
      "Iteration 2, loss = 683.05890212\n",
      "Iteration 3, loss = 326.71765231\n",
      "Iteration 4, loss = 188.34630975\n",
      "Iteration 5, loss = 108.21200760\n",
      "Iteration 6, loss = 66.97860665\n",
      "Iteration 7, loss = 42.76732724\n",
      "Iteration 8, loss = 27.29075416\n",
      "Iteration 9, loss = 17.69090860\n",
      "Iteration 10, loss = 11.37552009\n",
      "Iteration 11, loss = 5.71704449\n",
      "Iteration 12, loss = 1.78012441\n",
      "Iteration 13, loss = 0.97233006\n",
      "Iteration 14, loss = 0.60129699\n",
      "Iteration 15, loss = 0.34114283\n",
      "Iteration 16, loss = 0.24157931\n",
      "Iteration 17, loss = 0.18845966\n",
      "Iteration 18, loss = 0.14861101\n",
      "Iteration 19, loss = 0.14570024\n",
      "Iteration 20, loss = 0.12020954\n",
      "Iteration 21, loss = 0.14282079\n",
      "Iteration 22, loss = 0.11133820\n",
      "Iteration 23, loss = 0.21030348\n",
      "Iteration 24, loss = 0.15098708\n",
      "Iteration 25, loss = 0.09083969\n",
      "Iteration 26, loss = 0.08514707\n",
      "Iteration 27, loss = 0.08043790\n",
      "Iteration 28, loss = 0.06854700\n",
      "Iteration 29, loss = 0.06683135\n",
      "Iteration 30, loss = 0.06483628\n",
      "Iteration 31, loss = 0.06511432\n",
      "Iteration 32, loss = 0.05963064\n",
      "Iteration 33, loss = 0.05795311\n",
      "Iteration 34, loss = 0.06134385\n",
      "Iteration 35, loss = 0.05484152\n",
      "Iteration 36, loss = 0.05930504\n",
      "Iteration 37, loss = 0.06843803\n",
      "Iteration 38, loss = 0.07154149\n",
      "Iteration 39, loss = 0.06216739\n",
      "Iteration 40, loss = 0.06065148\n",
      "Iteration 41, loss = 0.05496388\n",
      "Iteration 42, loss = 0.05553494\n",
      "Iteration 43, loss = 0.05974372\n",
      "Iteration 44, loss = 0.05539075\n",
      "Iteration 45, loss = 0.04660077\n",
      "Iteration 46, loss = 0.04960119\n",
      "Iteration 47, loss = 0.05433112\n",
      "Iteration 48, loss = 0.05689425\n",
      "Iteration 49, loss = 0.06633225\n",
      "Iteration 50, loss = 0.05189425\n",
      "Iteration 51, loss = 0.04340846\n",
      "Iteration 52, loss = 0.04034980\n",
      "Iteration 53, loss = 0.03892691\n",
      "Iteration 54, loss = 0.04273892\n",
      "Iteration 55, loss = 0.04387705\n",
      "Iteration 56, loss = 0.04265289\n",
      "Iteration 57, loss = 0.04191950\n",
      "Iteration 58, loss = 0.03769535\n",
      "Iteration 59, loss = 0.03726378\n",
      "Iteration 60, loss = 0.03338529\n",
      "Iteration 61, loss = 0.03278303\n",
      "Iteration 62, loss = 0.05218409\n",
      "Iteration 63, loss = 0.05445206\n",
      "Iteration 64, loss = 0.03639485\n",
      "Iteration 65, loss = 0.03116376\n",
      "Iteration 66, loss = 0.02918211\n",
      "Iteration 67, loss = 0.02823542\n",
      "Iteration 68, loss = 0.02930902\n",
      "Iteration 69, loss = 0.02943738\n",
      "Iteration 70, loss = 0.05383579\n",
      "Iteration 71, loss = 0.03190894\n",
      "Iteration 72, loss = 0.02715131\n",
      "Iteration 73, loss = 0.02484320\n",
      "Iteration 74, loss = 0.02590238\n",
      "Iteration 75, loss = 0.02588568\n",
      "Iteration 76, loss = 0.03465319\n",
      "Iteration 77, loss = 0.02945787\n",
      "Iteration 78, loss = 0.04612155\n",
      "Iteration 79, loss = 0.02911997\n",
      "Iteration 80, loss = 0.03640526\n",
      "Iteration 81, loss = 0.02932139\n",
      "Iteration 82, loss = 0.02502093\n",
      "Iteration 83, loss = 0.02297775\n",
      "Iteration 84, loss = 0.03574550\n",
      "Iteration 85, loss = 0.03337361\n",
      "Iteration 86, loss = 0.03043899\n",
      "Iteration 87, loss = 0.02760743\n",
      "Iteration 88, loss = 0.02300087\n",
      "Iteration 89, loss = 0.02986247\n",
      "Iteration 90, loss = 0.03387124\n",
      "Iteration 91, loss = 0.05248903\n",
      "Iteration 92, loss = 0.04699532\n",
      "Iteration 93, loss = 0.03946008\n",
      "Iteration 94, loss = 0.02449258\n",
      "Training loss did not improve more than tol=0.000100 for 10 consecutive epochs. Stopping.\n",
      "Iteration 1, loss = 699.62421214\n",
      "Iteration 2, loss = 451.52470480\n",
      "Iteration 3, loss = 103.67954145\n",
      "Iteration 4, loss = 106.36743767\n",
      "Iteration 5, loss = 68.00701992\n",
      "Iteration 6, loss = 20.03767165\n",
      "Iteration 7, loss = 34.27595800\n",
      "Iteration 8, loss = 8.07733494\n",
      "Iteration 9, loss = 9.11091310\n",
      "Iteration 10, loss = 7.69478960\n",
      "Iteration 11, loss = 2.49506330\n",
      "Iteration 12, loss = 2.95045280\n",
      "Iteration 13, loss = 2.66754888\n",
      "Iteration 14, loss = 1.51161738\n",
      "Iteration 15, loss = 1.37627892\n",
      "Iteration 16, loss = 1.39503977\n",
      "Iteration 17, loss = 1.21835405\n",
      "Iteration 18, loss = 0.99774024\n",
      "Iteration 19, loss = 0.99426263\n",
      "Iteration 20, loss = 0.98345968\n",
      "Iteration 21, loss = 0.95109305\n",
      "Iteration 22, loss = 0.88691444\n",
      "Iteration 23, loss = 0.86714895\n",
      "Iteration 24, loss = 0.84932622\n",
      "Iteration 25, loss = 0.80148165\n",
      "Iteration 26, loss = 0.77710211\n",
      "Iteration 27, loss = 0.74408968\n",
      "Iteration 28, loss = 0.69924336\n",
      "Iteration 29, loss = 0.70001829\n",
      "Iteration 30, loss = 0.66793826\n",
      "Iteration 31, loss = 0.62111980\n",
      "Iteration 32, loss = 0.58319825\n",
      "Iteration 33, loss = 0.55795747\n",
      "Iteration 34, loss = 0.53312377\n",
      "Iteration 35, loss = 0.51061716\n",
      "Iteration 36, loss = 0.47639534\n",
      "Iteration 37, loss = 0.45866479\n",
      "Iteration 38, loss = 0.43200623\n",
      "Iteration 39, loss = 0.41801648\n",
      "Iteration 40, loss = 0.39487173\n",
      "Iteration 41, loss = 0.39392747\n",
      "Iteration 42, loss = 0.37401009\n",
      "Iteration 43, loss = 0.33758995\n",
      "Iteration 44, loss = 0.32686451\n",
      "Iteration 45, loss = 0.30650945\n"
     ]
    },
    {
     "name": "stdout",
     "output_type": "stream",
     "text": [
      "Iteration 46, loss = 0.29550775\n",
      "Iteration 47, loss = 0.28433897\n",
      "Iteration 48, loss = 0.28258421\n",
      "Iteration 49, loss = 0.27123106\n",
      "Iteration 50, loss = 0.26062748\n",
      "Iteration 51, loss = 0.27064578\n",
      "Iteration 52, loss = 0.25221445\n",
      "Iteration 53, loss = 0.24353459\n",
      "Iteration 54, loss = 0.24947405\n",
      "Iteration 55, loss = 0.23780032\n",
      "Iteration 56, loss = 0.23122400\n",
      "Iteration 57, loss = 0.24438309\n",
      "Iteration 58, loss = 0.24888622\n",
      "Iteration 59, loss = 0.23759978\n",
      "Iteration 60, loss = 0.23133119\n",
      "Iteration 61, loss = 0.21949268\n",
      "Iteration 62, loss = 0.21756143\n",
      "Iteration 63, loss = 0.22789330\n",
      "Iteration 64, loss = 0.21678653\n",
      "Iteration 65, loss = 0.21384635\n",
      "Iteration 66, loss = 0.21310794\n",
      "Iteration 67, loss = 0.20999985\n",
      "Iteration 68, loss = 0.20867441\n",
      "Iteration 69, loss = 0.20765238\n",
      "Iteration 70, loss = 0.20520307\n",
      "Iteration 71, loss = 0.20390012\n",
      "Iteration 72, loss = 0.20714587\n",
      "Iteration 73, loss = 0.20184429\n",
      "Iteration 74, loss = 0.20190253\n",
      "Iteration 75, loss = 0.19980403\n",
      "Iteration 76, loss = 0.19726976\n",
      "Iteration 77, loss = 0.20701818\n",
      "Iteration 78, loss = 0.19713010\n",
      "Iteration 79, loss = 0.19538628\n",
      "Iteration 80, loss = 0.19474933\n",
      "Iteration 81, loss = 0.19002338\n",
      "Iteration 82, loss = 0.19500734\n",
      "Iteration 83, loss = 0.19177711\n",
      "Iteration 84, loss = 0.18814229\n",
      "Iteration 85, loss = 0.19597191\n",
      "Iteration 86, loss = 0.18793104\n",
      "Iteration 87, loss = 0.19294046\n",
      "Iteration 88, loss = 0.18836675\n",
      "Iteration 89, loss = 0.18663939\n",
      "Iteration 90, loss = 0.18704337\n",
      "Iteration 91, loss = 0.18969615\n",
      "Iteration 92, loss = 0.18624901\n",
      "Iteration 93, loss = 0.19153400\n",
      "Iteration 94, loss = 0.19173316\n",
      "Iteration 95, loss = 0.18929844\n",
      "Iteration 96, loss = 0.18147989\n",
      "Iteration 97, loss = 0.18913097\n",
      "Iteration 98, loss = 0.17667932\n",
      "Iteration 99, loss = 0.17401242\n",
      "Iteration 100, loss = 0.18251590\n",
      "Iteration 101, loss = 0.17062780\n",
      "Iteration 102, loss = 0.16681634\n",
      "Iteration 103, loss = 0.17553321\n",
      "Iteration 104, loss = 0.17187870\n",
      "Iteration 105, loss = 0.16953492\n",
      "Iteration 106, loss = 0.16641655\n",
      "Iteration 107, loss = 0.17404599\n",
      "Iteration 108, loss = 0.18598232\n",
      "Iteration 109, loss = 0.19054642\n",
      "Iteration 110, loss = 0.17294336\n",
      "Iteration 111, loss = 0.15984997\n",
      "Iteration 112, loss = 0.16399560\n",
      "Iteration 113, loss = 0.16829582\n",
      "Iteration 114, loss = 0.15757838\n",
      "Iteration 115, loss = 0.15466729\n",
      "Iteration 116, loss = 0.16662977\n",
      "Iteration 117, loss = 0.15970644\n",
      "Iteration 118, loss = 0.15390304\n",
      "Iteration 119, loss = 0.14974721\n",
      "Iteration 120, loss = 0.14885333\n",
      "Iteration 121, loss = 0.14978759\n",
      "Iteration 122, loss = 0.14886479\n",
      "Iteration 123, loss = 0.14911493\n",
      "Iteration 124, loss = 0.14104279\n",
      "Iteration 125, loss = 0.13922019\n",
      "Iteration 126, loss = 0.14468859\n",
      "Iteration 127, loss = 0.14211830\n",
      "Iteration 128, loss = 0.13734001\n",
      "Iteration 129, loss = 0.14970125\n",
      "Iteration 130, loss = 0.13794936\n",
      "Iteration 131, loss = 0.13924396\n",
      "Iteration 132, loss = 0.13680283\n",
      "Iteration 133, loss = 0.13588762\n",
      "Iteration 134, loss = 0.13174879\n",
      "Iteration 135, loss = 0.13448892\n",
      "Iteration 136, loss = 0.13492525\n",
      "Iteration 137, loss = 0.12694336\n",
      "Iteration 138, loss = 0.13048212\n",
      "Iteration 139, loss = 0.12550126\n",
      "Iteration 140, loss = 0.13226316\n",
      "Iteration 141, loss = 0.13268481\n",
      "Iteration 142, loss = 0.11967999\n",
      "Iteration 143, loss = 0.12045003\n",
      "Iteration 144, loss = 0.12236097\n",
      "Iteration 145, loss = 0.12737549\n",
      "Iteration 146, loss = 0.12234928\n",
      "Iteration 147, loss = 0.13949416\n",
      "Iteration 148, loss = 0.11800810\n",
      "Iteration 149, loss = 0.10961796\n",
      "Iteration 150, loss = 0.11507788\n",
      "Iteration 151, loss = 0.11346923\n",
      "Iteration 152, loss = 0.10788452\n",
      "Iteration 153, loss = 0.10786979\n",
      "Iteration 154, loss = 0.10777303\n",
      "Iteration 155, loss = 0.11793906\n",
      "Iteration 156, loss = 0.11124763\n",
      "Iteration 157, loss = 0.11366862\n",
      "Iteration 158, loss = 0.10255152\n",
      "Iteration 159, loss = 0.10274844\n",
      "Iteration 160, loss = 0.10338729\n",
      "Iteration 161, loss = 0.10542022\n",
      "Iteration 162, loss = 0.09697213\n",
      "Iteration 163, loss = 0.10464477\n",
      "Iteration 164, loss = 0.11308757\n",
      "Iteration 165, loss = 0.11714680\n",
      "Iteration 166, loss = 0.10127594\n",
      "Iteration 167, loss = 0.09479671\n",
      "Iteration 168, loss = 0.09520490\n",
      "Iteration 169, loss = 0.09608306\n",
      "Iteration 170, loss = 0.09278408\n",
      "Iteration 171, loss = 0.09392349\n",
      "Iteration 172, loss = 0.09368397\n",
      "Iteration 173, loss = 0.09668288\n",
      "Iteration 174, loss = 0.10885319\n",
      "Iteration 175, loss = 0.10930097\n",
      "Iteration 176, loss = 0.10086400\n",
      "Iteration 177, loss = 0.09234300\n",
      "Iteration 178, loss = 0.09245655\n",
      "Iteration 179, loss = 0.09939958\n",
      "Iteration 180, loss = 0.09285573\n",
      "Iteration 181, loss = 0.09504811\n",
      "Iteration 182, loss = 0.09435424\n",
      "Iteration 183, loss = 0.09198556\n",
      "Iteration 184, loss = 0.10241446\n",
      "Iteration 185, loss = 0.09139643\n",
      "Iteration 186, loss = 0.09115771\n",
      "Iteration 187, loss = 0.09629780\n",
      "Iteration 188, loss = 0.10070275\n",
      "Iteration 189, loss = 0.08657297\n",
      "Iteration 190, loss = 0.09577302\n",
      "Iteration 191, loss = 0.12435215\n",
      "Iteration 192, loss = 0.13822766\n",
      "Iteration 193, loss = 0.12112050\n",
      "Iteration 194, loss = 0.10590812\n",
      "Iteration 195, loss = 0.10602133\n",
      "Iteration 196, loss = 0.09397004\n",
      "Iteration 197, loss = 0.08266692\n",
      "Iteration 198, loss = 0.08432955\n",
      "Iteration 199, loss = 0.08848105\n",
      "Iteration 200, loss = 0.08179296\n",
      "Iteration 1, loss = 3297.25359658\n",
      "Iteration 2, loss = 409.83492629\n",
      "Iteration 3, loss = 966.93766441\n",
      "Iteration 4, loss = 91.79237256\n",
      "Iteration 5, loss = 238.95784270\n",
      "Iteration 6, loss = 145.40230134\n",
      "Iteration 7, loss = 24.50442077\n",
      "Iteration 8, loss = 75.93472115\n",
      "Iteration 9, loss = 7.61385340\n",
      "Iteration 10, loss = 24.41737303\n",
      "Iteration 11, loss = 6.64419609\n",
      "Iteration 12, loss = 6.89342064\n",
      "Iteration 13, loss = 3.72844256\n",
      "Iteration 14, loss = 2.32547029\n",
      "Iteration 15, loss = 1.83944785\n",
      "Iteration 16, loss = 1.02200434\n",
      "Iteration 17, loss = 0.82616387\n",
      "Iteration 18, loss = 0.73762937\n",
      "Iteration 19, loss = 0.45811906\n",
      "Iteration 20, loss = 0.50302964\n",
      "Iteration 21, loss = 0.43514046\n",
      "Iteration 22, loss = 0.41052366\n",
      "Iteration 23, loss = 0.41144939\n",
      "Iteration 24, loss = 0.38890089\n",
      "Iteration 25, loss = 0.38437357\n",
      "Iteration 26, loss = 0.37687167\n",
      "Iteration 27, loss = 0.37236179\n",
      "Iteration 28, loss = 0.36906396\n",
      "Iteration 29, loss = 0.36689474\n",
      "Iteration 30, loss = 0.35629433\n",
      "Iteration 31, loss = 0.35381394\n",
      "Iteration 32, loss = 0.34590221\n",
      "Iteration 33, loss = 0.34191554\n",
      "Iteration 34, loss = 0.33522513\n",
      "Iteration 35, loss = 0.32910658\n",
      "Iteration 36, loss = 0.32441892\n",
      "Iteration 37, loss = 0.31919338\n",
      "Iteration 38, loss = 0.31428499\n",
      "Iteration 39, loss = 0.31730173\n",
      "Iteration 40, loss = 0.30577669\n",
      "Iteration 41, loss = 0.29809968\n",
      "Iteration 42, loss = 0.29661880\n",
      "Iteration 43, loss = 0.29082609\n",
      "Iteration 44, loss = 0.28626059\n",
      "Iteration 45, loss = 0.28047471\n",
      "Iteration 46, loss = 0.27527723\n",
      "Iteration 47, loss = 0.26929882\n",
      "Iteration 48, loss = 0.26470184\n",
      "Iteration 49, loss = 0.26014953\n",
      "Iteration 50, loss = 0.25522861\n",
      "Iteration 51, loss = 0.25100435\n",
      "Iteration 52, loss = 0.24888247\n",
      "Iteration 53, loss = 0.24691196\n",
      "Iteration 54, loss = 0.24298434\n",
      "Iteration 55, loss = 0.23758481\n",
      "Iteration 56, loss = 0.23526314\n",
      "Iteration 57, loss = 0.22767461\n",
      "Iteration 58, loss = 0.22378310\n",
      "Iteration 59, loss = 0.22081217\n",
      "Iteration 60, loss = 0.21705071\n",
      "Iteration 61, loss = 0.21540768\n",
      "Iteration 62, loss = 0.21380207\n",
      "Iteration 63, loss = 0.21058686\n",
      "Iteration 64, loss = 0.20619035\n",
      "Iteration 65, loss = 0.20346053\n",
      "Iteration 66, loss = 0.20186438\n",
      "Iteration 67, loss = 0.20187985\n",
      "Iteration 68, loss = 0.20248035\n",
      "Iteration 69, loss = 0.19597043\n",
      "Iteration 70, loss = 0.19339861\n",
      "Iteration 71, loss = 0.19159868\n",
      "Iteration 72, loss = 0.19224478\n",
      "Iteration 73, loss = 0.18913027\n",
      "Iteration 74, loss = 0.18963190\n",
      "Iteration 75, loss = 0.18619887\n",
      "Iteration 76, loss = 0.18568440\n",
      "Iteration 77, loss = 0.18509777\n",
      "Iteration 78, loss = 0.18682450\n",
      "Iteration 79, loss = 0.18740267\n",
      "Iteration 80, loss = 0.18568233\n",
      "Iteration 81, loss = 0.18724648\n",
      "Iteration 82, loss = 0.18526201\n",
      "Iteration 83, loss = 0.18145365\n",
      "Iteration 84, loss = 0.17968982\n",
      "Iteration 85, loss = 0.17893103\n",
      "Iteration 86, loss = 0.18132430\n",
      "Iteration 87, loss = 0.18670327\n",
      "Iteration 88, loss = 0.17942037\n",
      "Iteration 89, loss = 0.17539701\n",
      "Iteration 90, loss = 0.17346495\n",
      "Iteration 91, loss = 0.17324212\n",
      "Iteration 92, loss = 0.17273465\n",
      "Iteration 93, loss = 0.17224880\n",
      "Iteration 94, loss = 0.17095965\n",
      "Iteration 95, loss = 0.17000730\n",
      "Iteration 96, loss = 0.16915932\n",
      "Iteration 97, loss = 0.17075153\n",
      "Iteration 98, loss = 0.16883640\n",
      "Iteration 99, loss = 0.16865410\n",
      "Iteration 100, loss = 0.16779126\n",
      "Iteration 101, loss = 0.17588267\n",
      "Iteration 102, loss = 0.16988032\n",
      "Iteration 103, loss = 0.16844722\n",
      "Iteration 104, loss = 0.16796538\n",
      "Iteration 105, loss = 0.16495587\n",
      "Iteration 106, loss = 0.16705954\n",
      "Iteration 107, loss = 0.16917237\n",
      "Iteration 108, loss = 0.16876867\n",
      "Iteration 109, loss = 0.16185002\n",
      "Iteration 110, loss = 0.16570974\n",
      "Iteration 111, loss = 0.16097055\n",
      "Iteration 112, loss = 0.16008285\n",
      "Iteration 113, loss = 0.15964669\n",
      "Iteration 114, loss = 0.16385562\n",
      "Iteration 115, loss = 0.16662548\n",
      "Iteration 116, loss = 0.16337237\n",
      "Iteration 117, loss = 0.16159330\n",
      "Iteration 118, loss = 0.16658269\n",
      "Iteration 119, loss = 0.16235073\n",
      "Iteration 120, loss = 0.15931046\n",
      "Iteration 121, loss = 0.15441313\n",
      "Iteration 122, loss = 0.15598937\n",
      "Iteration 123, loss = 0.15757846\n",
      "Iteration 124, loss = 0.15989907\n",
      "Iteration 125, loss = 0.15934860\n",
      "Iteration 126, loss = 0.15212368\n",
      "Iteration 127, loss = 0.15102689\n",
      "Iteration 128, loss = 0.15043986\n",
      "Iteration 129, loss = 0.15245810\n",
      "Iteration 130, loss = 0.15184728\n",
      "Iteration 131, loss = 0.14934421\n",
      "Iteration 132, loss = 0.14726469\n",
      "Iteration 133, loss = 0.14726760\n",
      "Iteration 134, loss = 0.14876798\n",
      "Iteration 135, loss = 0.14934368\n",
      "Iteration 136, loss = 0.14859047\n",
      "Iteration 137, loss = 0.14532427\n",
      "Iteration 138, loss = 0.14754118\n",
      "Iteration 139, loss = 0.14325492\n",
      "Iteration 140, loss = 0.14230882\n",
      "Iteration 141, loss = 0.14282279\n",
      "Iteration 142, loss = 0.14244592\n",
      "Iteration 143, loss = 0.14458740\n",
      "Iteration 144, loss = 0.14201729\n",
      "Iteration 145, loss = 0.13942600\n",
      "Iteration 146, loss = 0.13859639\n",
      "Iteration 147, loss = 0.13780065\n",
      "Iteration 148, loss = 0.13776378\n",
      "Iteration 149, loss = 0.13785163\n",
      "Iteration 150, loss = 0.13795573\n",
      "Iteration 151, loss = 0.13718532\n",
      "Iteration 152, loss = 0.13523248\n",
      "Iteration 153, loss = 0.13511976\n",
      "Iteration 154, loss = 0.13510402\n",
      "Iteration 155, loss = 0.13467793\n",
      "Iteration 156, loss = 0.13584977\n",
      "Iteration 157, loss = 0.13191525\n",
      "Iteration 158, loss = 0.13070222\n"
     ]
    },
    {
     "name": "stdout",
     "output_type": "stream",
     "text": [
      "Iteration 159, loss = 0.13166178\n",
      "Iteration 160, loss = 0.13034783\n",
      "Iteration 161, loss = 0.12947251\n",
      "Iteration 162, loss = 0.12888987\n",
      "Iteration 163, loss = 0.12989497\n",
      "Iteration 164, loss = 0.12763459\n",
      "Iteration 165, loss = 0.12799664\n",
      "Iteration 166, loss = 0.13313966\n",
      "Iteration 167, loss = 0.13172466\n",
      "Iteration 168, loss = 0.12958065\n",
      "Iteration 169, loss = 0.12593195\n",
      "Iteration 170, loss = 0.12765004\n",
      "Iteration 171, loss = 0.12533005\n",
      "Iteration 172, loss = 0.12987618\n",
      "Iteration 173, loss = 0.12490484\n",
      "Iteration 174, loss = 0.12693961\n",
      "Iteration 175, loss = 0.12394100\n",
      "Iteration 176, loss = 0.12492273\n",
      "Iteration 177, loss = 0.11986500\n",
      "Iteration 178, loss = 0.12794991\n",
      "Iteration 179, loss = 0.12320197\n",
      "Iteration 180, loss = 0.12286710\n",
      "Iteration 181, loss = 0.12595878\n",
      "Iteration 182, loss = 0.12296432\n",
      "Iteration 183, loss = 0.11888071\n",
      "Iteration 184, loss = 0.11753011\n",
      "Iteration 185, loss = 0.11528351\n",
      "Iteration 186, loss = 0.11356516\n",
      "Iteration 187, loss = 0.11386840\n",
      "Iteration 188, loss = 0.11503150\n",
      "Iteration 189, loss = 0.11252971\n",
      "Iteration 190, loss = 0.12027442\n",
      "Iteration 191, loss = 0.11770174\n",
      "Iteration 192, loss = 0.11706520\n",
      "Iteration 193, loss = 0.11208290\n",
      "Iteration 194, loss = 0.11214290\n",
      "Iteration 195, loss = 0.11073573\n",
      "Iteration 196, loss = 0.11134182\n",
      "Iteration 197, loss = 0.10806654\n",
      "Iteration 198, loss = 0.10912169\n",
      "Iteration 199, loss = 0.10660479\n",
      "Iteration 200, loss = 0.10726185\n",
      "Iteration 1, loss = 705.92507882\n",
      "Iteration 2, loss = 412.25890870\n",
      "Iteration 3, loss = 160.77693689\n",
      "Iteration 4, loss = 62.64186783\n",
      "Iteration 5, loss = 90.51568294\n",
      "Iteration 6, loss = 15.56256734\n",
      "Iteration 7, loss = 27.35227124\n",
      "Iteration 8, loss = 15.66006640\n",
      "Iteration 9, loss = 4.10463265\n",
      "Iteration 10, loss = 6.50920558\n",
      "Iteration 11, loss = 3.96617885\n",
      "Iteration 12, loss = 1.22786618\n",
      "Iteration 13, loss = 1.10059501\n",
      "Iteration 14, loss = 1.07899723\n",
      "Iteration 15, loss = 0.66633089\n",
      "Iteration 16, loss = 0.42583562\n",
      "Iteration 17, loss = 0.39662647\n",
      "Iteration 18, loss = 0.40340843\n",
      "Iteration 19, loss = 0.37295203\n",
      "Iteration 20, loss = 0.33075098\n",
      "Iteration 21, loss = 0.31333020\n",
      "Iteration 22, loss = 0.29868710\n",
      "Iteration 23, loss = 0.29695499\n",
      "Iteration 24, loss = 0.28699024\n",
      "Iteration 25, loss = 0.28148399\n",
      "Iteration 26, loss = 0.27701421\n",
      "Iteration 27, loss = 0.27415582\n",
      "Iteration 28, loss = 0.26610176\n",
      "Iteration 29, loss = 0.26178979\n",
      "Iteration 30, loss = 0.25950725\n",
      "Iteration 31, loss = 0.25520374\n",
      "Iteration 32, loss = 0.25630763\n",
      "Iteration 33, loss = 0.24966690\n",
      "Iteration 34, loss = 0.24278917\n",
      "Iteration 35, loss = 0.23604174\n",
      "Iteration 36, loss = 0.23010386\n",
      "Iteration 37, loss = 0.22547690\n",
      "Iteration 38, loss = 0.22163652\n",
      "Iteration 39, loss = 0.22060699\n",
      "Iteration 40, loss = 0.20956759\n",
      "Iteration 41, loss = 0.20557356\n",
      "Iteration 42, loss = 0.20190404\n",
      "Iteration 43, loss = 0.19313761\n",
      "Iteration 44, loss = 0.18893444\n",
      "Iteration 45, loss = 0.18407981\n",
      "Iteration 46, loss = 0.16906211\n",
      "Iteration 47, loss = 0.16289519\n",
      "Iteration 48, loss = 0.16120968\n",
      "Iteration 49, loss = 0.15454455\n",
      "Iteration 50, loss = 0.15146037\n",
      "Iteration 51, loss = 0.14584108\n",
      "Iteration 52, loss = 0.13713181\n",
      "Iteration 53, loss = 0.13739294\n",
      "Iteration 54, loss = 0.14104568\n",
      "Iteration 55, loss = 0.14662565\n",
      "Iteration 56, loss = 0.17814400\n",
      "Iteration 57, loss = 0.15562834\n",
      "Iteration 58, loss = 0.14066261\n",
      "Iteration 59, loss = 0.14370877\n",
      "Iteration 60, loss = 0.12946818\n",
      "Iteration 61, loss = 0.12512206\n",
      "Iteration 62, loss = 0.13264999\n",
      "Iteration 63, loss = 0.12739515\n",
      "Iteration 64, loss = 0.12809298\n",
      "Iteration 65, loss = 0.13337433\n",
      "Iteration 66, loss = 0.14223493\n",
      "Iteration 67, loss = 0.14687389\n",
      "Iteration 68, loss = 0.13932620\n",
      "Iteration 69, loss = 0.12978764\n",
      "Iteration 70, loss = 0.12857274\n",
      "Iteration 71, loss = 0.12946220\n",
      "Iteration 72, loss = 0.13566934\n",
      "Training loss did not improve more than tol=0.000100 for 10 consecutive epochs. Stopping.\n",
      "Iteration 1, loss = 8456.80064471\n",
      "Iteration 2, loss = 475.30042632\n",
      "Iteration 3, loss = 2210.36527810\n",
      "Iteration 4, loss = 632.79860674\n",
      "Iteration 5, loss = 186.28961065\n",
      "Iteration 6, loss = 493.82405977\n",
      "Iteration 7, loss = 78.93892212\n",
      "Iteration 8, loss = 91.86716979\n",
      "Iteration 9, loss = 95.13403841\n",
      "Iteration 10, loss = 8.44431099\n",
      "Iteration 11, loss = 38.52344249\n",
      "Iteration 12, loss = 6.77552136\n",
      "Iteration 13, loss = 10.32153188\n",
      "Iteration 14, loss = 5.10054351\n",
      "Iteration 15, loss = 2.94016823\n",
      "Iteration 16, loss = 2.18489340\n",
      "Iteration 17, loss = 1.84996675\n",
      "Iteration 18, loss = 1.07686304\n",
      "Iteration 19, loss = 1.30166758\n",
      "Iteration 20, loss = 1.00418280\n",
      "Iteration 21, loss = 0.90531261\n",
      "Iteration 22, loss = 0.91940125\n",
      "Iteration 23, loss = 0.87832473\n",
      "Iteration 24, loss = 0.83893177\n",
      "Iteration 25, loss = 0.83249613\n",
      "Iteration 26, loss = 0.79640499\n",
      "Iteration 27, loss = 0.77049563\n",
      "Iteration 28, loss = 0.74453896\n",
      "Iteration 29, loss = 0.71944682\n",
      "Iteration 30, loss = 0.68350099\n",
      "Iteration 31, loss = 0.65400372\n",
      "Iteration 32, loss = 0.61581030\n",
      "Iteration 33, loss = 0.58134034\n",
      "Iteration 34, loss = 0.54776301\n",
      "Iteration 35, loss = 0.51252006\n",
      "Iteration 36, loss = 0.47443575\n",
      "Iteration 37, loss = 0.44224432\n",
      "Iteration 38, loss = 0.41548023\n",
      "Iteration 39, loss = 0.39101437\n",
      "Iteration 40, loss = 0.36938198\n",
      "Iteration 41, loss = 0.32473302\n",
      "Iteration 42, loss = 0.30243517\n",
      "Iteration 43, loss = 0.27984379\n",
      "Iteration 44, loss = 0.26159510\n",
      "Iteration 45, loss = 0.22317578\n",
      "Iteration 46, loss = 0.20897818\n",
      "Iteration 47, loss = 0.19822236\n",
      "Iteration 48, loss = 0.17177694\n",
      "Iteration 49, loss = 0.16935609\n",
      "Iteration 50, loss = 0.14290803\n",
      "Iteration 51, loss = 0.14446254\n",
      "Iteration 52, loss = 0.11952200\n",
      "Iteration 53, loss = 0.11053475\n",
      "Iteration 54, loss = 0.10301601\n",
      "Iteration 55, loss = 0.09746046\n",
      "Iteration 56, loss = 0.09192259\n",
      "Iteration 57, loss = 0.09180239\n",
      "Iteration 58, loss = 0.08550516\n",
      "Iteration 59, loss = 0.08771138\n",
      "Iteration 60, loss = 0.08115188\n",
      "Iteration 61, loss = 0.08180721\n",
      "Iteration 62, loss = 0.07986854\n",
      "Iteration 63, loss = 0.08069403\n",
      "Iteration 64, loss = 0.07671157\n",
      "Iteration 65, loss = 0.07630197\n",
      "Iteration 66, loss = 0.11166902\n",
      "Iteration 67, loss = 0.09299912\n",
      "Iteration 68, loss = 0.08040272\n",
      "Iteration 69, loss = 0.07565848\n",
      "Iteration 70, loss = 0.07271963\n",
      "Iteration 71, loss = 0.07254969\n",
      "Iteration 72, loss = 0.07115883\n",
      "Iteration 73, loss = 0.06931761\n",
      "Iteration 74, loss = 0.06851860\n",
      "Iteration 75, loss = 0.07007110\n",
      "Iteration 76, loss = 0.06821736\n",
      "Iteration 77, loss = 0.06865976\n",
      "Iteration 78, loss = 0.06699243\n",
      "Iteration 79, loss = 0.06669448\n",
      "Iteration 80, loss = 0.06482679\n",
      "Iteration 81, loss = 0.06599721\n",
      "Iteration 82, loss = 0.06269220\n",
      "Iteration 83, loss = 0.06293751\n",
      "Iteration 84, loss = 0.06187017\n",
      "Iteration 85, loss = 0.06105840\n",
      "Iteration 86, loss = 0.06779219\n",
      "Iteration 87, loss = 0.06344793\n",
      "Iteration 88, loss = 0.06062624\n",
      "Iteration 89, loss = 0.05836511\n",
      "Iteration 90, loss = 0.05771163\n",
      "Iteration 91, loss = 0.05678566\n",
      "Iteration 92, loss = 0.05777859\n",
      "Iteration 93, loss = 0.05568539\n",
      "Iteration 94, loss = 0.05558918\n",
      "Iteration 95, loss = 0.05371983\n",
      "Iteration 96, loss = 0.05498590\n",
      "Iteration 97, loss = 0.05405714\n",
      "Iteration 98, loss = 0.05398663\n",
      "Iteration 99, loss = 0.05481847\n",
      "Iteration 100, loss = 0.05513797\n",
      "Iteration 101, loss = 0.05491371\n",
      "Iteration 102, loss = 0.05269163\n",
      "Iteration 103, loss = 0.05319511\n",
      "Iteration 104, loss = 0.05263662\n",
      "Iteration 105, loss = 0.05899646\n",
      "Iteration 106, loss = 0.05419298\n",
      "Iteration 107, loss = 0.04854851\n",
      "Iteration 108, loss = 0.04784149\n",
      "Iteration 109, loss = 0.06294440\n",
      "Iteration 110, loss = 0.05187792\n",
      "Iteration 111, loss = 0.05177978\n",
      "Iteration 112, loss = 0.06161997\n",
      "Iteration 113, loss = 0.05482778\n",
      "Iteration 114, loss = 0.05017393\n",
      "Iteration 115, loss = 0.04933205\n",
      "Iteration 116, loss = 0.04554902\n",
      "Iteration 117, loss = 0.05248397\n",
      "Iteration 118, loss = 0.04522706\n",
      "Iteration 119, loss = 0.04280323\n",
      "Iteration 120, loss = 0.04259200\n",
      "Iteration 121, loss = 0.04320407\n",
      "Iteration 122, loss = 0.04277330\n",
      "Iteration 123, loss = 0.04274998\n",
      "Iteration 124, loss = 0.04137146\n",
      "Iteration 125, loss = 0.04138076\n",
      "Iteration 126, loss = 0.04253268\n",
      "Iteration 127, loss = 0.04580757\n",
      "Iteration 128, loss = 0.04784811\n",
      "Iteration 129, loss = 0.04077199\n",
      "Iteration 130, loss = 0.03889316\n",
      "Iteration 131, loss = 0.03995989\n",
      "Iteration 132, loss = 0.03842297\n",
      "Iteration 133, loss = 0.04232319\n",
      "Iteration 134, loss = 0.03882600\n",
      "Iteration 135, loss = 0.04081354\n",
      "Iteration 136, loss = 0.04116603\n",
      "Iteration 137, loss = 0.04414642\n",
      "Iteration 138, loss = 0.03751678\n",
      "Iteration 139, loss = 0.03696788\n",
      "Iteration 140, loss = 0.04100023\n",
      "Iteration 141, loss = 0.03658883\n",
      "Iteration 142, loss = 0.03794805\n",
      "Iteration 143, loss = 0.03857338\n",
      "Iteration 144, loss = 0.04135259\n",
      "Iteration 145, loss = 0.03600210\n",
      "Iteration 146, loss = 0.03639621\n",
      "Iteration 147, loss = 0.03452097\n",
      "Iteration 148, loss = 0.03516748\n",
      "Iteration 149, loss = 0.03464126\n",
      "Iteration 150, loss = 0.03947936\n",
      "Iteration 151, loss = 0.03861018\n",
      "Iteration 152, loss = 0.03790845\n",
      "Iteration 153, loss = 0.03400478\n",
      "Iteration 154, loss = 0.03350792\n",
      "Iteration 155, loss = 0.03459284\n",
      "Iteration 156, loss = 0.03357143\n",
      "Iteration 157, loss = 0.03409782\n",
      "Iteration 158, loss = 0.03506983\n",
      "Iteration 159, loss = 0.03515879\n",
      "Iteration 160, loss = 0.03316379\n",
      "Iteration 161, loss = 0.03568598\n",
      "Iteration 162, loss = 0.03268032\n",
      "Iteration 163, loss = 0.03390448\n",
      "Iteration 164, loss = 0.03286777\n",
      "Iteration 165, loss = 0.03473040\n",
      "Iteration 166, loss = 0.03701074\n",
      "Iteration 167, loss = 0.03486337\n",
      "Iteration 168, loss = 0.03428924\n",
      "Iteration 169, loss = 0.03210940\n",
      "Iteration 170, loss = 0.03299988\n",
      "Iteration 171, loss = 0.03347387\n",
      "Iteration 172, loss = 0.03358550\n",
      "Iteration 173, loss = 0.04311183\n",
      "Iteration 174, loss = 0.04118117\n",
      "Iteration 175, loss = 0.04087097\n",
      "Iteration 176, loss = 0.03540606\n",
      "Iteration 177, loss = 0.03528229\n",
      "Iteration 178, loss = 0.03493496\n"
     ]
    },
    {
     "name": "stdout",
     "output_type": "stream",
     "text": [
      "Iteration 179, loss = 0.03631346\n",
      "Iteration 180, loss = 0.03932584\n",
      "Training loss did not improve more than tol=0.000100 for 10 consecutive epochs. Stopping.\n",
      "Iteration 1, loss = 2113.15343608\n",
      "Iteration 2, loss = 854.28958678\n",
      "Iteration 3, loss = 397.75687945\n",
      "Iteration 4, loss = 218.75980640\n",
      "Iteration 5, loss = 130.84713596\n",
      "Iteration 6, loss = 81.30787689\n",
      "Iteration 7, loss = 50.93264115\n",
      "Iteration 8, loss = 33.77261648\n",
      "Iteration 9, loss = 21.81609580\n",
      "Iteration 10, loss = 15.07879318\n",
      "Iteration 11, loss = 8.44506573\n",
      "Iteration 12, loss = 3.86575597\n",
      "Iteration 13, loss = 2.63508511\n",
      "Iteration 14, loss = 1.69418265\n",
      "Iteration 15, loss = 1.10072212\n",
      "Iteration 16, loss = 0.73671374\n",
      "Iteration 17, loss = 0.66003595\n",
      "Iteration 18, loss = 0.63261253\n",
      "Iteration 19, loss = 0.67100033\n",
      "Iteration 20, loss = 0.49590117\n",
      "Iteration 21, loss = 0.48150422\n",
      "Iteration 22, loss = 0.40133973\n",
      "Iteration 23, loss = 0.34952395\n",
      "Iteration 24, loss = 0.33677478\n",
      "Iteration 25, loss = 0.27399412\n",
      "Iteration 26, loss = 0.24231156\n",
      "Iteration 27, loss = 0.18394384\n",
      "Iteration 28, loss = 0.17230650\n",
      "Iteration 29, loss = 0.16522778\n",
      "Iteration 30, loss = 0.18112462\n",
      "Iteration 31, loss = 0.19810134\n",
      "Iteration 32, loss = 0.26475908\n",
      "Iteration 33, loss = 0.22208084\n",
      "Iteration 34, loss = 0.16718170\n",
      "Iteration 35, loss = 0.14513252\n",
      "Iteration 36, loss = 0.13876135\n",
      "Iteration 37, loss = 0.16993558\n",
      "Iteration 38, loss = 0.16271809\n",
      "Iteration 39, loss = 0.19242523\n",
      "Iteration 40, loss = 0.14777320\n",
      "Iteration 41, loss = 0.12913237\n",
      "Iteration 42, loss = 0.12699158\n",
      "Iteration 43, loss = 0.13610655\n",
      "Iteration 44, loss = 0.12567739\n",
      "Iteration 45, loss = 0.13658723\n",
      "Iteration 46, loss = 0.16038874\n",
      "Iteration 47, loss = 0.13869240\n",
      "Iteration 48, loss = 0.14201742\n",
      "Iteration 49, loss = 0.17451112\n",
      "Iteration 50, loss = 0.25679366\n",
      "Iteration 51, loss = 0.19680859\n",
      "Iteration 52, loss = 0.15745767\n",
      "Iteration 53, loss = 0.13239774\n",
      "Iteration 54, loss = 0.15998676\n",
      "Iteration 55, loss = 0.16700087\n",
      "Training loss did not improve more than tol=0.000100 for 10 consecutive epochs. Stopping.\n",
      "Iteration 1, loss = 7733.02083790\n",
      "Iteration 2, loss = 2646.52698746\n",
      "Iteration 3, loss = 2520.57659067\n",
      "Iteration 4, loss = 605.34019559\n",
      "Iteration 5, loss = 502.43152863\n",
      "Iteration 6, loss = 515.20304952\n",
      "Iteration 7, loss = 122.80393502\n",
      "Iteration 8, loss = 112.36503911\n",
      "Iteration 9, loss = 113.76402124\n",
      "Iteration 10, loss = 38.85562290\n",
      "Iteration 11, loss = 16.45553795\n",
      "Iteration 12, loss = 10.56930380\n",
      "Iteration 13, loss = 4.53234051\n",
      "Iteration 14, loss = 3.03865673\n",
      "Iteration 15, loss = 1.55882360\n",
      "Iteration 16, loss = 0.80423671\n",
      "Iteration 17, loss = 0.69462655\n",
      "Iteration 18, loss = 0.67912836\n",
      "Iteration 19, loss = 0.71207154\n",
      "Iteration 20, loss = 0.65377100\n",
      "Iteration 21, loss = 0.50933212\n",
      "Iteration 22, loss = 0.47261858\n",
      "Iteration 23, loss = 0.43740339\n",
      "Iteration 24, loss = 0.46670228\n",
      "Iteration 25, loss = 0.41041480\n",
      "Iteration 26, loss = 0.38275118\n",
      "Iteration 27, loss = 0.37050888\n",
      "Iteration 28, loss = 0.45458972\n",
      "Iteration 29, loss = 0.33779103\n",
      "Iteration 30, loss = 0.27480865\n",
      "Iteration 31, loss = 0.33438997\n",
      "Iteration 32, loss = 0.39169010\n",
      "Iteration 33, loss = 0.29971805\n",
      "Iteration 34, loss = 0.27481040\n",
      "Iteration 35, loss = 0.25660902\n",
      "Iteration 36, loss = 0.18680001\n",
      "Iteration 37, loss = 0.16396698\n",
      "Iteration 38, loss = 0.15543083\n",
      "Iteration 39, loss = 0.15052476\n",
      "Iteration 40, loss = 0.14421734\n",
      "Iteration 41, loss = 0.14710922\n",
      "Iteration 42, loss = 0.14710023\n",
      "Iteration 43, loss = 0.14670561\n",
      "Iteration 44, loss = 0.13647625\n",
      "Iteration 45, loss = 0.13408965\n",
      "Iteration 46, loss = 0.13190913\n",
      "Iteration 47, loss = 0.13115827\n",
      "Iteration 48, loss = 0.12664126\n",
      "Iteration 49, loss = 0.13304039\n",
      "Iteration 50, loss = 0.12539011\n",
      "Iteration 51, loss = 0.11935311\n",
      "Iteration 52, loss = 0.12933855\n",
      "Iteration 53, loss = 0.11580267\n",
      "Iteration 54, loss = 0.15195845\n",
      "Iteration 55, loss = 0.13516393\n",
      "Iteration 56, loss = 0.10973934\n",
      "Iteration 57, loss = 0.10596822\n",
      "Iteration 58, loss = 0.10435402\n",
      "Iteration 59, loss = 0.10497295\n",
      "Iteration 60, loss = 0.10891208\n",
      "Iteration 61, loss = 0.11902493\n",
      "Iteration 62, loss = 0.10261810\n",
      "Iteration 63, loss = 0.09627543\n",
      "Iteration 64, loss = 0.09857987\n",
      "Iteration 65, loss = 0.10933555\n",
      "Iteration 66, loss = 0.09848306\n",
      "Iteration 67, loss = 0.10163474\n",
      "Iteration 68, loss = 0.09733805\n",
      "Iteration 69, loss = 0.09558953\n",
      "Iteration 70, loss = 0.08350790\n",
      "Iteration 71, loss = 0.08270329\n",
      "Iteration 72, loss = 0.10506841\n",
      "Iteration 73, loss = 0.09074614\n",
      "Iteration 74, loss = 0.10280276\n",
      "Iteration 75, loss = 0.09232481\n",
      "Iteration 76, loss = 0.08814767\n",
      "Iteration 77, loss = 0.07313304\n",
      "Iteration 78, loss = 0.07844473\n",
      "Iteration 79, loss = 0.07522470\n",
      "Iteration 80, loss = 0.07120426\n",
      "Iteration 81, loss = 0.07111324\n",
      "Iteration 82, loss = 0.07712333\n",
      "Iteration 83, loss = 0.07472970\n",
      "Iteration 84, loss = 0.07696373\n",
      "Iteration 85, loss = 0.10676400\n",
      "Iteration 86, loss = 0.12769829\n",
      "Iteration 87, loss = 0.11103127\n",
      "Iteration 88, loss = 0.10201655\n",
      "Iteration 89, loss = 0.07344765\n",
      "Iteration 90, loss = 0.06546380\n",
      "Iteration 91, loss = 0.06418723\n",
      "Iteration 92, loss = 0.06146390\n",
      "Iteration 93, loss = 0.06208622\n",
      "Iteration 94, loss = 0.06896485\n",
      "Iteration 95, loss = 0.07303550\n",
      "Iteration 96, loss = 0.08105373\n",
      "Iteration 97, loss = 0.06964874\n",
      "Iteration 98, loss = 0.07112009\n",
      "Iteration 99, loss = 0.07631588\n",
      "Iteration 100, loss = 0.06139884\n",
      "Iteration 1, loss = 20476.11680532\n",
      "Iteration 2, loss = 4091.06402676\n",
      "Iteration 3, loss = 5455.46900357\n",
      "Iteration 4, loss = 376.48620085\n",
      "Iteration 5, loss = 1993.61846602\n",
      "Iteration 6, loss = 467.65688586\n",
      "Iteration 7, loss = 403.62682832\n",
      "Iteration 8, loss = 365.30711019\n",
      "Iteration 9, loss = 61.61524592\n",
      "Iteration 10, loss = 165.17272116\n",
      "Iteration 11, loss = 15.45075628\n",
      "Iteration 12, loss = 60.92023130\n",
      "Iteration 13, loss = 6.54631363\n",
      "Iteration 14, loss = 22.23420119\n",
      "Iteration 15, loss = 3.09516586\n",
      "Iteration 16, loss = 8.21825715\n",
      "Iteration 17, loss = 1.81113732\n",
      "Iteration 18, loss = 2.13916490\n",
      "Iteration 19, loss = 1.64708550\n",
      "Iteration 20, loss = 0.90764007\n",
      "Iteration 21, loss = 0.91474236\n",
      "Iteration 22, loss = 0.81623168\n",
      "Iteration 23, loss = 0.68728997\n",
      "Iteration 24, loss = 0.69842269\n",
      "Iteration 25, loss = 0.65495082\n",
      "Iteration 26, loss = 0.64137005\n",
      "Iteration 27, loss = 0.63707706\n",
      "Iteration 28, loss = 0.62773520\n",
      "Iteration 29, loss = 0.60984250\n",
      "Iteration 30, loss = 0.59965819\n",
      "Iteration 31, loss = 0.58518379\n",
      "Iteration 32, loss = 0.56984858\n",
      "Iteration 33, loss = 0.53586156\n",
      "Iteration 34, loss = 0.52624582\n",
      "Iteration 35, loss = 0.52817835\n",
      "Iteration 36, loss = 0.45988461\n",
      "Iteration 37, loss = 0.43290486\n",
      "Iteration 38, loss = 0.38647870\n",
      "Iteration 39, loss = 0.32107494\n",
      "Iteration 40, loss = 0.27854057\n",
      "Iteration 41, loss = 0.24724492\n",
      "Iteration 42, loss = 0.22361471\n",
      "Iteration 43, loss = 0.19970875\n",
      "Iteration 44, loss = 0.19941650\n",
      "Iteration 45, loss = 0.17704856\n",
      "Iteration 46, loss = 0.15848168\n",
      "Iteration 47, loss = 0.15216259\n",
      "Iteration 48, loss = 0.15213657\n",
      "Iteration 49, loss = 0.15501563\n",
      "Iteration 50, loss = 0.15209543\n",
      "Iteration 51, loss = 0.14946669\n",
      "Iteration 52, loss = 0.16515604\n",
      "Iteration 53, loss = 0.15280831\n",
      "Iteration 54, loss = 0.14284070\n",
      "Iteration 55, loss = 0.13748677\n",
      "Iteration 56, loss = 0.14480499\n",
      "Iteration 57, loss = 0.14147033\n",
      "Iteration 58, loss = 0.13960537\n",
      "Iteration 59, loss = 0.13148875\n",
      "Iteration 60, loss = 0.14242967\n",
      "Iteration 61, loss = 0.13586952\n",
      "Iteration 62, loss = 0.13713706\n",
      "Iteration 63, loss = 0.13223593\n",
      "Iteration 64, loss = 0.13022519\n",
      "Iteration 65, loss = 0.13401581\n",
      "Iteration 66, loss = 0.14712596\n",
      "Iteration 67, loss = 0.15864116\n",
      "Iteration 68, loss = 0.15651196\n",
      "Iteration 69, loss = 0.14996914\n",
      "Iteration 70, loss = 0.12415752\n",
      "Iteration 71, loss = 0.12400842\n",
      "Iteration 72, loss = 0.12282934\n",
      "Iteration 73, loss = 0.12252491\n",
      "Iteration 74, loss = 0.12676534\n",
      "Iteration 75, loss = 0.13717369\n",
      "Iteration 76, loss = 0.13218834\n",
      "Iteration 77, loss = 0.12070385\n",
      "Iteration 78, loss = 0.11686708\n",
      "Iteration 79, loss = 0.11587803\n",
      "Iteration 80, loss = 0.11740802\n",
      "Iteration 81, loss = 0.12304511\n",
      "Iteration 82, loss = 0.11423989\n",
      "Iteration 83, loss = 0.11734612\n",
      "Iteration 84, loss = 0.11619235\n",
      "Iteration 85, loss = 0.11905200\n",
      "Iteration 86, loss = 0.11555957\n",
      "Iteration 87, loss = 0.11476489\n",
      "Iteration 88, loss = 0.11745671\n",
      "Iteration 89, loss = 0.11812456\n",
      "Iteration 90, loss = 0.13121780\n",
      "Iteration 91, loss = 0.11869377\n",
      "Iteration 92, loss = 0.12466299\n",
      "Iteration 93, loss = 0.12572644\n",
      "Training loss did not improve more than tol=0.000100 for 10 consecutive epochs. Stopping.\n",
      "Iteration 1, loss = 1554.47050888\n",
      "Iteration 2, loss = 363.32981603\n",
      "Iteration 3, loss = 274.00725620\n",
      "Iteration 4, loss = 258.64688291\n",
      "Iteration 5, loss = 127.33746474\n",
      "Iteration 6, loss = 42.86737188\n",
      "Iteration 7, loss = 30.76010874\n",
      "Iteration 8, loss = 29.49227539\n",
      "Iteration 9, loss = 20.11555990\n",
      "Iteration 10, loss = 10.40740347\n",
      "Iteration 11, loss = 5.25652233\n",
      "Iteration 12, loss = 2.98968301\n",
      "Iteration 13, loss = 1.82652378\n",
      "Iteration 14, loss = 1.14113048\n",
      "Iteration 15, loss = 0.71319691\n",
      "Iteration 16, loss = 0.49332226\n",
      "Iteration 17, loss = 0.34195111\n",
      "Iteration 18, loss = 0.29437187\n",
      "Iteration 19, loss = 0.23451771\n",
      "Iteration 20, loss = 0.21278973\n",
      "Iteration 21, loss = 0.18224856\n",
      "Iteration 22, loss = 0.15649523\n",
      "Iteration 23, loss = 0.14528386\n",
      "Iteration 24, loss = 0.13447450\n",
      "Iteration 25, loss = 0.12646014\n",
      "Iteration 26, loss = 0.12340745\n",
      "Iteration 27, loss = 0.11342076\n",
      "Iteration 28, loss = 0.10799329\n",
      "Iteration 29, loss = 0.09891263\n",
      "Iteration 30, loss = 0.09419473\n",
      "Iteration 31, loss = 0.08736884\n",
      "Iteration 32, loss = 0.07932972\n",
      "Iteration 33, loss = 0.07768365\n",
      "Iteration 34, loss = 0.06646333\n"
     ]
    },
    {
     "name": "stdout",
     "output_type": "stream",
     "text": [
      "Iteration 35, loss = 0.06714802\n",
      "Iteration 36, loss = 0.05815794\n",
      "Iteration 37, loss = 0.05905120\n",
      "Iteration 38, loss = 0.05627914\n",
      "Iteration 39, loss = 0.06149015\n",
      "Iteration 40, loss = 0.05589156\n",
      "Iteration 41, loss = 0.04700776\n",
      "Iteration 42, loss = 0.04710886\n",
      "Iteration 43, loss = 0.04927677\n",
      "Iteration 44, loss = 0.04629778\n",
      "Iteration 45, loss = 0.04774039\n",
      "Iteration 46, loss = 0.05566015\n",
      "Iteration 47, loss = 0.05562847\n",
      "Iteration 48, loss = 0.06150149\n",
      "Iteration 49, loss = 0.04782613\n",
      "Iteration 50, loss = 0.04307080\n",
      "Iteration 51, loss = 0.03632236\n",
      "Iteration 52, loss = 0.03675348\n",
      "Iteration 53, loss = 0.03602083\n",
      "Iteration 54, loss = 0.03468650\n",
      "Iteration 55, loss = 0.03480184\n",
      "Iteration 56, loss = 0.04329385\n",
      "Iteration 57, loss = 0.03716861\n",
      "Iteration 58, loss = 0.03523055\n",
      "Iteration 59, loss = 0.03517740\n",
      "Iteration 60, loss = 0.03283503\n",
      "Iteration 61, loss = 0.03461528\n",
      "Iteration 62, loss = 0.03226483\n",
      "Iteration 63, loss = 0.03249521\n",
      "Iteration 64, loss = 0.03660066\n",
      "Iteration 65, loss = 0.03396353\n",
      "Iteration 66, loss = 0.03257017\n",
      "Iteration 67, loss = 0.03197710\n",
      "Iteration 68, loss = 0.03144316\n",
      "Iteration 69, loss = 0.03257978\n",
      "Iteration 70, loss = 0.03193052\n",
      "Iteration 71, loss = 0.03205167\n",
      "Iteration 72, loss = 0.03288588\n",
      "Iteration 73, loss = 0.03256213\n",
      "Iteration 74, loss = 0.03007669\n",
      "Iteration 75, loss = 0.02988144\n",
      "Iteration 76, loss = 0.02916213\n",
      "Iteration 77, loss = 0.02905864\n",
      "Iteration 78, loss = 0.03006678\n",
      "Iteration 79, loss = 0.03128943\n",
      "Iteration 80, loss = 0.03131495\n",
      "Iteration 81, loss = 0.03016582\n",
      "Iteration 82, loss = 0.02918506\n",
      "Iteration 83, loss = 0.03381631\n",
      "Iteration 84, loss = 0.03222827\n",
      "Iteration 85, loss = 0.02858585\n",
      "Iteration 86, loss = 0.02932810\n",
      "Iteration 87, loss = 0.02983437\n",
      "Iteration 88, loss = 0.02994175\n",
      "Iteration 89, loss = 0.03507610\n",
      "Iteration 90, loss = 0.03031553\n",
      "Iteration 91, loss = 0.02742522\n",
      "Iteration 92, loss = 0.02806023\n",
      "Iteration 93, loss = 0.02914941\n",
      "Iteration 94, loss = 0.02781002\n",
      "Iteration 95, loss = 0.02691134\n",
      "Iteration 96, loss = 0.02681809\n",
      "Iteration 97, loss = 0.02655810\n",
      "Iteration 98, loss = 0.03149538\n",
      "Iteration 99, loss = 0.02711241\n",
      "Iteration 100, loss = 0.02620991\n",
      "Iteration 1, loss = 272.09007050\n",
      "Iteration 2, loss = 70.95227418\n",
      "Iteration 3, loss = 35.51050355\n",
      "Iteration 4, loss = 32.03912000\n",
      "Iteration 5, loss = 25.90614954\n",
      "Iteration 6, loss = 15.45217905\n",
      "Iteration 7, loss = 8.72156117\n",
      "Iteration 8, loss = 5.68769222\n",
      "Iteration 9, loss = 3.78863131\n",
      "Iteration 10, loss = 3.12560985\n",
      "Iteration 11, loss = 2.54951019\n",
      "Iteration 12, loss = 2.30692363\n",
      "Iteration 13, loss = 2.04884252\n",
      "Iteration 14, loss = 1.94611532\n",
      "Iteration 15, loss = 1.56137908\n",
      "Iteration 16, loss = 1.52308390\n",
      "Iteration 17, loss = 1.35413010\n",
      "Iteration 18, loss = 1.29912176\n",
      "Iteration 19, loss = 1.23544701\n",
      "Iteration 20, loss = 1.17806071\n",
      "Iteration 21, loss = 1.09129666\n",
      "Iteration 22, loss = 1.01834318\n",
      "Iteration 23, loss = 0.96213863\n",
      "Iteration 24, loss = 0.91787896\n",
      "Iteration 25, loss = 0.85851407\n",
      "Iteration 26, loss = 0.79635440\n",
      "Iteration 27, loss = 0.74863771\n",
      "Iteration 28, loss = 0.70076549\n",
      "Iteration 29, loss = 0.65603338\n",
      "Iteration 30, loss = 0.61485226\n",
      "Iteration 31, loss = 0.57300024\n",
      "Iteration 32, loss = 0.54742313\n",
      "Iteration 33, loss = 0.50736874\n",
      "Iteration 34, loss = 0.47072224\n",
      "Iteration 35, loss = 0.44371389\n",
      "Iteration 36, loss = 0.41754436\n",
      "Iteration 37, loss = 0.37964988\n",
      "Iteration 38, loss = 0.36502815\n",
      "Iteration 39, loss = 0.33718647\n",
      "Iteration 40, loss = 0.30987647\n",
      "Iteration 41, loss = 0.29260300\n",
      "Iteration 42, loss = 0.27309289\n",
      "Iteration 43, loss = 0.25923664\n",
      "Iteration 44, loss = 0.24143751\n",
      "Iteration 45, loss = 0.21871894\n",
      "Iteration 46, loss = 0.20454322\n",
      "Iteration 47, loss = 0.19268497\n",
      "Iteration 48, loss = 0.17511175\n",
      "Iteration 49, loss = 0.16286986\n",
      "Iteration 50, loss = 0.15832888\n",
      "Iteration 51, loss = 0.12733773\n",
      "Iteration 52, loss = 0.11849252\n",
      "Iteration 53, loss = 0.11543171\n",
      "Iteration 54, loss = 0.10274656\n",
      "Iteration 55, loss = 0.09517536\n",
      "Iteration 56, loss = 0.09603850\n",
      "Iteration 57, loss = 0.09974185\n",
      "Iteration 58, loss = 0.10482030\n",
      "Iteration 59, loss = 0.09373642\n",
      "Iteration 60, loss = 0.09405105\n",
      "Iteration 61, loss = 0.09241348\n",
      "Iteration 62, loss = 0.08899700\n",
      "Iteration 63, loss = 0.09413338\n",
      "Iteration 64, loss = 0.08582900\n",
      "Iteration 65, loss = 0.08445352\n",
      "Iteration 66, loss = 0.08683061\n",
      "Iteration 67, loss = 0.08386352\n",
      "Iteration 68, loss = 0.08865727\n",
      "Iteration 69, loss = 0.09631883\n",
      "Iteration 70, loss = 0.08409766\n",
      "Iteration 71, loss = 0.08280748\n",
      "Iteration 72, loss = 0.08445411\n",
      "Iteration 73, loss = 0.08607186\n",
      "Iteration 74, loss = 0.08614821\n",
      "Iteration 75, loss = 0.08770065\n",
      "Iteration 76, loss = 0.08551524\n",
      "Iteration 77, loss = 0.09903132\n",
      "Iteration 78, loss = 0.08463703\n",
      "Iteration 79, loss = 0.08584375\n",
      "Iteration 80, loss = 0.08295719\n",
      "Iteration 81, loss = 0.08314105\n",
      "Iteration 82, loss = 0.08201857\n",
      "Iteration 83, loss = 0.08256104\n",
      "Iteration 84, loss = 0.08395288\n",
      "Iteration 85, loss = 0.09268760\n",
      "Iteration 86, loss = 0.09473759\n",
      "Iteration 87, loss = 0.09452751\n",
      "Iteration 88, loss = 0.09846251\n",
      "Iteration 89, loss = 0.09604232\n",
      "Iteration 90, loss = 0.09087924\n",
      "Iteration 91, loss = 0.08421374\n",
      "Iteration 92, loss = 0.08315733\n",
      "Iteration 93, loss = 0.08278513\n",
      "Training loss did not improve more than tol=0.000100 for 10 consecutive epochs. Stopping.\n",
      "Iteration 1, loss = 7091.95502060\n",
      "Iteration 2, loss = 510.73327739\n",
      "Iteration 3, loss = 722.41163521\n",
      "Iteration 4, loss = 1068.88582851\n",
      "Iteration 5, loss = 244.28086653\n",
      "Iteration 6, loss = 60.02728630\n",
      "Iteration 7, loss = 215.98776814\n",
      "Iteration 8, loss = 85.89478105\n",
      "Iteration 9, loss = 9.46340702\n",
      "Iteration 10, loss = 46.77481325\n",
      "Iteration 11, loss = 19.79763473\n",
      "Iteration 12, loss = 3.96630111\n",
      "Iteration 13, loss = 12.42241451\n",
      "Iteration 14, loss = 4.18732661\n",
      "Iteration 15, loss = 2.91159496\n",
      "Iteration 16, loss = 3.81660938\n",
      "Iteration 17, loss = 1.66047158\n",
      "Iteration 18, loss = 2.15224017\n",
      "Iteration 19, loss = 1.74875586\n",
      "Iteration 20, loss = 1.54621884\n",
      "Iteration 21, loss = 1.59124811\n",
      "Iteration 22, loss = 1.45700259\n",
      "Iteration 23, loss = 1.48590462\n",
      "Iteration 24, loss = 1.43853078\n",
      "Iteration 25, loss = 1.41996455\n",
      "Iteration 26, loss = 1.40427791\n",
      "Iteration 27, loss = 1.39492741\n",
      "Iteration 28, loss = 1.38324774\n",
      "Iteration 29, loss = 1.37372066\n",
      "Iteration 30, loss = 1.36465050\n",
      "Iteration 31, loss = 1.35361898\n",
      "Iteration 32, loss = 1.34504813\n",
      "Iteration 33, loss = 1.33406021\n",
      "Iteration 34, loss = 1.32709476\n",
      "Iteration 35, loss = 1.31503777\n",
      "Iteration 36, loss = 1.30452526\n",
      "Iteration 37, loss = 1.28422981\n",
      "Iteration 38, loss = 1.24267762\n",
      "Iteration 39, loss = 1.19260674\n",
      "Iteration 40, loss = 1.12589387\n",
      "Iteration 41, loss = 1.15810121\n",
      "Iteration 42, loss = 1.05765948\n",
      "Iteration 43, loss = 1.01952318\n",
      "Iteration 44, loss = 0.95218438\n",
      "Iteration 45, loss = 0.88881080\n",
      "Iteration 46, loss = 0.82288522\n",
      "Iteration 47, loss = 0.76428109\n",
      "Iteration 48, loss = 0.73067812\n",
      "Iteration 49, loss = 0.65533569\n",
      "Iteration 50, loss = 0.57574848\n",
      "Iteration 51, loss = 0.52389658\n",
      "Iteration 52, loss = 0.46813930\n",
      "Iteration 53, loss = 0.40396632\n",
      "Iteration 54, loss = 0.35750100\n",
      "Iteration 55, loss = 0.30259868\n",
      "Iteration 56, loss = 0.28042669\n",
      "Iteration 57, loss = 0.24129828\n",
      "Iteration 58, loss = 0.23990110\n",
      "Iteration 59, loss = 0.21895315\n",
      "Iteration 60, loss = 0.20582919\n",
      "Iteration 61, loss = 0.17829348\n",
      "Iteration 62, loss = 0.16590546\n",
      "Iteration 63, loss = 0.15572528\n",
      "Iteration 64, loss = 0.14759740\n",
      "Iteration 65, loss = 0.14757782\n",
      "Iteration 66, loss = 0.14235489\n",
      "Iteration 67, loss = 0.14383740\n",
      "Iteration 68, loss = 0.14114111\n",
      "Iteration 69, loss = 0.14906125\n",
      "Iteration 70, loss = 0.14553123\n",
      "Iteration 71, loss = 0.12582749\n",
      "Iteration 72, loss = 0.12139607\n",
      "Iteration 73, loss = 0.12056763\n",
      "Iteration 74, loss = 0.11664579\n",
      "Iteration 75, loss = 0.11536517\n",
      "Iteration 76, loss = 0.11606375\n",
      "Iteration 77, loss = 0.11201894\n",
      "Iteration 78, loss = 0.11030227\n",
      "Iteration 79, loss = 0.10922275\n",
      "Iteration 80, loss = 0.11089917\n",
      "Iteration 81, loss = 0.10921181\n",
      "Iteration 82, loss = 0.10531965\n",
      "Iteration 83, loss = 0.10965950\n",
      "Iteration 84, loss = 0.12489609\n",
      "Iteration 85, loss = 0.11704824\n",
      "Iteration 86, loss = 0.12491104\n",
      "Iteration 87, loss = 0.12273332\n",
      "Iteration 88, loss = 0.11947578\n",
      "Iteration 89, loss = 0.10675246\n",
      "Iteration 90, loss = 0.09748493\n",
      "Iteration 91, loss = 0.10996375\n",
      "Iteration 92, loss = 0.09833959\n",
      "Iteration 93, loss = 0.09558074\n",
      "Iteration 94, loss = 0.09621747\n",
      "Iteration 95, loss = 0.08913013\n",
      "Iteration 96, loss = 0.09247387\n",
      "Iteration 97, loss = 0.08777854\n",
      "Iteration 98, loss = 0.08683221\n",
      "Iteration 99, loss = 0.08664526\n",
      "Iteration 100, loss = 0.08692094\n",
      "Iteration 101, loss = 0.08627742\n",
      "Iteration 102, loss = 0.08433726\n",
      "Iteration 103, loss = 0.08456245\n",
      "Iteration 104, loss = 0.08613087\n",
      "Iteration 105, loss = 0.08330355\n",
      "Iteration 106, loss = 0.08221050\n",
      "Iteration 107, loss = 0.08267668\n",
      "Iteration 108, loss = 0.09206467\n",
      "Iteration 109, loss = 0.09476316\n",
      "Iteration 110, loss = 0.08315778\n",
      "Iteration 111, loss = 0.08580127\n",
      "Iteration 112, loss = 0.08438825\n",
      "Iteration 113, loss = 0.07712202\n",
      "Iteration 114, loss = 0.07359931\n",
      "Iteration 115, loss = 0.07485832\n",
      "Iteration 116, loss = 0.07250336\n",
      "Iteration 117, loss = 0.07450924\n",
      "Iteration 118, loss = 0.07186589\n",
      "Iteration 119, loss = 0.06990741\n",
      "Iteration 120, loss = 0.06868326\n",
      "Iteration 121, loss = 0.06861384\n",
      "Iteration 122, loss = 0.07126471\n",
      "Iteration 123, loss = 0.07969341\n",
      "Iteration 124, loss = 0.07706935\n",
      "Iteration 125, loss = 0.07269364\n",
      "Iteration 126, loss = 0.06993409\n",
      "Iteration 127, loss = 0.06767230\n",
      "Iteration 128, loss = 0.06447091\n",
      "Iteration 129, loss = 0.06523738\n",
      "Iteration 130, loss = 0.06698091\n",
      "Iteration 131, loss = 0.06989800\n",
      "Iteration 132, loss = 0.06791163\n",
      "Iteration 133, loss = 0.06947613\n",
      "Iteration 134, loss = 0.07353655\n"
     ]
    },
    {
     "name": "stdout",
     "output_type": "stream",
     "text": [
      "Iteration 135, loss = 0.07034055\n",
      "Iteration 136, loss = 0.06760617\n",
      "Iteration 137, loss = 0.06793840\n",
      "Iteration 138, loss = 0.07282394\n",
      "Iteration 139, loss = 0.06419187\n",
      "Iteration 140, loss = 0.06007225\n",
      "Iteration 141, loss = 0.05961346\n",
      "Iteration 142, loss = 0.06340550\n",
      "Iteration 143, loss = 0.06435002\n",
      "Iteration 144, loss = 0.06557341\n",
      "Iteration 145, loss = 0.06792361\n",
      "Iteration 146, loss = 0.06540108\n",
      "Iteration 147, loss = 0.06132005\n",
      "Iteration 148, loss = 0.05578008\n",
      "Iteration 149, loss = 0.05600244\n",
      "Iteration 150, loss = 0.05445314\n",
      "Iteration 151, loss = 0.05528312\n",
      "Iteration 152, loss = 0.05818789\n",
      "Iteration 153, loss = 0.06033569\n",
      "Iteration 154, loss = 0.05629051\n",
      "Iteration 155, loss = 0.05444843\n",
      "Iteration 156, loss = 0.05298925\n",
      "Iteration 157, loss = 0.05317527\n",
      "Iteration 158, loss = 0.05385360\n",
      "Iteration 159, loss = 0.05514934\n",
      "Iteration 160, loss = 0.05864693\n",
      "Iteration 161, loss = 0.05817860\n",
      "Iteration 162, loss = 0.05617778\n",
      "Iteration 163, loss = 0.05959090\n",
      "Iteration 164, loss = 0.06249220\n",
      "Iteration 165, loss = 0.06025150\n",
      "Iteration 166, loss = 0.05249769\n",
      "Iteration 167, loss = 0.05295769\n",
      "Iteration 168, loss = 0.05046813\n",
      "Iteration 169, loss = 0.05060816\n",
      "Iteration 170, loss = 0.05525086\n",
      "Iteration 171, loss = 0.05405124\n",
      "Iteration 172, loss = 0.04858375\n",
      "Iteration 173, loss = 0.04836326\n",
      "Iteration 174, loss = 0.04786549\n",
      "Iteration 175, loss = 0.04829268\n",
      "Iteration 176, loss = 0.05031997\n",
      "Iteration 177, loss = 0.05154239\n",
      "Iteration 178, loss = 0.05261905\n",
      "Iteration 179, loss = 0.04930894\n",
      "Iteration 180, loss = 0.04971550\n",
      "Iteration 181, loss = 0.04669052\n",
      "Iteration 182, loss = 0.04716866\n",
      "Iteration 183, loss = 0.04749514\n",
      "Iteration 184, loss = 0.05140846\n",
      "Iteration 185, loss = 0.05004318\n",
      "Iteration 186, loss = 0.04582411\n",
      "Iteration 187, loss = 0.05171899\n",
      "Iteration 188, loss = 0.05313687\n",
      "Iteration 189, loss = 0.05010172\n",
      "Iteration 190, loss = 0.05043663\n",
      "Iteration 191, loss = 0.05042713\n",
      "Iteration 192, loss = 0.05265825\n",
      "Iteration 193, loss = 0.05115837\n",
      "Iteration 194, loss = 0.04603900\n",
      "Iteration 195, loss = 0.04358514\n",
      "Iteration 196, loss = 0.04643655\n",
      "Iteration 197, loss = 0.04818438\n",
      "Iteration 198, loss = 0.05065312\n",
      "Iteration 199, loss = 0.04674983\n",
      "Iteration 200, loss = 0.04303767\n",
      "Iteration 201, loss = 0.04400551\n",
      "Iteration 202, loss = 0.04735097\n",
      "Iteration 203, loss = 0.05223713\n",
      "Iteration 204, loss = 0.04763110\n",
      "Iteration 205, loss = 0.04696106\n",
      "Iteration 206, loss = 0.04381575\n",
      "Iteration 207, loss = 0.04444395\n",
      "Iteration 208, loss = 0.05036923\n",
      "Iteration 209, loss = 0.05072293\n",
      "Iteration 210, loss = 0.04936974\n",
      "Iteration 211, loss = 0.04401812\n",
      "Training loss did not improve more than tol=0.000100 for 10 consecutive epochs. Stopping.\n",
      "Iteration 1, loss = 18306.05358053\n",
      "Iteration 2, loss = 6714.31262681\n",
      "Iteration 3, loss = 3397.09868874\n",
      "Iteration 4, loss = 1339.97758622\n",
      "Iteration 5, loss = 1795.36988599\n",
      "Iteration 6, loss = 210.93200313\n",
      "Iteration 7, loss = 739.22880091\n",
      "Iteration 8, loss = 66.24430522\n",
      "Iteration 9, loss = 265.40771950\n",
      "Iteration 10, loss = 29.55705404\n",
      "Iteration 11, loss = 94.79475800\n",
      "Iteration 12, loss = 11.08620323\n",
      "Iteration 13, loss = 34.69705440\n",
      "Iteration 14, loss = 4.29802094\n",
      "Iteration 15, loss = 12.21387757\n",
      "Iteration 16, loss = 2.63878201\n",
      "Iteration 17, loss = 3.60082885\n",
      "Iteration 18, loss = 1.15064560\n",
      "Iteration 19, loss = 0.52368877\n",
      "Iteration 20, loss = 0.35681861\n",
      "Iteration 21, loss = 0.33582959\n",
      "Iteration 22, loss = 0.26029280\n",
      "Iteration 23, loss = 0.24379818\n",
      "Iteration 24, loss = 0.22556424\n",
      "Iteration 25, loss = 0.24905044\n",
      "Iteration 26, loss = 0.21720444\n",
      "Iteration 27, loss = 0.21603494\n",
      "Iteration 28, loss = 0.21649449\n",
      "Iteration 29, loss = 0.20457545\n",
      "Iteration 30, loss = 0.20500954\n",
      "Iteration 31, loss = 0.20418147\n",
      "Iteration 32, loss = 0.19746612\n",
      "Iteration 33, loss = 0.19138533\n",
      "Iteration 34, loss = 0.18888248\n",
      "Iteration 35, loss = 0.18353603\n",
      "Iteration 36, loss = 0.17922970\n",
      "Iteration 37, loss = 0.17378961\n",
      "Iteration 38, loss = 0.17542495\n",
      "Iteration 39, loss = 0.16564220\n",
      "Iteration 40, loss = 0.16330280\n",
      "Iteration 41, loss = 0.17243151\n",
      "Iteration 42, loss = 0.15982564\n",
      "Iteration 43, loss = 0.16806567\n",
      "Iteration 44, loss = 0.15491829\n",
      "Iteration 45, loss = 0.15197533\n",
      "Iteration 46, loss = 0.15127583\n",
      "Iteration 47, loss = 0.15221753\n",
      "Iteration 48, loss = 0.14682149\n",
      "Iteration 49, loss = 0.15931295\n",
      "Iteration 50, loss = 0.14498666\n",
      "Iteration 51, loss = 0.14619242\n",
      "Iteration 52, loss = 0.16381352\n",
      "Iteration 53, loss = 0.15863258\n",
      "Iteration 54, loss = 0.16226731\n",
      "Iteration 55, loss = 0.16719266\n",
      "Iteration 56, loss = 0.16908004\n",
      "Iteration 57, loss = 0.16081512\n",
      "Iteration 58, loss = 0.16834532\n",
      "Iteration 59, loss = 0.15541736\n",
      "Iteration 60, loss = 0.15127762\n",
      "Iteration 61, loss = 0.13839318\n",
      "Iteration 62, loss = 0.13432163\n",
      "Iteration 63, loss = 0.14182208\n",
      "Iteration 64, loss = 0.14245350\n",
      "Iteration 65, loss = 0.14160922\n",
      "Iteration 66, loss = 0.15311909\n",
      "Iteration 67, loss = 0.15195908\n",
      "Iteration 68, loss = 0.15054346\n",
      "Iteration 69, loss = 0.15105191\n",
      "Iteration 70, loss = 0.13825578\n",
      "Iteration 71, loss = 0.13534295\n",
      "Iteration 72, loss = 0.12993408\n",
      "Iteration 73, loss = 0.13991196\n",
      "Iteration 74, loss = 0.15080148\n",
      "Iteration 75, loss = 0.14294416\n",
      "Iteration 76, loss = 0.13766680\n",
      "Iteration 77, loss = 0.12668905\n",
      "Iteration 78, loss = 0.13209511\n",
      "Iteration 79, loss = 0.12255568\n",
      "Iteration 80, loss = 0.12002279\n",
      "Iteration 81, loss = 0.12617608\n",
      "Iteration 82, loss = 0.11807868\n",
      "Iteration 83, loss = 0.11866253\n",
      "Iteration 84, loss = 0.11414578\n",
      "Iteration 85, loss = 0.11351575\n",
      "Iteration 86, loss = 0.11489830\n",
      "Iteration 87, loss = 0.11694364\n",
      "Iteration 88, loss = 0.15263591\n",
      "Iteration 89, loss = 0.19399656\n",
      "Iteration 90, loss = 0.16728057\n",
      "Iteration 91, loss = 0.14057269\n",
      "Iteration 92, loss = 0.15615466\n",
      "Iteration 93, loss = 0.15375680\n",
      "Iteration 94, loss = 0.14509525\n",
      "Iteration 95, loss = 0.13422721\n",
      "Iteration 96, loss = 0.12684560\n",
      "Training loss did not improve more than tol=0.000100 for 10 consecutive epochs. Stopping.\n",
      "Iteration 1, loss = 670.17803655\n",
      "Iteration 2, loss = 304.20938315\n",
      "Iteration 3, loss = 149.07462501\n",
      "Iteration 4, loss = 86.02047390\n",
      "Iteration 5, loss = 53.37115545\n",
      "Iteration 6, loss = 32.64495482\n",
      "Iteration 7, loss = 20.89741413\n",
      "Iteration 8, loss = 13.42164226\n",
      "Iteration 9, loss = 8.94227392\n",
      "Iteration 10, loss = 6.21631582\n",
      "Iteration 11, loss = 4.08722502\n",
      "Iteration 12, loss = 2.57861791\n",
      "Iteration 13, loss = 1.49378780\n",
      "Iteration 14, loss = 1.00825285\n",
      "Iteration 15, loss = 0.87113836\n",
      "Iteration 16, loss = 0.58991171\n",
      "Iteration 17, loss = 0.47968820\n",
      "Iteration 18, loss = 0.49003927\n",
      "Iteration 19, loss = 0.36106599\n",
      "Iteration 20, loss = 0.34216415\n",
      "Iteration 21, loss = 0.26991610\n",
      "Iteration 22, loss = 0.25959776\n",
      "Iteration 23, loss = 0.25218227\n",
      "Iteration 24, loss = 0.23221847\n",
      "Iteration 25, loss = 0.22889245\n",
      "Iteration 26, loss = 0.21527801\n",
      "Iteration 27, loss = 0.20248022\n",
      "Iteration 28, loss = 0.18832890\n",
      "Iteration 29, loss = 0.17518385\n",
      "Iteration 30, loss = 0.18182324\n",
      "Iteration 31, loss = 0.15156823\n",
      "Iteration 32, loss = 0.14668305\n",
      "Iteration 33, loss = 0.13521525\n",
      "Iteration 34, loss = 0.13411615\n",
      "Iteration 35, loss = 0.11883965\n",
      "Iteration 36, loss = 0.15501191\n",
      "Iteration 37, loss = 0.11625267\n",
      "Iteration 38, loss = 0.20718948\n",
      "Iteration 39, loss = 0.14322899\n",
      "Iteration 40, loss = 0.11634285\n",
      "Iteration 41, loss = 0.10424721\n",
      "Iteration 42, loss = 0.10779279\n",
      "Iteration 43, loss = 0.12421847\n",
      "Iteration 44, loss = 0.09297413\n",
      "Iteration 45, loss = 0.09807625\n",
      "Iteration 46, loss = 0.09583038\n",
      "Iteration 47, loss = 0.09881057\n",
      "Iteration 48, loss = 0.10183424\n",
      "Iteration 49, loss = 0.08882855\n",
      "Iteration 50, loss = 0.08159094\n",
      "Iteration 51, loss = 0.07973825\n",
      "Iteration 52, loss = 0.07482489\n",
      "Iteration 53, loss = 0.07142285\n",
      "Iteration 54, loss = 0.06524947\n",
      "Iteration 55, loss = 0.07115747\n",
      "Iteration 56, loss = 0.07385874\n",
      "Iteration 57, loss = 0.06733838\n",
      "Iteration 58, loss = 0.09872943\n",
      "Iteration 59, loss = 0.09415190\n",
      "Iteration 60, loss = 0.06489968\n",
      "Iteration 61, loss = 0.06251518\n",
      "Iteration 62, loss = 0.08538111\n",
      "Iteration 63, loss = 0.08207081\n",
      "Iteration 64, loss = 0.06312886\n",
      "Iteration 65, loss = 0.04587634\n",
      "Iteration 66, loss = 0.04115177\n",
      "Iteration 67, loss = 0.04148771\n",
      "Iteration 68, loss = 0.04658191\n",
      "Iteration 69, loss = 0.04087315\n",
      "Iteration 70, loss = 0.03736124\n",
      "Iteration 71, loss = 0.03889648\n",
      "Iteration 72, loss = 0.03581433\n",
      "Iteration 73, loss = 0.03440342\n",
      "Iteration 74, loss = 0.03074726\n",
      "Iteration 75, loss = 0.03220688\n",
      "Iteration 76, loss = 0.03546643\n",
      "Iteration 77, loss = 0.03937602\n",
      "Iteration 78, loss = 0.06013203\n",
      "Iteration 79, loss = 0.04416626\n",
      "Iteration 80, loss = 0.03316114\n",
      "Iteration 81, loss = 0.03808595\n",
      "Iteration 82, loss = 0.02676727\n",
      "Iteration 83, loss = 0.02471317\n",
      "Iteration 84, loss = 0.02389675\n",
      "Iteration 85, loss = 0.04419784\n",
      "Iteration 86, loss = 0.05161765\n",
      "Iteration 87, loss = 0.02559180\n",
      "Iteration 88, loss = 0.03559654\n",
      "Iteration 89, loss = 0.03148658\n",
      "Iteration 90, loss = 0.02904301\n",
      "Iteration 91, loss = 0.03049840\n",
      "Iteration 92, loss = 0.03376412\n",
      "Iteration 93, loss = 0.02738783\n",
      "Iteration 94, loss = 0.01917124\n",
      "Iteration 95, loss = 0.02337231\n",
      "Iteration 96, loss = 0.02324332\n",
      "Iteration 97, loss = 0.02797515\n",
      "Iteration 98, loss = 0.04659842\n",
      "Iteration 99, loss = 0.04018667\n",
      "Iteration 100, loss = 0.04947049\n",
      "Iteration 101, loss = 0.02757207\n",
      "Iteration 102, loss = 0.02525062\n",
      "Iteration 103, loss = 0.04230339\n",
      "Iteration 104, loss = 0.05766642\n",
      "Iteration 105, loss = 0.08384375\n",
      "Training loss did not improve more than tol=0.000100 for 10 consecutive epochs. Stopping.\n",
      "Iteration 1, loss = 8024.11229867\n",
      "Iteration 2, loss = 1836.85851962\n",
      "Iteration 3, loss = 1447.99944354\n",
      "Iteration 4, loss = 1334.09193930\n",
      "Iteration 5, loss = 580.87395169\n",
      "Iteration 6, loss = 190.80174016\n",
      "Iteration 7, loss = 185.86586468\n",
      "Iteration 8, loss = 165.47389852\n",
      "Iteration 9, loss = 95.12759726\n",
      "Iteration 10, loss = 41.56626704\n",
      "Iteration 11, loss = 20.62412873\n",
      "Iteration 12, loss = 13.27445005\n",
      "Iteration 13, loss = 7.58715303\n"
     ]
    },
    {
     "name": "stdout",
     "output_type": "stream",
     "text": [
      "Iteration 14, loss = 4.50997119\n",
      "Iteration 15, loss = 1.98144501\n",
      "Iteration 16, loss = 1.36563157\n",
      "Iteration 17, loss = 1.05549004\n",
      "Iteration 18, loss = 0.95979997\n",
      "Iteration 19, loss = 0.83610013\n",
      "Iteration 20, loss = 0.74361957\n",
      "Iteration 21, loss = 0.67394072\n",
      "Iteration 22, loss = 0.53677545\n",
      "Iteration 23, loss = 0.47972918\n",
      "Iteration 24, loss = 0.37783424\n",
      "Iteration 25, loss = 0.27156535\n",
      "Iteration 26, loss = 0.20730186\n",
      "Iteration 27, loss = 0.15931776\n",
      "Iteration 28, loss = 0.23468555\n",
      "Iteration 29, loss = 0.12620185\n",
      "Iteration 30, loss = 0.14380860\n",
      "Iteration 31, loss = 0.13995407\n",
      "Iteration 32, loss = 0.11202614\n",
      "Iteration 33, loss = 0.11824409\n",
      "Iteration 34, loss = 0.14458268\n",
      "Iteration 35, loss = 0.16787837\n",
      "Iteration 36, loss = 0.13353188\n",
      "Iteration 37, loss = 0.12102307\n",
      "Iteration 38, loss = 0.12318971\n",
      "Iteration 39, loss = 0.11707820\n",
      "Iteration 40, loss = 0.10718762\n",
      "Iteration 41, loss = 0.11978254\n",
      "Iteration 42, loss = 0.14348210\n",
      "Iteration 43, loss = 0.13163267\n",
      "Iteration 44, loss = 0.12537959\n",
      "Iteration 45, loss = 0.11253750\n",
      "Iteration 46, loss = 0.11588091\n",
      "Iteration 47, loss = 0.10785965\n",
      "Iteration 48, loss = 0.10739525\n",
      "Iteration 49, loss = 0.10010179\n",
      "Iteration 50, loss = 0.10090153\n",
      "Iteration 51, loss = 0.10546856\n",
      "Iteration 52, loss = 0.09937442\n",
      "Iteration 53, loss = 0.10087706\n",
      "Iteration 54, loss = 0.12410043\n",
      "Iteration 55, loss = 0.10745909\n",
      "Iteration 56, loss = 0.10320528\n",
      "Iteration 57, loss = 0.10861921\n",
      "Iteration 58, loss = 0.09763928\n",
      "Iteration 59, loss = 0.10450827\n",
      "Iteration 60, loss = 0.09615037\n",
      "Iteration 61, loss = 0.10360550\n",
      "Iteration 62, loss = 0.10252029\n",
      "Iteration 63, loss = 0.11095226\n",
      "Iteration 64, loss = 0.09785674\n",
      "Iteration 65, loss = 0.10673299\n",
      "Iteration 66, loss = 0.10182373\n",
      "Iteration 67, loss = 0.10607699\n",
      "Iteration 68, loss = 0.12041815\n",
      "Iteration 69, loss = 0.11965538\n",
      "Iteration 70, loss = 0.11907232\n",
      "Iteration 71, loss = 0.10279204\n",
      "Training loss did not improve more than tol=0.000100 for 10 consecutive epochs. Stopping.\n",
      "Iteration 1, loss = 5889.57266948\n",
      "Iteration 2, loss = 1744.41113332\n",
      "Iteration 3, loss = 751.06357629\n",
      "Iteration 4, loss = 471.71518570\n",
      "Iteration 5, loss = 423.72059706\n",
      "Iteration 6, loss = 308.64408207\n",
      "Iteration 7, loss = 173.15460319\n",
      "Iteration 8, loss = 87.16929294\n",
      "Iteration 9, loss = 43.13007983\n",
      "Iteration 10, loss = 22.61352328\n",
      "Iteration 11, loss = 13.49663661\n",
      "Iteration 12, loss = 8.03612796\n",
      "Iteration 13, loss = 4.59673903\n",
      "Iteration 14, loss = 2.42649298\n",
      "Iteration 15, loss = 1.20613655\n",
      "Iteration 16, loss = 0.88217696\n",
      "Iteration 17, loss = 0.45745386\n",
      "Iteration 18, loss = 0.24241623\n",
      "Iteration 19, loss = 0.13910480\n",
      "Iteration 20, loss = 0.12811909\n",
      "Iteration 21, loss = 0.15470284\n",
      "Iteration 22, loss = 0.12738250\n",
      "Iteration 23, loss = 0.12524060\n",
      "Iteration 24, loss = 0.11620624\n",
      "Iteration 25, loss = 0.12770135\n",
      "Iteration 26, loss = 0.13870890\n",
      "Iteration 27, loss = 0.10705690\n",
      "Iteration 28, loss = 0.10581299\n",
      "Iteration 29, loss = 0.09866423\n",
      "Iteration 30, loss = 0.09540316\n",
      "Iteration 31, loss = 0.09818663\n",
      "Iteration 32, loss = 0.09857053\n",
      "Iteration 33, loss = 0.13538177\n",
      "Iteration 34, loss = 0.12063850\n",
      "Iteration 35, loss = 0.09297694\n",
      "Iteration 36, loss = 0.10078925\n",
      "Iteration 37, loss = 0.08636295\n",
      "Iteration 38, loss = 0.08233913\n",
      "Iteration 39, loss = 0.08028711\n",
      "Iteration 40, loss = 0.07478119\n",
      "Iteration 41, loss = 0.07228226\n",
      "Iteration 42, loss = 0.07331147\n",
      "Iteration 43, loss = 0.06750794\n",
      "Iteration 44, loss = 0.06922017\n",
      "Iteration 45, loss = 0.06660100\n",
      "Iteration 46, loss = 0.06408066\n",
      "Iteration 47, loss = 0.06853353\n",
      "Iteration 48, loss = 0.07158125\n",
      "Iteration 49, loss = 0.06397276\n",
      "Iteration 50, loss = 0.06082996\n",
      "Iteration 51, loss = 0.06768500\n",
      "Iteration 52, loss = 0.06296824\n",
      "Iteration 53, loss = 0.05574019\n",
      "Iteration 54, loss = 0.05115681\n",
      "Iteration 55, loss = 0.04728888\n",
      "Iteration 56, loss = 0.04598965\n",
      "Iteration 57, loss = 0.04990564\n",
      "Iteration 58, loss = 0.04397078\n",
      "Iteration 59, loss = 0.04115369\n",
      "Iteration 60, loss = 0.04187284\n",
      "Iteration 61, loss = 0.03800958\n",
      "Iteration 62, loss = 0.03651557\n",
      "Iteration 63, loss = 0.04376299\n",
      "Iteration 64, loss = 0.04675060\n",
      "Iteration 65, loss = 0.03332499\n",
      "Iteration 66, loss = 0.03385855\n",
      "Iteration 67, loss = 0.03662268\n",
      "Iteration 68, loss = 0.03156466\n",
      "Iteration 69, loss = 0.03787938\n",
      "Iteration 70, loss = 0.02621566\n",
      "Iteration 71, loss = 0.03466873\n",
      "Iteration 72, loss = 0.03375613\n",
      "Iteration 73, loss = 0.02535577\n",
      "Iteration 74, loss = 0.04011867\n",
      "Iteration 75, loss = 0.03073960\n",
      "Iteration 76, loss = 0.02244429\n",
      "Iteration 77, loss = 0.02149593\n",
      "Iteration 78, loss = 0.02371633\n",
      "Iteration 79, loss = 0.02517275\n",
      "Iteration 80, loss = 0.02239756\n",
      "Iteration 81, loss = 0.02889304\n",
      "Iteration 82, loss = 0.02554625\n",
      "Iteration 83, loss = 0.02166136\n",
      "Iteration 84, loss = 0.02982661\n",
      "Iteration 85, loss = 0.03437745\n",
      "Iteration 86, loss = 0.04872968\n",
      "Iteration 87, loss = 0.03870731\n",
      "Iteration 88, loss = 0.05450880\n",
      "Training loss did not improve more than tol=0.000100 for 10 consecutive epochs. Stopping.\n",
      "Iteration 1, loss = 28268.08925447\n",
      "Iteration 2, loss = 17601.97152924\n",
      "Iteration 3, loss = 2642.93887835\n",
      "Iteration 4, loss = 4916.60245125\n",
      "Iteration 5, loss = 1266.87789784\n",
      "Iteration 6, loss = 1503.97162241\n",
      "Iteration 7, loss = 669.40914982\n",
      "Iteration 8, loss = 373.15330047\n",
      "Iteration 9, loss = 369.16504374\n",
      "Iteration 10, loss = 64.66786809\n",
      "Iteration 11, loss = 128.07323596\n",
      "Iteration 12, loss = 37.75532211\n",
      "Iteration 13, loss = 12.98903507\n",
      "Iteration 14, loss = 4.64703911\n",
      "Iteration 15, loss = 2.10388269\n",
      "Iteration 16, loss = 0.78487321\n",
      "Iteration 17, loss = 0.61411782\n",
      "Iteration 18, loss = 0.49251996\n",
      "Iteration 19, loss = 0.41027378\n",
      "Iteration 20, loss = 0.40118678\n",
      "Iteration 21, loss = 0.37821883\n",
      "Iteration 22, loss = 0.35612671\n",
      "Iteration 23, loss = 0.34104249\n",
      "Iteration 24, loss = 0.32012159\n",
      "Iteration 25, loss = 0.34257310\n",
      "Iteration 26, loss = 0.27363466\n",
      "Iteration 27, loss = 0.24664482\n",
      "Iteration 28, loss = 0.21380711\n",
      "Iteration 29, loss = 0.19208403\n",
      "Iteration 30, loss = 0.15966438\n",
      "Iteration 31, loss = 0.12526660\n",
      "Iteration 32, loss = 0.15981089\n",
      "Iteration 33, loss = 0.12307817\n",
      "Iteration 34, loss = 0.10974901\n",
      "Iteration 35, loss = 0.10354573\n",
      "Iteration 36, loss = 0.10445595\n",
      "Iteration 37, loss = 0.10596559\n",
      "Iteration 38, loss = 0.10565172\n",
      "Iteration 39, loss = 0.10040054\n",
      "Iteration 40, loss = 0.10228259\n",
      "Iteration 41, loss = 0.10338048\n",
      "Iteration 42, loss = 0.09257945\n",
      "Iteration 43, loss = 0.09327611\n",
      "Iteration 44, loss = 0.09006405\n",
      "Iteration 45, loss = 0.10307012\n",
      "Iteration 46, loss = 0.10089400\n",
      "Iteration 47, loss = 0.09706272\n",
      "Iteration 48, loss = 0.10076029\n",
      "Iteration 49, loss = 0.10566419\n",
      "Iteration 50, loss = 0.12026346\n",
      "Iteration 51, loss = 0.11702759\n",
      "Iteration 52, loss = 0.09450387\n",
      "Iteration 53, loss = 0.09698101\n",
      "Iteration 54, loss = 0.10376290\n",
      "Iteration 55, loss = 0.09130547\n",
      "Training loss did not improve more than tol=0.000100 for 10 consecutive epochs. Stopping.\n",
      "Iteration 1, loss = 11070.66592212\n",
      "Iteration 2, loss = 2613.89620757\n",
      "Iteration 3, loss = 1552.74099861\n",
      "Iteration 4, loss = 1607.52164665\n",
      "Iteration 5, loss = 958.29371349\n",
      "Iteration 6, loss = 324.57455999\n",
      "Iteration 7, loss = 174.18718000\n",
      "Iteration 8, loss = 179.44055613\n",
      "Iteration 9, loss = 133.02016435\n",
      "Iteration 10, loss = 66.59009277\n",
      "Iteration 11, loss = 29.20179760\n",
      "Iteration 12, loss = 14.78954269\n",
      "Iteration 13, loss = 7.23846190\n",
      "Iteration 14, loss = 4.33753767\n",
      "Iteration 15, loss = 2.30464750\n",
      "Iteration 16, loss = 1.61000458\n",
      "Iteration 17, loss = 1.31921709\n",
      "Iteration 18, loss = 1.19413253\n",
      "Iteration 19, loss = 1.04345581\n",
      "Iteration 20, loss = 0.94613353\n",
      "Iteration 21, loss = 0.97057131\n",
      "Iteration 22, loss = 0.85054856\n",
      "Iteration 23, loss = 0.72249043\n",
      "Iteration 24, loss = 0.60279110\n",
      "Iteration 25, loss = 0.46351915\n",
      "Iteration 26, loss = 0.41619320\n",
      "Iteration 27, loss = 0.32166446\n",
      "Iteration 28, loss = 0.19627497\n",
      "Iteration 29, loss = 0.19605570\n",
      "Iteration 30, loss = 0.17578345\n",
      "Iteration 31, loss = 0.12993513\n",
      "Iteration 32, loss = 0.09883892\n",
      "Iteration 33, loss = 0.12037671\n",
      "Iteration 34, loss = 0.10673202\n",
      "Iteration 35, loss = 0.09892034\n",
      "Iteration 36, loss = 0.08472329\n",
      "Iteration 37, loss = 0.08059096\n",
      "Iteration 38, loss = 0.08379672\n",
      "Iteration 39, loss = 0.08999495\n",
      "Iteration 40, loss = 0.06886337\n",
      "Iteration 41, loss = 0.06656658\n",
      "Iteration 42, loss = 0.06758183\n",
      "Iteration 43, loss = 0.09792529\n",
      "Iteration 44, loss = 0.08024079\n",
      "Iteration 45, loss = 0.06665402\n",
      "Iteration 46, loss = 0.06624657\n",
      "Iteration 47, loss = 0.05675163\n",
      "Iteration 48, loss = 0.05810977\n",
      "Iteration 49, loss = 0.05526524\n",
      "Iteration 50, loss = 0.06505707\n",
      "Iteration 51, loss = 0.06100823\n",
      "Iteration 52, loss = 0.05877882\n",
      "Iteration 53, loss = 0.05829800\n",
      "Iteration 54, loss = 0.04959613\n",
      "Iteration 55, loss = 0.05819908\n",
      "Iteration 56, loss = 0.06347572\n",
      "Iteration 57, loss = 0.06047366\n",
      "Iteration 58, loss = 0.05054120\n",
      "Iteration 59, loss = 0.04389959\n",
      "Iteration 60, loss = 0.05155164\n",
      "Iteration 61, loss = 0.04687723\n",
      "Iteration 62, loss = 0.04804131\n",
      "Iteration 63, loss = 0.05151330\n",
      "Iteration 64, loss = 0.04998855\n",
      "Iteration 65, loss = 0.06025957\n",
      "Iteration 66, loss = 0.04268501\n",
      "Iteration 67, loss = 0.04325006\n",
      "Iteration 68, loss = 0.04711943\n",
      "Iteration 69, loss = 0.05953600\n",
      "Iteration 70, loss = 0.06852772\n",
      "Iteration 71, loss = 0.10238690\n",
      "Iteration 72, loss = 0.08465032\n",
      "Iteration 73, loss = 0.14002601\n",
      "Iteration 74, loss = 0.08123220\n",
      "Iteration 75, loss = 0.07085489\n",
      "Iteration 76, loss = 0.08827199\n",
      "Iteration 77, loss = 0.05850013\n",
      "Training loss did not improve more than tol=0.000100 for 10 consecutive epochs. Stopping.\n",
      "Iteration 1, loss = 3258.50496225\n",
      "Iteration 2, loss = 646.83290307\n",
      "Iteration 3, loss = 353.05710799\n",
      "Iteration 4, loss = 131.90847733\n"
     ]
    },
    {
     "name": "stdout",
     "output_type": "stream",
     "text": [
      "Iteration 5, loss = 43.17397585\n",
      "Iteration 6, loss = 20.44561506\n",
      "Iteration 7, loss = 8.80622680\n",
      "Iteration 8, loss = 2.96225800\n",
      "Iteration 9, loss = 1.10032435\n",
      "Iteration 10, loss = 0.57197229\n",
      "Iteration 11, loss = 0.46309534\n",
      "Iteration 12, loss = 0.40673602\n",
      "Iteration 13, loss = 0.41674944\n",
      "Iteration 14, loss = 0.33549946\n",
      "Iteration 15, loss = 0.27518360\n",
      "Iteration 16, loss = 0.27483974\n",
      "Iteration 17, loss = 0.28348057\n",
      "Iteration 18, loss = 0.27108213\n",
      "Iteration 19, loss = 0.19210775\n",
      "Iteration 20, loss = 0.15982653\n",
      "Iteration 21, loss = 0.14617293\n",
      "Iteration 22, loss = 0.12460202\n",
      "Iteration 23, loss = 0.15175715\n",
      "Iteration 24, loss = 0.09894812\n",
      "Iteration 25, loss = 0.09720744\n",
      "Iteration 26, loss = 0.13087228\n",
      "Iteration 27, loss = 0.09396470\n",
      "Iteration 28, loss = 0.08369756\n",
      "Iteration 29, loss = 0.08958669\n",
      "Iteration 30, loss = 0.08210746\n",
      "Iteration 31, loss = 0.10173861\n",
      "Iteration 32, loss = 0.08165003\n",
      "Iteration 33, loss = 0.08794297\n",
      "Iteration 34, loss = 0.06719799\n",
      "Iteration 35, loss = 0.06564703\n",
      "Iteration 36, loss = 0.06202208\n",
      "Iteration 37, loss = 0.09390427\n",
      "Iteration 38, loss = 0.08913308\n",
      "Iteration 39, loss = 0.07683458\n",
      "Iteration 40, loss = 0.06484537\n",
      "Iteration 41, loss = 0.07112633\n",
      "Iteration 42, loss = 0.07960901\n",
      "Iteration 43, loss = 0.06485818\n",
      "Iteration 44, loss = 0.06626886\n",
      "Iteration 45, loss = 0.06477598\n",
      "Iteration 46, loss = 0.09308438\n",
      "Iteration 47, loss = 0.10932395\n",
      "Training loss did not improve more than tol=0.000100 for 10 consecutive epochs. Stopping.\n",
      "Wall time: 7.86 s\n"
     ]
    },
    {
     "data": {
      "text/plain": [
       "RandomizedSearchCV(cv=2, estimator=MLPRegressor(verbose=True),\n",
       "                   param_distributions={'hidden_layer_sizes': [(100,), (300,),\n",
       "                                                               (200,)],\n",
       "                                        'learning_rate_init': [0.001, 0.002,\n",
       "                                                               0.004],\n",
       "                                        'max_iter': [100, 200, 300, 400, 500,\n",
       "                                                     600],\n",
       "                                        'momentum': [0.7, 0.8, 0.9]})"
      ]
     },
     "execution_count": 56,
     "metadata": {},
     "output_type": "execute_result"
    }
   ],
   "source": [
    "%%time\n",
    "mlp=MLPRegressor(verbose=True) # calling MLP model for training \n",
    "Model_R = RandomizedSearchCV(estimator = mlp, param_distributions = params, cv = 2) #calling search and it will help to get the best parametrs\n",
    "Model_R.fit(X_train, y_train) # Training this model"
   ]
  },
  {
   "cell_type": "markdown",
   "id": "5a382550",
   "metadata": {
    "id": "9f092614"
   },
   "source": [
    "### Best Parameter selected"
   ]
  },
  {
   "cell_type": "code",
   "execution_count": 57,
   "id": "8141ee4f",
   "metadata": {
    "id": "fyl8OfE-QW1U",
    "outputId": "6f9a0fc6-6704-4b89-89af-c9f0327cd7e0"
   },
   "outputs": [
    {
     "data": {
      "text/plain": [
       "{'momentum': 0.8,\n",
       " 'max_iter': 600,\n",
       " 'learning_rate_init': 0.004,\n",
       " 'hidden_layer_sizes': (300,)}"
      ]
     },
     "execution_count": 57,
     "metadata": {},
     "output_type": "execute_result"
    }
   ],
   "source": [
    "Model_R.best_params_"
   ]
  },
  {
   "cell_type": "markdown",
   "id": "d1a2bac2",
   "metadata": {
    "id": "7ca98e87"
   },
   "source": [
    "# Evaluation Measures on Test data"
   ]
  },
  {
   "cell_type": "markdown",
   "id": "38825b43",
   "metadata": {
    "id": "957be225"
   },
   "source": [
    "# MSE"
   ]
  },
  {
   "cell_type": "code",
   "execution_count": 58,
   "id": "fb085f9a",
   "metadata": {
    "colab": {
     "base_uri": "https://localhost:8080/"
    },
    "id": "c8269343",
    "outputId": "c32a0b18-bd07-4a10-ed2e-b579c4d72081"
   },
   "outputs": [
    {
     "name": "stdout",
     "output_type": "stream",
     "text": [
      "Mean Squared Error:  0.42251\n"
     ]
    }
   ],
   "source": [
    "y_pred_test=Model_R.predict(X_test) # tetsing trained model on test data\n",
    "test_mse3=mean_squared_error(y_test,y_pred_test) # calculating the mse score\n",
    "print('Mean Squared Error: ', round(test_mse3,5)) #pritng the results "
   ]
  },
  {
   "cell_type": "markdown",
   "id": "4c7a886d",
   "metadata": {
    "id": "47015631"
   },
   "source": [
    "# MAE"
   ]
  },
  {
   "cell_type": "code",
   "execution_count": 59,
   "id": "9ec65849",
   "metadata": {
    "colab": {
     "base_uri": "https://localhost:8080/"
    },
    "id": "1bbadfe5",
    "outputId": "a09fa46f-d899-48fd-c4b4-4cd39a4087d1"
   },
   "outputs": [
    {
     "name": "stdout",
     "output_type": "stream",
     "text": [
      "Mean Absolute Error:  0.51659\n"
     ]
    }
   ],
   "source": [
    "test_MAE3=mean_absolute_error(y_test,y_pred_test) # calculating the mae score\n",
    "print('Mean Absolute Error: ', round(test_MAE3,5)) #pritng the results "
   ]
  },
  {
   "cell_type": "markdown",
   "id": "c035d126",
   "metadata": {
    "id": "aaa88b65"
   },
   "source": [
    "# RMSE"
   ]
  },
  {
   "cell_type": "code",
   "execution_count": 60,
   "id": "1ea764c9",
   "metadata": {
    "colab": {
     "base_uri": "https://localhost:8080/"
    },
    "id": "2bd68540",
    "outputId": "0ca5cd92-19f6-475b-df42-8a86f229a61f"
   },
   "outputs": [
    {
     "name": "stdout",
     "output_type": "stream",
     "text": [
      "Mean Squared Error:  0.65001\n"
     ]
    }
   ],
   "source": [
    "test_rmse3=np.sqrt(test_mse3) # calculating the rmse score\n",
    "print('Mean Squared Error: ', round(test_rmse3,5)) #pritng the results "
   ]
  },
  {
   "cell_type": "markdown",
   "id": "7a93282d",
   "metadata": {
    "id": "3aa6dbe6"
   },
   "source": [
    "# MAPE"
   ]
  },
  {
   "cell_type": "code",
   "execution_count": 61,
   "id": "3c2d46d1",
   "metadata": {
    "colab": {
     "base_uri": "https://localhost:8080/"
    },
    "id": "f167a920",
    "outputId": "b69aab3e-40c1-41b1-8b46-4bf09b6512f5"
   },
   "outputs": [
    {
     "name": "stdout",
     "output_type": "stream",
     "text": [
      "Mean Absolute Error:  0.36153\n"
     ]
    }
   ],
   "source": [
    "test_mape3=mean_absolute_percentage_error(y_test,y_pred_test) # calculating the mape score\n",
    "print('Mean Absolute Error: ', round(test_mape3,5)) #pritng the results "
   ]
  },
  {
   "cell_type": "code",
   "execution_count": 62,
   "id": "9b1492f7",
   "metadata": {},
   "outputs": [
    {
     "data": {
      "image/png": "[encoded data removed]",
      "text/plain": [
       "<Figure size 432x288 with 1 Axes>"
      ]
     },
     "metadata": {
      "needs_background": "light"
     },
     "output_type": "display_data"
    },
    {
     "data": {
      "image/png": "[encoded data removed]",
      "text/plain": [
       "<Figure size 1296x576 with 1 Axes>"
      ]
     },
     "metadata": {
      "needs_background": "light"
     },
     "output_type": "display_data"
    }
   ],
   "source": [
    "df = pd.DataFrame({'Actual': y_test, 'Predicted': y_pred_test})\n",
    "df2 = pd.DataFrame({'train': y_train})\n",
    "ax = df.plot()\n",
    "df2.plot(ax=ax)\n",
    "df.plot(kind='line',figsize=(18,8))\n",
    "plt.grid(which='major', linestyle='-', linewidth='0.5', color='green')\n",
    "plt.grid(which='minor', linestyle=':', linewidth='0.5', color='black')\n",
    "plt.show()"
   ]
  },
  {
   "cell_type": "markdown",
   "id": "9b5f5304",
   "metadata": {
    "id": "a459ec52"
   },
   "source": [
    "# Ridge Regression Model"
   ]
  },
  {
   "cell_type": "markdown",
   "id": "8ebd13e3",
   "metadata": {
    "id": "d9bb42f3"
   },
   "source": [
    "### Parametrs"
   ]
  },
  {
   "cell_type": "code",
   "execution_count": 63,
   "id": "bb7c26f3",
   "metadata": {
    "id": "4874afd8"
   },
   "outputs": [],
   "source": [
    "params = { \n",
    "    'alpha': [1.0,2.0,3.0,4.0],\n",
    "    'max_iter':[100,200,300,400,500],\n",
    "    'tol':[0.001,0.002,0.003,0.004]\n",
    "}"
   ]
  },
  {
   "cell_type": "code",
   "execution_count": 64,
   "id": "80079373",
   "metadata": {
    "id": "0925241a",
    "outputId": "11aef2f5-3d88-4814-8a83-dde462eb9b6a"
   },
   "outputs": [
    {
     "name": "stdout",
     "output_type": "stream",
     "text": [
      "Wall time: 50.1 ms\n"
     ]
    },
    {
     "data": {
      "text/plain": [
       "RandomizedSearchCV(cv=2, estimator=Ridge(alpha=4.0),\n",
       "                   param_distributions={'alpha': [1.0, 2.0, 3.0, 4.0],\n",
       "                                        'max_iter': [100, 200, 300, 400, 500],\n",
       "                                        'tol': [0.001, 0.002, 0.003, 0.004]})"
      ]
     },
     "execution_count": 64,
     "metadata": {},
     "output_type": "execute_result"
    }
   ],
   "source": [
    "%%time\n",
    "Ridge=linear_model.Ridge(alpha=4.0) # calling Ridge model for training \n",
    "Model_R = RandomizedSearchCV(estimator = Ridge, param_distributions = params, cv = 2) #calling search and it will help to get the best parametrs\n",
    "Model_R.fit(X_train, y_train) # Training this model"
   ]
  },
  {
   "cell_type": "markdown",
   "id": "12b527f0",
   "metadata": {
    "id": "4dca83ab"
   },
   "source": [
    "### Best Parameter selected"
   ]
  },
  {
   "cell_type": "code",
   "execution_count": 65,
   "id": "356ac2ac",
   "metadata": {
    "id": "Vm8Cbb6bQW1h",
    "outputId": "8a623602-fb23-44c3-d5ec-be955538fbaa"
   },
   "outputs": [
    {
     "data": {
      "text/plain": [
       "{'tol': 0.004, 'max_iter': 400, 'alpha': 4.0}"
      ]
     },
     "execution_count": 65,
     "metadata": {},
     "output_type": "execute_result"
    }
   ],
   "source": [
    "Model_R.best_params_"
   ]
  },
  {
   "cell_type": "markdown",
   "id": "74a0ceab",
   "metadata": {
    "id": "727564cd"
   },
   "source": [
    "# Evaluation Measures on Test data"
   ]
  },
  {
   "cell_type": "markdown",
   "id": "0857e2a6",
   "metadata": {
    "id": "d1d13856"
   },
   "source": [
    "# MSE"
   ]
  },
  {
   "cell_type": "code",
   "execution_count": 66,
   "id": "a0537007",
   "metadata": {
    "colab": {
     "base_uri": "https://localhost:8080/"
    },
    "id": "d7d5bd06",
    "outputId": "47a57e92-28a6-4a36-cd0e-3fe62977d265"
   },
   "outputs": [
    {
     "name": "stdout",
     "output_type": "stream",
     "text": [
      "Mean Squared Error:  1.17761\n"
     ]
    }
   ],
   "source": [
    "y_pred_test=Model_R.predict(X_test) # tetsing trained model on test data\n",
    "test_mse7=mean_squared_error(y_test,y_pred_test) # calculating the mse score\n",
    "print('Mean Squared Error: ', round(test_mse7,5)) #pritng the results "
   ]
  },
  {
   "cell_type": "markdown",
   "id": "77fc276c",
   "metadata": {
    "id": "fe04678f"
   },
   "source": [
    "# MAE"
   ]
  },
  {
   "cell_type": "code",
   "execution_count": 67,
   "id": "8247f691",
   "metadata": {
    "colab": {
     "base_uri": "https://localhost:8080/"
    },
    "id": "fd169d94",
    "outputId": "9a4c4ded-10c7-410c-ea74-6b706bdf0c42"
   },
   "outputs": [
    {
     "name": "stdout",
     "output_type": "stream",
     "text": [
      "Mean Absolute Error:  0.97921\n"
     ]
    }
   ],
   "source": [
    "test_MAE7=mean_absolute_error(y_test,y_pred_test) # calculating the mae score\n",
    "print('Mean Absolute Error: ', round(test_MAE7,5)) #pritng the results "
   ]
  },
  {
   "cell_type": "markdown",
   "id": "02720fc9",
   "metadata": {
    "id": "4824aff6"
   },
   "source": [
    "# RMSE"
   ]
  },
  {
   "cell_type": "code",
   "execution_count": 68,
   "id": "8563f641",
   "metadata": {
    "colab": {
     "base_uri": "https://localhost:8080/"
    },
    "id": "23d47100",
    "outputId": "198834f0-d89e-4aa8-8ca8-efb0b5b06d56"
   },
   "outputs": [
    {
     "name": "stdout",
     "output_type": "stream",
     "text": [
      "Mean Squared Error:  1.08518\n"
     ]
    }
   ],
   "source": [
    "test_rmse7=np.sqrt(test_mse7) # calculating the rmse score\n",
    "print('Mean Squared Error: ', round(test_rmse7,5)) #pritng the results "
   ]
  },
  {
   "cell_type": "markdown",
   "id": "acd01d78",
   "metadata": {
    "id": "5c6d4fe2"
   },
   "source": [
    "# MAPE"
   ]
  },
  {
   "cell_type": "code",
   "execution_count": 69,
   "id": "bb884821",
   "metadata": {
    "colab": {
     "base_uri": "https://localhost:8080/"
    },
    "id": "e40f50d2",
    "outputId": "2bdc3d67-297c-439a-d08f-a35145efc391"
   },
   "outputs": [
    {
     "name": "stdout",
     "output_type": "stream",
     "text": [
      "Mean Absolute Error:  0.65473\n"
     ]
    }
   ],
   "source": [
    "test_mape7=mean_absolute_percentage_error(y_test,y_pred_test) # calculating the mape score\n",
    "print('Mean Absolute Error: ', round(test_mape7,5)) #pritng the results "
   ]
  },
  {
   "cell_type": "code",
   "execution_count": 70,
   "id": "d809f6fa",
   "metadata": {},
   "outputs": [
    {
     "data": {
      "image/png": "[encoded data removed]",
      "text/plain": [
       "<Figure size 432x288 with 1 Axes>"
      ]
     },
     "metadata": {
      "needs_background": "light"
     },
     "output_type": "display_data"
    },
    {
     "data": {
      "image/png": "[encoded data removed]",
      "text/plain": [
       "<Figure size 1296x576 with 1 Axes>"
      ]
     },
     "metadata": {
      "needs_background": "light"
     },
     "output_type": "display_data"
    }
   ],
   "source": [
    "df = pd.DataFrame({'Actual': y_test, 'Predicted': y_pred_test})\n",
    "df2 = pd.DataFrame({'train': y_train})\n",
    "ax = df.plot()\n",
    "df2.plot(ax=ax)\n",
    "df.plot(kind='line',figsize=(18,8))\n",
    "plt.grid(which='major', linestyle='-', linewidth='0.5', color='green')\n",
    "plt.grid(which='minor', linestyle=':', linewidth='0.5', color='black')\n",
    "plt.show()"
   ]
  },
  {
   "cell_type": "markdown",
   "id": "5ecf1759",
   "metadata": {
    "id": "333f6c2d"
   },
   "source": [
    "# Random Forest Regression Model"
   ]
  },
  {
   "cell_type": "markdown",
   "id": "a9e63154",
   "metadata": {
    "id": "1523d015"
   },
   "source": [
    "### Parametrs"
   ]
  },
  {
   "cell_type": "code",
   "execution_count": 71,
   "id": "7e067236",
   "metadata": {
    "id": "3afa08f8"
   },
   "outputs": [],
   "source": [
    "params = { \n",
    "    'max_depth': [10,20,30,40,50],\n",
    "    'random_state':[10,20,30,40],\n",
    "    'min_samples_leaf':[10,20,30,40,50]\n",
    "}"
   ]
  },
  {
   "cell_type": "code",
   "execution_count": 72,
   "id": "275b120c",
   "metadata": {
    "id": "6765e9a6",
    "outputId": "4575fcb7-6f6b-458e-ed7c-2ff698622ab1"
   },
   "outputs": [
    {
     "name": "stdout",
     "output_type": "stream",
     "text": [
      "Wall time: 1.99 s\n"
     ]
    },
    {
     "data": {
      "text/plain": [
       "RandomizedSearchCV(cv=2, estimator=RandomForestRegressor(),\n",
       "                   param_distributions={'max_depth': [10, 20, 30, 40, 50],\n",
       "                                        'min_samples_leaf': [10, 20, 30, 40,\n",
       "                                                             50],\n",
       "                                        'random_state': [10, 20, 30, 40]})"
      ]
     },
     "execution_count": 72,
     "metadata": {},
     "output_type": "execute_result"
    }
   ],
   "source": [
    "%%time\n",
    "RF=RandomForestRegressor() # calling RF model for training \n",
    "Model_R = RandomizedSearchCV(estimator = RF, param_distributions = params, cv = 2) #calling search and it will help to get the best parametrs\n",
    "Model_R.fit(X_train, y_train) # Training this model"
   ]
  },
  {
   "cell_type": "markdown",
   "id": "181468c4",
   "metadata": {
    "id": "513cdbd9"
   },
   "source": [
    "### Best Parameter selected"
   ]
  },
  {
   "cell_type": "code",
   "execution_count": 73,
   "id": "6f592d86",
   "metadata": {
    "id": "-nqR2I5HQW1l",
    "outputId": "61ee68a3-a80f-4a75-f85d-b029316931d7"
   },
   "outputs": [
    {
     "data": {
      "text/plain": [
       "{'random_state': 40, 'min_samples_leaf': 50, 'max_depth': 40}"
      ]
     },
     "execution_count": 73,
     "metadata": {},
     "output_type": "execute_result"
    }
   ],
   "source": [
    "Model_R.best_params_"
   ]
  },
  {
   "cell_type": "markdown",
   "id": "2e36160b",
   "metadata": {
    "id": "9e0f001e"
   },
   "source": [
    "# Evaluation Measures on Test data"
   ]
  },
  {
   "cell_type": "markdown",
   "id": "82934931",
   "metadata": {
    "id": "d65f65e0"
   },
   "source": [
    "# MSE"
   ]
  },
  {
   "cell_type": "code",
   "execution_count": 74,
   "id": "67ebb272",
   "metadata": {
    "colab": {
     "base_uri": "https://localhost:8080/"
    },
    "id": "d270f9c8",
    "outputId": "ad753567-f48c-4af6-c5b3-96f8617f552d"
   },
   "outputs": [
    {
     "name": "stdout",
     "output_type": "stream",
     "text": [
      "Mean Squared Error:  0.46869\n"
     ]
    }
   ],
   "source": [
    "y_pred_test=Model_R.predict(X_test) # tetsing trained model on test data\n",
    "test_mse8=mean_squared_error(y_test,y_pred_test) # calculating the mse score\n",
    "print('Mean Squared Error: ', round(test_mse8,5)) #pritng the results "
   ]
  },
  {
   "cell_type": "markdown",
   "id": "7ca442a8",
   "metadata": {
    "id": "80f80d59"
   },
   "source": [
    "# MAE"
   ]
  },
  {
   "cell_type": "code",
   "execution_count": 75,
   "id": "9914fa02",
   "metadata": {
    "colab": {
     "base_uri": "https://localhost:8080/"
    },
    "id": "3125ac93",
    "outputId": "0102b3de-9428-4fa9-ff34-53da36c4192b"
   },
   "outputs": [
    {
     "name": "stdout",
     "output_type": "stream",
     "text": [
      "Mean Absolute Error:  0.5984\n"
     ]
    }
   ],
   "source": [
    "test_MAE8=mean_absolute_error(y_test,y_pred_test) # calculating the mae score\n",
    "print('Mean Absolute Error: ', round(test_MAE8,5)) #pritng the results "
   ]
  },
  {
   "cell_type": "markdown",
   "id": "a840bba9",
   "metadata": {
    "id": "316796c4"
   },
   "source": [
    "# RMSE"
   ]
  },
  {
   "cell_type": "code",
   "execution_count": 76,
   "id": "e46c0dc3",
   "metadata": {
    "colab": {
     "base_uri": "https://localhost:8080/"
    },
    "id": "8d172dc4",
    "outputId": "19d91c09-6447-4d60-de82-0dfc1470aa8f"
   },
   "outputs": [
    {
     "name": "stdout",
     "output_type": "stream",
     "text": [
      "Mean Squared Error:  0.68461\n"
     ]
    }
   ],
   "source": [
    "test_rmse8=np.sqrt(test_mse8) # calculating the rmse score\n",
    "print('Mean Squared Error: ', round(test_rmse8,5)) #pritng the results "
   ]
  },
  {
   "cell_type": "markdown",
   "id": "0513f4ee",
   "metadata": {
    "id": "67152a14"
   },
   "source": [
    "# MAPE"
   ]
  },
  {
   "cell_type": "code",
   "execution_count": 77,
   "id": "5bb3f024",
   "metadata": {
    "colab": {
     "base_uri": "https://localhost:8080/"
    },
    "id": "2a40945b",
    "outputId": "12ebe82e-4d48-43cc-b745-90e794e01ddd"
   },
   "outputs": [
    {
     "name": "stdout",
     "output_type": "stream",
     "text": [
      "Mean Absolute Error:  0.40493\n"
     ]
    }
   ],
   "source": [
    "test_mape8=mean_absolute_percentage_error(y_test,y_pred_test) # calculating the mape score\n",
    "print('Mean Absolute Error: ', round(test_mape8,5)) #pritng the results "
   ]
  },
  {
   "cell_type": "code",
   "execution_count": 78,
   "id": "06781e3c",
   "metadata": {},
   "outputs": [
    {
     "data": {
      "image/png": "[encoded data removed]",
      "text/plain": [
       "<Figure size 432x288 with 1 Axes>"
      ]
     },
     "metadata": {
      "needs_background": "light"
     },
     "output_type": "display_data"
    },
    {
     "data": {
      "image/png": "[encoded data removed]",
      "text/plain": [
       "<Figure size 1296x576 with 1 Axes>"
      ]
     },
     "metadata": {
      "needs_background": "light"
     },
     "output_type": "display_data"
    }
   ],
   "source": [
    "df = pd.DataFrame({'Actual': y_test, 'Predicted': y_pred_test})\n",
    "df2 = pd.DataFrame({'train': y_train})\n",
    "ax = df.plot()\n",
    "df2.plot(ax=ax)\n",
    "df.plot(kind='line',figsize=(18,8))\n",
    "plt.grid(which='major', linestyle='-', linewidth='0.5', color='green')\n",
    "plt.grid(which='minor', linestyle=':', linewidth='0.5', color='black')\n",
    "plt.show()"
   ]
  },
  {
   "cell_type": "markdown",
   "id": "bbc88fc4",
   "metadata": {
    "id": "62204063"
   },
   "source": [
    "# XGBoost Model"
   ]
  },
  {
   "cell_type": "markdown",
   "id": "2c29bbd7",
   "metadata": {
    "id": "bfb72077"
   },
   "source": [
    "### Parametrs"
   ]
  },
  {
   "cell_type": "code",
   "execution_count": 79,
   "id": "903cf9f4",
   "metadata": {
    "id": "05036ff5"
   },
   "outputs": [],
   "source": [
    "params = { \n",
    "    'base_score': [0.1,0.2,0.3,0.4,0.5,0.6],\n",
    "    'learning_rate':[0.1,0.2,0.3],\n",
    "    'n_estimators':[100,200,300,400],\n",
    "    'max_depth':[10,20,30,40,50]\n",
    "    \n",
    "}"
   ]
  },
  {
   "cell_type": "code",
   "execution_count": 80,
   "id": "e8db97ce",
   "metadata": {
    "id": "56a5d60c",
    "outputId": "5e09e0dd-2b33-48e4-84f8-78f8db771825"
   },
   "outputs": [
    {
     "name": "stdout",
     "output_type": "stream",
     "text": [
      "Wall time: 6 s\n"
     ]
    },
    {
     "data": {
      "text/plain": [
       "RandomizedSearchCV(cv=2,\n",
       "                   estimator=XGBRegressor(base_score=None, booster=None,\n",
       "                                          colsample_bylevel=None,\n",
       "                                          colsample_bynode=None,\n",
       "                                          colsample_bytree=None,\n",
       "                                          enable_categorical=False, gamma=None,\n",
       "                                          gpu_id=None, importance_type=None,\n",
       "                                          interaction_constraints=None,\n",
       "                                          learning_rate=None,\n",
       "                                          max_delta_step=None, max_depth=None,\n",
       "                                          min_child_weight=None, missing=nan,\n",
       "                                          monotone_constraints=...\n",
       "                                          n_estimators=100, n_jobs=None,\n",
       "                                          num_parallel_tree=None,\n",
       "                                          predictor=None, random_state=None,\n",
       "                                          reg_alpha=None, reg_lambda=None,\n",
       "                                          scale_pos_weight=None, subsample=None,\n",
       "                                          tree_method=None,\n",
       "                                          validate_parameters=None,\n",
       "                                          verbosity=None),\n",
       "                   param_distributions={'base_score': [0.1, 0.2, 0.3, 0.4, 0.5,\n",
       "                                                       0.6],\n",
       "                                        'learning_rate': [0.1, 0.2, 0.3],\n",
       "                                        'max_depth': [10, 20, 30, 40, 50],\n",
       "                                        'n_estimators': [100, 200, 300, 400]})"
      ]
     },
     "execution_count": 80,
     "metadata": {},
     "output_type": "execute_result"
    }
   ],
   "source": [
    "%%time\n",
    "XG=xgboost.XGBRegressor() # calling Xgboost model for training \n",
    "Model_R = RandomizedSearchCV(estimator = XG, param_distributions = params, cv = 2) #calling search and it will help to get the best parametrs\n",
    "Model_R.fit(X_train, y_train) # Training this model"
   ]
  },
  {
   "cell_type": "markdown",
   "id": "61668ea5",
   "metadata": {
    "id": "6163b9fe"
   },
   "source": [
    "### Best Parameter selected"
   ]
  },
  {
   "cell_type": "code",
   "execution_count": 81,
   "id": "118b293d",
   "metadata": {
    "id": "gMLsvsJlQW1r",
    "outputId": "cb3c937a-f146-415a-9298-d0f1cbb08d40"
   },
   "outputs": [
    {
     "data": {
      "text/plain": [
       "{'n_estimators': 300, 'max_depth': 40, 'learning_rate': 0.2, 'base_score': 0.1}"
      ]
     },
     "execution_count": 81,
     "metadata": {},
     "output_type": "execute_result"
    }
   ],
   "source": [
    "Model_R.best_params_"
   ]
  },
  {
   "cell_type": "markdown",
   "id": "7bb6b810",
   "metadata": {
    "id": "e4bdcd85"
   },
   "source": [
    "# Evaluation Measures on Test data"
   ]
  },
  {
   "cell_type": "markdown",
   "id": "1c58e936",
   "metadata": {
    "id": "9de31d6f"
   },
   "source": [
    "# MSE"
   ]
  },
  {
   "cell_type": "code",
   "execution_count": 82,
   "id": "62e87e70",
   "metadata": {
    "colab": {
     "base_uri": "https://localhost:8080/"
    },
    "id": "41499fe7",
    "outputId": "4b5cb1f9-f525-4381-e9aa-a8eb550b47e5"
   },
   "outputs": [
    {
     "name": "stdout",
     "output_type": "stream",
     "text": [
      "Mean Squared Error:  0.34456\n"
     ]
    }
   ],
   "source": [
    "y_pred_test=Model_R.predict(X_test) # tetsing trained model on test data\n",
    "test_mse9=mean_squared_error(y_test,y_pred_test) # calculating the mse score\n",
    "print('Mean Squared Error: ', round(test_mse9,5)) #pritng the results "
   ]
  },
  {
   "cell_type": "markdown",
   "id": "679f46b1",
   "metadata": {
    "id": "3a3b72f1"
   },
   "source": [
    "# MAE"
   ]
  },
  {
   "cell_type": "code",
   "execution_count": 83,
   "id": "9fa24981",
   "metadata": {
    "colab": {
     "base_uri": "https://localhost:8080/"
    },
    "id": "cc4fea7d",
    "outputId": "2c916d5b-62e6-4db4-a73f-fb96f2e6fdc8"
   },
   "outputs": [
    {
     "name": "stdout",
     "output_type": "stream",
     "text": [
      "Mean Absolute Error:  0.4894\n"
     ]
    }
   ],
   "source": [
    "test_MAE9=mean_absolute_error(y_test,y_pred_test) # calculating the mae score\n",
    "print('Mean Absolute Error: ', round(test_MAE9,5)) #pritng the results "
   ]
  },
  {
   "cell_type": "markdown",
   "id": "42ce4529",
   "metadata": {
    "id": "39fa63be"
   },
   "source": [
    "# RMSE"
   ]
  },
  {
   "cell_type": "code",
   "execution_count": 84,
   "id": "00ce00a7",
   "metadata": {
    "colab": {
     "base_uri": "https://localhost:8080/"
    },
    "id": "6a9e39a4",
    "outputId": "aa84567a-faff-43a5-d8f3-12ccbc4f53bb"
   },
   "outputs": [
    {
     "name": "stdout",
     "output_type": "stream",
     "text": [
      "Mean Squared Error:  0.58699\n"
     ]
    }
   ],
   "source": [
    "test_rmse9=np.sqrt(test_mse9) # calculating the rmse score\n",
    "print('Mean Squared Error: ', round(test_rmse9,5)) #pritng the results "
   ]
  },
  {
   "cell_type": "markdown",
   "id": "92ced657",
   "metadata": {
    "id": "6a518a0a"
   },
   "source": [
    "# MAPE"
   ]
  },
  {
   "cell_type": "code",
   "execution_count": 85,
   "id": "f3801cb1",
   "metadata": {
    "colab": {
     "base_uri": "https://localhost:8080/"
    },
    "id": "0d2862e5",
    "outputId": "2cec732c-5c40-431c-ab76-1b9f133911bd"
   },
   "outputs": [
    {
     "name": "stdout",
     "output_type": "stream",
     "text": [
      "Mean Absolute Error:  0.33747\n"
     ]
    }
   ],
   "source": [
    "test_mape9=mean_absolute_percentage_error(y_test,y_pred_test) # calculating the mape score\n",
    "print('Mean Absolute Error: ', round(test_mape9,5)) #pritng the results "
   ]
  },
  {
   "cell_type": "code",
   "execution_count": 86,
   "id": "1ec7eb6b",
   "metadata": {},
   "outputs": [
    {
     "data": {
      "image/png": "[encoded data removed]",
      "text/plain": [
       "<Figure size 432x288 with 1 Axes>"
      ]
     },
     "metadata": {
      "needs_background": "light"
     },
     "output_type": "display_data"
    },
    {
     "data": {
      "image/png": "[encoded data removed]",
      "text/plain": [
       "<Figure size 1296x576 with 1 Axes>"
      ]
     },
     "metadata": {
      "needs_background": "light"
     },
     "output_type": "display_data"
    }
   ],
   "source": [
    "df = pd.DataFrame({'Actual': y_test, 'Predicted': y_pred_test})\n",
    "df2 = pd.DataFrame({'train': y_train})\n",
    "ax = df.plot()\n",
    "df2.plot(ax=ax)\n",
    "df.plot(kind='line',figsize=(18,8))\n",
    "plt.grid(which='major', linestyle='-', linewidth='0.5', color='green')\n",
    "plt.grid(which='minor', linestyle=':', linewidth='0.5', color='black')\n",
    "plt.show()"
   ]
  },
  {
   "cell_type": "markdown",
   "id": "a7b59be6",
   "metadata": {
    "id": "661a8b18"
   },
   "source": [
    "# Comparison of all algorithms Results on MSE score"
   ]
  },
  {
   "cell_type": "code",
   "execution_count": 87,
   "id": "687d09e8",
   "metadata": {
    "colab": {
     "base_uri": "https://localhost:8080/"
    },
    "id": "04a3b908",
    "outputId": "74583119-420c-44c1-e6d2-92aa228e2f03",
    "scrolled": true
   },
   "outputs": [
    {
     "name": "stdout",
     "output_type": "stream",
     "text": [
      "\n",
      "\n",
      "Comparison of all algorithms\n",
      "+-------------------------+-----------+\n",
      "|          Model          | MSE score |\n",
      "+-------------------------+-----------+\n",
      "|      KNN Algorithm      |   0.021   |\n",
      "|      SVR Algorithm      |   0.022   |\n",
      "|      MLP Algorithm      |   0.423   |\n",
      "|     Ridge Algorithm     |   1.178   |\n",
      "| Random Forest Algorithm |   0.469   |\n",
      "|      XGB Algorithm      |   0.345   |\n",
      "+-------------------------+-----------+\n",
      "\n",
      "\n"
     ]
    }
   ],
   "source": [
    "x = PrettyTable() #calling prettytable for the table \n",
    "print('\\n') # for new line \n",
    "print(\"Comparison of all algorithms\") # for  title \n",
    "x.field_names = [\"Model\", \"MSE score\"] # for  column names \n",
    "\n",
    "x.add_row([\"KNN Algorithm\", round(test_mse1,3)]) # for the results of mse \n",
    "x.add_row([\"SVR Algorithm\", round(test_mse2,3)]) # for the results of mse \n",
    "x.add_row([\"MLP Algorithm\", round(test_mse3,3)]) # for the results of mse \n",
    "x.add_row([\"Ridge Algorithm\", round(test_mse7,3)]) # for the results of mse \n",
    "x.add_row([\"Random Forest Algorithm\", round(test_mse8,3)]) # for the results of mse \n",
    "x.add_row([\"XGB Algorithm\", round(test_mse9,3)]) # for the results of mse \n",
    "\n",
    "\n",
    "print(x) # printing the table \n",
    "print('\\n') #new line "
   ]
  },
  {
   "cell_type": "markdown",
   "id": "d3dd1dfe",
   "metadata": {
    "id": "00274d05"
   },
   "source": [
    "# Comparison of all algorithms Results on MAE score"
   ]
  },
  {
   "cell_type": "code",
   "execution_count": 88,
   "id": "732556dd",
   "metadata": {
    "colab": {
     "base_uri": "https://localhost:8080/"
    },
    "id": "c7ffca1a",
    "outputId": "a440b270-1b62-48d9-a5dc-980d0c5ea6a6",
    "scrolled": true
   },
   "outputs": [
    {
     "name": "stdout",
     "output_type": "stream",
     "text": [
      "\n",
      "\n",
      "Comparison of all algorithms\n",
      "+-------------------------+-----------+\n",
      "|          Model          | MAE score |\n",
      "+-------------------------+-----------+\n",
      "|      KNN Algorithm      |   0.122   |\n",
      "|      SVR Algorithm      |   0.123   |\n",
      "|      MLP Algorithm      |   0.517   |\n",
      "|     Ridge Algorithm     |   0.979   |\n",
      "| Random Forest Algorithm |   0.598   |\n",
      "|      XGB Algorithm      |   0.489   |\n",
      "+-------------------------+-----------+\n",
      "\n",
      "\n"
     ]
    }
   ],
   "source": [
    "x = PrettyTable() #calling prettytable for the table \n",
    "print('\\n') # for new line \n",
    "print(\"Comparison of all algorithms\") # for  title \n",
    "x.field_names = [\"Model\", \"MAE score\"] # for  column names \n",
    "\n",
    "\n",
    "x.add_row([\"KNN Algorithm\", round(test_MAE1,3)]) # for the results of MAE \n",
    "x.add_row([\"SVR Algorithm\", round(test_MAE2,3)]) # for the results of MAE \n",
    "x.add_row([\"MLP Algorithm\", round(test_MAE3,3)]) # for the results of MAE \n",
    "x.add_row([\"Ridge Algorithm\", round(test_MAE7,3)]) # for the results of MAE  \n",
    "x.add_row([\"Random Forest Algorithm\", round(test_MAE8,3)]) # for the results of MAE \n",
    "x.add_row([\"XGB Algorithm\", round(test_MAE9,3)]) # for the results of MAE \n",
    "print(x) # printing the table \n",
    "print('\\n') #new line "
   ]
  },
  {
   "cell_type": "markdown",
   "id": "b91c13bb",
   "metadata": {
    "id": "e565e5df"
   },
   "source": [
    "# Comparison of all algorithms Results on RMSE score"
   ]
  },
  {
   "cell_type": "code",
   "execution_count": 89,
   "id": "a8c44840",
   "metadata": {
    "colab": {
     "base_uri": "https://localhost:8080/"
    },
    "id": "f6d34ed7",
    "outputId": "8d0c8a32-99ef-418d-db12-c8acc6d0c37d",
    "scrolled": true
   },
   "outputs": [
    {
     "name": "stdout",
     "output_type": "stream",
     "text": [
      "\n",
      "\n",
      "Comparison of all algorithms\n",
      "+-------------------------+------------+\n",
      "|          Model          | RMSE score |\n",
      "+-------------------------+------------+\n",
      "|      KNN Algorithm      |   0.146    |\n",
      "|      SVR Algorithm      |   0.147    |\n",
      "|      MLP Algorithm      |    0.65    |\n",
      "|     Ridge Algorithm     |   1.085    |\n",
      "| Random Forest Algorithm |   0.685    |\n",
      "|      XGB Algorithm      |   0.587    |\n",
      "+-------------------------+------------+\n",
      "\n",
      "\n"
     ]
    }
   ],
   "source": [
    "x = PrettyTable() #calling prettytable for the table \n",
    "print('\\n') # for new line \n",
    "print(\"Comparison of all algorithms\") # for  title \n",
    "x.field_names = [\"Model\", \"RMSE score\"] # for  column names \n",
    "\n",
    "x.add_row([\"KNN Algorithm\", round(test_rmse1,3)]) # for the results of rmse \n",
    "x.add_row([\"SVR Algorithm\", round(test_rmse2,3)]) # for the results of rmse \n",
    "x.add_row([\"MLP Algorithm\", round(test_rmse3,3)]) # for the results of rmse \n",
    "x.add_row([\"Ridge Algorithm\", round(test_rmse7,3)]) # for the results of rmse \n",
    "x.add_row([\"Random Forest Algorithm\", round(test_rmse8,3)]) # for the results of rmse \n",
    "x.add_row([\"XGB Algorithm\", round(test_rmse9,3)]) # for the results of rmse \n",
    "\n",
    "\n",
    "\n",
    "print(x) # printing the table \n",
    "print('\\n') #new line "
   ]
  },
  {
   "cell_type": "markdown",
   "id": "c9349018",
   "metadata": {
    "id": "67e4b146"
   },
   "source": [
    "# Comparison of all algorithms Results on MAPE score"
   ]
  },
  {
   "cell_type": "code",
   "execution_count": 90,
   "id": "4de05d41",
   "metadata": {
    "colab": {
     "base_uri": "https://localhost:8080/"
    },
    "id": "c997a937",
    "outputId": "97ca14ae-88ef-4e06-aeb0-40ae55b3ce39",
    "scrolled": true
   },
   "outputs": [
    {
     "name": "stdout",
     "output_type": "stream",
     "text": [
      "\n",
      "\n",
      "Comparison of all algorithms\n",
      "+-------------------------+------------+\n",
      "|          Model          | MAPE score |\n",
      "+-------------------------+------------+\n",
      "|      KNN Algorithm      |   0.078    |\n",
      "|      SVR Algorithm      |   0.077    |\n",
      "|      MLP Algorithm      |   0.362    |\n",
      "|     Ridge Algorithm     |   0.655    |\n",
      "| Random Forest Algorithm |   0.405    |\n",
      "|      XGB Algorithm      |   0.337    |\n",
      "+-------------------------+------------+\n",
      "\n",
      "\n"
     ]
    }
   ],
   "source": [
    "x = PrettyTable() #calling prettytable for the table \n",
    "print('\\n') # for new line \n",
    "print(\"Comparison of all algorithms\") # for  title \n",
    "x.field_names = [\"Model\", \"MAPE score\"] # for  column names \n",
    "\n",
    "x.add_row([\"KNN Algorithm\", round(test_mape1,3)]) # for the results of mape \n",
    "x.add_row([\"SVR Algorithm\", round(test_mape2,3)]) # for the results of mape \n",
    "x.add_row([\"MLP Algorithm\", round(test_mape3,3)]) # for the results of mape \n",
    "x.add_row([\"Ridge Algorithm\", round(test_mape7,3)]) # for the results of mape \n",
    "x.add_row([\"Random Forest Algorithm\", round(test_mape8,3)]) # for the results of mape \n",
    "x.add_row([\"XGB Algorithm\", round(test_mape9,3)]) # for the results of mape \n",
    "\n",
    "\n",
    "print(x) # printing the table \n",
    "print('\\n') #new line "
   ]
  },
  {
   "cell_type": "code",
   "execution_count": null,
   "id": "c1c66aca",
   "metadata": {},
   "outputs": [],
   "source": []
  }
 ],
 "metadata": {
  "colab": {
   "collapsed_sections": [
    "551b0675",
    "d998dc9c",
    "730e175f",
    "81e417ea",
    "84b32d8e",
    "9520a0d9",
    "43e6f9a4",
    "f83f7e20",
    "ad95b17f",
    "33c07bfe",
    "0b6205cc",
    "52333f25",
    "61c9d100",
    "h3QT9P9OMZ-7",
    "0dbc04db",
    "564d00c7",
    "4902bc8d",
    "149b8f12",
    "d65c4cb0",
    "27747d0a",
    "aa537618",
    "aadcaafa",
    "100e989e",
    "f8822ca5",
    "24c7a86b",
    "cd768cce",
    "e5cb8cb1",
    "30ee8f14",
    "24e5d5ba",
    "4321abf1",
    "c6adc85e",
    "264cc82e",
    "dad9a2a5",
    "e30c698e",
    "59fe3989",
    "a6d95fb7",
    "2321c33b",
    "f40c5adf",
    "9b387b65",
    "c610f1c7",
    "2cb40234",
    "6cd46073",
    "036e1457",
    "ca934a25",
    "77738e90",
    "a9b2b0e2",
    "f12a31db",
    "7d0cf697",
    "7ca98e87",
    "957be225",
    "47015631",
    "aaa88b65",
    "3aa6dbe6",
    "d419c43b",
    "fe5606cb",
    "08d19da3",
    "ae158bc8",
    "4254bd69",
    "59cb31c8",
    "49e20662",
    "82f1308f",
    "7176c2ff",
    "845e650b",
    "49cdda7e",
    "1520c012",
    "7db510fc",
    "f1b2e4b5",
    "02ed8d01",
    "d11c5b05",
    "f10d9897",
    "21e75249",
    "bdbec6b8",
    "a459ec52",
    "727564cd",
    "d1d13856",
    "fe04678f",
    "4824aff6",
    "5c6d4fe2",
    "333f6c2d",
    "9e0f001e",
    "d65f65e0",
    "80f80d59",
    "316796c4",
    "67152a14",
    "62204063",
    "e4bdcd85",
    "9de31d6f",
    "3a3b72f1",
    "39fa63be",
    "6a518a0a",
    "d371f31e",
    "776ed253",
    "b5cf2d9c",
    "d0ade074",
    "20050f8e",
    "c95a6a62",
    "47738353",
    "aebc24ae",
    "e4602a85",
    "6ee11c4c",
    "94b6b424",
    "2708f931",
    "661a8b18",
    "00274d05",
    "e565e5df",
    "67e4b146",
    "87f88cfc",
    "01f8f3e4",
    "b60c9078",
    "e5a9877d",
    "4ee06c8d",
    "773bb3ae",
    "98194cd4"
   ],
   "name": "ML Models With Indicators (ADA).ipynb",
   "provenance": []
  },
  "kernelspec": {
   "display_name": "Python 3 (ipykernel)",
   "language": "python",
   "name": "python3"
  },
  "language_info": {
   "codemirror_mode": {
    "name": "ipython",
    "version": 3
   },
   "file_extension": ".py",
   "mimetype": "text/x-python",
   "name": "python",
   "nbconvert_exporter": "python",
   "pygments_lexer": "ipython3",
   "version": "3.8.3"
  }
 },
 "nbformat": 4,
 "nbformat_minor": 5
}
