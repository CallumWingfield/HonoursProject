{
 "cells": [
  {
   "cell_type": "markdown",
   "id": "b23d8ab5",
   "metadata": {
    "id": "125a9138"
   },
   "source": [
    "# Importing Python libraries"
   ]
  },
  {
   "cell_type": "code",
   "execution_count": 1,
   "id": "3d7a169e",
   "metadata": {
    "colab": {
     "base_uri": "https://localhost:8080/",
     "height": 443
    },
    "id": "f9aadf58",
    "outputId": "e0e41f09-e8ee-4ca4-9509-8bdf8f2f71ff"
   },
   "outputs": [
    {
     "name": "stderr",
     "output_type": "stream",
     "text": [
      "C:\\Users\\callu\\anaconda3\\lib\\site-packages\\xgboost\\compat.py:36: FutureWarning: pandas.Int64Index is deprecated and will be removed from pandas in a future version. Use pandas.Index with the appropriate dtype instead.\n",
      "  from pandas import MultiIndex, Int64Index\n",
      "C:\\Users\\callu\\anaconda3\\lib\\site-packages\\statsmodels\\compat\\pandas.py:61: FutureWarning: pandas.Int64Index is deprecated and will be removed from pandas in a future version. Use pandas.Index with the appropriate dtype instead.\n",
      "  from pandas import Int64Index as NumericIndex\n"
     ]
    }
   ],
   "source": [
    "import numpy as np  # library for numeric calculations   \n",
    "import pandas as pd # library for reading data \n",
    "import seaborn as sns # library for plots \n",
    "from matplotlib import cm # library fo plots \n",
    "import matplotlib.pyplot as plt # library for plots \n",
    "from datetime import datetime # library to get the current time \n",
    "import datetime # library for time \n",
    "from sklearn.metrics import mean_squared_error # library for evaluation  mse \n",
    "from math import sqrt  # library for evaluation  rmse\n",
    "from sklearn.metrics import mean_absolute_error # library for evaluation mae \n",
    "from sklearn.metrics import mean_absolute_percentage_error # library for evaluation  mape\n",
    "from prettytable import PrettyTable # library for for comparison in tables \n",
    "from plotly.subplots import make_subplots # library for plots \n",
    "import plotly.graph_objs as go # library for plots \n",
    "from sklearn.linear_model import LinearRegression # library for linear regression model training \n",
    "import xgboost # library for xgboost model training \n",
    "from sklearn.ensemble import RandomForestRegressor # library for random forest model training \n",
    "from sklearn import linear_model # library for ridge model training \n",
    "from sklearn.neural_network import MLPRegressor # library for Mlp model training \n",
    "from sklearn.svm import SVR # library for SVR model training \n",
    "import re \n",
    "import string\n",
    "from collections import Counter \n",
    "from sklearn import preprocessing\n",
    "from matplotlib import rcParams\n",
    "from sklearn.feature_extraction.text import TfidfVectorizer\n",
    "import tweepy as tw \n",
    "from sklearn.neighbors import KNeighborsRegressor # library for KNN model training \n",
    "from statsmodels.tsa.statespace.sarimax import SARIMAX # library for Sarima model training \n",
    "from keras.models import Model # library for for LSTM model \n",
    "from keras.layers import LSTM, Activation, Input, Embedding # library for LSTM\n",
    "from keras.layers import Activation # library for RNN \n",
    "from keras.models import Sequential # library for RNN \n",
    "from keras.layers import Dense, Conv1D, Flatten, Dropout # library for LSTM\n",
    "import datetime as dt #library for dates \n",
    "from binance import Client #library for getting python binance data\n",
    "from sklearn.model_selection import RandomizedSearchCV #library for seraching best parametr\n",
    "from keras.wrappers.scikit_learn import KerasClassifier #library for neural network model\n",
    "from sklearn.model_selection import GridSearchCV #library for searching best parameter\n",
    "import statsmodels.api as smapi\n",
    "\n",
    "from wordcloud import WordCloud\n",
    "import nltk\n",
    "from nltk import word_tokenize\n",
    "from collections import Counter\n",
    "from nltk.tokenize import RegexpTokenizer\n",
    "from nltk.corpus import stopwords\n",
    "import re\n",
    "import spacy\n",
    "from keras.preprocessing.text import Tokenizer\n",
    "import matplotlib.cm as cm\n",
    "from matplotlib import rcParams\n",
    "from vaderSentiment.vaderSentiment import SentimentIntensityAnalyzer\n",
    "\n",
    "import warnings # library to avoid system erros \n",
    "warnings.filterwarnings(\"ignore\")  # library to avoid system erros "
   ]
  },
  {
   "cell_type": "markdown",
   "id": "b96e0d3c",
   "metadata": {
    "id": "19a6d59e"
   },
   "source": [
    "# ------------------------------------------------------------------------------------------------------"
   ]
  },
  {
   "cell_type": "markdown",
   "id": "8d87931b",
   "metadata": {},
   "source": [
    "## Settings"
   ]
  },
  {
   "cell_type": "code",
   "execution_count": 2,
   "id": "2c5fc067",
   "metadata": {},
   "outputs": [],
   "source": [
    "cryptoTicker = \"ADA\"\n",
    "cryptoPair = \"USDT\"\n",
    "\n",
    "trainTestSplit = 0.8"
   ]
  },
  {
   "cell_type": "markdown",
   "id": "bada6fbd",
   "metadata": {
    "id": "d8d7a44a"
   },
   "source": [
    "# Loading dataset"
   ]
  },
  {
   "cell_type": "code",
   "execution_count": 3,
   "id": "2f307c80",
   "metadata": {
    "id": "2ce5bf42"
   },
   "outputs": [],
   "source": [
    "api_key = 'API' \n",
    "api_secret = 'SECRET_API'\n",
    "client = Client(api_key, api_secret)\n",
    "klines = client.get_historical_klines(\"ADAUSDT\", Client.KLINE_INTERVAL_4HOUR, \"2021-01-01\", \"2022-01-01\")\n",
    "data = pd.DataFrame(klines)\n",
    "data.columns = ['open_time','open', 'high', 'low', 'close', 'volume','close_time', 'qav','num_trades','taker_base_vol','taker_quote_vol', 'ignore']\n",
    "data.index = [dt.datetime.fromtimestamp(x/1000.0) for x in data.close_time]\n",
    "data=data[['close']]\n",
    "data = data.iloc[:-1 , :]"
   ]
  },
  {
   "cell_type": "markdown",
   "id": "897296c3",
   "metadata": {
    "id": "ef461f8d"
   },
   "source": [
    "# ------------------------------------------------------------------------------------------------------"
   ]
  },
  {
   "cell_type": "markdown",
   "id": "994d8b77",
   "metadata": {
    "id": "47f7d9eb"
   },
   "source": [
    "# Exploratory Data analysis"
   ]
  },
  {
   "cell_type": "markdown",
   "id": "29c03183",
   "metadata": {
    "id": "ea84d26f"
   },
   "source": [
    "# ------------------------------------------------------------------------------------------------------"
   ]
  },
  {
   "cell_type": "markdown",
   "id": "b97afee2",
   "metadata": {
    "id": "760697cb"
   },
   "source": [
    "### Five top records of data"
   ]
  },
  {
   "cell_type": "code",
   "execution_count": 4,
   "id": "b62d812f",
   "metadata": {
    "colab": {
     "base_uri": "https://localhost:8080/",
     "height": 238
    },
    "id": "3299c27a",
    "outputId": "48bc1b27-5eb0-4e89-fa76-cc158091d61e"
   },
   "outputs": [
    {
     "data": {
      "text/html": [
       "<div>\n",
       "<style scoped>\n",
       "    .dataframe tbody tr th:only-of-type {\n",
       "        vertical-align: middle;\n",
       "    }\n",
       "\n",
       "    .dataframe tbody tr th {\n",
       "        vertical-align: top;\n",
       "    }\n",
       "\n",
       "    .dataframe thead th {\n",
       "        text-align: right;\n",
       "    }\n",
       "</style>\n",
       "<table border=\"1\" class=\"dataframe\">\n",
       "  <thead>\n",
       "    <tr style=\"text-align: right;\">\n",
       "      <th></th>\n",
       "      <th>close</th>\n",
       "    </tr>\n",
       "  </thead>\n",
       "  <tbody>\n",
       "    <tr>\n",
       "      <th>2021-01-01 03:59:59.999</th>\n",
       "      <td>0.18292000</td>\n",
       "    </tr>\n",
       "    <tr>\n",
       "      <th>2021-01-01 07:59:59.999</th>\n",
       "      <td>0.17955000</td>\n",
       "    </tr>\n",
       "    <tr>\n",
       "      <th>2021-01-01 11:59:59.999</th>\n",
       "      <td>0.17950000</td>\n",
       "    </tr>\n",
       "    <tr>\n",
       "      <th>2021-01-01 15:59:59.999</th>\n",
       "      <td>0.18055000</td>\n",
       "    </tr>\n",
       "    <tr>\n",
       "      <th>2021-01-01 19:59:59.999</th>\n",
       "      <td>0.17432000</td>\n",
       "    </tr>\n",
       "  </tbody>\n",
       "</table>\n",
       "</div>"
      ],
      "text/plain": [
       "                              close\n",
       "2021-01-01 03:59:59.999  0.18292000\n",
       "2021-01-01 07:59:59.999  0.17955000\n",
       "2021-01-01 11:59:59.999  0.17950000\n",
       "2021-01-01 15:59:59.999  0.18055000\n",
       "2021-01-01 19:59:59.999  0.17432000"
      ]
     },
     "execution_count": 4,
     "metadata": {},
     "output_type": "execute_result"
    }
   ],
   "source": [
    "data.head() # showing the first 5 rows of data"
   ]
  },
  {
   "cell_type": "markdown",
   "id": "27010db2",
   "metadata": {
    "id": "cb60314a"
   },
   "source": [
    "### Five last records of data"
   ]
  },
  {
   "cell_type": "code",
   "execution_count": 5,
   "id": "f1374cd7",
   "metadata": {
    "colab": {
     "base_uri": "https://localhost:8080/",
     "height": 238
    },
    "id": "db188544",
    "outputId": "0e7c865f-4d3f-42c1-9382-782725fb5123"
   },
   "outputs": [
    {
     "data": {
      "text/html": [
       "<div>\n",
       "<style scoped>\n",
       "    .dataframe tbody tr th:only-of-type {\n",
       "        vertical-align: middle;\n",
       "    }\n",
       "\n",
       "    .dataframe tbody tr th {\n",
       "        vertical-align: top;\n",
       "    }\n",
       "\n",
       "    .dataframe thead th {\n",
       "        text-align: right;\n",
       "    }\n",
       "</style>\n",
       "<table border=\"1\" class=\"dataframe\">\n",
       "  <thead>\n",
       "    <tr style=\"text-align: right;\">\n",
       "      <th></th>\n",
       "      <th>close</th>\n",
       "    </tr>\n",
       "  </thead>\n",
       "  <tbody>\n",
       "    <tr>\n",
       "      <th>2021-12-31 07:59:59.999</th>\n",
       "      <td>1.32900000</td>\n",
       "    </tr>\n",
       "    <tr>\n",
       "      <th>2021-12-31 11:59:59.999</th>\n",
       "      <td>1.36100000</td>\n",
       "    </tr>\n",
       "    <tr>\n",
       "      <th>2021-12-31 15:59:59.999</th>\n",
       "      <td>1.35500000</td>\n",
       "    </tr>\n",
       "    <tr>\n",
       "      <th>2021-12-31 19:59:59.999</th>\n",
       "      <td>1.28600000</td>\n",
       "    </tr>\n",
       "    <tr>\n",
       "      <th>2021-12-31 23:59:59.999</th>\n",
       "      <td>1.30800000</td>\n",
       "    </tr>\n",
       "  </tbody>\n",
       "</table>\n",
       "</div>"
      ],
      "text/plain": [
       "                              close\n",
       "2021-12-31 07:59:59.999  1.32900000\n",
       "2021-12-31 11:59:59.999  1.36100000\n",
       "2021-12-31 15:59:59.999  1.35500000\n",
       "2021-12-31 19:59:59.999  1.28600000\n",
       "2021-12-31 23:59:59.999  1.30800000"
      ]
     },
     "execution_count": 5,
     "metadata": {},
     "output_type": "execute_result"
    }
   ],
   "source": [
    "data.tail() # showing the last 5 rows of data"
   ]
  },
  {
   "cell_type": "markdown",
   "id": "b17f9c5c",
   "metadata": {
    "id": "af65dd1a"
   },
   "source": [
    "### Coloumns/features in data"
   ]
  },
  {
   "cell_type": "code",
   "execution_count": 6,
   "id": "5b6fd0f3",
   "metadata": {
    "colab": {
     "base_uri": "https://localhost:8080/"
    },
    "id": "d413ea4f",
    "outputId": "ad260aca-74c8-47b1-f2e7-94f36e754ce1"
   },
   "outputs": [
    {
     "data": {
      "text/plain": [
       "Index(['close'], dtype='object')"
      ]
     },
     "execution_count": 6,
     "metadata": {},
     "output_type": "execute_result"
    }
   ],
   "source": [
    "data.columns #columns in data"
   ]
  },
  {
   "cell_type": "markdown",
   "id": "369fab6c",
   "metadata": {
    "id": "551b0675"
   },
   "source": [
    "### Length of data"
   ]
  },
  {
   "cell_type": "code",
   "execution_count": 7,
   "id": "8e868516",
   "metadata": {
    "colab": {
     "base_uri": "https://localhost:8080/"
    },
    "id": "6b2f088a",
    "outputId": "a995e1e7-db21-4440-a93d-c4be3a88ca68"
   },
   "outputs": [
    {
     "name": "stdout",
     "output_type": "stream",
     "text": [
      "lenght of data is 2190\n"
     ]
    }
   ],
   "source": [
    "print('lenght of data is', len(data)) #lenght of data"
   ]
  },
  {
   "cell_type": "markdown",
   "id": "bfd86dba",
   "metadata": {
    "id": "d998dc9c"
   },
   "source": [
    "### Shape of data"
   ]
  },
  {
   "cell_type": "code",
   "execution_count": 8,
   "id": "4cedb5c4",
   "metadata": {
    "colab": {
     "base_uri": "https://localhost:8080/"
    },
    "id": "945c79cd",
    "outputId": "9e015bd4-37f7-48ea-a316-a8486c1d5f29"
   },
   "outputs": [
    {
     "data": {
      "text/plain": [
       "(2190, 1)"
      ]
     },
     "execution_count": 8,
     "metadata": {},
     "output_type": "execute_result"
    }
   ],
   "source": [
    "data.shape #shape of data"
   ]
  },
  {
   "cell_type": "markdown",
   "id": "5e2d67ef",
   "metadata": {
    "id": "730e175f"
   },
   "source": [
    "### Data information"
   ]
  },
  {
   "cell_type": "code",
   "execution_count": 9,
   "id": "4508de1d",
   "metadata": {
    "colab": {
     "base_uri": "https://localhost:8080/"
    },
    "id": "772fb030",
    "outputId": "edbced32-3d56-4ebb-b7e5-12c73071f6a6",
    "scrolled": false
   },
   "outputs": [
    {
     "name": "stdout",
     "output_type": "stream",
     "text": [
      "<class 'pandas.core.frame.DataFrame'>\n",
      "DatetimeIndex: 2190 entries, 2021-01-01 03:59:59.999000 to 2021-12-31 23:59:59.999000\n",
      "Data columns (total 1 columns):\n",
      " #   Column  Non-Null Count  Dtype \n",
      "---  ------  --------------  ----- \n",
      " 0   close   2190 non-null   object\n",
      "dtypes: object(1)\n",
      "memory usage: 34.2+ KB\n"
     ]
    }
   ],
   "source": [
    "data.info() #information of data "
   ]
  },
  {
   "cell_type": "markdown",
   "id": "19685c2f",
   "metadata": {
    "id": "81e417ea"
   },
   "source": [
    "### Data types of all coloumns"
   ]
  },
  {
   "cell_type": "code",
   "execution_count": 10,
   "id": "50f7920b",
   "metadata": {
    "colab": {
     "base_uri": "https://localhost:8080/"
    },
    "id": "848e9497",
    "outputId": "8bc13b78-9b69-4e6b-e643-69f247151c98"
   },
   "outputs": [
    {
     "data": {
      "text/plain": [
       "close    object\n",
       "dtype: object"
      ]
     },
     "execution_count": 10,
     "metadata": {},
     "output_type": "execute_result"
    }
   ],
   "source": [
    "data.dtypes #data types of data"
   ]
  },
  {
   "cell_type": "markdown",
   "id": "e4967782",
   "metadata": {
    "id": "84b32d8e"
   },
   "source": [
    "### Checking missing Values"
   ]
  },
  {
   "cell_type": "code",
   "execution_count": 11,
   "id": "ab9721e2",
   "metadata": {
    "colab": {
     "base_uri": "https://localhost:8080/",
     "height": 81
    },
    "id": "78945cb8",
    "outputId": "1cf3a6f6-947f-4223-d34c-670f9179811c",
    "scrolled": true
   },
   "outputs": [
    {
     "data": {
      "text/html": [
       "<div>\n",
       "<style scoped>\n",
       "    .dataframe tbody tr th:only-of-type {\n",
       "        vertical-align: middle;\n",
       "    }\n",
       "\n",
       "    .dataframe tbody tr th {\n",
       "        vertical-align: top;\n",
       "    }\n",
       "\n",
       "    .dataframe thead th {\n",
       "        text-align: right;\n",
       "    }\n",
       "</style>\n",
       "<table border=\"1\" class=\"dataframe\">\n",
       "  <thead>\n",
       "    <tr style=\"text-align: right;\">\n",
       "      <th></th>\n",
       "      <th>close</th>\n",
       "    </tr>\n",
       "  </thead>\n",
       "  <tbody>\n",
       "  </tbody>\n",
       "</table>\n",
       "</div>"
      ],
      "text/plain": [
       "Empty DataFrame\n",
       "Columns: [close]\n",
       "Index: []"
      ]
     },
     "execution_count": 11,
     "metadata": {},
     "output_type": "execute_result"
    }
   ],
   "source": [
    "data[data.isnull().any(axis=1)].head() #checking the null values "
   ]
  },
  {
   "cell_type": "markdown",
   "id": "80774a10",
   "metadata": {
    "id": "9520a0d9"
   },
   "source": [
    "### Count of missing values"
   ]
  },
  {
   "cell_type": "code",
   "execution_count": 12,
   "id": "3daacf61",
   "metadata": {
    "colab": {
     "base_uri": "https://localhost:8080/"
    },
    "id": "d66325ae",
    "outputId": "e8f6bcc8-2bdf-45ff-dcca-04ce8cd2b132",
    "scrolled": true
   },
   "outputs": [
    {
     "data": {
      "text/plain": [
       "0"
      ]
     },
     "execution_count": 12,
     "metadata": {},
     "output_type": "execute_result"
    }
   ],
   "source": [
    "np.sum(data.isnull().any(axis=1)) #checking the null values "
   ]
  },
  {
   "cell_type": "markdown",
   "id": "5ec84f17",
   "metadata": {
    "id": "43e6f9a4"
   },
   "source": [
    "### Is there any missing values?"
   ]
  },
  {
   "cell_type": "code",
   "execution_count": 13,
   "id": "8aeae35f",
   "metadata": {
    "colab": {
     "base_uri": "https://localhost:8080/"
    },
    "id": "9fdde10e",
    "outputId": "0159a14f-6452-4083-ec87-9fad323b8fdf"
   },
   "outputs": [
    {
     "data": {
      "text/plain": [
       "False"
      ]
     },
     "execution_count": 13,
     "metadata": {},
     "output_type": "execute_result"
    }
   ],
   "source": [
    "data.isnull().values.any() #checking the null values "
   ]
  },
  {
   "cell_type": "markdown",
   "id": "9b1ac935",
   "metadata": {
    "id": "f83f7e20"
   },
   "source": [
    "### Counts of missing values in each column"
   ]
  },
  {
   "cell_type": "code",
   "execution_count": 14,
   "id": "e06bb346",
   "metadata": {
    "colab": {
     "base_uri": "https://localhost:8080/"
    },
    "id": "9b4aeb06",
    "outputId": "82bbb771-b717-460e-d9e8-f52eb130e92b",
    "scrolled": true
   },
   "outputs": [
    {
     "data": {
      "text/plain": [
       "close    0\n",
       "dtype: int64"
      ]
     },
     "execution_count": 14,
     "metadata": {},
     "output_type": "execute_result"
    }
   ],
   "source": [
    "data.isnull().sum() #checking the null values columns wise "
   ]
  },
  {
   "cell_type": "markdown",
   "id": "c99fa668",
   "metadata": {
    "id": "ad95b17f"
   },
   "source": [
    "### Data Description"
   ]
  },
  {
   "cell_type": "code",
   "execution_count": 15,
   "id": "19e38c23",
   "metadata": {
    "colab": {
     "base_uri": "https://localhost:8080/",
     "height": 300
    },
    "id": "e32672b5",
    "outputId": "7409e169-40a9-4b0f-e2ad-3290532ef18b"
   },
   "outputs": [
    {
     "data": {
      "text/html": [
       "<div>\n",
       "<style scoped>\n",
       "    .dataframe tbody tr th:only-of-type {\n",
       "        vertical-align: middle;\n",
       "    }\n",
       "\n",
       "    .dataframe tbody tr th {\n",
       "        vertical-align: top;\n",
       "    }\n",
       "\n",
       "    .dataframe thead th {\n",
       "        text-align: right;\n",
       "    }\n",
       "</style>\n",
       "<table border=\"1\" class=\"dataframe\">\n",
       "  <thead>\n",
       "    <tr style=\"text-align: right;\">\n",
       "      <th></th>\n",
       "      <th>close</th>\n",
       "    </tr>\n",
       "  </thead>\n",
       "  <tbody>\n",
       "    <tr>\n",
       "      <th>count</th>\n",
       "      <td>2190</td>\n",
       "    </tr>\n",
       "    <tr>\n",
       "      <th>unique</th>\n",
       "      <td>1940</td>\n",
       "    </tr>\n",
       "    <tr>\n",
       "      <th>top</th>\n",
       "      <td>2.18900000</td>\n",
       "    </tr>\n",
       "    <tr>\n",
       "      <th>freq</th>\n",
       "      <td>4</td>\n",
       "    </tr>\n",
       "  </tbody>\n",
       "</table>\n",
       "</div>"
      ],
      "text/plain": [
       "             close\n",
       "count         2190\n",
       "unique        1940\n",
       "top     2.18900000\n",
       "freq             4"
      ]
     },
     "execution_count": 15,
     "metadata": {},
     "output_type": "execute_result"
    }
   ],
   "source": [
    "data.describe() # statics of data "
   ]
  },
  {
   "cell_type": "code",
   "execution_count": 16,
   "id": "62231693",
   "metadata": {
    "id": "e77903df"
   },
   "outputs": [],
   "source": [
    "data['close']=data['close'].astype(float)"
   ]
  },
  {
   "cell_type": "markdown",
   "id": "c5299f14",
   "metadata": {
    "id": "33c07bfe"
   },
   "source": [
    "### Spliting date into day, month and year"
   ]
  },
  {
   "cell_type": "code",
   "execution_count": 17,
   "id": "3c5de576",
   "metadata": {
    "id": "2fb1622f"
   },
   "outputs": [],
   "source": [
    "data['date'] = data.index # taking dates in date column \n",
    "data['Month'] = data['date'].dt.month # extracting months from data\n",
    "data['Day'] = data['date'].dt.day # extracting day from data\n",
    "data['Year'] = data['date'].dt.year # extracting year from data\n",
    "data['Hour'] = data['date'].dt.hour # extracting year from data\n",
    "data['Minutes'] = data['date'].dt.minute # extracting year from data"
   ]
  },
  {
   "cell_type": "markdown",
   "id": "4689ba7a",
   "metadata": {
    "id": "0b6205cc"
   },
   "source": [
    "### Close price with respect to year "
   ]
  },
  {
   "cell_type": "code",
   "execution_count": 18,
   "id": "a6eb330d",
   "metadata": {
    "colab": {
     "base_uri": "https://localhost:8080/",
     "height": 295
    },
    "id": "c0660123",
    "outputId": "ae3e7a71-0761-4072-b9c1-011ce7a3bb8e"
   },
   "outputs": [
    {
     "data": {
      "image/png": "[encoded data removed]",
      "text/plain": [
       "<Figure size 432x288 with 1 Axes>"
      ]
     },
     "metadata": {
      "needs_background": "light"
     },
     "output_type": "display_data"
    }
   ],
   "source": [
    "sns.barplot(x='Year', y='close', data=data).set(title='Year vs Close') # plotting the comparison of year and close price\n",
    "plt.show() #showing the plot "
   ]
  },
  {
   "cell_type": "markdown",
   "id": "540b2196",
   "metadata": {
    "id": "52333f25"
   },
   "source": [
    "### Close price with respect to Month "
   ]
  },
  {
   "cell_type": "code",
   "execution_count": 19,
   "id": "bbe4932a",
   "metadata": {
    "colab": {
     "base_uri": "https://localhost:8080/",
     "height": 295
    },
    "id": "680be666",
    "outputId": "fe86c1d7-a4bc-425b-b146-ab5eef0309f8"
   },
   "outputs": [
    {
     "data": {
      "image/png": "[encoded data removed]",
      "text/plain": [
       "<Figure size 432x288 with 1 Axes>"
      ]
     },
     "metadata": {
      "needs_background": "light"
     },
     "output_type": "display_data"
    }
   ],
   "source": [
    "sns.barplot(x='Month', y='close', data=data).set(title='Year vs Close')  # plotting the comparison of month and close price\n",
    "plt.show() #showing the plot "
   ]
  },
  {
   "cell_type": "markdown",
   "id": "388521a3",
   "metadata": {
    "id": "61c9d100"
   },
   "source": [
    "### Close price with respect to Hour "
   ]
  },
  {
   "cell_type": "code",
   "execution_count": 20,
   "id": "c7ab0f37",
   "metadata": {
    "colab": {
     "base_uri": "https://localhost:8080/",
     "height": 295
    },
    "id": "IdsoIhSyMZ-7",
    "outputId": "fe86c1d7-a4bc-425b-b146-ab5eef0309f8"
   },
   "outputs": [
    {
     "data": {
      "image/png": "[encoded data removed]",
      "text/plain": [
       "<Figure size 432x288 with 1 Axes>"
      ]
     },
     "metadata": {
      "needs_background": "light"
     },
     "output_type": "display_data"
    }
   ],
   "source": [
    "sns.barplot(x='Hour', y='close', data=data).set(title='Hours vs Close')  # plotting the comparison of month and close price\n",
    "plt.show() #showing the plot "
   ]
  },
  {
   "cell_type": "markdown",
   "id": "37f1fdf1",
   "metadata": {
    "id": "h3QT9P9OMZ-7"
   },
   "source": [
    "### Close price with respect to Minutes "
   ]
  },
  {
   "cell_type": "code",
   "execution_count": 21,
   "id": "acf86bca",
   "metadata": {
    "colab": {
     "base_uri": "https://localhost:8080/",
     "height": 295
    },
    "id": "D5hlaWybMZ-7",
    "outputId": "fe86c1d7-a4bc-425b-b146-ab5eef0309f8"
   },
   "outputs": [
    {
     "data": {
      "image/png": "[encoded data removed]",
      "text/plain": [
       "<Figure size 432x288 with 1 Axes>"
      ]
     },
     "metadata": {
      "needs_background": "light"
     },
     "output_type": "display_data"
    }
   ],
   "source": [
    "sns.barplot(x='Minutes', y='close', data=data).set(title='Minutes vs Close')  # plotting the comparison of month and close price\n",
    "plt.show() #showing the plot "
   ]
  },
  {
   "cell_type": "markdown",
   "id": "a33ad2a8",
   "metadata": {
    "id": "0dbc04db"
   },
   "source": [
    "# ------------------------------------------------------------------------------------------------------"
   ]
  },
  {
   "cell_type": "markdown",
   "id": "8576efe7",
   "metadata": {
    "id": "564d00c7"
   },
   "source": [
    "# Data Visualization"
   ]
  },
  {
   "cell_type": "markdown",
   "id": "543de5ce",
   "metadata": {
    "id": "4902bc8d"
   },
   "source": [
    "# ------------------------------------------------------------------------------------------------------"
   ]
  },
  {
   "cell_type": "markdown",
   "id": "3580a49b",
   "metadata": {
    "id": "149b8f12"
   },
   "source": [
    "### CLOSE price values plot"
   ]
  },
  {
   "cell_type": "code",
   "execution_count": 22,
   "id": "2507abfc",
   "metadata": {
    "colab": {
     "base_uri": "https://localhost:8080/",
     "height": 606
    },
    "id": "8083d346",
    "outputId": "dfc78df2-36fb-4984-9fe0-f69c72a0c954"
   },
   "outputs": [
    {
     "data": {
      "image/png": "[encoded data removed]",
      "text/plain": [
       "<Figure size 1440x720 with 1 Axes>"
      ]
     },
     "metadata": {
      "needs_background": "light"
     },
     "output_type": "display_data"
    }
   ],
   "source": [
    "plt.figure(figsize=(20, 10)) #setting the width and height of the plot \n",
    "plt.subplot(1,1,1) #plot setting \n",
    "plt.plot(data.index, data['close'].values,color='orange',label='CLOSE') # plotting Close price \n",
    "plt.xlabel('Count of all') # x axis \n",
    "plt.ylabel('count of each record') # y axis \n",
    "plt.legend(loc='best') #legend name as Close \n",
    "plt.show() # showing the plot "
   ]
  },
  {
   "cell_type": "markdown",
   "id": "bfc4ebe0",
   "metadata": {
    "id": "d65c4cb0"
   },
   "source": [
    "# ------------------------------------------------------------------------------------------------------"
   ]
  },
  {
   "cell_type": "markdown",
   "id": "7632e9c7",
   "metadata": {},
   "source": [
    "### Loading the whale data"
   ]
  },
  {
   "cell_type": "code",
   "execution_count": 23,
   "id": "ef88dbb0",
   "metadata": {},
   "outputs": [],
   "source": [
    "priceData=pd.read_csv('Datasets/dataFileWhaleADA.csv')"
   ]
  },
  {
   "cell_type": "code",
   "execution_count": 24,
   "id": "6d638f3a",
   "metadata": {},
   "outputs": [],
   "source": [
    "li = priceData['tweet'].str.lower().str.cat(sep=' ')"
   ]
  },
  {
   "cell_type": "markdown",
   "id": "e8628960",
   "metadata": {},
   "source": [
    "# Getting Tokenization of the text"
   ]
  },
  {
   "cell_type": "code",
   "execution_count": 25,
   "id": "3b2e1728",
   "metadata": {},
   "outputs": [
    {
     "data": {
      "text/plain": [
       "0    🚨 🚨  20,000,000 #USDT (20,000,000 USD) transfe...\n",
       "1    🚨 🚨  29,999,975 #USDT (29,999,975 USD) transfe...\n",
       "2    🚨 🚨  29,999,975 #USDT (29,999,975 USD) transfe...\n",
       "3    🚨 🚨 🚨  29,999,998 #USDT (29,999,998 USD) trans...\n",
       "4    🚨 🚨 🚨 🚨 🚨 🚨  69,997,439 #USDT (69,997,439 USD)...\n",
       "Name: tweet, dtype: object"
      ]
     },
     "execution_count": 25,
     "metadata": {},
     "output_type": "execute_result"
    }
   ],
   "source": [
    "priceData = priceData[['date','time','tweet']]\n",
    "priceData['tweet'].head()"
   ]
  },
  {
   "cell_type": "code",
   "execution_count": 26,
   "id": "721cd629",
   "metadata": {},
   "outputs": [],
   "source": [
    "#nums = re.findall(r'\\b\\d{1,3}(?:,\\d{3})*(?:\\.\\d+)?(?!\\d)', data['tweet'][0]\n",
    "#data['amountTransfer'] = re.findall(r'\\b\\d{1,3}(?:,\\d{3})*(?:\\.\\d+)?(?!\\d)', data['tweet'])[0]\n",
    "priceData['amountTransfer'] = priceData['tweet'].str.findall(r'\\b\\d{1,3}(?:,\\d{3})*(?:\\.\\d+)?(?!\\d)')\n",
    "priceData['amountTransfer'] = priceData['amountTransfer'].str[1]"
   ]
  },
  {
   "cell_type": "code",
   "execution_count": 27,
   "id": "35175b35",
   "metadata": {},
   "outputs": [],
   "source": [
    "data['whaleCount'] = 0"
   ]
  },
  {
   "cell_type": "code",
   "execution_count": 28,
   "id": "e2cd2894",
   "metadata": {
    "scrolled": true
   },
   "outputs": [],
   "source": [
    "for i, row in enumerate(priceData.itertuples(), 1):\n",
    "    if row.time >= \"00:00:00\" and row.time < \"04:00:00\":\n",
    "        if int(row.amountTransfer.replace(\",\",\"\")) > 50000000:\n",
    "            data.loc[data['date'] == (row.date + \" \" + \"03:59:59\" + \".999\"), 'whaleCount'] += 2\n",
    "        else:\n",
    "            data.loc[data['date'] == (row.date + \" \" + \"03:59:59\" + \".999\"), 'whaleCount'] += 1\n",
    "    elif row.time >= \"04:00:00\" and row.time < \"08:00:00\":\n",
    "        if int(row.amountTransfer.replace(\",\",\"\")) > 50000000:\n",
    "            data.loc[data['date'] == (row.date + \" \" + \"07:59:59\" + \".999\"), 'whaleCount'] += 2\n",
    "        else:\n",
    "            data.loc[data['date'] == (row.date + \" \" + \"07:59:59\" + \".999\"), 'whaleCount'] += 1\n",
    "    elif row.time >= \"08:00:00\" and row.time < \"12:00:00\":\n",
    "        if int(row.amountTransfer.replace(\",\",\"\")) > 50000000:\n",
    "            data.loc[data['date'] == (row.date + \" \" + \"11:59:59\" + \".999\"), 'whaleCount'] += 2\n",
    "        else:\n",
    "            data.loc[data['date'] == (row.date + \" \" + \"11:59:59\" + \".999\"), 'whaleCount'] += 1\n",
    "    elif row.time >= \"12:00:00\" and row.time < \"16:00:00\":\n",
    "        if int(row.amountTransfer.replace(\",\",\"\")) > 50000000:\n",
    "            data.loc[data['date'] == (row.date + \" \" + \"15:59:59\" + \".999\"), 'whaleCount'] += 2\n",
    "        else:\n",
    "            data.loc[data['date'] == (row.date + \" \" + \"15:59:59\" + \".999\"), 'whaleCount'] += 1\n",
    "    elif row.time >= \"16:00:00\" and row.time < \"20:00:00\":\n",
    "        if int(row.amountTransfer.replace(\",\",\"\")) > 50000000:\n",
    "            data.loc[data['date'] == (row.date + \" \" + \"19:59:59\" + \".999\"), 'whaleCount'] += 2\n",
    "        else:\n",
    "            data.loc[data['date'] == (row.date + \" \" + \"19:59:59\" + \".999\"), 'whaleCount'] += 1\n",
    "    else:\n",
    "        if int(row.amountTransfer.replace(\",\",\"\")) > 50000000:\n",
    "            data.loc[data['date'] == (row.date + \" \" + \"23:59:59\" + \".999\"), 'whaleCount'] += 2\n",
    "        else:\n",
    "            data.loc[data['date'] == (row.date + \" \" + \"23:59:59\" + \".999\"), 'whaleCount'] += 1"
   ]
  },
  {
   "cell_type": "markdown",
   "id": "e5507906",
   "metadata": {},
   "source": [
    "# -----------------------------------------------------------------------------------------------------------"
   ]
  },
  {
   "cell_type": "markdown",
   "id": "9a7b58eb",
   "metadata": {},
   "source": [
    "### Loading the twitter data"
   ]
  },
  {
   "cell_type": "code",
   "execution_count": 29,
   "id": "d427a634",
   "metadata": {},
   "outputs": [],
   "source": [
    "sentData=pd.read_csv('Datasets/dataFileADA.csv')"
   ]
  },
  {
   "cell_type": "code",
   "execution_count": 30,
   "id": "5e6a2da7",
   "metadata": {},
   "outputs": [],
   "source": [
    "li = sentData['tweet'].str.lower().str.cat(sep=' ')"
   ]
  },
  {
   "cell_type": "markdown",
   "id": "d2f9de67",
   "metadata": {},
   "source": [
    "# Removing punctuation,numbers and returns list of words"
   ]
  },
  {
   "cell_type": "code",
   "execution_count": 31,
   "id": "48d5a231",
   "metadata": {},
   "outputs": [],
   "source": [
    "li2 = re.sub('[^A-Za-z]+', ' ', li)"
   ]
  },
  {
   "cell_type": "markdown",
   "id": "c2c25341",
   "metadata": {},
   "source": [
    "# Removing the stopwords from the text"
   ]
  },
  {
   "cell_type": "code",
   "execution_count": 32,
   "id": "4fcbe70a",
   "metadata": {},
   "outputs": [
    {
     "name": "stderr",
     "output_type": "stream",
     "text": [
      "[nltk_data] Downloading package stopwords to\n",
      "[nltk_data]     C:\\Users\\callu\\AppData\\Roaming\\nltk_data...\n",
      "[nltk_data]   Package stopwords is already up-to-date!\n",
      "[nltk_data] Downloading package punkt to\n",
      "[nltk_data]     C:\\Users\\callu\\AppData\\Roaming\\nltk_data...\n",
      "[nltk_data]   Package punkt is already up-to-date!\n"
     ]
    }
   ],
   "source": [
    "nltk.download('stopwords')\n",
    "nltk.download('punkt')\n",
    "stop_words = stopwords.words('english')        \n",
    "nltk_words = list(stopwords.words('english'))   \n",
    "stop_words.extend(nltk_words)"
   ]
  },
  {
   "cell_type": "markdown",
   "id": "78446f1f",
   "metadata": {},
   "source": [
    "# Getting Tokenization of the text"
   ]
  },
  {
   "cell_type": "code",
   "execution_count": 33,
   "id": "e72c63c7",
   "metadata": {},
   "outputs": [],
   "source": [
    "word_tokens = word_tokenize(li2)\n",
    "filtered_sentence = [w for w in word_tokens if not w in stop_words]\n",
    "filtered_sentence = []\n",
    "for w in word_tokens:\n",
    "    if w not in stop_words:\n",
    "        filtered_sentence.append(w)"
   ]
  },
  {
   "cell_type": "markdown",
   "id": "f9978afa",
   "metadata": {},
   "source": [
    "# Removing characters which have length less than 2  "
   ]
  },
  {
   "cell_type": "code",
   "execution_count": 34,
   "id": "4db89a72",
   "metadata": {},
   "outputs": [],
   "source": [
    "without_single_chr = [word for word in filtered_sentence if len(word) > 2]"
   ]
  },
  {
   "cell_type": "markdown",
   "id": "06870149",
   "metadata": {},
   "source": [
    "# Removing numbers"
   ]
  },
  {
   "cell_type": "code",
   "execution_count": 35,
   "id": "1d30ecde",
   "metadata": {},
   "outputs": [],
   "source": [
    "cleaned_data_title = [word for word in without_single_chr if not word.isnumeric()]"
   ]
  },
  {
   "cell_type": "markdown",
   "id": "3a7bd273",
   "metadata": {},
   "source": [
    "# Frequency distribution of aspect words "
   ]
  },
  {
   "cell_type": "code",
   "execution_count": 36,
   "id": "acec3736",
   "metadata": {},
   "outputs": [],
   "source": [
    "word_dist = nltk.FreqDist(cleaned_data_title)\n",
    "top100_words = pd.DataFrame(word_dist.most_common(100),\n",
    "                    columns=['Word', 'Frequency'])"
   ]
  },
  {
   "cell_type": "code",
   "execution_count": 37,
   "id": "0e6d5a1e",
   "metadata": {},
   "outputs": [
    {
     "data": {
      "image/png": "[encoded data removed]",
      "text/plain": [
       "<Figure size 720x720 with 1 Axes>"
      ]
     },
     "metadata": {
      "needs_background": "light"
     },
     "output_type": "display_data"
    }
   ],
   "source": [
    "plt.figure(figsize=(10,10))\n",
    "sns.set_style(\"whitegrid\")\n",
    "ax = sns.barplot(x=\"Frequency\",y=\"Word\", data=top100_words.head(10))"
   ]
  },
  {
   "cell_type": "markdown",
   "id": "9181be45",
   "metadata": {},
   "source": [
    "# SentimentIntensityAnalyzer for getting sentiments"
   ]
  },
  {
   "cell_type": "code",
   "execution_count": 38,
   "id": "47c7ddf7",
   "metadata": {},
   "outputs": [],
   "source": [
    "sent_analyser = SentimentIntensityAnalyzer()\n",
    "def sentiment(text):\n",
    "    return (sent_analyser.polarity_scores(text)[\"compound\"])"
   ]
  },
  {
   "cell_type": "code",
   "execution_count": 39,
   "id": "bbd8f2a4",
   "metadata": {},
   "outputs": [],
   "source": [
    "sentData[\"Polarity\"] = sentData[\"tweet\"].apply(sentiment)"
   ]
  },
  {
   "cell_type": "code",
   "execution_count": 40,
   "id": "13cc378b",
   "metadata": {},
   "outputs": [],
   "source": [
    "sentData = sentData[['date','time','tweet','Polarity']]"
   ]
  },
  {
   "cell_type": "code",
   "execution_count": 41,
   "id": "054284a4",
   "metadata": {},
   "outputs": [
    {
     "data": {
      "text/html": [
       "<div>\n",
       "<style scoped>\n",
       "    .dataframe tbody tr th:only-of-type {\n",
       "        vertical-align: middle;\n",
       "    }\n",
       "\n",
       "    .dataframe tbody tr th {\n",
       "        vertical-align: top;\n",
       "    }\n",
       "\n",
       "    .dataframe thead th {\n",
       "        text-align: right;\n",
       "    }\n",
       "</style>\n",
       "<table border=\"1\" class=\"dataframe\">\n",
       "  <thead>\n",
       "    <tr style=\"text-align: right;\">\n",
       "      <th></th>\n",
       "      <th>date</th>\n",
       "      <th>time</th>\n",
       "      <th>tweet</th>\n",
       "      <th>Polarity</th>\n",
       "    </tr>\n",
       "  </thead>\n",
       "  <tbody>\n",
       "    <tr>\n",
       "      <th>28421</th>\n",
       "      <td>2021-01-01</td>\n",
       "      <td>03:58:22</td>\n",
       "      <td>I see a scenario where #Cardano $ADA makes Jan...</td>\n",
       "      <td>0.4576</td>\n",
       "    </tr>\n",
       "    <tr>\n",
       "      <th>28422</th>\n",
       "      <td>2021-01-01</td>\n",
       "      <td>03:32:28</td>\n",
       "      <td>What will be #Cardano $ADA's highest price in ...</td>\n",
       "      <td>0.0000</td>\n",
       "    </tr>\n",
       "    <tr>\n",
       "      <th>28423</th>\n",
       "      <td>2021-01-01</td>\n",
       "      <td>00:49:33</td>\n",
       "      <td>So a friend told me about #Cardano, then I tol...</td>\n",
       "      <td>0.9515</td>\n",
       "    </tr>\n",
       "    <tr>\n",
       "      <th>28424</th>\n",
       "      <td>2021-01-01</td>\n",
       "      <td>00:45:52</td>\n",
       "      <td>Sorry about tweet that was deleted. Here its b...</td>\n",
       "      <td>0.5267</td>\n",
       "    </tr>\n",
       "    <tr>\n",
       "      <th>28425</th>\n",
       "      <td>2021-01-01</td>\n",
       "      <td>00:06:07</td>\n",
       "      <td>Wow. Just wow. #Bitcoin #Etheruem #XRP #Bitcoi...</td>\n",
       "      <td>0.8225</td>\n",
       "    </tr>\n",
       "  </tbody>\n",
       "</table>\n",
       "</div>"
      ],
      "text/plain": [
       "             date      time  \\\n",
       "28421  2021-01-01  03:58:22   \n",
       "28422  2021-01-01  03:32:28   \n",
       "28423  2021-01-01  00:49:33   \n",
       "28424  2021-01-01  00:45:52   \n",
       "28425  2021-01-01  00:06:07   \n",
       "\n",
       "                                                   tweet  Polarity  \n",
       "28421  I see a scenario where #Cardano $ADA makes Jan...    0.4576  \n",
       "28422  What will be #Cardano $ADA's highest price in ...    0.0000  \n",
       "28423  So a friend told me about #Cardano, then I tol...    0.9515  \n",
       "28424  Sorry about tweet that was deleted. Here its b...    0.5267  \n",
       "28425  Wow. Just wow. #Bitcoin #Etheruem #XRP #Bitcoi...    0.8225  "
      ]
     },
     "execution_count": 41,
     "metadata": {},
     "output_type": "execute_result"
    }
   ],
   "source": [
    "sentData.tail()"
   ]
  },
  {
   "cell_type": "markdown",
   "id": "53322077",
   "metadata": {},
   "source": [
    "# Getting sentiments based on the popularity score"
   ]
  },
  {
   "cell_type": "code",
   "execution_count": 42,
   "id": "45a1c2c3",
   "metadata": {},
   "outputs": [],
   "source": [
    "def sentiments(data):\n",
    "    if data['Polarity'] >= 0.05:\n",
    "        val = \"Positive\"\n",
    "    elif data['Polarity'] <= -0.05:\n",
    "        val = \"Negative\"\n",
    "    else:\n",
    "        val = \"Neutral\"\n",
    "    return val"
   ]
  },
  {
   "cell_type": "code",
   "execution_count": 43,
   "id": "1a0633e2",
   "metadata": {},
   "outputs": [],
   "source": [
    "sentData['Sentiments'] = sentData.apply(sentiments, axis=1)"
   ]
  },
  {
   "cell_type": "markdown",
   "id": "026d9636",
   "metadata": {},
   "source": [
    "# sentiments with their counts"
   ]
  },
  {
   "cell_type": "code",
   "execution_count": 44,
   "id": "bacd6e6e",
   "metadata": {},
   "outputs": [
    {
     "data": {
      "text/plain": [
       "Positive    16927\n",
       "Neutral      7269\n",
       "Negative     4230\n",
       "Name: Sentiments, dtype: int64"
      ]
     },
     "execution_count": 44,
     "metadata": {},
     "output_type": "execute_result"
    }
   ],
   "source": [
    "sentData['Sentiments'].value_counts()"
   ]
  },
  {
   "cell_type": "code",
   "execution_count": 45,
   "id": "beaca387",
   "metadata": {},
   "outputs": [
    {
     "data": {
      "text/html": [
       "<div>\n",
       "<style scoped>\n",
       "    .dataframe tbody tr th:only-of-type {\n",
       "        vertical-align: middle;\n",
       "    }\n",
       "\n",
       "    .dataframe tbody tr th {\n",
       "        vertical-align: top;\n",
       "    }\n",
       "\n",
       "    .dataframe thead th {\n",
       "        text-align: right;\n",
       "    }\n",
       "</style>\n",
       "<table border=\"1\" class=\"dataframe\">\n",
       "  <thead>\n",
       "    <tr style=\"text-align: right;\">\n",
       "      <th></th>\n",
       "      <th>date</th>\n",
       "      <th>time</th>\n",
       "      <th>tweet</th>\n",
       "      <th>Polarity</th>\n",
       "      <th>Sentiments</th>\n",
       "    </tr>\n",
       "  </thead>\n",
       "  <tbody>\n",
       "    <tr>\n",
       "      <th>0</th>\n",
       "      <td>2021-12-30</td>\n",
       "      <td>23:46:35</td>\n",
       "      <td>The Diamond Mine is open! We are giving away t...</td>\n",
       "      <td>0.9449</td>\n",
       "      <td>Positive</td>\n",
       "    </tr>\n",
       "    <tr>\n",
       "      <th>1</th>\n",
       "      <td>2021-12-30</td>\n",
       "      <td>23:43:35</td>\n",
       "      <td>A project I have been following but haven't ha...</td>\n",
       "      <td>-0.2755</td>\n",
       "      <td>Negative</td>\n",
       "    </tr>\n",
       "    <tr>\n",
       "      <th>2</th>\n",
       "      <td>2021-12-30</td>\n",
       "      <td>23:34:10</td>\n",
       "      <td>Why will 2022🌠 Be The  Best Year For #Cardano ...</td>\n",
       "      <td>0.6369</td>\n",
       "      <td>Positive</td>\n",
       "    </tr>\n",
       "    <tr>\n",
       "      <th>3</th>\n",
       "      <td>2021-12-30</td>\n",
       "      <td>23:13:52</td>\n",
       "      <td>BIG New Year’s Giveaway!!!   1st    1,000,000,...</td>\n",
       "      <td>0.7412</td>\n",
       "      <td>Positive</td>\n",
       "    </tr>\n",
       "    <tr>\n",
       "      <th>4</th>\n",
       "      <td>2021-12-30</td>\n",
       "      <td>23:12:12</td>\n",
       "      <td>Bought this NFT on the Cardano Blockchain! 🧞‍♂...</td>\n",
       "      <td>0.6696</td>\n",
       "      <td>Positive</td>\n",
       "    </tr>\n",
       "    <tr>\n",
       "      <th>5</th>\n",
       "      <td>2021-12-30</td>\n",
       "      <td>23:09:26</td>\n",
       "      <td>#CardanoCommunity Stake with BICEP 💪 for BISON...</td>\n",
       "      <td>0.3612</td>\n",
       "      <td>Positive</td>\n",
       "    </tr>\n",
       "    <tr>\n",
       "      <th>6</th>\n",
       "      <td>2021-12-30</td>\n",
       "      <td>22:49:10</td>\n",
       "      <td>Top APR% on the OpenSwap farm today: ➢95% $Ope...</td>\n",
       "      <td>0.6597</td>\n",
       "      <td>Positive</td>\n",
       "    </tr>\n",
       "    <tr>\n",
       "      <th>7</th>\n",
       "      <td>2021-12-30</td>\n",
       "      <td>22:40:49</td>\n",
       "      <td>Good Evening #CardanoCommunity ✨ We just teame...</td>\n",
       "      <td>0.6967</td>\n",
       "      <td>Positive</td>\n",
       "    </tr>\n",
       "    <tr>\n",
       "      <th>8</th>\n",
       "      <td>2021-12-30</td>\n",
       "      <td>22:37:04</td>\n",
       "      <td>Probably nothing...@BenjaminsGroup  Cannot wai...</td>\n",
       "      <td>0.7964</td>\n",
       "      <td>Positive</td>\n",
       "    </tr>\n",
       "    <tr>\n",
       "      <th>9</th>\n",
       "      <td>2021-12-30</td>\n",
       "      <td>22:28:07</td>\n",
       "      <td>#Cosmos and #Cardano Ecosystems Will Be Huge N...</td>\n",
       "      <td>0.3182</td>\n",
       "      <td>Positive</td>\n",
       "    </tr>\n",
       "    <tr>\n",
       "      <th>10</th>\n",
       "      <td>2021-12-30</td>\n",
       "      <td>22:22:34</td>\n",
       "      <td>If you delegate to CHEF pool and haven't claim...</td>\n",
       "      <td>0.4909</td>\n",
       "      <td>Positive</td>\n",
       "    </tr>\n",
       "    <tr>\n",
       "      <th>11</th>\n",
       "      <td>2021-12-30</td>\n",
       "      <td>22:11:58</td>\n",
       "      <td>New Year's #Giveaway !!!!  2022 will be awesom...</td>\n",
       "      <td>0.9557</td>\n",
       "      <td>Positive</td>\n",
       "    </tr>\n",
       "    <tr>\n",
       "      <th>12</th>\n",
       "      <td>2021-12-30</td>\n",
       "      <td>21:32:41</td>\n",
       "      <td>今日が最後の投票。途中で我慢ならんようなことがあったかもしれんけんど、腐らず、諦めず、最後ま...</td>\n",
       "      <td>0.3818</td>\n",
       "      <td>Positive</td>\n",
       "    </tr>\n",
       "    <tr>\n",
       "      <th>13</th>\n",
       "      <td>2021-12-30</td>\n",
       "      <td>21:23:31</td>\n",
       "      <td>In the herd, your voice is heard! 🦬  We are al...</td>\n",
       "      <td>-0.5538</td>\n",
       "      <td>Negative</td>\n",
       "    </tr>\n",
       "    <tr>\n",
       "      <th>14</th>\n",
       "      <td>2021-12-30</td>\n",
       "      <td>21:13:42</td>\n",
       "      <td>Climate Neutral Cardano is a community group o...</td>\n",
       "      <td>0.0000</td>\n",
       "      <td>Neutral</td>\n",
       "    </tr>\n",
       "    <tr>\n",
       "      <th>15</th>\n",
       "      <td>2021-12-30</td>\n",
       "      <td>21:11:12</td>\n",
       "      <td>Time to dig out this ol gem ;) lmfaooo #derps ...</td>\n",
       "      <td>0.2263</td>\n",
       "      <td>Positive</td>\n",
       "    </tr>\n",
       "    <tr>\n",
       "      <th>16</th>\n",
       "      <td>2021-12-30</td>\n",
       "      <td>21:02:29</td>\n",
       "      <td>We are giving @ContactDrip 1,000,000,000,000 $...</td>\n",
       "      <td>0.4019</td>\n",
       "      <td>Positive</td>\n",
       "    </tr>\n",
       "    <tr>\n",
       "      <th>17</th>\n",
       "      <td>2021-12-30</td>\n",
       "      <td>20:57:47</td>\n",
       "      <td>We’re here to change lives/the world by subver...</td>\n",
       "      <td>0.1531</td>\n",
       "      <td>Positive</td>\n",
       "    </tr>\n",
       "    <tr>\n",
       "      <th>18</th>\n",
       "      <td>2021-12-30</td>\n",
       "      <td>20:34:03</td>\n",
       "      <td>Ending 2021 on a positive note: PANL has just ...</td>\n",
       "      <td>0.5574</td>\n",
       "      <td>Positive</td>\n",
       "    </tr>\n",
       "    <tr>\n",
       "      <th>19</th>\n",
       "      <td>2021-12-30</td>\n",
       "      <td>20:26:38</td>\n",
       "      <td>The hype around $coti is rising with #cardano'...</td>\n",
       "      <td>0.0000</td>\n",
       "      <td>Neutral</td>\n",
       "    </tr>\n",
       "    <tr>\n",
       "      <th>20</th>\n",
       "      <td>2021-12-30</td>\n",
       "      <td>20:13:38</td>\n",
       "      <td>How much #Cardano are you hodling? 👀  1000 $AD...</td>\n",
       "      <td>0.0000</td>\n",
       "      <td>Neutral</td>\n",
       "    </tr>\n",
       "    <tr>\n",
       "      <th>21</th>\n",
       "      <td>2021-12-30</td>\n",
       "      <td>19:38:16</td>\n",
       "      <td>A #Giveaway has started on Discord, try your l...</td>\n",
       "      <td>-0.1779</td>\n",
       "      <td>Negative</td>\n",
       "    </tr>\n",
       "    <tr>\n",
       "      <th>22</th>\n",
       "      <td>2021-12-30</td>\n",
       "      <td>19:15:32</td>\n",
       "      <td>DripDropz! Today on Cardano Live at 20:00 UTC ...</td>\n",
       "      <td>0.0000</td>\n",
       "      <td>Neutral</td>\n",
       "    </tr>\n",
       "    <tr>\n",
       "      <th>23</th>\n",
       "      <td>2021-12-30</td>\n",
       "      <td>19:11:39</td>\n",
       "      <td>#Idiot   #cardano #ada $ada #hosky #hoskytoken...</td>\n",
       "      <td>-0.5106</td>\n",
       "      <td>Negative</td>\n",
       "    </tr>\n",
       "    <tr>\n",
       "      <th>24</th>\n",
       "      <td>2021-12-30</td>\n",
       "      <td>19:03:08</td>\n",
       "      <td>@SnoopDogg you staking $ADA  #Cardano #ADA 🤜🤛 ...</td>\n",
       "      <td>0.0000</td>\n",
       "      <td>Neutral</td>\n",
       "    </tr>\n",
       "  </tbody>\n",
       "</table>\n",
       "</div>"
      ],
      "text/plain": [
       "          date      time                                              tweet  \\\n",
       "0   2021-12-30  23:46:35  The Diamond Mine is open! We are giving away t...   \n",
       "1   2021-12-30  23:43:35  A project I have been following but haven't ha...   \n",
       "2   2021-12-30  23:34:10  Why will 2022🌠 Be The  Best Year For #Cardano ...   \n",
       "3   2021-12-30  23:13:52  BIG New Year’s Giveaway!!!   1st    1,000,000,...   \n",
       "4   2021-12-30  23:12:12  Bought this NFT on the Cardano Blockchain! 🧞‍♂...   \n",
       "5   2021-12-30  23:09:26  #CardanoCommunity Stake with BICEP 💪 for BISON...   \n",
       "6   2021-12-30  22:49:10  Top APR% on the OpenSwap farm today: ➢95% $Ope...   \n",
       "7   2021-12-30  22:40:49  Good Evening #CardanoCommunity ✨ We just teame...   \n",
       "8   2021-12-30  22:37:04  Probably nothing...@BenjaminsGroup  Cannot wai...   \n",
       "9   2021-12-30  22:28:07  #Cosmos and #Cardano Ecosystems Will Be Huge N...   \n",
       "10  2021-12-30  22:22:34  If you delegate to CHEF pool and haven't claim...   \n",
       "11  2021-12-30  22:11:58  New Year's #Giveaway !!!!  2022 will be awesom...   \n",
       "12  2021-12-30  21:32:41  今日が最後の投票。途中で我慢ならんようなことがあったかもしれんけんど、腐らず、諦めず、最後ま...   \n",
       "13  2021-12-30  21:23:31  In the herd, your voice is heard! 🦬  We are al...   \n",
       "14  2021-12-30  21:13:42  Climate Neutral Cardano is a community group o...   \n",
       "15  2021-12-30  21:11:12  Time to dig out this ol gem ;) lmfaooo #derps ...   \n",
       "16  2021-12-30  21:02:29  We are giving @ContactDrip 1,000,000,000,000 $...   \n",
       "17  2021-12-30  20:57:47  We’re here to change lives/the world by subver...   \n",
       "18  2021-12-30  20:34:03  Ending 2021 on a positive note: PANL has just ...   \n",
       "19  2021-12-30  20:26:38  The hype around $coti is rising with #cardano'...   \n",
       "20  2021-12-30  20:13:38  How much #Cardano are you hodling? 👀  1000 $AD...   \n",
       "21  2021-12-30  19:38:16  A #Giveaway has started on Discord, try your l...   \n",
       "22  2021-12-30  19:15:32  DripDropz! Today on Cardano Live at 20:00 UTC ...   \n",
       "23  2021-12-30  19:11:39  #Idiot   #cardano #ada $ada #hosky #hoskytoken...   \n",
       "24  2021-12-30  19:03:08  @SnoopDogg you staking $ADA  #Cardano #ADA 🤜🤛 ...   \n",
       "\n",
       "    Polarity Sentiments  \n",
       "0     0.9449   Positive  \n",
       "1    -0.2755   Negative  \n",
       "2     0.6369   Positive  \n",
       "3     0.7412   Positive  \n",
       "4     0.6696   Positive  \n",
       "5     0.3612   Positive  \n",
       "6     0.6597   Positive  \n",
       "7     0.6967   Positive  \n",
       "8     0.7964   Positive  \n",
       "9     0.3182   Positive  \n",
       "10    0.4909   Positive  \n",
       "11    0.9557   Positive  \n",
       "12    0.3818   Positive  \n",
       "13   -0.5538   Negative  \n",
       "14    0.0000    Neutral  \n",
       "15    0.2263   Positive  \n",
       "16    0.4019   Positive  \n",
       "17    0.1531   Positive  \n",
       "18    0.5574   Positive  \n",
       "19    0.0000    Neutral  \n",
       "20    0.0000    Neutral  \n",
       "21   -0.1779   Negative  \n",
       "22    0.0000    Neutral  \n",
       "23   -0.5106   Negative  \n",
       "24    0.0000    Neutral  "
      ]
     },
     "execution_count": 45,
     "metadata": {},
     "output_type": "execute_result"
    }
   ],
   "source": [
    "sentData.iloc[:25]"
   ]
  },
  {
   "cell_type": "code",
   "execution_count": 46,
   "id": "94ae1d3b",
   "metadata": {},
   "outputs": [],
   "source": [
    "data['sentimentCount'] = 0"
   ]
  },
  {
   "cell_type": "code",
   "execution_count": 47,
   "id": "4aa8ea28",
   "metadata": {},
   "outputs": [],
   "source": [
    "for i, row in enumerate(sentData.itertuples(), 1):\n",
    "    if row.time >= \"00:00:00\" and row.time < \"04:00:00\":\n",
    "        if row.Sentiments == \"Positive\":\n",
    "            data.loc[data['date'] == (row.date + \" \" + \"03:59:59\" + \".999\"), 'sentimentCount'] += 1\n",
    "        elif row.Sentiments == \"Negative\":\n",
    "            data.loc[data['date'] == (row.date + \" \" + \"03:59:59\" + \".999\"), 'sentimentCount'] -= 1\n",
    "    elif row.time >= \"04:00:00\" and row.time < \"08:00:00\":\n",
    "        if row.Sentiments == \"Positive\":\n",
    "            data.loc[data['date'] == (row.date + \" \" + \"07:59:59\" + \".999\"), 'sentimentCount'] += 1\n",
    "        elif row.Sentiments == \"Negative\":\n",
    "            data.loc[data['date'] == (row.date + \" \" + \"07:59:59\" + \".999\"), 'sentimentCount'] -= 1\n",
    "    elif row.time >= \"08:00:00\" and row.time < \"12:00:00\":\n",
    "        if row.Sentiments == \"Positive\":\n",
    "            data.loc[data['date'] == (row.date + \" \" + \"11:59:59\" + \".999\"), 'sentimentCount'] += 1\n",
    "        elif row.Sentiments == \"Negative\":\n",
    "            data.loc[data['date'] == (row.date + \" \" + \"11:59:59\" + \".999\"), 'sentimentCount'] -= 1\n",
    "    elif row.time >= \"12:00:00\" and row.time < \"16:00:00\":\n",
    "        if row.Sentiments == \"Positive\":\n",
    "            data.loc[data['date'] == (row.date + \" \" + \"15:59:59\" + \".999\"), 'sentimentCount'] += 1\n",
    "        elif row.Sentiments == \"Negative\":\n",
    "            data.loc[data['date'] == (row.date + \" \" + \"15:59:59\" + \".999\"), 'sentimentCount'] -= 1\n",
    "    elif row.time >= \"16:00:00\" and row.time < \"20:00:00\":\n",
    "        if row.Sentiments == \"Positive\":\n",
    "            data.loc[data['date'] == (row.date + \" \" + \"19:59:59\" + \".999\"), 'sentimentCount'] += 1\n",
    "        elif row.Sentiments == \"Negative\":\n",
    "            data.loc[data['date'] == (row.date + \" \" + \"19:59:59\" + \".999\"), 'sentimentCount'] -= 1\n",
    "    else:\n",
    "        if row.Sentiments == \"Positive\":\n",
    "            data.loc[data['date'] == (row.date + \" \" + \"23:59:59\" + \".999\"), 'sentimentCount'] += 1\n",
    "        elif row.Sentiments == \"Negative\":\n",
    "            data.loc[data['date'] == (row.date + \" \" + \"23:59:59\" + \".999\"), 'sentimentCount'] -= 1"
   ]
  },
  {
   "cell_type": "code",
   "execution_count": 48,
   "id": "c327cdef",
   "metadata": {},
   "outputs": [
    {
     "data": {
      "text/html": [
       "<div>\n",
       "<style scoped>\n",
       "    .dataframe tbody tr th:only-of-type {\n",
       "        vertical-align: middle;\n",
       "    }\n",
       "\n",
       "    .dataframe tbody tr th {\n",
       "        vertical-align: top;\n",
       "    }\n",
       "\n",
       "    .dataframe thead th {\n",
       "        text-align: right;\n",
       "    }\n",
       "</style>\n",
       "<table border=\"1\" class=\"dataframe\">\n",
       "  <thead>\n",
       "    <tr style=\"text-align: right;\">\n",
       "      <th></th>\n",
       "      <th>close</th>\n",
       "      <th>date</th>\n",
       "      <th>Month</th>\n",
       "      <th>Day</th>\n",
       "      <th>Year</th>\n",
       "      <th>Hour</th>\n",
       "      <th>Minutes</th>\n",
       "      <th>whaleCount</th>\n",
       "      <th>sentimentCount</th>\n",
       "    </tr>\n",
       "  </thead>\n",
       "  <tbody>\n",
       "    <tr>\n",
       "      <th>2021-01-01 03:59:59.999</th>\n",
       "      <td>0.18292</td>\n",
       "      <td>2021-01-01 03:59:59.999</td>\n",
       "      <td>1</td>\n",
       "      <td>1</td>\n",
       "      <td>2021</td>\n",
       "      <td>3</td>\n",
       "      <td>59</td>\n",
       "      <td>0</td>\n",
       "      <td>4</td>\n",
       "    </tr>\n",
       "    <tr>\n",
       "      <th>2021-01-01 07:59:59.999</th>\n",
       "      <td>0.17955</td>\n",
       "      <td>2021-01-01 07:59:59.999</td>\n",
       "      <td>1</td>\n",
       "      <td>1</td>\n",
       "      <td>2021</td>\n",
       "      <td>7</td>\n",
       "      <td>59</td>\n",
       "      <td>0</td>\n",
       "      <td>0</td>\n",
       "    </tr>\n",
       "    <tr>\n",
       "      <th>2021-01-01 11:59:59.999</th>\n",
       "      <td>0.17950</td>\n",
       "      <td>2021-01-01 11:59:59.999</td>\n",
       "      <td>1</td>\n",
       "      <td>1</td>\n",
       "      <td>2021</td>\n",
       "      <td>11</td>\n",
       "      <td>59</td>\n",
       "      <td>12</td>\n",
       "      <td>4</td>\n",
       "    </tr>\n",
       "    <tr>\n",
       "      <th>2021-01-01 15:59:59.999</th>\n",
       "      <td>0.18055</td>\n",
       "      <td>2021-01-01 15:59:59.999</td>\n",
       "      <td>1</td>\n",
       "      <td>1</td>\n",
       "      <td>2021</td>\n",
       "      <td>15</td>\n",
       "      <td>59</td>\n",
       "      <td>8</td>\n",
       "      <td>6</td>\n",
       "    </tr>\n",
       "    <tr>\n",
       "      <th>2021-01-01 19:59:59.999</th>\n",
       "      <td>0.17432</td>\n",
       "      <td>2021-01-01 19:59:59.999</td>\n",
       "      <td>1</td>\n",
       "      <td>1</td>\n",
       "      <td>2021</td>\n",
       "      <td>19</td>\n",
       "      <td>59</td>\n",
       "      <td>0</td>\n",
       "      <td>4</td>\n",
       "    </tr>\n",
       "  </tbody>\n",
       "</table>\n",
       "</div>"
      ],
      "text/plain": [
       "                           close                    date  Month  Day  Year  \\\n",
       "2021-01-01 03:59:59.999  0.18292 2021-01-01 03:59:59.999      1    1  2021   \n",
       "2021-01-01 07:59:59.999  0.17955 2021-01-01 07:59:59.999      1    1  2021   \n",
       "2021-01-01 11:59:59.999  0.17950 2021-01-01 11:59:59.999      1    1  2021   \n",
       "2021-01-01 15:59:59.999  0.18055 2021-01-01 15:59:59.999      1    1  2021   \n",
       "2021-01-01 19:59:59.999  0.17432 2021-01-01 19:59:59.999      1    1  2021   \n",
       "\n",
       "                         Hour  Minutes  whaleCount  sentimentCount  \n",
       "2021-01-01 03:59:59.999     3       59           0               4  \n",
       "2021-01-01 07:59:59.999     7       59           0               0  \n",
       "2021-01-01 11:59:59.999    11       59          12               4  \n",
       "2021-01-01 15:59:59.999    15       59           8               6  \n",
       "2021-01-01 19:59:59.999    19       59           0               4  "
      ]
     },
     "execution_count": 48,
     "metadata": {},
     "output_type": "execute_result"
    }
   ],
   "source": [
    "data.head()"
   ]
  },
  {
   "cell_type": "markdown",
   "id": "48e37a9f",
   "metadata": {
    "id": "d572bbab"
   },
   "source": [
    "<h1><center> Modelling </center></h1>"
   ]
  },
  {
   "cell_type": "markdown",
   "id": "b020f147",
   "metadata": {
    "id": "e5cb8cb1"
   },
   "source": [
    "# -----------------------------------------------------------------------------------------------------------"
   ]
  },
  {
   "cell_type": "markdown",
   "id": "fc92ddf2",
   "metadata": {
    "id": "30ee8f14"
   },
   "source": [
    "### Taking input features "
   ]
  },
  {
   "cell_type": "code",
   "execution_count": 49,
   "id": "e39f86b9",
   "metadata": {
    "colab": {
     "base_uri": "https://localhost:8080/",
     "height": 455
    },
    "id": "dee4a1db",
    "outputId": "0257b9db-1c42-4a62-e1ec-bef1d88456f7"
   },
   "outputs": [
    {
     "data": {
      "text/html": [
       "<div>\n",
       "<style scoped>\n",
       "    .dataframe tbody tr th:only-of-type {\n",
       "        vertical-align: middle;\n",
       "    }\n",
       "\n",
       "    .dataframe tbody tr th {\n",
       "        vertical-align: top;\n",
       "    }\n",
       "\n",
       "    .dataframe thead th {\n",
       "        text-align: right;\n",
       "    }\n",
       "</style>\n",
       "<table border=\"1\" class=\"dataframe\">\n",
       "  <thead>\n",
       "    <tr style=\"text-align: right;\">\n",
       "      <th></th>\n",
       "      <th>Month</th>\n",
       "      <th>Day</th>\n",
       "      <th>Year</th>\n",
       "      <th>Hour</th>\n",
       "      <th>Minutes</th>\n",
       "      <th>whaleCount</th>\n",
       "      <th>sentimentCount</th>\n",
       "    </tr>\n",
       "  </thead>\n",
       "  <tbody>\n",
       "    <tr>\n",
       "      <th>2021-01-01 03:59:59.999</th>\n",
       "      <td>1</td>\n",
       "      <td>1</td>\n",
       "      <td>2021</td>\n",
       "      <td>3</td>\n",
       "      <td>59</td>\n",
       "      <td>0</td>\n",
       "      <td>4</td>\n",
       "    </tr>\n",
       "    <tr>\n",
       "      <th>2021-01-01 07:59:59.999</th>\n",
       "      <td>1</td>\n",
       "      <td>1</td>\n",
       "      <td>2021</td>\n",
       "      <td>7</td>\n",
       "      <td>59</td>\n",
       "      <td>0</td>\n",
       "      <td>0</td>\n",
       "    </tr>\n",
       "    <tr>\n",
       "      <th>2021-01-01 11:59:59.999</th>\n",
       "      <td>1</td>\n",
       "      <td>1</td>\n",
       "      <td>2021</td>\n",
       "      <td>11</td>\n",
       "      <td>59</td>\n",
       "      <td>12</td>\n",
       "      <td>4</td>\n",
       "    </tr>\n",
       "    <tr>\n",
       "      <th>2021-01-01 15:59:59.999</th>\n",
       "      <td>1</td>\n",
       "      <td>1</td>\n",
       "      <td>2021</td>\n",
       "      <td>15</td>\n",
       "      <td>59</td>\n",
       "      <td>8</td>\n",
       "      <td>6</td>\n",
       "    </tr>\n",
       "    <tr>\n",
       "      <th>2021-01-01 19:59:59.999</th>\n",
       "      <td>1</td>\n",
       "      <td>1</td>\n",
       "      <td>2021</td>\n",
       "      <td>19</td>\n",
       "      <td>59</td>\n",
       "      <td>0</td>\n",
       "      <td>4</td>\n",
       "    </tr>\n",
       "    <tr>\n",
       "      <th>...</th>\n",
       "      <td>...</td>\n",
       "      <td>...</td>\n",
       "      <td>...</td>\n",
       "      <td>...</td>\n",
       "      <td>...</td>\n",
       "      <td>...</td>\n",
       "      <td>...</td>\n",
       "    </tr>\n",
       "    <tr>\n",
       "      <th>2021-12-31 07:59:59.999</th>\n",
       "      <td>12</td>\n",
       "      <td>31</td>\n",
       "      <td>2021</td>\n",
       "      <td>7</td>\n",
       "      <td>59</td>\n",
       "      <td>0</td>\n",
       "      <td>0</td>\n",
       "    </tr>\n",
       "    <tr>\n",
       "      <th>2021-12-31 11:59:59.999</th>\n",
       "      <td>12</td>\n",
       "      <td>31</td>\n",
       "      <td>2021</td>\n",
       "      <td>11</td>\n",
       "      <td>59</td>\n",
       "      <td>0</td>\n",
       "      <td>0</td>\n",
       "    </tr>\n",
       "    <tr>\n",
       "      <th>2021-12-31 15:59:59.999</th>\n",
       "      <td>12</td>\n",
       "      <td>31</td>\n",
       "      <td>2021</td>\n",
       "      <td>15</td>\n",
       "      <td>59</td>\n",
       "      <td>0</td>\n",
       "      <td>0</td>\n",
       "    </tr>\n",
       "    <tr>\n",
       "      <th>2021-12-31 19:59:59.999</th>\n",
       "      <td>12</td>\n",
       "      <td>31</td>\n",
       "      <td>2021</td>\n",
       "      <td>19</td>\n",
       "      <td>59</td>\n",
       "      <td>0</td>\n",
       "      <td>0</td>\n",
       "    </tr>\n",
       "    <tr>\n",
       "      <th>2021-12-31 23:59:59.999</th>\n",
       "      <td>12</td>\n",
       "      <td>31</td>\n",
       "      <td>2021</td>\n",
       "      <td>23</td>\n",
       "      <td>59</td>\n",
       "      <td>0</td>\n",
       "      <td>0</td>\n",
       "    </tr>\n",
       "  </tbody>\n",
       "</table>\n",
       "<p>2190 rows × 7 columns</p>\n",
       "</div>"
      ],
      "text/plain": [
       "                         Month  Day  Year  Hour  Minutes  whaleCount  \\\n",
       "2021-01-01 03:59:59.999      1    1  2021     3       59           0   \n",
       "2021-01-01 07:59:59.999      1    1  2021     7       59           0   \n",
       "2021-01-01 11:59:59.999      1    1  2021    11       59          12   \n",
       "2021-01-01 15:59:59.999      1    1  2021    15       59           8   \n",
       "2021-01-01 19:59:59.999      1    1  2021    19       59           0   \n",
       "...                        ...  ...   ...   ...      ...         ...   \n",
       "2021-12-31 07:59:59.999     12   31  2021     7       59           0   \n",
       "2021-12-31 11:59:59.999     12   31  2021    11       59           0   \n",
       "2021-12-31 15:59:59.999     12   31  2021    15       59           0   \n",
       "2021-12-31 19:59:59.999     12   31  2021    19       59           0   \n",
       "2021-12-31 23:59:59.999     12   31  2021    23       59           0   \n",
       "\n",
       "                         sentimentCount  \n",
       "2021-01-01 03:59:59.999               4  \n",
       "2021-01-01 07:59:59.999               0  \n",
       "2021-01-01 11:59:59.999               4  \n",
       "2021-01-01 15:59:59.999               6  \n",
       "2021-01-01 19:59:59.999               4  \n",
       "...                                 ...  \n",
       "2021-12-31 07:59:59.999               0  \n",
       "2021-12-31 11:59:59.999               0  \n",
       "2021-12-31 15:59:59.999               0  \n",
       "2021-12-31 19:59:59.999               0  \n",
       "2021-12-31 23:59:59.999               0  \n",
       "\n",
       "[2190 rows x 7 columns]"
      ]
     },
     "execution_count": 49,
     "metadata": {},
     "output_type": "execute_result"
    }
   ],
   "source": [
    "X=data.drop(columns=['close','date']) #dropping the 'Close','date'\n",
    "X[X< 0] = 0 #making all negative values as 0\n",
    "X #input features "
   ]
  },
  {
   "cell_type": "markdown",
   "id": "b975368a",
   "metadata": {
    "id": "24e5d5ba"
   },
   "source": [
    "### Taking target as output"
   ]
  },
  {
   "cell_type": "code",
   "execution_count": 50,
   "id": "c1644048",
   "metadata": {
    "colab": {
     "base_uri": "https://localhost:8080/"
    },
    "id": "7667aa46",
    "outputId": "af69f82b-08a3-4fbe-c791-ff55b4b5d703"
   },
   "outputs": [
    {
     "data": {
      "text/plain": [
       "2021-01-01 03:59:59.999    0.18292\n",
       "2021-01-01 07:59:59.999    0.17955\n",
       "2021-01-01 11:59:59.999    0.17950\n",
       "2021-01-01 15:59:59.999    0.18055\n",
       "2021-01-01 19:59:59.999    0.17432\n",
       "                            ...   \n",
       "2021-12-31 07:59:59.999    1.32900\n",
       "2021-12-31 11:59:59.999    1.36100\n",
       "2021-12-31 15:59:59.999    1.35500\n",
       "2021-12-31 19:59:59.999    1.28600\n",
       "2021-12-31 23:59:59.999    1.30800\n",
       "Name: close, Length: 2190, dtype: float64"
      ]
     },
     "execution_count": 50,
     "metadata": {},
     "output_type": "execute_result"
    }
   ],
   "source": [
    "y=data['close'] # output close \n",
    "y #output "
   ]
  },
  {
   "cell_type": "markdown",
   "id": "63e113c3",
   "metadata": {
    "id": "4321abf1"
   },
   "source": [
    "### Spliting the data into training and Testing"
   ]
  },
  {
   "cell_type": "code",
   "execution_count": 51,
   "id": "702f2ac1",
   "metadata": {
    "id": "dbea7403"
   },
   "outputs": [],
   "source": [
    "X_train = X[:int(trainTestSplit*(len(X)))] # training input features split \n",
    "X_test = X[int(trainTestSplit*(len(X))):]  # testing input features split \n",
    "\n",
    "y_train = y[:int(trainTestSplit*(len(y)))]  # training output split \n",
    "y_test = y[int(trainTestSplit*(len(y))):] # testing output split "
   ]
  },
  {
   "cell_type": "markdown",
   "id": "7ef0ce9d",
   "metadata": {
    "id": "c6adc85e"
   },
   "source": [
    "# --------------------------------------------------------------------------------------------------"
   ]
  },
  {
   "cell_type": "markdown",
   "id": "2de2553b",
   "metadata": {
    "id": "264cc82e"
   },
   "source": [
    "# ARIMAX Model"
   ]
  },
  {
   "cell_type": "markdown",
   "id": "ab945db0",
   "metadata": {
    "id": "284a479c"
   },
   "source": [
    "### Parametrs"
   ]
  },
  {
   "cell_type": "code",
   "execution_count": 52,
   "id": "17b6de7b",
   "metadata": {
    "id": "2382f70e",
    "outputId": "f13dadcd-562a-43c8-baa6-bb3d9fca49ff"
   },
   "outputs": [
    {
     "name": "stdout",
     "output_type": "stream",
     "text": [
      "ARIMA(0, 0, 0) RMSE=1.192\n",
      "ARIMA(0, 0, 1) RMSE=1.700\n",
      "ARIMA(0, 0, 2) RMSE=1.715\n",
      "ARIMA(0, 1, 0) RMSE=0.536\n",
      "ARIMA(0, 1, 1) RMSE=0.536\n",
      "ARIMA(0, 1, 2) RMSE=0.536\n",
      "ARIMA(0, 2, 0) RMSE=3.051\n",
      "ARIMA(0, 2, 1) RMSE=0.809\n",
      "ARIMA(0, 2, 2) RMSE=0.805\n",
      "ARIMA(1, 0, 0) RMSE=0.349\n",
      "ARIMA(1, 0, 1) RMSE=0.330\n",
      "ARIMA(1, 0, 2) RMSE=0.564\n",
      "ARIMA(1, 1, 0) RMSE=0.536\n",
      "ARIMA(1, 1, 1) RMSE=0.536\n",
      "ARIMA(1, 1, 2) RMSE=0.536\n",
      "ARIMA(1, 2, 0) RMSE=1.215\n",
      "ARIMA(1, 2, 1) RMSE=0.807\n",
      "ARIMA(1, 2, 2) RMSE=0.808\n",
      "ARIMA(2, 0, 0) RMSE=0.161\n",
      "ARIMA(2, 0, 1) RMSE=0.301\n",
      "ARIMA(2, 0, 2) RMSE=0.322\n",
      "ARIMA(2, 1, 0) RMSE=0.536\n",
      "ARIMA(2, 1, 1) RMSE=0.536\n",
      "ARIMA(2, 1, 2) RMSE=0.536\n",
      "ARIMA(2, 2, 0) RMSE=0.168\n",
      "ARIMA(2, 2, 1) RMSE=0.618\n",
      "ARIMA(2, 2, 2) RMSE=0.808\n",
      "ARIMA(4, 0, 0) RMSE=0.995\n",
      "ARIMA(4, 0, 1) RMSE=0.177\n",
      "ARIMA(4, 0, 2) RMSE=0.360\n",
      "ARIMA(4, 1, 0) RMSE=0.536\n",
      "ARIMA(4, 1, 1) RMSE=0.536\n",
      "ARIMA(4, 1, 2) RMSE=0.536\n",
      "ARIMA(4, 2, 0) RMSE=0.830\n",
      "ARIMA(4, 2, 1) RMSE=0.262\n",
      "ARIMA(4, 2, 2) RMSE=0.260\n",
      "ARIMA(6, 0, 0) RMSE=0.673\n",
      "ARIMA(6, 0, 1) RMSE=0.670\n",
      "ARIMA(6, 0, 2) RMSE=0.586\n",
      "ARIMA(6, 1, 0) RMSE=0.537\n",
      "ARIMA(6, 1, 1) RMSE=0.537\n",
      "ARIMA(6, 1, 2) RMSE=0.537\n",
      "ARIMA(6, 2, 0) RMSE=0.519\n",
      "ARIMA(6, 2, 1) RMSE=0.349\n",
      "ARIMA(6, 2, 2) RMSE=0.225\n",
      "ARIMA(8, 0, 0) RMSE=0.632\n",
      "ARIMA(8, 0, 1) RMSE=0.643\n",
      "ARIMA(8, 0, 2) RMSE=0.426\n",
      "ARIMA(8, 1, 0) RMSE=0.537\n",
      "ARIMA(8, 1, 1) RMSE=0.537\n",
      "ARIMA(8, 1, 2) RMSE=0.537\n",
      "ARIMA(8, 2, 0) RMSE=0.364\n",
      "ARIMA(8, 2, 1) RMSE=0.267\n",
      "ARIMA(8, 2, 2) RMSE=0.145\n",
      "ARIMA(10, 0, 0) RMSE=0.635\n",
      "ARIMA(10, 0, 1) RMSE=0.666\n",
      "ARIMA(10, 0, 2) RMSE=0.537\n",
      "ARIMA(10, 1, 0) RMSE=0.538\n",
      "ARIMA(10, 1, 1) RMSE=0.538\n",
      "ARIMA(10, 1, 2) RMSE=0.538\n",
      "ARIMA(10, 2, 0) RMSE=0.361\n",
      "ARIMA(10, 2, 1) RMSE=0.317\n",
      "ARIMA(10, 2, 2) RMSE=0.156\n",
      "Best ARIMA(8, 2, 2) RMSE=0.145\n",
      "Wall time: 1min 54s\n"
     ]
    }
   ],
   "source": [
    "%%time\n",
    "# evaluate an ARIMA model for a given order (p,d,q)\n",
    "def evaluate_arima_model(priceData, arima_order):\n",
    "    Xtest = priceData.drop(columns=['date','Month','Day','Year','Minutes','Hour'])\n",
    "    train_data, test_data = Xtest.iloc[:int(len(Xtest['close'])*trainTestSplit)], Xtest.iloc[int(len(Xtest['close'])*trainTestSplit):]\n",
    "\n",
    "    df5 = test_data.copy()\n",
    "    df5['close'].loc[:] = np.nan\n",
    "\n",
    "    df6 = pd.concat([train_data,df5])\n",
    "    #exog = np.empty([df6['EMA_50'], df6['EMA_200'],df6['MA_50'],df6['MA_200']])\n",
    "    model=smapi.tsa.statespace.SARIMAX(df6['close'],exog=df6[['sentimentCount','whaleCount']],order=arima_order)\n",
    "    results=model.fit()\n",
    "\n",
    "    preds =results.predict(start=len(train_data), end=len(train_data)+len(test_data)-1, dynamic = True)\n",
    "    # calculate out of sample error\n",
    "    rmse = sqrt(mean_squared_error(test_data['close'], preds.tolist()))\n",
    "\n",
    "    return rmse\n",
    " \n",
    "# evaluate combinations of p, d and q values for an ARIMA model\n",
    "def evaluate_models(priceData, p_values, d_values, q_values):\n",
    "    best_score, best_cfg = float(\"inf\"), None\n",
    "    for p in p_values:\n",
    "        for d in d_values:\n",
    "            for q in q_values:\n",
    "                order = (p,d,q)\n",
    "                try:\n",
    "                    rmse = evaluate_arima_model(priceData, order)\n",
    "                    if rmse < best_score:\n",
    "                        best_score, best_cfg = rmse, order\n",
    "                    print('ARIMA%s RMSE=%.3f' % (order,rmse))\n",
    "                except Exception as e:\n",
    "                    print(e)\n",
    "                    continue\n",
    "    print('Best ARIMA%s RMSE=%.3f' % (best_cfg, best_score))\n",
    "    return best_cfg\n",
    " \n",
    "# evaluate parameters\n",
    "p_values = [0, 1, 2, 4, 6, 8, 10]\n",
    "d_values = range(0, 3)\n",
    "q_values = range(0, 3)\n",
    "warnings.filterwarnings(\"ignore\")\n",
    "best_cfg = evaluate_models(data, p_values, d_values, q_values)"
   ]
  },
  {
   "cell_type": "code",
   "execution_count": 53,
   "id": "db8e10e4",
   "metadata": {},
   "outputs": [],
   "source": [
    "Xtest = data.drop(columns=['date','Month','Day','Year','Minutes','Hour'])\n",
    "train_data, test_data = Xtest.iloc[:int(len(Xtest['close'])*trainTestSplit)], Xtest.iloc[int(len(Xtest['close'])*trainTestSplit):]\n",
    "\n",
    "df5 = test_data.copy()\n",
    "df5['close'].loc[:] = np.nan\n",
    "\n",
    "df6 = pd.concat([train_data,df5])\n",
    "\n",
    "model=smapi.tsa.statespace.SARIMAX(df6['close'],exog=df6[['sentimentCount','whaleCount']],order=(best_cfg))\n",
    "results=model.fit()"
   ]
  },
  {
   "cell_type": "code",
   "execution_count": 54,
   "id": "1829378b",
   "metadata": {},
   "outputs": [],
   "source": [
    "preds =results.predict(start=len(train_data), end=len(train_data)+len(test_data)-1, dynamic = True)\n",
    "y_pred_test = pd.Series(preds.tolist(), index = test_data.index)"
   ]
  },
  {
   "cell_type": "markdown",
   "id": "d6422a23",
   "metadata": {
    "id": "dad9a2a5"
   },
   "source": [
    "# Evaluation Measures on Test data"
   ]
  },
  {
   "cell_type": "markdown",
   "id": "35e3de99",
   "metadata": {
    "id": "e30c698e"
   },
   "source": [
    "# MSE"
   ]
  },
  {
   "cell_type": "code",
   "execution_count": 55,
   "id": "35a82489",
   "metadata": {
    "colab": {
     "base_uri": "https://localhost:8080/"
    },
    "id": "98f4a656",
    "outputId": "cb485e4c-d2d3-483c-e9c9-2a56aaada9b4"
   },
   "outputs": [
    {
     "name": "stdout",
     "output_type": "stream",
     "text": [
      "Mean Squared Error:  0.02116\n"
     ]
    }
   ],
   "source": [
    "test_mse1=mean_squared_error(y_test,y_pred_test) # calculating the mse score\n",
    "print('Mean Squared Error: ', round(test_mse1,5)) #pritng the results "
   ]
  },
  {
   "cell_type": "markdown",
   "id": "e6ed0c3d",
   "metadata": {
    "id": "59fe3989"
   },
   "source": [
    "# MAE"
   ]
  },
  {
   "cell_type": "code",
   "execution_count": 56,
   "id": "f7a12757",
   "metadata": {
    "colab": {
     "base_uri": "https://localhost:8080/"
    },
    "id": "67861d97",
    "outputId": "502598a3-ab27-4602-c89d-8782a7b3dbf1"
   },
   "outputs": [
    {
     "name": "stdout",
     "output_type": "stream",
     "text": [
      "Mean Absolute Error:  0.12074\n"
     ]
    }
   ],
   "source": [
    "test_MAE1=mean_absolute_error(y_test,y_pred_test) # calculating the mae score\n",
    "print('Mean Absolute Error: ', round(test_MAE1,5)) #pritng the results "
   ]
  },
  {
   "cell_type": "markdown",
   "id": "f878ef22",
   "metadata": {
    "id": "a6d95fb7"
   },
   "source": [
    "# RMSE"
   ]
  },
  {
   "cell_type": "code",
   "execution_count": 57,
   "id": "0c25b987",
   "metadata": {
    "colab": {
     "base_uri": "https://localhost:8080/"
    },
    "id": "e290d306",
    "outputId": "4455823c-da99-4149-e3ba-dd4fe51ce5be"
   },
   "outputs": [
    {
     "name": "stdout",
     "output_type": "stream",
     "text": [
      "Mean Squared Error:  0.14546\n"
     ]
    }
   ],
   "source": [
    "test_rmse1=np.sqrt(test_mse1) # calculating the rmse score\n",
    "print('Mean Squared Error: ', round(test_rmse1,5)) #pritng the results "
   ]
  },
  {
   "cell_type": "markdown",
   "id": "606b81ea",
   "metadata": {
    "id": "2321c33b"
   },
   "source": [
    "# MAPE"
   ]
  },
  {
   "cell_type": "code",
   "execution_count": 58,
   "id": "713e9b59",
   "metadata": {
    "colab": {
     "base_uri": "https://localhost:8080/"
    },
    "id": "98bc0237",
    "outputId": "93fcaefe-504a-427e-ada8-5aadb77df706"
   },
   "outputs": [
    {
     "name": "stdout",
     "output_type": "stream",
     "text": [
      "Mean Absolute Error:  0.07403\n"
     ]
    }
   ],
   "source": [
    "test_mape1=mean_absolute_percentage_error(y_test,y_pred_test) # calculating the mape score\n",
    "print('Mean Absolute Error: ', round(test_mape1,5)) #pritng the results "
   ]
  },
  {
   "cell_type": "code",
   "execution_count": 59,
   "id": "3497f7bb",
   "metadata": {},
   "outputs": [
    {
     "data": {
      "image/png": "[encoded data removed]",
      "text/plain": [
       "<Figure size 432x288 with 1 Axes>"
      ]
     },
     "metadata": {},
     "output_type": "display_data"
    },
    {
     "data": {
      "image/png": "[encoded data removed]",
      "text/plain": [
       "<Figure size 1296x576 with 1 Axes>"
      ]
     },
     "metadata": {},
     "output_type": "display_data"
    }
   ],
   "source": [
    "df = pd.DataFrame({'Actual': y_test, 'Predicted': y_pred_test})\n",
    "df2 = pd.DataFrame({'train': y_train})\n",
    "ax = df.plot()\n",
    "df2.plot(ax=ax)\n",
    "df.plot(kind='line',figsize=(18,8))\n",
    "plt.grid(which='major', linestyle='-', linewidth='0.5', color='green')\n",
    "plt.grid(which='minor', linestyle=':', linewidth='0.5', color='black')\n",
    "plt.show()"
   ]
  },
  {
   "cell_type": "markdown",
   "id": "340ee230",
   "metadata": {
    "id": "f40c5adf"
   },
   "source": [
    "# --------------------------------------------------------------------------------------------------"
   ]
  },
  {
   "cell_type": "markdown",
   "id": "7ba0a190",
   "metadata": {
    "id": "264cc82e"
   },
   "source": [
    "# SARIMAX Model"
   ]
  },
  {
   "cell_type": "markdown",
   "id": "3d0810ab",
   "metadata": {
    "id": "284a479c"
   },
   "source": [
    "### Parametrs"
   ]
  },
  {
   "cell_type": "code",
   "execution_count": 60,
   "id": "9152f2a5",
   "metadata": {
    "id": "2382f70e",
    "outputId": "f13dadcd-562a-43c8-baa6-bb3d9fca49ff"
   },
   "outputs": [
    {
     "name": "stdout",
     "output_type": "stream",
     "text": [
      "ARIMA(0, 0, 0) RMSE=0.566\n",
      "ARIMA(0, 0, 1) RMSE=0.562\n",
      "ARIMA(0, 0, 2) RMSE=0.560\n",
      "ARIMA(0, 1, 0) RMSE=0.806\n",
      "ARIMA(0, 1, 1) RMSE=0.778\n",
      "ARIMA(0, 1, 2) RMSE=0.806\n",
      "ARIMA(0, 2, 0) RMSE=3.315\n",
      "ARIMA(0, 2, 1) RMSE=0.469\n",
      "ARIMA(0, 2, 2) RMSE=0.152\n",
      "ARIMA(1, 0, 0) RMSE=0.340\n",
      "ARIMA(1, 0, 1) RMSE=0.622\n",
      "ARIMA(1, 0, 2) RMSE=0.318\n",
      "ARIMA(1, 1, 0) RMSE=0.799\n",
      "ARIMA(1, 1, 1) RMSE=0.788\n",
      "ARIMA(1, 1, 2) RMSE=0.711\n",
      "ARIMA(1, 2, 0) RMSE=1.649\n",
      "ARIMA(1, 2, 1) RMSE=0.178\n",
      "ARIMA(1, 2, 2) RMSE=0.294\n",
      "ARIMA(2, 0, 0) RMSE=0.215\n",
      "ARIMA(2, 0, 1) RMSE=0.718\n",
      "ARIMA(2, 0, 2) RMSE=0.513\n",
      "ARIMA(2, 1, 0) RMSE=0.791\n",
      "ARIMA(2, 1, 1) RMSE=0.796\n",
      "ARIMA(2, 1, 2) RMSE=0.755\n",
      "ARIMA(2, 2, 0) RMSE=0.578\n",
      "ARIMA(2, 2, 1) RMSE=0.354\n",
      "ARIMA(2, 2, 2) RMSE=0.451\n",
      "ARIMA(4, 0, 0) RMSE=0.609\n",
      "ARIMA(4, 0, 1) RMSE=0.457\n",
      "ARIMA(4, 0, 2) RMSE=0.662\n",
      "ARIMA(4, 1, 0) RMSE=0.773\n",
      "ARIMA(4, 1, 1) RMSE=0.603\n",
      "ARIMA(4, 1, 2) RMSE=0.595\n",
      "ARIMA(4, 2, 0) RMSE=1.503\n",
      "ARIMA(4, 2, 1) RMSE=1.734\n",
      "ARIMA(4, 2, 2) RMSE=0.469\n",
      "ARIMA(6, 0, 0) RMSE=0.376\n",
      "ARIMA(6, 0, 1) RMSE=0.584\n",
      "ARIMA(6, 0, 2) RMSE=0.521\n",
      "ARIMA(6, 1, 0) RMSE=0.683\n",
      "ARIMA(6, 1, 1) RMSE=0.745\n",
      "ARIMA(6, 1, 2) RMSE=0.739\n",
      "ARIMA(6, 2, 0) RMSE=2.419\n",
      "ARIMA(6, 2, 1) RMSE=1.559\n",
      "ARIMA(6, 2, 2) RMSE=0.494\n",
      "ARIMA(8, 0, 0) RMSE=0.593\n",
      "ARIMA(8, 0, 1) RMSE=0.531\n",
      "ARIMA(8, 0, 2) RMSE=0.513\n",
      "ARIMA(8, 1, 0) RMSE=0.639\n",
      "ARIMA(8, 1, 1) RMSE=0.414\n",
      "ARIMA(8, 1, 2) RMSE=0.414\n",
      "ARIMA(8, 2, 0) RMSE=1.819\n",
      "ARIMA(8, 2, 1) RMSE=1.563\n",
      "ARIMA(8, 2, 2) RMSE=1.195\n",
      "ARIMA(10, 0, 0) RMSE=0.563\n",
      "ARIMA(10, 0, 1) RMSE=0.532\n",
      "ARIMA(10, 0, 2) RMSE=0.536\n",
      "ARIMA(10, 1, 0) RMSE=0.692\n",
      "ARIMA(10, 1, 1) RMSE=0.711\n",
      "ARIMA(10, 1, 2) RMSE=0.308\n",
      "ARIMA(10, 2, 0) RMSE=1.349\n",
      "ARIMA(10, 2, 1) RMSE=2.195\n",
      "ARIMA(10, 2, 2) RMSE=0.415\n",
      "Best ARIMA(0, 2, 2) RMSE=0.152\n",
      "Wall time: 12min 16s\n"
     ]
    }
   ],
   "source": [
    "%%time\n",
    "# evaluate an ARIMA model for a given order (p,d,q)\n",
    "def evaluate_arima_model(priceData, arima_order):\n",
    "    Xtest = priceData.drop(columns=['date','Month','Day','Year','Minutes','Hour'])\n",
    "    train_data, test_data = Xtest.iloc[:int(len(Xtest['close'])*trainTestSplit)], Xtest.iloc[int(len(Xtest['close'])*trainTestSplit):]\n",
    "\n",
    "    df5 = test_data.copy()\n",
    "    df5['close'].loc[:] = np.nan\n",
    "\n",
    "    df6 = pd.concat([train_data,df5])\n",
    "    #exog = np.empty([df6['EMA_50'], df6['EMA_200'],df6['MA_50'],df6['MA_200']])\n",
    "    model=smapi.tsa.statespace.SARIMAX(df6['close'],exog=df6[['sentimentCount','whaleCount']],order=arima_order,seasonal_order=(1,1,1,12))\n",
    "    results=model.fit()\n",
    "\n",
    "    preds =results.predict(start=len(train_data), end=len(train_data)+len(test_data)-1, dynamic = True)\n",
    "    # calculate out of sample error\n",
    "    rmse = sqrt(mean_squared_error(test_data['close'], preds.tolist()))\n",
    "\n",
    "    return rmse\n",
    " \n",
    "# evaluate combinations of p, d and q values for an ARIMA model\n",
    "def evaluate_models(priceData, p_values, d_values, q_values):\n",
    "    best_score, best_cfg = float(\"inf\"), None\n",
    "    for p in p_values:\n",
    "        for d in d_values:\n",
    "            for q in q_values:\n",
    "                order = (p,d,q)\n",
    "                try:\n",
    "                    rmse = evaluate_arima_model(priceData, order)\n",
    "                    if rmse < best_score:\n",
    "                        best_score, best_cfg = rmse, order\n",
    "                    print('ARIMA%s RMSE=%.3f' % (order,rmse))\n",
    "                except Exception as e:\n",
    "                    print(e)\n",
    "                    continue\n",
    "    print('Best ARIMA%s RMSE=%.3f' % (best_cfg, best_score))\n",
    "    return best_cfg\n",
    " \n",
    "# evaluate parameters\n",
    "p_values = [0, 1, 2, 4, 6, 8, 10]\n",
    "d_values = range(0, 3)\n",
    "q_values = range(0, 3)\n",
    "warnings.filterwarnings(\"ignore\")\n",
    "best_cfg = evaluate_models(data, p_values, d_values, q_values)"
   ]
  },
  {
   "cell_type": "code",
   "execution_count": 61,
   "id": "bca852f0",
   "metadata": {},
   "outputs": [],
   "source": [
    "Xtest = data.drop(columns=['date','Month','Day','Year','Minutes','Hour'])\n",
    "train_data, test_data = Xtest.iloc[:int(len(Xtest['close'])*trainTestSplit)], Xtest.iloc[int(len(Xtest['close'])*trainTestSplit):]\n",
    "\n",
    "df5 = test_data.copy()\n",
    "df5['close'].loc[:] = np.nan\n",
    "\n",
    "df6 = pd.concat([train_data,df5])\n",
    "\n",
    "model=smapi.tsa.statespace.SARIMAX(df6['close'],exog=df6[['sentimentCount','whaleCount']],order=(best_cfg),seasonal_order=(1,1,1,12))\n",
    "results=model.fit()"
   ]
  },
  {
   "cell_type": "code",
   "execution_count": 62,
   "id": "9f5b8cdc",
   "metadata": {},
   "outputs": [],
   "source": [
    "preds =results.predict(start=len(train_data), end=len(train_data)+len(test_data)-1, dynamic = True)\n",
    "y_pred_test = pd.Series(preds.tolist(), index = test_data.index)"
   ]
  },
  {
   "cell_type": "markdown",
   "id": "89c9cf54",
   "metadata": {
    "id": "2cb40234"
   },
   "source": [
    "# Evaluation Measures on Test data"
   ]
  },
  {
   "cell_type": "markdown",
   "id": "981ffe05",
   "metadata": {
    "id": "6cd46073"
   },
   "source": [
    "# MSE"
   ]
  },
  {
   "cell_type": "code",
   "execution_count": 63,
   "id": "eec8eb2e",
   "metadata": {
    "colab": {
     "base_uri": "https://localhost:8080/"
    },
    "id": "210cbc28",
    "outputId": "ac3e5890-bded-4995-f213-86a55026c8aa"
   },
   "outputs": [
    {
     "name": "stdout",
     "output_type": "stream",
     "text": [
      "Mean Squared Error:  0.02319\n"
     ]
    }
   ],
   "source": [
    "test_mse2=mean_squared_error(y_test,y_pred_test) # calculating the mse score\n",
    "print('Mean Squared Error: ', round(test_mse2,5)) #pritng the results "
   ]
  },
  {
   "cell_type": "markdown",
   "id": "4ad1a182",
   "metadata": {
    "id": "036e1457"
   },
   "source": [
    "# MAE"
   ]
  },
  {
   "cell_type": "code",
   "execution_count": 64,
   "id": "592e736b",
   "metadata": {
    "colab": {
     "base_uri": "https://localhost:8080/"
    },
    "id": "ab28e7ec",
    "outputId": "8d4c4290-658b-426a-c2fc-f0cc21f05168"
   },
   "outputs": [
    {
     "name": "stdout",
     "output_type": "stream",
     "text": [
      "Mean Absolute Error:  0.12507\n"
     ]
    }
   ],
   "source": [
    "test_MAE2=mean_absolute_error(y_test,y_pred_test) # calculating the mae score\n",
    "print('Mean Absolute Error: ', round(test_MAE2,5)) #pritng the results "
   ]
  },
  {
   "cell_type": "markdown",
   "id": "3e8a576c",
   "metadata": {
    "id": "ca934a25"
   },
   "source": [
    "# RMSE"
   ]
  },
  {
   "cell_type": "code",
   "execution_count": 65,
   "id": "cf775127",
   "metadata": {
    "colab": {
     "base_uri": "https://localhost:8080/"
    },
    "id": "de31523b",
    "outputId": "44a48d44-8917-40c0-acb9-8cad59116847"
   },
   "outputs": [
    {
     "name": "stdout",
     "output_type": "stream",
     "text": [
      "Mean Squared Error:  0.1523\n"
     ]
    }
   ],
   "source": [
    "test_rmse2=np.sqrt(test_mse2) # calculating the rmse score\n",
    "print('Mean Squared Error: ', round(test_rmse2,5)) #pritng the results "
   ]
  },
  {
   "cell_type": "markdown",
   "id": "f4a7b7e5",
   "metadata": {
    "id": "77738e90"
   },
   "source": [
    "# MAPE"
   ]
  },
  {
   "cell_type": "code",
   "execution_count": 66,
   "id": "a30dfec7",
   "metadata": {
    "colab": {
     "base_uri": "https://localhost:8080/"
    },
    "id": "6337e21f",
    "outputId": "c43ab959-5e16-492f-fcd8-44c4d884ac63"
   },
   "outputs": [
    {
     "name": "stdout",
     "output_type": "stream",
     "text": [
      "Mean Absolute Error:  0.08124\n"
     ]
    }
   ],
   "source": [
    "test_mape2=mean_absolute_percentage_error(y_test,y_pred_test) # calculating the mape score\n",
    "print('Mean Absolute Error: ', round(test_mape2,5)) #pritng the results "
   ]
  },
  {
   "cell_type": "code",
   "execution_count": 67,
   "id": "f9c08fae",
   "metadata": {},
   "outputs": [
    {
     "data": {
      "image/png": "[encoded data removed]",
      "text/plain": [
       "<Figure size 432x288 with 1 Axes>"
      ]
     },
     "metadata": {},
     "output_type": "display_data"
    },
    {
     "data": {
      "image/png": "[encoded data removed]",
      "text/plain": [
       "<Figure size 1296x576 with 1 Axes>"
      ]
     },
     "metadata": {},
     "output_type": "display_data"
    }
   ],
   "source": [
    "df = pd.DataFrame({'Actual': y_test, 'Predicted': y_pred_test})\n",
    "df2 = pd.DataFrame({'train': y_train})\n",
    "ax = df.plot()\n",
    "df2.plot(ax=ax)\n",
    "df.plot(kind='line',figsize=(18,8))\n",
    "plt.grid(which='major', linestyle='-', linewidth='0.5', color='green')\n",
    "plt.grid(which='minor', linestyle=':', linewidth='0.5', color='black')\n",
    "plt.show()"
   ]
  },
  {
   "cell_type": "markdown",
   "id": "1db43e43",
   "metadata": {
    "id": "a9b2b0e2"
   },
   "source": [
    "# --------------------------------------------------------------------------------------------------"
   ]
  },
  {
   "cell_type": "markdown",
   "id": "b023237d",
   "metadata": {
    "id": "f12a31db"
   },
   "source": [
    "# --------------------------------------------------------------------------------------------------"
   ]
  },
  {
   "cell_type": "markdown",
   "id": "9e25768f",
   "metadata": {
    "id": "7d0cf697"
   },
   "source": [
    "# MLP Regression Model"
   ]
  },
  {
   "cell_type": "markdown",
   "id": "bf7ef40d",
   "metadata": {
    "id": "8c9a9a35"
   },
   "source": [
    "### Parametrs"
   ]
  },
  {
   "cell_type": "code",
   "execution_count": 68,
   "id": "e376b3f6",
   "metadata": {
    "id": "43645691"
   },
   "outputs": [],
   "source": [
    "params = { \n",
    "    'max_iter': [100,200,300,400,500,600],\n",
    "    'momentum':[0.7,0.8,0.9],\n",
    "    'learning_rate_init':[0.001,0.002,0.004],\n",
    "    'hidden_layer_sizes':[(100,),(300,),(200,)]\n",
    "}"
   ]
  },
  {
   "cell_type": "code",
   "execution_count": 69,
   "id": "0080f6e2",
   "metadata": {
    "id": "7091bd7d",
    "outputId": "58ba9810-e05a-4d40-e0fa-76f5af548f7d"
   },
   "outputs": [
    {
     "name": "stdout",
     "output_type": "stream",
     "text": [
      "Iteration 1, loss = 918.44030339\n",
      "Iteration 2, loss = 441.61810273\n",
      "Iteration 3, loss = 214.60789331\n",
      "Iteration 4, loss = 128.71689049\n",
      "Iteration 5, loss = 84.83892259\n",
      "Iteration 6, loss = 56.94565043\n",
      "Iteration 7, loss = 36.46741604\n",
      "Iteration 8, loss = 20.87463877\n",
      "Iteration 9, loss = 11.85189831\n",
      "Iteration 10, loss = 6.69152811\n",
      "Iteration 11, loss = 3.84399561\n",
      "Iteration 12, loss = 2.00823361\n",
      "Iteration 13, loss = 1.69501195\n",
      "Iteration 14, loss = 0.97902905\n",
      "Iteration 15, loss = 0.67091025\n",
      "Iteration 16, loss = 0.57381191\n",
      "Iteration 17, loss = 0.50601456\n",
      "Iteration 18, loss = 0.36213626\n",
      "Iteration 19, loss = 0.31546075\n",
      "Iteration 20, loss = 0.29238150\n",
      "Iteration 21, loss = 0.26697763\n",
      "Iteration 22, loss = 0.25059384\n",
      "Iteration 23, loss = 0.23078208\n",
      "Iteration 24, loss = 0.20482147\n",
      "Iteration 25, loss = 0.18390351\n",
      "Iteration 26, loss = 0.16385043\n",
      "Iteration 27, loss = 0.15547407\n",
      "Iteration 28, loss = 0.13384845\n",
      "Iteration 29, loss = 0.11476681\n",
      "Iteration 30, loss = 0.09855800\n",
      "Iteration 31, loss = 0.13282127\n",
      "Iteration 32, loss = 0.10007166\n",
      "Iteration 33, loss = 0.10229333\n",
      "Iteration 34, loss = 0.10060478\n",
      "Iteration 35, loss = 0.09374030\n",
      "Iteration 36, loss = 0.10362557\n",
      "Iteration 37, loss = 0.09090884\n",
      "Iteration 38, loss = 0.09069515\n",
      "Iteration 39, loss = 0.08902661\n",
      "Iteration 40, loss = 0.08833973\n",
      "Iteration 41, loss = 0.08527986\n",
      "Iteration 42, loss = 0.09151435\n",
      "Iteration 43, loss = 0.08480226\n",
      "Iteration 44, loss = 0.09793286\n",
      "Iteration 45, loss = 0.13134926\n",
      "Iteration 46, loss = 0.13550153\n",
      "Iteration 47, loss = 0.11352969\n",
      "Iteration 48, loss = 0.09414509\n",
      "Iteration 49, loss = 0.11185538\n",
      "Iteration 50, loss = 0.09924782\n",
      "Iteration 51, loss = 0.10198987\n",
      "Iteration 52, loss = 0.08691881\n",
      "Iteration 53, loss = 0.08642913\n",
      "Iteration 54, loss = 0.08489986\n",
      "Training loss did not improve more than tol=0.000100 for 10 consecutive epochs. Stopping.\n",
      "Iteration 1, loss = 5417.74406222\n",
      "Iteration 2, loss = 2002.54616691\n",
      "Iteration 3, loss = 1802.21461572\n",
      "Iteration 4, loss = 406.90568350\n",
      "Iteration 5, loss = 384.43602755\n",
      "Iteration 6, loss = 365.40693793\n",
      "Iteration 7, loss = 86.27885489\n",
      "Iteration 8, loss = 84.00452965\n",
      "Iteration 9, loss = 83.38014473\n",
      "Iteration 10, loss = 31.59333528\n",
      "Iteration 11, loss = 14.13759571\n",
      "Iteration 12, loss = 15.46596690\n",
      "Iteration 13, loss = 12.37754932\n",
      "Iteration 14, loss = 6.22492451\n",
      "Iteration 15, loss = 3.52353933\n",
      "Iteration 16, loss = 2.81795502\n",
      "Iteration 17, loss = 2.57070878\n",
      "Iteration 18, loss = 1.87793158\n",
      "Iteration 19, loss = 1.54649459\n",
      "Iteration 20, loss = 1.44699665\n",
      "Iteration 21, loss = 1.37317821\n",
      "Iteration 22, loss = 1.30030359\n",
      "Iteration 23, loss = 1.28167553\n",
      "Iteration 24, loss = 1.23877048\n",
      "Iteration 25, loss = 1.21129373\n",
      "Iteration 26, loss = 1.11550927\n",
      "Iteration 27, loss = 1.07188677\n",
      "Iteration 28, loss = 0.98721711\n",
      "Iteration 29, loss = 0.90435870\n",
      "Iteration 30, loss = 0.78445701\n",
      "Iteration 31, loss = 0.76201716\n",
      "Iteration 32, loss = 0.63264262\n",
      "Iteration 33, loss = 0.49949401\n",
      "Iteration 34, loss = 0.40306100\n",
      "Iteration 35, loss = 0.31113721\n",
      "Iteration 36, loss = 0.24558640\n",
      "Iteration 37, loss = 0.20614012\n",
      "Iteration 38, loss = 0.18253102\n",
      "Iteration 39, loss = 0.14147609\n",
      "Iteration 40, loss = 0.14821806\n",
      "Iteration 41, loss = 0.12692594\n",
      "Iteration 42, loss = 0.11723536\n",
      "Iteration 43, loss = 0.12660838\n",
      "Iteration 44, loss = 0.13126548\n",
      "Iteration 45, loss = 0.14572202\n",
      "Iteration 46, loss = 0.12277924\n",
      "Iteration 47, loss = 0.14006656\n",
      "Iteration 48, loss = 0.11700826\n",
      "Iteration 49, loss = 0.11145326\n",
      "Iteration 50, loss = 0.10769390\n",
      "Iteration 51, loss = 0.09916410\n",
      "Iteration 52, loss = 0.09715884\n",
      "Iteration 53, loss = 0.08423827\n",
      "Iteration 54, loss = 0.09287608\n",
      "Iteration 55, loss = 0.08472037\n",
      "Iteration 56, loss = 0.08544953\n",
      "Iteration 57, loss = 0.09457428\n",
      "Iteration 58, loss = 0.11435587\n",
      "Iteration 59, loss = 0.10226885\n",
      "Iteration 60, loss = 0.08756896\n",
      "Iteration 61, loss = 0.07921503\n",
      "Iteration 62, loss = 0.07575351\n",
      "Iteration 63, loss = 0.07430764\n",
      "Iteration 64, loss = 0.07663833\n",
      "Iteration 65, loss = 0.06964006\n",
      "Iteration 66, loss = 0.07735357\n",
      "Iteration 67, loss = 0.07891264\n",
      "Iteration 68, loss = 0.07816734\n",
      "Iteration 69, loss = 0.07544637\n",
      "Iteration 70, loss = 0.07408551\n",
      "Iteration 71, loss = 0.06532181\n",
      "Iteration 72, loss = 0.06411218\n",
      "Iteration 73, loss = 0.06015966\n",
      "Iteration 74, loss = 0.05850412\n",
      "Iteration 75, loss = 0.05757524\n",
      "Iteration 76, loss = 0.05635411\n",
      "Iteration 77, loss = 0.06292199\n",
      "Iteration 78, loss = 0.06359243\n",
      "Iteration 79, loss = 0.05380623\n",
      "Iteration 80, loss = 0.06140794\n",
      "Iteration 81, loss = 0.06157483\n",
      "Iteration 82, loss = 0.05275749\n",
      "Iteration 83, loss = 0.06292284\n",
      "Iteration 84, loss = 0.06410315\n",
      "Iteration 85, loss = 0.05117979\n",
      "Iteration 86, loss = 0.04767984\n",
      "Iteration 87, loss = 0.04811571\n",
      "Iteration 88, loss = 0.05911272\n",
      "Iteration 89, loss = 0.05306705\n",
      "Iteration 90, loss = 0.04629108\n",
      "Iteration 91, loss = 0.05884723\n",
      "Iteration 92, loss = 0.06426491\n",
      "Iteration 93, loss = 0.05404272\n",
      "Iteration 94, loss = 0.04816670\n",
      "Iteration 95, loss = 0.04849733\n",
      "Iteration 96, loss = 0.05196246\n",
      "Iteration 97, loss = 0.06175177\n",
      "Iteration 98, loss = 0.04949516\n",
      "Iteration 99, loss = 0.06506546\n",
      "Iteration 100, loss = 0.05068900\n",
      "Iteration 101, loss = 0.05491453\n",
      "Training loss did not improve more than tol=0.000100 for 10 consecutive epochs. Stopping.\n",
      "Iteration 1, loss = 725.45210883\n",
      "Iteration 2, loss = 283.84931535\n",
      "Iteration 3, loss = 158.10129801\n",
      "Iteration 4, loss = 95.21119993\n",
      "Iteration 5, loss = 57.39797041\n",
      "Iteration 6, loss = 35.14223553\n",
      "Iteration 7, loss = 21.31392535\n",
      "Iteration 8, loss = 13.06581050\n",
      "Iteration 9, loss = 8.32264657\n",
      "Iteration 10, loss = 5.27044059\n",
      "Iteration 11, loss = 4.00206016\n",
      "Iteration 12, loss = 3.19609747\n",
      "Iteration 13, loss = 2.49939965\n",
      "Iteration 14, loss = 1.64652787\n",
      "Iteration 15, loss = 1.47507883\n",
      "Iteration 16, loss = 1.34909204\n",
      "Iteration 17, loss = 1.13030925\n",
      "Iteration 18, loss = 0.97984793\n",
      "Iteration 19, loss = 0.88989463\n",
      "Iteration 20, loss = 0.82256963\n",
      "Iteration 21, loss = 0.74707507\n",
      "Iteration 22, loss = 0.70205856\n",
      "Iteration 23, loss = 0.66558324\n",
      "Iteration 24, loss = 0.58869841\n",
      "Iteration 25, loss = 0.58203447\n",
      "Iteration 26, loss = 0.58371965\n",
      "Iteration 27, loss = 0.44291534\n",
      "Iteration 28, loss = 0.38164159\n",
      "Iteration 29, loss = 0.37995376\n",
      "Iteration 30, loss = 0.32626865\n",
      "Iteration 31, loss = 0.28303345\n",
      "Iteration 32, loss = 0.25395953\n",
      "Iteration 33, loss = 0.21274692\n",
      "Iteration 34, loss = 0.18823689\n",
      "Iteration 35, loss = 0.18354103\n",
      "Iteration 36, loss = 0.18381894\n",
      "Iteration 37, loss = 0.15354254\n",
      "Iteration 38, loss = 0.13882665\n",
      "Iteration 39, loss = 0.13409382\n",
      "Iteration 40, loss = 0.19295072\n",
      "Iteration 41, loss = 0.13022524\n",
      "Iteration 42, loss = 0.13055452\n",
      "Iteration 43, loss = 0.13336045\n",
      "Iteration 44, loss = 0.17310672\n",
      "Iteration 45, loss = 0.13557707\n",
      "Iteration 46, loss = 0.15386112\n",
      "Iteration 47, loss = 0.16222776\n",
      "Iteration 48, loss = 0.14980331\n",
      "Iteration 49, loss = 0.14364504\n",
      "Iteration 50, loss = 0.15542094\n",
      "Iteration 51, loss = 0.14664289\n",
      "Iteration 52, loss = 0.14109482\n",
      "Training loss did not improve more than tol=0.000100 for 10 consecutive epochs. Stopping.\n",
      "Iteration 1, loss = 1128.50925678\n",
      "Iteration 2, loss = 277.45383697\n",
      "Iteration 3, loss = 145.34826350\n",
      "Iteration 4, loss = 142.48497360\n",
      "Iteration 5, loss = 105.86140283\n",
      "Iteration 6, loss = 50.41342651\n",
      "Iteration 7, loss = 20.93178369\n",
      "Iteration 8, loss = 12.42190488\n",
      "Iteration 9, loss = 8.00733224\n",
      "Iteration 10, loss = 5.66851869\n",
      "Iteration 11, loss = 3.74152443\n",
      "Iteration 12, loss = 2.46915342\n",
      "Iteration 13, loss = 1.54203682\n",
      "Iteration 14, loss = 0.99140350\n",
      "Iteration 15, loss = 0.71028187\n",
      "Iteration 16, loss = 0.47305583\n",
      "Iteration 17, loss = 0.31770566\n",
      "Iteration 18, loss = 0.24262959\n",
      "Iteration 19, loss = 0.18343658\n",
      "Iteration 20, loss = 0.16976245\n",
      "Iteration 21, loss = 0.16376499\n",
      "Iteration 22, loss = 0.15813180\n",
      "Iteration 23, loss = 0.14754924\n",
      "Iteration 24, loss = 0.15497737\n",
      "Iteration 25, loss = 0.13396052\n",
      "Iteration 26, loss = 0.15235052\n",
      "Iteration 27, loss = 0.14044572\n",
      "Iteration 28, loss = 0.11916553\n",
      "Iteration 29, loss = 0.11797439\n",
      "Iteration 30, loss = 0.12377833\n",
      "Iteration 31, loss = 0.12053695\n",
      "Iteration 32, loss = 0.11315325\n",
      "Iteration 33, loss = 0.10846406\n",
      "Iteration 34, loss = 0.09718682\n",
      "Iteration 35, loss = 0.11501956\n",
      "Iteration 36, loss = 0.11040808\n",
      "Iteration 37, loss = 0.11177447\n",
      "Iteration 38, loss = 0.09088834\n",
      "Iteration 39, loss = 0.09315858\n",
      "Iteration 40, loss = 0.08566487\n",
      "Iteration 41, loss = 0.09056687\n",
      "Iteration 42, loss = 0.08535116\n",
      "Iteration 43, loss = 0.08080215\n",
      "Iteration 44, loss = 0.09252856\n",
      "Iteration 45, loss = 0.09416505\n",
      "Iteration 46, loss = 0.08851789\n",
      "Iteration 47, loss = 0.08996879\n",
      "Iteration 48, loss = 0.07702740\n",
      "Iteration 49, loss = 0.07805139\n",
      "Iteration 50, loss = 0.07229343\n",
      "Iteration 51, loss = 0.07410100\n",
      "Iteration 52, loss = 0.06892436\n",
      "Iteration 53, loss = 0.06664018\n",
      "Iteration 54, loss = 0.07319698\n",
      "Iteration 55, loss = 0.07882839\n",
      "Iteration 56, loss = 0.08398344\n",
      "Iteration 57, loss = 0.08481797\n",
      "Iteration 58, loss = 0.07426037\n",
      "Iteration 59, loss = 0.06416222\n",
      "Iteration 60, loss = 0.06150191\n",
      "Iteration 61, loss = 0.05875943\n",
      "Iteration 62, loss = 0.05908212\n",
      "Iteration 63, loss = 0.05418824\n",
      "Iteration 64, loss = 0.05546630\n",
      "Iteration 65, loss = 0.05227427\n",
      "Iteration 66, loss = 0.05125303\n",
      "Iteration 67, loss = 0.05410478\n",
      "Iteration 68, loss = 0.05401017\n",
      "Iteration 69, loss = 0.04631359\n"
     ]
    },
    {
     "name": "stdout",
     "output_type": "stream",
     "text": [
      "Iteration 70, loss = 0.05788236\n",
      "Iteration 71, loss = 0.06123815\n",
      "Iteration 72, loss = 0.05208982\n",
      "Iteration 73, loss = 0.05048052\n",
      "Iteration 74, loss = 0.05356265\n",
      "Iteration 75, loss = 0.04725383\n",
      "Iteration 76, loss = 0.04074382\n",
      "Iteration 77, loss = 0.03822729\n",
      "Iteration 78, loss = 0.03776868\n",
      "Iteration 79, loss = 0.03624522\n",
      "Iteration 80, loss = 0.03929515\n",
      "Iteration 81, loss = 0.03840076\n",
      "Iteration 82, loss = 0.04732313\n",
      "Iteration 83, loss = 0.04527564\n",
      "Iteration 84, loss = 0.03018069\n",
      "Iteration 85, loss = 0.07861645\n",
      "Iteration 86, loss = 0.06545346\n",
      "Iteration 87, loss = 0.04442399\n",
      "Iteration 88, loss = 0.04070852\n",
      "Iteration 89, loss = 0.03691598\n",
      "Iteration 90, loss = 0.03232636\n",
      "Iteration 91, loss = 0.03007265\n",
      "Iteration 92, loss = 0.11154364\n",
      "Iteration 93, loss = 0.11029632\n",
      "Iteration 94, loss = 0.07706910\n",
      "Iteration 95, loss = 0.06589472\n",
      "Iteration 96, loss = 0.05746743\n",
      "Iteration 97, loss = 0.03808313\n",
      "Iteration 98, loss = 0.03391468\n",
      "Iteration 99, loss = 0.02871852\n",
      "Iteration 100, loss = 0.02776523\n",
      "Iteration 101, loss = 0.02740097\n",
      "Iteration 102, loss = 0.02820026\n",
      "Iteration 103, loss = 0.02585077\n",
      "Iteration 104, loss = 0.02632985\n",
      "Iteration 105, loss = 0.02967027\n",
      "Iteration 106, loss = 0.03013228\n",
      "Iteration 107, loss = 0.02769352\n",
      "Iteration 108, loss = 0.02529768\n",
      "Iteration 109, loss = 0.03048653\n",
      "Iteration 110, loss = 0.03386101\n",
      "Iteration 111, loss = 0.03383831\n",
      "Iteration 112, loss = 0.03014450\n",
      "Iteration 113, loss = 0.02252497\n",
      "Iteration 114, loss = 0.02545983\n",
      "Iteration 115, loss = 0.02298699\n",
      "Iteration 116, loss = 0.02456212\n",
      "Iteration 117, loss = 0.02682481\n",
      "Iteration 118, loss = 0.03001913\n",
      "Iteration 119, loss = 0.02732141\n",
      "Iteration 120, loss = 0.03241097\n",
      "Iteration 121, loss = 0.03286395\n",
      "Iteration 122, loss = 0.04722543\n",
      "Iteration 123, loss = 0.03597467\n",
      "Iteration 124, loss = 0.03602249\n",
      "Training loss did not improve more than tol=0.000100 for 10 consecutive epochs. Stopping.\n",
      "Iteration 1, loss = 3338.51480971\n",
      "Iteration 2, loss = 1314.80869324\n",
      "Iteration 3, loss = 783.08934368\n",
      "Iteration 4, loss = 456.98526213\n",
      "Iteration 5, loss = 262.85431286\n",
      "Iteration 6, loss = 151.47707165\n",
      "Iteration 7, loss = 88.90075156\n",
      "Iteration 8, loss = 53.02795761\n",
      "Iteration 9, loss = 31.07872315\n",
      "Iteration 10, loss = 18.75494469\n",
      "Iteration 11, loss = 10.98068351\n",
      "Iteration 12, loss = 5.70416058\n",
      "Iteration 13, loss = 1.80089937\n",
      "Iteration 14, loss = 1.15086122\n",
      "Iteration 15, loss = 0.45115975\n",
      "Iteration 16, loss = 0.31248674\n",
      "Iteration 17, loss = 0.20616520\n",
      "Iteration 18, loss = 0.21486022\n",
      "Iteration 19, loss = 0.20455404\n",
      "Iteration 20, loss = 0.21615156\n",
      "Iteration 21, loss = 0.18445454\n",
      "Iteration 22, loss = 0.16155938\n",
      "Iteration 23, loss = 0.16082950\n",
      "Iteration 24, loss = 0.14600814\n",
      "Iteration 25, loss = 0.14253390\n",
      "Iteration 26, loss = 0.14611206\n",
      "Iteration 27, loss = 0.13591394\n",
      "Iteration 28, loss = 0.14678338\n",
      "Iteration 29, loss = 0.13492362\n",
      "Iteration 30, loss = 0.13583351\n",
      "Iteration 31, loss = 0.13953797\n",
      "Iteration 32, loss = 0.13534937\n",
      "Iteration 33, loss = 0.13508330\n",
      "Iteration 34, loss = 0.13355517\n",
      "Iteration 35, loss = 0.12521137\n",
      "Iteration 36, loss = 0.12976796\n",
      "Iteration 37, loss = 0.13447659\n",
      "Iteration 38, loss = 0.12399802\n",
      "Iteration 39, loss = 0.12194075\n",
      "Iteration 40, loss = 0.12265154\n",
      "Iteration 41, loss = 0.12420341\n",
      "Iteration 42, loss = 0.11964124\n",
      "Iteration 43, loss = 0.11907679\n",
      "Iteration 44, loss = 0.11916617\n",
      "Iteration 45, loss = 0.13979093\n",
      "Iteration 46, loss = 0.14393084\n",
      "Iteration 47, loss = 0.15576805\n",
      "Iteration 48, loss = 0.15275201\n",
      "Iteration 49, loss = 0.14736023\n",
      "Iteration 50, loss = 0.14445661\n",
      "Iteration 51, loss = 0.12343301\n",
      "Iteration 52, loss = 0.12751605\n",
      "Iteration 53, loss = 0.11930771\n",
      "Iteration 54, loss = 0.11362886\n",
      "Iteration 55, loss = 0.11639892\n",
      "Iteration 56, loss = 0.11446602\n",
      "Iteration 57, loss = 0.14329849\n",
      "Iteration 58, loss = 0.12036788\n",
      "Iteration 59, loss = 0.12338791\n",
      "Iteration 60, loss = 0.11234613\n",
      "Iteration 61, loss = 0.11910172\n",
      "Iteration 62, loss = 0.11875930\n",
      "Iteration 63, loss = 0.12026836\n",
      "Iteration 64, loss = 0.12847716\n",
      "Iteration 65, loss = 0.12625586\n",
      "Iteration 66, loss = 0.12670658\n",
      "Iteration 67, loss = 0.13755209\n",
      "Iteration 68, loss = 0.17607602\n",
      "Iteration 69, loss = 0.15552382\n",
      "Iteration 70, loss = 0.18653130\n",
      "Iteration 71, loss = 0.13719828\n",
      "Training loss did not improve more than tol=0.000100 for 10 consecutive epochs. Stopping.\n",
      "Iteration 1, loss = 4970.68997139\n",
      "Iteration 2, loss = 1939.67601575\n",
      "Iteration 3, loss = 1157.23381314\n",
      "Iteration 4, loss = 653.40329969\n",
      "Iteration 5, loss = 364.99205433\n",
      "Iteration 6, loss = 206.53206640\n",
      "Iteration 7, loss = 118.62013398\n",
      "Iteration 8, loss = 71.00136166\n",
      "Iteration 9, loss = 43.90161889\n",
      "Iteration 10, loss = 27.53486094\n",
      "Iteration 11, loss = 15.16245425\n",
      "Iteration 12, loss = 9.47779397\n",
      "Iteration 13, loss = 6.08865055\n",
      "Iteration 14, loss = 2.07811914\n",
      "Iteration 15, loss = 1.14652118\n",
      "Iteration 16, loss = 0.64661707\n",
      "Iteration 17, loss = 0.36160951\n",
      "Iteration 18, loss = 0.32676352\n",
      "Iteration 19, loss = 0.29713286\n",
      "Iteration 20, loss = 0.30012511\n",
      "Iteration 21, loss = 0.29330402\n",
      "Iteration 22, loss = 0.25745970\n",
      "Iteration 23, loss = 0.20701293\n",
      "Iteration 24, loss = 0.18190547\n",
      "Iteration 25, loss = 0.16524044\n",
      "Iteration 26, loss = 0.15240382\n",
      "Iteration 27, loss = 0.15775882\n",
      "Iteration 28, loss = 0.14923865\n",
      "Iteration 29, loss = 0.10266130\n",
      "Iteration 30, loss = 0.08090262\n",
      "Iteration 31, loss = 0.08592408\n",
      "Iteration 32, loss = 0.08369576\n",
      "Iteration 33, loss = 0.07538366\n",
      "Iteration 34, loss = 0.06858205\n",
      "Iteration 35, loss = 0.06335548\n",
      "Iteration 36, loss = 0.06313221\n",
      "Iteration 37, loss = 0.08025978\n",
      "Iteration 38, loss = 0.08561493\n",
      "Iteration 39, loss = 0.06126252\n",
      "Iteration 40, loss = 0.06368661\n",
      "Iteration 41, loss = 0.05964702\n",
      "Iteration 42, loss = 0.05333889\n",
      "Iteration 43, loss = 0.05252686\n",
      "Iteration 44, loss = 0.06624236\n",
      "Iteration 45, loss = 0.06085110\n",
      "Iteration 46, loss = 0.05451962\n",
      "Iteration 47, loss = 0.05042958\n",
      "Iteration 48, loss = 0.05894127\n",
      "Iteration 49, loss = 0.07273591\n",
      "Iteration 50, loss = 0.06221159\n",
      "Iteration 51, loss = 0.06351795\n",
      "Iteration 52, loss = 0.06090179\n",
      "Iteration 53, loss = 0.07007568\n",
      "Iteration 54, loss = 0.08602146\n",
      "Iteration 55, loss = 0.09146838\n",
      "Iteration 56, loss = 0.06379149\n",
      "Iteration 57, loss = 0.04711896\n",
      "Iteration 58, loss = 0.04584308\n",
      "Iteration 59, loss = 0.07133992\n",
      "Iteration 60, loss = 0.07017311\n",
      "Iteration 61, loss = 0.05651720\n",
      "Iteration 62, loss = 0.05080653\n",
      "Iteration 63, loss = 0.04086449\n",
      "Iteration 64, loss = 0.03869707\n",
      "Iteration 65, loss = 0.04651062\n",
      "Iteration 66, loss = 0.03848462\n",
      "Iteration 67, loss = 0.03652043\n",
      "Iteration 68, loss = 0.03631235\n",
      "Iteration 69, loss = 0.03278254\n",
      "Iteration 70, loss = 0.03470868\n",
      "Iteration 71, loss = 0.04202475\n",
      "Iteration 72, loss = 0.05795135\n",
      "Iteration 73, loss = 0.04351856\n",
      "Iteration 74, loss = 0.03689797\n",
      "Iteration 75, loss = 0.03049376\n",
      "Iteration 76, loss = 0.03521514\n",
      "Iteration 77, loss = 0.03559965\n",
      "Iteration 78, loss = 0.03254088\n",
      "Iteration 79, loss = 0.02935440\n",
      "Iteration 80, loss = 0.02963132\n",
      "Iteration 81, loss = 0.03882599\n",
      "Iteration 82, loss = 0.04514070\n",
      "Iteration 83, loss = 0.06046367\n",
      "Iteration 84, loss = 0.03786938\n",
      "Iteration 85, loss = 0.04143579\n",
      "Iteration 86, loss = 0.03182114\n",
      "Iteration 87, loss = 0.06909797\n",
      "Iteration 88, loss = 0.05421792\n",
      "Iteration 89, loss = 0.04996427\n",
      "Iteration 90, loss = 0.03722941\n",
      "Training loss did not improve more than tol=0.000100 for 10 consecutive epochs. Stopping.\n",
      "Iteration 1, loss = 3256.95710869\n",
      "Iteration 2, loss = 786.45134431\n",
      "Iteration 3, loss = 452.09879226\n",
      "Iteration 4, loss = 454.23167187\n",
      "Iteration 5, loss = 304.06318794\n",
      "Iteration 6, loss = 125.93151388\n",
      "Iteration 7, loss = 53.12519630\n",
      "Iteration 8, loss = 39.97942851\n",
      "Iteration 9, loss = 35.65980729\n",
      "Iteration 10, loss = 24.05782057\n",
      "Iteration 11, loss = 14.84227412\n",
      "Iteration 12, loss = 6.01753642\n",
      "Iteration 13, loss = 3.02111346\n",
      "Iteration 14, loss = 1.95899232\n",
      "Iteration 15, loss = 1.32825353\n",
      "Iteration 16, loss = 1.16900930\n",
      "Iteration 17, loss = 1.02380593\n",
      "Iteration 18, loss = 0.96350969\n",
      "Iteration 19, loss = 0.90706596\n",
      "Iteration 20, loss = 0.83069556\n",
      "Iteration 21, loss = 0.78339221\n",
      "Iteration 22, loss = 0.70255760\n",
      "Iteration 23, loss = 0.64752030\n",
      "Iteration 24, loss = 0.66018241\n",
      "Iteration 25, loss = 0.52277143\n",
      "Iteration 26, loss = 0.44645776\n",
      "Iteration 27, loss = 0.39179101\n",
      "Iteration 28, loss = 0.34557639\n",
      "Iteration 29, loss = 0.33816757\n",
      "Iteration 30, loss = 0.26423061\n",
      "Iteration 31, loss = 0.28892506\n",
      "Iteration 32, loss = 0.26113934\n",
      "Iteration 33, loss = 0.23030371\n",
      "Iteration 34, loss = 0.23749974\n",
      "Iteration 35, loss = 0.22781273\n",
      "Iteration 36, loss = 0.24689759\n"
     ]
    },
    {
     "name": "stdout",
     "output_type": "stream",
     "text": [
      "Iteration 37, loss = 0.25896158\n",
      "Iteration 38, loss = 0.21506916\n",
      "Iteration 39, loss = 0.20972436\n",
      "Iteration 40, loss = 0.23877662\n",
      "Iteration 41, loss = 0.26558572\n",
      "Iteration 42, loss = 0.23255885\n",
      "Iteration 43, loss = 0.21545505\n",
      "Iteration 44, loss = 0.20197119\n",
      "Iteration 45, loss = 0.19682105\n",
      "Iteration 46, loss = 0.19630294\n",
      "Iteration 47, loss = 0.20829968\n",
      "Iteration 48, loss = 0.21229390\n",
      "Iteration 49, loss = 0.24487361\n",
      "Iteration 50, loss = 0.24152213\n",
      "Iteration 51, loss = 0.20667552\n",
      "Iteration 52, loss = 0.20396694\n",
      "Iteration 53, loss = 0.24132053\n",
      "Iteration 54, loss = 0.23565674\n",
      "Iteration 55, loss = 0.19361011\n",
      "Iteration 56, loss = 0.17700575\n",
      "Iteration 57, loss = 0.19343827\n",
      "Iteration 58, loss = 0.17420045\n",
      "Iteration 59, loss = 0.17461456\n",
      "Iteration 60, loss = 0.17248241\n",
      "Iteration 61, loss = 0.17272223\n",
      "Iteration 62, loss = 0.16103716\n",
      "Iteration 63, loss = 0.16236135\n",
      "Iteration 64, loss = 0.17329663\n",
      "Iteration 65, loss = 0.17553812\n",
      "Iteration 66, loss = 0.16458359\n",
      "Iteration 67, loss = 0.15990041\n",
      "Iteration 68, loss = 0.16739647\n",
      "Iteration 69, loss = 0.16242112\n",
      "Iteration 70, loss = 0.17507980\n",
      "Iteration 71, loss = 0.14221803\n",
      "Iteration 72, loss = 0.14203023\n",
      "Iteration 73, loss = 0.14753207\n",
      "Iteration 74, loss = 0.14181439\n",
      "Iteration 75, loss = 0.14428926\n",
      "Iteration 76, loss = 0.13399913\n",
      "Iteration 77, loss = 0.13151817\n",
      "Iteration 78, loss = 0.14971064\n",
      "Iteration 79, loss = 0.21175182\n",
      "Iteration 80, loss = 0.12995865\n",
      "Iteration 81, loss = 0.12233388\n",
      "Iteration 82, loss = 0.11644402\n",
      "Iteration 83, loss = 0.13671211\n",
      "Iteration 84, loss = 0.18070500\n",
      "Iteration 85, loss = 0.14452333\n",
      "Iteration 86, loss = 0.12777574\n",
      "Iteration 87, loss = 0.11136072\n",
      "Iteration 88, loss = 0.11096463\n",
      "Iteration 89, loss = 0.13564910\n",
      "Iteration 90, loss = 0.23649235\n",
      "Iteration 91, loss = 0.25796665\n",
      "Iteration 92, loss = 0.16620436\n",
      "Iteration 93, loss = 0.14407160\n",
      "Iteration 94, loss = 0.16199252\n",
      "Iteration 95, loss = 0.16110820\n",
      "Iteration 96, loss = 0.14122167\n",
      "Iteration 97, loss = 0.13624809\n",
      "Iteration 98, loss = 0.12884650\n",
      "Iteration 99, loss = 0.12654368\n",
      "Training loss did not improve more than tol=0.000100 for 10 consecutive epochs. Stopping.\n",
      "Iteration 1, loss = 9275.78425976\n",
      "Iteration 2, loss = 3333.26135320\n",
      "Iteration 3, loss = 3041.39446061\n",
      "Iteration 4, loss = 701.72245273\n",
      "Iteration 5, loss = 638.44786002\n",
      "Iteration 6, loss = 623.25803621\n",
      "Iteration 7, loss = 149.74857658\n",
      "Iteration 8, loss = 135.93878359\n",
      "Iteration 9, loss = 129.18413552\n",
      "Iteration 10, loss = 50.38753964\n",
      "Iteration 11, loss = 19.63363931\n",
      "Iteration 12, loss = 12.80434786\n",
      "Iteration 13, loss = 10.14176260\n",
      "Iteration 14, loss = 5.16506388\n",
      "Iteration 15, loss = 3.06379463\n",
      "Iteration 16, loss = 2.35828925\n",
      "Iteration 17, loss = 2.27657371\n",
      "Iteration 18, loss = 1.91973096\n",
      "Iteration 19, loss = 1.69929407\n",
      "Iteration 20, loss = 1.65293240\n",
      "Iteration 21, loss = 1.46051286\n",
      "Iteration 22, loss = 1.47515133\n",
      "Iteration 23, loss = 1.29384208\n",
      "Iteration 24, loss = 1.13755478\n",
      "Iteration 25, loss = 1.00630727\n",
      "Iteration 26, loss = 0.87432429\n",
      "Iteration 27, loss = 0.82240756\n",
      "Iteration 28, loss = 0.69645052\n",
      "Iteration 29, loss = 0.57745271\n",
      "Iteration 30, loss = 0.49216372\n",
      "Iteration 31, loss = 0.39020490\n",
      "Iteration 32, loss = 0.33985224\n",
      "Iteration 33, loss = 0.26769535\n",
      "Iteration 34, loss = 0.21558575\n",
      "Iteration 35, loss = 0.15793100\n",
      "Iteration 36, loss = 0.13923902\n",
      "Iteration 37, loss = 0.10618881\n",
      "Iteration 38, loss = 0.08906358\n",
      "Iteration 39, loss = 0.07026166\n",
      "Iteration 40, loss = 0.06460160\n",
      "Iteration 41, loss = 0.05172243\n",
      "Iteration 42, loss = 0.04180436\n",
      "Iteration 43, loss = 0.03239223\n",
      "Iteration 44, loss = 0.03598782\n",
      "Iteration 45, loss = 0.02960971\n",
      "Iteration 46, loss = 0.02860500\n",
      "Iteration 47, loss = 0.02772829\n",
      "Iteration 48, loss = 0.02664138\n",
      "Iteration 49, loss = 0.02725938\n",
      "Iteration 50, loss = 0.02655763\n",
      "Iteration 51, loss = 0.02782424\n",
      "Iteration 52, loss = 0.02657575\n",
      "Iteration 53, loss = 0.02695262\n",
      "Iteration 54, loss = 0.02727520\n",
      "Iteration 55, loss = 0.02624149\n",
      "Iteration 56, loss = 0.02642406\n",
      "Iteration 57, loss = 0.02879029\n",
      "Iteration 58, loss = 0.02780257\n",
      "Iteration 59, loss = 0.03186614\n",
      "Iteration 60, loss = 0.03304243\n",
      "Iteration 61, loss = 0.03220205\n",
      "Iteration 62, loss = 0.03420592\n",
      "Iteration 63, loss = 0.03234591\n",
      "Iteration 64, loss = 0.03120686\n",
      "Iteration 65, loss = 0.03311134\n",
      "Iteration 66, loss = 0.03275190\n",
      "Training loss did not improve more than tol=0.000100 for 10 consecutive epochs. Stopping.\n",
      "Iteration 1, loss = 33896.73066384\n",
      "Iteration 2, loss = 14258.71270999\n",
      "Iteration 3, loss = 3640.57808439\n",
      "Iteration 4, loss = 207.64961793\n",
      "Iteration 5, loss = 549.95154599\n",
      "Iteration 6, loss = 1304.01334860\n",
      "Iteration 7, loss = 1108.70715101\n",
      "Iteration 8, loss = 448.23214878\n",
      "Iteration 9, loss = 51.69607473\n",
      "Iteration 10, loss = 28.37199471\n",
      "Iteration 11, loss = 99.77783388\n",
      "Iteration 12, loss = 88.27766843\n",
      "Iteration 13, loss = 30.07041057\n",
      "Iteration 14, loss = 1.92884347\n",
      "Iteration 15, loss = 6.61230106\n",
      "Iteration 16, loss = 11.07008721\n",
      "Iteration 17, loss = 5.74628216\n",
      "Iteration 18, loss = 0.89513731\n",
      "Iteration 19, loss = 0.87043156\n",
      "Iteration 20, loss = 1.63520007\n",
      "Iteration 21, loss = 1.06497452\n",
      "Iteration 22, loss = 0.41911803\n",
      "Iteration 23, loss = 0.40708345\n",
      "Iteration 24, loss = 0.50701004\n",
      "Iteration 25, loss = 0.41640181\n",
      "Iteration 26, loss = 0.35110109\n",
      "Iteration 27, loss = 0.36201124\n",
      "Iteration 28, loss = 0.36553355\n",
      "Iteration 29, loss = 0.34599156\n",
      "Iteration 30, loss = 0.33963349\n",
      "Iteration 31, loss = 0.34278478\n",
      "Iteration 32, loss = 0.34057178\n",
      "Iteration 33, loss = 0.33337317\n",
      "Iteration 34, loss = 0.30833080\n",
      "Iteration 35, loss = 0.29621778\n",
      "Iteration 36, loss = 0.28035467\n",
      "Iteration 37, loss = 0.26899784\n",
      "Iteration 38, loss = 0.25800259\n",
      "Iteration 39, loss = 0.24245067\n",
      "Iteration 40, loss = 0.23213913\n",
      "Iteration 41, loss = 0.21389477\n",
      "Iteration 42, loss = 0.19738052\n",
      "Iteration 43, loss = 0.22871700\n",
      "Iteration 44, loss = 0.20781923\n",
      "Iteration 45, loss = 0.19457992\n",
      "Iteration 46, loss = 0.19093907\n",
      "Iteration 47, loss = 0.18186717\n",
      "Iteration 48, loss = 0.16481659\n",
      "Iteration 49, loss = 0.15223160\n",
      "Iteration 50, loss = 0.14856660\n",
      "Iteration 51, loss = 0.14496649\n",
      "Iteration 52, loss = 0.14392249\n",
      "Iteration 53, loss = 0.14185449\n",
      "Iteration 54, loss = 0.13961752\n",
      "Iteration 55, loss = 0.13869171\n",
      "Iteration 56, loss = 0.13767715\n",
      "Iteration 57, loss = 0.13556585\n",
      "Iteration 58, loss = 0.13631410\n",
      "Iteration 59, loss = 0.13377696\n",
      "Iteration 60, loss = 0.14201638\n",
      "Iteration 61, loss = 0.13202083\n",
      "Iteration 62, loss = 0.13346262\n",
      "Iteration 63, loss = 0.13578415\n",
      "Iteration 64, loss = 0.13999763\n",
      "Iteration 65, loss = 0.13759474\n",
      "Iteration 66, loss = 0.13984582\n",
      "Iteration 67, loss = 0.13549453\n",
      "Iteration 68, loss = 0.13732522\n",
      "Iteration 69, loss = 0.12854177\n",
      "Iteration 70, loss = 0.12938517\n",
      "Iteration 71, loss = 0.12755445\n",
      "Iteration 72, loss = 0.12920861\n",
      "Iteration 73, loss = 0.12916172\n",
      "Iteration 74, loss = 0.12668507\n",
      "Iteration 75, loss = 0.12992006\n",
      "Iteration 76, loss = 0.12553832\n",
      "Iteration 77, loss = 0.12462204\n",
      "Iteration 78, loss = 0.12589358\n",
      "Iteration 79, loss = 0.12622002\n",
      "Iteration 80, loss = 0.12895644\n",
      "Iteration 81, loss = 0.12310688\n",
      "Iteration 82, loss = 0.12386087\n",
      "Iteration 83, loss = 0.13064410\n",
      "Iteration 84, loss = 0.12568593\n",
      "Iteration 85, loss = 0.12158227\n",
      "Iteration 86, loss = 0.12462802\n",
      "Iteration 87, loss = 0.12380568\n",
      "Iteration 88, loss = 0.12641073\n",
      "Iteration 89, loss = 0.12358778\n",
      "Iteration 90, loss = 0.12271080\n",
      "Iteration 91, loss = 0.11890581\n",
      "Iteration 92, loss = 0.11973280\n",
      "Iteration 93, loss = 0.12362984\n",
      "Iteration 94, loss = 0.11932332\n",
      "Iteration 95, loss = 0.11920545\n",
      "Iteration 96, loss = 0.11908829\n",
      "Iteration 97, loss = 0.11995110\n",
      "Iteration 98, loss = 0.12039047\n",
      "Iteration 99, loss = 0.11769383\n",
      "Iteration 100, loss = 0.12212504\n",
      "Iteration 101, loss = 0.11747460\n",
      "Iteration 102, loss = 0.11835233\n",
      "Iteration 103, loss = 0.12497059\n",
      "Iteration 104, loss = 0.11766411\n",
      "Iteration 105, loss = 0.12367197\n",
      "Iteration 106, loss = 0.12307829\n",
      "Iteration 107, loss = 0.11837685\n",
      "Iteration 108, loss = 0.11278698\n",
      "Iteration 109, loss = 0.11226958\n",
      "Iteration 110, loss = 0.11340143\n",
      "Iteration 111, loss = 0.11451458\n",
      "Iteration 112, loss = 0.11163683\n",
      "Iteration 113, loss = 0.11130867\n",
      "Iteration 114, loss = 0.11120625\n",
      "Iteration 115, loss = 0.11079236\n",
      "Iteration 116, loss = 0.10939386\n",
      "Iteration 117, loss = 0.10983409\n",
      "Iteration 118, loss = 0.10965647\n",
      "Iteration 119, loss = 0.11106528\n",
      "Iteration 120, loss = 0.11083395\n",
      "Iteration 121, loss = 0.11815823\n",
      "Iteration 122, loss = 0.11107861\n",
      "Iteration 123, loss = 0.10852413\n",
      "Iteration 124, loss = 0.10923362\n",
      "Iteration 125, loss = 0.10898767\n",
      "Iteration 126, loss = 0.10622758\n",
      "Iteration 127, loss = 0.10555254\n",
      "Iteration 128, loss = 0.10673365\n",
      "Iteration 129, loss = 0.10855471\n",
      "Iteration 130, loss = 0.10823690\n",
      "Iteration 131, loss = 0.11270688\n",
      "Iteration 132, loss = 0.10503920\n",
      "Iteration 133, loss = 0.10387171\n",
      "Iteration 134, loss = 0.10320101\n",
      "Iteration 135, loss = 0.10379857\n",
      "Iteration 136, loss = 0.10791177\n",
      "Iteration 137, loss = 0.10617977\n",
      "Iteration 138, loss = 0.10629539\n",
      "Iteration 139, loss = 0.10378897\n",
      "Iteration 140, loss = 0.10319397\n",
      "Iteration 141, loss = 0.10099388\n",
      "Iteration 142, loss = 0.10153633\n",
      "Iteration 143, loss = 0.10061583\n",
      "Iteration 144, loss = 0.10212761\n",
      "Iteration 145, loss = 0.10200342\n",
      "Iteration 146, loss = 0.10207089\n",
      "Iteration 147, loss = 0.10293216\n",
      "Iteration 148, loss = 0.10142369\n",
      "Iteration 149, loss = 0.09998427\n",
      "Iteration 150, loss = 0.10527026\n",
      "Iteration 151, loss = 0.09986666\n",
      "Iteration 152, loss = 0.09656468\n",
      "Iteration 153, loss = 0.11006127\n",
      "Iteration 154, loss = 0.11182077\n",
      "Iteration 155, loss = 0.11832504\n",
      "Iteration 156, loss = 0.10487342\n",
      "Iteration 157, loss = 0.11768709\n",
      "Iteration 158, loss = 0.10825550\n",
      "Iteration 159, loss = 0.09787747\n",
      "Iteration 160, loss = 0.10517244\n",
      "Iteration 161, loss = 0.10210673\n",
      "Iteration 162, loss = 0.09799610\n",
      "Iteration 163, loss = 0.09769851\n",
      "Training loss did not improve more than tol=0.000100 for 10 consecutive epochs. Stopping.\n",
      "Iteration 1, loss = 10672.04567484\n"
     ]
    },
    {
     "name": "stdout",
     "output_type": "stream",
     "text": [
      "Iteration 2, loss = 1640.40686130\n",
      "Iteration 3, loss = 252.37069090\n",
      "Iteration 4, loss = 1211.10964489\n",
      "Iteration 5, loss = 858.02623643\n",
      "Iteration 6, loss = 122.21447742\n",
      "Iteration 7, loss = 71.15531173\n",
      "Iteration 8, loss = 192.77326033\n",
      "Iteration 9, loss = 85.94428352\n",
      "Iteration 10, loss = 5.36402767\n",
      "Iteration 11, loss = 30.70450476\n",
      "Iteration 12, loss = 25.52986373\n",
      "Iteration 13, loss = 2.87125763\n",
      "Iteration 14, loss = 5.95014380\n",
      "Iteration 15, loss = 6.50532413\n",
      "Iteration 16, loss = 1.40731857\n",
      "Iteration 17, loss = 2.06596518\n",
      "Iteration 18, loss = 2.07376701\n",
      "Iteration 19, loss = 0.97495416\n",
      "Iteration 20, loss = 1.18520021\n",
      "Iteration 21, loss = 1.06654403\n",
      "Iteration 22, loss = 0.88253582\n",
      "Iteration 23, loss = 0.85422487\n",
      "Iteration 24, loss = 0.69425264\n",
      "Iteration 25, loss = 0.67207594\n",
      "Iteration 26, loss = 0.65697852\n",
      "Iteration 27, loss = 0.61714233\n",
      "Iteration 28, loss = 0.58014041\n",
      "Iteration 29, loss = 0.55164134\n",
      "Iteration 30, loss = 0.52105660\n",
      "Iteration 31, loss = 0.46485637\n",
      "Iteration 32, loss = 0.44153344\n",
      "Iteration 33, loss = 0.37265646\n",
      "Iteration 34, loss = 0.32935788\n",
      "Iteration 35, loss = 0.28708654\n",
      "Iteration 36, loss = 0.28352441\n",
      "Iteration 37, loss = 0.22512646\n",
      "Iteration 38, loss = 0.24666768\n",
      "Iteration 39, loss = 0.20229247\n",
      "Iteration 40, loss = 0.17572443\n",
      "Iteration 41, loss = 0.16708900\n",
      "Iteration 42, loss = 0.14278872\n",
      "Iteration 43, loss = 0.13058729\n",
      "Iteration 44, loss = 0.12041726\n",
      "Iteration 45, loss = 0.11280458\n",
      "Iteration 46, loss = 0.10614220\n",
      "Iteration 47, loss = 0.10239134\n",
      "Iteration 48, loss = 0.09615280\n",
      "Iteration 49, loss = 0.09393156\n",
      "Iteration 50, loss = 0.09596950\n",
      "Iteration 51, loss = 0.09843093\n",
      "Iteration 52, loss = 0.10196244\n",
      "Iteration 53, loss = 0.09498623\n",
      "Iteration 54, loss = 0.08593617\n",
      "Iteration 55, loss = 0.08441436\n",
      "Iteration 56, loss = 0.08479651\n",
      "Iteration 57, loss = 0.07891751\n",
      "Iteration 58, loss = 0.07877929\n",
      "Iteration 59, loss = 0.08589436\n",
      "Iteration 60, loss = 0.08668514\n",
      "Iteration 61, loss = 0.07373584\n",
      "Iteration 62, loss = 0.07109253\n",
      "Iteration 63, loss = 0.07419995\n",
      "Iteration 64, loss = 0.07484984\n",
      "Iteration 65, loss = 0.08117396\n",
      "Iteration 66, loss = 0.07411649\n",
      "Iteration 67, loss = 0.07730611\n",
      "Iteration 68, loss = 0.07502704\n",
      "Iteration 69, loss = 0.06736578\n",
      "Iteration 70, loss = 0.06583736\n",
      "Iteration 71, loss = 0.06782996\n",
      "Iteration 72, loss = 0.06675368\n",
      "Iteration 73, loss = 0.06582297\n",
      "Iteration 74, loss = 0.06489927\n",
      "Iteration 75, loss = 0.06437086\n",
      "Iteration 76, loss = 0.06506339\n",
      "Iteration 77, loss = 0.06485331\n",
      "Iteration 78, loss = 0.07447758\n",
      "Iteration 79, loss = 0.07544158\n",
      "Iteration 80, loss = 0.07195488\n",
      "Iteration 81, loss = 0.06643766\n",
      "Iteration 82, loss = 0.06118907\n",
      "Iteration 83, loss = 0.06733233\n",
      "Iteration 84, loss = 0.06796988\n",
      "Iteration 85, loss = 0.07763434\n",
      "Iteration 86, loss = 0.08012630\n",
      "Iteration 87, loss = 0.06738599\n",
      "Iteration 88, loss = 0.06177275\n",
      "Iteration 89, loss = 0.05861774\n",
      "Iteration 90, loss = 0.06021328\n",
      "Iteration 91, loss = 0.05884874\n",
      "Iteration 92, loss = 0.06624923\n",
      "Iteration 93, loss = 0.06008794\n",
      "Iteration 94, loss = 0.06854548\n",
      "Iteration 95, loss = 0.07413019\n",
      "Iteration 96, loss = 0.06340699\n",
      "Iteration 97, loss = 0.07108432\n",
      "Iteration 98, loss = 0.06074236\n",
      "Iteration 99, loss = 0.05629415\n",
      "Iteration 100, loss = 0.06846878\n",
      "Iteration 101, loss = 0.05677199\n",
      "Iteration 102, loss = 0.05907626\n",
      "Iteration 103, loss = 0.05796819\n",
      "Iteration 104, loss = 0.05901443\n",
      "Iteration 105, loss = 0.05543653\n",
      "Iteration 106, loss = 0.05296764\n",
      "Iteration 107, loss = 0.05223243\n",
      "Iteration 108, loss = 0.05452407\n",
      "Iteration 109, loss = 0.05624532\n",
      "Iteration 110, loss = 0.05177433\n",
      "Iteration 111, loss = 0.04947065\n",
      "Iteration 112, loss = 0.05086893\n",
      "Iteration 113, loss = 0.04988529\n",
      "Iteration 114, loss = 0.04900980\n",
      "Iteration 115, loss = 0.05154042\n",
      "Iteration 116, loss = 0.05049894\n",
      "Iteration 117, loss = 0.04771624\n",
      "Iteration 118, loss = 0.04740259\n",
      "Iteration 119, loss = 0.05092071\n",
      "Iteration 120, loss = 0.04962336\n",
      "Iteration 121, loss = 0.05151296\n",
      "Iteration 122, loss = 0.05006293\n",
      "Iteration 123, loss = 0.05455457\n",
      "Iteration 124, loss = 0.05238866\n",
      "Iteration 125, loss = 0.05005938\n",
      "Iteration 126, loss = 0.04834251\n",
      "Iteration 127, loss = 0.04870659\n",
      "Iteration 128, loss = 0.04855358\n",
      "Iteration 129, loss = 0.04538575\n",
      "Iteration 130, loss = 0.04884994\n",
      "Iteration 131, loss = 0.05720561\n",
      "Iteration 132, loss = 0.05889615\n",
      "Iteration 133, loss = 0.05486953\n",
      "Iteration 134, loss = 0.05031746\n",
      "Iteration 135, loss = 0.04858386\n",
      "Iteration 136, loss = 0.04748084\n",
      "Iteration 137, loss = 0.04356931\n",
      "Iteration 138, loss = 0.04291529\n",
      "Iteration 139, loss = 0.04217279\n",
      "Iteration 140, loss = 0.04338901\n",
      "Iteration 141, loss = 0.05265898\n",
      "Iteration 142, loss = 0.04512156\n",
      "Iteration 143, loss = 0.04183899\n",
      "Iteration 144, loss = 0.04351205\n",
      "Iteration 145, loss = 0.04043664\n",
      "Iteration 146, loss = 0.04093074\n",
      "Iteration 147, loss = 0.04031407\n",
      "Iteration 148, loss = 0.03927415\n",
      "Iteration 149, loss = 0.03890562\n",
      "Iteration 150, loss = 0.03921429\n",
      "Iteration 151, loss = 0.04302433\n",
      "Iteration 152, loss = 0.04653873\n",
      "Iteration 153, loss = 0.04492520\n",
      "Iteration 154, loss = 0.04195630\n",
      "Iteration 155, loss = 0.03877258\n",
      "Iteration 156, loss = 0.03843244\n",
      "Iteration 157, loss = 0.03929089\n",
      "Iteration 158, loss = 0.04108483\n",
      "Iteration 159, loss = 0.05360886\n",
      "Iteration 160, loss = 0.05172079\n",
      "Iteration 161, loss = 0.04700644\n",
      "Iteration 162, loss = 0.04395491\n",
      "Iteration 163, loss = 0.04184881\n",
      "Iteration 164, loss = 0.04609244\n",
      "Iteration 165, loss = 0.04189190\n",
      "Iteration 166, loss = 0.04077473\n",
      "Iteration 167, loss = 0.03643244\n",
      "Iteration 168, loss = 0.04011049\n",
      "Iteration 169, loss = 0.03499521\n",
      "Iteration 170, loss = 0.03665584\n",
      "Iteration 171, loss = 0.03742657\n",
      "Iteration 172, loss = 0.03747439\n",
      "Iteration 173, loss = 0.04095800\n",
      "Iteration 174, loss = 0.04253625\n",
      "Iteration 175, loss = 0.04694919\n",
      "Iteration 176, loss = 0.04343467\n",
      "Iteration 177, loss = 0.05073497\n",
      "Iteration 178, loss = 0.04498124\n",
      "Iteration 179, loss = 0.04363957\n",
      "Iteration 180, loss = 0.04004847\n",
      "Training loss did not improve more than tol=0.000100 for 10 consecutive epochs. Stopping.\n",
      "Iteration 1, loss = 903.01520031\n",
      "Iteration 2, loss = 455.67772546\n",
      "Iteration 3, loss = 250.23693177\n",
      "Iteration 4, loss = 185.97939793\n",
      "Iteration 5, loss = 132.10594947\n",
      "Iteration 6, loss = 77.86483692\n",
      "Iteration 7, loss = 41.52140865\n",
      "Iteration 8, loss = 21.63228900\n",
      "Iteration 9, loss = 11.74789624\n",
      "Iteration 10, loss = 7.12390762\n",
      "Iteration 11, loss = 4.32835644\n",
      "Iteration 12, loss = 2.91504671\n",
      "Iteration 13, loss = 2.07433771\n",
      "Iteration 14, loss = 1.39583059\n",
      "Iteration 15, loss = 1.05786924\n",
      "Iteration 16, loss = 0.85094786\n",
      "Iteration 17, loss = 0.67673947\n",
      "Iteration 18, loss = 0.55378508\n",
      "Iteration 19, loss = 0.42768441\n",
      "Iteration 20, loss = 0.38182647\n",
      "Iteration 21, loss = 0.34468388\n",
      "Iteration 22, loss = 0.34155317\n",
      "Iteration 23, loss = 0.34427962\n",
      "Iteration 24, loss = 0.31436437\n",
      "Iteration 25, loss = 0.29574128\n",
      "Iteration 26, loss = 0.28218606\n",
      "Iteration 27, loss = 0.27222987\n",
      "Iteration 28, loss = 0.26158016\n",
      "Iteration 29, loss = 0.25533701\n",
      "Iteration 30, loss = 0.24563369\n",
      "Iteration 31, loss = 0.23558250\n",
      "Iteration 32, loss = 0.25248001\n",
      "Iteration 33, loss = 0.22916490\n",
      "Iteration 34, loss = 0.22615477\n",
      "Iteration 35, loss = 0.20544436\n",
      "Iteration 36, loss = 0.18878787\n",
      "Iteration 37, loss = 0.20103106\n",
      "Iteration 38, loss = 0.20271728\n",
      "Iteration 39, loss = 0.18110513\n",
      "Iteration 40, loss = 0.18944176\n",
      "Iteration 41, loss = 0.17989883\n",
      "Iteration 42, loss = 0.17634839\n",
      "Iteration 43, loss = 0.17402525\n",
      "Iteration 44, loss = 0.17614100\n",
      "Iteration 45, loss = 0.18229592\n",
      "Iteration 46, loss = 0.20507023\n",
      "Iteration 47, loss = 0.16891437\n",
      "Iteration 48, loss = 0.16471705\n",
      "Iteration 49, loss = 0.16353532\n",
      "Iteration 50, loss = 0.16046409\n",
      "Iteration 51, loss = 0.15906799\n",
      "Iteration 52, loss = 0.17857559\n",
      "Iteration 53, loss = 0.17516905\n",
      "Iteration 54, loss = 0.17021368\n",
      "Iteration 55, loss = 0.16561473\n",
      "Iteration 56, loss = 0.17799792\n",
      "Iteration 57, loss = 0.17387699\n",
      "Iteration 58, loss = 0.17757972\n",
      "Iteration 59, loss = 0.16129894\n",
      "Iteration 60, loss = 0.15837254\n",
      "Iteration 61, loss = 0.16081932\n",
      "Iteration 62, loss = 0.14510043\n",
      "Iteration 63, loss = 0.14858829\n",
      "Iteration 64, loss = 0.15136391\n",
      "Iteration 65, loss = 0.14943564\n",
      "Iteration 66, loss = 0.14128204\n",
      "Iteration 67, loss = 0.14119282\n",
      "Iteration 68, loss = 0.13837159\n",
      "Iteration 69, loss = 0.14708357\n",
      "Iteration 70, loss = 0.14215356\n",
      "Iteration 71, loss = 0.13521336\n",
      "Iteration 72, loss = 0.15835396\n",
      "Iteration 73, loss = 0.16545728\n",
      "Iteration 74, loss = 0.14410561\n",
      "Iteration 75, loss = 0.14119320\n",
      "Iteration 76, loss = 0.13640926\n",
      "Iteration 77, loss = 0.13172089\n",
      "Iteration 78, loss = 0.12847843\n",
      "Iteration 79, loss = 0.13548015\n",
      "Iteration 80, loss = 0.14221306\n",
      "Iteration 81, loss = 0.13042500\n",
      "Iteration 82, loss = 0.11898592\n",
      "Iteration 83, loss = 0.12713851\n",
      "Iteration 84, loss = 0.11687165\n",
      "Iteration 85, loss = 0.11602383\n",
      "Iteration 86, loss = 0.11284500\n",
      "Iteration 87, loss = 0.11534783\n",
      "Iteration 88, loss = 0.10915931\n"
     ]
    },
    {
     "name": "stdout",
     "output_type": "stream",
     "text": [
      "Iteration 89, loss = 0.14163890\n",
      "Iteration 90, loss = 0.13802306\n",
      "Iteration 91, loss = 0.17059519\n",
      "Iteration 92, loss = 0.13143658\n",
      "Iteration 93, loss = 0.13146439\n",
      "Iteration 94, loss = 0.11347544\n",
      "Iteration 95, loss = 0.11079655\n",
      "Iteration 96, loss = 0.11646016\n",
      "Iteration 97, loss = 0.10252395\n",
      "Iteration 98, loss = 0.10488499\n",
      "Iteration 99, loss = 0.10020585\n",
      "Iteration 100, loss = 0.09838297\n",
      "Iteration 101, loss = 0.10372730\n",
      "Iteration 102, loss = 0.09886203\n",
      "Iteration 103, loss = 0.09764055\n",
      "Iteration 104, loss = 0.13067870\n",
      "Iteration 105, loss = 0.20401434\n",
      "Iteration 106, loss = 0.15252523\n",
      "Iteration 107, loss = 0.12724476\n",
      "Iteration 108, loss = 0.10439415\n",
      "Iteration 109, loss = 0.13155911\n",
      "Iteration 110, loss = 0.11239768\n",
      "Iteration 111, loss = 0.09416121\n",
      "Iteration 112, loss = 0.10166896\n",
      "Iteration 113, loss = 0.10438577\n",
      "Iteration 114, loss = 0.11260146\n",
      "Iteration 115, loss = 0.10292262\n",
      "Iteration 116, loss = 0.09548382\n",
      "Iteration 117, loss = 0.10738854\n",
      "Iteration 118, loss = 0.10264834\n",
      "Iteration 119, loss = 0.10013597\n",
      "Iteration 120, loss = 0.10121374\n",
      "Iteration 121, loss = 0.10461324\n",
      "Iteration 122, loss = 0.09771920\n",
      "Training loss did not improve more than tol=0.000100 for 10 consecutive epochs. Stopping.\n",
      "Iteration 1, loss = 8235.29185263\n",
      "Iteration 2, loss = 5261.97817472\n",
      "Iteration 3, loss = 675.27658056\n",
      "Iteration 4, loss = 1629.24993014\n",
      "Iteration 5, loss = 346.77751063\n",
      "Iteration 6, loss = 489.82513406\n",
      "Iteration 7, loss = 213.54102808\n",
      "Iteration 8, loss = 111.73980095\n",
      "Iteration 9, loss = 123.89078532\n",
      "Iteration 10, loss = 21.07886140\n",
      "Iteration 11, loss = 46.07245276\n",
      "Iteration 12, loss = 17.47376423\n",
      "Iteration 13, loss = 7.41769987\n",
      "Iteration 14, loss = 10.68419360\n",
      "Iteration 15, loss = 3.41758657\n",
      "Iteration 16, loss = 1.84476260\n",
      "Iteration 17, loss = 2.02646219\n",
      "Iteration 18, loss = 1.00147004\n",
      "Iteration 19, loss = 0.43149179\n",
      "Iteration 20, loss = 0.47802169\n",
      "Iteration 21, loss = 0.35383368\n",
      "Iteration 22, loss = 0.21625038\n",
      "Iteration 23, loss = 0.19044463\n",
      "Iteration 24, loss = 0.16725780\n",
      "Iteration 25, loss = 0.16715181\n",
      "Iteration 26, loss = 0.16025408\n",
      "Iteration 27, loss = 0.15065531\n",
      "Iteration 28, loss = 0.14979474\n",
      "Iteration 29, loss = 0.13695589\n",
      "Iteration 30, loss = 0.12545005\n",
      "Iteration 31, loss = 0.12500793\n",
      "Iteration 32, loss = 0.10951075\n",
      "Iteration 33, loss = 0.11339488\n",
      "Iteration 34, loss = 0.11171557\n",
      "Iteration 35, loss = 0.09647697\n",
      "Iteration 36, loss = 0.08866237\n",
      "Iteration 37, loss = 0.09071843\n",
      "Iteration 38, loss = 0.08551756\n",
      "Iteration 39, loss = 0.08003194\n",
      "Iteration 40, loss = 0.07571950\n",
      "Iteration 41, loss = 0.07982228\n",
      "Iteration 42, loss = 0.07795474\n",
      "Iteration 43, loss = 0.07935996\n",
      "Iteration 44, loss = 0.08215476\n",
      "Iteration 45, loss = 0.07362922\n",
      "Iteration 46, loss = 0.07314744\n",
      "Iteration 47, loss = 0.08729973\n",
      "Iteration 48, loss = 0.08152547\n",
      "Iteration 49, loss = 0.07404198\n",
      "Iteration 50, loss = 0.07450335\n",
      "Iteration 51, loss = 0.06935974\n",
      "Iteration 52, loss = 0.06798269\n",
      "Iteration 53, loss = 0.06414327\n",
      "Iteration 54, loss = 0.06351185\n",
      "Iteration 55, loss = 0.06290159\n",
      "Iteration 56, loss = 0.06621419\n",
      "Iteration 57, loss = 0.06148436\n",
      "Iteration 58, loss = 0.06326130\n",
      "Iteration 59, loss = 0.05857656\n",
      "Iteration 60, loss = 0.05958698\n",
      "Iteration 61, loss = 0.05738643\n",
      "Iteration 62, loss = 0.05487358\n",
      "Iteration 63, loss = 0.05444418\n",
      "Iteration 64, loss = 0.06181826\n",
      "Iteration 65, loss = 0.05696411\n",
      "Iteration 66, loss = 0.05991476\n",
      "Iteration 67, loss = 0.05716393\n",
      "Iteration 68, loss = 0.05523661\n",
      "Iteration 69, loss = 0.04968106\n",
      "Iteration 70, loss = 0.04787615\n",
      "Iteration 71, loss = 0.04697741\n",
      "Iteration 72, loss = 0.04798245\n",
      "Iteration 73, loss = 0.04480539\n",
      "Iteration 74, loss = 0.04384434\n",
      "Iteration 75, loss = 0.04337193\n",
      "Iteration 76, loss = 0.05073918\n",
      "Iteration 77, loss = 0.05073408\n",
      "Iteration 78, loss = 0.05037969\n",
      "Iteration 79, loss = 0.04303948\n",
      "Iteration 80, loss = 0.04230202\n",
      "Iteration 81, loss = 0.04013387\n",
      "Iteration 82, loss = 0.04074446\n",
      "Iteration 83, loss = 0.04805546\n",
      "Iteration 84, loss = 0.04833198\n",
      "Iteration 85, loss = 0.03926184\n",
      "Iteration 86, loss = 0.03528884\n",
      "Iteration 87, loss = 0.03505250\n",
      "Iteration 88, loss = 0.03316661\n",
      "Iteration 89, loss = 0.03195502\n",
      "Iteration 90, loss = 0.03308132\n",
      "Iteration 91, loss = 0.03050703\n",
      "Iteration 92, loss = 0.03906303\n",
      "Iteration 93, loss = 0.03664288\n",
      "Iteration 94, loss = 0.03441299\n",
      "Iteration 95, loss = 0.03677723\n",
      "Iteration 96, loss = 0.03406169\n",
      "Iteration 97, loss = 0.03182009\n",
      "Iteration 98, loss = 0.03294425\n",
      "Iteration 99, loss = 0.03017761\n",
      "Iteration 100, loss = 0.03761534\n",
      "Iteration 101, loss = 0.04829489\n",
      "Iteration 102, loss = 0.03695629\n",
      "Iteration 103, loss = 0.03414396\n",
      "Iteration 104, loss = 0.03077224\n",
      "Iteration 105, loss = 0.02728655\n",
      "Iteration 106, loss = 0.03188832\n",
      "Iteration 107, loss = 0.03333610\n",
      "Iteration 108, loss = 0.02674902\n",
      "Iteration 109, loss = 0.02946454\n",
      "Iteration 110, loss = 0.03233847\n",
      "Iteration 111, loss = 0.02836247\n",
      "Iteration 112, loss = 0.02640937\n",
      "Iteration 113, loss = 0.02584056\n",
      "Iteration 114, loss = 0.02523453\n",
      "Iteration 115, loss = 0.02524975\n",
      "Iteration 116, loss = 0.02961507\n",
      "Iteration 117, loss = 0.03740614\n",
      "Iteration 118, loss = 0.03879624\n",
      "Iteration 119, loss = 0.04497411\n",
      "Iteration 120, loss = 0.04097827\n",
      "Iteration 121, loss = 0.03595627\n",
      "Iteration 122, loss = 0.03437728\n",
      "Iteration 123, loss = 0.02783911\n",
      "Iteration 124, loss = 0.02625198\n",
      "Iteration 125, loss = 0.03341174\n",
      "Training loss did not improve more than tol=0.000100 for 10 consecutive epochs. Stopping.\n",
      "Iteration 1, loss = 208.35147937\n",
      "Iteration 2, loss = 79.13885723\n",
      "Iteration 3, loss = 46.14708436\n",
      "Iteration 4, loss = 25.53760574\n",
      "Iteration 5, loss = 13.97699447\n",
      "Iteration 6, loss = 8.26996749\n",
      "Iteration 7, loss = 5.01074271\n",
      "Iteration 8, loss = 3.47101471\n",
      "Iteration 9, loss = 2.20880472\n",
      "Iteration 10, loss = 1.49786883\n",
      "Iteration 11, loss = 1.10713646\n",
      "Iteration 12, loss = 0.72920698\n",
      "Iteration 13, loss = 0.56169992\n",
      "Iteration 14, loss = 0.45978701\n",
      "Iteration 15, loss = 0.40220243\n",
      "Iteration 16, loss = 0.36047073\n",
      "Iteration 17, loss = 0.32890749\n",
      "Iteration 18, loss = 0.26870921\n",
      "Iteration 19, loss = 0.24377384\n",
      "Iteration 20, loss = 0.22241569\n",
      "Iteration 21, loss = 0.22470706\n",
      "Iteration 22, loss = 0.19691519\n",
      "Iteration 23, loss = 0.19126655\n",
      "Iteration 24, loss = 0.18265526\n",
      "Iteration 25, loss = 0.17051724\n",
      "Iteration 26, loss = 0.15932728\n",
      "Iteration 27, loss = 0.14515240\n",
      "Iteration 28, loss = 0.14210891\n",
      "Iteration 29, loss = 0.13668639\n",
      "Iteration 30, loss = 0.13132629\n",
      "Iteration 31, loss = 0.12254600\n",
      "Iteration 32, loss = 0.11954219\n",
      "Iteration 33, loss = 0.12025499\n",
      "Iteration 34, loss = 0.13052793\n",
      "Iteration 35, loss = 0.11864587\n",
      "Iteration 36, loss = 0.11520884\n",
      "Iteration 37, loss = 0.11306319\n",
      "Iteration 38, loss = 0.11161796\n",
      "Iteration 39, loss = 0.11230095\n",
      "Iteration 40, loss = 0.11001751\n",
      "Iteration 41, loss = 0.11629774\n",
      "Iteration 42, loss = 0.11895525\n",
      "Iteration 43, loss = 0.11443639\n",
      "Iteration 44, loss = 0.10809059\n",
      "Iteration 45, loss = 0.11812886\n",
      "Iteration 46, loss = 0.11160772\n",
      "Iteration 47, loss = 0.10545311\n",
      "Iteration 48, loss = 0.11193078\n",
      "Iteration 49, loss = 0.11948567\n",
      "Iteration 50, loss = 0.11148682\n",
      "Iteration 51, loss = 0.10923821\n",
      "Iteration 52, loss = 0.10251096\n",
      "Iteration 53, loss = 0.10487573\n",
      "Iteration 54, loss = 0.11644898\n",
      "Iteration 55, loss = 0.12366150\n",
      "Iteration 56, loss = 0.11653338\n",
      "Iteration 57, loss = 0.10499941\n",
      "Iteration 58, loss = 0.10120820\n",
      "Iteration 59, loss = 0.10341445\n",
      "Iteration 60, loss = 0.11511702\n",
      "Iteration 61, loss = 0.10845390\n",
      "Iteration 62, loss = 0.10129660\n",
      "Iteration 63, loss = 0.09985562\n",
      "Iteration 64, loss = 0.10346770\n",
      "Iteration 65, loss = 0.10072433\n",
      "Iteration 66, loss = 0.10141147\n",
      "Iteration 67, loss = 0.10348299\n",
      "Iteration 68, loss = 0.10613012\n",
      "Iteration 69, loss = 0.09712125\n",
      "Iteration 70, loss = 0.09835453\n",
      "Iteration 71, loss = 0.09721996\n",
      "Iteration 72, loss = 0.09718387\n",
      "Iteration 73, loss = 0.10488376\n",
      "Iteration 74, loss = 0.09738049\n",
      "Iteration 75, loss = 0.09573061\n",
      "Iteration 76, loss = 0.09738695\n",
      "Iteration 77, loss = 0.10295416\n",
      "Iteration 78, loss = 0.09877722\n",
      "Iteration 79, loss = 0.09822923\n",
      "Iteration 80, loss = 0.10214773\n",
      "Iteration 81, loss = 0.10513747\n",
      "Iteration 82, loss = 0.09779545\n",
      "Iteration 83, loss = 0.10135431\n",
      "Iteration 84, loss = 0.09591233\n",
      "Iteration 85, loss = 0.10218157\n",
      "Iteration 86, loss = 0.09781583\n",
      "Training loss did not improve more than tol=0.000100 for 10 consecutive epochs. Stopping.\n",
      "Iteration 1, loss = 296.99166103\n",
      "Iteration 2, loss = 93.64408122\n",
      "Iteration 3, loss = 43.18337155\n",
      "Iteration 4, loss = 23.11644674\n",
      "Iteration 5, loss = 19.35866542\n",
      "Iteration 6, loss = 15.67008515\n",
      "Iteration 7, loss = 10.49052502\n",
      "Iteration 8, loss = 6.15695706\n",
      "Iteration 9, loss = 3.69394686\n"
     ]
    },
    {
     "name": "stdout",
     "output_type": "stream",
     "text": [
      "Iteration 10, loss = 2.07970048\n",
      "Iteration 11, loss = 1.45102530\n",
      "Iteration 12, loss = 1.12522819\n",
      "Iteration 13, loss = 1.01798669\n",
      "Iteration 14, loss = 0.96067186\n",
      "Iteration 15, loss = 0.77924770\n",
      "Iteration 16, loss = 0.71678748\n",
      "Iteration 17, loss = 0.62820795\n",
      "Iteration 18, loss = 0.56760300\n",
      "Iteration 19, loss = 0.54751582\n",
      "Iteration 20, loss = 0.50901454\n",
      "Iteration 21, loss = 0.48288390\n",
      "Iteration 22, loss = 0.47066813\n",
      "Iteration 23, loss = 0.44272698\n",
      "Iteration 24, loss = 0.40985910\n",
      "Iteration 25, loss = 0.38813446\n",
      "Iteration 26, loss = 0.37078137\n",
      "Iteration 27, loss = 0.37235378\n",
      "Iteration 28, loss = 0.35195956\n",
      "Iteration 29, loss = 0.29655670\n",
      "Iteration 30, loss = 0.28945777\n",
      "Iteration 31, loss = 0.27009294\n",
      "Iteration 32, loss = 0.25111242\n",
      "Iteration 33, loss = 0.23632049\n",
      "Iteration 34, loss = 0.21839928\n",
      "Iteration 35, loss = 0.21582463\n",
      "Iteration 36, loss = 0.21095257\n",
      "Iteration 37, loss = 0.19963998\n",
      "Iteration 38, loss = 0.18780436\n",
      "Iteration 39, loss = 0.17572747\n",
      "Iteration 40, loss = 0.16596024\n",
      "Iteration 41, loss = 0.16669487\n",
      "Iteration 42, loss = 0.15822740\n",
      "Iteration 43, loss = 0.16027429\n",
      "Iteration 44, loss = 0.15569650\n",
      "Iteration 45, loss = 0.14399263\n",
      "Iteration 46, loss = 0.14134008\n",
      "Iteration 47, loss = 0.13949912\n",
      "Iteration 48, loss = 0.13268409\n",
      "Iteration 49, loss = 0.13107005\n",
      "Iteration 50, loss = 0.13241124\n",
      "Iteration 51, loss = 0.15109876\n",
      "Iteration 52, loss = 0.13759790\n",
      "Iteration 53, loss = 0.13436074\n",
      "Iteration 54, loss = 0.12050482\n",
      "Iteration 55, loss = 0.12024197\n",
      "Iteration 56, loss = 0.11777581\n",
      "Iteration 57, loss = 0.11263223\n",
      "Iteration 58, loss = 0.10733539\n",
      "Iteration 59, loss = 0.11060391\n",
      "Iteration 60, loss = 0.10939841\n",
      "Iteration 61, loss = 0.10620014\n",
      "Iteration 62, loss = 0.10254387\n",
      "Iteration 63, loss = 0.10642345\n",
      "Iteration 64, loss = 0.09897255\n",
      "Iteration 65, loss = 0.09580135\n",
      "Iteration 66, loss = 0.09388403\n",
      "Iteration 67, loss = 0.08960250\n",
      "Iteration 68, loss = 0.09661538\n",
      "Iteration 69, loss = 0.08550887\n",
      "Iteration 70, loss = 0.08788578\n",
      "Iteration 71, loss = 0.08353131\n",
      "Iteration 72, loss = 0.08401536\n",
      "Iteration 73, loss = 0.08361275\n",
      "Iteration 74, loss = 0.09056223\n",
      "Iteration 75, loss = 0.08174843\n",
      "Iteration 76, loss = 0.07484885\n",
      "Iteration 77, loss = 0.08719794\n",
      "Iteration 78, loss = 0.07934541\n",
      "Iteration 79, loss = 0.07107882\n",
      "Iteration 80, loss = 0.08061771\n",
      "Iteration 81, loss = 0.06658088\n",
      "Iteration 82, loss = 0.06339562\n",
      "Iteration 83, loss = 0.05894754\n",
      "Iteration 84, loss = 0.06363996\n",
      "Iteration 85, loss = 0.05515085\n",
      "Iteration 86, loss = 0.05927374\n",
      "Iteration 87, loss = 0.05035879\n",
      "Iteration 88, loss = 0.04914672\n",
      "Iteration 89, loss = 0.04904726\n",
      "Iteration 90, loss = 0.05186397\n",
      "Iteration 91, loss = 0.04519501\n",
      "Iteration 92, loss = 0.05043190\n",
      "Iteration 93, loss = 0.04667050\n",
      "Iteration 94, loss = 0.04442549\n",
      "Iteration 95, loss = 0.04382314\n",
      "Iteration 96, loss = 0.04463304\n",
      "Iteration 97, loss = 0.04703229\n",
      "Iteration 98, loss = 0.04371824\n",
      "Iteration 99, loss = 0.04040840\n",
      "Iteration 100, loss = 0.03982934\n",
      "Iteration 1, loss = 2465.50563896\n",
      "Iteration 2, loss = 993.70383253\n",
      "Iteration 3, loss = 475.87600664\n",
      "Iteration 4, loss = 257.69840141\n",
      "Iteration 5, loss = 153.13658482\n",
      "Iteration 6, loss = 89.97985549\n",
      "Iteration 7, loss = 55.87056603\n",
      "Iteration 8, loss = 33.40055499\n",
      "Iteration 9, loss = 21.53084682\n",
      "Iteration 10, loss = 14.05819579\n",
      "Iteration 11, loss = 7.15816946\n",
      "Iteration 12, loss = 2.22266163\n",
      "Iteration 13, loss = 1.52547903\n",
      "Iteration 14, loss = 0.69856286\n",
      "Iteration 15, loss = 0.55057292\n",
      "Iteration 16, loss = 0.51206324\n",
      "Iteration 17, loss = 0.47029281\n",
      "Iteration 18, loss = 0.43677976\n",
      "Iteration 19, loss = 0.48702378\n",
      "Iteration 20, loss = 0.34152112\n",
      "Iteration 21, loss = 0.33421912\n",
      "Iteration 22, loss = 0.27842839\n",
      "Iteration 23, loss = 0.28860585\n",
      "Iteration 24, loss = 0.21711128\n",
      "Iteration 25, loss = 0.22620626\n",
      "Iteration 26, loss = 0.18603268\n",
      "Iteration 27, loss = 0.19855027\n",
      "Iteration 28, loss = 0.23879411\n",
      "Iteration 29, loss = 0.22533755\n",
      "Iteration 30, loss = 0.27901998\n",
      "Iteration 31, loss = 0.22920896\n",
      "Iteration 32, loss = 0.18250991\n",
      "Iteration 33, loss = 0.20018594\n",
      "Iteration 34, loss = 0.21139435\n",
      "Iteration 35, loss = 0.18077793\n",
      "Iteration 36, loss = 0.17559956\n",
      "Iteration 37, loss = 0.19309293\n",
      "Iteration 38, loss = 0.18190505\n",
      "Iteration 39, loss = 0.19543693\n",
      "Iteration 40, loss = 0.19292184\n",
      "Iteration 41, loss = 0.17572710\n",
      "Iteration 42, loss = 0.15897169\n",
      "Iteration 43, loss = 0.16661842\n",
      "Iteration 44, loss = 0.17764713\n",
      "Iteration 45, loss = 0.17685146\n",
      "Iteration 46, loss = 0.21445121\n",
      "Iteration 47, loss = 0.21407598\n",
      "Iteration 48, loss = 0.21258354\n",
      "Iteration 49, loss = 0.28140550\n",
      "Iteration 50, loss = 0.22403504\n",
      "Iteration 51, loss = 0.16608793\n",
      "Iteration 52, loss = 0.15664818\n",
      "Iteration 53, loss = 0.15810316\n",
      "Iteration 54, loss = 0.17071991\n",
      "Iteration 55, loss = 0.16569741\n",
      "Iteration 56, loss = 0.14627244\n",
      "Iteration 57, loss = 0.14428004\n",
      "Iteration 58, loss = 0.14257257\n",
      "Iteration 59, loss = 0.13854597\n",
      "Iteration 60, loss = 0.13941006\n",
      "Iteration 61, loss = 0.13555546\n",
      "Iteration 62, loss = 0.13680372\n",
      "Iteration 63, loss = 0.16269328\n",
      "Iteration 64, loss = 0.15737541\n",
      "Iteration 65, loss = 0.15147042\n",
      "Iteration 66, loss = 0.17821398\n",
      "Iteration 67, loss = 0.17688167\n",
      "Iteration 68, loss = 0.18024016\n",
      "Iteration 69, loss = 0.14286772\n",
      "Iteration 70, loss = 0.14572975\n",
      "Iteration 71, loss = 0.14852274\n",
      "Iteration 72, loss = 0.20116735\n",
      "Training loss did not improve more than tol=0.000100 for 10 consecutive epochs. Stopping.\n",
      "Iteration 1, loss = 10445.44433568\n",
      "Iteration 2, loss = 2366.05718375\n",
      "Iteration 3, loss = 1576.76041759\n",
      "Iteration 4, loss = 1589.16306005\n",
      "Iteration 5, loss = 829.11513162\n",
      "Iteration 6, loss = 266.47692503\n",
      "Iteration 7, loss = 180.31717869\n",
      "Iteration 8, loss = 181.34361354\n",
      "Iteration 9, loss = 121.80469650\n",
      "Iteration 10, loss = 55.86095056\n",
      "Iteration 11, loss = 24.98863174\n",
      "Iteration 12, loss = 12.19849753\n",
      "Iteration 13, loss = 6.02966549\n",
      "Iteration 14, loss = 2.40739872\n",
      "Iteration 15, loss = 1.17199145\n",
      "Iteration 16, loss = 0.59213576\n",
      "Iteration 17, loss = 0.42281881\n",
      "Iteration 18, loss = 0.38105622\n",
      "Iteration 19, loss = 0.37571094\n",
      "Iteration 20, loss = 0.47130416\n",
      "Iteration 21, loss = 0.36457142\n",
      "Iteration 22, loss = 0.32125909\n",
      "Iteration 23, loss = 0.32700331\n",
      "Iteration 24, loss = 0.26731485\n",
      "Iteration 25, loss = 0.27054083\n",
      "Iteration 26, loss = 0.25944844\n",
      "Iteration 27, loss = 0.22623082\n",
      "Iteration 28, loss = 0.18875390\n",
      "Iteration 29, loss = 0.17610185\n",
      "Iteration 30, loss = 0.16803556\n",
      "Iteration 31, loss = 0.11328523\n",
      "Iteration 32, loss = 0.09783397\n",
      "Iteration 33, loss = 0.09151420\n",
      "Iteration 34, loss = 0.08198835\n",
      "Iteration 35, loss = 0.08716060\n",
      "Iteration 36, loss = 0.08820363\n",
      "Iteration 37, loss = 0.10328249\n",
      "Iteration 38, loss = 0.08862036\n",
      "Iteration 39, loss = 0.09923745\n",
      "Iteration 40, loss = 0.06933875\n",
      "Iteration 41, loss = 0.07260931\n",
      "Iteration 42, loss = 0.07227143\n",
      "Iteration 43, loss = 0.07619390\n",
      "Iteration 44, loss = 0.07028312\n",
      "Iteration 45, loss = 0.06738897\n",
      "Iteration 46, loss = 0.06454851\n",
      "Iteration 47, loss = 0.06684559\n",
      "Iteration 48, loss = 0.06272599\n",
      "Iteration 49, loss = 0.05674243\n",
      "Iteration 50, loss = 0.06027843\n",
      "Iteration 51, loss = 0.05424018\n",
      "Iteration 52, loss = 0.04659145\n",
      "Iteration 53, loss = 0.04799461\n",
      "Iteration 54, loss = 0.05302571\n",
      "Iteration 55, loss = 0.06567007\n",
      "Iteration 56, loss = 0.06967561\n",
      "Iteration 57, loss = 0.05247748\n",
      "Iteration 58, loss = 0.05209345\n",
      "Iteration 59, loss = 0.05377891\n",
      "Iteration 60, loss = 0.04653137\n",
      "Iteration 61, loss = 0.04102310\n",
      "Iteration 62, loss = 0.04174381\n",
      "Iteration 63, loss = 0.04062218\n",
      "Iteration 64, loss = 0.05314991\n",
      "Iteration 65, loss = 0.04496505\n",
      "Iteration 66, loss = 0.04588271\n",
      "Iteration 67, loss = 0.03363170\n",
      "Iteration 68, loss = 0.03424761\n",
      "Iteration 69, loss = 0.03085123\n",
      "Iteration 70, loss = 0.03907301\n",
      "Iteration 71, loss = 0.04275112\n",
      "Iteration 72, loss = 0.03213043\n",
      "Iteration 73, loss = 0.03446823\n",
      "Iteration 74, loss = 0.02920399\n",
      "Iteration 75, loss = 0.03033045\n",
      "Iteration 76, loss = 0.03994166\n",
      "Iteration 77, loss = 0.03231378\n",
      "Iteration 78, loss = 0.06747386\n",
      "Iteration 79, loss = 0.03617661\n",
      "Iteration 80, loss = 0.04073328\n",
      "Iteration 81, loss = 0.03685995\n",
      "Iteration 82, loss = 0.02825156\n",
      "Iteration 83, loss = 0.02782378\n",
      "Iteration 84, loss = 0.02290167\n",
      "Iteration 85, loss = 0.02343114\n",
      "Iteration 86, loss = 0.03080750\n",
      "Iteration 87, loss = 0.02537244\n",
      "Iteration 88, loss = 0.02944392\n",
      "Iteration 89, loss = 0.03075860\n",
      "Iteration 90, loss = 0.02583270\n",
      "Iteration 91, loss = 0.04707738\n",
      "Iteration 92, loss = 0.03653450\n",
      "Iteration 93, loss = 0.04483898\n",
      "Iteration 94, loss = 0.03338983\n",
      "Iteration 95, loss = 0.02917605\n",
      "Training loss did not improve more than tol=0.000100 for 10 consecutive epochs. Stopping.\n",
      "Iteration 1, loss = 4077.78658140\n",
      "Iteration 2, loss = 2154.32189417\n",
      "Iteration 3, loss = 391.77138149\n",
      "Iteration 4, loss = 730.66763472\n",
      "Iteration 5, loss = 160.81867091\n",
      "Iteration 6, loss = 253.15332467\n",
      "Iteration 7, loss = 60.04726707\n",
      "Iteration 8, loss = 99.14305560\n",
      "Iteration 9, loss = 17.77209504\n",
      "Iteration 10, loss = 36.79234983\n",
      "Iteration 11, loss = 8.11667303\n",
      "Iteration 12, loss = 8.03288529\n",
      "Iteration 13, loss = 7.39615929\n",
      "Iteration 14, loss = 2.44810666\n",
      "Iteration 15, loss = 3.18595566\n",
      "Iteration 16, loss = 2.60447012\n",
      "Iteration 17, loss = 1.68761578\n",
      "Iteration 18, loss = 1.72070531\n",
      "Iteration 19, loss = 1.52535372\n",
      "Iteration 20, loss = 1.31116347\n",
      "Iteration 21, loss = 1.27875281\n",
      "Iteration 22, loss = 1.25332350\n",
      "Iteration 23, loss = 1.21166034\n",
      "Iteration 24, loss = 1.16387221\n",
      "Iteration 25, loss = 1.12747596\n",
      "Iteration 26, loss = 1.10506279\n",
      "Iteration 27, loss = 1.08040754\n",
      "Iteration 28, loss = 1.03808615\n",
      "Iteration 29, loss = 0.98128841\n",
      "Iteration 30, loss = 0.93224205\n",
      "Iteration 31, loss = 0.86260896\n",
      "Iteration 32, loss = 0.81002359\n",
      "Iteration 33, loss = 0.74113540\n",
      "Iteration 34, loss = 0.67065816\n",
      "Iteration 35, loss = 0.61830956\n",
      "Iteration 36, loss = 0.61798040\n",
      "Iteration 37, loss = 0.50641663\n",
      "Iteration 38, loss = 0.49387418\n",
      "Iteration 39, loss = 0.45126522\n",
      "Iteration 40, loss = 0.35536457\n",
      "Iteration 41, loss = 0.36207202\n",
      "Iteration 42, loss = 0.29531146\n",
      "Iteration 43, loss = 0.27117835\n",
      "Iteration 44, loss = 0.25095434\n",
      "Iteration 45, loss = 0.22963116\n"
     ]
    },
    {
     "name": "stdout",
     "output_type": "stream",
     "text": [
      "Iteration 46, loss = 0.21959194\n",
      "Iteration 47, loss = 0.20892055\n",
      "Iteration 48, loss = 0.20520742\n",
      "Iteration 49, loss = 0.20717115\n",
      "Iteration 50, loss = 0.20181400\n",
      "Iteration 51, loss = 0.18434070\n",
      "Iteration 52, loss = 0.18089484\n",
      "Iteration 53, loss = 0.17971745\n",
      "Iteration 54, loss = 0.18352565\n",
      "Iteration 55, loss = 0.17975976\n",
      "Iteration 56, loss = 0.18700472\n",
      "Iteration 57, loss = 0.21421544\n",
      "Iteration 58, loss = 0.21213767\n",
      "Iteration 59, loss = 0.19055529\n",
      "Iteration 60, loss = 0.19083403\n",
      "Iteration 61, loss = 0.17409285\n",
      "Iteration 62, loss = 0.16732355\n",
      "Iteration 63, loss = 0.16331686\n",
      "Iteration 64, loss = 0.16858193\n",
      "Iteration 65, loss = 0.16635740\n",
      "Iteration 66, loss = 0.16249382\n",
      "Iteration 67, loss = 0.15975004\n",
      "Iteration 68, loss = 0.16118535\n",
      "Iteration 69, loss = 0.16707030\n",
      "Iteration 70, loss = 0.19955159\n",
      "Iteration 71, loss = 0.19217693\n",
      "Iteration 72, loss = 0.19294695\n",
      "Iteration 73, loss = 0.17089601\n",
      "Iteration 74, loss = 0.16574428\n",
      "Iteration 75, loss = 0.16011892\n",
      "Iteration 76, loss = 0.17411660\n",
      "Iteration 77, loss = 0.15968257\n",
      "Iteration 78, loss = 0.15500744\n",
      "Iteration 79, loss = 0.14828697\n",
      "Iteration 80, loss = 0.14657526\n",
      "Iteration 81, loss = 0.14553474\n",
      "Iteration 82, loss = 0.14629195\n",
      "Iteration 83, loss = 0.14972903\n",
      "Iteration 84, loss = 0.15143610\n",
      "Iteration 85, loss = 0.16915376\n",
      "Iteration 86, loss = 0.17687750\n",
      "Iteration 87, loss = 0.15963239\n",
      "Iteration 88, loss = 0.14398448\n",
      "Iteration 89, loss = 0.16869285\n",
      "Iteration 90, loss = 0.14021135\n",
      "Iteration 91, loss = 0.13836137\n",
      "Iteration 92, loss = 0.13856573\n",
      "Iteration 93, loss = 0.13514002\n",
      "Iteration 94, loss = 0.13669219\n",
      "Iteration 95, loss = 0.13537339\n",
      "Iteration 96, loss = 0.13657375\n",
      "Iteration 97, loss = 0.13901462\n",
      "Iteration 98, loss = 0.13903920\n",
      "Iteration 99, loss = 0.14309866\n",
      "Iteration 100, loss = 0.13237501\n",
      "Iteration 1, loss = 2280.44667905\n",
      "Iteration 2, loss = 1074.14600470\n",
      "Iteration 3, loss = 682.31742417\n",
      "Iteration 4, loss = 129.64036245\n",
      "Iteration 5, loss = 252.96885598\n",
      "Iteration 6, loss = 112.41840629\n",
      "Iteration 7, loss = 39.26030353\n",
      "Iteration 8, loss = 62.53561131\n",
      "Iteration 9, loss = 30.00511757\n",
      "Iteration 10, loss = 13.46038858\n",
      "Iteration 11, loss = 13.91807181\n",
      "Iteration 12, loss = 11.28332079\n",
      "Iteration 13, loss = 6.73721073\n",
      "Iteration 14, loss = 5.09862486\n",
      "Iteration 15, loss = 5.01783524\n",
      "Iteration 16, loss = 4.61185328\n",
      "Iteration 17, loss = 4.04486834\n",
      "Iteration 18, loss = 3.75327250\n",
      "Iteration 19, loss = 3.66650686\n",
      "Iteration 20, loss = 3.43281895\n",
      "Iteration 21, loss = 3.36124095\n",
      "Iteration 22, loss = 3.25950019\n",
      "Iteration 23, loss = 3.12304511\n",
      "Iteration 24, loss = 2.96326475\n",
      "Iteration 25, loss = 2.85811578\n",
      "Iteration 26, loss = 2.74745651\n",
      "Iteration 27, loss = 2.64476693\n",
      "Iteration 28, loss = 2.54513736\n",
      "Iteration 29, loss = 2.44024500\n",
      "Iteration 30, loss = 2.39609748\n",
      "Iteration 31, loss = 2.30543844\n",
      "Iteration 32, loss = 2.18679798\n",
      "Iteration 33, loss = 2.05912213\n",
      "Iteration 34, loss = 2.01469215\n",
      "Iteration 35, loss = 1.90842264\n",
      "Iteration 36, loss = 1.84959151\n",
      "Iteration 37, loss = 1.78445243\n",
      "Iteration 38, loss = 1.67802646\n",
      "Iteration 39, loss = 1.57634836\n",
      "Iteration 40, loss = 1.45373209\n",
      "Iteration 41, loss = 1.34205475\n",
      "Iteration 42, loss = 1.25306404\n",
      "Iteration 43, loss = 1.17755220\n",
      "Iteration 44, loss = 1.00607750\n",
      "Iteration 45, loss = 0.90051357\n",
      "Iteration 46, loss = 0.77995791\n",
      "Iteration 47, loss = 0.67963379\n",
      "Iteration 48, loss = 0.60141831\n",
      "Iteration 49, loss = 0.53147794\n",
      "Iteration 50, loss = 0.45176507\n",
      "Iteration 51, loss = 0.38871887\n",
      "Iteration 52, loss = 0.29963973\n",
      "Iteration 53, loss = 0.27739191\n",
      "Iteration 54, loss = 0.22904846\n",
      "Iteration 55, loss = 0.17606880\n",
      "Iteration 56, loss = 0.13676784\n",
      "Iteration 57, loss = 0.12991459\n",
      "Iteration 58, loss = 0.15737917\n",
      "Iteration 59, loss = 0.12626600\n",
      "Iteration 60, loss = 0.11751751\n",
      "Iteration 61, loss = 0.13365184\n",
      "Iteration 62, loss = 0.11787684\n",
      "Iteration 63, loss = 0.12235635\n",
      "Iteration 64, loss = 0.09006561\n",
      "Iteration 65, loss = 0.08305441\n",
      "Iteration 66, loss = 0.08537016\n",
      "Iteration 67, loss = 0.09279895\n",
      "Iteration 68, loss = 0.09961384\n",
      "Iteration 69, loss = 0.10068262\n",
      "Iteration 70, loss = 0.08942899\n",
      "Iteration 71, loss = 0.09147971\n",
      "Iteration 72, loss = 0.07961599\n",
      "Iteration 73, loss = 0.07675705\n",
      "Iteration 74, loss = 0.07746494\n",
      "Iteration 75, loss = 0.07736953\n",
      "Iteration 76, loss = 0.07518259\n",
      "Iteration 77, loss = 0.07145680\n",
      "Iteration 78, loss = 0.07193490\n",
      "Iteration 79, loss = 0.07809089\n",
      "Iteration 80, loss = 0.07955540\n",
      "Iteration 81, loss = 0.07686508\n",
      "Iteration 82, loss = 0.07046294\n",
      "Iteration 83, loss = 0.07548584\n",
      "Iteration 84, loss = 0.06841758\n",
      "Iteration 85, loss = 0.06799386\n",
      "Iteration 86, loss = 0.06731995\n",
      "Iteration 87, loss = 0.06299242\n",
      "Iteration 88, loss = 0.06292910\n",
      "Iteration 89, loss = 0.06194230\n",
      "Iteration 90, loss = 0.06046300\n",
      "Iteration 91, loss = 0.06465490\n",
      "Iteration 92, loss = 0.06355014\n",
      "Iteration 93, loss = 0.06106212\n",
      "Iteration 94, loss = 0.07595112\n",
      "Iteration 95, loss = 0.06712331\n",
      "Iteration 96, loss = 0.06811949\n",
      "Iteration 97, loss = 0.05868306\n",
      "Iteration 98, loss = 0.05661263\n",
      "Iteration 99, loss = 0.05379271\n",
      "Iteration 100, loss = 0.05491593\n",
      "Iteration 1, loss = 641.25525777\n",
      "Iteration 2, loss = 323.70507259\n",
      "Iteration 3, loss = 177.64110671\n",
      "Iteration 4, loss = 130.84852052\n",
      "Iteration 5, loss = 93.94063396\n",
      "Iteration 6, loss = 57.94328835\n",
      "Iteration 7, loss = 32.92172564\n",
      "Iteration 8, loss = 18.16724136\n",
      "Iteration 9, loss = 10.39416170\n",
      "Iteration 10, loss = 6.86330057\n",
      "Iteration 11, loss = 4.57104860\n",
      "Iteration 12, loss = 3.17939386\n",
      "Iteration 13, loss = 2.08746840\n",
      "Iteration 14, loss = 1.62553353\n",
      "Iteration 15, loss = 1.31528823\n",
      "Iteration 16, loss = 0.92707269\n",
      "Iteration 17, loss = 0.79888646\n",
      "Iteration 18, loss = 0.69103489\n",
      "Iteration 19, loss = 0.65477640\n",
      "Iteration 20, loss = 0.60827145\n",
      "Iteration 21, loss = 0.52910079\n",
      "Iteration 22, loss = 0.49154139\n",
      "Iteration 23, loss = 0.46659143\n",
      "Iteration 24, loss = 0.42399288\n",
      "Iteration 25, loss = 0.38549099\n",
      "Iteration 26, loss = 0.34103123\n",
      "Iteration 27, loss = 0.29392239\n",
      "Iteration 28, loss = 0.26576981\n",
      "Iteration 29, loss = 0.24741331\n",
      "Iteration 30, loss = 0.23667706\n",
      "Iteration 31, loss = 0.20082554\n",
      "Iteration 32, loss = 0.20535573\n",
      "Iteration 33, loss = 0.19703707\n",
      "Iteration 34, loss = 0.17799324\n",
      "Iteration 35, loss = 0.16901058\n",
      "Iteration 36, loss = 0.16239843\n",
      "Iteration 37, loss = 0.14484352\n",
      "Iteration 38, loss = 0.14587697\n",
      "Iteration 39, loss = 0.14138235\n",
      "Iteration 40, loss = 0.15269435\n",
      "Iteration 41, loss = 0.14633239\n",
      "Iteration 42, loss = 0.14065163\n",
      "Iteration 43, loss = 0.14362589\n",
      "Iteration 44, loss = 0.14294321\n",
      "Iteration 45, loss = 0.17429914\n",
      "Iteration 46, loss = 0.16425588\n",
      "Iteration 47, loss = 0.16255051\n",
      "Iteration 48, loss = 0.14092679\n",
      "Iteration 49, loss = 0.15046154\n",
      "Iteration 50, loss = 0.14095713\n",
      "Iteration 51, loss = 0.13376693\n",
      "Iteration 52, loss = 0.13441958\n",
      "Iteration 53, loss = 0.13333937\n",
      "Iteration 54, loss = 0.13626718\n",
      "Iteration 55, loss = 0.13383736\n",
      "Iteration 56, loss = 0.15174384\n",
      "Iteration 57, loss = 0.15766021\n",
      "Iteration 58, loss = 0.15347843\n",
      "Iteration 59, loss = 0.16019196\n",
      "Iteration 60, loss = 0.15237657\n",
      "Iteration 61, loss = 0.13847028\n",
      "Iteration 62, loss = 0.13393076\n",
      "Iteration 63, loss = 0.12529168\n",
      "Iteration 64, loss = 0.12757066\n",
      "Iteration 65, loss = 0.12975967\n",
      "Iteration 66, loss = 0.12604420\n",
      "Iteration 67, loss = 0.12022282\n",
      "Iteration 68, loss = 0.11934305\n",
      "Iteration 69, loss = 0.11836692\n",
      "Iteration 70, loss = 0.12844625\n",
      "Iteration 71, loss = 0.13783935\n",
      "Iteration 72, loss = 0.12452232\n",
      "Iteration 73, loss = 0.14699265\n",
      "Iteration 74, loss = 0.14449964\n",
      "Iteration 75, loss = 0.15334737\n",
      "Iteration 76, loss = 0.14444130\n",
      "Iteration 77, loss = 0.16825144\n",
      "Iteration 78, loss = 0.14308807\n",
      "Iteration 79, loss = 0.14600058\n",
      "Iteration 80, loss = 0.11860922\n",
      "Training loss did not improve more than tol=0.000100 for 10 consecutive epochs. Stopping.\n",
      "Iteration 1, loss = 14668.78622723\n",
      "Iteration 2, loss = 3443.53382649\n",
      "Iteration 3, loss = 3783.46472165\n",
      "Iteration 4, loss = 346.34011482\n",
      "Iteration 5, loss = 1548.59383914\n",
      "Iteration 6, loss = 224.52071395\n",
      "Iteration 7, loss = 403.20446828\n",
      "Iteration 8, loss = 197.53092581\n",
      "Iteration 9, loss = 89.81579177\n",
      "Iteration 10, loss = 94.88975661\n",
      "Iteration 11, loss = 23.01101935\n",
      "Iteration 12, loss = 37.84863109\n",
      "Iteration 13, loss = 7.86993621\n",
      "Iteration 14, loss = 14.17647670\n",
      "Iteration 15, loss = 3.67673849\n",
      "Iteration 16, loss = 5.46000377\n",
      "Iteration 17, loss = 2.28398014\n",
      "Iteration 18, loss = 2.16353684\n",
      "Iteration 19, loss = 1.50111258\n",
      "Iteration 20, loss = 1.10742335\n",
      "Iteration 21, loss = 1.14788141\n",
      "Iteration 22, loss = 0.84244869\n",
      "Iteration 23, loss = 0.90898936\n",
      "Iteration 24, loss = 0.80479463\n",
      "Iteration 25, loss = 0.78216835\n",
      "Iteration 26, loss = 0.74417380\n",
      "Iteration 27, loss = 0.73398161\n",
      "Iteration 28, loss = 0.73842315\n",
      "Iteration 29, loss = 0.69970593\n",
      "Iteration 30, loss = 0.68040286\n",
      "Iteration 31, loss = 0.64646194\n",
      "Iteration 32, loss = 0.60321939\n",
      "Iteration 33, loss = 0.58626145\n",
      "Iteration 34, loss = 0.54194309\n",
      "Iteration 35, loss = 0.49124188\n"
     ]
    },
    {
     "name": "stdout",
     "output_type": "stream",
     "text": [
      "Iteration 36, loss = 0.46059770\n",
      "Iteration 37, loss = 0.39116547\n",
      "Iteration 38, loss = 0.32728340\n",
      "Iteration 39, loss = 0.25524755\n",
      "Iteration 40, loss = 0.18666765\n",
      "Iteration 41, loss = 0.12417481\n",
      "Iteration 42, loss = 0.08688388\n",
      "Iteration 43, loss = 0.06524296\n",
      "Iteration 44, loss = 0.06055143\n",
      "Iteration 45, loss = 0.05055635\n",
      "Iteration 46, loss = 0.06316409\n",
      "Iteration 47, loss = 0.06093767\n",
      "Iteration 48, loss = 0.04624638\n",
      "Iteration 49, loss = 0.04265356\n",
      "Iteration 50, loss = 0.03819600\n",
      "Iteration 51, loss = 0.03357946\n",
      "Iteration 52, loss = 0.03581842\n",
      "Iteration 53, loss = 0.03336304\n",
      "Iteration 54, loss = 0.03216069\n",
      "Iteration 55, loss = 0.03110992\n",
      "Iteration 56, loss = 0.03233683\n",
      "Iteration 57, loss = 0.03320502\n",
      "Iteration 58, loss = 0.03692473\n",
      "Iteration 59, loss = 0.03635369\n",
      "Iteration 60, loss = 0.04163015\n",
      "Iteration 61, loss = 0.03539839\n",
      "Iteration 62, loss = 0.03274934\n",
      "Iteration 63, loss = 0.03784832\n",
      "Iteration 64, loss = 0.03580642\n",
      "Iteration 65, loss = 0.03048194\n",
      "Iteration 66, loss = 0.02782550\n",
      "Iteration 67, loss = 0.02752363\n",
      "Iteration 68, loss = 0.02762182\n",
      "Iteration 69, loss = 0.02702300\n",
      "Iteration 70, loss = 0.02701531\n",
      "Iteration 71, loss = 0.02744369\n",
      "Iteration 72, loss = 0.02728261\n",
      "Iteration 73, loss = 0.02963398\n",
      "Iteration 74, loss = 0.02669196\n",
      "Iteration 75, loss = 0.02707178\n",
      "Iteration 76, loss = 0.02800479\n",
      "Iteration 77, loss = 0.04298481\n",
      "Iteration 78, loss = 0.02998270\n",
      "Iteration 79, loss = 0.02663093\n",
      "Iteration 80, loss = 0.02528820\n",
      "Iteration 81, loss = 0.02584975\n",
      "Iteration 82, loss = 0.02707398\n",
      "Iteration 83, loss = 0.02939955\n",
      "Iteration 84, loss = 0.03118450\n",
      "Iteration 85, loss = 0.03138701\n",
      "Iteration 86, loss = 0.03239309\n",
      "Iteration 87, loss = 0.02734103\n",
      "Iteration 88, loss = 0.02428146\n",
      "Iteration 89, loss = 0.02393113\n",
      "Iteration 90, loss = 0.02660099\n",
      "Iteration 91, loss = 0.02623845\n",
      "Iteration 92, loss = 0.02754148\n",
      "Iteration 93, loss = 0.02580654\n",
      "Iteration 94, loss = 0.02425544\n",
      "Iteration 95, loss = 0.02544452\n",
      "Iteration 96, loss = 0.02398673\n",
      "Iteration 97, loss = 0.03146076\n",
      "Iteration 98, loss = 0.03196788\n",
      "Iteration 99, loss = 0.02519126\n",
      "Iteration 100, loss = 0.02484144\n",
      "Training loss did not improve more than tol=0.000100 for 10 consecutive epochs. Stopping.\n",
      "Iteration 1, loss = 44276.35973462\n",
      "Iteration 2, loss = 2228.16432097\n",
      "Iteration 3, loss = 3414.67553993\n",
      "Iteration 4, loss = 1604.52319092\n",
      "Iteration 5, loss = 139.88330891\n",
      "Iteration 6, loss = 331.68035910\n",
      "Iteration 7, loss = 29.51058631\n",
      "Iteration 8, loss = 47.27949026\n",
      "Iteration 9, loss = 9.27256518\n",
      "Iteration 10, loss = 8.21764039\n",
      "Iteration 11, loss = 3.00081400\n",
      "Iteration 12, loss = 2.83937006\n",
      "Iteration 13, loss = 1.97221803\n",
      "Iteration 14, loss = 1.93869123\n",
      "Iteration 15, loss = 1.74134338\n",
      "Iteration 16, loss = 1.65075525\n",
      "Iteration 17, loss = 1.56570047\n",
      "Iteration 18, loss = 1.46450707\n",
      "Iteration 19, loss = 1.32147448\n",
      "Iteration 20, loss = 1.17627375\n",
      "Iteration 21, loss = 1.01883327\n",
      "Iteration 22, loss = 0.86219202\n",
      "Iteration 23, loss = 0.71307164\n",
      "Iteration 24, loss = 0.59415514\n",
      "Iteration 25, loss = 0.46436318\n",
      "Iteration 26, loss = 0.34549533\n",
      "Iteration 27, loss = 0.26571230\n",
      "Iteration 28, loss = 0.20524289\n",
      "Iteration 29, loss = 0.16108629\n",
      "Iteration 30, loss = 0.12885437\n",
      "Iteration 31, loss = 0.10839033\n",
      "Iteration 32, loss = 0.09557886\n",
      "Iteration 33, loss = 0.08600677\n",
      "Iteration 34, loss = 0.08469776\n",
      "Iteration 35, loss = 0.07938453\n",
      "Iteration 36, loss = 0.07998430\n",
      "Iteration 37, loss = 0.07502565\n",
      "Iteration 38, loss = 0.07520106\n",
      "Iteration 39, loss = 0.07362541\n",
      "Iteration 40, loss = 0.07206807\n",
      "Iteration 41, loss = 0.07502833\n",
      "Iteration 42, loss = 0.07449502\n",
      "Iteration 43, loss = 0.07616037\n",
      "Iteration 44, loss = 0.07029248\n",
      "Iteration 45, loss = 0.08972586\n",
      "Iteration 46, loss = 0.07968180\n",
      "Iteration 47, loss = 0.07302005\n",
      "Iteration 48, loss = 0.07021172\n",
      "Iteration 49, loss = 0.07098794\n",
      "Iteration 50, loss = 0.06840144\n",
      "Iteration 51, loss = 0.07069423\n",
      "Iteration 52, loss = 0.07137080\n",
      "Iteration 53, loss = 0.06673766\n",
      "Iteration 54, loss = 0.06862249\n",
      "Iteration 55, loss = 0.06555137\n",
      "Iteration 56, loss = 0.06693456\n",
      "Iteration 57, loss = 0.06806996\n",
      "Iteration 58, loss = 0.06784622\n",
      "Iteration 59, loss = 0.06597420\n",
      "Iteration 60, loss = 0.06539086\n",
      "Iteration 61, loss = 0.06374913\n",
      "Iteration 62, loss = 0.06348648\n",
      "Iteration 63, loss = 0.06428773\n",
      "Iteration 64, loss = 0.06503352\n",
      "Iteration 65, loss = 0.06364176\n",
      "Iteration 66, loss = 0.06383777\n",
      "Iteration 67, loss = 0.06468737\n",
      "Iteration 68, loss = 0.06730156\n",
      "Iteration 69, loss = 0.06642674\n",
      "Iteration 70, loss = 0.06504325\n",
      "Iteration 71, loss = 0.06889968\n",
      "Iteration 72, loss = 0.06589519\n",
      "Iteration 73, loss = 0.06313215\n",
      "Iteration 74, loss = 0.06340067\n",
      "Iteration 75, loss = 0.06268950\n",
      "Iteration 76, loss = 0.06489660\n",
      "Iteration 77, loss = 0.06823189\n",
      "Iteration 78, loss = 0.07135259\n",
      "Iteration 79, loss = 0.06612535\n",
      "Iteration 80, loss = 0.06410569\n",
      "Iteration 81, loss = 0.06970792\n",
      "Iteration 82, loss = 0.06579404\n",
      "Iteration 83, loss = 0.06571535\n",
      "Iteration 84, loss = 0.06336819\n",
      "Iteration 85, loss = 0.06322575\n",
      "Iteration 86, loss = 0.06363341\n",
      "Training loss did not improve more than tol=0.000100 for 10 consecutive epochs. Stopping.\n",
      "Wall time: 8.08 s\n"
     ]
    },
    {
     "data": {
      "text/plain": [
       "RandomizedSearchCV(cv=2, estimator=MLPRegressor(verbose=True),\n",
       "                   param_distributions={'hidden_layer_sizes': [(100,), (300,),\n",
       "                                                               (200,)],\n",
       "                                        'learning_rate_init': [0.001, 0.002,\n",
       "                                                               0.004],\n",
       "                                        'max_iter': [100, 200, 300, 400, 500,\n",
       "                                                     600],\n",
       "                                        'momentum': [0.7, 0.8, 0.9]})"
      ]
     },
     "execution_count": 69,
     "metadata": {},
     "output_type": "execute_result"
    }
   ],
   "source": [
    "%%time\n",
    "mlp=MLPRegressor(verbose=True) # calling MLP model for training \n",
    "Model_R = RandomizedSearchCV(estimator = mlp, param_distributions = params, cv = 2) #calling search and it will help to get the best parametrs\n",
    "Model_R.fit(X_train, y_train) # Training this model"
   ]
  },
  {
   "cell_type": "markdown",
   "id": "3f4d976e",
   "metadata": {
    "id": "9f092614"
   },
   "source": [
    "### Best Parameter selected"
   ]
  },
  {
   "cell_type": "code",
   "execution_count": 70,
   "id": "f0570b2c",
   "metadata": {
    "id": "fyl8OfE-QW1U",
    "outputId": "6f9a0fc6-6704-4b89-89af-c9f0327cd7e0"
   },
   "outputs": [
    {
     "data": {
      "text/plain": [
       "{'momentum': 0.7,\n",
       " 'max_iter': 100,\n",
       " 'learning_rate_init': 0.001,\n",
       " 'hidden_layer_sizes': (200,)}"
      ]
     },
     "execution_count": 70,
     "metadata": {},
     "output_type": "execute_result"
    }
   ],
   "source": [
    "Model_R.best_params_"
   ]
  },
  {
   "cell_type": "markdown",
   "id": "6be533b0",
   "metadata": {
    "id": "7ca98e87"
   },
   "source": [
    "# Evaluation Measures on Test data"
   ]
  },
  {
   "cell_type": "markdown",
   "id": "af79acb8",
   "metadata": {
    "id": "957be225"
   },
   "source": [
    "# MSE"
   ]
  },
  {
   "cell_type": "code",
   "execution_count": 71,
   "id": "5cb8d071",
   "metadata": {
    "colab": {
     "base_uri": "https://localhost:8080/"
    },
    "id": "c8269343",
    "outputId": "c32a0b18-bd07-4a10-ed2e-b579c4d72081"
   },
   "outputs": [
    {
     "name": "stdout",
     "output_type": "stream",
     "text": [
      "Mean Squared Error:  1.42139\n"
     ]
    }
   ],
   "source": [
    "y_pred_test=Model_R.predict(X_test) # tetsing trained model on test data\n",
    "test_mse3=mean_squared_error(y_test,y_pred_test) # calculating the mse score\n",
    "print('Mean Squared Error: ', round(test_mse3,5)) #pritng the results "
   ]
  },
  {
   "cell_type": "markdown",
   "id": "0817ba44",
   "metadata": {
    "id": "47015631"
   },
   "source": [
    "# MAE"
   ]
  },
  {
   "cell_type": "code",
   "execution_count": 72,
   "id": "97092ce3",
   "metadata": {
    "colab": {
     "base_uri": "https://localhost:8080/"
    },
    "id": "1bbadfe5",
    "outputId": "a09fa46f-d899-48fd-c4b4-4cd39a4087d1"
   },
   "outputs": [
    {
     "name": "stdout",
     "output_type": "stream",
     "text": [
      "Mean Absolute Error:  1.0826\n"
     ]
    }
   ],
   "source": [
    "test_MAE3=mean_absolute_error(y_test,y_pred_test) # calculating the mae score\n",
    "print('Mean Absolute Error: ', round(test_MAE3,5)) #pritng the results "
   ]
  },
  {
   "cell_type": "markdown",
   "id": "7c35e7f4",
   "metadata": {
    "id": "aaa88b65"
   },
   "source": [
    "# RMSE"
   ]
  },
  {
   "cell_type": "code",
   "execution_count": 73,
   "id": "6b228a88",
   "metadata": {
    "colab": {
     "base_uri": "https://localhost:8080/"
    },
    "id": "2bd68540",
    "outputId": "0ca5cd92-19f6-475b-df42-8a86f229a61f"
   },
   "outputs": [
    {
     "name": "stdout",
     "output_type": "stream",
     "text": [
      "Mean Squared Error:  1.19222\n"
     ]
    }
   ],
   "source": [
    "test_rmse3=np.sqrt(test_mse3) # calculating the rmse score\n",
    "print('Mean Squared Error: ', round(test_rmse3,5)) #pritng the results "
   ]
  },
  {
   "cell_type": "markdown",
   "id": "0d99c4e0",
   "metadata": {
    "id": "3aa6dbe6"
   },
   "source": [
    "# MAPE"
   ]
  },
  {
   "cell_type": "code",
   "execution_count": 74,
   "id": "6da2e3fc",
   "metadata": {
    "colab": {
     "base_uri": "https://localhost:8080/"
    },
    "id": "f167a920",
    "outputId": "b69aab3e-40c1-41b1-8b46-4bf09b6512f5"
   },
   "outputs": [
    {
     "name": "stdout",
     "output_type": "stream",
     "text": [
      "Mean Absolute Error:  0.72044\n"
     ]
    }
   ],
   "source": [
    "test_mape3=mean_absolute_percentage_error(y_test,y_pred_test) # calculating the mape score\n",
    "print('Mean Absolute Error: ', round(test_mape3,5)) #pritng the results "
   ]
  },
  {
   "cell_type": "code",
   "execution_count": 75,
   "id": "23f5a65f",
   "metadata": {},
   "outputs": [
    {
     "data": {
      "image/png": "[encoded data removed]",
      "text/plain": [
       "<Figure size 432x288 with 1 Axes>"
      ]
     },
     "metadata": {},
     "output_type": "display_data"
    },
    {
     "data": {
      "image/png": "[encoded data removed]",
      "text/plain": [
       "<Figure size 1296x576 with 1 Axes>"
      ]
     },
     "metadata": {},
     "output_type": "display_data"
    }
   ],
   "source": [
    "df = pd.DataFrame({'Actual': y_test, 'Predicted': y_pred_test})\n",
    "df2 = pd.DataFrame({'train': y_train})\n",
    "ax = df.plot()\n",
    "df2.plot(ax=ax)\n",
    "df.plot(kind='line',figsize=(18,8))\n",
    "plt.grid(which='major', linestyle='-', linewidth='0.5', color='green')\n",
    "plt.grid(which='minor', linestyle=':', linewidth='0.5', color='black')\n",
    "plt.show()"
   ]
  },
  {
   "cell_type": "markdown",
   "id": "c30c6da4",
   "metadata": {
    "id": "a459ec52"
   },
   "source": [
    "# Ridge Regression Model"
   ]
  },
  {
   "cell_type": "markdown",
   "id": "7dd9302f",
   "metadata": {
    "id": "d9bb42f3"
   },
   "source": [
    "### Parametrs"
   ]
  },
  {
   "cell_type": "code",
   "execution_count": 76,
   "id": "4d68986a",
   "metadata": {
    "id": "4874afd8"
   },
   "outputs": [],
   "source": [
    "params = { \n",
    "    'alpha': [1.0,2.0,3.0,4.0],\n",
    "    'max_iter':[100,200,300,400,500],\n",
    "    'tol':[0.001,0.002,0.003,0.004]\n",
    "}"
   ]
  },
  {
   "cell_type": "code",
   "execution_count": 77,
   "id": "637a179f",
   "metadata": {
    "id": "0925241a",
    "outputId": "11aef2f5-3d88-4814-8a83-dde462eb9b6a"
   },
   "outputs": [
    {
     "name": "stdout",
     "output_type": "stream",
     "text": [
      "Wall time: 54.6 ms\n"
     ]
    },
    {
     "data": {
      "text/plain": [
       "RandomizedSearchCV(cv=2, estimator=Ridge(alpha=4.0),\n",
       "                   param_distributions={'alpha': [1.0, 2.0, 3.0, 4.0],\n",
       "                                        'max_iter': [100, 200, 300, 400, 500],\n",
       "                                        'tol': [0.001, 0.002, 0.003, 0.004]})"
      ]
     },
     "execution_count": 77,
     "metadata": {},
     "output_type": "execute_result"
    }
   ],
   "source": [
    "%%time\n",
    "Ridge=linear_model.Ridge(alpha=4.0) # calling Ridge model for training \n",
    "Model_R = RandomizedSearchCV(estimator = Ridge, param_distributions = params, cv = 2) #calling search and it will help to get the best parametrs\n",
    "Model_R.fit(X_train, y_train) # Training this model"
   ]
  },
  {
   "cell_type": "markdown",
   "id": "b59879fe",
   "metadata": {
    "id": "4dca83ab"
   },
   "source": [
    "### Best Parameter selected"
   ]
  },
  {
   "cell_type": "code",
   "execution_count": 78,
   "id": "ddcb9d4d",
   "metadata": {
    "id": "Vm8Cbb6bQW1h",
    "outputId": "8a623602-fb23-44c3-d5ec-be955538fbaa"
   },
   "outputs": [
    {
     "data": {
      "text/plain": [
       "{'tol': 0.001, 'max_iter': 400, 'alpha': 4.0}"
      ]
     },
     "execution_count": 78,
     "metadata": {},
     "output_type": "execute_result"
    }
   ],
   "source": [
    "Model_R.best_params_"
   ]
  },
  {
   "cell_type": "markdown",
   "id": "91392355",
   "metadata": {
    "id": "727564cd"
   },
   "source": [
    "# Evaluation Measures on Test data"
   ]
  },
  {
   "cell_type": "markdown",
   "id": "d1441396",
   "metadata": {
    "id": "d1d13856"
   },
   "source": [
    "# MSE"
   ]
  },
  {
   "cell_type": "code",
   "execution_count": 79,
   "id": "671853a6",
   "metadata": {
    "colab": {
     "base_uri": "https://localhost:8080/"
    },
    "id": "d7d5bd06",
    "outputId": "47a57e92-28a6-4a36-cd0e-3fe62977d265"
   },
   "outputs": [
    {
     "name": "stdout",
     "output_type": "stream",
     "text": [
      "Mean Squared Error:  1.41068\n"
     ]
    }
   ],
   "source": [
    "y_pred_test=Model_R.predict(X_test) # tetsing trained model on test data\n",
    "test_mse7=mean_squared_error(y_test,y_pred_test) # calculating the mse score\n",
    "print('Mean Squared Error: ', round(test_mse7,5)) #pritng the results "
   ]
  },
  {
   "cell_type": "markdown",
   "id": "ed757d3a",
   "metadata": {
    "id": "fe04678f"
   },
   "source": [
    "# MAE"
   ]
  },
  {
   "cell_type": "code",
   "execution_count": 80,
   "id": "1084a885",
   "metadata": {
    "colab": {
     "base_uri": "https://localhost:8080/"
    },
    "id": "fd169d94",
    "outputId": "9a4c4ded-10c7-410c-ea74-6b706bdf0c42"
   },
   "outputs": [
    {
     "name": "stdout",
     "output_type": "stream",
     "text": [
      "Mean Absolute Error:  1.08162\n"
     ]
    }
   ],
   "source": [
    "test_MAE7=mean_absolute_error(y_test,y_pred_test) # calculating the mae score\n",
    "print('Mean Absolute Error: ', round(test_MAE7,5)) #pritng the results "
   ]
  },
  {
   "cell_type": "markdown",
   "id": "8a196b10",
   "metadata": {
    "id": "4824aff6"
   },
   "source": [
    "# RMSE"
   ]
  },
  {
   "cell_type": "code",
   "execution_count": 81,
   "id": "25b3aebf",
   "metadata": {
    "colab": {
     "base_uri": "https://localhost:8080/"
    },
    "id": "23d47100",
    "outputId": "198834f0-d89e-4aa8-8ca8-efb0b5b06d56"
   },
   "outputs": [
    {
     "name": "stdout",
     "output_type": "stream",
     "text": [
      "Mean Squared Error:  1.18772\n"
     ]
    }
   ],
   "source": [
    "test_rmse7=np.sqrt(test_mse7) # calculating the rmse score\n",
    "print('Mean Squared Error: ', round(test_rmse7,5)) #pritng the results "
   ]
  },
  {
   "cell_type": "markdown",
   "id": "ed8ae18d",
   "metadata": {
    "id": "5c6d4fe2"
   },
   "source": [
    "# MAPE"
   ]
  },
  {
   "cell_type": "code",
   "execution_count": 82,
   "id": "14d499f8",
   "metadata": {
    "colab": {
     "base_uri": "https://localhost:8080/"
    },
    "id": "e40f50d2",
    "outputId": "2bdc3d67-297c-439a-d08f-a35145efc391"
   },
   "outputs": [
    {
     "name": "stdout",
     "output_type": "stream",
     "text": [
      "Mean Absolute Error:  0.71914\n"
     ]
    }
   ],
   "source": [
    "test_mape7=mean_absolute_percentage_error(y_test,y_pred_test) # calculating the mape score\n",
    "print('Mean Absolute Error: ', round(test_mape7,5)) #pritng the results "
   ]
  },
  {
   "cell_type": "code",
   "execution_count": 83,
   "id": "2f6caf31",
   "metadata": {},
   "outputs": [
    {
     "data": {
      "image/png": "[encoded data removed]",
      "text/plain": [
       "<Figure size 432x288 with 1 Axes>"
      ]
     },
     "metadata": {},
     "output_type": "display_data"
    },
    {
     "data": {
      "image/png": "[encoded data removed]",
      "text/plain": [
       "<Figure size 1296x576 with 1 Axes>"
      ]
     },
     "metadata": {},
     "output_type": "display_data"
    }
   ],
   "source": [
    "df = pd.DataFrame({'Actual': y_test, 'Predicted': y_pred_test})\n",
    "df2 = pd.DataFrame({'train': y_train})\n",
    "ax = df.plot()\n",
    "df2.plot(ax=ax)\n",
    "df.plot(kind='line',figsize=(18,8))\n",
    "plt.grid(which='major', linestyle='-', linewidth='0.5', color='green')\n",
    "plt.grid(which='minor', linestyle=':', linewidth='0.5', color='black')\n",
    "plt.show()"
   ]
  },
  {
   "cell_type": "markdown",
   "id": "2380653e",
   "metadata": {
    "id": "333f6c2d"
   },
   "source": [
    "# Random Forest Regression Model"
   ]
  },
  {
   "cell_type": "markdown",
   "id": "b8cc41ee",
   "metadata": {
    "id": "1523d015"
   },
   "source": [
    "### Parametrs"
   ]
  },
  {
   "cell_type": "code",
   "execution_count": 84,
   "id": "3c123b36",
   "metadata": {
    "id": "3afa08f8"
   },
   "outputs": [],
   "source": [
    "params = { \n",
    "    'max_depth': [10,20,30,40,50],\n",
    "    'random_state':[10,20,30,40],\n",
    "    'min_samples_leaf':[10,20,30,40,50]\n",
    "}"
   ]
  },
  {
   "cell_type": "code",
   "execution_count": 85,
   "id": "5b0979e0",
   "metadata": {
    "id": "6765e9a6",
    "outputId": "4575fcb7-6f6b-458e-ed7c-2ff698622ab1"
   },
   "outputs": [
    {
     "name": "stdout",
     "output_type": "stream",
     "text": [
      "Wall time: 2.16 s\n"
     ]
    },
    {
     "data": {
      "text/plain": [
       "RandomizedSearchCV(cv=2, estimator=RandomForestRegressor(),\n",
       "                   param_distributions={'max_depth': [10, 20, 30, 40, 50],\n",
       "                                        'min_samples_leaf': [10, 20, 30, 40,\n",
       "                                                             50],\n",
       "                                        'random_state': [10, 20, 30, 40]})"
      ]
     },
     "execution_count": 85,
     "metadata": {},
     "output_type": "execute_result"
    }
   ],
   "source": [
    "%%time\n",
    "RF=RandomForestRegressor() # calling RF model for training \n",
    "Model_R = RandomizedSearchCV(estimator = RF, param_distributions = params, cv = 2) #calling search and it will help to get the best parametrs\n",
    "Model_R.fit(X_train, y_train) # Training this model"
   ]
  },
  {
   "cell_type": "markdown",
   "id": "6197ae8f",
   "metadata": {
    "id": "513cdbd9"
   },
   "source": [
    "### Best Parameter selected"
   ]
  },
  {
   "cell_type": "code",
   "execution_count": 86,
   "id": "2659142e",
   "metadata": {
    "id": "-nqR2I5HQW1l",
    "outputId": "61ee68a3-a80f-4a75-f85d-b029316931d7"
   },
   "outputs": [
    {
     "data": {
      "text/plain": [
       "{'random_state': 10, 'min_samples_leaf': 50, 'max_depth': 50}"
      ]
     },
     "execution_count": 86,
     "metadata": {},
     "output_type": "execute_result"
    }
   ],
   "source": [
    "Model_R.best_params_"
   ]
  },
  {
   "cell_type": "markdown",
   "id": "2d29409f",
   "metadata": {
    "id": "9e0f001e"
   },
   "source": [
    "# Evaluation Measures on Test data"
   ]
  },
  {
   "cell_type": "markdown",
   "id": "242e3c45",
   "metadata": {
    "id": "d65f65e0"
   },
   "source": [
    "# MSE"
   ]
  },
  {
   "cell_type": "code",
   "execution_count": 87,
   "id": "8eff7e84",
   "metadata": {
    "colab": {
     "base_uri": "https://localhost:8080/"
    },
    "id": "d270f9c8",
    "outputId": "ad753567-f48c-4af6-c5b3-96f8617f552d"
   },
   "outputs": [
    {
     "name": "stdout",
     "output_type": "stream",
     "text": [
      "Mean Squared Error:  0.4532\n"
     ]
    }
   ],
   "source": [
    "y_pred_test=Model_R.predict(X_test) # tetsing trained model on test data\n",
    "test_mse8=mean_squared_error(y_test,y_pred_test) # calculating the mse score\n",
    "print('Mean Squared Error: ', round(test_mse8,5)) #pritng the results "
   ]
  },
  {
   "cell_type": "markdown",
   "id": "440d7342",
   "metadata": {
    "id": "80f80d59"
   },
   "source": [
    "# MAE"
   ]
  },
  {
   "cell_type": "code",
   "execution_count": 88,
   "id": "06b7d7d6",
   "metadata": {
    "colab": {
     "base_uri": "https://localhost:8080/"
    },
    "id": "3125ac93",
    "outputId": "0102b3de-9428-4fa9-ff34-53da36c4192b"
   },
   "outputs": [
    {
     "name": "stdout",
     "output_type": "stream",
     "text": [
      "Mean Absolute Error:  0.58591\n"
     ]
    }
   ],
   "source": [
    "test_MAE8=mean_absolute_error(y_test,y_pred_test) # calculating the mae score\n",
    "print('Mean Absolute Error: ', round(test_MAE8,5)) #pritng the results "
   ]
  },
  {
   "cell_type": "markdown",
   "id": "849e240a",
   "metadata": {
    "id": "316796c4"
   },
   "source": [
    "# RMSE"
   ]
  },
  {
   "cell_type": "code",
   "execution_count": 89,
   "id": "db8a9ea6",
   "metadata": {
    "colab": {
     "base_uri": "https://localhost:8080/"
    },
    "id": "8d172dc4",
    "outputId": "19d91c09-6447-4d60-de82-0dfc1470aa8f"
   },
   "outputs": [
    {
     "name": "stdout",
     "output_type": "stream",
     "text": [
      "Mean Squared Error:  0.6732\n"
     ]
    }
   ],
   "source": [
    "test_rmse8=np.sqrt(test_mse8) # calculating the rmse score\n",
    "print('Mean Squared Error: ', round(test_rmse8,5)) #pritng the results "
   ]
  },
  {
   "cell_type": "markdown",
   "id": "bf90e6a3",
   "metadata": {
    "id": "67152a14"
   },
   "source": [
    "# MAPE"
   ]
  },
  {
   "cell_type": "code",
   "execution_count": 90,
   "id": "e2ee6dea",
   "metadata": {
    "colab": {
     "base_uri": "https://localhost:8080/"
    },
    "id": "2a40945b",
    "outputId": "12ebe82e-4d48-43cc-b745-90e794e01ddd"
   },
   "outputs": [
    {
     "name": "stdout",
     "output_type": "stream",
     "text": [
      "Mean Absolute Error:  0.39739\n"
     ]
    }
   ],
   "source": [
    "test_mape8=mean_absolute_percentage_error(y_test,y_pred_test) # calculating the mape score\n",
    "print('Mean Absolute Error: ', round(test_mape8,5)) #pritng the results "
   ]
  },
  {
   "cell_type": "code",
   "execution_count": 91,
   "id": "ceb44279",
   "metadata": {},
   "outputs": [
    {
     "data": {
      "image/png": "[encoded data removed]",
      "text/plain": [
       "<Figure size 432x288 with 1 Axes>"
      ]
     },
     "metadata": {},
     "output_type": "display_data"
    },
    {
     "data": {
      "image/png": "[encoded data removed]",
      "text/plain": [
       "<Figure size 1296x576 with 1 Axes>"
      ]
     },
     "metadata": {},
     "output_type": "display_data"
    }
   ],
   "source": [
    "df = pd.DataFrame({'Actual': y_test, 'Predicted': y_pred_test})\n",
    "df2 = pd.DataFrame({'train': y_train})\n",
    "ax = df.plot()\n",
    "df2.plot(ax=ax)\n",
    "df.plot(kind='line',figsize=(18,8))\n",
    "plt.grid(which='major', linestyle='-', linewidth='0.5', color='green')\n",
    "plt.grid(which='minor', linestyle=':', linewidth='0.5', color='black')\n",
    "plt.show()"
   ]
  },
  {
   "cell_type": "markdown",
   "id": "adec6236",
   "metadata": {
    "id": "62204063"
   },
   "source": [
    "# XGBoost Model"
   ]
  },
  {
   "cell_type": "markdown",
   "id": "3a6b1520",
   "metadata": {
    "id": "bfb72077"
   },
   "source": [
    "### Parametrs"
   ]
  },
  {
   "cell_type": "code",
   "execution_count": 92,
   "id": "3b372ffc",
   "metadata": {
    "id": "05036ff5"
   },
   "outputs": [],
   "source": [
    "params = { \n",
    "    'base_score': [0.1,0.2,0.3,0.4,0.5,0.6],\n",
    "    'learning_rate':[0.1,0.2,0.3],\n",
    "    'n_estimators':[100,200,300,400],\n",
    "    'max_depth':[10,20,30,40,50]\n",
    "    \n",
    "}"
   ]
  },
  {
   "cell_type": "code",
   "execution_count": 93,
   "id": "0d10c04e",
   "metadata": {
    "id": "56a5d60c",
    "outputId": "5e09e0dd-2b33-48e4-84f8-78f8db771825"
   },
   "outputs": [
    {
     "name": "stdout",
     "output_type": "stream",
     "text": [
      "Wall time: 6.5 s\n"
     ]
    },
    {
     "data": {
      "text/plain": [
       "RandomizedSearchCV(cv=2,\n",
       "                   estimator=XGBRegressor(base_score=None, booster=None,\n",
       "                                          colsample_bylevel=None,\n",
       "                                          colsample_bynode=None,\n",
       "                                          colsample_bytree=None,\n",
       "                                          enable_categorical=False, gamma=None,\n",
       "                                          gpu_id=None, importance_type=None,\n",
       "                                          interaction_constraints=None,\n",
       "                                          learning_rate=None,\n",
       "                                          max_delta_step=None, max_depth=None,\n",
       "                                          min_child_weight=None, missing=nan,\n",
       "                                          monotone_constraints=...\n",
       "                                          n_estimators=100, n_jobs=None,\n",
       "                                          num_parallel_tree=None,\n",
       "                                          predictor=None, random_state=None,\n",
       "                                          reg_alpha=None, reg_lambda=None,\n",
       "                                          scale_pos_weight=None, subsample=None,\n",
       "                                          tree_method=None,\n",
       "                                          validate_parameters=None,\n",
       "                                          verbosity=None),\n",
       "                   param_distributions={'base_score': [0.1, 0.2, 0.3, 0.4, 0.5,\n",
       "                                                       0.6],\n",
       "                                        'learning_rate': [0.1, 0.2, 0.3],\n",
       "                                        'max_depth': [10, 20, 30, 40, 50],\n",
       "                                        'n_estimators': [100, 200, 300, 400]})"
      ]
     },
     "execution_count": 93,
     "metadata": {},
     "output_type": "execute_result"
    }
   ],
   "source": [
    "%%time\n",
    "XG=xgboost.XGBRegressor() # calling Xgboost model for training \n",
    "Model_R = RandomizedSearchCV(estimator = XG, param_distributions = params, cv = 2) #calling search and it will help to get the best parametrs\n",
    "Model_R.fit(X_train, y_train) # Training this model"
   ]
  },
  {
   "cell_type": "markdown",
   "id": "a217c7d9",
   "metadata": {
    "id": "6163b9fe"
   },
   "source": [
    "### Best Parameter selected"
   ]
  },
  {
   "cell_type": "code",
   "execution_count": 94,
   "id": "82029dee",
   "metadata": {
    "id": "gMLsvsJlQW1r",
    "outputId": "cb3c937a-f146-415a-9298-d0f1cbb08d40"
   },
   "outputs": [
    {
     "data": {
      "text/plain": [
       "{'n_estimators': 400, 'max_depth': 20, 'learning_rate': 0.1, 'base_score': 0.6}"
      ]
     },
     "execution_count": 94,
     "metadata": {},
     "output_type": "execute_result"
    }
   ],
   "source": [
    "Model_R.best_params_"
   ]
  },
  {
   "cell_type": "markdown",
   "id": "b88f6e50",
   "metadata": {
    "id": "e4bdcd85"
   },
   "source": [
    "# Evaluation Measures on Test data"
   ]
  },
  {
   "cell_type": "markdown",
   "id": "cc07ed6e",
   "metadata": {
    "id": "9de31d6f"
   },
   "source": [
    "# MSE"
   ]
  },
  {
   "cell_type": "code",
   "execution_count": 95,
   "id": "08e30f14",
   "metadata": {
    "colab": {
     "base_uri": "https://localhost:8080/"
    },
    "id": "41499fe7",
    "outputId": "4b5cb1f9-f525-4381-e9aa-a8eb550b47e5"
   },
   "outputs": [
    {
     "name": "stdout",
     "output_type": "stream",
     "text": [
      "Mean Squared Error:  0.34271\n"
     ]
    }
   ],
   "source": [
    "#y_pred_test=Model_R.predict(X_test) # tetsing trained model on test data\n",
    "y_pred_test=Model_R.predict(X_test) # tetsing trained model on test data\n",
    "test_mse9=mean_squared_error(y_test,y_pred_test) # calculating the mse score\n",
    "print('Mean Squared Error: ', round(test_mse9,5)) #pritng the results "
   ]
  },
  {
   "cell_type": "markdown",
   "id": "ff1464a1",
   "metadata": {
    "id": "3a3b72f1"
   },
   "source": [
    "# MAE"
   ]
  },
  {
   "cell_type": "code",
   "execution_count": 96,
   "id": "2287f901",
   "metadata": {
    "colab": {
     "base_uri": "https://localhost:8080/"
    },
    "id": "cc4fea7d",
    "outputId": "2c916d5b-62e6-4db4-a73f-fb96f2e6fdc8"
   },
   "outputs": [
    {
     "name": "stdout",
     "output_type": "stream",
     "text": [
      "Mean Absolute Error:  0.4872\n"
     ]
    }
   ],
   "source": [
    "test_MAE9=mean_absolute_error(y_test,y_pred_test) # calculating the mae score\n",
    "print('Mean Absolute Error: ', round(test_MAE9,5)) #pritng the results "
   ]
  },
  {
   "cell_type": "markdown",
   "id": "9fc51a7e",
   "metadata": {
    "id": "39fa63be"
   },
   "source": [
    "# RMSE"
   ]
  },
  {
   "cell_type": "code",
   "execution_count": 97,
   "id": "277e4575",
   "metadata": {
    "colab": {
     "base_uri": "https://localhost:8080/"
    },
    "id": "6a9e39a4",
    "outputId": "aa84567a-faff-43a5-d8f3-12ccbc4f53bb"
   },
   "outputs": [
    {
     "name": "stdout",
     "output_type": "stream",
     "text": [
      "Mean Squared Error:  0.58541\n"
     ]
    }
   ],
   "source": [
    "test_rmse9=np.sqrt(test_mse9) # calculating the rmse score\n",
    "print('Mean Squared Error: ', round(test_rmse9,5)) #pritng the results "
   ]
  },
  {
   "cell_type": "markdown",
   "id": "c4c2a813",
   "metadata": {
    "id": "6a518a0a"
   },
   "source": [
    "# MAPE"
   ]
  },
  {
   "cell_type": "code",
   "execution_count": 98,
   "id": "da68b466",
   "metadata": {
    "colab": {
     "base_uri": "https://localhost:8080/"
    },
    "id": "0d2862e5",
    "outputId": "2cec732c-5c40-431c-ab76-1b9f133911bd"
   },
   "outputs": [
    {
     "name": "stdout",
     "output_type": "stream",
     "text": [
      "Mean Absolute Error:  0.33619\n"
     ]
    }
   ],
   "source": [
    "test_mape9=mean_absolute_percentage_error(y_test,y_pred_test) # calculating the mape score\n",
    "print('Mean Absolute Error: ', round(test_mape9,5)) #pritng the results "
   ]
  },
  {
   "cell_type": "code",
   "execution_count": 99,
   "id": "6527e596",
   "metadata": {},
   "outputs": [
    {
     "data": {
      "image/png": "[encoded data removed]",
      "text/plain": [
       "<Figure size 432x288 with 1 Axes>"
      ]
     },
     "metadata": {},
     "output_type": "display_data"
    },
    {
     "data": {
      "image/png": "[encoded data removed]",
      "text/plain": [
       "<Figure size 1296x576 with 1 Axes>"
      ]
     },
     "metadata": {},
     "output_type": "display_data"
    }
   ],
   "source": [
    "df = pd.DataFrame({'Actual': y_test, 'Predicted': y_pred_test})\n",
    "df2 = pd.DataFrame({'train': y_train})\n",
    "ax = df.plot()\n",
    "df2.plot(ax=ax)\n",
    "df.plot(kind='line',figsize=(18,8))\n",
    "plt.grid(which='major', linestyle='-', linewidth='0.5', color='green')\n",
    "plt.grid(which='minor', linestyle=':', linewidth='0.5', color='black')\n",
    "plt.show()"
   ]
  },
  {
   "cell_type": "markdown",
   "id": "20e9cb1b",
   "metadata": {
    "id": "661a8b18"
   },
   "source": [
    "# Comparison of all algorithms Results on MSE score"
   ]
  },
  {
   "cell_type": "code",
   "execution_count": 100,
   "id": "fa79aa92",
   "metadata": {
    "colab": {
     "base_uri": "https://localhost:8080/"
    },
    "id": "04a3b908",
    "outputId": "74583119-420c-44c1-e6d2-92aa228e2f03",
    "scrolled": true
   },
   "outputs": [
    {
     "name": "stdout",
     "output_type": "stream",
     "text": [
      "\n",
      "\n",
      "Comparison of all algorithms\n",
      "+-------------------------+-----------+\n",
      "|          Model          | MSE score |\n",
      "+-------------------------+-----------+\n",
      "|     ARIMAX Algorithm    |   0.021   |\n",
      "|    SARIMAX Algorithm    |   0.023   |\n",
      "|      MLP Algorithm      |   1.421   |\n",
      "|     Ridge Algorithm     |   1.411   |\n",
      "| Random Forest Algorithm |   0.453   |\n",
      "|      XGB Algorithm      |   0.343   |\n",
      "+-------------------------+-----------+\n"
     ]
    }
   ],
   "source": [
    "x = PrettyTable() #calling prettytable for the table \n",
    "print('\\n') # for new line \n",
    "print(\"Comparison of all algorithms\") # for  title \n",
    "x.field_names = [\"Model\", \"MSE score\"] # for  column names \n",
    "\n",
    "x.add_row([\"ARIMAX Algorithm\", round(test_mse1,3)]) # for the results of mse \n",
    "x.add_row([\"SARIMAX Algorithm\", round(test_mse2,3)]) # for the results of mse \n",
    "x.add_row([\"MLP Algorithm\", round(test_mse3,3)]) # for the results of mse \n",
    "x.add_row([\"Ridge Algorithm\", round(test_mse7,3)]) # for the results of mse \n",
    "x.add_row([\"Random Forest Algorithm\", round(test_mse8,3)]) # for the results of mse \n",
    "x.add_row([\"XGB Algorithm\", round(test_mse9,3)]) # for the results of mse \n",
    "\n",
    "print(x) # printing the table"
   ]
  },
  {
   "cell_type": "markdown",
   "id": "ebb3f2cd",
   "metadata": {
    "id": "00274d05"
   },
   "source": [
    "# Comparison of all algorithms Results on MAE score"
   ]
  },
  {
   "cell_type": "code",
   "execution_count": 101,
   "id": "0e160b2e",
   "metadata": {
    "colab": {
     "base_uri": "https://localhost:8080/"
    },
    "id": "c7ffca1a",
    "outputId": "a440b270-1b62-48d9-a5dc-980d0c5ea6a6",
    "scrolled": true
   },
   "outputs": [
    {
     "name": "stdout",
     "output_type": "stream",
     "text": [
      "\n",
      "\n",
      "Comparison of all algorithms\n",
      "+-------------------------+-----------+\n",
      "|          Model          | MAE score |\n",
      "+-------------------------+-----------+\n",
      "|     ARIMAX Algorithm    |   0.121   |\n",
      "|    SARIMAX Algorithm    |   0.125   |\n",
      "|      MLP Algorithm      |   1.083   |\n",
      "|     Ridge Algorithm     |   1.082   |\n",
      "| Random Forest Algorithm |   0.586   |\n",
      "|      XGB Algorithm      |   0.487   |\n",
      "+-------------------------+-----------+\n"
     ]
    }
   ],
   "source": [
    "x = PrettyTable() #calling prettytable for the table \n",
    "print('\\n') # for new line \n",
    "print(\"Comparison of all algorithms\") # for  title \n",
    "x.field_names = [\"Model\", \"MAE score\"] # for  column names \n",
    "\n",
    "\n",
    "x.add_row([\"ARIMAX Algorithm\", round(test_MAE1,3)]) # for the results of MAE \n",
    "x.add_row([\"SARIMAX Algorithm\", round(test_MAE2,3)]) # for the results of MAE \n",
    "x.add_row([\"MLP Algorithm\", round(test_MAE3,3)]) # for the results of MAE \n",
    "x.add_row([\"Ridge Algorithm\", round(test_MAE7,3)]) # for the results of MAE  \n",
    "x.add_row([\"Random Forest Algorithm\", round(test_MAE8,3)]) # for the results of MAE \n",
    "x.add_row([\"XGB Algorithm\", round(test_MAE9,3)]) # for the results of MAE \n",
    "\n",
    "print(x) # printing the table"
   ]
  },
  {
   "cell_type": "markdown",
   "id": "5aee9427",
   "metadata": {
    "id": "e565e5df"
   },
   "source": [
    "# Comparison of all algorithms Results on RMSE score"
   ]
  },
  {
   "cell_type": "code",
   "execution_count": 102,
   "id": "04b01854",
   "metadata": {
    "colab": {
     "base_uri": "https://localhost:8080/"
    },
    "id": "f6d34ed7",
    "outputId": "8d0c8a32-99ef-418d-db12-c8acc6d0c37d",
    "scrolled": true
   },
   "outputs": [
    {
     "name": "stdout",
     "output_type": "stream",
     "text": [
      "\n",
      "\n",
      "Comparison of all algorithms\n",
      "+-------------------------+------------+\n",
      "|          Model          | RMSE score |\n",
      "+-------------------------+------------+\n",
      "|     ARIMAX Algorithm    |   0.145    |\n",
      "|    SARIMAX Algorithm    |   0.152    |\n",
      "|      MLP Algorithm      |   1.192    |\n",
      "|     Ridge Algorithm     |   1.188    |\n",
      "| Random Forest Algorithm |   0.673    |\n",
      "|      XGB Algorithm      |   0.585    |\n",
      "+-------------------------+------------+\n",
      "\n",
      "\n"
     ]
    }
   ],
   "source": [
    "x = PrettyTable() #calling prettytable for the table \n",
    "print('\\n') # for new line \n",
    "print(\"Comparison of all algorithms\") # for  title \n",
    "x.field_names = [\"Model\", \"RMSE score\"] # for  column names \n",
    "\n",
    "x.add_row([\"ARIMAX Algorithm\", round(test_rmse1,3)]) # for the results of rmse \n",
    "x.add_row([\"SARIMAX Algorithm\", round(test_rmse2,3)]) # for the results of rmse \n",
    "x.add_row([\"MLP Algorithm\", round(test_rmse3,3)]) # for the results of rmse \n",
    "x.add_row([\"Ridge Algorithm\", round(test_rmse7,3)]) # for the results of rmse \n",
    "x.add_row([\"Random Forest Algorithm\", round(test_rmse8,3)]) # for the results of rmse \n",
    "x.add_row([\"XGB Algorithm\", round(test_rmse9,3)]) # for the results of rmse \n",
    "\n",
    "\n",
    "\n",
    "print(x) # printing the table \n",
    "print('\\n') #new line "
   ]
  },
  {
   "cell_type": "markdown",
   "id": "e8a86123",
   "metadata": {
    "id": "67e4b146"
   },
   "source": [
    "# Comparison of all algorithms Results on MAPE score"
   ]
  },
  {
   "cell_type": "code",
   "execution_count": 103,
   "id": "54c6dc58",
   "metadata": {
    "colab": {
     "base_uri": "https://localhost:8080/"
    },
    "id": "c997a937",
    "outputId": "97ca14ae-88ef-4e06-aeb0-40ae55b3ce39",
    "scrolled": false
   },
   "outputs": [
    {
     "name": "stdout",
     "output_type": "stream",
     "text": [
      "\n",
      "\n",
      "Comparison of all algorithms\n",
      "+-------------------------+------------+\n",
      "|          Model          | MAPE score |\n",
      "+-------------------------+------------+\n",
      "|     ARIMAX Algorithm    |   0.074    |\n",
      "|    SARIMAX Algorithm    |   0.081    |\n",
      "|      MLP Algorithm      |    0.72    |\n",
      "|     Ridge Algorithm     |   0.719    |\n",
      "| Random Forest Algorithm |   0.397    |\n",
      "|      XGB Algorithm      |   0.336    |\n",
      "+-------------------------+------------+\n",
      "\n",
      "\n"
     ]
    }
   ],
   "source": [
    "x = PrettyTable() #calling prettytable for the table \n",
    "print('\\n') # for new line \n",
    "print(\"Comparison of all algorithms\") # for  title \n",
    "x.field_names = [\"Model\", \"MAPE score\"] # for  column names \n",
    "\n",
    "x.add_row([\"ARIMAX Algorithm\", round(test_mape1,3)]) # for the results of mape \n",
    "x.add_row([\"SARIMAX Algorithm\", round(test_mape2,3)]) # for the results of mape \n",
    "x.add_row([\"MLP Algorithm\", round(test_mape3,3)]) # for the results of mape \n",
    "x.add_row([\"Ridge Algorithm\", round(test_mape7,3)]) # for the results of mape \n",
    "x.add_row([\"Random Forest Algorithm\", round(test_mape8,3)]) # for the results of mape \n",
    "x.add_row([\"XGB Algorithm\", round(test_mape9,3)]) # for the results of mape \n",
    "\n",
    "\n",
    "print(x) # printing the table \n",
    "print('\\n') #new line "
   ]
  }
 ],
 "metadata": {
  "colab": {
   "collapsed_sections": [
    "551b0675",
    "d998dc9c",
    "730e175f",
    "81e417ea",
    "84b32d8e",
    "9520a0d9",
    "43e6f9a4",
    "f83f7e20",
    "ad95b17f",
    "33c07bfe",
    "0b6205cc",
    "52333f25",
    "61c9d100",
    "h3QT9P9OMZ-7",
    "0dbc04db",
    "564d00c7",
    "4902bc8d",
    "149b8f12",
    "d65c4cb0",
    "27747d0a",
    "aa537618",
    "aadcaafa",
    "100e989e",
    "f8822ca5",
    "24c7a86b",
    "cd768cce",
    "e5cb8cb1",
    "30ee8f14",
    "24e5d5ba",
    "4321abf1",
    "c6adc85e",
    "264cc82e",
    "dad9a2a5",
    "e30c698e",
    "59fe3989",
    "a6d95fb7",
    "2321c33b",
    "f40c5adf",
    "9b387b65",
    "c610f1c7",
    "2cb40234",
    "6cd46073",
    "036e1457",
    "ca934a25",
    "77738e90",
    "a9b2b0e2",
    "f12a31db",
    "7d0cf697",
    "7ca98e87",
    "957be225",
    "47015631",
    "aaa88b65",
    "3aa6dbe6",
    "d419c43b",
    "fe5606cb",
    "08d19da3",
    "ae158bc8",
    "4254bd69",
    "59cb31c8",
    "49e20662",
    "82f1308f",
    "7176c2ff",
    "845e650b",
    "49cdda7e",
    "1520c012",
    "7db510fc",
    "f1b2e4b5",
    "02ed8d01",
    "d11c5b05",
    "f10d9897",
    "21e75249",
    "bdbec6b8",
    "a459ec52",
    "727564cd",
    "d1d13856",
    "fe04678f",
    "4824aff6",
    "5c6d4fe2",
    "333f6c2d",
    "9e0f001e",
    "d65f65e0",
    "80f80d59",
    "316796c4",
    "67152a14",
    "62204063",
    "e4bdcd85",
    "9de31d6f",
    "3a3b72f1",
    "39fa63be",
    "6a518a0a",
    "d371f31e",
    "776ed253",
    "b5cf2d9c",
    "d0ade074",
    "20050f8e",
    "c95a6a62",
    "47738353",
    "aebc24ae",
    "e4602a85",
    "6ee11c4c",
    "94b6b424",
    "2708f931",
    "661a8b18",
    "00274d05",
    "e565e5df",
    "67e4b146",
    "87f88cfc",
    "01f8f3e4",
    "b60c9078",
    "e5a9877d",
    "4ee06c8d",
    "773bb3ae",
    "98194cd4"
   ],
   "name": "ML Models With Indicators (ADA).ipynb",
   "provenance": []
  },
  "kernelspec": {
   "display_name": "Python 3 (ipykernel)",
   "language": "python",
   "name": "python3"
  },
  "language_info": {
   "codemirror_mode": {
    "name": "ipython",
    "version": 3
   },
   "file_extension": ".py",
   "mimetype": "text/x-python",
   "name": "python",
   "nbconvert_exporter": "python",
   "pygments_lexer": "ipython3",
   "version": "3.8.3"
  }
 },
 "nbformat": 4,
 "nbformat_minor": 5
}
