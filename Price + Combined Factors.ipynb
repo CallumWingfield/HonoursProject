{
 "cells": [
  {
   "cell_type": "markdown",
   "id": "b23d8ab5",
   "metadata": {
    "id": "125a9138"
   },
   "source": [
    "# Importing Python libraries"
   ]
  },
  {
   "cell_type": "code",
   "execution_count": null,
   "id": "3d7a169e",
   "metadata": {
    "colab": {
     "base_uri": "https://localhost:8080/",
     "height": 443
    },
    "id": "f9aadf58",
    "outputId": "e0e41f09-e8ee-4ca4-9509-8bdf8f2f71ff"
   },
   "outputs": [],
   "source": [
    "import numpy as np  # library for numeric calculations   \n",
    "import pandas as pd # library for reading data \n",
    "import seaborn as sns # library for plots \n",
    "from matplotlib import cm # library fo plots \n",
    "import matplotlib.pyplot as plt # library for plots \n",
    "from datetime import datetime # library to get the current time \n",
    "import datetime # library for time \n",
    "from sklearn.metrics import mean_squared_error # library for evaluation  mse \n",
    "from math import sqrt  # library for evaluation  rmse\n",
    "from sklearn.metrics import mean_absolute_error # library for evaluation mae \n",
    "from sklearn.metrics import mean_absolute_percentage_error # library for evaluation  mape\n",
    "from prettytable import PrettyTable # library for for comparison in tables \n",
    "from plotly.subplots import make_subplots # library for plots \n",
    "import plotly.graph_objs as go # library for plots \n",
    "from sklearn.linear_model import LinearRegression # library for linear regression model training \n",
    "import xgboost # library for xgboost model training \n",
    "from sklearn.ensemble import RandomForestRegressor # library for random forest model training \n",
    "from sklearn import linear_model # library for ridge model training \n",
    "from sklearn.neural_network import MLPRegressor # library for Mlp model training \n",
    "from sklearn.svm import SVR # library for SVR model training \n",
    "import re \n",
    "import string\n",
    "from collections import Counter \n",
    "from sklearn import preprocessing\n",
    "from matplotlib import rcParams\n",
    "from sklearn.feature_extraction.text import TfidfVectorizer\n",
    "import tweepy as tw \n",
    "from sklearn.neighbors import KNeighborsRegressor # library for KNN model training \n",
    "from statsmodels.tsa.statespace.sarimax import SARIMAX # library for Sarima model training \n",
    "from keras.models import Model # library for for LSTM model \n",
    "from keras.layers import LSTM, Activation, Input, Embedding # library for LSTM\n",
    "from keras.layers import Activation # library for RNN \n",
    "from keras.models import Sequential # library for RNN \n",
    "from keras.layers import Dense, Conv1D, Flatten, Dropout # library for LSTM\n",
    "import datetime as dt #library for dates \n",
    "from binance import Client #library for getting python binance data\n",
    "from sklearn.model_selection import RandomizedSearchCV #library for seraching best parametr\n",
    "from keras.wrappers.scikit_learn import KerasClassifier #library for neural network model\n",
    "from sklearn.model_selection import GridSearchCV #library for searching best parameter\n",
    "import statsmodels.api as smapi\n",
    "\n",
    "from wordcloud import WordCloud\n",
    "import nltk\n",
    "from nltk import word_tokenize\n",
    "from collections import Counter\n",
    "from nltk.tokenize import RegexpTokenizer\n",
    "from nltk.corpus import stopwords\n",
    "import re\n",
    "import spacy\n",
    "from keras.preprocessing.text import Tokenizer\n",
    "import matplotlib.cm as cm\n",
    "from matplotlib import rcParams\n",
    "from vaderSentiment.vaderSentiment import SentimentIntensityAnalyzer\n",
    "\n",
    "import warnings # library to avoid system erros \n",
    "warnings.filterwarnings(\"ignore\")  # library to avoid system erros "
   ]
  },
  {
   "cell_type": "markdown",
   "id": "b96e0d3c",
   "metadata": {
    "id": "19a6d59e"
   },
   "source": [
    "# ------------------------------------------------------------------------------------------------------"
   ]
  },
  {
   "cell_type": "markdown",
   "id": "8d87931b",
   "metadata": {},
   "source": [
    "## Settings"
   ]
  },
  {
   "cell_type": "code",
   "execution_count": null,
   "id": "2c5fc067",
   "metadata": {},
   "outputs": [],
   "source": [
    "cryptoTicker = \"ETH\"\n",
    "cryptoPair = \"USDT\"\n",
    "\n",
    "finalPair = cryptoTicker+cryptoPair\n",
    "\n",
    "trainTestSplit = 0.8"
   ]
  },
  {
   "cell_type": "markdown",
   "id": "bada6fbd",
   "metadata": {
    "id": "d8d7a44a"
   },
   "source": [
    "# Loading dataset"
   ]
  },
  {
   "cell_type": "code",
   "execution_count": null,
   "id": "2f307c80",
   "metadata": {
    "id": "2ce5bf42"
   },
   "outputs": [],
   "source": [
    "api_key = 'API' \n",
    "api_secret = 'SECRET_API'\n",
    "client = Client(api_key, api_secret)\n",
    "klines = client.get_historical_klines(finalPair, Client.KLINE_INTERVAL_4HOUR, \"2021-01-01\", \"2022-01-01\")\n",
    "data = pd.DataFrame(klines)\n",
    "data.columns = ['open_time','open', 'high', 'low', 'close', 'volume','close_time', 'qav','num_trades','taker_base_vol','taker_quote_vol', 'ignore']\n",
    "data.index = [dt.datetime.fromtimestamp(x/1000.0) for x in data.close_time]\n",
    "data=data[['close']]\n",
    "data = data.iloc[:-1 , :]"
   ]
  },
  {
   "cell_type": "markdown",
   "id": "897296c3",
   "metadata": {
    "id": "ef461f8d"
   },
   "source": [
    "# ------------------------------------------------------------------------------------------------------"
   ]
  },
  {
   "cell_type": "markdown",
   "id": "994d8b77",
   "metadata": {
    "id": "47f7d9eb"
   },
   "source": [
    "# Exploratory Data analysis"
   ]
  },
  {
   "cell_type": "markdown",
   "id": "29c03183",
   "metadata": {
    "id": "ea84d26f"
   },
   "source": [
    "# ------------------------------------------------------------------------------------------------------"
   ]
  },
  {
   "cell_type": "markdown",
   "id": "b97afee2",
   "metadata": {
    "id": "760697cb"
   },
   "source": [
    "### Five top records of data"
   ]
  },
  {
   "cell_type": "code",
   "execution_count": null,
   "id": "b62d812f",
   "metadata": {
    "colab": {
     "base_uri": "https://localhost:8080/",
     "height": 238
    },
    "id": "3299c27a",
    "outputId": "48bc1b27-5eb0-4e89-fa76-cc158091d61e"
   },
   "outputs": [],
   "source": [
    "data.head() # showing the first 5 rows of data"
   ]
  },
  {
   "cell_type": "markdown",
   "id": "27010db2",
   "metadata": {
    "id": "cb60314a"
   },
   "source": [
    "### Five last records of data"
   ]
  },
  {
   "cell_type": "code",
   "execution_count": null,
   "id": "f1374cd7",
   "metadata": {
    "colab": {
     "base_uri": "https://localhost:8080/",
     "height": 238
    },
    "id": "db188544",
    "outputId": "0e7c865f-4d3f-42c1-9382-782725fb5123"
   },
   "outputs": [],
   "source": [
    "data.tail() # showing the last 5 rows of data"
   ]
  },
  {
   "cell_type": "markdown",
   "id": "b17f9c5c",
   "metadata": {
    "id": "af65dd1a"
   },
   "source": [
    "### Coloumns/features in data"
   ]
  },
  {
   "cell_type": "code",
   "execution_count": null,
   "id": "5b6fd0f3",
   "metadata": {
    "colab": {
     "base_uri": "https://localhost:8080/"
    },
    "id": "d413ea4f",
    "outputId": "ad260aca-74c8-47b1-f2e7-94f36e754ce1"
   },
   "outputs": [],
   "source": [
    "data.columns #columns in data"
   ]
  },
  {
   "cell_type": "markdown",
   "id": "369fab6c",
   "metadata": {
    "id": "551b0675"
   },
   "source": [
    "### Length of data"
   ]
  },
  {
   "cell_type": "code",
   "execution_count": null,
   "id": "8e868516",
   "metadata": {
    "colab": {
     "base_uri": "https://localhost:8080/"
    },
    "id": "6b2f088a",
    "outputId": "a995e1e7-db21-4440-a93d-c4be3a88ca68"
   },
   "outputs": [],
   "source": [
    "print('lenght of data is', len(data)) #lenght of data"
   ]
  },
  {
   "cell_type": "markdown",
   "id": "bfd86dba",
   "metadata": {
    "id": "d998dc9c"
   },
   "source": [
    "### Shape of data"
   ]
  },
  {
   "cell_type": "code",
   "execution_count": null,
   "id": "4cedb5c4",
   "metadata": {
    "colab": {
     "base_uri": "https://localhost:8080/"
    },
    "id": "945c79cd",
    "outputId": "9e015bd4-37f7-48ea-a316-a8486c1d5f29"
   },
   "outputs": [],
   "source": [
    "data.shape #shape of data"
   ]
  },
  {
   "cell_type": "markdown",
   "id": "5e2d67ef",
   "metadata": {
    "id": "730e175f"
   },
   "source": [
    "### Data information"
   ]
  },
  {
   "cell_type": "code",
   "execution_count": null,
   "id": "4508de1d",
   "metadata": {
    "colab": {
     "base_uri": "https://localhost:8080/"
    },
    "id": "772fb030",
    "outputId": "edbced32-3d56-4ebb-b7e5-12c73071f6a6",
    "scrolled": false
   },
   "outputs": [],
   "source": [
    "data.info() #information of data "
   ]
  },
  {
   "cell_type": "markdown",
   "id": "19685c2f",
   "metadata": {
    "id": "81e417ea"
   },
   "source": [
    "### Data types of all coloumns"
   ]
  },
  {
   "cell_type": "code",
   "execution_count": null,
   "id": "50f7920b",
   "metadata": {
    "colab": {
     "base_uri": "https://localhost:8080/"
    },
    "id": "848e9497",
    "outputId": "8bc13b78-9b69-4e6b-e643-69f247151c98"
   },
   "outputs": [],
   "source": [
    "data.dtypes #data types of data"
   ]
  },
  {
   "cell_type": "markdown",
   "id": "e4967782",
   "metadata": {
    "id": "84b32d8e"
   },
   "source": [
    "### Checking missing Values"
   ]
  },
  {
   "cell_type": "code",
   "execution_count": null,
   "id": "ab9721e2",
   "metadata": {
    "colab": {
     "base_uri": "https://localhost:8080/",
     "height": 81
    },
    "id": "78945cb8",
    "outputId": "1cf3a6f6-947f-4223-d34c-670f9179811c",
    "scrolled": true
   },
   "outputs": [],
   "source": [
    "data[data.isnull().any(axis=1)].head() #checking the null values "
   ]
  },
  {
   "cell_type": "markdown",
   "id": "80774a10",
   "metadata": {
    "id": "9520a0d9"
   },
   "source": [
    "### Count of missing values"
   ]
  },
  {
   "cell_type": "code",
   "execution_count": null,
   "id": "3daacf61",
   "metadata": {
    "colab": {
     "base_uri": "https://localhost:8080/"
    },
    "id": "d66325ae",
    "outputId": "e8f6bcc8-2bdf-45ff-dcca-04ce8cd2b132",
    "scrolled": true
   },
   "outputs": [],
   "source": [
    "np.sum(data.isnull().any(axis=1)) #checking the null values "
   ]
  },
  {
   "cell_type": "markdown",
   "id": "5ec84f17",
   "metadata": {
    "id": "43e6f9a4"
   },
   "source": [
    "### Is there any missing values?"
   ]
  },
  {
   "cell_type": "code",
   "execution_count": null,
   "id": "8aeae35f",
   "metadata": {
    "colab": {
     "base_uri": "https://localhost:8080/"
    },
    "id": "9fdde10e",
    "outputId": "0159a14f-6452-4083-ec87-9fad323b8fdf"
   },
   "outputs": [],
   "source": [
    "data.isnull().values.any() #checking the null values "
   ]
  },
  {
   "cell_type": "markdown",
   "id": "9b1ac935",
   "metadata": {
    "id": "f83f7e20"
   },
   "source": [
    "### Counts of missing values in each column"
   ]
  },
  {
   "cell_type": "code",
   "execution_count": null,
   "id": "e06bb346",
   "metadata": {
    "colab": {
     "base_uri": "https://localhost:8080/"
    },
    "id": "9b4aeb06",
    "outputId": "82bbb771-b717-460e-d9e8-f52eb130e92b",
    "scrolled": true
   },
   "outputs": [],
   "source": [
    "data.isnull().sum() #checking the null values columns wise "
   ]
  },
  {
   "cell_type": "markdown",
   "id": "c99fa668",
   "metadata": {
    "id": "ad95b17f"
   },
   "source": [
    "### Data Description"
   ]
  },
  {
   "cell_type": "code",
   "execution_count": null,
   "id": "19e38c23",
   "metadata": {
    "colab": {
     "base_uri": "https://localhost:8080/",
     "height": 300
    },
    "id": "e32672b5",
    "outputId": "7409e169-40a9-4b0f-e2ad-3290532ef18b"
   },
   "outputs": [],
   "source": [
    "data.describe() # statics of data "
   ]
  },
  {
   "cell_type": "code",
   "execution_count": null,
   "id": "62231693",
   "metadata": {
    "id": "e77903df"
   },
   "outputs": [],
   "source": [
    "data['close']=data['close'].astype(float)"
   ]
  },
  {
   "cell_type": "markdown",
   "id": "c5299f14",
   "metadata": {
    "id": "33c07bfe"
   },
   "source": [
    "### Spliting date into day, month and year"
   ]
  },
  {
   "cell_type": "code",
   "execution_count": null,
   "id": "3c5de576",
   "metadata": {
    "id": "2fb1622f"
   },
   "outputs": [],
   "source": [
    "data['date'] = data.index # taking dates in date column \n",
    "data['Month'] = data['date'].dt.month # extracting months from data\n",
    "data['Day'] = data['date'].dt.day # extracting day from data\n",
    "data['Year'] = data['date'].dt.year # extracting year from data\n",
    "data['Hour'] = data['date'].dt.hour # extracting year from data\n",
    "data['Minutes'] = data['date'].dt.minute # extracting year from data"
   ]
  },
  {
   "cell_type": "markdown",
   "id": "4689ba7a",
   "metadata": {
    "id": "0b6205cc"
   },
   "source": [
    "### Close price with respect to year "
   ]
  },
  {
   "cell_type": "code",
   "execution_count": null,
   "id": "a6eb330d",
   "metadata": {
    "colab": {
     "base_uri": "https://localhost:8080/",
     "height": 295
    },
    "id": "c0660123",
    "outputId": "ae3e7a71-0761-4072-b9c1-011ce7a3bb8e"
   },
   "outputs": [],
   "source": [
    "sns.barplot(x='Year', y='close', data=data).set(title='Year vs Close') # plotting the comparison of year and close price\n",
    "plt.show() #showing the plot "
   ]
  },
  {
   "cell_type": "markdown",
   "id": "540b2196",
   "metadata": {
    "id": "52333f25"
   },
   "source": [
    "### Close price with respect to Month "
   ]
  },
  {
   "cell_type": "code",
   "execution_count": null,
   "id": "bbe4932a",
   "metadata": {
    "colab": {
     "base_uri": "https://localhost:8080/",
     "height": 295
    },
    "id": "680be666",
    "outputId": "fe86c1d7-a4bc-425b-b146-ab5eef0309f8"
   },
   "outputs": [],
   "source": [
    "sns.barplot(x='Month', y='close', data=data).set(title='Year vs Close')  # plotting the comparison of month and close price\n",
    "plt.show() #showing the plot "
   ]
  },
  {
   "cell_type": "markdown",
   "id": "388521a3",
   "metadata": {
    "id": "61c9d100"
   },
   "source": [
    "### Close price with respect to Hour "
   ]
  },
  {
   "cell_type": "code",
   "execution_count": null,
   "id": "c7ab0f37",
   "metadata": {
    "colab": {
     "base_uri": "https://localhost:8080/",
     "height": 295
    },
    "id": "IdsoIhSyMZ-7",
    "outputId": "fe86c1d7-a4bc-425b-b146-ab5eef0309f8"
   },
   "outputs": [],
   "source": [
    "sns.barplot(x='Hour', y='close', data=data).set(title='Hours vs Close')  # plotting the comparison of month and close price\n",
    "plt.show() #showing the plot "
   ]
  },
  {
   "cell_type": "markdown",
   "id": "37f1fdf1",
   "metadata": {
    "id": "h3QT9P9OMZ-7"
   },
   "source": [
    "### Close price with respect to Minutes "
   ]
  },
  {
   "cell_type": "code",
   "execution_count": null,
   "id": "acf86bca",
   "metadata": {
    "colab": {
     "base_uri": "https://localhost:8080/",
     "height": 295
    },
    "id": "D5hlaWybMZ-7",
    "outputId": "fe86c1d7-a4bc-425b-b146-ab5eef0309f8"
   },
   "outputs": [],
   "source": [
    "sns.barplot(x='Minutes', y='close', data=data).set(title='Minutes vs Close')  # plotting the comparison of month and close price\n",
    "plt.show() #showing the plot "
   ]
  },
  {
   "cell_type": "markdown",
   "id": "a33ad2a8",
   "metadata": {
    "id": "0dbc04db"
   },
   "source": [
    "# ------------------------------------------------------------------------------------------------------"
   ]
  },
  {
   "cell_type": "markdown",
   "id": "8576efe7",
   "metadata": {
    "id": "564d00c7"
   },
   "source": [
    "# Data Visualization"
   ]
  },
  {
   "cell_type": "markdown",
   "id": "543de5ce",
   "metadata": {
    "id": "4902bc8d"
   },
   "source": [
    "# ------------------------------------------------------------------------------------------------------"
   ]
  },
  {
   "cell_type": "markdown",
   "id": "3580a49b",
   "metadata": {
    "id": "149b8f12"
   },
   "source": [
    "### CLOSE price values plot"
   ]
  },
  {
   "cell_type": "code",
   "execution_count": null,
   "id": "2507abfc",
   "metadata": {
    "colab": {
     "base_uri": "https://localhost:8080/",
     "height": 606
    },
    "id": "8083d346",
    "outputId": "dfc78df2-36fb-4984-9fe0-f69c72a0c954"
   },
   "outputs": [],
   "source": [
    "plt.figure(figsize=(20, 10)) #setting the width and height of the plot \n",
    "plt.subplot(1,1,1) #plot setting \n",
    "plt.plot(data.index, data['close'].values,color='orange',label='CLOSE') # plotting Close price \n",
    "plt.xlabel('Count of all') # x axis \n",
    "plt.ylabel('count of each record') # y axis \n",
    "plt.legend(loc='best') #legend name as Close \n",
    "plt.show() # showing the plot "
   ]
  },
  {
   "cell_type": "markdown",
   "id": "bfc4ebe0",
   "metadata": {
    "id": "d65c4cb0"
   },
   "source": [
    "# ------------------------------------------------------------------------------------------------------"
   ]
  },
  {
   "cell_type": "markdown",
   "id": "d2b3c7c9",
   "metadata": {
    "id": "27747d0a"
   },
   "source": [
    "# Extracting the Indicators"
   ]
  },
  {
   "cell_type": "markdown",
   "id": "d88e5dae",
   "metadata": {
    "id": "aa537618"
   },
   "source": [
    "# ------------------------------------------------------------------------------------------------------"
   ]
  },
  {
   "cell_type": "markdown",
   "id": "633c0915",
   "metadata": {
    "id": "aadcaafa"
   },
   "source": [
    "### EMA and SMA "
   ]
  },
  {
   "cell_type": "markdown",
   "id": "fdb5985b",
   "metadata": {
    "id": "100e989e"
   },
   "source": [
    "### Moving average features"
   ]
  },
  {
   "cell_type": "code",
   "execution_count": null,
   "id": "d39479d5",
   "metadata": {
    "colab": {
     "base_uri": "https://localhost:8080/",
     "height": 542
    },
    "id": "3995d7af",
    "outputId": "a0886cb7-c053-4b3b-f4e2-e9496699b270"
   },
   "outputs": [],
   "source": [
    "data['EMA_50'] = data['close'].ewm(50).mean().shift() # calculting the ema 50\n",
    "data['EMA_200'] =data['close'].ewm(200).mean().shift() # calculting the ema 200\n",
    "data['MA_50'] = data['close'].rolling(50).mean() # calculting the ma 50\n",
    "data['MA_200'] = data['close'].rolling(200).mean() # calculting the ma 200\n",
    "fig = go.Figure() #plot setting \n",
    "fig.add_trace(go.Scatter(x=data.index, y=data.EMA_50, name='EMA 50')) # plotting the ema 50\n",
    "fig.add_trace(go.Scatter(x=data.index, y=data.EMA_200, name='EMA 200')) # plotting the ema 200\n",
    "fig.add_trace(go.Scatter(x=data.index, y=data.close, name='close', line_color='dimgray', opacity=0.3)) # plotting the close\n",
    "fig.show() #showing the plot "
   ]
  },
  {
   "cell_type": "code",
   "execution_count": null,
   "id": "0b438f13",
   "metadata": {
    "colab": {
     "base_uri": "https://localhost:8080/",
     "height": 542
    },
    "id": "68aea515",
    "outputId": "99f62a0a-289c-46c2-d2ef-6ce8c62a66de"
   },
   "outputs": [],
   "source": [
    "fig = go.Figure() #plot setting \n",
    "fig.add_trace(go.Scatter(x=data.index, y=data.MA_50, name='MA 50')) # plotting the ma 50\n",
    "fig.add_trace(go.Scatter(x=data.index, y=data.MA_200, name='MA 200')) # plotting the ma 200\n",
    "fig.add_trace(go.Scatter(x=data.index, y=data.close, name='close', line_color='dimgray', opacity=0.3)) # plotting the close \n",
    "fig.show() # showing plot "
   ]
  },
  {
   "cell_type": "markdown",
   "id": "1872a5e5",
   "metadata": {
    "id": "f8822ca5"
   },
   "source": [
    "# Final Data after features extraction and preparation"
   ]
  },
  {
   "cell_type": "code",
   "execution_count": null,
   "id": "f5252d75",
   "metadata": {
    "colab": {
     "base_uri": "https://localhost:8080/",
     "height": 455
    },
    "id": "2b3f2ad1",
    "outputId": "8e5cfab7-c010-41ed-894f-3c68b70d6618"
   },
   "outputs": [],
   "source": [
    "data=data.tail(len(data)-200) # ignoring the first 200 rows as there are Nan/missing values \n",
    "data #data "
   ]
  },
  {
   "cell_type": "markdown",
   "id": "e3dcea97",
   "metadata": {
    "id": "cd768cce"
   },
   "source": [
    "# -----------------------------------------------------------------------------------------------------------"
   ]
  },
  {
   "cell_type": "markdown",
   "id": "7632e9c7",
   "metadata": {},
   "source": [
    "### Loading the whale data"
   ]
  },
  {
   "cell_type": "code",
   "execution_count": null,
   "id": "ef88dbb0",
   "metadata": {},
   "outputs": [],
   "source": [
    "priceData=pd.read_csv('Datasets/dataFileWhale' + cryptoTicker + '.csv')"
   ]
  },
  {
   "cell_type": "code",
   "execution_count": null,
   "id": "6d638f3a",
   "metadata": {},
   "outputs": [],
   "source": [
    "li = priceData['tweet'].str.lower().str.cat(sep=' ')"
   ]
  },
  {
   "cell_type": "markdown",
   "id": "e8628960",
   "metadata": {},
   "source": [
    "# Getting Tokenization of the text"
   ]
  },
  {
   "cell_type": "code",
   "execution_count": null,
   "id": "3b2e1728",
   "metadata": {},
   "outputs": [],
   "source": [
    "priceData = priceData[['date','time','tweet']]\n",
    "priceData['tweet'].head()"
   ]
  },
  {
   "cell_type": "code",
   "execution_count": null,
   "id": "721cd629",
   "metadata": {},
   "outputs": [],
   "source": [
    "#nums = re.findall(r'\\b\\d{1,3}(?:,\\d{3})*(?:\\.\\d+)?(?!\\d)', data['tweet'][0]\n",
    "#data['amountTransfer'] = re.findall(r'\\b\\d{1,3}(?:,\\d{3})*(?:\\.\\d+)?(?!\\d)', data['tweet'])[0]\n",
    "priceData['amountTransfer'] = priceData['tweet'].str.findall(r'\\b\\d{1,3}(?:,\\d{3})*(?:\\.\\d+)?(?!\\d)')\n",
    "priceData['amountTransfer'] = priceData['amountTransfer'].str[1]"
   ]
  },
  {
   "cell_type": "code",
   "execution_count": null,
   "id": "35175b35",
   "metadata": {},
   "outputs": [],
   "source": [
    "data['whaleCount'] = 0"
   ]
  },
  {
   "cell_type": "code",
   "execution_count": null,
   "id": "e2cd2894",
   "metadata": {
    "scrolled": true
   },
   "outputs": [],
   "source": [
    "for i, row in enumerate(priceData.itertuples(), 1):\n",
    "    if row.time >= \"00:00:00\" and row.time < \"04:00:00\":\n",
    "        if int(row.amountTransfer.replace(\",\",\"\")) > 50000000:\n",
    "            data.loc[data['date'] == (row.date + \" \" + \"03:59:59\" + \".999\"), 'whaleCount'] += 2\n",
    "        else:\n",
    "            data.loc[data['date'] == (row.date + \" \" + \"03:59:59\" + \".999\"), 'whaleCount'] += 1\n",
    "    elif row.time >= \"04:00:00\" and row.time < \"08:00:00\":\n",
    "        if int(row.amountTransfer.replace(\",\",\"\")) > 50000000:\n",
    "            data.loc[data['date'] == (row.date + \" \" + \"07:59:59\" + \".999\"), 'whaleCount'] += 2\n",
    "        else:\n",
    "            data.loc[data['date'] == (row.date + \" \" + \"07:59:59\" + \".999\"), 'whaleCount'] += 1\n",
    "    elif row.time >= \"08:00:00\" and row.time < \"12:00:00\":\n",
    "        if int(row.amountTransfer.replace(\",\",\"\")) > 50000000:\n",
    "            data.loc[data['date'] == (row.date + \" \" + \"11:59:59\" + \".999\"), 'whaleCount'] += 2\n",
    "        else:\n",
    "            data.loc[data['date'] == (row.date + \" \" + \"11:59:59\" + \".999\"), 'whaleCount'] += 1\n",
    "    elif row.time >= \"12:00:00\" and row.time < \"16:00:00\":\n",
    "        if int(row.amountTransfer.replace(\",\",\"\")) > 50000000:\n",
    "            data.loc[data['date'] == (row.date + \" \" + \"15:59:59\" + \".999\"), 'whaleCount'] += 2\n",
    "        else:\n",
    "            data.loc[data['date'] == (row.date + \" \" + \"15:59:59\" + \".999\"), 'whaleCount'] += 1\n",
    "    elif row.time >= \"16:00:00\" and row.time < \"20:00:00\":\n",
    "        if int(row.amountTransfer.replace(\",\",\"\")) > 50000000:\n",
    "            data.loc[data['date'] == (row.date + \" \" + \"19:59:59\" + \".999\"), 'whaleCount'] += 2\n",
    "        else:\n",
    "            data.loc[data['date'] == (row.date + \" \" + \"19:59:59\" + \".999\"), 'whaleCount'] += 1\n",
    "    else:\n",
    "        if int(row.amountTransfer.replace(\",\",\"\")) > 50000000:\n",
    "            data.loc[data['date'] == (row.date + \" \" + \"23:59:59\" + \".999\"), 'whaleCount'] += 2\n",
    "        else:\n",
    "            data.loc[data['date'] == (row.date + \" \" + \"23:59:59\" + \".999\"), 'whaleCount'] += 1"
   ]
  },
  {
   "cell_type": "markdown",
   "id": "e5507906",
   "metadata": {},
   "source": [
    "# -----------------------------------------------------------------------------------------------------------"
   ]
  },
  {
   "cell_type": "markdown",
   "id": "9a7b58eb",
   "metadata": {},
   "source": [
    "### Loading the twitter data"
   ]
  },
  {
   "cell_type": "code",
   "execution_count": null,
   "id": "d427a634",
   "metadata": {},
   "outputs": [],
   "source": [
    "sentData=pd.read_csv('Datasets/dataFile' + cryptoTicker + '.csv')"
   ]
  },
  {
   "cell_type": "code",
   "execution_count": null,
   "id": "5e6a2da7",
   "metadata": {},
   "outputs": [],
   "source": [
    "li = sentData['tweet'].str.lower().str.cat(sep=' ')"
   ]
  },
  {
   "cell_type": "markdown",
   "id": "d2f9de67",
   "metadata": {},
   "source": [
    "# Removing punctuation,numbers and returns list of words"
   ]
  },
  {
   "cell_type": "code",
   "execution_count": null,
   "id": "48d5a231",
   "metadata": {},
   "outputs": [],
   "source": [
    "li2 = re.sub('[^A-Za-z]+', ' ', li)"
   ]
  },
  {
   "cell_type": "markdown",
   "id": "c2c25341",
   "metadata": {},
   "source": [
    "# Removing the stopwords from the text"
   ]
  },
  {
   "cell_type": "code",
   "execution_count": null,
   "id": "4fcbe70a",
   "metadata": {},
   "outputs": [],
   "source": [
    "nltk.download('stopwords')\n",
    "nltk.download('punkt')\n",
    "stop_words = stopwords.words('english')        \n",
    "nltk_words = list(stopwords.words('english'))   \n",
    "stop_words.extend(nltk_words)"
   ]
  },
  {
   "cell_type": "markdown",
   "id": "78446f1f",
   "metadata": {},
   "source": [
    "# Getting Tokenization of the text"
   ]
  },
  {
   "cell_type": "code",
   "execution_count": null,
   "id": "e72c63c7",
   "metadata": {},
   "outputs": [],
   "source": [
    "word_tokens = word_tokenize(li2)\n",
    "filtered_sentence = [w for w in word_tokens if not w in stop_words]\n",
    "filtered_sentence = []\n",
    "for w in word_tokens:\n",
    "    if w not in stop_words:\n",
    "        filtered_sentence.append(w)"
   ]
  },
  {
   "cell_type": "markdown",
   "id": "f9978afa",
   "metadata": {},
   "source": [
    "# Removing characters which have length less than 2  "
   ]
  },
  {
   "cell_type": "code",
   "execution_count": null,
   "id": "4db89a72",
   "metadata": {},
   "outputs": [],
   "source": [
    "without_single_chr = [word for word in filtered_sentence if len(word) > 2]"
   ]
  },
  {
   "cell_type": "markdown",
   "id": "06870149",
   "metadata": {},
   "source": [
    "# Removing numbers"
   ]
  },
  {
   "cell_type": "code",
   "execution_count": null,
   "id": "1d30ecde",
   "metadata": {},
   "outputs": [],
   "source": [
    "cleaned_data_title = [word for word in without_single_chr if not word.isnumeric()]"
   ]
  },
  {
   "cell_type": "markdown",
   "id": "3a7bd273",
   "metadata": {},
   "source": [
    "# Frequency distribution of aspect words "
   ]
  },
  {
   "cell_type": "code",
   "execution_count": null,
   "id": "acec3736",
   "metadata": {},
   "outputs": [],
   "source": [
    "word_dist = nltk.FreqDist(cleaned_data_title)\n",
    "top100_words = pd.DataFrame(word_dist.most_common(100),\n",
    "                    columns=['Word', 'Frequency'])"
   ]
  },
  {
   "cell_type": "code",
   "execution_count": null,
   "id": "0e6d5a1e",
   "metadata": {},
   "outputs": [],
   "source": [
    "plt.figure(figsize=(10,10))\n",
    "sns.set_style(\"whitegrid\")\n",
    "ax = sns.barplot(x=\"Frequency\",y=\"Word\", data=top100_words.head(10))"
   ]
  },
  {
   "cell_type": "markdown",
   "id": "9181be45",
   "metadata": {},
   "source": [
    "# SentimentIntensityAnalyzer for getting sentiments"
   ]
  },
  {
   "cell_type": "code",
   "execution_count": null,
   "id": "47c7ddf7",
   "metadata": {},
   "outputs": [],
   "source": [
    "sent_analyser = SentimentIntensityAnalyzer()\n",
    "def sentiment(text):\n",
    "    return (sent_analyser.polarity_scores(text)[\"compound\"])"
   ]
  },
  {
   "cell_type": "code",
   "execution_count": null,
   "id": "bbd8f2a4",
   "metadata": {},
   "outputs": [],
   "source": [
    "sentData[\"Polarity\"] = sentData[\"tweet\"].apply(sentiment)"
   ]
  },
  {
   "cell_type": "code",
   "execution_count": null,
   "id": "13cc378b",
   "metadata": {},
   "outputs": [],
   "source": [
    "sentData = sentData[['date','time','tweet','Polarity']]"
   ]
  },
  {
   "cell_type": "code",
   "execution_count": null,
   "id": "054284a4",
   "metadata": {},
   "outputs": [],
   "source": [
    "sentData.tail()"
   ]
  },
  {
   "cell_type": "markdown",
   "id": "53322077",
   "metadata": {},
   "source": [
    "# Getting sentiments based on the popularity score"
   ]
  },
  {
   "cell_type": "code",
   "execution_count": null,
   "id": "45a1c2c3",
   "metadata": {},
   "outputs": [],
   "source": [
    "def sentiments(data):\n",
    "    if data['Polarity'] >= 0.05:\n",
    "        val = \"Positive\"\n",
    "    elif data['Polarity'] <= -0.05:\n",
    "        val = \"Negative\"\n",
    "    else:\n",
    "        val = \"Neutral\"\n",
    "    return val"
   ]
  },
  {
   "cell_type": "code",
   "execution_count": null,
   "id": "1a0633e2",
   "metadata": {},
   "outputs": [],
   "source": [
    "sentData['Sentiments'] = sentData.apply(sentiments, axis=1)"
   ]
  },
  {
   "cell_type": "markdown",
   "id": "026d9636",
   "metadata": {},
   "source": [
    "# sentiments with their counts"
   ]
  },
  {
   "cell_type": "code",
   "execution_count": null,
   "id": "bacd6e6e",
   "metadata": {},
   "outputs": [],
   "source": [
    "sentData['Sentiments'].value_counts()"
   ]
  },
  {
   "cell_type": "code",
   "execution_count": null,
   "id": "beaca387",
   "metadata": {},
   "outputs": [],
   "source": [
    "sentData.iloc[:25]"
   ]
  },
  {
   "cell_type": "code",
   "execution_count": null,
   "id": "94ae1d3b",
   "metadata": {},
   "outputs": [],
   "source": [
    "data['sentimentCount'] = 0"
   ]
  },
  {
   "cell_type": "code",
   "execution_count": null,
   "id": "4aa8ea28",
   "metadata": {},
   "outputs": [],
   "source": [
    "for i, row in enumerate(sentData.itertuples(), 1):\n",
    "    if row.time >= \"00:00:00\" and row.time < \"04:00:00\":\n",
    "        if row.Sentiments == \"Positive\":\n",
    "            data.loc[data['date'] == (row.date + \" \" + \"03:59:59\" + \".999\"), 'sentimentCount'] += 1\n",
    "        elif row.Sentiments == \"Negative\":\n",
    "            data.loc[data['date'] == (row.date + \" \" + \"03:59:59\" + \".999\"), 'sentimentCount'] -= 1\n",
    "    elif row.time >= \"04:00:00\" and row.time < \"08:00:00\":\n",
    "        if row.Sentiments == \"Positive\":\n",
    "            data.loc[data['date'] == (row.date + \" \" + \"07:59:59\" + \".999\"), 'sentimentCount'] += 1\n",
    "        elif row.Sentiments == \"Negative\":\n",
    "            data.loc[data['date'] == (row.date + \" \" + \"07:59:59\" + \".999\"), 'sentimentCount'] -= 1\n",
    "    elif row.time >= \"08:00:00\" and row.time < \"12:00:00\":\n",
    "        if row.Sentiments == \"Positive\":\n",
    "            data.loc[data['date'] == (row.date + \" \" + \"11:59:59\" + \".999\"), 'sentimentCount'] += 1\n",
    "        elif row.Sentiments == \"Negative\":\n",
    "            data.loc[data['date'] == (row.date + \" \" + \"11:59:59\" + \".999\"), 'sentimentCount'] -= 1\n",
    "    elif row.time >= \"12:00:00\" and row.time < \"16:00:00\":\n",
    "        if row.Sentiments == \"Positive\":\n",
    "            data.loc[data['date'] == (row.date + \" \" + \"15:59:59\" + \".999\"), 'sentimentCount'] += 1\n",
    "        elif row.Sentiments == \"Negative\":\n",
    "            data.loc[data['date'] == (row.date + \" \" + \"15:59:59\" + \".999\"), 'sentimentCount'] -= 1\n",
    "    elif row.time >= \"16:00:00\" and row.time < \"20:00:00\":\n",
    "        if row.Sentiments == \"Positive\":\n",
    "            data.loc[data['date'] == (row.date + \" \" + \"19:59:59\" + \".999\"), 'sentimentCount'] += 1\n",
    "        elif row.Sentiments == \"Negative\":\n",
    "            data.loc[data['date'] == (row.date + \" \" + \"19:59:59\" + \".999\"), 'sentimentCount'] -= 1\n",
    "    else:\n",
    "        if row.Sentiments == \"Positive\":\n",
    "            data.loc[data['date'] == (row.date + \" \" + \"23:59:59\" + \".999\"), 'sentimentCount'] += 1\n",
    "        elif row.Sentiments == \"Negative\":\n",
    "            data.loc[data['date'] == (row.date + \" \" + \"23:59:59\" + \".999\"), 'sentimentCount'] -= 1"
   ]
  },
  {
   "cell_type": "code",
   "execution_count": null,
   "id": "c327cdef",
   "metadata": {},
   "outputs": [],
   "source": [
    "data.head()"
   ]
  },
  {
   "cell_type": "markdown",
   "id": "b1d2589b",
   "metadata": {},
   "source": [
    "### Shift the data so future data is not used."
   ]
  },
  {
   "cell_type": "code",
   "execution_count": null,
   "id": "80248652",
   "metadata": {},
   "outputs": [],
   "source": [
    "data['whaleCount'] = data['whaleCount'].shift(1)\n",
    "data['sentimentCount'] = data['sentimentCount'].shift(1)\n",
    "data = data.iloc[1: , :]"
   ]
  },
  {
   "cell_type": "markdown",
   "id": "5ec7c3ad",
   "metadata": {},
   "source": [
    "# -------------------------------------------------------------------------------------------------------"
   ]
  },
  {
   "cell_type": "code",
   "execution_count": null,
   "id": "5c4f3029",
   "metadata": {
    "scrolled": true
   },
   "outputs": [],
   "source": [
    "def adjustDatasetPredict(model):\n",
    "    first90 = data[:int(trainTestSplit*(len(data)))] # training input features split \n",
    "    second10 = data[int(trainTestSplit*(len(data))):]  # training output split \n",
    "\n",
    "    second10['EMA_200'] = np.nan\n",
    "    second10['MA_50'] = np.nan\n",
    "    second10['MA_200'] = np.nan\n",
    "    second10['close'] = np.nan\n",
    "    second10.head()\n",
    "\n",
    "    returnVal =[]\n",
    "    for row in second10.iterrows():\n",
    "        row[1]['EMA_50'] = first90['EMA_50'].iloc[-1]\n",
    "        row[1]['EMA_200'] =first90['EMA_200'].iloc[-1]\n",
    "        row[1]['MA_50'] = first90['MA_50'].iloc[-1]\n",
    "        row[1]['MA_200'] = first90['MA_200'].iloc[-1]\n",
    "\n",
    "        X_train=first90.drop(columns=['close','date']) #dropping the 'Close','date'\n",
    "        y_train=first90['close'] # output close \n",
    "        newDataframe = pd.DataFrame().append([row[1]])\n",
    "        X_test = newDataframe.drop(columns=['close','date'])\n",
    "\n",
    "        prediction_test = model.predict(X_test)\n",
    "        returnVal.append(prediction_test[0])\n",
    "        row[1]['close'] = prediction_test[0]\n",
    "\n",
    "        first90 = first90.append([row[1]])\n",
    "\n",
    "        first90['EMA_50'] = first90['close'].ewm(50).mean().shift() # calculting the ema 50\n",
    "        first90['EMA_200'] =first90['close'].ewm(200).mean().shift() # calculting the ema 200\n",
    "        first90['MA_50'] = first90['close'].rolling(50).mean() # calculting the ma 50\n",
    "        first90['MA_200'] = first90['close'].rolling(200).mean() # calculting the ma 200\n",
    "    \n",
    "    return returnVal\n",
    "\n",
    "def adjustDatasetPredictSARIMAX(best_cfg):\n",
    "    first90 = data[:int(trainTestSplit*(len(data)))] # training input features split \n",
    "    second10 = data[int(trainTestSplit*(len(data))):]  # training output split \n",
    "     \n",
    "    second10['EMA_50'] = np.nan\n",
    "    second10['EMA_200'] = np.nan\n",
    "    second10['MA_50'] = np.nan\n",
    "    second10['MA_200'] = np.nan\n",
    "    second10['close'] = np.nan\n",
    "    second10.head()\n",
    "\n",
    "    returnVal =[]\n",
    "    for row in second10.iterrows():\n",
    "        row[1]['EMA_50'] = first90['EMA_50'].iloc[-1]\n",
    "        row[1]['EMA_200'] =first90['EMA_200'].iloc[-1]\n",
    "        row[1]['MA_50'] = first90['MA_50'].iloc[-1]\n",
    "        row[1]['MA_200'] = first90['MA_200'].iloc[-1]\n",
    "        \n",
    "        newDataframe = pd.DataFrame().append([row[1]])\n",
    "        newDataframe['close'].loc[:] = np.nan\n",
    "        df6 = pd.concat([first90,newDataframe])\n",
    "\n",
    "        model=smapi.tsa.statespace.SARIMAX(df6['close'],exog=df6[['EMA_50', 'EMA_200','MA_50','MA_200','sentimentCount','whaleCount']],order=(best_cfg),seasonal_order=(1,1,1,12))\n",
    "        results=model.fit()\n",
    "        \n",
    "        preds = results.predict(start=len(df6), end=len(df6), exog=newDataframe[['EMA_50', 'EMA_200','MA_50','MA_200','sentimentCount','whaleCount']], dynamic = True)\n",
    "        predSeries = pd.Series(preds.tolist())\n",
    "        \n",
    "        returnVal.append(predSeries[0])\n",
    "        row[1]['close'] = predSeries[0]\n",
    "        new90 = first90.append([row[1]])\n",
    "\n",
    "        new90['EMA_50'] = new90['close'].ewm(50).mean().shift() # calculting the ema 50\n",
    "        new90['EMA_200'] =new90['close'].ewm(200).mean().shift() # calculting the ema 200\n",
    "        new90['MA_50'] = new90['close'].rolling(50).mean() # calculting the ma 50\n",
    "        new90['MA_200'] = new90['close'].rolling(200).mean() # calculting the ma 200\n",
    "        first90 = first90.append(new90.iloc[-1])\n",
    "        print(first90.iloc[-1])\n",
    "    return returnVal\n",
    "\n",
    "def adjustDatasetPredictARIMAX(best_cfg):\n",
    "    first90 = data[:int(trainTestSplit*(len(data)))] # training input features split \n",
    "    second10 = data[int(trainTestSplit*(len(data))):]  # training output split \n",
    "     \n",
    "    second10['EMA_50'] = np.nan\n",
    "    second10['EMA_200'] = np.nan\n",
    "    second10['MA_50'] = np.nan\n",
    "    second10['MA_200'] = np.nan\n",
    "    second10['close'] = np.nan\n",
    "    second10.head()\n",
    "\n",
    "    returnVal =[]\n",
    "    for row in second10.iterrows():\n",
    "        row[1]['EMA_50'] = first90['EMA_50'].iloc[-1]\n",
    "        row[1]['EMA_200'] =first90['EMA_200'].iloc[-1]\n",
    "        row[1]['MA_50'] = first90['MA_50'].iloc[-1]\n",
    "        row[1]['MA_200'] = first90['MA_200'].iloc[-1]\n",
    "        \n",
    "        newDataframe = pd.DataFrame().append([row[1]])\n",
    "        newDataframe['close'].loc[:] = np.nan\n",
    "        df6 = pd.concat([first90,newDataframe])\n",
    "\n",
    "        model=smapi.tsa.statespace.SARIMAX(df6['close'],exog=df6[['EMA_50', 'EMA_200','MA_50','MA_200','sentimentCount','whaleCount']],order=(best_cfg))\n",
    "        results=model.fit()\n",
    "        \n",
    "        preds = results.predict(start=len(df6), end=len(df6), exog=newDataframe[['EMA_50', 'EMA_200','MA_50','MA_200','sentimentCount','whaleCount']], dynamic = True)\n",
    "        predSeries = pd.Series(preds.tolist())\n",
    "        \n",
    "        returnVal.append(predSeries[0])\n",
    "        row[1]['close'] = predSeries[0]\n",
    "        new90 = first90.append([row[1]])\n",
    "\n",
    "        new90['EMA_50'] = new90['close'].ewm(50).mean().shift() # calculting the ema 50\n",
    "        new90['EMA_200'] =new90['close'].ewm(200).mean().shift() # calculting the ema 200\n",
    "        new90['MA_50'] = new90['close'].rolling(50).mean() # calculting the ma 50\n",
    "        new90['MA_200'] = new90['close'].rolling(200).mean() # calculting the ma 200\n",
    "        first90 = first90.append(new90.iloc[-1])\n",
    "        print(first90.iloc[-1])\n",
    "    return returnVal"
   ]
  },
  {
   "cell_type": "markdown",
   "id": "48e37a9f",
   "metadata": {
    "id": "d572bbab"
   },
   "source": [
    "<h1><center> Modelling </center></h1>"
   ]
  },
  {
   "cell_type": "markdown",
   "id": "b020f147",
   "metadata": {
    "id": "e5cb8cb1"
   },
   "source": [
    "# -----------------------------------------------------------------------------------------------------------"
   ]
  },
  {
   "cell_type": "markdown",
   "id": "fc92ddf2",
   "metadata": {
    "id": "30ee8f14"
   },
   "source": [
    "### Taking input features "
   ]
  },
  {
   "cell_type": "code",
   "execution_count": null,
   "id": "e39f86b9",
   "metadata": {
    "colab": {
     "base_uri": "https://localhost:8080/",
     "height": 455
    },
    "id": "dee4a1db",
    "outputId": "0257b9db-1c42-4a62-e1ec-bef1d88456f7"
   },
   "outputs": [],
   "source": [
    "X=data.drop(columns=['close','date']) #dropping the 'Close','date'\n",
    "X[X< 0] = 0 #making all negative values as 0\n",
    "X #input features "
   ]
  },
  {
   "cell_type": "markdown",
   "id": "b975368a",
   "metadata": {
    "id": "24e5d5ba"
   },
   "source": [
    "### Taking target as output"
   ]
  },
  {
   "cell_type": "code",
   "execution_count": null,
   "id": "c1644048",
   "metadata": {
    "colab": {
     "base_uri": "https://localhost:8080/"
    },
    "id": "7667aa46",
    "outputId": "af69f82b-08a3-4fbe-c791-ff55b4b5d703"
   },
   "outputs": [],
   "source": [
    "y=data['close'] # output close \n",
    "y #output "
   ]
  },
  {
   "cell_type": "markdown",
   "id": "63e113c3",
   "metadata": {
    "id": "4321abf1"
   },
   "source": [
    "### Spliting the data into training and Testing"
   ]
  },
  {
   "cell_type": "code",
   "execution_count": null,
   "id": "702f2ac1",
   "metadata": {
    "id": "dbea7403"
   },
   "outputs": [],
   "source": [
    "X_train = X[:int(trainTestSplit*(len(X)))] # training input features split \n",
    "X_test = X[int(trainTestSplit*(len(X))):]  # testing input features split \n",
    "\n",
    "y_train = y[:int(trainTestSplit*(len(y)))]  # training output split \n",
    "y_test = y[int(trainTestSplit*(len(y))):] # testing output split "
   ]
  },
  {
   "cell_type": "markdown",
   "id": "7ef0ce9d",
   "metadata": {
    "id": "c6adc85e"
   },
   "source": [
    "# --------------------------------------------------------------------------------------------------"
   ]
  },
  {
   "cell_type": "markdown",
   "id": "2de2553b",
   "metadata": {
    "id": "264cc82e"
   },
   "source": [
    "# ARIMAX Model"
   ]
  },
  {
   "cell_type": "markdown",
   "id": "ab945db0",
   "metadata": {
    "id": "284a479c"
   },
   "source": [
    "### Parametrs"
   ]
  },
  {
   "cell_type": "code",
   "execution_count": null,
   "id": "17b6de7b",
   "metadata": {
    "id": "2382f70e",
    "outputId": "f13dadcd-562a-43c8-baa6-bb3d9fca49ff"
   },
   "outputs": [],
   "source": [
    "# evaluate an ARIMA model for a given order (p,d,q)\n",
    "def evaluate_arima_model(priceData, arima_order):\n",
    "    Xtest = priceData.drop(columns=['date','Month','Day','Year','Minutes','Hour'])\n",
    "    train_data, test_data = Xtest.iloc[:int(len(Xtest['close'])*trainTestSplit)], Xtest.iloc[int(len(Xtest['close'])*trainTestSplit):]\n",
    "\n",
    "    df5 = test_data.copy()\n",
    "    df5['close'].loc[:] = np.nan\n",
    "\n",
    "    df6 = pd.concat([train_data,df5])\n",
    "    #exog = np.empty([df6['EMA_50'], df6['EMA_200'],df6['MA_50'],df6['MA_200']])\n",
    "    model=smapi.tsa.statespace.SARIMAX(df6['close'],exog=df6[['EMA_50', 'EMA_200','MA_50','MA_200','sentimentCount','whaleCount']],order=arima_order)\n",
    "    results=model.fit()\n",
    "\n",
    "    preds =results.predict(start=len(train_data), end=len(train_data)+len(test_data)-1, dynamic = True)\n",
    "    # calculate out of sample error\n",
    "    rmse = sqrt(mean_squared_error(test_data['close'], preds.tolist()))\n",
    "\n",
    "    return rmse\n",
    " \n",
    "# evaluate combinations of p, d and q values for an ARIMA model\n",
    "def evaluate_models(priceData, p_values, d_values, q_values):\n",
    "    best_score, best_cfg = float(\"inf\"), None\n",
    "    for p in p_values:\n",
    "        for d in d_values:\n",
    "            for q in q_values:\n",
    "                order = (p,d,q)\n",
    "                try:\n",
    "                    rmse = evaluate_arima_model(priceData, order)\n",
    "                    if rmse < best_score:\n",
    "                        best_score, best_cfg = rmse, order\n",
    "                    print('ARIMA%s RMSE=%.3f' % (order,rmse))\n",
    "                except Exception as e:\n",
    "                    print(e)\n",
    "                    continue\n",
    "    print('Best ARIMA%s RMSE=%.3f' % (best_cfg, best_score))\n",
    "    return best_cfg\n",
    " \n",
    "# evaluate parameters\n",
    "p_values = [0, 1, 2, 4, 6, 8, 10]\n",
    "d_values = range(0, 3)\n",
    "q_values = range(0, 3)\n",
    "warnings.filterwarnings(\"ignore\")\n",
    "best_cfg = evaluate_models(data, p_values, d_values, q_values)"
   ]
  },
  {
   "cell_type": "code",
   "execution_count": null,
   "id": "db8e10e4",
   "metadata": {},
   "outputs": [],
   "source": [
    "%%time\n",
    "y_pred_test = adjustDatasetPredictARIMAX(best_cfg)"
   ]
  },
  {
   "cell_type": "markdown",
   "id": "d6422a23",
   "metadata": {
    "id": "dad9a2a5"
   },
   "source": [
    "# Evaluation Measures on Test data"
   ]
  },
  {
   "cell_type": "markdown",
   "id": "35e3de99",
   "metadata": {
    "id": "e30c698e"
   },
   "source": [
    "# MSE"
   ]
  },
  {
   "cell_type": "code",
   "execution_count": null,
   "id": "35a82489",
   "metadata": {
    "colab": {
     "base_uri": "https://localhost:8080/"
    },
    "id": "98f4a656",
    "outputId": "cb485e4c-d2d3-483c-e9c9-2a56aaada9b4"
   },
   "outputs": [],
   "source": [
    "test_mse1=mean_squared_error(y_test,y_pred_test) # calculating the mse score\n",
    "print('Mean Squared Error: ', round(test_mse1,5)) #pritng the results "
   ]
  },
  {
   "cell_type": "markdown",
   "id": "e6ed0c3d",
   "metadata": {
    "id": "59fe3989"
   },
   "source": [
    "# MAE"
   ]
  },
  {
   "cell_type": "code",
   "execution_count": null,
   "id": "f7a12757",
   "metadata": {
    "colab": {
     "base_uri": "https://localhost:8080/"
    },
    "id": "67861d97",
    "outputId": "502598a3-ab27-4602-c89d-8782a7b3dbf1"
   },
   "outputs": [],
   "source": [
    "test_MAE1=mean_absolute_error(y_test,y_pred_test) # calculating the mae score\n",
    "print('Mean Absolute Error: ', round(test_MAE1,5)) #pritng the results "
   ]
  },
  {
   "cell_type": "markdown",
   "id": "f878ef22",
   "metadata": {
    "id": "a6d95fb7"
   },
   "source": [
    "# RMSE"
   ]
  },
  {
   "cell_type": "code",
   "execution_count": null,
   "id": "0c25b987",
   "metadata": {
    "colab": {
     "base_uri": "https://localhost:8080/"
    },
    "id": "e290d306",
    "outputId": "4455823c-da99-4149-e3ba-dd4fe51ce5be"
   },
   "outputs": [],
   "source": [
    "test_rmse1=np.sqrt(test_mse1) # calculating the rmse score\n",
    "print('Mean Squared Error: ', round(test_rmse1,5)) #pritng the results "
   ]
  },
  {
   "cell_type": "markdown",
   "id": "606b81ea",
   "metadata": {
    "id": "2321c33b"
   },
   "source": [
    "# MAPE"
   ]
  },
  {
   "cell_type": "code",
   "execution_count": null,
   "id": "713e9b59",
   "metadata": {
    "colab": {
     "base_uri": "https://localhost:8080/"
    },
    "id": "98bc0237",
    "outputId": "93fcaefe-504a-427e-ada8-5aadb77df706"
   },
   "outputs": [],
   "source": [
    "test_mape1=mean_absolute_percentage_error(y_test,y_pred_test) # calculating the mape score\n",
    "print('Mean Absolute Error: ', round(test_mape1,5)) #pritng the results "
   ]
  },
  {
   "cell_type": "code",
   "execution_count": null,
   "id": "3497f7bb",
   "metadata": {},
   "outputs": [],
   "source": [
    "df = pd.DataFrame({'Actual': y_test, 'Predicted': y_pred_test})\n",
    "df2 = pd.DataFrame({'train': y_train})\n",
    "ax = df.plot()\n",
    "df2.plot(ax=ax)\n",
    "df.plot(kind='line',figsize=(18,8))\n",
    "plt.grid(which='major', linestyle='-', linewidth='0.5', color='green')\n",
    "plt.grid(which='minor', linestyle=':', linewidth='0.5', color='black')\n",
    "plt.show()"
   ]
  },
  {
   "cell_type": "markdown",
   "id": "340ee230",
   "metadata": {
    "id": "f40c5adf"
   },
   "source": [
    "# --------------------------------------------------------------------------------------------------"
   ]
  },
  {
   "cell_type": "markdown",
   "id": "7ba0a190",
   "metadata": {
    "id": "264cc82e"
   },
   "source": [
    "# SARIMAX Model"
   ]
  },
  {
   "cell_type": "markdown",
   "id": "3d0810ab",
   "metadata": {
    "id": "284a479c"
   },
   "source": [
    "### Parametrs"
   ]
  },
  {
   "cell_type": "code",
   "execution_count": null,
   "id": "9152f2a5",
   "metadata": {
    "id": "2382f70e",
    "outputId": "f13dadcd-562a-43c8-baa6-bb3d9fca49ff"
   },
   "outputs": [],
   "source": [
    "# evaluate an ARIMA model for a given order (p,d,q)\n",
    "def evaluate_arima_model(priceData, arima_order):\n",
    "    Xtest = priceData.drop(columns=['date','Month','Day','Year','Minutes','Hour'])\n",
    "    train_data, test_data = Xtest.iloc[:int(len(Xtest['close'])*trainTestSplit)], Xtest.iloc[int(len(Xtest['close'])*trainTestSplit):]\n",
    "\n",
    "    df5 = test_data.copy()\n",
    "    df5['close'].loc[:] = np.nan\n",
    "\n",
    "    df6 = pd.concat([train_data,df5])\n",
    "    #exog = np.empty([df6['EMA_50'], df6['EMA_200'],df6['MA_50'],df6['MA_200']])\n",
    "    model=smapi.tsa.statespace.SARIMAX(df6['close'],exog=df6[['EMA_50', 'EMA_200','MA_50','MA_200','sentimentCount','whaleCount']],order=arima_order,seasonal_order=(1,1,1,12))\n",
    "    results=model.fit()\n",
    "\n",
    "    preds =results.predict(start=len(train_data), end=len(train_data)+len(test_data)-1, dynamic = True)\n",
    "    # calculate out of sample error\n",
    "    rmse = sqrt(mean_squared_error(test_data['close'], preds.tolist()))\n",
    "\n",
    "    return rmse\n",
    " \n",
    "# evaluate combinations of p, d and q values for an ARIMA model\n",
    "def evaluate_models(priceData, p_values, d_values, q_values):\n",
    "    best_score, best_cfg = float(\"inf\"), None\n",
    "    for p in p_values:\n",
    "        for d in d_values:\n",
    "            for q in q_values:\n",
    "                order = (p,d,q)\n",
    "                try:\n",
    "                    rmse = evaluate_arima_model(priceData, order)\n",
    "                    if rmse < best_score:\n",
    "                        best_score, best_cfg = rmse, order\n",
    "                    print('ARIMA%s RMSE=%.3f' % (order,rmse))\n",
    "                except Exception as e:\n",
    "                    print(e)\n",
    "                    continue\n",
    "    print('Best ARIMA%s RMSE=%.3f' % (best_cfg, best_score))\n",
    "    return best_cfg\n",
    " \n",
    "# evaluate parameters\n",
    "p_values = [0, 1, 2, 4, 6, 8, 10]\n",
    "d_values = range(0, 3)\n",
    "q_values = range(0, 3)\n",
    "warnings.filterwarnings(\"ignore\")\n",
    "best_cfg = evaluate_models(data, p_values, d_values, q_values)"
   ]
  },
  {
   "cell_type": "code",
   "execution_count": null,
   "id": "bca852f0",
   "metadata": {},
   "outputs": [],
   "source": [
    "%%time\n",
    "y_pred_test = adjustDatasetPredictSARIMAX(best_cfg)"
   ]
  },
  {
   "cell_type": "markdown",
   "id": "89c9cf54",
   "metadata": {
    "id": "2cb40234"
   },
   "source": [
    "# Evaluation Measures on Test data"
   ]
  },
  {
   "cell_type": "markdown",
   "id": "981ffe05",
   "metadata": {
    "id": "6cd46073"
   },
   "source": [
    "# MSE"
   ]
  },
  {
   "cell_type": "code",
   "execution_count": null,
   "id": "eec8eb2e",
   "metadata": {
    "colab": {
     "base_uri": "https://localhost:8080/"
    },
    "id": "210cbc28",
    "outputId": "ac3e5890-bded-4995-f213-86a55026c8aa"
   },
   "outputs": [],
   "source": [
    "test_mse2=mean_squared_error(y_test,y_pred_test) # calculating the mse score\n",
    "print('Mean Squared Error: ', round(test_mse2,5)) #pritng the results "
   ]
  },
  {
   "cell_type": "markdown",
   "id": "4ad1a182",
   "metadata": {
    "id": "036e1457"
   },
   "source": [
    "# MAE"
   ]
  },
  {
   "cell_type": "code",
   "execution_count": null,
   "id": "592e736b",
   "metadata": {
    "colab": {
     "base_uri": "https://localhost:8080/"
    },
    "id": "ab28e7ec",
    "outputId": "8d4c4290-658b-426a-c2fc-f0cc21f05168"
   },
   "outputs": [],
   "source": [
    "test_MAE2=mean_absolute_error(y_test,y_pred_test) # calculating the mae score\n",
    "print('Mean Absolute Error: ', round(test_MAE2,5)) #pritng the results "
   ]
  },
  {
   "cell_type": "markdown",
   "id": "3e8a576c",
   "metadata": {
    "id": "ca934a25"
   },
   "source": [
    "# RMSE"
   ]
  },
  {
   "cell_type": "code",
   "execution_count": null,
   "id": "cf775127",
   "metadata": {
    "colab": {
     "base_uri": "https://localhost:8080/"
    },
    "id": "de31523b",
    "outputId": "44a48d44-8917-40c0-acb9-8cad59116847"
   },
   "outputs": [],
   "source": [
    "test_rmse2=np.sqrt(test_mse2) # calculating the rmse score\n",
    "print('Mean Squared Error: ', round(test_rmse2,5)) #pritng the results "
   ]
  },
  {
   "cell_type": "markdown",
   "id": "f4a7b7e5",
   "metadata": {
    "id": "77738e90"
   },
   "source": [
    "# MAPE"
   ]
  },
  {
   "cell_type": "code",
   "execution_count": null,
   "id": "a30dfec7",
   "metadata": {
    "colab": {
     "base_uri": "https://localhost:8080/"
    },
    "id": "6337e21f",
    "outputId": "c43ab959-5e16-492f-fcd8-44c4d884ac63"
   },
   "outputs": [],
   "source": [
    "test_mape2=mean_absolute_percentage_error(y_test,y_pred_test) # calculating the mape score\n",
    "print('Mean Absolute Error: ', round(test_mape2,5)) #pritng the results "
   ]
  },
  {
   "cell_type": "code",
   "execution_count": null,
   "id": "f9c08fae",
   "metadata": {},
   "outputs": [],
   "source": [
    "df = pd.DataFrame({'Actual': y_test, 'Predicted': y_pred_test})\n",
    "df2 = pd.DataFrame({'train': y_train})\n",
    "ax = df.plot()\n",
    "df2.plot(ax=ax)\n",
    "df.plot(kind='line',figsize=(18,8))\n",
    "plt.grid(which='major', linestyle='-', linewidth='0.5', color='green')\n",
    "plt.grid(which='minor', linestyle=':', linewidth='0.5', color='black')\n",
    "plt.show()"
   ]
  },
  {
   "cell_type": "markdown",
   "id": "1db43e43",
   "metadata": {
    "id": "a9b2b0e2"
   },
   "source": [
    "# --------------------------------------------------------------------------------------------------"
   ]
  },
  {
   "cell_type": "markdown",
   "id": "b023237d",
   "metadata": {
    "id": "f12a31db"
   },
   "source": [
    "# --------------------------------------------------------------------------------------------------"
   ]
  },
  {
   "cell_type": "markdown",
   "id": "9e25768f",
   "metadata": {
    "id": "7d0cf697"
   },
   "source": [
    "# MLP Regression Model"
   ]
  },
  {
   "cell_type": "markdown",
   "id": "bf7ef40d",
   "metadata": {
    "id": "8c9a9a35"
   },
   "source": [
    "### Parametrs"
   ]
  },
  {
   "cell_type": "code",
   "execution_count": null,
   "id": "e376b3f6",
   "metadata": {
    "id": "43645691"
   },
   "outputs": [],
   "source": [
    "params = { \n",
    "    'max_iter': [100,200,300,400,500,600],\n",
    "    'momentum':[0.7,0.8,0.9],\n",
    "    'learning_rate_init':[0.001,0.002,0.004],\n",
    "    'hidden_layer_sizes':[(100,),(300,),(200,)]\n",
    "}"
   ]
  },
  {
   "cell_type": "code",
   "execution_count": null,
   "id": "0080f6e2",
   "metadata": {
    "id": "7091bd7d",
    "outputId": "58ba9810-e05a-4d40-e0fa-76f5af548f7d"
   },
   "outputs": [],
   "source": [
    "mlp=MLPRegressor(verbose=True) # calling MLP model for training \n",
    "Model_R = RandomizedSearchCV(estimator = mlp, param_distributions = params, cv = 2) #calling search and it will help to get the best parametrs\n",
    "Model_R.fit(X_train, y_train) # Training this model"
   ]
  },
  {
   "cell_type": "markdown",
   "id": "3f4d976e",
   "metadata": {
    "id": "9f092614"
   },
   "source": [
    "### Best Parameter selected"
   ]
  },
  {
   "cell_type": "code",
   "execution_count": null,
   "id": "f0570b2c",
   "metadata": {
    "id": "fyl8OfE-QW1U",
    "outputId": "6f9a0fc6-6704-4b89-89af-c9f0327cd7e0"
   },
   "outputs": [],
   "source": [
    "Model_R.best_params_"
   ]
  },
  {
   "cell_type": "markdown",
   "id": "6be533b0",
   "metadata": {
    "id": "7ca98e87"
   },
   "source": [
    "# Evaluation Measures on Test data"
   ]
  },
  {
   "cell_type": "markdown",
   "id": "af79acb8",
   "metadata": {
    "id": "957be225"
   },
   "source": [
    "# MSE"
   ]
  },
  {
   "cell_type": "code",
   "execution_count": null,
   "id": "5cb8d071",
   "metadata": {
    "colab": {
     "base_uri": "https://localhost:8080/"
    },
    "id": "c8269343",
    "outputId": "c32a0b18-bd07-4a10-ed2e-b579c4d72081"
   },
   "outputs": [],
   "source": [
    "%%time\n",
    "y_pred_test=adjustDatasetPredict(Model_R) # tetsing trained model on test data\n",
    "test_mse3=mean_squared_error(y_test,y_pred_test) # calculating the mse score\n",
    "print('Mean Squared Error: ', round(test_mse3,5)) #pritng the results "
   ]
  },
  {
   "cell_type": "markdown",
   "id": "0817ba44",
   "metadata": {
    "id": "47015631"
   },
   "source": [
    "# MAE"
   ]
  },
  {
   "cell_type": "code",
   "execution_count": null,
   "id": "97092ce3",
   "metadata": {
    "colab": {
     "base_uri": "https://localhost:8080/"
    },
    "id": "1bbadfe5",
    "outputId": "a09fa46f-d899-48fd-c4b4-4cd39a4087d1"
   },
   "outputs": [],
   "source": [
    "test_MAE3=mean_absolute_error(y_test,y_pred_test) # calculating the mae score\n",
    "print('Mean Absolute Error: ', round(test_MAE3,5)) #pritng the results "
   ]
  },
  {
   "cell_type": "markdown",
   "id": "7c35e7f4",
   "metadata": {
    "id": "aaa88b65"
   },
   "source": [
    "# RMSE"
   ]
  },
  {
   "cell_type": "code",
   "execution_count": null,
   "id": "6b228a88",
   "metadata": {
    "colab": {
     "base_uri": "https://localhost:8080/"
    },
    "id": "2bd68540",
    "outputId": "0ca5cd92-19f6-475b-df42-8a86f229a61f"
   },
   "outputs": [],
   "source": [
    "test_rmse3=np.sqrt(test_mse3) # calculating the rmse score\n",
    "print('Mean Squared Error: ', round(test_rmse3,5)) #pritng the results "
   ]
  },
  {
   "cell_type": "markdown",
   "id": "0d99c4e0",
   "metadata": {
    "id": "3aa6dbe6"
   },
   "source": [
    "# MAPE"
   ]
  },
  {
   "cell_type": "code",
   "execution_count": null,
   "id": "6da2e3fc",
   "metadata": {
    "colab": {
     "base_uri": "https://localhost:8080/"
    },
    "id": "f167a920",
    "outputId": "b69aab3e-40c1-41b1-8b46-4bf09b6512f5"
   },
   "outputs": [],
   "source": [
    "test_mape3=mean_absolute_percentage_error(y_test,y_pred_test) # calculating the mape score\n",
    "print('Mean Absolute Error: ', round(test_mape3,5)) #pritng the results "
   ]
  },
  {
   "cell_type": "code",
   "execution_count": null,
   "id": "23f5a65f",
   "metadata": {},
   "outputs": [],
   "source": [
    "df = pd.DataFrame({'Actual': y_test, 'Predicted': y_pred_test})\n",
    "df2 = pd.DataFrame({'train': y_train})\n",
    "ax = df.plot()\n",
    "df2.plot(ax=ax)\n",
    "df.plot(kind='line',figsize=(18,8))\n",
    "plt.grid(which='major', linestyle='-', linewidth='0.5', color='green')\n",
    "plt.grid(which='minor', linestyle=':', linewidth='0.5', color='black')\n",
    "plt.show()"
   ]
  },
  {
   "cell_type": "markdown",
   "id": "c30c6da4",
   "metadata": {
    "id": "a459ec52"
   },
   "source": [
    "# Ridge Regression Model"
   ]
  },
  {
   "cell_type": "markdown",
   "id": "7dd9302f",
   "metadata": {
    "id": "d9bb42f3"
   },
   "source": [
    "### Parametrs"
   ]
  },
  {
   "cell_type": "code",
   "execution_count": null,
   "id": "4d68986a",
   "metadata": {
    "id": "4874afd8"
   },
   "outputs": [],
   "source": [
    "params = { \n",
    "    'alpha': [1.0,2.0,3.0,4.0],\n",
    "    'max_iter':[100,200,300,400,500],\n",
    "    'tol':[0.001,0.002,0.003,0.004]\n",
    "}"
   ]
  },
  {
   "cell_type": "code",
   "execution_count": null,
   "id": "637a179f",
   "metadata": {
    "id": "0925241a",
    "outputId": "11aef2f5-3d88-4814-8a83-dde462eb9b6a"
   },
   "outputs": [],
   "source": [
    "Ridge=linear_model.Ridge(alpha=4.0) # calling Ridge model for training \n",
    "Model_R = RandomizedSearchCV(estimator = Ridge, param_distributions = params, cv = 2) #calling search and it will help to get the best parametrs\n",
    "Model_R.fit(X_train, y_train) # Training this model"
   ]
  },
  {
   "cell_type": "markdown",
   "id": "b59879fe",
   "metadata": {
    "id": "4dca83ab"
   },
   "source": [
    "### Best Parameter selected"
   ]
  },
  {
   "cell_type": "code",
   "execution_count": null,
   "id": "ddcb9d4d",
   "metadata": {
    "id": "Vm8Cbb6bQW1h",
    "outputId": "8a623602-fb23-44c3-d5ec-be955538fbaa"
   },
   "outputs": [],
   "source": [
    "Model_R.best_params_"
   ]
  },
  {
   "cell_type": "markdown",
   "id": "91392355",
   "metadata": {
    "id": "727564cd"
   },
   "source": [
    "# Evaluation Measures on Test data"
   ]
  },
  {
   "cell_type": "markdown",
   "id": "d1441396",
   "metadata": {
    "id": "d1d13856"
   },
   "source": [
    "# MSE"
   ]
  },
  {
   "cell_type": "code",
   "execution_count": null,
   "id": "671853a6",
   "metadata": {
    "colab": {
     "base_uri": "https://localhost:8080/"
    },
    "id": "d7d5bd06",
    "outputId": "47a57e92-28a6-4a36-cd0e-3fe62977d265"
   },
   "outputs": [],
   "source": [
    "%%time\n",
    "y_pred_test=adjustDatasetPredict(Model_R) # tetsing trained model on test data\n",
    "test_mse7=mean_squared_error(y_test,y_pred_test) # calculating the mse score\n",
    "print('Mean Squared Error: ', round(test_mse7,5)) #pritng the results "
   ]
  },
  {
   "cell_type": "markdown",
   "id": "ed757d3a",
   "metadata": {
    "id": "fe04678f"
   },
   "source": [
    "# MAE"
   ]
  },
  {
   "cell_type": "code",
   "execution_count": null,
   "id": "1084a885",
   "metadata": {
    "colab": {
     "base_uri": "https://localhost:8080/"
    },
    "id": "fd169d94",
    "outputId": "9a4c4ded-10c7-410c-ea74-6b706bdf0c42"
   },
   "outputs": [],
   "source": [
    "test_MAE7=mean_absolute_error(y_test,y_pred_test) # calculating the mae score\n",
    "print('Mean Absolute Error: ', round(test_MAE7,5)) #pritng the results "
   ]
  },
  {
   "cell_type": "markdown",
   "id": "8a196b10",
   "metadata": {
    "id": "4824aff6"
   },
   "source": [
    "# RMSE"
   ]
  },
  {
   "cell_type": "code",
   "execution_count": null,
   "id": "25b3aebf",
   "metadata": {
    "colab": {
     "base_uri": "https://localhost:8080/"
    },
    "id": "23d47100",
    "outputId": "198834f0-d89e-4aa8-8ca8-efb0b5b06d56"
   },
   "outputs": [],
   "source": [
    "test_rmse7=np.sqrt(test_mse7) # calculating the rmse score\n",
    "print('Mean Squared Error: ', round(test_rmse7,5)) #pritng the results "
   ]
  },
  {
   "cell_type": "markdown",
   "id": "ed8ae18d",
   "metadata": {
    "id": "5c6d4fe2"
   },
   "source": [
    "# MAPE"
   ]
  },
  {
   "cell_type": "code",
   "execution_count": null,
   "id": "14d499f8",
   "metadata": {
    "colab": {
     "base_uri": "https://localhost:8080/"
    },
    "id": "e40f50d2",
    "outputId": "2bdc3d67-297c-439a-d08f-a35145efc391"
   },
   "outputs": [],
   "source": [
    "test_mape7=mean_absolute_percentage_error(y_test,y_pred_test) # calculating the mape score\n",
    "print('Mean Absolute Error: ', round(test_mape7,5)) #pritng the results "
   ]
  },
  {
   "cell_type": "code",
   "execution_count": null,
   "id": "2f6caf31",
   "metadata": {},
   "outputs": [],
   "source": [
    "df = pd.DataFrame({'Actual': y_test, 'Predicted': y_pred_test})\n",
    "df2 = pd.DataFrame({'train': y_train})\n",
    "ax = df.plot()\n",
    "df2.plot(ax=ax)\n",
    "df.plot(kind='line',figsize=(18,8))\n",
    "plt.grid(which='major', linestyle='-', linewidth='0.5', color='green')\n",
    "plt.grid(which='minor', linestyle=':', linewidth='0.5', color='black')\n",
    "plt.show()"
   ]
  },
  {
   "cell_type": "markdown",
   "id": "2380653e",
   "metadata": {
    "id": "333f6c2d"
   },
   "source": [
    "# Random Forest Regression Model"
   ]
  },
  {
   "cell_type": "markdown",
   "id": "b8cc41ee",
   "metadata": {
    "id": "1523d015"
   },
   "source": [
    "### Parametrs"
   ]
  },
  {
   "cell_type": "code",
   "execution_count": null,
   "id": "3c123b36",
   "metadata": {
    "id": "3afa08f8"
   },
   "outputs": [],
   "source": [
    "params = { \n",
    "    'max_depth': [10,20,30,40,50],\n",
    "    'random_state':[10,20,30,40],\n",
    "    'min_samples_leaf':[10,20,30,40,50]\n",
    "}"
   ]
  },
  {
   "cell_type": "code",
   "execution_count": null,
   "id": "5b0979e0",
   "metadata": {
    "id": "6765e9a6",
    "outputId": "4575fcb7-6f6b-458e-ed7c-2ff698622ab1"
   },
   "outputs": [],
   "source": [
    "RF=RandomForestRegressor() # calling RF model for training \n",
    "Model_R = RandomizedSearchCV(estimator = RF, param_distributions = params, cv = 2) #calling search and it will help to get the best parametrs\n",
    "Model_R.fit(X_train, y_train) # Training this model"
   ]
  },
  {
   "cell_type": "markdown",
   "id": "6197ae8f",
   "metadata": {
    "id": "513cdbd9"
   },
   "source": [
    "### Best Parameter selected"
   ]
  },
  {
   "cell_type": "code",
   "execution_count": null,
   "id": "2659142e",
   "metadata": {
    "id": "-nqR2I5HQW1l",
    "outputId": "61ee68a3-a80f-4a75-f85d-b029316931d7"
   },
   "outputs": [],
   "source": [
    "Model_R.best_params_"
   ]
  },
  {
   "cell_type": "markdown",
   "id": "2d29409f",
   "metadata": {
    "id": "9e0f001e"
   },
   "source": [
    "# Evaluation Measures on Test data"
   ]
  },
  {
   "cell_type": "markdown",
   "id": "242e3c45",
   "metadata": {
    "id": "d65f65e0"
   },
   "source": [
    "# MSE"
   ]
  },
  {
   "cell_type": "code",
   "execution_count": null,
   "id": "8eff7e84",
   "metadata": {
    "colab": {
     "base_uri": "https://localhost:8080/"
    },
    "id": "d270f9c8",
    "outputId": "ad753567-f48c-4af6-c5b3-96f8617f552d"
   },
   "outputs": [],
   "source": [
    "%%time\n",
    "y_pred_test=adjustDatasetPredict(Model_R) # tetsing trained model on test data\n",
    "test_mse8=mean_squared_error(y_test,y_pred_test) # calculating the mse score\n",
    "print('Mean Squared Error: ', round(test_mse8,5)) #pritng the results "
   ]
  },
  {
   "cell_type": "markdown",
   "id": "440d7342",
   "metadata": {
    "id": "80f80d59"
   },
   "source": [
    "# MAE"
   ]
  },
  {
   "cell_type": "code",
   "execution_count": null,
   "id": "06b7d7d6",
   "metadata": {
    "colab": {
     "base_uri": "https://localhost:8080/"
    },
    "id": "3125ac93",
    "outputId": "0102b3de-9428-4fa9-ff34-53da36c4192b"
   },
   "outputs": [],
   "source": [
    "test_MAE8=mean_absolute_error(y_test,y_pred_test) # calculating the mae score\n",
    "print('Mean Absolute Error: ', round(test_MAE8,5)) #pritng the results "
   ]
  },
  {
   "cell_type": "markdown",
   "id": "849e240a",
   "metadata": {
    "id": "316796c4"
   },
   "source": [
    "# RMSE"
   ]
  },
  {
   "cell_type": "code",
   "execution_count": null,
   "id": "db8a9ea6",
   "metadata": {
    "colab": {
     "base_uri": "https://localhost:8080/"
    },
    "id": "8d172dc4",
    "outputId": "19d91c09-6447-4d60-de82-0dfc1470aa8f"
   },
   "outputs": [],
   "source": [
    "test_rmse8=np.sqrt(test_mse8) # calculating the rmse score\n",
    "print('Mean Squared Error: ', round(test_rmse8,5)) #pritng the results "
   ]
  },
  {
   "cell_type": "markdown",
   "id": "bf90e6a3",
   "metadata": {
    "id": "67152a14"
   },
   "source": [
    "# MAPE"
   ]
  },
  {
   "cell_type": "code",
   "execution_count": null,
   "id": "e2ee6dea",
   "metadata": {
    "colab": {
     "base_uri": "https://localhost:8080/"
    },
    "id": "2a40945b",
    "outputId": "12ebe82e-4d48-43cc-b745-90e794e01ddd"
   },
   "outputs": [],
   "source": [
    "test_mape8=mean_absolute_percentage_error(y_test,y_pred_test) # calculating the mape score\n",
    "print('Mean Absolute Error: ', round(test_mape8,5)) #pritng the results "
   ]
  },
  {
   "cell_type": "code",
   "execution_count": null,
   "id": "ceb44279",
   "metadata": {},
   "outputs": [],
   "source": [
    "df = pd.DataFrame({'Actual': y_test, 'Predicted': y_pred_test})\n",
    "df2 = pd.DataFrame({'train': y_train})\n",
    "ax = df.plot()\n",
    "df2.plot(ax=ax)\n",
    "df.plot(kind='line',figsize=(18,8))\n",
    "plt.grid(which='major', linestyle='-', linewidth='0.5', color='green')\n",
    "plt.grid(which='minor', linestyle=':', linewidth='0.5', color='black')\n",
    "plt.show()"
   ]
  },
  {
   "cell_type": "markdown",
   "id": "adec6236",
   "metadata": {
    "id": "62204063"
   },
   "source": [
    "# XGBoost Model"
   ]
  },
  {
   "cell_type": "markdown",
   "id": "3a6b1520",
   "metadata": {
    "id": "bfb72077"
   },
   "source": [
    "### Parametrs"
   ]
  },
  {
   "cell_type": "code",
   "execution_count": null,
   "id": "3b372ffc",
   "metadata": {
    "id": "05036ff5"
   },
   "outputs": [],
   "source": [
    "params = { \n",
    "    'base_score': [0.1,0.2,0.3,0.4,0.5,0.6],\n",
    "    'learning_rate':[0.1,0.2,0.3],\n",
    "    'n_estimators':[100,200,300,400],\n",
    "    'max_depth':[10,20,30,40,50]\n",
    "    \n",
    "}"
   ]
  },
  {
   "cell_type": "code",
   "execution_count": null,
   "id": "0d10c04e",
   "metadata": {
    "id": "56a5d60c",
    "outputId": "5e09e0dd-2b33-48e4-84f8-78f8db771825"
   },
   "outputs": [],
   "source": [
    "XG=xgboost.XGBRegressor() # calling Xgboost model for training \n",
    "Model_R = RandomizedSearchCV(estimator = XG, param_distributions = params, cv = 2) #calling search and it will help to get the best parametrs\n",
    "Model_R.fit(X_train, y_train) # Training this model"
   ]
  },
  {
   "cell_type": "markdown",
   "id": "a217c7d9",
   "metadata": {
    "id": "6163b9fe"
   },
   "source": [
    "### Best Parameter selected"
   ]
  },
  {
   "cell_type": "code",
   "execution_count": null,
   "id": "82029dee",
   "metadata": {
    "id": "gMLsvsJlQW1r",
    "outputId": "cb3c937a-f146-415a-9298-d0f1cbb08d40"
   },
   "outputs": [],
   "source": [
    "Model_R.best_params_"
   ]
  },
  {
   "cell_type": "markdown",
   "id": "b88f6e50",
   "metadata": {
    "id": "e4bdcd85"
   },
   "source": [
    "# Evaluation Measures on Test data"
   ]
  },
  {
   "cell_type": "markdown",
   "id": "cc07ed6e",
   "metadata": {
    "id": "9de31d6f"
   },
   "source": [
    "# MSE"
   ]
  },
  {
   "cell_type": "code",
   "execution_count": null,
   "id": "08e30f14",
   "metadata": {
    "colab": {
     "base_uri": "https://localhost:8080/"
    },
    "id": "41499fe7",
    "outputId": "4b5cb1f9-f525-4381-e9aa-a8eb550b47e5"
   },
   "outputs": [],
   "source": [
    "%%time\n",
    "y_pred_test=adjustDatasetPredict(Model_R) # tetsing trained model on test data\n",
    "test_mse9=mean_squared_error(y_test,y_pred_test) # calculating the mse score\n",
    "print('Mean Squared Error: ', round(test_mse9,5)) #pritng the results "
   ]
  },
  {
   "cell_type": "markdown",
   "id": "ff1464a1",
   "metadata": {
    "id": "3a3b72f1"
   },
   "source": [
    "# MAE"
   ]
  },
  {
   "cell_type": "code",
   "execution_count": null,
   "id": "2287f901",
   "metadata": {
    "colab": {
     "base_uri": "https://localhost:8080/"
    },
    "id": "cc4fea7d",
    "outputId": "2c916d5b-62e6-4db4-a73f-fb96f2e6fdc8"
   },
   "outputs": [],
   "source": [
    "test_MAE9=mean_absolute_error(y_test,y_pred_test) # calculating the mae score\n",
    "print('Mean Absolute Error: ', round(test_MAE9,5)) #pritng the results "
   ]
  },
  {
   "cell_type": "markdown",
   "id": "9fc51a7e",
   "metadata": {
    "id": "39fa63be"
   },
   "source": [
    "# RMSE"
   ]
  },
  {
   "cell_type": "code",
   "execution_count": null,
   "id": "277e4575",
   "metadata": {
    "colab": {
     "base_uri": "https://localhost:8080/"
    },
    "id": "6a9e39a4",
    "outputId": "aa84567a-faff-43a5-d8f3-12ccbc4f53bb"
   },
   "outputs": [],
   "source": [
    "test_rmse9=np.sqrt(test_mse9) # calculating the rmse score\n",
    "print('Mean Squared Error: ', round(test_rmse9,5)) #pritng the results "
   ]
  },
  {
   "cell_type": "markdown",
   "id": "c4c2a813",
   "metadata": {
    "id": "6a518a0a"
   },
   "source": [
    "# MAPE"
   ]
  },
  {
   "cell_type": "code",
   "execution_count": null,
   "id": "da68b466",
   "metadata": {
    "colab": {
     "base_uri": "https://localhost:8080/"
    },
    "id": "0d2862e5",
    "outputId": "2cec732c-5c40-431c-ab76-1b9f133911bd"
   },
   "outputs": [],
   "source": [
    "test_mape9=mean_absolute_percentage_error(y_test,y_pred_test) # calculating the mape score\n",
    "print('Mean Absolute Error: ', round(test_mape9,5)) #pritng the results "
   ]
  },
  {
   "cell_type": "code",
   "execution_count": null,
   "id": "6527e596",
   "metadata": {},
   "outputs": [],
   "source": [
    "df = pd.DataFrame({'Actual': y_test, 'Predicted': y_pred_test})\n",
    "df2 = pd.DataFrame({'train': y_train})\n",
    "ax = df.plot()\n",
    "df2.plot(ax=ax)\n",
    "df.plot(kind='line',figsize=(18,8))\n",
    "plt.grid(which='major', linestyle='-', linewidth='0.5', color='green')\n",
    "plt.grid(which='minor', linestyle=':', linewidth='0.5', color='black')\n",
    "plt.show()"
   ]
  },
  {
   "cell_type": "markdown",
   "id": "20e9cb1b",
   "metadata": {
    "id": "661a8b18"
   },
   "source": [
    "# Comparison of all algorithms Results on MSE score"
   ]
  },
  {
   "cell_type": "code",
   "execution_count": null,
   "id": "fa79aa92",
   "metadata": {
    "colab": {
     "base_uri": "https://localhost:8080/"
    },
    "id": "04a3b908",
    "outputId": "74583119-420c-44c1-e6d2-92aa228e2f03",
    "scrolled": true
   },
   "outputs": [],
   "source": [
    "x = PrettyTable() #calling prettytable for the table \n",
    "print('\\n') # for new line \n",
    "print(\"Comparison of all algorithms\") # for  title \n",
    "x.field_names = [\"Model\", \"MSE score\"] # for  column names \n",
    "\n",
    "x.add_row([\"ARIMAX Algorithm\", round(test_mse1,3)]) # for the results of mse \n",
    "x.add_row([\"SARIMAX Algorithm\", round(test_mse2,3)]) # for the results of mse \n",
    "x.add_row([\"MLP Algorithm\", round(test_mse3,3)]) # for the results of mse \n",
    "x.add_row([\"Ridge Algorithm\", round(test_mse7,3)]) # for the results of mse \n",
    "x.add_row([\"Random Forest Algorithm\", round(test_mse8,3)]) # for the results of mse \n",
    "x.add_row([\"XGB Algorithm\", round(test_mse9,3)]) # for the results of mse \n",
    "\n",
    "print(x) # printing the table"
   ]
  },
  {
   "cell_type": "markdown",
   "id": "ebb3f2cd",
   "metadata": {
    "id": "00274d05"
   },
   "source": [
    "# Comparison of all algorithms Results on MAE score"
   ]
  },
  {
   "cell_type": "code",
   "execution_count": null,
   "id": "0e160b2e",
   "metadata": {
    "colab": {
     "base_uri": "https://localhost:8080/"
    },
    "id": "c7ffca1a",
    "outputId": "a440b270-1b62-48d9-a5dc-980d0c5ea6a6",
    "scrolled": true
   },
   "outputs": [],
   "source": [
    "x = PrettyTable() #calling prettytable for the table \n",
    "print('\\n') # for new line \n",
    "print(\"Comparison of all algorithms\") # for  title \n",
    "x.field_names = [\"Model\", \"MAE score\"] # for  column names \n",
    "\n",
    "\n",
    "x.add_row([\"ARIMAX Algorithm\", round(test_MAE1,3)]) # for the results of MAE \n",
    "x.add_row([\"SARIMAX Algorithm\", round(test_MAE2,3)]) # for the results of MAE \n",
    "x.add_row([\"MLP Algorithm\", round(test_MAE3,3)]) # for the results of MAE \n",
    "x.add_row([\"Ridge Algorithm\", round(test_MAE7,3)]) # for the results of MAE  \n",
    "x.add_row([\"Random Forest Algorithm\", round(test_MAE8,3)]) # for the results of MAE \n",
    "x.add_row([\"XGB Algorithm\", round(test_MAE9,3)]) # for the results of MAE \n",
    "\n",
    "print(x) # printing the table"
   ]
  },
  {
   "cell_type": "markdown",
   "id": "5aee9427",
   "metadata": {
    "id": "e565e5df"
   },
   "source": [
    "# Comparison of all algorithms Results on RMSE score"
   ]
  },
  {
   "cell_type": "code",
   "execution_count": null,
   "id": "04b01854",
   "metadata": {
    "colab": {
     "base_uri": "https://localhost:8080/"
    },
    "id": "f6d34ed7",
    "outputId": "8d0c8a32-99ef-418d-db12-c8acc6d0c37d",
    "scrolled": true
   },
   "outputs": [],
   "source": [
    "x = PrettyTable() #calling prettytable for the table \n",
    "print('\\n') # for new line \n",
    "print(\"Comparison of all algorithms\") # for  title \n",
    "x.field_names = [\"Model\", \"RMSE score\"] # for  column names \n",
    "\n",
    "x.add_row([\"ARIMAX Algorithm\", round(test_rmse1,3)]) # for the results of rmse \n",
    "x.add_row([\"SARIMAX Algorithm\", round(test_rmse2,3)]) # for the results of rmse \n",
    "x.add_row([\"MLP Algorithm\", round(test_rmse3,3)]) # for the results of rmse \n",
    "x.add_row([\"Ridge Algorithm\", round(test_rmse7,3)]) # for the results of rmse \n",
    "x.add_row([\"Random Forest Algorithm\", round(test_rmse8,3)]) # for the results of rmse \n",
    "x.add_row([\"XGB Algorithm\", round(test_rmse9,3)]) # for the results of rmse \n",
    "\n",
    "\n",
    "\n",
    "print(x) # printing the table \n",
    "print('\\n') #new line "
   ]
  },
  {
   "cell_type": "markdown",
   "id": "e8a86123",
   "metadata": {
    "id": "67e4b146"
   },
   "source": [
    "# Comparison of all algorithms Results on MAPE score"
   ]
  },
  {
   "cell_type": "code",
   "execution_count": null,
   "id": "54c6dc58",
   "metadata": {
    "colab": {
     "base_uri": "https://localhost:8080/"
    },
    "id": "c997a937",
    "outputId": "97ca14ae-88ef-4e06-aeb0-40ae55b3ce39",
    "scrolled": false
   },
   "outputs": [],
   "source": [
    "x = PrettyTable() #calling prettytable for the table \n",
    "print('\\n') # for new line \n",
    "print(\"Comparison of all algorithms\") # for  title \n",
    "x.field_names = [\"Model\", \"MAPE score\"] # for  column names \n",
    "\n",
    "x.add_row([\"ARIMAX Algorithm\", round(test_mape1,3)]) # for the results of mape \n",
    "x.add_row([\"SARIMAX Algorithm\", round(test_mape2,3)]) # for the results of mape \n",
    "x.add_row([\"MLP Algorithm\", round(test_mape3,3)]) # for the results of mape \n",
    "x.add_row([\"Ridge Algorithm\", round(test_mape7,3)]) # for the results of mape \n",
    "x.add_row([\"Random Forest Algorithm\", round(test_mape8,3)]) # for the results of mape \n",
    "x.add_row([\"XGB Algorithm\", round(test_mape9,3)]) # for the results of mape \n",
    "\n",
    "\n",
    "print(x) # printing the table \n",
    "print('\\n') #new line "
   ]
  }
 ],
 "metadata": {
  "colab": {
   "collapsed_sections": [
    "551b0675",
    "d998dc9c",
    "730e175f",
    "81e417ea",
    "84b32d8e",
    "9520a0d9",
    "43e6f9a4",
    "f83f7e20",
    "ad95b17f",
    "33c07bfe",
    "0b6205cc",
    "52333f25",
    "61c9d100",
    "h3QT9P9OMZ-7",
    "0dbc04db",
    "564d00c7",
    "4902bc8d",
    "149b8f12",
    "d65c4cb0",
    "27747d0a",
    "aa537618",
    "aadcaafa",
    "100e989e",
    "f8822ca5",
    "24c7a86b",
    "cd768cce",
    "e5cb8cb1",
    "30ee8f14",
    "24e5d5ba",
    "4321abf1",
    "c6adc85e",
    "264cc82e",
    "dad9a2a5",
    "e30c698e",
    "59fe3989",
    "a6d95fb7",
    "2321c33b",
    "f40c5adf",
    "9b387b65",
    "c610f1c7",
    "2cb40234",
    "6cd46073",
    "036e1457",
    "ca934a25",
    "77738e90",
    "a9b2b0e2",
    "f12a31db",
    "7d0cf697",
    "7ca98e87",
    "957be225",
    "47015631",
    "aaa88b65",
    "3aa6dbe6",
    "d419c43b",
    "fe5606cb",
    "08d19da3",
    "ae158bc8",
    "4254bd69",
    "59cb31c8",
    "49e20662",
    "82f1308f",
    "7176c2ff",
    "845e650b",
    "49cdda7e",
    "1520c012",
    "7db510fc",
    "f1b2e4b5",
    "02ed8d01",
    "d11c5b05",
    "f10d9897",
    "21e75249",
    "bdbec6b8",
    "a459ec52",
    "727564cd",
    "d1d13856",
    "fe04678f",
    "4824aff6",
    "5c6d4fe2",
    "333f6c2d",
    "9e0f001e",
    "d65f65e0",
    "80f80d59",
    "316796c4",
    "67152a14",
    "62204063",
    "e4bdcd85",
    "9de31d6f",
    "3a3b72f1",
    "39fa63be",
    "6a518a0a",
    "d371f31e",
    "776ed253",
    "b5cf2d9c",
    "d0ade074",
    "20050f8e",
    "c95a6a62",
    "47738353",
    "aebc24ae",
    "e4602a85",
    "6ee11c4c",
    "94b6b424",
    "2708f931",
    "661a8b18",
    "00274d05",
    "e565e5df",
    "67e4b146",
    "87f88cfc",
    "01f8f3e4",
    "b60c9078",
    "e5a9877d",
    "4ee06c8d",
    "773bb3ae",
    "98194cd4"
   ],
   "name": "ML Models With Indicators (ADA).ipynb",
   "provenance": []
  },
  "kernelspec": {
   "display_name": "Python 3 (ipykernel)",
   "language": "python",
   "name": "python3"
  },
  "language_info": {
   "codemirror_mode": {
    "name": "ipython",
    "version": 3
   },
   "file_extension": ".py",
   "mimetype": "text/x-python",
   "name": "python",
   "nbconvert_exporter": "python",
   "pygments_lexer": "ipython3",
   "version": "3.8.3"
  }
 },
 "nbformat": 4,
 "nbformat_minor": 5
}
